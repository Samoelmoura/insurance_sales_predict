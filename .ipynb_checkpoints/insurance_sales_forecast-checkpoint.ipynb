{
 "cells": [
  {
   "cell_type": "markdown",
   "id": "b67db67d",
   "metadata": {
    "heading_collapsed": true
   },
   "source": [
    "# 0.0 Business Problem"
   ]
  },
  {
   "cell_type": "markdown",
   "id": "51af2a17",
   "metadata": {
    "heading_collapsed": true,
    "hidden": true
   },
   "source": [
    "## Estágio do projeto:\n",
    "Ciclo 4: Criar as hipóteses de negócio\n",
    "\n",
    "## 0.1 Contexto:\n",
    "A Insurance All é uma empresa que fornece seguro de saúde para seus clientes e o time de produtos está analisando a possibilidade de oferecer aos assegurados, um novo produto: Um seguro de automóveis.\n",
    "\n",
    "Assim como o seguro de saúde, os clientes desse novo plano de seguro de automóveis precisam pagar um valor anualmente à Insurance All para obter um valor assegurado pela empresa, destinado aos custos de um eventual acidente ou dano ao veículo.\n",
    "\n",
    "A Insurance All fez uma pesquisa com cerca de 380 mil clientes sobre o interesse em aderir a um novo produto de seguro de automóveis, no ano passado. Todos os clientes demonstraram interesse ou não em adquirir o seguro de automóvel e essas respostas ficaram salvas em um banco de dados junto com outros atributos dos clientes.\n",
    "\n",
    "O time de produtos selecionou 127 mil novos clientes que não responderam a pesquisa para participar de uma campanha, no qual receberão a oferta do novo produto de seguro de automóveis. A oferta será feita pelo time de vendas através de ligações telefônicas.\n",
    "\n",
    "Projeto retirado do Blog Seja Um Data Scientist\n",
    "https://sejaumdatascientist.com/como-usar-data-science-para-fazer-a-empresa-vender-mais/\n",
    "\n",
    "Projeto original disponível na plataforma Kaggle\n",
    "https://www.kaggle.com/anmolkumar/health-insurance-cross-sell-prediction\n",
    "\n",
    "\n",
    "## 0.2 Estratégia da Solução:\n",
    "\n",
    "#### 0.2.1 Objetivos:\n",
    "1. Principais Insights sobre os atributos mais relevantes de clientes interessados em adquirir um seguro de automóvel.\n",
    "2. Qual a porcentagem de clientes interessados em adquirir um seguro de automóvel, o time de vendas conseguirá contatar fazendo 20.000 ligações?\n",
    "3. E se a capacidade do time de vendas aumentar para 40.000 ligações, qual a porcentagem de clientes interessados em adquirir um seguro de automóvel o time de vendas conseguirá contatar?\n",
    "4. Quantas ligações o time de vendas precisa fazer para contatar 80% dos clientes interessados em adquirir um seguro de automóvel?\n",
    "\n",
    "#### 0.2.2 Proposta de Solução:\n",
    "1. Gráficos e estudos de como as features se relacionam com a variávei alvo, individualmente ou combinadas através de Exploratory Data Analysis e Descriptive Statistics.\n",
    "2. Treinar um modelo de Machine Learning, scorar os clientes, priorizar os clientes segundo suas probabilidades de sucesso, utilizar das métricas para criar cenários com os 20.000 melhores.\n",
    "3. Utilizar do modelo anterior e criar cenários com os 40.000 melhores.\n",
    "4. Utilizar do modelo anterior, definir curva de probabilidades para todos os clientes e identificar ponto crítico.\n",
    "\n",
    "#### 0.2.3 Inputs:\n",
    "1. Problema de negócio\n",
    "2. Conjunto de dados com características de 380.000 clientes e as suas respostas sobre interesse em adquirir um seguro de automóveis.\n",
    "\n",
    "#### 0.2.4 Outputs:\n",
    "1. Gráficos e parâmetros em uma tabela no notebook (Gráfico / Parâmetros)\n",
    "2. Resposta objetiva em um notebook (Uma porcentagem)\n",
    "3. Resposta objetiva em um notebook (Uma porcentagem)\n",
    "4. Resposta objetiva em um notebook (Um número absoluto)\n",
    "5. Tabela de banco de dados SQL com todas as classificações\n",
    "6. API com request/predict do tipo: | v1 | v2 | v3 | - 1/0\n",
    "\n",
    "#### 0.2.5 Ciclos:\n",
    "1. Pipeline de dados, funcional, de ponta a ponta (desde a coleta de dados até o \n",
    "    treinamento do modelo)\n",
    "2. Entender os dados e limpa-los (buscar inconsistências) Análises de estatística\n",
    "    descritiva de primeira ordem\n",
    "3. Feature Engineering (criar variáveis que modelam o fenômeno)\n",
    "4. Criar as hipóteses de negócio\n",
    "5. Análise exploratória de dados para validar ou refutar hióteses\n",
    "6. Definir métricas e treinar o modelo\n",
    "7. Analisar métricas\n",
    "8. Resultados e Conclusão\n",
    "\n",
    "## 0.3 Sumário:\n",
    "\n",
    "## 0.4 Resultados e Conclusão:"
   ]
  },
  {
   "cell_type": "markdown",
   "id": "69ac0842",
   "metadata": {
    "heading_collapsed": true,
    "id": "KmKyIjY3pcTq"
   },
   "source": [
    "# 1.0 Imports"
   ]
  },
  {
   "cell_type": "code",
   "execution_count": 1,
   "id": "db3d4ab7",
   "metadata": {
    "ExecuteTime": {
     "end_time": "2021-07-22T14:30:19.990304Z",
     "start_time": "2021-07-22T14:30:11.967235Z"
    },
    "colab": {
     "base_uri": "https://localhost:8080/"
    },
    "hidden": true,
    "id": "SHBv4yxbbFyB",
    "outputId": "7186d52e-c9a4-4e37-b0ac-5fdb969f5757"
   },
   "outputs": [
    {
     "ename": "ModuleNotFoundError",
     "evalue": "No module named 'boruta'",
     "output_type": "error",
     "traceback": [
      "\u001b[1;31m---------------------------------------------------------------------------\u001b[0m",
      "\u001b[1;31mModuleNotFoundError\u001b[0m                       Traceback (most recent call last)",
      "\u001b[1;32m<ipython-input-1-897200a66347>\u001b[0m in \u001b[0;36m<module>\u001b[1;34m\u001b[0m\n\u001b[0;32m     19\u001b[0m \u001b[1;32mfrom\u001b[0m \u001b[0mxgboost\u001b[0m \u001b[1;32mimport\u001b[0m \u001b[0mXGBClassifier\u001b[0m\u001b[1;33m\u001b[0m\u001b[1;33m\u001b[0m\u001b[0m\n\u001b[0;32m     20\u001b[0m \u001b[1;33m\u001b[0m\u001b[0m\n\u001b[1;32m---> 21\u001b[1;33m \u001b[1;32mfrom\u001b[0m \u001b[0mboruta\u001b[0m \u001b[1;32mimport\u001b[0m \u001b[0mBorutaPy\u001b[0m\u001b[1;33m\u001b[0m\u001b[1;33m\u001b[0m\u001b[0m\n\u001b[0m\u001b[0;32m     22\u001b[0m \u001b[1;33m\u001b[0m\u001b[0m\n\u001b[0;32m     23\u001b[0m \u001b[1;32mfrom\u001b[0m \u001b[0mimblearn\u001b[0m\u001b[1;33m.\u001b[0m\u001b[0mover_sampling\u001b[0m \u001b[1;32mimport\u001b[0m \u001b[0mSMOTE\u001b[0m\u001b[1;33m\u001b[0m\u001b[1;33m\u001b[0m\u001b[0m\n",
      "\u001b[1;31mModuleNotFoundError\u001b[0m: No module named 'boruta'"
     ]
    }
   ],
   "source": [
    "import pandas as pd\n",
    "import numpy as np\n",
    "import matplotlib.pyplot as plt\n",
    "import seaborn as sns\n",
    "\n",
    "from sklearn.model_selection import train_test_split\n",
    "from sklearn.linear_model import LogisticRegression\n",
    "from sklearn.preprocessing import StandardScaler\n",
    "from sklearn.metrics import classification_report, roc_auc_score, accuracy_score\n",
    "from sklearn.decomposition import PCA\n",
    "from sklearn.ensemble import RandomForestClassifier\n",
    "from sklearn.feature_selection import RFE\n",
    "from sklearn.preprocessing import LabelEncoder\n",
    "from sklearn.svm import SVC\n",
    "from sklearn.neighbors import KNeighborsClassifier\n",
    "\n",
    "from scipy.stats import shapiro, kstest\n",
    "\n",
    "from xgboost import XGBClassifier\n",
    "\n",
    "from boruta import BorutaPy\n",
    "\n",
    "from imblearn.over_sampling import SMOTE\n",
    "from imblearn.under_sampling import NearMiss\n",
    "\n",
    "from scipy.stats import ttest_ind\n",
    "\n",
    "import time\n",
    "import warnings\n",
    "\n",
    "sns.set(style='darkgrid')\n",
    "warnings.simplefilter(action='ignore', category=FutureWarning)"
   ]
  },
  {
   "cell_type": "markdown",
   "id": "ce2d526c",
   "metadata": {
    "hidden": true
   },
   "source": [
    "**1.1 Creating Dataframes**"
   ]
  },
  {
   "cell_type": "code",
   "execution_count": null,
   "id": "6109b44a",
   "metadata": {
    "ExecuteTime": {
     "end_time": "2021-07-22T14:30:21.812093Z",
     "start_time": "2021-07-22T14:30:19.995309Z"
    },
    "hidden": true,
    "id": "A_vrsVlknJ2z"
   },
   "outputs": [],
   "source": [
    "# Tempo de processamento\n",
    "time_agora = time.time()\n",
    "\n",
    "# Carregando dataframes\n",
    "train = pd.read_csv(r'C:\\\\Users\\Notebook\\\\Google Drive\\\\Pessoal\\\\Projetos\\\\preditor_vendas_seguradora\\\\train.csv')\n",
    "test = pd.read_csv(r'C:\\\\Users\\Notebook\\\\Google Drive\\\\Pessoal\\\\Projetos\\\\preditor_vendas_seguradora\\\\test.csv')\n",
    "\n",
    "# Crianto Matrix com treino e teste\n",
    "matrix = pd.concat([train, test])\n",
    "\n",
    "# Criando coluna id para submission\n",
    "submission = pd.DataFrame()\n",
    "submission['id'] = test['id']"
   ]
  },
  {
   "cell_type": "markdown",
   "id": "259cb2fb",
   "metadata": {
    "hidden": true
   },
   "source": [
    "**1.2 Help Functions**"
   ]
  },
  {
   "cell_type": "code",
   "execution_count": null,
   "id": "788002e1",
   "metadata": {
    "ExecuteTime": {
     "end_time": "2021-07-22T14:30:21.845092Z",
     "start_time": "2021-07-22T14:30:21.816091Z"
    },
    "hidden": true,
    "id": "jNTVKMgs-wo2"
   },
   "outputs": [],
   "source": [
    "# Função inferência\n",
    "def comparar_features(series1, series2, confiança, qtd_amostras):\n",
    "    print('Series 1')\n",
    "    print(f'Média = {round(series1.mean(), 2)}')\n",
    "    print(f'Desvio padrão = {round(series1.std(), 2)}')\n",
    "    print()\n",
    "    print('Series 2')\n",
    "    print(f'Média = {round(series2.mean(), 2)}')\n",
    "    print(f'Desvio padrão = {round(series2.std(), 2)}')\n",
    "    aleatório1 = np.random.choice(series1.dropna(), qtd_amostras)\n",
    "    aleatório2 = np.random.choice(series2.dropna(), qtd_amostras)\n",
    "    stat, p = ttest_ind(aleatório1, aleatório2)\n",
    "    print(f'statistic = {round(stat, 2)}, p = {round(p, 2)}')\n",
    "  \n",
    "    if p < confiança:\n",
    "        print(f'\\nCom um p-valor igual à {round(p, 2)}, as series são estatísticamente DIFERENTES com um grau de confiança de {round(100-confiança*100)}%')\n",
    "    if p > confiança:\n",
    "        print(f'\\nCom um p-valor igual à {round(p, 2)}, as series são estatísticamente IGUAIS com um grau de confiança de {round(100-confiança*100)}%')\n",
    "\n",
    "\n",
    "# Função buscar outlier pelo método do 6 Sigma\n",
    "def buscar_outlier(df, series):\n",
    "    média = df[series].mean()\n",
    "    desvio_padrão = df[series].std()\n",
    "    lis = média - (desvio_padrão * 3)\n",
    "    lss = média + (desvio_padrão * 3)\n",
    "    lista_outliers = df[(df[series] < lis) | (df[series] > lss)].index\n",
    "    return lista_outliers, lis, lss\n",
    "\n",
    "# Análise descritiva de primeira ordem\n",
    "def analise_descritiva(x):\n",
    "    print(f'A média da Series é: {round(np.mean(x), 2)}')\n",
    "    print(f'O valor máximo da Series é: {np.max(x)}')\n",
    "    print(f'O valor mínimo da Series é: {np.min(x)}')\n",
    "    print(f'O desvio padrão da Series é: {round(np.std(x), 2)}')\n",
    "    print(f'A curtose da Series é: {round(x.kurtosis(), 2)}')\n",
    "    print(f'A skew da Series é: {round(x.skew(), 2)}')\n",
    "    \n",
    "# Teste de Shapiro\n",
    "def teste_shapiro(df, series):\n",
    "    random_index = np.random.choice(df.index, 500)\n",
    "    temp = df.loc[random_index]\n",
    "    shapiro_test = shapiro(temp[series].dropna())\n",
    "    if shapiro_test.pvalue > 0.05:\n",
    "        print(f'Com um p-valor = {round(shapiro_test.pvalue, 3)}, e alpha de 5%, falha em rejeitar a hipótese nula.')\n",
    "    else:\n",
    "        print(f'Com um p-valor = {round(shapiro_test.pvalue, 3)}, e alpha de 5%, rejeita a hipótese nula.')"
   ]
  },
  {
   "cell_type": "markdown",
   "id": "2eecf223",
   "metadata": {
    "heading_collapsed": true,
    "id": "Mok1q9y5cpP-"
   },
   "source": [
    "# 2.0 General Analysis and Data Cleaning"
   ]
  },
  {
   "cell_type": "markdown",
   "id": "2404a497",
   "metadata": {
    "heading_collapsed": true,
    "hidden": true,
    "id": "OPCzm7YK0FxI"
   },
   "source": [
    "## 2.1 General Analysis"
   ]
  },
  {
   "cell_type": "code",
   "execution_count": null,
   "id": "2447cc4a",
   "metadata": {
    "ExecuteTime": {
     "end_time": "2021-07-22T14:30:21.912079Z",
     "start_time": "2021-07-22T14:30:21.851087Z"
    },
    "colab": {
     "base_uri": "https://localhost:8080/",
     "height": 0
    },
    "hidden": true,
    "id": "FhdmLhs-pFXH",
    "outputId": "9e3dabbb-51ee-4f2e-9523-3c887a2e44ef"
   },
   "outputs": [],
   "source": [
    "train.head()"
   ]
  },
  {
   "cell_type": "code",
   "execution_count": null,
   "id": "2a3195b3",
   "metadata": {
    "ExecuteTime": {
     "end_time": "2021-07-22T14:30:21.929081Z",
     "start_time": "2021-07-22T14:30:21.916081Z"
    },
    "colab": {
     "base_uri": "https://localhost:8080/"
    },
    "hidden": true,
    "id": "Zwy0E8ZIpLPl",
    "outputId": "92dac05e-4d44-4748-b5bd-068d3508e129"
   },
   "outputs": [],
   "source": [
    "train.shape"
   ]
  },
  {
   "cell_type": "code",
   "execution_count": null,
   "id": "2002f44c",
   "metadata": {
    "ExecuteTime": {
     "end_time": "2021-07-22T14:30:21.949074Z",
     "start_time": "2021-07-22T14:30:21.933077Z"
    },
    "colab": {
     "base_uri": "https://localhost:8080/"
    },
    "hidden": true,
    "id": "BR3AJxskpRTN",
    "outputId": "91bbf7cc-7a02-43fc-c5b0-0fffcda46562"
   },
   "outputs": [],
   "source": [
    "train.dtypes"
   ]
  },
  {
   "cell_type": "code",
   "execution_count": null,
   "id": "40f2a988",
   "metadata": {
    "ExecuteTime": {
     "end_time": "2021-07-22T14:30:22.172048Z",
     "start_time": "2021-07-22T14:30:21.953074Z"
    },
    "colab": {
     "base_uri": "https://localhost:8080/"
    },
    "hidden": true,
    "id": "MI1tbVODqV7w",
    "outputId": "531330d8-401f-473c-ad80-247536756b93"
   },
   "outputs": [],
   "source": [
    "train.info()"
   ]
  },
  {
   "cell_type": "markdown",
   "id": "1be1763d",
   "metadata": {
    "hidden": true,
    "id": "XRMPolchqY1f"
   },
   "source": [
    "Sem valores nulos"
   ]
  },
  {
   "cell_type": "code",
   "execution_count": null,
   "id": "c51d0503",
   "metadata": {
    "ExecuteTime": {
     "end_time": "2021-07-22T14:30:22.521011Z",
     "start_time": "2021-07-22T14:30:22.181049Z"
    },
    "colab": {
     "base_uri": "https://localhost:8080/",
     "height": 0
    },
    "hidden": true,
    "id": "R3zqwAqNtq0t",
    "outputId": "74ae0af1-3205-4f40-f697-53ba371ecfd9"
   },
   "outputs": [],
   "source": [
    "train.describe()"
   ]
  },
  {
   "cell_type": "markdown",
   "id": "339d5b38",
   "metadata": {
    "hidden": true,
    "id": "xBqRaNKnc2a5"
   },
   "source": [
    "Somente 12% dos clientes responderam positivamente sobre o interesse em adquirir um seguro de automóvel, que é a target (Response), possivelmente uma classe desbalanceada. Maior parte dos clientes são habilitados (Driving_License), a maior parte dos clientes não tem seguro de automóvel ainda (Previously_Insured), possíveis outliers em Annual_Premmium, idade mínima de 20 anos."
   ]
  },
  {
   "cell_type": "code",
   "execution_count": null,
   "id": "aecda21c",
   "metadata": {
    "ExecuteTime": {
     "end_time": "2021-07-22T14:30:23.013016Z",
     "start_time": "2021-07-22T14:30:22.528008Z"
    },
    "colab": {
     "base_uri": "https://localhost:8080/",
     "height": 0
    },
    "hidden": true,
    "id": "N5pVSioRcBFm",
    "outputId": "16e7df39-fd23-4eea-fb50-30f00345a1c3"
   },
   "outputs": [],
   "source": [
    "train.describe(include='object')"
   ]
  },
  {
   "cell_type": "markdown",
   "id": "681b72d0",
   "metadata": {
    "hidden": true
   },
   "source": [
    "As features Gender e Vehicle_Damage parecem balanceadas, a feature Vehicle_Age possui mais da metade dos clientes contidos na categoria 1-2 Year"
   ]
  },
  {
   "cell_type": "code",
   "execution_count": null,
   "id": "15c4e06b",
   "metadata": {
    "ExecuteTime": {
     "end_time": "2021-07-22T14:30:23.152936Z",
     "start_time": "2021-07-22T14:30:23.017955Z"
    },
    "colab": {
     "base_uri": "https://localhost:8080/"
    },
    "hidden": true,
    "id": "O_pq1IoyeFxb",
    "outputId": "41da4d0c-03ea-4eac-f028-a78d17a219d4",
    "scrolled": false
   },
   "outputs": [],
   "source": [
    "train['Vehicle_Age'].value_counts()"
   ]
  },
  {
   "cell_type": "markdown",
   "id": "6af8005d",
   "metadata": {
    "hidden": true,
    "id": "yZzSf1g1oPzS"
   },
   "source": [
    "Transformando as features categóricas em numéricas"
   ]
  },
  {
   "cell_type": "code",
   "execution_count": null,
   "id": "8edf904f",
   "metadata": {
    "ExecuteTime": {
     "end_time": "2021-07-22T14:30:24.398838Z",
     "start_time": "2021-07-22T14:30:23.156936Z"
    },
    "hidden": true,
    "id": "IzbJH6HSo3jg"
   },
   "outputs": [],
   "source": [
    "features_categóricas = ['Gender', 'Vehicle_Damage', 'Vehicle_Age']\n",
    "matrix['Gender_'] = matrix['Gender'].apply(lambda x: 0 if x == 'Male' else 1)\n",
    "matrix['Vehicle_Damage_'] = matrix['Vehicle_Damage'].apply(lambda x: 1 if x == 'Yes' else 0)\n",
    "matrix['Vehicle_Age_'] = matrix['Vehicle_Age'].apply(lambda x: 0 if x == '< 1 Year' else (1 if x == '1-2 Year' else 2))"
   ]
  },
  {
   "cell_type": "code",
   "execution_count": null,
   "id": "a4823a85",
   "metadata": {
    "ExecuteTime": {
     "end_time": "2021-07-22T14:30:25.198699Z",
     "start_time": "2021-07-22T14:30:24.401793Z"
    },
    "colab": {
     "base_uri": "https://localhost:8080/"
    },
    "hidden": true,
    "id": "iiaTcmrEmmPo",
    "outputId": "7e8a755b-9584-49f3-c690-33a036538d97"
   },
   "outputs": [],
   "source": [
    "matrix.drop('id', axis=1).corr()"
   ]
  },
  {
   "cell_type": "markdown",
   "id": "90426b12",
   "metadata": {
    "hidden": true,
    "id": "Q_41WFTvmo2P"
   },
   "source": [
    "A variável target é Response. Nota-se que ela tem correlação moderada negativa com Previously_Insured, o que faz sentido, correlações modereradas positivas com Vehicle_Age e Vehicle_Damage."
   ]
  },
  {
   "cell_type": "code",
   "execution_count": null,
   "id": "f405c9af",
   "metadata": {
    "ExecuteTime": {
     "end_time": "2021-07-22T14:30:28.643300Z",
     "start_time": "2021-07-22T14:30:25.202700Z"
    },
    "colab": {
     "base_uri": "https://localhost:8080/",
     "height": 0
    },
    "hidden": true,
    "id": "yBccjRsqnKCP",
    "outputId": "86acb38d-f178-4b45-bcfe-170e757313fa"
   },
   "outputs": [],
   "source": [
    "plt.figure(figsize=(16, 6))\n",
    "sns.heatmap(matrix.drop('id', axis=1).corr(), cmap='seismic', annot=True)"
   ]
  },
  {
   "cell_type": "markdown",
   "id": "e96c87ad",
   "metadata": {
    "hidden": true,
    "id": "irWFzb4yncOi"
   },
   "source": [
    "Correlações bastante fortes entre Age/Vehicle_Age, Vehicle_Damage/Previously_Insured, Age/Policy_Sales_Channel, Vehicle_Age/Previously_Insured e várias correlações moderadas."
   ]
  },
  {
   "cell_type": "markdown",
   "id": "683a91c9",
   "metadata": {
    "heading_collapsed": true,
    "hidden": true,
    "id": "MckMCsQfJXvw"
   },
   "source": [
    "## 2.2 Univariate Feature Analysis"
   ]
  },
  {
   "cell_type": "markdown",
   "id": "2c8a8925",
   "metadata": {
    "heading_collapsed": true,
    "hidden": true,
    "id": "Rxh_TYsxk5th"
   },
   "source": [
    "##### 2.2.1 Response (Target)"
   ]
  },
  {
   "cell_type": "markdown",
   "id": "274f6cd9",
   "metadata": {
    "hidden": true
   },
   "source": [
    "A Serie Response é a target do projeto e será bastante mencionada à seguir. Para uma melhor apresentação, adotaremos os termos \"Sucesso\", \"Ocorrência do evento\", \"Evento positivo\" ou ainda \"Interesse no produto\" para nos referirmos ao fato da amostra ou cliente ter respondido positivamente quanto ao interesse no seguro de automóveis, ou seja Response igual a 1."
   ]
  },
  {
   "cell_type": "markdown",
   "id": "e2e83db0",
   "metadata": {
    "hidden": true
   },
   "source": [
    "**Principais Insightes:**\n",
    "1. Há um desbalanceamento nos dados, com apenas 12% de eventos positivos.\n",
    "2. Correlações relativamente altas com: Vehicle_Damage, Previously_Insured, Vehicle_Damage, Vehicle_Age, Policy_Sales_Channel e Age"
   ]
  },
  {
   "cell_type": "code",
   "execution_count": null,
   "id": "8c389ff0",
   "metadata": {
    "ExecuteTime": {
     "end_time": "2021-07-22T14:30:29.291226Z",
     "start_time": "2021-07-22T14:30:28.646300Z"
    },
    "colab": {
     "base_uri": "https://localhost:8080/"
    },
    "hidden": true,
    "id": "o-0ofH6T8E9g",
    "outputId": "f305e247-72e9-41bf-f1c3-f6ac7cecddc0"
   },
   "outputs": [],
   "source": [
    "# correlações\n",
    "matrix.drop('id', axis=1).corr()['Response'].sort_values(ascending=False)"
   ]
  },
  {
   "cell_type": "markdown",
   "id": "3f2db384",
   "metadata": {
    "hidden": true
   },
   "source": [
    "Correlação fraca com Vehicle_Damage, Vehicle_Age e Previously_Insured"
   ]
  },
  {
   "cell_type": "code",
   "execution_count": null,
   "id": "b5d75b2c",
   "metadata": {
    "ExecuteTime": {
     "end_time": "2021-07-22T14:30:29.326218Z",
     "start_time": "2021-07-22T14:30:29.295223Z"
    },
    "colab": {
     "base_uri": "https://localhost:8080/"
    },
    "hidden": true,
    "id": "BwXowXbU6foU",
    "outputId": "890fc2bd-03ab-4271-d09d-af2a8799c6c0"
   },
   "outputs": [],
   "source": [
    "# quantitties\n",
    "matrix['Response'].value_counts(normalize=True)"
   ]
  },
  {
   "cell_type": "code",
   "execution_count": null,
   "id": "5cf1d6c9",
   "metadata": {
    "ExecuteTime": {
     "end_time": "2021-07-22T14:30:29.865159Z",
     "start_time": "2021-07-22T14:30:29.330220Z"
    },
    "colab": {
     "base_uri": "https://localhost:8080/",
     "height": 0
    },
    "hidden": true,
    "id": "zekxp5lw6QOB",
    "outputId": "809aaf36-183e-4215-8fa0-bd553f47c5c8"
   },
   "outputs": [],
   "source": [
    "sns.countplot(matrix['Response'])"
   ]
  },
  {
   "cell_type": "markdown",
   "id": "aed45a30",
   "metadata": {
    "heading_collapsed": true,
    "hidden": true,
    "id": "eDoUsdG9y0wX"
   },
   "source": [
    "##### 2.2.2 Annual_Premium"
   ]
  },
  {
   "cell_type": "markdown",
   "id": "365c21ce",
   "metadata": {
    "heading_collapsed": true,
    "hidden": true
   },
   "source": [
    "###### Principais Insights\n",
    "\n",
    "1. A feature apresenta duas distribuições bastante distintas, dois modelos de negócio diferentes, em um caso os clientes contratam um seguro de vida por um valor fixo de 2630 dolares (chamaremos de nicho 1), e no outro caso são contratos de valores com variavel do tipo contínua, sem valores pré-estipulados, imprescindivelmente superiores a 2630 dolares (chamaremos de nicho 2).\n",
    "2. A separação por sí só não modela bem o evento, os dois nichos não têm uma probabilidade do evento de sucesso com diferença significativa.\n",
    "3. O Nicho 1 tem 13% de probabilidade do evento de sucesso. O Nicho 2 tem uma probabilidade de 11% no evento de sucesso nos primeiros três quartis da distribuição, acima do terceiro quartil o interesse no evento positivo sobe para 14%."
   ]
  },
  {
   "cell_type": "markdown",
   "id": "9ecdac28",
   "metadata": {
    "heading_collapsed": true,
    "hidden": true
   },
   "source": [
    "###### First Order Descriptive Analysis"
   ]
  },
  {
   "cell_type": "code",
   "execution_count": null,
   "id": "ab9d8bdc",
   "metadata": {
    "ExecuteTime": {
     "end_time": "2021-07-22T14:30:29.941150Z",
     "start_time": "2021-07-22T14:30:29.869156Z"
    },
    "hidden": true,
    "scrolled": true
   },
   "outputs": [],
   "source": [
    "analise_descritiva(matrix['Annual_Premium'])"
   ]
  },
  {
   "cell_type": "markdown",
   "id": "56f553b2",
   "metadata": {
    "hidden": true
   },
   "source": [
    "Valor máximo bastante alto em relação à média, cauda direita mais pesada"
   ]
  },
  {
   "cell_type": "markdown",
   "id": "26ea0c0f",
   "metadata": {
    "heading_collapsed": true,
    "hidden": true
   },
   "source": [
    "###### General Analysis"
   ]
  },
  {
   "cell_type": "code",
   "execution_count": null,
   "id": "15ddb206",
   "metadata": {
    "ExecuteTime": {
     "end_time": "2021-07-22T14:30:30.579072Z",
     "start_time": "2021-07-22T14:30:29.945150Z"
    },
    "hidden": true
   },
   "outputs": [],
   "source": [
    "# correlations\n",
    "matrix.drop('id', axis=1).corr()['Annual_Premium'].sort_values(ascending=False)"
   ]
  },
  {
   "cell_type": "markdown",
   "id": "e0566103",
   "metadata": {
    "hidden": true
   },
   "source": [
    "Correlações muito fracas"
   ]
  },
  {
   "cell_type": "markdown",
   "id": "cd6fe696",
   "metadata": {
    "hidden": true
   },
   "source": [
    "Inferência entre treino e teste"
   ]
  },
  {
   "cell_type": "code",
   "execution_count": null,
   "id": "27ebfee6",
   "metadata": {
    "ExecuteTime": {
     "end_time": "2021-07-22T14:30:30.630069Z",
     "start_time": "2021-07-22T14:30:30.583074Z"
    },
    "hidden": true,
    "scrolled": true
   },
   "outputs": [],
   "source": [
    "comparar_features(train['Annual_Premium'], test['Annual_Premium'], 0.05, 400)"
   ]
  },
  {
   "cell_type": "markdown",
   "id": "7cf07aad",
   "metadata": {
    "hidden": true
   },
   "source": [
    "Treino e teste com distribuições parecidas"
   ]
  },
  {
   "cell_type": "markdown",
   "id": "2b66f11c",
   "metadata": {
    "hidden": true,
    "id": "s98SvocH9CKa"
   },
   "source": [
    "Outliers estão atrapalhando a visualização. Nos próximos tópicos os outliers serão tratados, mas para esse momento valores visualmente discrepantes serão removidos temporariamente para possibilitar uma melhor análise."
   ]
  },
  {
   "cell_type": "code",
   "execution_count": null,
   "id": "2ad913ab",
   "metadata": {
    "ExecuteTime": {
     "end_time": "2021-07-22T14:30:39.685072Z",
     "start_time": "2021-07-22T14:30:30.634070Z"
    },
    "colab": {
     "base_uri": "https://localhost:8080/",
     "height": 204
    },
    "hidden": true,
    "id": "Sz0sqo9e9KsB",
    "outputId": "9c5079b7-5977-4aa1-d4df-09ad7a7875b1"
   },
   "outputs": [],
   "source": [
    "temp = matrix[matrix['Annual_Premium'] < 100000]\n",
    "plt.figure(figsize=(16, 6))\n",
    "plt.subplot(3, 1, 1)\n",
    "g = sns.histplot(temp['Annual_Premium'])\n",
    "plt.subplot(3, 1, 2)\n",
    "g = sns.histplot(temp.loc[temp['Response']==0, 'Annual_Premium'], alpha=0.5, color='r')\n",
    "g = sns.histplot(temp.loc[temp['Response']==1, 'Annual_Premium'], alpha=0.5, color='b')\n",
    "plt.subplot(3, 1, 3)\n",
    "g = sns.kdeplot(temp.loc[temp['Response']==0, 'Annual_Premium'], shade=True, color='r')\n",
    "g = sns.kdeplot(temp.loc[temp['Response']==1, 'Annual_Premium'], shade=True, color='b')"
   ]
  },
  {
   "cell_type": "markdown",
   "id": "42601c4a",
   "metadata": {
    "hidden": true,
    "id": "KFnKb7W9Cw0Q"
   },
   "source": [
    "Claramente são dois nichos de clientes, dois clusteres. O cluster de clientes com Annual_Premium baixo está com o valor fixo de 2630.00. Uma feature binária que separa os nichos será criada (High_Annual_Premium) para possibilitar estudá-las separadamente."
   ]
  },
  {
   "cell_type": "markdown",
   "id": "8f30df7e",
   "metadata": {
    "heading_collapsed": true,
    "hidden": true
   },
   "source": [
    "###### Nichos Distintos"
   ]
  },
  {
   "cell_type": "code",
   "execution_count": null,
   "id": "a9b17217",
   "metadata": {
    "ExecuteTime": {
     "end_time": "2021-07-22T14:30:40.312992Z",
     "start_time": "2021-07-22T14:30:39.688017Z"
    },
    "hidden": true,
    "id": "FaVkUnh_ioE1"
   },
   "outputs": [],
   "source": [
    "matrix['High_Annual_Premium'] = matrix['Annual_Premium'].apply(lambda x: 0 if x == 2630 else 1)\n",
    "train = matrix[matrix['Response'].notnull()]\n",
    "test = matrix[matrix['Response'].isnull()]"
   ]
  },
  {
   "cell_type": "code",
   "execution_count": null,
   "id": "9f187b10",
   "metadata": {
    "ExecuteTime": {
     "end_time": "2021-07-22T14:30:40.359939Z",
     "start_time": "2021-07-22T14:30:40.315948Z"
    },
    "hidden": true
   },
   "outputs": [],
   "source": [
    "print(f'Média do Nicho 1 = {round(matrix.loc[matrix[\"High_Annual_Premium\"]==0, \"Response\"].mean(), 2)}')\n",
    "print(f'Média do Nicho 2 = {round(matrix.loc[matrix[\"High_Annual_Premium\"]==1, \"Response\"].mean(), 2)}')"
   ]
  },
  {
   "cell_type": "markdown",
   "id": "e62804ce",
   "metadata": {
    "hidden": true
   },
   "source": [
    "Os nichos em sí não apresentam diferenças em relação ao evento de Sucesso."
   ]
  },
  {
   "cell_type": "code",
   "execution_count": null,
   "id": "d1d71b7a",
   "metadata": {
    "ExecuteTime": {
     "end_time": "2021-07-22T14:30:45.355391Z",
     "start_time": "2021-07-22T14:30:40.373938Z"
    },
    "hidden": true
   },
   "outputs": [],
   "source": [
    "temp = matrix[matrix['Annual_Premium']<100000]\n",
    "plt.figure(figsize=(16, 3))\n",
    "g = sns.kdeplot(temp[(temp['Response']==0)&(temp['High_Annual_Premium']==1)]['Annual_Premium'], shade=True, color='r')\n",
    "g = sns.kdeplot(temp[(temp['Response']==1)&(temp['High_Annual_Premium']==1)]['Annual_Premium'], shade=True, color='b')"
   ]
  },
  {
   "cell_type": "code",
   "execution_count": null,
   "id": "48be55c6",
   "metadata": {
    "ExecuteTime": {
     "end_time": "2021-07-22T14:30:50.736736Z",
     "start_time": "2021-07-22T14:30:45.364360Z"
    },
    "hidden": true
   },
   "outputs": [],
   "source": [
    "temp = matrix[matrix['Annual_Premium']<100000]\n",
    "plt.figure(figsize=(16, 3))\n",
    "plt.xlim(33000, 38000)\n",
    "g = sns.kdeplot(temp[(temp['Response']==0)&(temp['High_Annual_Premium']==1)]['Annual_Premium'], shade=True, color='r')\n",
    "g = sns.kdeplot(temp[(temp['Response']==1)&(temp['High_Annual_Premium']==1)]['Annual_Premium'], shade=True, color='b')"
   ]
  },
  {
   "cell_type": "markdown",
   "id": "8dd5b908",
   "metadata": {
    "hidden": true
   },
   "source": [
    "Aparentemente há um ponto próximo ao 35000 em que há relativamente maior ocorrência do evento de sucesso"
   ]
  },
  {
   "cell_type": "code",
   "execution_count": null,
   "id": "cf55243b",
   "metadata": {
    "ExecuteTime": {
     "end_time": "2021-07-22T14:30:50.830727Z",
     "start_time": "2021-07-22T14:30:50.741736Z"
    },
    "hidden": true
   },
   "outputs": [],
   "source": [
    "matrix.loc[matrix['Annual_Premium'] >= 35000, 'temp'] = 1\n",
    "matrix['temp'].fillna(0, inplace=True)\n",
    "print(f'Média do abaixo do terceiro quartil = {round(matrix.loc[matrix[\"temp\"]==0, \"Response\"].mean(), 2)}')\n",
    "print(f'Média do acima do terceiro quartil = {round(matrix.loc[matrix[\"temp\"]==1, \"Response\"].mean(), 2)}')"
   ]
  },
  {
   "cell_type": "code",
   "execution_count": null,
   "id": "2a40f67e",
   "metadata": {
    "ExecuteTime": {
     "end_time": "2021-07-22T14:31:28.963354Z",
     "start_time": "2021-07-22T14:30:50.835725Z"
    },
    "hidden": true
   },
   "outputs": [],
   "source": [
    "sns.catplot('temp', 'Response', data=matrix, kind='bar', height=3, aspect=3)"
   ]
  },
  {
   "cell_type": "code",
   "execution_count": null,
   "id": "06feddf1",
   "metadata": {
    "ExecuteTime": {
     "end_time": "2021-07-22T14:31:29.072291Z",
     "start_time": "2021-07-22T14:31:28.967304Z"
    },
    "hidden": true
   },
   "outputs": [],
   "source": [
    "matrix.drop('temp', axis=1, inplace=True)"
   ]
  },
  {
   "cell_type": "markdown",
   "id": "660cba85",
   "metadata": {
    "hidden": true
   },
   "source": [
    "Adicionando aleatoriedade"
   ]
  },
  {
   "cell_type": "code",
   "execution_count": null,
   "id": "b65ee7ae",
   "metadata": {
    "ExecuteTime": {
     "end_time": "2021-07-22T14:31:33.286848Z",
     "start_time": "2021-07-22T14:31:29.076290Z"
    },
    "hidden": true
   },
   "outputs": [],
   "source": [
    "plt.figure(figsize=(20, 6))\n",
    "for i in range(1, 10):\n",
    "    random_index = np.random.choice(matrix.index, 500)\n",
    "    temp = matrix.loc[random_index]\n",
    "    plt.subplot(3, 3, i)\n",
    "    g = sns.kdeplot(temp[(temp['Response']==0)&(temp['High_Annual_Premium']==1)]['Annual_Premium'], color='r', shade=True)\n",
    "    g = sns.kdeplot(temp[(temp['Response']==1)&(temp['High_Annual_Premium']==1)]['Annual_Premium'], color='b', shade=True)"
   ]
  },
  {
   "cell_type": "markdown",
   "id": "1475f7d8",
   "metadata": {
    "hidden": true
   },
   "source": [
    "Acima do terceiro quartil aparentemente a probabilidade do evento de sucesso aumenta mas não há um ponto de corte comum adicionando-se aleatoriedade."
   ]
  },
  {
   "cell_type": "markdown",
   "id": "cdfa1bff",
   "metadata": {
    "heading_collapsed": true,
    "hidden": true
   },
   "source": [
    "###### Distribuição"
   ]
  },
  {
   "cell_type": "code",
   "execution_count": null,
   "id": "e2be7454",
   "metadata": {
    "ExecuteTime": {
     "end_time": "2021-07-22T14:31:40.328986Z",
     "start_time": "2021-07-22T14:31:33.289802Z"
    },
    "colab": {
     "base_uri": "https://localhost:8080/",
     "height": 0
    },
    "hidden": true,
    "id": "Qtel_1gBrjtN",
    "outputId": "98dbe448-833b-46ca-a633-3a3305a1ba06",
    "scrolled": true
   },
   "outputs": [],
   "source": [
    "plt.figure(figsize=(16, 4))\n",
    "g = sns.histplot(matrix.loc[matrix['High_Annual_Premium']==1, 'Annual_Premium'])"
   ]
  },
  {
   "cell_type": "markdown",
   "id": "17b2a48c",
   "metadata": {
    "hidden": true,
    "id": "sjFpTGNUxnz-"
   },
   "source": [
    "Cauda direita mais pesada."
   ]
  },
  {
   "cell_type": "code",
   "execution_count": null,
   "id": "a75a2247",
   "metadata": {
    "ExecuteTime": {
     "end_time": "2021-07-22T14:31:41.015909Z",
     "start_time": "2021-07-22T14:31:40.331985Z"
    },
    "hidden": true
   },
   "outputs": [],
   "source": [
    "sns.boxplot(matrix.loc[matrix['High_Annual_Premium']==1, 'Annual_Premium'])"
   ]
  },
  {
   "cell_type": "markdown",
   "id": "e5cc5983",
   "metadata": {
    "hidden": true
   },
   "source": [
    "Não há indícios para acreditar que hajam erros de imputs observando-se o Boxplot."
   ]
  },
  {
   "cell_type": "markdown",
   "id": "ee213880",
   "metadata": {
    "hidden": true,
    "id": "sjFpTGNUxnz-"
   },
   "source": [
    "Talvez aplicando-se um log na base do número, podemos transformar os dados em uma distribuição normal."
   ]
  },
  {
   "cell_type": "code",
   "execution_count": null,
   "id": "57807b12",
   "metadata": {
    "ExecuteTime": {
     "end_time": "2021-07-22T14:31:42.559775Z",
     "start_time": "2021-07-22T14:31:41.019909Z"
    },
    "hidden": true,
    "id": "Hus59q2VtFxr"
   },
   "outputs": [],
   "source": [
    "matrix.loc[matrix['High_Annual_Premium']==1, 'Log_Annual_Premium'] = matrix[matrix['High_Annual_Premium']==1]['Annual_Premium'].apply(lambda x: np.log(x) if x != 0 else 0)"
   ]
  },
  {
   "cell_type": "code",
   "execution_count": null,
   "id": "58e69785",
   "metadata": {
    "ExecuteTime": {
     "end_time": "2021-07-22T14:31:45.327408Z",
     "start_time": "2021-07-22T14:31:42.563726Z"
    },
    "colab": {
     "base_uri": "https://localhost:8080/",
     "height": 0
    },
    "hidden": true,
    "id": "Qq3DEnJvujYk",
    "outputId": "cf735f73-56ec-45cb-af72-f5f0e9fbde14"
   },
   "outputs": [],
   "source": [
    "plt.figure(figsize=(16, 4))\n",
    "g = sns.histplot(matrix['Log_Annual_Premium'])"
   ]
  },
  {
   "cell_type": "markdown",
   "id": "fdcf6604",
   "metadata": {
    "hidden": true,
    "id": "74QjqnLKyZvg"
   },
   "source": [
    "Distribuição aparentemente normal"
   ]
  },
  {
   "cell_type": "code",
   "execution_count": null,
   "id": "1833147f",
   "metadata": {
    "ExecuteTime": {
     "end_time": "2021-07-22T14:31:45.423395Z",
     "start_time": "2021-07-22T14:31:45.331406Z"
    },
    "hidden": true
   },
   "outputs": [],
   "source": [
    "analise_descritiva(matrix.loc[matrix['High_Annual_Premium']==1, 'Log_Annual_Premium'])"
   ]
  },
  {
   "cell_type": "markdown",
   "id": "ae1042eb",
   "metadata": {
    "heading_collapsed": true,
    "hidden": true
   },
   "source": [
    "###### Teste de hipóstese"
   ]
  },
  {
   "cell_type": "markdown",
   "id": "dbc3fe56",
   "metadata": {
    "hidden": true
   },
   "source": [
    "Teste de hipóteses para verificar se a feature Log_Annual_Premium segue uma distribuição normal. Neste teste serão utilizados somente clientes do nicho 2, com um alpha de 0.05. \n",
    "1. Hipótese nula ou h0: Os dados são normalmente distribuídos.\n",
    "2. Hipótese alternativa ou h1: Os dados não são normalmente distribuídos."
   ]
  },
  {
   "cell_type": "code",
   "execution_count": null,
   "id": "9dfb6891",
   "metadata": {
    "ExecuteTime": {
     "end_time": "2021-07-22T14:31:45.616372Z",
     "start_time": "2021-07-22T14:31:45.427395Z"
    },
    "hidden": true
   },
   "outputs": [],
   "source": [
    "# Teste de Shapiro\n",
    "teste_shapiro(matrix, 'Log_Annual_Premium')"
   ]
  },
  {
   "cell_type": "markdown",
   "id": "a1c5af2b",
   "metadata": {
    "hidden": true
   },
   "source": [
    "Rejeita a hipótese nula. Apesar aparentar, os dados não seguem uma distribuição normal, há um peso maior na cauda direita com uma curtose de 0.56."
   ]
  },
  {
   "cell_type": "markdown",
   "id": "b96d56d3",
   "metadata": {
    "hidden": true
   },
   "source": [
    "Reintegrando Nicho 1 e Nicho 2 transformados"
   ]
  },
  {
   "cell_type": "code",
   "execution_count": null,
   "id": "b34d4f24",
   "metadata": {
    "ExecuteTime": {
     "end_time": "2021-07-22T14:31:45.637369Z",
     "start_time": "2021-07-22T14:31:45.621372Z"
    },
    "hidden": true,
    "id": "PrtReEZmWCUV"
   },
   "outputs": [],
   "source": [
    "# Incluindo novamente os clientes do nicho 1 para a matriz\n",
    "matrix['Log_Annual_Premium'].fillna(np.log(2630), inplace=True)"
   ]
  },
  {
   "cell_type": "code",
   "execution_count": null,
   "id": "c0486ec4",
   "metadata": {
    "ExecuteTime": {
     "end_time": "2021-07-22T14:31:45.716360Z",
     "start_time": "2021-07-22T14:31:45.643369Z"
    },
    "colab": {
     "base_uri": "https://localhost:8080/",
     "height": 0
    },
    "hidden": true,
    "id": "WR0gBf9bTyXp",
    "outputId": "a1bfd0bb-6e8a-43c1-c443-44d17ff0a7ae"
   },
   "outputs": [],
   "source": [
    "matrix[['Response', 'Log_Annual_Premium']].corr()"
   ]
  },
  {
   "cell_type": "markdown",
   "id": "f0e898ca",
   "metadata": {
    "hidden": true,
    "id": "LEUyhhOrT2C_"
   },
   "source": [
    "Baixa correlação"
   ]
  },
  {
   "cell_type": "markdown",
   "id": "f9a672ab",
   "metadata": {
    "heading_collapsed": true,
    "hidden": true,
    "id": "z9r0X3MrOluG"
   },
   "source": [
    "##### 2.2.3 Policy_Sales_Channel"
   ]
  },
  {
   "cell_type": "markdown",
   "id": "ccb4d7c7",
   "metadata": {
    "heading_collapsed": true,
    "hidden": true
   },
   "source": [
    "###### Principais Insights:\n",
    "\n",
    "1. Há 157 canais diferentes de vendas, mas há três principais canais que somam 75% de todos os dados.\n",
    "2. Os três principais canais de vendas têm médias de ocorrência do evento sucesso bastante distantes da média do restante, os canais 26 e 124 têm uma boa média de ocorrência do evento com quase 20% de sucesso, enquanto o canal 152 tem uma média bastante baixa, por volta de 3%."
   ]
  },
  {
   "cell_type": "markdown",
   "id": "02894b03",
   "metadata": {
    "heading_collapsed": true,
    "hidden": true
   },
   "source": [
    "###### General Analysis"
   ]
  },
  {
   "cell_type": "code",
   "execution_count": null,
   "id": "f86db316",
   "metadata": {
    "ExecuteTime": {
     "end_time": "2021-07-22T14:31:46.628257Z",
     "start_time": "2021-07-22T14:31:45.720361Z"
    },
    "colab": {
     "base_uri": "https://localhost:8080/",
     "height": 0
    },
    "hidden": true,
    "id": "Zub5CDRWPmUx",
    "outputId": "4283f22a-83bc-470b-a208-bb1836f82048"
   },
   "outputs": [],
   "source": [
    "matrix.drop('id', axis=1).corr()['Policy_Sales_Channel'].sort_values(ascending=False)"
   ]
  },
  {
   "cell_type": "markdown",
   "id": "c8c9dfab",
   "metadata": {
    "hidden": true
   },
   "source": [
    "Correlação moderada com Age, Vehicle_Age, e fraca com Vehicle_Damage e Previously_Insured "
   ]
  },
  {
   "cell_type": "code",
   "execution_count": null,
   "id": "6a67f5f5",
   "metadata": {
    "ExecuteTime": {
     "end_time": "2021-07-22T14:31:46.678249Z",
     "start_time": "2021-07-22T14:31:46.633255Z"
    },
    "colab": {
     "base_uri": "https://localhost:8080/"
    },
    "hidden": true,
    "id": "D4wkASAXQLNA",
    "outputId": "9837289e-98de-479d-dde8-db6f2073676a"
   },
   "outputs": [],
   "source": [
    "matrix['Policy_Sales_Channel'].nunique()"
   ]
  },
  {
   "cell_type": "code",
   "execution_count": null,
   "id": "81e03eac",
   "metadata": {
    "ExecuteTime": {
     "end_time": "2021-07-22T14:32:02.939413Z",
     "start_time": "2021-07-22T14:31:46.682250Z"
    },
    "hidden": true
   },
   "outputs": [],
   "source": [
    "plt.figure(figsize=(20, 2))\n",
    "g = sns.countplot(matrix['Policy_Sales_Channel'])"
   ]
  },
  {
   "cell_type": "markdown",
   "id": "bda6fb0c",
   "metadata": {
    "hidden": true
   },
   "source": [
    "Três principais canais de vendas"
   ]
  },
  {
   "cell_type": "markdown",
   "id": "a5fb6321",
   "metadata": {
    "heading_collapsed": true,
    "hidden": true
   },
   "source": [
    "###### Principais Canais de Vendas"
   ]
  },
  {
   "cell_type": "code",
   "execution_count": null,
   "id": "40b82dd4",
   "metadata": {
    "ExecuteTime": {
     "end_time": "2021-07-22T14:32:02.987408Z",
     "start_time": "2021-07-22T14:32:02.943368Z"
    },
    "hidden": true
   },
   "outputs": [],
   "source": [
    "matrix['Policy_Sales_Channel'].value_counts(normalize=True).head(10)"
   ]
  },
  {
   "cell_type": "markdown",
   "id": "22ebd562",
   "metadata": {
    "hidden": true
   },
   "source": [
    "Os principais canais de vendas são: 152, 26 e 124, e juntos equivalem a 75% de toda a base"
   ]
  },
  {
   "cell_type": "code",
   "execution_count": null,
   "id": "65d0261f",
   "metadata": {
    "ExecuteTime": {
     "end_time": "2021-07-22T14:32:03.316323Z",
     "start_time": "2021-07-22T14:32:02.991358Z"
    },
    "hidden": true
   },
   "outputs": [],
   "source": [
    "temp = matrix.loc[(matrix['Policy_Sales_Channel'] == 152) | (matrix['Policy_Sales_Channel'] == 124) | (matrix['Policy_Sales_Channel'] == 26)]\n",
    "temp.groupby('Policy_Sales_Channel').mean()['Response']"
   ]
  },
  {
   "cell_type": "markdown",
   "id": "4b810316",
   "metadata": {
    "hidden": true
   },
   "source": [
    "Porcentagem do evento de sucesso interessantes"
   ]
  },
  {
   "cell_type": "code",
   "execution_count": null,
   "id": "bac8b83f",
   "metadata": {
    "ExecuteTime": {
     "end_time": "2021-07-22T14:32:08.771690Z",
     "start_time": "2021-07-22T14:32:03.320319Z"
    },
    "colab": {
     "base_uri": "https://localhost:8080/",
     "height": 0
    },
    "hidden": true,
    "id": "fYEZaZzV0fq6",
    "outputId": "98dcaa32-1e65-4017-b81d-3181981895f0"
   },
   "outputs": [],
   "source": [
    "plt.figure(figsize=(16, 6))\n",
    "plt.subplot(2, 1, 1)\n",
    "g = sns.histplot(matrix.loc[matrix['Response']==0, 'Policy_Sales_Channel'], alpha=0.5, color='r')\n",
    "g = sns.histplot(matrix.loc[matrix['Response']==1, 'Policy_Sales_Channel'], alpha=0.5, color='b')\n",
    "plt.subplot(2, 1, 2)\n",
    "g = sns.kdeplot(matrix.loc[matrix['Response']==0, 'Policy_Sales_Channel'], shade=True, color='r')\n",
    "g = sns.kdeplot(matrix.loc[matrix['Response']==1, 'Policy_Sales_Channel'], shade=True, color='b')"
   ]
  },
  {
   "cell_type": "markdown",
   "id": "644b00b9",
   "metadata": {
    "heading_collapsed": true,
    "hidden": true
   },
   "source": [
    "###### Porcentagem de vendas de cada Policy_Sales_Channel"
   ]
  },
  {
   "cell_type": "code",
   "execution_count": null,
   "id": "a5c875b0",
   "metadata": {
    "ExecuteTime": {
     "end_time": "2021-07-22T14:32:09.544597Z",
     "start_time": "2021-07-22T14:32:08.775687Z"
    },
    "hidden": true,
    "id": "q3R0LhpkcZKk"
   },
   "outputs": [],
   "source": [
    "temp = matrix.groupby('Policy_Sales_Channel').mean()\n",
    "sns.histplot(temp['Response'].sort_values(ascending=False), bins=10)"
   ]
  },
  {
   "cell_type": "markdown",
   "id": "d4ea29f6",
   "metadata": {
    "hidden": true
   },
   "source": [
    "Uma feature nova com as médias de Response por Policy_Sales_Channel será criada e estudada em outra sessão"
   ]
  },
  {
   "cell_type": "markdown",
   "id": "7f68f251",
   "metadata": {
    "heading_collapsed": true,
    "hidden": true,
    "id": "gHw7EZZBw8us"
   },
   "source": [
    "##### 2.2.4 Gender"
   ]
  },
  {
   "cell_type": "markdown",
   "id": "8977eccf",
   "metadata": {
    "heading_collapsed": true,
    "hidden": true
   },
   "source": [
    "###### Principais Insights:\n",
    "\n",
    "1. Há equilíbrio entre homens e mulheres no dataset, embora homens sejam maioria.\n",
    "2. Homens são em média, 28% mais interessados no produto em relação às mulheres."
   ]
  },
  {
   "cell_type": "markdown",
   "id": "a557c031",
   "metadata": {
    "heading_collapsed": true,
    "hidden": true
   },
   "source": [
    "###### General Analysis"
   ]
  },
  {
   "cell_type": "code",
   "execution_count": null,
   "id": "caf8c047",
   "metadata": {
    "ExecuteTime": {
     "end_time": "2021-07-22T14:32:10.418498Z",
     "start_time": "2021-07-22T14:32:09.548601Z"
    },
    "colab": {
     "base_uri": "https://localhost:8080/",
     "height": 0
    },
    "hidden": true,
    "id": "fs09UFHb1THj",
    "outputId": "28da01f8-830a-4452-8a2a-afd1f84140ad"
   },
   "outputs": [],
   "source": [
    "matrix.drop('id', axis=1).corr()['Gender_'].sort_values(ascending=False)"
   ]
  },
  {
   "cell_type": "markdown",
   "id": "f31ad1cd",
   "metadata": {
    "hidden": true
   },
   "source": [
    "Correlações muito baixas"
   ]
  },
  {
   "cell_type": "code",
   "execution_count": null,
   "id": "1c0fe5b2",
   "metadata": {
    "ExecuteTime": {
     "end_time": "2021-07-22T14:32:11.243447Z",
     "start_time": "2021-07-22T14:32:10.423496Z"
    },
    "hidden": true
   },
   "outputs": [],
   "source": [
    "sns.countplot(matrix['Gender'])"
   ]
  },
  {
   "cell_type": "markdown",
   "id": "53a45e79",
   "metadata": {
    "hidden": true
   },
   "source": [
    "Equilibrados"
   ]
  },
  {
   "cell_type": "code",
   "execution_count": null,
   "id": "7af4d2a6",
   "metadata": {
    "ExecuteTime": {
     "end_time": "2021-07-22T14:32:11.418383Z",
     "start_time": "2021-07-22T14:32:11.247400Z"
    },
    "colab": {
     "base_uri": "https://localhost:8080/"
    },
    "hidden": true,
    "id": "JZeEXazM2rrp",
    "outputId": "096a71e1-4a6c-4ec6-8569-bdf864a86573"
   },
   "outputs": [],
   "source": [
    "matrix[['Response', 'Gender']].value_counts(normalize=True).sort_index()"
   ]
  },
  {
   "cell_type": "code",
   "execution_count": null,
   "id": "0a1031f5",
   "metadata": {
    "ExecuteTime": {
     "end_time": "2021-07-22T14:32:32.324956Z",
     "start_time": "2021-07-22T14:32:11.422382Z"
    },
    "colab": {
     "base_uri": "https://localhost:8080/",
     "height": 0
    },
    "hidden": true,
    "id": "eLxHv6GX0Zy1",
    "outputId": "c6670239-2b76-4148-be2c-24045a4a1bc4"
   },
   "outputs": [],
   "source": [
    "sns.catplot(x='Gender', y='Response', data=matrix, kind='bar')"
   ]
  },
  {
   "cell_type": "markdown",
   "id": "172846f7",
   "metadata": {
    "hidden": true
   },
   "source": [
    "Homens parecem ter um interesse um pouco maior no produto"
   ]
  },
  {
   "cell_type": "markdown",
   "id": "d92f9a61",
   "metadata": {
    "heading_collapsed": true,
    "hidden": true,
    "id": "9W7h1PBWyahg"
   },
   "source": [
    "##### 2.2.5 Age"
   ]
  },
  {
   "cell_type": "markdown",
   "id": "e515768c",
   "metadata": {
    "hidden": true
   },
   "source": [
    "###### Principais Insights:\n",
    "\n",
    "1. Clientes com mais de 30 anos tem maior porcentagem de eventos positivos"
   ]
  },
  {
   "cell_type": "markdown",
   "id": "13d4804f",
   "metadata": {
    "heading_collapsed": true,
    "hidden": true
   },
   "source": [
    "###### First Order Descriptive Analysis"
   ]
  },
  {
   "cell_type": "code",
   "execution_count": null,
   "id": "90901ded",
   "metadata": {
    "ExecuteTime": {
     "end_time": "2021-07-22T14:32:32.395948Z",
     "start_time": "2021-07-22T14:32:32.328956Z"
    },
    "hidden": true,
    "scrolled": true
   },
   "outputs": [],
   "source": [
    "analise_descritiva(matrix['Age'])"
   ]
  },
  {
   "cell_type": "markdown",
   "id": "d2ffc34a",
   "metadata": {
    "heading_collapsed": true,
    "hidden": true
   },
   "source": [
    "###### General Analysis"
   ]
  },
  {
   "cell_type": "code",
   "execution_count": null,
   "id": "cfbca575",
   "metadata": {
    "ExecuteTime": {
     "end_time": "2021-07-22T14:32:32.430943Z",
     "start_time": "2021-07-22T14:32:32.400947Z"
    },
    "colab": {
     "base_uri": "https://localhost:8080/"
    },
    "hidden": true,
    "id": "QZ7PJTTLsApP",
    "outputId": "5912f0ff-259c-4d06-a388-2c5da33231df",
    "scrolled": true
   },
   "outputs": [],
   "source": [
    "comparar_features(train['Age'], test['Age'], 0.05, 400)"
   ]
  },
  {
   "cell_type": "markdown",
   "id": "8fc2f805",
   "metadata": {
    "hidden": true
   },
   "source": [
    "Treino e teste com distribuição igual"
   ]
  },
  {
   "cell_type": "code",
   "execution_count": null,
   "id": "789e2846",
   "metadata": {
    "ExecuteTime": {
     "end_time": "2021-07-22T14:32:33.311844Z",
     "start_time": "2021-07-22T14:32:32.434945Z"
    },
    "hidden": true
   },
   "outputs": [],
   "source": [
    "matrix.drop('id', axis=1).corr()['Age'].sort_values(ascending=False)"
   ]
  },
  {
   "cell_type": "markdown",
   "id": "de7b0a16",
   "metadata": {
    "hidden": true
   },
   "source": [
    "Correlação forte com Vehicle_Age, moderada com Policy_Sales_Channel e fraca com Vehicle_Damage e Previously_Insured"
   ]
  },
  {
   "cell_type": "code",
   "execution_count": null,
   "id": "a06103a2",
   "metadata": {
    "ExecuteTime": {
     "end_time": "2021-07-22T14:32:34.837664Z",
     "start_time": "2021-07-22T14:32:33.316841Z"
    },
    "hidden": true
   },
   "outputs": [],
   "source": [
    "sns.histplot(matrix['Age'])"
   ]
  },
  {
   "cell_type": "markdown",
   "id": "cb799352",
   "metadata": {
    "hidden": true
   },
   "source": [
    "Distribuição bimodal, possivelmente haja ligação com a distribuição bimodal da feature Annual_Premium"
   ]
  },
  {
   "cell_type": "markdown",
   "id": "b2042a90",
   "metadata": {
    "heading_collapsed": true,
    "hidden": true
   },
   "source": [
    "###### Faixas de idade com maior interesse no produto"
   ]
  },
  {
   "cell_type": "code",
   "execution_count": null,
   "id": "1e56f802",
   "metadata": {
    "ExecuteTime": {
     "end_time": "2021-07-22T14:32:42.546770Z",
     "start_time": "2021-07-22T14:32:34.842664Z"
    },
    "colab": {
     "base_uri": "https://localhost:8080/",
     "height": 0
    },
    "hidden": true,
    "id": "8UlG66ZMME6u",
    "outputId": "0458f46e-fc7e-4ef9-e5c1-9b853bcb9e0a",
    "scrolled": true
   },
   "outputs": [],
   "source": [
    "plt.figure(figsize=(16, 6))\n",
    "plt.subplot(3, 1, 1)\n",
    "g = sns.histplot(matrix['Age'])\n",
    "plt.subplot(3, 1, 2)\n",
    "g = sns.histplot(matrix.loc[matrix['Response']==0, 'Age'], alpha=0.5, color='r')\n",
    "g = sns.histplot(matrix.loc[matrix['Response']==1, 'Age'], alpha=0.5, color='b')\n",
    "plt.subplot(3, 1, 3)\n",
    "g = sns.kdeplot(matrix.loc[matrix['Response']==0, 'Age'], shade=True, color='r')\n",
    "g = sns.kdeplot(matrix.loc[matrix['Response']==1, 'Age'], shade=True, color='b')"
   ]
  },
  {
   "cell_type": "markdown",
   "id": "2f7d583c",
   "metadata": {
    "hidden": true,
    "id": "K6WNV4Tm1xea"
   },
   "source": [
    "Aparentemente clientes com mais de 30 anos tem maior interesse no produto"
   ]
  },
  {
   "cell_type": "markdown",
   "id": "b9b14b0b",
   "metadata": {
    "hidden": true,
    "id": "HSz4CrWvF0mP"
   },
   "source": [
    "Adicionando aleatoriedade"
   ]
  },
  {
   "cell_type": "code",
   "execution_count": null,
   "id": "d1395195",
   "metadata": {
    "ExecuteTime": {
     "end_time": "2021-07-22T14:32:46.391372Z",
     "start_time": "2021-07-22T14:32:42.549771Z"
    },
    "colab": {
     "base_uri": "https://localhost:8080/",
     "height": 0
    },
    "hidden": true,
    "id": "hNPTvIZiHVyL",
    "outputId": "f24c8e19-04e2-4cd9-f425-7cbe31419efc"
   },
   "outputs": [],
   "source": [
    "plt.figure(figsize=(20, 6))\n",
    "for i in range(1, 10):\n",
    "    random_index = np.random.choice(matrix.index, 500)\n",
    "    temp = matrix.loc[random_index]\n",
    "    plt.subplot(3, 3, i)\n",
    "    g = sns.kdeplot(temp.loc[temp['Response']==0, 'Age'], color='r', shade=True)\n",
    "    g = sns.kdeplot(temp.loc[temp['Response']==1, 'Age'], color='b', shade=True)"
   ]
  },
  {
   "cell_type": "markdown",
   "id": "e3a8f25f",
   "metadata": {
    "hidden": true,
    "id": "0i_T5ayQNs0s"
   },
   "source": [
    "Adicionando aleatoriedade o mesmo padrão se mantém, o que significa que há subgrupos de idades com mais propensão à contratar o seguro. "
   ]
  },
  {
   "cell_type": "markdown",
   "id": "d61faa11",
   "metadata": {
    "hidden": true,
    "id": "Kig8Z0BmOrqr"
   },
   "source": [
    "Dando zoom e encontrando onde as linhas se cruzam"
   ]
  },
  {
   "cell_type": "code",
   "execution_count": null,
   "id": "001f5afb",
   "metadata": {
    "ExecuteTime": {
     "end_time": "2021-07-22T14:32:51.033787Z",
     "start_time": "2021-07-22T14:32:46.394324Z"
    },
    "colab": {
     "base_uri": "https://localhost:8080/",
     "height": 0
    },
    "hidden": true,
    "id": "p4zWQ6-rOjaW",
    "outputId": "19fb96aa-f03d-424b-fc3d-fbf00d72d3f7"
   },
   "outputs": [],
   "source": [
    "plt.figure(figsize=(16, 6))\n",
    "plt.xlim(25, 35)\n",
    "g = sns.kdeplot(matrix.loc[matrix['Response']==0, 'Age'], color='r', shade=True)\n",
    "g = sns.kdeplot(matrix.loc[matrix['Response']==1, 'Age'], color='b', shade=True)"
   ]
  },
  {
   "cell_type": "markdown",
   "id": "feb2463b",
   "metadata": {
    "hidden": true,
    "id": "GEC5usMuOvrX"
   },
   "source": [
    "O pondo 30 divide o grupo 0 do grupo 1."
   ]
  },
  {
   "cell_type": "markdown",
   "id": "8a55549a",
   "metadata": {
    "heading_collapsed": true,
    "hidden": true
   },
   "source": [
    "###### Criando um subgrupo"
   ]
  },
  {
   "cell_type": "code",
   "execution_count": null,
   "id": "bd6fefb9",
   "metadata": {
    "ExecuteTime": {
     "end_time": "2021-07-22T14:32:51.087781Z",
     "start_time": "2021-07-22T14:32:51.036786Z"
    },
    "hidden": true
   },
   "outputs": [],
   "source": [
    "matrix.loc[matrix['Age']>=30, 'High_Age'] = 1\n",
    "matrix['High_Age'].fillna(0, inplace=True)"
   ]
  },
  {
   "cell_type": "code",
   "execution_count": null,
   "id": "ba7808e4",
   "metadata": {
    "ExecuteTime": {
     "end_time": "2021-07-22T14:32:51.210766Z",
     "start_time": "2021-07-22T14:32:51.090779Z"
    },
    "hidden": true
   },
   "outputs": [],
   "source": [
    "matrix[['High_Age', 'Response']].corr()"
   ]
  },
  {
   "cell_type": "markdown",
   "id": "042744ae",
   "metadata": {
    "hidden": true
   },
   "source": [
    "Correlação relativamente alta"
   ]
  },
  {
   "cell_type": "code",
   "execution_count": null,
   "id": "cebce88c",
   "metadata": {
    "ExecuteTime": {
     "end_time": "2021-07-22T14:33:11.493416Z",
     "start_time": "2021-07-22T14:32:51.214769Z"
    },
    "hidden": true
   },
   "outputs": [],
   "source": [
    "sns.catplot('High_Age', 'Response', data=matrix, kind='bar', height=3, aspect=3)"
   ]
  },
  {
   "cell_type": "markdown",
   "id": "6a498629",
   "metadata": {
    "heading_collapsed": true,
    "hidden": true
   },
   "source": [
    "###### Testando correlação entre as curvas bimodais de Age e Annual_Premium"
   ]
  },
  {
   "cell_type": "code",
   "execution_count": null,
   "id": "8584740c",
   "metadata": {
    "ExecuteTime": {
     "end_time": "2021-07-22T14:33:17.763739Z",
     "start_time": "2021-07-22T14:33:11.497413Z"
    },
    "hidden": true
   },
   "outputs": [],
   "source": [
    "g = sns.kdeplot(matrix.loc[matrix['High_Annual_Premium']==0, 'Age'], shade=True, color='r')\n",
    "g = sns.kdeplot(matrix.loc[matrix['High_Annual_Premium']==1, 'Age'], shade=True, color='b')"
   ]
  },
  {
   "cell_type": "markdown",
   "id": "768c127c",
   "metadata": {
    "hidden": true
   },
   "source": [
    "Sem correlação"
   ]
  },
  {
   "cell_type": "markdown",
   "id": "b808d7dd",
   "metadata": {
    "heading_collapsed": true,
    "hidden": true,
    "id": "iwh-DJqFycUZ"
   },
   "source": [
    "##### 2.2.6 Driving_License"
   ]
  },
  {
   "cell_type": "markdown",
   "id": "9ed8510e",
   "metadata": {
    "heading_collapsed": true,
    "hidden": true
   },
   "source": [
    "###### Principais Insights:\n",
    "\n",
    "1. 99,8% dos clientes são habilitados para dirigir.\n",
    "2. Clientes habilitados têm um interesse muito maior no evento sucesso."
   ]
  },
  {
   "cell_type": "markdown",
   "id": "8e4e6d06",
   "metadata": {
    "heading_collapsed": true,
    "hidden": true
   },
   "source": [
    "###### General Analysis"
   ]
  },
  {
   "cell_type": "code",
   "execution_count": null,
   "id": "de3c49c8",
   "metadata": {
    "ExecuteTime": {
     "end_time": "2021-07-22T14:33:18.797567Z",
     "start_time": "2021-07-22T14:33:17.767686Z"
    },
    "hidden": true
   },
   "outputs": [],
   "source": [
    "matrix.drop('id', axis=1).corr()['Driving_License'].sort_values(ascending=False)"
   ]
  },
  {
   "cell_type": "markdown",
   "id": "8dad3a32",
   "metadata": {
    "hidden": true
   },
   "source": [
    "Correlações muito baixas"
   ]
  },
  {
   "cell_type": "code",
   "execution_count": null,
   "id": "4e87fbc3",
   "metadata": {
    "ExecuteTime": {
     "end_time": "2021-07-22T14:33:18.828563Z",
     "start_time": "2021-07-22T14:33:18.802568Z"
    },
    "colab": {
     "base_uri": "https://localhost:8080/"
    },
    "hidden": true,
    "id": "SMbIqPbHsp5s",
    "outputId": "09e8c2e4-519e-44a6-d7ff-421b4d4b87c4"
   },
   "outputs": [],
   "source": [
    "train['Driving_License'].value_counts(normalize=True)"
   ]
  },
  {
   "cell_type": "markdown",
   "id": "fd25f621",
   "metadata": {
    "hidden": true,
    "id": "eqKYSUH-svJv"
   },
   "source": [
    "Apenas 800 clientes não tem Habilitação"
   ]
  },
  {
   "cell_type": "code",
   "execution_count": null,
   "id": "f5b7054b",
   "metadata": {
    "ExecuteTime": {
     "end_time": "2021-07-22T14:33:18.958549Z",
     "start_time": "2021-07-22T14:33:18.833564Z"
    },
    "colab": {
     "base_uri": "https://localhost:8080/"
    },
    "hidden": true,
    "id": "yrw5_I-j2amq",
    "outputId": "57f8b4bb-ba9d-4a3c-ff6d-2ed25c3b988f"
   },
   "outputs": [],
   "source": [
    "matrix[['Response', 'Driving_License']].value_counts().sort_index()"
   ]
  },
  {
   "cell_type": "code",
   "execution_count": null,
   "id": "0b6d7893",
   "metadata": {
    "ExecuteTime": {
     "end_time": "2021-07-22T14:33:43.171740Z",
     "start_time": "2021-07-22T14:33:18.962548Z"
    },
    "colab": {
     "base_uri": "https://localhost:8080/",
     "height": 0
    },
    "hidden": true,
    "id": "YId0do-O2PmC",
    "outputId": "7daafa4f-c794-4633-ea30-e064601b1689"
   },
   "outputs": [],
   "source": [
    "sns.catplot(x='Driving_License', y='Response', data=matrix, kind='bar')"
   ]
  },
  {
   "cell_type": "markdown",
   "id": "a78b16fc",
   "metadata": {
    "hidden": true,
    "id": "e-7V0Gqz3obg"
   },
   "source": [
    "Pessoas com licensa de dirigir têm interesse maior no evento de sucesso, porém a população de amostras sem licensa de dirigir é muitíssimo pequena, e não deve contribuir muito com o modelo."
   ]
  },
  {
   "cell_type": "markdown",
   "id": "de8cbe8e",
   "metadata": {
    "heading_collapsed": true,
    "hidden": true,
    "id": "vyFRtrpbyf0m"
   },
   "source": [
    "##### 2.2.7 Region_Code"
   ]
  },
  {
   "cell_type": "markdown",
   "id": "9c9cf5ac",
   "metadata": {
    "heading_collapsed": true,
    "hidden": true
   },
   "source": [
    "###### Principais Insights:\n",
    "\n",
    "1. Há 53 regiões no dataset, a região que mais contém amostras detém 28% dos dados, e ainda essa região é a que tem a maior probabilidade de eventos positivos, 19% de interessados no produto"
   ]
  },
  {
   "cell_type": "markdown",
   "id": "375966bb",
   "metadata": {
    "heading_collapsed": true,
    "hidden": true
   },
   "source": [
    "###### General Analysis"
   ]
  },
  {
   "cell_type": "code",
   "execution_count": null,
   "id": "45e9b823",
   "metadata": {
    "ExecuteTime": {
     "end_time": "2021-07-22T14:33:44.169624Z",
     "start_time": "2021-07-22T14:33:43.175742Z"
    },
    "colab": {
     "base_uri": "https://localhost:8080/",
     "height": 0
    },
    "hidden": true,
    "id": "D6Gib38q3tSr",
    "outputId": "d08b20a3-83b3-44b4-9843-0078643c18f2"
   },
   "outputs": [],
   "source": [
    "matrix.drop('id', axis=1).corr()['Region_Code'].sort_values(ascending=False)"
   ]
  },
  {
   "cell_type": "markdown",
   "id": "437033ac",
   "metadata": {
    "hidden": true
   },
   "source": [
    "Correlações muito baixas"
   ]
  },
  {
   "cell_type": "code",
   "execution_count": null,
   "id": "150da583",
   "metadata": {
    "ExecuteTime": {
     "end_time": "2021-07-22T14:33:44.221618Z",
     "start_time": "2021-07-22T14:33:44.173625Z"
    },
    "colab": {
     "base_uri": "https://localhost:8080/"
    },
    "hidden": true,
    "id": "g79q8Qph3xTH",
    "outputId": "352cdf67-331e-43e5-da6e-c22b7807ab3f"
   },
   "outputs": [],
   "source": [
    "matrix['Region_Code'].nunique()"
   ]
  },
  {
   "cell_type": "code",
   "execution_count": null,
   "id": "35fbe3b6",
   "metadata": {
    "ExecuteTime": {
     "end_time": "2021-07-22T14:34:06.579025Z",
     "start_time": "2021-07-22T14:33:44.226619Z"
    },
    "colab": {
     "base_uri": "https://localhost:8080/",
     "height": 0
    },
    "hidden": true,
    "id": "YCqFR9Co4BFN",
    "outputId": "602a0f1e-467f-46f5-b92f-2e8aef7cf4e7"
   },
   "outputs": [],
   "source": [
    "sns.catplot(x='Region_Code', y='Response', data=matrix, kind='bar', aspect=3)"
   ]
  },
  {
   "cell_type": "markdown",
   "id": "06e30237",
   "metadata": {
    "hidden": true,
    "id": "j5WU5joe5OQa"
   },
   "source": [
    "Médias bastante distintas. Desvios padrões baixos, exceto nos ultimos dois subgrupos."
   ]
  },
  {
   "cell_type": "code",
   "execution_count": null,
   "id": "e7137582",
   "metadata": {
    "ExecuteTime": {
     "end_time": "2021-07-22T14:34:12.238419Z",
     "start_time": "2021-07-22T14:34:06.583032Z"
    },
    "hidden": true
   },
   "outputs": [],
   "source": [
    "sns.countplot(matrix['Region_Code'])"
   ]
  },
  {
   "cell_type": "markdown",
   "id": "9f8ca494",
   "metadata": {
    "heading_collapsed": true,
    "hidden": true
   },
   "source": [
    "###### Principais Regiões"
   ]
  },
  {
   "cell_type": "code",
   "execution_count": null,
   "id": "3008a1a9",
   "metadata": {
    "ExecuteTime": {
     "end_time": "2021-07-22T14:34:12.281364Z",
     "start_time": "2021-07-22T14:34:12.242369Z"
    },
    "hidden": true
   },
   "outputs": [],
   "source": [
    "matrix['Region_Code'].value_counts(normalize=True).head(10)"
   ]
  },
  {
   "cell_type": "code",
   "execution_count": null,
   "id": "d6cd8f1a",
   "metadata": {
    "ExecuteTime": {
     "end_time": "2021-07-22T14:34:12.333360Z",
     "start_time": "2021-07-22T14:34:12.306410Z"
    },
    "hidden": true
   },
   "outputs": [],
   "source": [
    "matrix.loc[matrix['Region_Code']==28, 'Response'].mean()"
   ]
  },
  {
   "cell_type": "markdown",
   "id": "0a1f65a3",
   "metadata": {
    "hidden": true
   },
   "source": [
    "A região 28 contém 28% dos contratos, e a média de eventos de sucesso nesta região é de 19%, bastante diferente da média global de 12%."
   ]
  },
  {
   "cell_type": "markdown",
   "id": "bcc7c010",
   "metadata": {
    "heading_collapsed": true,
    "hidden": true
   },
   "source": [
    "###### Média de Response em cada Region_Code"
   ]
  },
  {
   "cell_type": "code",
   "execution_count": null,
   "id": "aa43adec",
   "metadata": {
    "ExecuteTime": {
     "end_time": "2021-07-22T14:34:13.092269Z",
     "start_time": "2021-07-22T14:34:12.342359Z"
    },
    "hidden": true
   },
   "outputs": [],
   "source": [
    "temp = matrix.groupby('Region_Code').mean()\n",
    "sns.histplot(temp['Response'].sort_values(ascending=False), bins=10)"
   ]
  },
  {
   "cell_type": "markdown",
   "id": "b5c0c3c5",
   "metadata": {
    "heading_collapsed": true,
    "hidden": true,
    "id": "yAFPY9d78SjY"
   },
   "source": [
    "##### 2.2.8 Previously Insured"
   ]
  },
  {
   "cell_type": "markdown",
   "id": "c3811749",
   "metadata": {
    "heading_collapsed": true,
    "hidden": true
   },
   "source": [
    "###### Principais Insights:\n",
    "\n",
    "1. Clientes que já possuem um seguro de automóveis tem probabilidade quase nula de se interessar pelo produto."
   ]
  },
  {
   "cell_type": "markdown",
   "id": "15036fbb",
   "metadata": {
    "heading_collapsed": true,
    "hidden": true
   },
   "source": [
    "###### General Analysis"
   ]
  },
  {
   "cell_type": "code",
   "execution_count": null,
   "id": "10fa3856",
   "metadata": {
    "ExecuteTime": {
     "end_time": "2021-07-22T14:34:14.127150Z",
     "start_time": "2021-07-22T14:34:13.096272Z"
    },
    "hidden": true
   },
   "outputs": [],
   "source": [
    "matrix.drop('id', axis=1).corr()['Previously_Insured'].sort_values(ascending=False)"
   ]
  },
  {
   "cell_type": "markdown",
   "id": "68896452",
   "metadata": {
    "hidden": true
   },
   "source": [
    "Correlação muito forte com Vehicle_Damage, fraca com RESPONSE, Vehicle_Age, Age e Policy_Sales_Channel"
   ]
  },
  {
   "cell_type": "code",
   "execution_count": null,
   "id": "85f76d7b",
   "metadata": {
    "ExecuteTime": {
     "end_time": "2021-07-22T14:34:14.290132Z",
     "start_time": "2021-07-22T14:34:14.132150Z"
    },
    "colab": {
     "base_uri": "https://localhost:8080/"
    },
    "hidden": true,
    "id": "bDim7eF9nqAm",
    "outputId": "e6a4e674-0b02-42ce-9a2a-1b46a9b9a49a"
   },
   "outputs": [],
   "source": [
    "matrix[['Response', 'Previously_Insured']].value_counts(normalize=True).sort_index()"
   ]
  },
  {
   "cell_type": "code",
   "execution_count": null,
   "id": "1354f536",
   "metadata": {
    "ExecuteTime": {
     "end_time": "2021-07-22T14:34:14.685089Z",
     "start_time": "2021-07-22T14:34:14.295132Z"
    },
    "hidden": true
   },
   "outputs": [],
   "source": [
    "sns.countplot(matrix['Previously_Insured'])"
   ]
  },
  {
   "cell_type": "markdown",
   "id": "40b4e553",
   "metadata": {
    "hidden": true
   },
   "source": [
    "Equilibrada"
   ]
  },
  {
   "cell_type": "code",
   "execution_count": null,
   "id": "72f97345",
   "metadata": {
    "ExecuteTime": {
     "end_time": "2021-07-22T14:34:34.536833Z",
     "start_time": "2021-07-22T14:34:14.689085Z"
    },
    "colab": {
     "base_uri": "https://localhost:8080/",
     "height": 0
    },
    "hidden": true,
    "id": "0zVd75FDCb0s",
    "outputId": "1e6bdfb0-2ab8-4b7d-a74f-fb2310dc1ac5",
    "scrolled": false
   },
   "outputs": [],
   "source": [
    "sns.catplot(x='Previously_Insured', y='Response', data=matrix, kind='bar')"
   ]
  },
  {
   "cell_type": "markdown",
   "id": "fbdd75d6",
   "metadata": {
    "hidden": true,
    "id": "UKtL0tsYXfne"
   },
   "source": [
    "Clientes que já possuvem seguro tem probabilidade quase nula de interesse no produto"
   ]
  },
  {
   "cell_type": "markdown",
   "id": "015f59b5",
   "metadata": {
    "heading_collapsed": true,
    "hidden": true,
    "id": "tPTnjuajwFlc"
   },
   "source": [
    "##### 2.2.9 Vehicle_Age"
   ]
  },
  {
   "cell_type": "markdown",
   "id": "c95a9926",
   "metadata": {
    "heading_collapsed": true,
    "hidden": true
   },
   "source": [
    "###### Principais Insights:\n",
    "\n",
    "1. A grande parte dos clientes possuem veículos com menos de 2 anos de idade, somente 4% dos clientes possuem veículos com mais de 2 anos de idade.\n",
    "2. Contando apenas com essas três categorias de idade de veículos, é correto afirmar que quanto mais novo o veículo, menor é a probabilidade de interesse no produto."
   ]
  },
  {
   "cell_type": "markdown",
   "id": "297a8839",
   "metadata": {
    "heading_collapsed": true,
    "hidden": true
   },
   "source": [
    "###### General Analysis"
   ]
  },
  {
   "cell_type": "code",
   "execution_count": null,
   "id": "73504466",
   "metadata": {
    "ExecuteTime": {
     "end_time": "2021-07-22T14:34:35.527669Z",
     "start_time": "2021-07-22T14:34:34.540785Z"
    },
    "hidden": true
   },
   "outputs": [],
   "source": [
    "matrix.drop('id', axis=1).corr()['Vehicle_Age_'].sort_values(ascending=False)"
   ]
  },
  {
   "cell_type": "markdown",
   "id": "98834ca7",
   "metadata": {
    "hidden": true
   },
   "source": [
    "Correlação forte com Age, moderada com Policy_Sales_Channel e fraca com Previously_Insured, Vehicle_Damae e RESPONSE"
   ]
  },
  {
   "cell_type": "code",
   "execution_count": null,
   "id": "d9a1331c",
   "metadata": {
    "ExecuteTime": {
     "end_time": "2021-07-22T14:34:55.760344Z",
     "start_time": "2021-07-22T14:34:35.531671Z"
    },
    "colab": {
     "base_uri": "https://localhost:8080/",
     "height": 0
    },
    "hidden": true,
    "id": "dgtX2wzTwI2o",
    "outputId": "e31fd234-869e-455b-97f4-35eea87035c3"
   },
   "outputs": [],
   "source": [
    "sns.catplot(x='Vehicle_Age', y='Response', data=matrix, kind='bar')"
   ]
  },
  {
   "cell_type": "markdown",
   "id": "6b0d4025",
   "metadata": {
    "hidden": true
   },
   "source": [
    "Clientes com veículos mais novos tem menor interesse no produto"
   ]
  },
  {
   "cell_type": "code",
   "execution_count": null,
   "id": "9b4d05e7",
   "metadata": {
    "ExecuteTime": {
     "end_time": "2021-07-22T14:34:56.594275Z",
     "start_time": "2021-07-22T14:34:55.764326Z"
    },
    "hidden": true
   },
   "outputs": [],
   "source": [
    "sns.countplot(matrix['Vehicle_Age'])"
   ]
  },
  {
   "cell_type": "code",
   "execution_count": null,
   "id": "17165f7d",
   "metadata": {
    "ExecuteTime": {
     "end_time": "2021-07-22T14:34:56.698231Z",
     "start_time": "2021-07-22T14:34:56.598227Z"
    },
    "hidden": true
   },
   "outputs": [],
   "source": [
    "matrix['Vehicle_Age'].value_counts(normalize=True)"
   ]
  },
  {
   "cell_type": "markdown",
   "id": "a74c3bb0",
   "metadata": {
    "hidden": true
   },
   "source": [
    "Muito poucos clientes possuvem veículo com mais de 2 anos"
   ]
  },
  {
   "cell_type": "markdown",
   "id": "f87a3be3",
   "metadata": {
    "heading_collapsed": true,
    "hidden": true,
    "id": "IADfsiZfykuL"
   },
   "source": [
    "##### 2.2.10 Vehicle_Damage"
   ]
  },
  {
   "cell_type": "markdown",
   "id": "619bc701",
   "metadata": {
    "heading_collapsed": true,
    "hidden": true
   },
   "source": [
    "###### Principais Insights:\n",
    "\n",
    "1. Clientes que nunca acionaram um seguro de veículo por danos anteriormente, têm menos interesse no produto, com 0.5% de interesse, possivelmente há um alto grau de dependência com Previously_Insured."
   ]
  },
  {
   "cell_type": "markdown",
   "id": "8955c4b8",
   "metadata": {
    "heading_collapsed": true,
    "hidden": true
   },
   "source": [
    "###### General Analysis"
   ]
  },
  {
   "cell_type": "code",
   "execution_count": null,
   "id": "80a23754",
   "metadata": {
    "ExecuteTime": {
     "end_time": "2021-07-22T14:34:57.732128Z",
     "start_time": "2021-07-22T14:34:56.702214Z"
    },
    "hidden": true
   },
   "outputs": [],
   "source": [
    "matrix.drop('id', axis=1).corr()['Vehicle_Damage_'].sort_values(ascending=False)"
   ]
  },
  {
   "cell_type": "markdown",
   "id": "1c7abd1a",
   "metadata": {
    "hidden": true
   },
   "source": [
    "Correlação muito forte com Previously_Insured, fraca Policy_Sales_Channel, Vehicle_Age, RESPONSE e Age"
   ]
  },
  {
   "cell_type": "code",
   "execution_count": null,
   "id": "93c89102",
   "metadata": {
    "ExecuteTime": {
     "end_time": "2021-07-22T14:35:18.255748Z",
     "start_time": "2021-07-22T14:34:57.737094Z"
    },
    "colab": {
     "base_uri": "https://localhost:8080/",
     "height": 0
    },
    "hidden": true,
    "id": "v46rpC11_fs-",
    "outputId": "43883225-012e-47a2-d3d6-9915efca88b1"
   },
   "outputs": [],
   "source": [
    "sns.catplot(x='Vehicle_Damage', y='Response', data=matrix, kind='bar')"
   ]
  },
  {
   "cell_type": "code",
   "execution_count": null,
   "id": "81439bdf",
   "metadata": {
    "ExecuteTime": {
     "end_time": "2021-07-22T14:35:18.294713Z",
     "start_time": "2021-07-22T14:35:18.259714Z"
    },
    "hidden": true
   },
   "outputs": [],
   "source": [
    "matrix.loc[matrix['Vehicle_Damage_']==0, 'Response'].mean()"
   ]
  },
  {
   "cell_type": "markdown",
   "id": "c5432e7d",
   "metadata": {
    "hidden": true
   },
   "source": [
    "As features Vehicle_Damage e Previously_Insured possuem correlação muito forte entre sí, são inversamente proporcionais e possuem uma relação bastante parecida com Response, quando um cliente já tem seguro, a probabilidade de evento positivo é quase nula, e quando um cliente nunca acionou o seguro anteriormente por danos veiculares, a probabilidade de evento positivo é quase nula."
   ]
  },
  {
   "cell_type": "code",
   "execution_count": null,
   "id": "7014cddd",
   "metadata": {
    "ExecuteTime": {
     "end_time": "2021-07-22T14:35:18.399700Z",
     "start_time": "2021-07-22T14:35:18.298713Z"
    },
    "colab": {
     "base_uri": "https://localhost:8080/"
    },
    "hidden": true,
    "id": "0e-frqbOYoiV",
    "outputId": "cf700660-1f3f-40c5-d846-e7a4048583e6"
   },
   "outputs": [],
   "source": [
    "matrix['Vehicle_Damage'].value_counts()"
   ]
  },
  {
   "cell_type": "markdown",
   "id": "73f90a2e",
   "metadata": {
    "hidden": true
   },
   "source": [
    "Equilibrada"
   ]
  },
  {
   "cell_type": "markdown",
   "id": "826a468e",
   "metadata": {
    "hidden": true,
    "id": "sf60Z5fE41nD"
   },
   "source": [
    "Os clientes que já tiveram problemas no passado são mais propícios de adquirir um contrato de seguro. Boa feature para utilizar no modelo."
   ]
  },
  {
   "cell_type": "markdown",
   "id": "7dd72a0f",
   "metadata": {
    "heading_collapsed": true,
    "hidden": true
   },
   "source": [
    "###### Teste de Hipótese"
   ]
  },
  {
   "cell_type": "markdown",
   "id": "935d4212",
   "metadata": {
    "hidden": true
   },
   "source": [
    "1. Hipótese nula ou h0: 90% ou mais das amostras é ou do tipo Previously_Insured = 1 / Vehicle_Damage_ = 0 ou do tipo Previously_Insured = 0 / Vehicle_Damage_ = 1.\n",
    "2. Hipótese alternativa ou h1: Menos de 90% das amostras é ou do tipo Previously_Insured = 1 / Vehicle_Damage_ = 0 ou do tipo Previously_Insured = 0 / Vehicle_Damage_ = 1."
   ]
  },
  {
   "cell_type": "code",
   "execution_count": null,
   "id": "88603cf9",
   "metadata": {
    "ExecuteTime": {
     "end_time": "2021-07-22T14:35:18.671668Z",
     "start_time": "2021-07-22T14:35:18.405698Z"
    },
    "hidden": true
   },
   "outputs": [],
   "source": [
    "temp = matrix[['Previously_Insured', 'Vehicle_Damage']].value_counts(normalize=True).reset_index()\n",
    "temp = pd.DataFrame(temp)\n",
    "temp['acumulado'] = temp[0].cumsum()\n",
    "temp"
   ]
  },
  {
   "cell_type": "markdown",
   "id": "98cfabad",
   "metadata": {
    "hidden": true
   },
   "source": [
    "Não refeita a hipótese nula. De fato as features segregam os clientes da mesma forma em 90% dos casos."
   ]
  },
  {
   "cell_type": "markdown",
   "id": "3337b18b",
   "metadata": {
    "heading_collapsed": true,
    "hidden": true,
    "id": "kyRGRsFnvFP9"
   },
   "source": [
    "##### 2.2.11 Vintage"
   ]
  },
  {
   "cell_type": "markdown",
   "id": "dca51cd6",
   "metadata": {
    "heading_collapsed": true,
    "hidden": true
   },
   "source": [
    "###### Principais Insights:\n",
    "\n",
    "1. Aparentemente a feature Vintage é inútil para modelar o fenômeno."
   ]
  },
  {
   "cell_type": "markdown",
   "id": "0e86a56d",
   "metadata": {
    "heading_collapsed": true,
    "hidden": true
   },
   "source": [
    "###### General Analysis"
   ]
  },
  {
   "cell_type": "code",
   "execution_count": null,
   "id": "3934aeb8",
   "metadata": {
    "ExecuteTime": {
     "end_time": "2021-07-22T14:35:19.687548Z",
     "start_time": "2021-07-22T14:35:18.675669Z"
    },
    "hidden": true
   },
   "outputs": [],
   "source": [
    "matrix.drop('id', axis=1).corr()['Vintage'].sort_values(ascending=False)"
   ]
  },
  {
   "cell_type": "markdown",
   "id": "2180954d",
   "metadata": {
    "hidden": true
   },
   "source": [
    "Correlações muito baixas"
   ]
  },
  {
   "cell_type": "code",
   "execution_count": null,
   "id": "fba2b6c5",
   "metadata": {
    "ExecuteTime": {
     "end_time": "2021-07-22T14:35:28.362544Z",
     "start_time": "2021-07-22T14:35:19.691548Z"
    },
    "colab": {
     "base_uri": "https://localhost:8080/",
     "height": 0
    },
    "hidden": true,
    "id": "jVIDmVaUvJqD",
    "outputId": "9b39f210-7c3f-4993-96f2-728ead250883",
    "scrolled": true
   },
   "outputs": [],
   "source": [
    "plt.figure(figsize=(16, 6))\n",
    "plt.subplot(3, 1, 1)\n",
    "g = sns.histplot(matrix['Vintage'])\n",
    "plt.subplot(3, 1, 2)\n",
    "g = sns.histplot(matrix.loc[matrix['Response']==0, 'Vintage'], alpha=0.5, color='r', bins=300)\n",
    "g = sns.histplot(matrix.loc[matrix['Response']==1, 'Vintage'], alpha=0.5, color='b', bins=300)\n",
    "plt.subplot(3, 1, 3)\n",
    "g = sns.kdeplot(matrix.loc[matrix['Response']==0, 'Vintage'], shade=True, color='r')\n",
    "g = sns.kdeplot(matrix.loc[matrix['Response']==1, 'Vintage'], shade=True, color='b')"
   ]
  },
  {
   "cell_type": "markdown",
   "id": "0df762d4",
   "metadata": {
    "hidden": true
   },
   "source": [
    "Aparentemente essa feature deve aumentar o ruído e não agregar em nada no modelo"
   ]
  },
  {
   "cell_type": "code",
   "execution_count": null,
   "id": "1163efdf",
   "metadata": {
    "ExecuteTime": {
     "end_time": "2021-07-22T14:35:55.502397Z",
     "start_time": "2021-07-22T14:35:28.366541Z"
    },
    "colab": {
     "base_uri": "https://localhost:8080/",
     "height": 0
    },
    "hidden": true,
    "id": "I9manKs6ZFVy",
    "outputId": "f0ad2133-e45c-4d72-b21b-652daeaa0d09"
   },
   "outputs": [],
   "source": [
    "plt.figure(figsize=(20, 4))\n",
    "sns.countplot(matrix['Vintage'])"
   ]
  },
  {
   "cell_type": "markdown",
   "id": "601bbc56",
   "metadata": {
    "hidden": true
   },
   "source": [
    "**Média de Response para cada valor de Vintage**"
   ]
  },
  {
   "cell_type": "code",
   "execution_count": null,
   "id": "d1d49249",
   "metadata": {
    "ExecuteTime": {
     "end_time": "2021-07-22T14:35:56.200316Z",
     "start_time": "2021-07-22T14:35:55.505397Z"
    },
    "hidden": true,
    "id": "MYK0xlx8Tkbg"
   },
   "outputs": [],
   "source": [
    "temp = matrix.groupby('Vintage').mean()\n",
    "sns.histplot(temp['Response'].sort_values(ascending=False))"
   ]
  },
  {
   "cell_type": "markdown",
   "id": "7bff2fa9",
   "metadata": {
    "heading_collapsed": true,
    "id": "lpsQdPJVSjpi"
   },
   "source": [
    "# 3.0 Feature Engineering"
   ]
  },
  {
   "cell_type": "markdown",
   "id": "3acc405b",
   "metadata": {
    "heading_collapsed": true,
    "hidden": true,
    "id": "jEjwlIBJTDv5"
   },
   "source": [
    "###### Policy_Sales_Chanel Response Mean"
   ]
  },
  {
   "cell_type": "code",
   "execution_count": null,
   "id": "fcaa6176",
   "metadata": {
    "ExecuteTime": {
     "end_time": "2021-07-22T14:35:57.099258Z",
     "start_time": "2021-07-22T14:35:56.204313Z"
    },
    "hidden": true,
    "id": "mVXYhJOnKGMD"
   },
   "outputs": [],
   "source": [
    "group = train[['Policy_Sales_Channel', 'Response']].groupby('Policy_Sales_Channel').agg({'Response':'mean'})\n",
    "group.reset_index(inplace=True)\n",
    "group.columns= ['Policy_Sales_Channel', 'Policy_Sales_Channels_Response_Mean']\n",
    "matrix = matrix.merge(group, on='Policy_Sales_Channel', how='left')"
   ]
  },
  {
   "cell_type": "code",
   "execution_count": null,
   "id": "b4d49b75",
   "metadata": {
    "ExecuteTime": {
     "end_time": "2021-07-22T14:35:57.173201Z",
     "start_time": "2021-07-22T14:35:57.101209Z"
    },
    "hidden": true
   },
   "outputs": [],
   "source": [
    "analise_descritiva(matrix['Policy_Sales_Channels_Response_Mean'])"
   ]
  },
  {
   "cell_type": "code",
   "execution_count": null,
   "id": "7b98b3d4",
   "metadata": {
    "ExecuteTime": {
     "end_time": "2021-07-22T14:35:57.537160Z",
     "start_time": "2021-07-22T14:35:57.178201Z"
    },
    "colab": {
     "base_uri": "https://localhost:8080/"
    },
    "hidden": true,
    "id": "oW6C_04x_T87",
    "outputId": "8347345a-c7c0-4248-a2f8-e58ffccb972c"
   },
   "outputs": [],
   "source": [
    "a = matrix[matrix['Response'].notnull()]['Policy_Sales_Channels_Response_Mean']\n",
    "b = matrix[matrix['Response'].isnull()]['Policy_Sales_Channels_Response_Mean']\n",
    "comparar_features(a, b, 0.05, 400)"
   ]
  },
  {
   "cell_type": "code",
   "execution_count": null,
   "id": "bb649ddf",
   "metadata": {
    "ExecuteTime": {
     "end_time": "2021-07-22T14:35:57.616150Z",
     "start_time": "2021-07-22T14:35:57.542160Z"
    },
    "colab": {
     "base_uri": "https://localhost:8080/",
     "height": 0
    },
    "hidden": true,
    "id": "ewm2nBrHZaU9",
    "outputId": "96c811f7-3c03-4c02-ef47-a014c62a4eaa"
   },
   "outputs": [],
   "source": [
    "matrix[['Response', 'Policy_Sales_Channels_Response_Mean']].corr()"
   ]
  },
  {
   "cell_type": "markdown",
   "id": "90641a64",
   "metadata": {
    "hidden": true,
    "id": "wvcVECG2Zj5k"
   },
   "source": [
    "Correlação fraca"
   ]
  },
  {
   "cell_type": "markdown",
   "id": "fbd55ef4",
   "metadata": {
    "heading_collapsed": true,
    "hidden": true,
    "id": "OILqb1MCu5Q1"
   },
   "source": [
    "###### Region_Code Response Mean"
   ]
  },
  {
   "cell_type": "code",
   "execution_count": null,
   "id": "d9cbc3c8",
   "metadata": {
    "ExecuteTime": {
     "end_time": "2021-07-22T14:35:58.663029Z",
     "start_time": "2021-07-22T14:35:57.621149Z"
    },
    "hidden": true,
    "id": "kYkrXTVzu5RY"
   },
   "outputs": [],
   "source": [
    "group = train[['Region_Code', 'Response']].groupby('Region_Code').agg({'Response':'mean'})\n",
    "group.reset_index(inplace=True)\n",
    "group.columns= ['Region_Code', 'Region_Code_Response_Mean']\n",
    "matrix = matrix.merge(group, on='Region_Code', how='left')"
   ]
  },
  {
   "cell_type": "code",
   "execution_count": null,
   "id": "6fdfa180",
   "metadata": {
    "ExecuteTime": {
     "end_time": "2021-07-22T14:35:58.767015Z",
     "start_time": "2021-07-22T14:35:58.667028Z"
    },
    "hidden": true
   },
   "outputs": [],
   "source": [
    "analise_descritiva(matrix['Region_Code_Response_Mean'])"
   ]
  },
  {
   "cell_type": "code",
   "execution_count": null,
   "id": "6aafe848",
   "metadata": {
    "ExecuteTime": {
     "end_time": "2021-07-22T14:35:59.172968Z",
     "start_time": "2021-07-22T14:35:58.773016Z"
    },
    "colab": {
     "base_uri": "https://localhost:8080/"
    },
    "hidden": true,
    "id": "9tr2bU1U_l9W",
    "outputId": "16403801-0ba2-4302-a2c3-181377bcb740"
   },
   "outputs": [],
   "source": [
    "a = matrix[matrix['Response'].notnull()]['Region_Code_Response_Mean']\n",
    "b = matrix[matrix['Response'].isnull()]['Region_Code_Response_Mean']\n",
    "comparar_features(a, b, 0.05, 400)"
   ]
  },
  {
   "cell_type": "code",
   "execution_count": null,
   "id": "8f2c08ee",
   "metadata": {
    "ExecuteTime": {
     "end_time": "2021-07-22T14:35:59.250960Z",
     "start_time": "2021-07-22T14:35:59.178968Z"
    },
    "colab": {
     "base_uri": "https://localhost:8080/",
     "height": 0
    },
    "hidden": true,
    "id": "V9DLPohLZqlS",
    "outputId": "b8f627fd-babc-434d-ccf2-821bf24661b9"
   },
   "outputs": [],
   "source": [
    "matrix[['Response', 'Region_Code_Response_Mean']].corr()"
   ]
  },
  {
   "cell_type": "markdown",
   "id": "7ec45acd",
   "metadata": {
    "hidden": true,
    "id": "-DfKrpMLaMa4"
   },
   "source": [
    "Correlação muito fraca"
   ]
  },
  {
   "cell_type": "markdown",
   "id": "5cb08836",
   "metadata": {
    "heading_collapsed": true
   },
   "source": [
    "# 4.0 Business Hypothesis"
   ]
  },
  {
   "cell_type": "markdown",
   "id": "6033b1be",
   "metadata": {
    "heading_collapsed": true
   },
   "source": [
    "# 5.0 Exploratory Data Analysis"
   ]
  },
  {
   "cell_type": "markdown",
   "id": "40650f13",
   "metadata": {
    "heading_collapsed": true,
    "id": "wrfYR3Ps5tXH"
   },
   "source": [
    "# 6.0 Machine Learning Model"
   ]
  },
  {
   "cell_type": "markdown",
   "id": "339af45e",
   "metadata": {
    "heading_collapsed": true,
    "hidden": true,
    "id": "qgFsodNw7zlN"
   },
   "source": [
    "### Pré-processamentos"
   ]
  },
  {
   "cell_type": "code",
   "execution_count": null,
   "id": "a18d10cf",
   "metadata": {
    "ExecuteTime": {
     "end_time": "2021-07-22T14:35:59.348952Z",
     "start_time": "2021-07-22T14:35:59.255959Z"
    },
    "hidden": true
   },
   "outputs": [],
   "source": [
    "# backup\n",
    "matrix_ = matrix.copy()"
   ]
  },
  {
   "cell_type": "code",
   "execution_count": null,
   "id": "7d379637",
   "metadata": {
    "ExecuteTime": {
     "end_time": "2021-07-22T14:39:21.705482Z",
     "start_time": "2021-07-22T14:35:59.352948Z"
    },
    "hidden": true
   },
   "outputs": [],
   "source": [
    "# backup\n",
    "matrix = matrix_.copy()\n",
    "\n",
    "# Feature Encoding\n",
    "features_dum = 'Vehicle_Age'.split()\n",
    "temp = pd.get_dummies(matrix['Vehicle_Age'], prefix='Vehicle_Age', drop_first=True)\n",
    "temp.columns = ['Vehicle_Age_Menor_que_1', 'Vehicle_Age_Maior_que_2']\n",
    "matrix = pd.concat([matrix, temp], axis=1)\n",
    "\n",
    "# Removendo features que não seguirão para modelagem\n",
    "features_remover = ['id', 'Gender', 'Vehicle_Age', 'Vehicle_Age_', 'Vehicle_Damage', 'Policy_Sales_Channel', \n",
    "                    'Region_Code', 'Vintage', 'Annual_Premium', 'High_Annual_Premium', 'High_Age']\n",
    "matrix.drop(features_remover, axis=1, inplace=True)\n",
    "target = ['Response']\n",
    "cols = pd.Series(matrix.drop(target, axis=1).columns.to_list())\n",
    "\n",
    "# Split X and y\n",
    "train = matrix.loc[matrix['Response'].notnull()]\n",
    "test = matrix.loc[matrix['Response'].isnull()]\n",
    "X = train.drop(target, axis=1)\n",
    "y = train[target]\n",
    "y = np.array(y).reshape(1, len(y))[0]\n",
    "\n",
    "# Standard Scaler\n",
    "X_scaler = StandardScaler().fit_transform(X)\n",
    "\n",
    "# Split train end test\n",
    "X_, X_test, y_, y_test = train_test_split(X_scaler, y, test_size=0.2, random_state=101)\n",
    "\n",
    "# Split train_ end valid\n",
    "X_train, X_valid, y_train, y_valid = train_test_split(X_, y_, test_size=0.3, random_state=101)\n",
    "\n",
    "# Resolvendo desbalanceamento\n",
    "# Nearmiss\n",
    "near = NearMiss()\n",
    "X_near, y_near = near.fit_resample(X_, y_)\n",
    "X_train_near, y_train_near = near.fit_resample(X_train, y_train)\n",
    "\n",
    "# Smote\n",
    "smote = SMOTE()\n",
    "X_smote, y_smote = smote.fit_resample(X_, y_)\n",
    "X_train_smote, y_train_smote = smote.fit_resample(X_train, y_train)"
   ]
  },
  {
   "cell_type": "markdown",
   "id": "fdab8389",
   "metadata": {
    "heading_collapsed": true,
    "hidden": true,
    "id": "O5JNrPUBwgK_"
   },
   "source": [
    "### Seleção de features"
   ]
  },
  {
   "cell_type": "markdown",
   "id": "00aeed90",
   "metadata": {
    "heading_collapsed": true,
    "hidden": true,
    "id": "DKnbnN2le32Z"
   },
   "source": [
    "###### Principais Insights:\n",
    "1. As features com maior relevância identificadas através de Exploração de Dados foram: Vehicle_Damage, Previously_Insured, Vehicle_Age, Policy_Sales_Channels_Response_Mean, Age\n",
    "2. 6 Dimensões compõem 95% de toda a variabilidade das features.\n",
    "3. A feature Driving_License não agrega ao modelo"
   ]
  },
  {
   "cell_type": "markdown",
   "id": "3151052d",
   "metadata": {
    "heading_collapsed": true,
    "hidden": true,
    "id": "2uLihhwh3r_U"
   },
   "source": [
    "###### PCA"
   ]
  },
  {
   "cell_type": "markdown",
   "id": "2052fcb4",
   "metadata": {
    "hidden": true,
    "id": "WTyZ8rQK5y-g"
   },
   "source": [
    "Como um dos objetivos do projeto é demonstrar quais características são mais interessantes para o time de vendas, os dados precisam manter o contexto de negócio. O PCA será processado somente para insights sobre espaço amostral."
   ]
  },
  {
   "cell_type": "code",
   "execution_count": null,
   "id": "4fdb94cc",
   "metadata": {
    "ExecuteTime": {
     "end_time": "2021-07-22T14:39:22.685371Z",
     "start_time": "2021-07-22T14:39:21.708482Z"
    },
    "colab": {
     "base_uri": "https://localhost:8080/",
     "height": 0
    },
    "hidden": true,
    "id": "ttq4GYl_3qmy",
    "outputId": "f051464b-445c-4169-f942-f459aeb5ee8a"
   },
   "outputs": [],
   "source": [
    "# model description end fit\n",
    "pca = PCA()\n",
    "\n",
    "# fiting model\n",
    "pca = pca.fit(X_scaler)\n",
    "\n",
    "# ploting cumulative sum\n",
    "np.cumsum(pca.explained_variance_ratio_)\n",
    "plt.plot(np.cumsum(pca.explained_variance_ratio_))"
   ]
  },
  {
   "cell_type": "markdown",
   "id": "c808a7e6",
   "metadata": {
    "hidden": true,
    "id": "4mm_0Lbk5bjm"
   },
   "source": [
    "Os autovetores indicam que 6 dimensões parecem explicar 95% de toda variabilidade das features"
   ]
  },
  {
   "cell_type": "markdown",
   "id": "97379044",
   "metadata": {
    "heading_collapsed": true,
    "hidden": true,
    "id": "o5pxLA5xHkv4"
   },
   "source": [
    "###### Por Correlação"
   ]
  },
  {
   "cell_type": "code",
   "execution_count": null,
   "id": "7ec473ec",
   "metadata": {
    "ExecuteTime": {
     "end_time": "2021-07-22T14:39:23.164316Z",
     "start_time": "2021-07-22T14:39:22.690368Z"
    },
    "hidden": true
   },
   "outputs": [],
   "source": [
    "correlations = abs(train.corr()['Response'].drop('Response', axis=0))\n",
    "correlations\n",
    "ranking = pd.DataFrame()\n",
    "ranking['correlations'] = correlations"
   ]
  },
  {
   "cell_type": "markdown",
   "id": "1db5d43b",
   "metadata": {
    "heading_collapsed": true,
    "hidden": true,
    "id": "nvyORAF7rYmr"
   },
   "source": [
    "###### RFE (Ranking por eliminação recursiva)"
   ]
  },
  {
   "cell_type": "code",
   "execution_count": null,
   "id": "0e673e36",
   "metadata": {
    "ExecuteTime": {
     "end_time": "2021-07-22T14:39:23.188311Z",
     "start_time": "2021-07-22T14:39:23.173312Z"
    },
    "hidden": true
   },
   "outputs": [],
   "source": [
    "# model description\n",
    "xgb_model = XGBClassifier(use_label_encoder=False, eval_metric='error')"
   ]
  },
  {
   "cell_type": "code",
   "execution_count": null,
   "id": "c11916f6",
   "metadata": {
    "ExecuteTime": {
     "end_time": "2021-07-22T14:39:23.236311Z",
     "start_time": "2021-07-22T14:39:23.206311Z"
    },
    "hidden": true,
    "id": "f9914x33njIi",
    "scrolled": false
   },
   "outputs": [],
   "source": [
    "# # rfe description\n",
    "# rfe_model = RFE(xgb_model, 1, 1)\n",
    "\n",
    "# # fiting model\n",
    "# rfe_fit = rfe_model.fit(X_train_near, y_train_near)\n",
    "\n",
    "# # ranking\n",
    "# ranking['rfe_xgb'] = rfe_fit.ranking_\n",
    "# print(rfe_fit.ranking_)\n",
    "# ranking.sort_values('rfe_xgb', ascending=False).index.to_list()"
   ]
  },
  {
   "cell_type": "markdown",
   "id": "e11d6ce9",
   "metadata": {
    "heading_collapsed": true,
    "hidden": true,
    "id": "daY1rZTknYRs"
   },
   "source": [
    "###### Por importância"
   ]
  },
  {
   "cell_type": "markdown",
   "id": "8d1d28fe",
   "metadata": {
    "hidden": true,
    "id": "LQkDdBsliGe5"
   },
   "source": [
    "Random Forest"
   ]
  },
  {
   "cell_type": "code",
   "execution_count": null,
   "id": "da58b54c",
   "metadata": {
    "ExecuteTime": {
     "end_time": "2021-07-22T14:42:51.009260Z",
     "start_time": "2021-07-22T14:39:23.253304Z"
    },
    "colab": {
     "base_uri": "https://localhost:8080/"
    },
    "hidden": true,
    "id": "CSMecOxSyu3T",
    "outputId": "6d74362a-3ecd-4018-f86a-ddf34b3a0ff3"
   },
   "outputs": [],
   "source": [
    "# fiting model\n",
    "rf_model = RandomForestClassifier()\n",
    "rf_fit = rf_model.fit(X_train_smote, y_train_smote)\n",
    "\n",
    "# preditions\n",
    "rf_predict = rf_fit.predict(X_valid)\n",
    "ranking['importance_rf'] = rf_model.feature_importances_\n",
    "\n",
    "# metrics\n",
    "print(classification_report(y_valid, rf_predict))"
   ]
  },
  {
   "cell_type": "markdown",
   "id": "9a53e4e8",
   "metadata": {
    "hidden": true,
    "id": "5_-sLiG6pn2U"
   },
   "source": [
    "Alta preferência por features numéricas, não confere com a exploração de dados, possivelmente overfitado."
   ]
  },
  {
   "cell_type": "markdown",
   "id": "d41f6825",
   "metadata": {
    "hidden": true,
    "id": "ijExdiKLiY_J"
   },
   "source": [
    "XGBoost"
   ]
  },
  {
   "cell_type": "code",
   "execution_count": null,
   "id": "2f10f79b",
   "metadata": {
    "ExecuteTime": {
     "end_time": "2021-07-22T14:44:53.837969Z",
     "start_time": "2021-07-22T14:42:51.012211Z"
    },
    "colab": {
     "base_uri": "https://localhost:8080/"
    },
    "hidden": true,
    "id": "a1QPpwuwiY_K",
    "outputId": "d2b2758e-6d42-4459-c8a5-8415789a287a"
   },
   "outputs": [],
   "source": [
    "# fiting model\n",
    "xgb_fit = xgb_model.fit(X_train_smote, y_train_smote)\n",
    "\n",
    "# predictions\n",
    "xgb_predict = xgb_fit.predict(X_valid)\n",
    "ranking['importance_xgb'] = xgb_model.feature_importances_\n",
    "\n",
    "# metrics\n",
    "print(classification_report(y_valid, xgb_predict))"
   ]
  },
  {
   "cell_type": "markdown",
   "id": "e66baf18",
   "metadata": {
    "heading_collapsed": true,
    "hidden": true,
    "id": "THYJcRTgUY7Q"
   },
   "source": [
    "###### Boruta"
   ]
  },
  {
   "cell_type": "code",
   "execution_count": null,
   "id": "457ee153",
   "metadata": {
    "ExecuteTime": {
     "end_time": "2021-07-22T14:44:53.857971Z",
     "start_time": "2021-07-22T14:44:53.847974Z"
    },
    "colab": {
     "base_uri": "https://localhost:8080/",
     "height": 0
    },
    "hidden": true,
    "id": "n00-dMQ6UfXP",
    "outputId": "37685cd9-f643-41e8-bf4b-d4415246c502"
   },
   "outputs": [],
   "source": [
    "# # model descrition\n",
    "# boruta_model = BorutaPy(xgb_model(), random_state=101)\n",
    "\n",
    "# # fiting model\n",
    "# boruta_fit = boruta_model.fit(X_train_near, y_train_near)\n",
    "\n",
    "# # ranking features\n",
    "# ranking['boruta'] = boruta_fit.ranking_\n",
    "# print(boruta_fit.ranking_)\n",
    "# ranking.sort_values('boruta', ascending=False).index.to_list()"
   ]
  },
  {
   "cell_type": "code",
   "execution_count": null,
   "id": "384df380",
   "metadata": {
    "ExecuteTime": {
     "end_time": "2021-07-22T14:44:53.885967Z",
     "start_time": "2021-07-22T14:44:53.866965Z"
    },
    "hidden": true,
    "id": "ZjmwnkrIcBKV"
   },
   "outputs": [],
   "source": [
    "ranking_boruta = [1, 2, 1, 1, 1, 1, 1, 1, 1, 1]\n",
    "ranking['boruta'] = ranking_boruta"
   ]
  },
  {
   "cell_type": "markdown",
   "id": "1926f45c",
   "metadata": {
    "heading_collapsed": true,
    "hidden": true
   },
   "source": [
    "###### Chosen features"
   ]
  },
  {
   "cell_type": "code",
   "execution_count": null,
   "id": "2df6e6af",
   "metadata": {
    "ExecuteTime": {
     "end_time": "2021-07-22T14:44:53.951955Z",
     "start_time": "2021-07-22T14:44:53.894964Z"
    },
    "hidden": true
   },
   "outputs": [],
   "source": [
    "ranking"
   ]
  },
  {
   "cell_type": "code",
   "execution_count": null,
   "id": "031c6b05",
   "metadata": {
    "ExecuteTime": {
     "end_time": "2021-07-22T14:44:55.581768Z",
     "start_time": "2021-07-22T14:44:53.959959Z"
    },
    "hidden": true,
    "scrolled": false
   },
   "outputs": [],
   "source": [
    "ranking[['importance_xgb', 'importance_rf']].plot.bar()"
   ]
  },
  {
   "cell_type": "code",
   "execution_count": null,
   "id": "04ca7605",
   "metadata": {
    "ExecuteTime": {
     "end_time": "2021-07-22T14:44:55.895733Z",
     "start_time": "2021-07-22T14:44:55.589765Z"
    },
    "hidden": true
   },
   "outputs": [],
   "source": [
    "# Removendo features desinteressantes segundo a Feature Selection\n",
    "remover_features_ = ['Driving_License']\n",
    "\n",
    "X_smote = pd.DataFrame(X_smote, columns=X.columns)\n",
    "X_train_smote = pd.DataFrame(X_train_smote, columns=X.columns)\n",
    "X_valid = pd.DataFrame(X_valid, columns=X.columns)\n",
    "X_test = pd.DataFrame(X_test, columns=X.columns)\n",
    "\n",
    "X_smote.drop(remover_features_, axis=1, inplace=True)\n",
    "X_train_smote.drop(remover_features_, axis=1, inplace=True)\n",
    "X_valid.drop(remover_features_, axis=1, inplace=True)\n",
    "X_test.drop(remover_features_, axis=1, inplace=True)\n",
    "\n",
    "X_smote = X_smote.to_numpy()\n",
    "X_train_smote = X_train_smote.to_numpy()\n",
    "X_valid = X_valid.to_numpy()\n",
    "X_test = X_test.to_numpy()"
   ]
  },
  {
   "cell_type": "markdown",
   "id": "e17c0773",
   "metadata": {
    "heading_collapsed": true,
    "hidden": true,
    "id": "4wMecwaP5H-U"
   },
   "source": [
    "### Machine Learning"
   ]
  },
  {
   "cell_type": "markdown",
   "id": "b86e32cc",
   "metadata": {
    "heading_collapsed": true,
    "hidden": true,
    "id": "riZ97EQlFUkX"
   },
   "source": [
    "#### Principais Insights:\n",
    "A métrica para escolha do modelo final e predições será ROC_AUC, para responder às perguntas de negócio serão utilizadas as métricas PRECISION e RECALL do evento ocorrer, portanto as três serão abordadas. \n",
    "1. Modelo XGBoostt: PRECISION de 0.33, RECALL de 0.63 e ROC_AUC 0.73\n",
    "2. Modelo Random Forest: PRECISION de 0.32, RECALL de 0.41 e ROC_AUC 0.64\n",
    "3. Modelo Logistic Regression: PRECISION de 0.27, RECALL de 0.93 e ROC_AUC 0.79\n",
    "4. Modelo SVM: PRECISION de 0.xx, RECALL de 0.xx e ROC_AUC 0.xx\n",
    "5. Modelo KNN: PRECISION de 0.29, RECALL de 0.63 e ROC_AUC 0.71"
   ]
  },
  {
   "cell_type": "markdown",
   "id": "6474634b",
   "metadata": {
    "hidden": true,
    "id": "-_vbNxPy2bZu"
   },
   "source": [
    "#### Modelos"
   ]
  },
  {
   "cell_type": "markdown",
   "id": "4cedbfc3",
   "metadata": {
    "heading_collapsed": true,
    "hidden": true
   },
   "source": [
    "###### XGBoost"
   ]
  },
  {
   "cell_type": "code",
   "execution_count": null,
   "id": "0d58ae5a",
   "metadata": {
    "ExecuteTime": {
     "end_time": "2021-07-22T14:44:55.913731Z",
     "start_time": "2021-07-22T14:44:55.902732Z"
    },
    "colab": {
     "base_uri": "https://localhost:8080/"
    },
    "hidden": true,
    "id": "SwR93uT_yDDW",
    "outputId": "62c40a77-b2e0-41b7-864f-1248831a1f3c",
    "scrolled": false
   },
   "outputs": [],
   "source": [
    "# # model description\n",
    "# xgb_model = XGBClassifier(use_label_encoder=False, eval_metric='error')\n",
    "\n",
    "# # fiting model\n",
    "# xgb_fit = xgb_model.fit(X_smote, y_smote)\n",
    "# xgb_predict = xgb_fit.predict(X_valid)\n",
    "\n",
    "# print('Treino\\n')\n",
    "# print(classification_report(y_valid, xgb_predict))\n",
    "# xgb_roc_auc_train = roc_auc_score(y_valid, xgb_predict)\n",
    "# print(f'roc_auc_score: {round(xgb_roc_auc_train, 2)}')\n",
    "# xgb_predict = xgb_fit.predict(X_test)\n",
    "# print()\n",
    "# print('Teste\\n')\n",
    "# print(classification_report(y_test, xgb_predict))\n",
    "# xgb_roc_auc_test = roc_auc_score(y_test, xgb_predict)\n",
    "# print(f'roc_auc_score: {round(xgb_roc_auc_test, 2)}')\n",
    "# xgb_overfiting = xgb_roc_auc_train/xgb_roc_auc_test - 1\n",
    "# print(f'O modelo está overfitando em {round(xgb_overfiting, 2)}%')"
   ]
  },
  {
   "cell_type": "markdown",
   "id": "21bbd307",
   "metadata": {
    "heading_collapsed": true,
    "hidden": true
   },
   "source": [
    "###### Random Forest"
   ]
  },
  {
   "cell_type": "code",
   "execution_count": null,
   "id": "2d7c3772",
   "metadata": {
    "ExecuteTime": {
     "end_time": "2021-07-22T14:44:55.940726Z",
     "start_time": "2021-07-22T14:44:55.923726Z"
    },
    "colab": {
     "base_uri": "https://localhost:8080/"
    },
    "hidden": true,
    "id": "SwR93uT_yDDW",
    "outputId": "62c40a77-b2e0-41b7-864f-1248831a1f3c",
    "scrolled": false
   },
   "outputs": [],
   "source": [
    "# # model description\n",
    "# rf_model = RandomForestClassifier()\n",
    "\n",
    "# # fiting model\n",
    "# rf_fit = rf_model.fit(X_smote, y_smote)\n",
    "# rf_predict = rf_fit.predict(X_valid)\n",
    "\n",
    "# print('Treino\\n')\n",
    "# print(classification_report(y_valid, rf_predict))\n",
    "# rf_roc_auc_train = roc_auc_score(y_valid, rf_predict)\n",
    "# print(f'roc_auc_score: {round(rf_roc_auc_train, 2)}')\n",
    "# rf_predict = rf_fit.predict(X_test)\n",
    "# print()\n",
    "# print('Teste\\n')\n",
    "# print(classification_report(y_test, rf_predict))\n",
    "# rf_roc_auc_test = roc_auc_score(y_test, rf_predict)\n",
    "# print(f'roc_auc_score: {round(rf_roc_auc_test, 2)}')\n",
    "# rf_overfiting = rf_roc_auc_train/rf_roc_auc_test - 1\n",
    "# print(f'O modelo está overfitando em {round(rf_overfiting, 2)}%')"
   ]
  },
  {
   "cell_type": "markdown",
   "id": "4ab6f6e0",
   "metadata": {
    "heading_collapsed": true,
    "hidden": true
   },
   "source": [
    "###### Logistic Regression"
   ]
  },
  {
   "cell_type": "code",
   "execution_count": null,
   "id": "25b3c4f9",
   "metadata": {
    "ExecuteTime": {
     "end_time": "2021-07-22T14:44:55.972723Z",
     "start_time": "2021-07-22T14:44:55.949725Z"
    },
    "hidden": true
   },
   "outputs": [],
   "source": [
    "# # model description\n",
    "# lr_model = LogisticRegression()\n",
    "\n",
    "# # fiting model\n",
    "# lr_fit = lr_model.fit(X_smote, y_smote)\n",
    "# lr_predict = lr_fit.predict(X_valid)\n",
    "\n",
    "# print('Treino\\n')\n",
    "# print(classification_report(y_valid, lr_predict))\n",
    "# lr_roc_auc_train = roc_auc_score(y_valid, lr_predict)\n",
    "# print(f'roc_auc_score: {round(lr_roc_auc_train, 2)}')\n",
    "# lr_predict = lr_fit.predict(X_test)\n",
    "# print()\n",
    "# print('Teste\\n')\n",
    "# print(classification_report(y_test, lr_predict))\n",
    "# lr_roc_auc_test = roc_auc_score(y_test, lr_predict)\n",
    "# print(f'roc_auc_score: {round(lr_roc_auc_test, 2)}')\n",
    "# lr_overfiting = rf_roc_auc_train/lr_roc_auc_test - 1\n",
    "# print(f'O modelo está overfitando em {round(lr_overfiting, 2)}%')"
   ]
  },
  {
   "cell_type": "markdown",
   "id": "0e0c763c",
   "metadata": {
    "heading_collapsed": true,
    "hidden": true
   },
   "source": [
    "###### Suport Vector Machine"
   ]
  },
  {
   "cell_type": "code",
   "execution_count": null,
   "id": "4e00488f",
   "metadata": {
    "ExecuteTime": {
     "start_time": "2021-07-22T14:30:13.752Z"
    },
    "hidden": true
   },
   "outputs": [],
   "source": [
    "# # model description\n",
    "# svm_model = SVC()\n",
    "\n",
    "# # fiting model\n",
    "# svm_fit = svm_model.fit(X_smote, y_smote)\n",
    "# svm_predict = svm_fit.predict(X_valid)\n",
    "\n",
    "# print('Treino\\n')\n",
    "# print(classification_report(y_valid, svm_predict))\n",
    "# svm_roc_auc_train = roc_auc_score(y_valid, svm_predict)\n",
    "# print(f'roc_auc_score: {round(svm_roc_auc_train, 2)}')\n",
    "# svm_predict = svm_fit.predict(X_test)\n",
    "# print()\n",
    "# print('Teste\\n')\n",
    "# print(classification_report(y_test, svm_predict))\n",
    "# svm_roc_auc_test = roc_auc_score(y_test, svm_predict)\n",
    "# print(f'roc_auc_score: {round(svm_roc_auc_test, 2)}')\n",
    "# svm_overfiting = svm_roc_auc_train/svm_roc_auc_test - 1\n",
    "# print(f'O modelo está overfitando em {round(svm_overfiting, 2)}%')"
   ]
  },
  {
   "cell_type": "markdown",
   "id": "3de85206",
   "metadata": {
    "heading_collapsed": true,
    "hidden": true
   },
   "source": [
    "###### KNN"
   ]
  },
  {
   "cell_type": "code",
   "execution_count": null,
   "id": "4fd588e0",
   "metadata": {
    "ExecuteTime": {
     "start_time": "2021-07-22T14:30:13.773Z"
    },
    "hidden": true
   },
   "outputs": [],
   "source": [
    "# # model description\n",
    "# neigh_model = KNeighborsClassifier()\n",
    "\n",
    "# # fiting model\n",
    "# neigh_fit = neigh_model.fit(X_smote, y_smote)\n",
    "# neigh_predict = neigh_fit.predict(X_valid)\n",
    "\n",
    "# print('Treino\\n')\n",
    "# print(classification_report(y_valid, neigh_predict))\n",
    "# neigh_roc_auc_train = roc_auc_score(y_valid, neigh_predict)\n",
    "# print(f'roc_auc_score: {round(neigh_roc_auc_train, 2)}')\n",
    "# neigh_predict = neigh_fit.predict(X_test)\n",
    "# print()\n",
    "# print('Teste\\n')\n",
    "# print(classification_report(y_test, neigh_predict))\n",
    "# neigh_roc_auc_test = roc_auc_score(y_test, neigh_predict)\n",
    "# print(f'roc_auc_score: {round(neigh_roc_auc_test, 2)}')\n",
    "# neigh_overfiting = neigh_roc_auc_train/neigh_roc_auc_test - 1\n",
    "# print(f'O modelo está overfitando em {round(neigh_overfiting, 2)}%')"
   ]
  },
  {
   "cell_type": "markdown",
   "id": "2c18aebf",
   "metadata": {
    "heading_collapsed": true,
    "hidden": true,
    "id": "GyzAfU3afq2C"
   },
   "source": [
    "#### Predicts"
   ]
  },
  {
   "cell_type": "markdown",
   "id": "f70a939b",
   "metadata": {
    "heading_collapsed": true,
    "id": "VyK5Ul7HI6_4"
   },
   "source": [
    "# 7.0 Results and Conclusions"
   ]
  },
  {
   "cell_type": "markdown",
   "id": "2af1d4c2",
   "metadata": {},
   "source": [
    "# Time"
   ]
  },
  {
   "cell_type": "code",
   "execution_count": null,
   "id": "783158a0",
   "metadata": {
    "ExecuteTime": {
     "start_time": "2021-07-22T14:30:13.801Z"
    },
    "scrolled": true
   },
   "outputs": [],
   "source": [
    "print(f'O tempo de processamento do projeto foi de: {int(round(time.time()-time_agora, 2)/60)} minutos')"
   ]
  },
  {
   "cell_type": "markdown",
   "id": "1d508364",
   "metadata": {
    "heading_collapsed": true
   },
   "source": [
    "# Continua..."
   ]
  }
 ],
 "metadata": {
  "kernelspec": {
   "display_name": "Python 3",
   "language": "python",
   "name": "python3"
  },
  "language_info": {
   "codemirror_mode": {
    "name": "ipython",
    "version": 3
   },
   "file_extension": ".py",
   "mimetype": "text/x-python",
   "name": "python",
   "nbconvert_exporter": "python",
   "pygments_lexer": "ipython3",
   "version": "3.8.8"
  },
  "widgets": {
   "application/vnd.jupyter.widget-state+json": {
    "state": {},
    "version_major": 2,
    "version_minor": 0
   }
  }
 },
 "nbformat": 4,
 "nbformat_minor": 5
}
