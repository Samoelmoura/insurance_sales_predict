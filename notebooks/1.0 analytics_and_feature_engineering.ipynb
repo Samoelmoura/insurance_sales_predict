{
 "cells": [
  {
   "cell_type": "markdown",
   "id": "f5f22930",
   "metadata": {
    "heading_collapsed": true
   },
   "source": [
    "# Reports\n",
    "1. Inputs: data raw from kaggle\n",
    "2. Outputs: analytics and data with feature engineering\n",
    "3. ..."
   ]
  },
  {
   "cell_type": "markdown",
   "id": "bab69ead",
   "metadata": {},
   "source": [
    "# 1.0 Imports"
   ]
  },
  {
   "cell_type": "markdown",
   "id": "76ebb6e8",
   "metadata": {},
   "source": [
    "###### 1.1 Libraries"
   ]
  },
  {
   "cell_type": "code",
   "execution_count": 1,
   "id": "17351970",
   "metadata": {
    "ExecuteTime": {
     "end_time": "2021-12-11T01:26:47.373054Z",
     "start_time": "2021-12-11T01:26:45.313946Z"
    },
    "scrolled": true
   },
   "outputs": [],
   "source": [
    "import pandas as pd\n",
    "import numpy as np\n",
    "import matplotlib.pyplot as plt\n",
    "import seaborn as sns\n",
    "import pylab as pl\n",
    "\n",
    "from sklearn.preprocessing import StandardScaler, LabelEncoder\n",
    "from sklearn.decomposition import PCA\n",
    "from sklearn.tree import DecisionTreeClassifier, plot_tree\n",
    "\n",
    "from scipy.stats import shapiro, kstest\n",
    "\n",
    "from scipy.stats import ttest_ind\n",
    "\n",
    "import pickle\n",
    "\n",
    "import time\n",
    "import warnings\n",
    "\n",
    "# Tempo de processamento\n",
    "time_agora = time.time()"
   ]
  },
  {
   "cell_type": "markdown",
   "id": "e61922aa",
   "metadata": {
    "heading_collapsed": true
   },
   "source": [
    "###### 1.2 Helper Functions"
   ]
  },
  {
   "cell_type": "code",
   "execution_count": 2,
   "id": "bda67886",
   "metadata": {
    "ExecuteTime": {
     "end_time": "2021-12-10T23:47:21.466425Z",
     "start_time": "2021-12-10T23:47:21.405111Z"
    },
    "hidden": true
   },
   "outputs": [],
   "source": [
    "def comparar_features(series1, series2, confiança, qtd_amostras):\n",
    "    print('Series 1')\n",
    "    print(f'Média = {round(series1.mean(), 2)}')\n",
    "    print(f'Desvio padrão = {round(series1.std(), 2)}')\n",
    "    print()\n",
    "    print('Series 2')\n",
    "    print(f'Média = {round(series2.mean(), 2)}')\n",
    "    print(f'Desvio padrão = {round(series2.std(), 2)}')\n",
    "    aleatório1 = np.random.choice(series1.dropna(), qtd_amostras)\n",
    "    aleatório2 = np.random.choice(series2.dropna(), qtd_amostras)\n",
    "    stat, p = ttest_ind(aleatório1, aleatório2)\n",
    "    print(f'statistic = {round(stat, 2)}, p = {round(p, 2)}')\n",
    "  \n",
    "    if p < confiança:\n",
    "        print(f'\\nCom um p-valor igual à {round(p, 2)}, as series são estatísticamente DIFERENTES com um grau de confiança de {round(100-confiança*100)}%')\n",
    "    if p > confiança:\n",
    "        print(f'\\nCom um p-valor igual à {round(p, 2)}, as series são estatísticamente IGUAIS com um grau de confiança de {round(100-confiança*100)}%')\n",
    "\n",
    "\n",
    "# Função buscar outlier pelo método do 6 Sigma\n",
    "def buscar_outlier(df, series):\n",
    "    média = df[series].mean()\n",
    "    desvio_padrão = df[series].std()\n",
    "    lis = média - (desvio_padrão * 3)\n",
    "    lss = média + (desvio_padrão * 3)\n",
    "    lista_outliers = df[(df[series] < lis) | (df[series] > lss)].index\n",
    "    return lista_outliers, lis, lss\n",
    "\n",
    "# Análise descritiva de primeira ordem\n",
    "def analise_descritiva(x):\n",
    "    print(f'A média da Series é: {round(np.mean(x), 2)}')\n",
    "    print(f'O valor máximo da Series é: {np.max(x)}')\n",
    "    print(f'O valor mínimo da Series é: {np.min(x)}')\n",
    "    print(f'O range é de: {np.max(x)-np.min(x)}')\n",
    "    print(f'O desvio padrão da Series é: {round(np.std(x), 2)}')\n",
    "    print(f'A curtose da Series é: {round(x.kurtosis(), 2)}')\n",
    "    print(f'A skew da Series é: {round(x.skew(), 2)}')\n",
    "    \n",
    "# Teste de Shapiro\n",
    "def teste_shapiro(df, series):\n",
    "    random_index = np.random.choice(df.index, 500)\n",
    "    temp = df.loc[random_index]\n",
    "    shapiro_test = shapiro(temp[series].dropna())\n",
    "    if shapiro_test.pvalue > 0.05:\n",
    "        print(f'Com um p-valor = {round(shapiro_test.pvalue, 3)}, e alpha de 5%, falha em rejeitar a hipótese nula.')\n",
    "    else:\n",
    "        print(f'Com um p-valor = {round(shapiro_test.pvalue, 3)}, e alpha de 5%, rejeita a hipótese nula.')"
   ]
  },
  {
   "cell_type": "markdown",
   "id": "ce2d526c",
   "metadata": {
    "heading_collapsed": true
   },
   "source": [
    "###### 1.3 Loading Dataset"
   ]
  },
  {
   "cell_type": "code",
   "execution_count": 3,
   "id": "6109b44a",
   "metadata": {
    "ExecuteTime": {
     "end_time": "2021-12-10T23:47:21.935161Z",
     "start_time": "2021-12-10T23:47:21.467427Z"
    },
    "hidden": true,
    "id": "A_vrsVlknJ2z"
   },
   "outputs": [],
   "source": [
    "train = pd.read_csv(r'D:\\\\My Drive\\\\Pessoal\\\\Projetos\\\\insurance_sales_predict\\\\insurance_sales_predict\\\\train.csv')\n",
    "test = pd.read_csv(r'D:\\\\My Drive\\\\Pessoal\\\\Projetos\\\\insurance_sales_predict\\\\insurance_sales_predict\\\\test.csv')"
   ]
  },
  {
   "cell_type": "markdown",
   "id": "fd28b114",
   "metadata": {
    "heading_collapsed": true
   },
   "source": [
    "###### 1.4 Concating Train and Test into a Matrix Dataset"
   ]
  },
  {
   "cell_type": "code",
   "execution_count": 4,
   "id": "107e8b1a",
   "metadata": {
    "ExecuteTime": {
     "end_time": "2021-12-10T23:47:22.059549Z",
     "start_time": "2021-12-10T23:47:21.937160Z"
    },
    "hidden": true
   },
   "outputs": [],
   "source": [
    "df_raw = pd.concat([train, test])\n",
    "df = df_raw.copy()"
   ]
  },
  {
   "cell_type": "markdown",
   "id": "8e6562b2",
   "metadata": {
    "heading_collapsed": true
   },
   "source": [
    "###### 1.5 Creating Submission Table"
   ]
  },
  {
   "cell_type": "code",
   "execution_count": 5,
   "id": "a539ca89",
   "metadata": {
    "ExecuteTime": {
     "end_time": "2021-12-10T23:47:22.090102Z",
     "start_time": "2021-12-10T23:47:22.061544Z"
    },
    "hidden": true
   },
   "outputs": [],
   "source": [
    "submission = pd.DataFrame()\n",
    "submission['id'] = test['id']"
   ]
  },
  {
   "cell_type": "markdown",
   "id": "2eecf223",
   "metadata": {
    "heading_collapsed": true,
    "id": "Mok1q9y5cpP-"
   },
   "source": [
    "# 2.0 Data Description"
   ]
  },
  {
   "cell_type": "markdown",
   "id": "2404a497",
   "metadata": {
    "heading_collapsed": true,
    "hidden": true,
    "id": "OPCzm7YK0FxI"
   },
   "source": [
    "## 2.1 General Analysis"
   ]
  },
  {
   "cell_type": "markdown",
   "id": "486b77cd",
   "metadata": {
    "heading_collapsed": true,
    "hidden": true
   },
   "source": [
    "##### 2.1.0 Main insights:\n",
    "\n",
    "###### Response:\n",
    "1. Desbalanceada com 12% de eventos positivos\n",
    "\n",
    "###### Vehicle_Age:\n",
    "1. Mais da metade dos clientes possuem carros com menos de 1 ano\n",
    "\n",
    "###### Region_Code:\n",
    "1. 53 regiões\n",
    "2. 28% dos clientes está contido na região 28. \n",
    "3. 50% dos dados estão contidos nas 5 regiões mais numerosas\n",
    "\n",
    "###### Policy_Sales_Channel:\n",
    "1. Há 157 Policy_Sales_Channel e aproximadamente um terço das amostras está contido no canal 152\n",
    "\n",
    "###### Vintage:\n",
    "1. Feature categórica, há 290 categorias em Vintage\n",
    "\n",
    "###### Age:\n",
    "1. Range de idade de 25 até 85 anos, aparentemente sem erros de input"
   ]
  },
  {
   "cell_type": "markdown",
   "id": "8513ff12",
   "metadata": {
    "heading_collapsed": true,
    "hidden": true
   },
   "source": [
    "##### 2.1.1 Data dimensions"
   ]
  },
  {
   "cell_type": "code",
   "execution_count": 6,
   "id": "393a5d23",
   "metadata": {
    "ExecuteTime": {
     "end_time": "2021-12-10T23:47:22.106047Z",
     "start_time": "2021-12-10T23:47:22.092810Z"
    },
    "colab": {
     "base_uri": "https://localhost:8080/"
    },
    "hidden": true,
    "id": "Zwy0E8ZIpLPl",
    "outputId": "92dac05e-4d44-4748-b5bd-068d3508e129"
   },
   "outputs": [
    {
     "name": "stdout",
     "output_type": "stream",
     "text": [
      "Number of rows: 381109\n",
      "Number of columns: 12\n"
     ]
    }
   ],
   "source": [
    "print(f'Number of rows: {train.shape[0]}')\n",
    "print(f'Number of columns: {train.shape[1]}')"
   ]
  },
  {
   "cell_type": "markdown",
   "id": "949283e5",
   "metadata": {
    "heading_collapsed": true,
    "hidden": true
   },
   "source": [
    "##### 2.1.2 Data types"
   ]
  },
  {
   "cell_type": "code",
   "execution_count": 7,
   "id": "4dcd82f7",
   "metadata": {
    "ExecuteTime": {
     "end_time": "2021-12-10T23:47:22.122080Z",
     "start_time": "2021-12-10T23:47:22.108041Z"
    },
    "colab": {
     "base_uri": "https://localhost:8080/"
    },
    "hidden": true,
    "id": "BR3AJxskpRTN",
    "outputId": "91bbf7cc-7a02-43fc-c5b0-0fffcda46562",
    "scrolled": true
   },
   "outputs": [
    {
     "data": {
      "text/plain": [
       "id                        int64\n",
       "Gender                   object\n",
       "Age                       int64\n",
       "Driving_License           int64\n",
       "Region_Code             float64\n",
       "Previously_Insured        int64\n",
       "Vehicle_Age              object\n",
       "Vehicle_Damage           object\n",
       "Annual_Premium          float64\n",
       "Policy_Sales_Channel    float64\n",
       "Vintage                   int64\n",
       "Response                  int64\n",
       "dtype: object"
      ]
     },
     "execution_count": 7,
     "metadata": {},
     "output_type": "execute_result"
    }
   ],
   "source": [
    "train.dtypes"
   ]
  },
  {
   "cell_type": "markdown",
   "id": "1d9e8c28",
   "metadata": {
    "heading_collapsed": true,
    "hidden": true
   },
   "source": [
    "##### 2.1.3 Look table"
   ]
  },
  {
   "cell_type": "code",
   "execution_count": 8,
   "id": "2447cc4a",
   "metadata": {
    "ExecuteTime": {
     "end_time": "2021-12-10T23:47:22.153383Z",
     "start_time": "2021-12-10T23:47:22.124613Z"
    },
    "colab": {
     "base_uri": "https://localhost:8080/",
     "height": 0
    },
    "hidden": true,
    "id": "FhdmLhs-pFXH",
    "outputId": "9e3dabbb-51ee-4f2e-9523-3c887a2e44ef",
    "scrolled": false
   },
   "outputs": [
    {
     "data": {
      "text/html": [
       "<div>\n",
       "<style scoped>\n",
       "    .dataframe tbody tr th:only-of-type {\n",
       "        vertical-align: middle;\n",
       "    }\n",
       "\n",
       "    .dataframe tbody tr th {\n",
       "        vertical-align: top;\n",
       "    }\n",
       "\n",
       "    .dataframe thead th {\n",
       "        text-align: right;\n",
       "    }\n",
       "</style>\n",
       "<table border=\"1\" class=\"dataframe\">\n",
       "  <thead>\n",
       "    <tr style=\"text-align: right;\">\n",
       "      <th></th>\n",
       "      <th>id</th>\n",
       "      <th>Gender</th>\n",
       "      <th>Age</th>\n",
       "      <th>Driving_License</th>\n",
       "      <th>Region_Code</th>\n",
       "      <th>Previously_Insured</th>\n",
       "      <th>Vehicle_Age</th>\n",
       "      <th>Vehicle_Damage</th>\n",
       "      <th>Annual_Premium</th>\n",
       "      <th>Policy_Sales_Channel</th>\n",
       "      <th>Vintage</th>\n",
       "      <th>Response</th>\n",
       "    </tr>\n",
       "  </thead>\n",
       "  <tbody>\n",
       "    <tr>\n",
       "      <th>0</th>\n",
       "      <td>1</td>\n",
       "      <td>Male</td>\n",
       "      <td>44</td>\n",
       "      <td>1</td>\n",
       "      <td>28.0</td>\n",
       "      <td>0</td>\n",
       "      <td>&gt; 2 Years</td>\n",
       "      <td>Yes</td>\n",
       "      <td>40454.0</td>\n",
       "      <td>26.0</td>\n",
       "      <td>217</td>\n",
       "      <td>1</td>\n",
       "    </tr>\n",
       "    <tr>\n",
       "      <th>1</th>\n",
       "      <td>2</td>\n",
       "      <td>Male</td>\n",
       "      <td>76</td>\n",
       "      <td>1</td>\n",
       "      <td>3.0</td>\n",
       "      <td>0</td>\n",
       "      <td>1-2 Year</td>\n",
       "      <td>No</td>\n",
       "      <td>33536.0</td>\n",
       "      <td>26.0</td>\n",
       "      <td>183</td>\n",
       "      <td>0</td>\n",
       "    </tr>\n",
       "    <tr>\n",
       "      <th>2</th>\n",
       "      <td>3</td>\n",
       "      <td>Male</td>\n",
       "      <td>47</td>\n",
       "      <td>1</td>\n",
       "      <td>28.0</td>\n",
       "      <td>0</td>\n",
       "      <td>&gt; 2 Years</td>\n",
       "      <td>Yes</td>\n",
       "      <td>38294.0</td>\n",
       "      <td>26.0</td>\n",
       "      <td>27</td>\n",
       "      <td>1</td>\n",
       "    </tr>\n",
       "    <tr>\n",
       "      <th>3</th>\n",
       "      <td>4</td>\n",
       "      <td>Male</td>\n",
       "      <td>21</td>\n",
       "      <td>1</td>\n",
       "      <td>11.0</td>\n",
       "      <td>1</td>\n",
       "      <td>&lt; 1 Year</td>\n",
       "      <td>No</td>\n",
       "      <td>28619.0</td>\n",
       "      <td>152.0</td>\n",
       "      <td>203</td>\n",
       "      <td>0</td>\n",
       "    </tr>\n",
       "    <tr>\n",
       "      <th>4</th>\n",
       "      <td>5</td>\n",
       "      <td>Female</td>\n",
       "      <td>29</td>\n",
       "      <td>1</td>\n",
       "      <td>41.0</td>\n",
       "      <td>1</td>\n",
       "      <td>&lt; 1 Year</td>\n",
       "      <td>No</td>\n",
       "      <td>27496.0</td>\n",
       "      <td>152.0</td>\n",
       "      <td>39</td>\n",
       "      <td>0</td>\n",
       "    </tr>\n",
       "  </tbody>\n",
       "</table>\n",
       "</div>"
      ],
      "text/plain": [
       "   id  Gender  Age  Driving_License  Region_Code  Previously_Insured  \\\n",
       "0   1    Male   44                1         28.0                   0   \n",
       "1   2    Male   76                1          3.0                   0   \n",
       "2   3    Male   47                1         28.0                   0   \n",
       "3   4    Male   21                1         11.0                   1   \n",
       "4   5  Female   29                1         41.0                   1   \n",
       "\n",
       "  Vehicle_Age Vehicle_Damage  Annual_Premium  Policy_Sales_Channel  Vintage  \\\n",
       "0   > 2 Years            Yes         40454.0                  26.0      217   \n",
       "1    1-2 Year             No         33536.0                  26.0      183   \n",
       "2   > 2 Years            Yes         38294.0                  26.0       27   \n",
       "3    < 1 Year             No         28619.0                 152.0      203   \n",
       "4    < 1 Year             No         27496.0                 152.0       39   \n",
       "\n",
       "   Response  \n",
       "0         1  \n",
       "1         0  \n",
       "2         1  \n",
       "3         0  \n",
       "4         0  "
      ]
     },
     "execution_count": 8,
     "metadata": {},
     "output_type": "execute_result"
    }
   ],
   "source": [
    "train.head()"
   ]
  },
  {
   "cell_type": "markdown",
   "id": "f6ea5b32",
   "metadata": {
    "hidden": true
   },
   "source": [
    "Gender, Vehicle_Age, Vehicle_Damage precisam ser transformados para que possam haver estudos de correlação"
   ]
  },
  {
   "cell_type": "markdown",
   "id": "ac06277a",
   "metadata": {
    "heading_collapsed": true,
    "hidden": true
   },
   "source": [
    "##### 2.1.4 Changing Interesting datatypes"
   ]
  },
  {
   "cell_type": "code",
   "execution_count": 9,
   "id": "ea717c09",
   "metadata": {
    "ExecuteTime": {
     "end_time": "2021-12-10T23:47:22.478518Z",
     "start_time": "2021-12-10T23:47:22.155614Z"
    },
    "hidden": true
   },
   "outputs": [],
   "source": [
    "le_gender = LabelEncoder().fit(df['Gender'])\n",
    "df['Gender_'] = le_gender.transform(df['Gender'])\n",
    "\n",
    "le_vehicle_damage = LabelEncoder().fit(df['Vehicle_Damage'])\n",
    "df['Vehicle_Damage_'] = le_vehicle_damage.transform(df['Vehicle_Damage'])\n",
    "\n",
    "le_vehicle_age = LabelEncoder().fit(df['Vehicle_Age'])\n",
    "df['Vehicle_Age_'] = le_vehicle_age.transform(df['Vehicle_Age'])"
   ]
  },
  {
   "cell_type": "markdown",
   "id": "7c8e6df5",
   "metadata": {
    "heading_collapsed": true,
    "hidden": true
   },
   "source": [
    "##### 2.1.5 Segregating feature types"
   ]
  },
  {
   "cell_type": "code",
   "execution_count": 10,
   "id": "da5eddb4",
   "metadata": {
    "ExecuteTime": {
     "end_time": "2021-12-10T23:47:22.493866Z",
     "start_time": "2021-12-10T23:47:22.482516Z"
    },
    "hidden": true
   },
   "outputs": [],
   "source": [
    "features_id = ['id']\n",
    "features_string = ['Gender', 'Vehicle_Damage', 'Vehicle_Age']\n",
    "features_categóricas = ['Gender_', 'Vehicle_Damage_', 'Vehicle_Age_', 'Driving_License', 'Region_Code', 'Previously_Insured', 'Policy_Sales_Channel', 'Vintage']\n",
    "features_numéricas = ['Age', 'Annual_Premium']\n",
    "target = ['Response']"
   ]
  },
  {
   "cell_type": "markdown",
   "id": "5edbf76a",
   "metadata": {
    "heading_collapsed": true,
    "hidden": true
   },
   "source": [
    "##### 2.1.6 Check NaN values"
   ]
  },
  {
   "cell_type": "code",
   "execution_count": 11,
   "id": "4169e7ec",
   "metadata": {
    "ExecuteTime": {
     "end_time": "2021-12-10T23:47:22.573132Z",
     "start_time": "2021-12-10T23:47:22.495862Z"
    },
    "colab": {
     "base_uri": "https://localhost:8080/"
    },
    "hidden": true,
    "id": "MI1tbVODqV7w",
    "outputId": "531330d8-401f-473c-ad80-247536756b93",
    "scrolled": true
   },
   "outputs": [
    {
     "data": {
      "text/plain": [
       "id                           0\n",
       "Gender                       0\n",
       "Age                          0\n",
       "Driving_License              0\n",
       "Region_Code                  0\n",
       "Previously_Insured           0\n",
       "Vehicle_Age                  0\n",
       "Vehicle_Damage               0\n",
       "Annual_Premium               0\n",
       "Policy_Sales_Channel         0\n",
       "Vintage                      0\n",
       "Response                127037\n",
       "Gender_                      0\n",
       "Vehicle_Damage_              0\n",
       "Vehicle_Age_                 0\n",
       "dtype: int64"
      ]
     },
     "execution_count": 11,
     "metadata": {},
     "output_type": "execute_result"
    }
   ],
   "source": [
    "df.isna().sum()"
   ]
  },
  {
   "cell_type": "markdown",
   "id": "59d2d673",
   "metadata": {
    "hidden": true,
    "id": "XRMPolchqY1f"
   },
   "source": [
    "Sem valores nulos"
   ]
  },
  {
   "cell_type": "markdown",
   "id": "4437ccc8",
   "metadata": {
    "heading_collapsed": true,
    "hidden": true
   },
   "source": [
    "## 2.2 Descriptive Statistics"
   ]
  },
  {
   "cell_type": "markdown",
   "id": "016a9b27",
   "metadata": {
    "heading_collapsed": true,
    "hidden": true
   },
   "source": [
    "### 2.2.1 Target"
   ]
  },
  {
   "cell_type": "code",
   "execution_count": 12,
   "id": "33666982",
   "metadata": {
    "ExecuteTime": {
     "end_time": "2021-12-10T23:47:22.588663Z",
     "start_time": "2021-12-10T23:47:22.574813Z"
    },
    "hidden": true
   },
   "outputs": [
    {
     "name": "stdout",
     "output_type": "stream",
     "text": [
      "A porcentagem de interessados no produto é: 12.0 %\n"
     ]
    }
   ],
   "source": [
    "print(f'A porcentagem de interessados no produto é: {round(df[\"Response\"].mean(), 2) * 100} %')"
   ]
  },
  {
   "cell_type": "markdown",
   "id": "1dd6a697",
   "metadata": {
    "hidden": true
   },
   "source": [
    "Desbalanceada"
   ]
  },
  {
   "cell_type": "markdown",
   "id": "87762e11",
   "metadata": {
    "heading_collapsed": true,
    "hidden": true
   },
   "source": [
    "### 2.2.2 Numerical Features"
   ]
  },
  {
   "cell_type": "code",
   "execution_count": 13,
   "id": "c51d0503",
   "metadata": {
    "ExecuteTime": {
     "end_time": "2021-12-10T23:47:22.665988Z",
     "start_time": "2021-12-10T23:47:22.590597Z"
    },
    "colab": {
     "base_uri": "https://localhost:8080/",
     "height": 0
    },
    "hidden": true,
    "id": "R3zqwAqNtq0t",
    "outputId": "74ae0af1-3205-4f40-f697-53ba371ecfd9",
    "scrolled": false
   },
   "outputs": [
    {
     "data": {
      "text/html": [
       "<div>\n",
       "<style scoped>\n",
       "    .dataframe tbody tr th:only-of-type {\n",
       "        vertical-align: middle;\n",
       "    }\n",
       "\n",
       "    .dataframe tbody tr th {\n",
       "        vertical-align: top;\n",
       "    }\n",
       "\n",
       "    .dataframe thead th {\n",
       "        text-align: right;\n",
       "    }\n",
       "</style>\n",
       "<table border=\"1\" class=\"dataframe\">\n",
       "  <thead>\n",
       "    <tr style=\"text-align: right;\">\n",
       "      <th></th>\n",
       "      <th>Age</th>\n",
       "      <th>Annual_Premium</th>\n",
       "    </tr>\n",
       "  </thead>\n",
       "  <tbody>\n",
       "    <tr>\n",
       "      <th>count</th>\n",
       "      <td>508146.000000</td>\n",
       "      <td>508146.000000</td>\n",
       "    </tr>\n",
       "    <tr>\n",
       "      <th>mean</th>\n",
       "      <td>38.808413</td>\n",
       "      <td>30554.453041</td>\n",
       "    </tr>\n",
       "    <tr>\n",
       "      <th>std</th>\n",
       "      <td>15.500179</td>\n",
       "      <td>17146.574625</td>\n",
       "    </tr>\n",
       "    <tr>\n",
       "      <th>min</th>\n",
       "      <td>20.000000</td>\n",
       "      <td>2630.000000</td>\n",
       "    </tr>\n",
       "    <tr>\n",
       "      <th>25%</th>\n",
       "      <td>25.000000</td>\n",
       "      <td>24381.000000</td>\n",
       "    </tr>\n",
       "    <tr>\n",
       "      <th>50%</th>\n",
       "      <td>36.000000</td>\n",
       "      <td>31661.000000</td>\n",
       "    </tr>\n",
       "    <tr>\n",
       "      <th>75%</th>\n",
       "      <td>49.000000</td>\n",
       "      <td>39403.750000</td>\n",
       "    </tr>\n",
       "    <tr>\n",
       "      <th>max</th>\n",
       "      <td>85.000000</td>\n",
       "      <td>540165.000000</td>\n",
       "    </tr>\n",
       "  </tbody>\n",
       "</table>\n",
       "</div>"
      ],
      "text/plain": [
       "                 Age  Annual_Premium\n",
       "count  508146.000000   508146.000000\n",
       "mean       38.808413    30554.453041\n",
       "std        15.500179    17146.574625\n",
       "min        20.000000     2630.000000\n",
       "25%        25.000000    24381.000000\n",
       "50%        36.000000    31661.000000\n",
       "75%        49.000000    39403.750000\n",
       "max        85.000000   540165.000000"
      ]
     },
     "execution_count": 13,
     "metadata": {},
     "output_type": "execute_result"
    }
   ],
   "source": [
    "df[features_numéricas].describe()"
   ]
  },
  {
   "cell_type": "markdown",
   "id": "e6b49535",
   "metadata": {
    "hidden": true
   },
   "source": [
    "Range de idade entre 20 e 85 anos, sem indícios de erros de inputs, Annual_Premium com possíveis outliers"
   ]
  },
  {
   "cell_type": "markdown",
   "id": "c39cf46a",
   "metadata": {
    "heading_collapsed": true,
    "hidden": true
   },
   "source": [
    "###### Age"
   ]
  },
  {
   "cell_type": "code",
   "execution_count": 14,
   "id": "37f93afa",
   "metadata": {
    "ExecuteTime": {
     "end_time": "2021-12-10T23:47:22.712175Z",
     "start_time": "2021-12-10T23:47:22.668830Z"
    },
    "hidden": true
   },
   "outputs": [
    {
     "name": "stdout",
     "output_type": "stream",
     "text": [
      "A média da Series é: 38.81\n",
      "O valor máximo da Series é: 85\n",
      "O valor mínimo da Series é: 20\n",
      "O range é de: 65\n",
      "O desvio padrão da Series é: 15.5\n",
      "A curtose da Series é: -0.56\n",
      "A skew da Series é: 0.67\n"
     ]
    }
   ],
   "source": [
    "analise_descritiva(df['Age'])"
   ]
  },
  {
   "cell_type": "markdown",
   "id": "1e699d81",
   "metadata": {
    "heading_collapsed": true,
    "hidden": true
   },
   "source": [
    "###### Annual_Premium"
   ]
  },
  {
   "cell_type": "code",
   "execution_count": 15,
   "id": "df04b8b1",
   "metadata": {
    "ExecuteTime": {
     "end_time": "2021-12-10T23:47:22.758612Z",
     "start_time": "2021-12-10T23:47:22.715181Z"
    },
    "hidden": true
   },
   "outputs": [
    {
     "name": "stdout",
     "output_type": "stream",
     "text": [
      "A média da Series é: 30554.45\n",
      "O valor máximo da Series é: 540165.0\n",
      "O valor mínimo da Series é: 2630.0\n",
      "O range é de: 537535.0\n",
      "O desvio padrão da Series é: 17146.56\n",
      "A curtose da Series é: 30.05\n",
      "A skew da Series é: 1.6\n"
     ]
    }
   ],
   "source": [
    "analise_descritiva(df['Annual_Premium'])"
   ]
  },
  {
   "cell_type": "markdown",
   "id": "bc1ab4c8",
   "metadata": {
    "heading_collapsed": true,
    "hidden": true
   },
   "source": [
    "### 2.2.3 Categorical Features"
   ]
  },
  {
   "cell_type": "code",
   "execution_count": 16,
   "id": "fb174429",
   "metadata": {
    "ExecuteTime": {
     "end_time": "2021-12-10T23:47:22.945880Z",
     "start_time": "2021-12-10T23:47:22.762257Z"
    },
    "hidden": true,
    "scrolled": false
   },
   "outputs": [
    {
     "data": {
      "text/html": [
       "<div>\n",
       "<style scoped>\n",
       "    .dataframe tbody tr th:only-of-type {\n",
       "        vertical-align: middle;\n",
       "    }\n",
       "\n",
       "    .dataframe tbody tr th {\n",
       "        vertical-align: top;\n",
       "    }\n",
       "\n",
       "    .dataframe thead th {\n",
       "        text-align: right;\n",
       "    }\n",
       "</style>\n",
       "<table border=\"1\" class=\"dataframe\">\n",
       "  <thead>\n",
       "    <tr style=\"text-align: right;\">\n",
       "      <th></th>\n",
       "      <th>Gender_</th>\n",
       "      <th>Vehicle_Damage_</th>\n",
       "      <th>Vehicle_Age_</th>\n",
       "      <th>Driving_License</th>\n",
       "      <th>Region_Code</th>\n",
       "      <th>Previously_Insured</th>\n",
       "      <th>Policy_Sales_Channel</th>\n",
       "      <th>Vintage</th>\n",
       "    </tr>\n",
       "  </thead>\n",
       "  <tbody>\n",
       "    <tr>\n",
       "      <th>count</th>\n",
       "      <td>508146</td>\n",
       "      <td>508146</td>\n",
       "      <td>508146</td>\n",
       "      <td>508146</td>\n",
       "      <td>508146.0</td>\n",
       "      <td>508146</td>\n",
       "      <td>508146.0</td>\n",
       "      <td>508146</td>\n",
       "    </tr>\n",
       "    <tr>\n",
       "      <th>unique</th>\n",
       "      <td>2</td>\n",
       "      <td>2</td>\n",
       "      <td>3</td>\n",
       "      <td>2</td>\n",
       "      <td>53.0</td>\n",
       "      <td>2</td>\n",
       "      <td>157.0</td>\n",
       "      <td>290</td>\n",
       "    </tr>\n",
       "    <tr>\n",
       "      <th>top</th>\n",
       "      <td>1</td>\n",
       "      <td>1</td>\n",
       "      <td>0</td>\n",
       "      <td>1</td>\n",
       "      <td>28.0</td>\n",
       "      <td>0</td>\n",
       "      <td>152.0</td>\n",
       "      <td>256</td>\n",
       "    </tr>\n",
       "    <tr>\n",
       "      <th>freq</th>\n",
       "      <td>274325</td>\n",
       "      <td>256248</td>\n",
       "      <td>267015</td>\n",
       "      <td>507097</td>\n",
       "      <td>141937.0</td>\n",
       "      <td>275076</td>\n",
       "      <td>179523.0</td>\n",
       "      <td>1877</td>\n",
       "    </tr>\n",
       "  </tbody>\n",
       "</table>\n",
       "</div>"
      ],
      "text/plain": [
       "        Gender_  Vehicle_Damage_  Vehicle_Age_  Driving_License  Region_Code  \\\n",
       "count    508146           508146        508146           508146     508146.0   \n",
       "unique        2                2             3                2         53.0   \n",
       "top           1                1             0                1         28.0   \n",
       "freq     274325           256248        267015           507097     141937.0   \n",
       "\n",
       "        Previously_Insured  Policy_Sales_Channel  Vintage  \n",
       "count               508146              508146.0   508146  \n",
       "unique                   2                 157.0      290  \n",
       "top                      0                 152.0      256  \n",
       "freq                275076              179523.0     1877  "
      ]
     },
     "execution_count": 16,
     "metadata": {},
     "output_type": "execute_result"
    }
   ],
   "source": [
    "df[features_categóricas].astype('category').describe()"
   ]
  },
  {
   "cell_type": "code",
   "execution_count": 17,
   "id": "c3a57ec2",
   "metadata": {
    "ExecuteTime": {
     "end_time": "2021-12-10T23:47:22.961145Z",
     "start_time": "2021-12-10T23:47:22.947279Z"
    },
    "hidden": true
   },
   "outputs": [
    {
     "data": {
      "text/plain": [
       "array(['Female'], dtype=object)"
      ]
     },
     "execution_count": 17,
     "metadata": {},
     "output_type": "execute_result"
    }
   ],
   "source": [
    "le_gender.inverse_transform([0])"
   ]
  },
  {
   "cell_type": "code",
   "execution_count": 18,
   "id": "3c3ecae5",
   "metadata": {
    "ExecuteTime": {
     "end_time": "2021-12-10T23:47:22.977227Z",
     "start_time": "2021-12-10T23:47:22.964131Z"
    },
    "hidden": true
   },
   "outputs": [
    {
     "data": {
      "text/plain": [
       "array(['Yes'], dtype=object)"
      ]
     },
     "execution_count": 18,
     "metadata": {},
     "output_type": "execute_result"
    }
   ],
   "source": [
    "le_vehicle_damage.inverse_transform([1])"
   ]
  },
  {
   "cell_type": "code",
   "execution_count": 19,
   "id": "d30dfdef",
   "metadata": {
    "ExecuteTime": {
     "end_time": "2021-12-10T23:47:22.992835Z",
     "start_time": "2021-12-10T23:47:22.979167Z"
    },
    "hidden": true
   },
   "outputs": [
    {
     "data": {
      "text/plain": [
       "array(['< 1 Year'], dtype=object)"
      ]
     },
     "execution_count": 19,
     "metadata": {},
     "output_type": "execute_result"
    }
   ],
   "source": [
    "le_vehicle_age.inverse_transform([1])"
   ]
  },
  {
   "cell_type": "markdown",
   "id": "13942d5c",
   "metadata": {
    "hidden": true
   },
   "source": [
    "Sexo relativamente balanceado com a maioria de mulheres, maior parte dos clientes possuem veículos com menos de 1 ano, maior parte dos clientes já teve danos em seu veículo, habilitação para dirigir balanceado, há 53 regiões diferentes e por volta de 30% dos clientes estão contidos na região 28, um pouco mais que 50% dos clientes não possuem seguro veicular, há 157 canais de vendas, e por volta de 35% dos clientes estão contidos no canal 152."
   ]
  },
  {
   "cell_type": "markdown",
   "id": "7bff2fa9",
   "metadata": {
    "heading_collapsed": true,
    "id": "lpsQdPJVSjpi"
   },
   "source": [
    "# 3.0 Feature Engineering"
   ]
  },
  {
   "cell_type": "markdown",
   "id": "3acc405b",
   "metadata": {
    "heading_collapsed": true,
    "hidden": true,
    "id": "jEjwlIBJTDv5"
   },
   "source": [
    "###### 3.1 Policy_Sales_Channel Response Mean"
   ]
  },
  {
   "cell_type": "code",
   "execution_count": 20,
   "id": "771287cd",
   "metadata": {
    "ExecuteTime": {
     "end_time": "2021-12-10T23:47:23.039442Z",
     "start_time": "2021-12-10T23:47:22.995416Z"
    },
    "hidden": true
   },
   "outputs": [],
   "source": [
    "group = train[['Policy_Sales_Channel', 'Response']].groupby('Policy_Sales_Channel').agg({'Response':'mean'})\n",
    "map_policy_sales_channel_response_mean = group.to_dict()['Response']\n",
    "df['Policy_Sales_Channel_Response_Mean'] = df['Policy_Sales_Channel'].map(map_policy_sales_channel_response_mean)"
   ]
  },
  {
   "cell_type": "code",
   "execution_count": 21,
   "id": "bb649ddf",
   "metadata": {
    "ExecuteTime": {
     "end_time": "2021-12-10T23:47:23.381549Z",
     "start_time": "2021-12-10T23:47:23.040775Z"
    },
    "colab": {
     "base_uri": "https://localhost:8080/",
     "height": 0
    },
    "hidden": true,
    "id": "ewm2nBrHZaU9",
    "outputId": "96c811f7-3c03-4c02-ef47-a014c62a4eaa"
   },
   "outputs": [
    {
     "data": {
      "text/plain": [
       "Age                     0.636832\n",
       "Vehicle_Damage_         0.435397\n",
       "Response                0.263429\n",
       "Gender_                 0.169888\n",
       "Region_Code             0.026936\n",
       "id                     -0.000003\n",
       "Annual_Premium         -0.000101\n",
       "Vintage                -0.001333\n",
       "Driving_License        -0.032776\n",
       "Previously_Insured     -0.419215\n",
       "Policy_Sales_Channel   -0.527793\n",
       "Vehicle_Age_           -0.573390\n",
       "Name: Policy_Sales_Channel_Response_Mean, dtype: float64"
      ]
     },
     "execution_count": 21,
     "metadata": {},
     "output_type": "execute_result"
    }
   ],
   "source": [
    "df.corr()['Policy_Sales_Channel_Response_Mean'].sort_values(ascending=False)[1:]"
   ]
  },
  {
   "cell_type": "markdown",
   "id": "62e91140",
   "metadata": {
    "hidden": true
   },
   "source": [
    "Correlações fortes com Age, correlações moderadas com Vehicle_Damage, Vehicle_Age, Previously_Insured, correlação fraca com Response"
   ]
  },
  {
   "cell_type": "markdown",
   "id": "fbd55ef4",
   "metadata": {
    "heading_collapsed": true,
    "hidden": true,
    "id": "OILqb1MCu5Q1"
   },
   "source": [
    "###### 3.2 Region_Code Response Mean"
   ]
  },
  {
   "cell_type": "code",
   "execution_count": 22,
   "id": "d9cbc3c8",
   "metadata": {
    "ExecuteTime": {
     "end_time": "2021-12-10T23:47:23.428334Z",
     "start_time": "2021-12-10T23:47:23.383530Z"
    },
    "hidden": true,
    "id": "kYkrXTVzu5RY"
   },
   "outputs": [],
   "source": [
    "group = train[['Region_Code', 'Response']].groupby('Region_Code').agg({'Response':'mean'})\n",
    "map_region_code_response_mean = group.to_dict()['Response']\n",
    "df['Region_Code_Response_Mean'] = df['Region_Code'].map(map_region_code_response_mean)"
   ]
  },
  {
   "cell_type": "code",
   "execution_count": 23,
   "id": "8f2c08ee",
   "metadata": {
    "ExecuteTime": {
     "end_time": "2021-12-10T23:47:23.712400Z",
     "start_time": "2021-12-10T23:47:23.430367Z"
    },
    "colab": {
     "base_uri": "https://localhost:8080/",
     "height": 0
    },
    "hidden": true,
    "id": "V9DLPohLZqlS",
    "outputId": "b8f627fd-babc-434d-ccf2-821bf24661b9"
   },
   "outputs": [
    {
     "data": {
      "text/plain": [
       "Policy_Sales_Channel_Response_Mean    0.373014\n",
       "Age                                   0.316050\n",
       "Annual_Premium                        0.252035\n",
       "Vehicle_Damage_                       0.195931\n",
       "Response                              0.138095\n",
       "Region_Code                           0.076274\n",
       "Gender_                               0.044496\n",
       "Vintage                               0.000319\n",
       "id                                   -0.000191\n",
       "Driving_License                      -0.016148\n",
       "Previously_Insured                   -0.179897\n",
       "Vehicle_Age_                         -0.207726\n",
       "Policy_Sales_Channel                 -0.287069\n",
       "Name: Region_Code_Response_Mean, dtype: float64"
      ]
     },
     "execution_count": 23,
     "metadata": {},
     "output_type": "execute_result"
    }
   ],
   "source": [
    "df.corr()['Region_Code_Response_Mean'].sort_values(ascending=False)[1:]"
   ]
  },
  {
   "cell_type": "markdown",
   "id": "7ec45acd",
   "metadata": {
    "hidden": true,
    "id": "-DfKrpMLaMa4"
   },
   "source": [
    "Correlações fracas com Age, Annual_Premium, Policy_Sales_Channel e Vehicle_Age"
   ]
  },
  {
   "cell_type": "markdown",
   "id": "ae166cbe",
   "metadata": {
    "heading_collapsed": true,
    "hidden": true
   },
   "source": [
    "###### 3.3 High_Response_Age"
   ]
  },
  {
   "cell_type": "code",
   "execution_count": 24,
   "id": "c04c7605",
   "metadata": {
    "ExecuteTime": {
     "end_time": "2021-12-10T23:47:23.742935Z",
     "start_time": "2021-12-10T23:47:23.714129Z"
    },
    "hidden": true
   },
   "outputs": [],
   "source": [
    "df.loc[df['Age']<30, 'High_Response_Age'] = 0\n",
    "df['High_Response_Age'].fillna(1, inplace=True)"
   ]
  },
  {
   "cell_type": "markdown",
   "id": "d05668c5",
   "metadata": {
    "heading_collapsed": true,
    "hidden": true
   },
   "source": [
    "###### 3.4 Log_Annual_Premium"
   ]
  },
  {
   "cell_type": "code",
   "execution_count": 25,
   "id": "1bbfcc2d",
   "metadata": {
    "ExecuteTime": {
     "end_time": "2021-12-10T23:47:23.759061Z",
     "start_time": "2021-12-10T23:47:23.745109Z"
    },
    "hidden": true
   },
   "outputs": [],
   "source": [
    "df['Log_Annual_Premium'] = np.log1p(df['Annual_Premium'])"
   ]
  },
  {
   "cell_type": "markdown",
   "id": "0642ef14",
   "metadata": {
    "heading_collapsed": true,
    "hidden": true
   },
   "source": [
    "###### 3.5 Annual_Premium_Variated"
   ]
  },
  {
   "cell_type": "code",
   "execution_count": 26,
   "id": "27c97710",
   "metadata": {
    "ExecuteTime": {
     "end_time": "2021-12-10T23:47:23.789788Z",
     "start_time": "2021-12-10T23:47:23.760064Z"
    },
    "hidden": true
   },
   "outputs": [],
   "source": [
    "df.loc[df['Annual_Premium']==2630, 'Annual_Premium_Variated'] = 0\n",
    "df['Annual_Premium_Variated'].fillna(1, inplace=True)"
   ]
  },
  {
   "cell_type": "markdown",
   "id": "617031eb",
   "metadata": {
    "hidden": true
   },
   "source": [
    "Feature **Annual_Premium_Variated** não contribuiu com o modelo e foi removida posteriormente"
   ]
  },
  {
   "cell_type": "markdown",
   "id": "9241ff6b",
   "metadata": {
    "heading_collapsed": true,
    "hidden": true
   },
   "source": [
    "###### 3.6 High_Annual_Premium"
   ]
  },
  {
   "cell_type": "code",
   "execution_count": 27,
   "id": "4d662442",
   "metadata": {
    "ExecuteTime": {
     "end_time": "2021-12-10T23:47:23.837767Z",
     "start_time": "2021-12-10T23:47:23.791719Z"
    },
    "hidden": true
   },
   "outputs": [],
   "source": [
    "temp = np.percentile(df.loc[df['Annual_Premium_Variated']==1, 'Annual_Premium'], 75)\n",
    "df.loc[df['Annual_Premium']>= temp, 'High_Annual_Premium'] = 1\n",
    "df['High_Annual_Premium'].fillna(0, inplace=True)"
   ]
  },
  {
   "cell_type": "markdown",
   "id": "850ae355",
   "metadata": {
    "hidden": true
   },
   "source": [
    "Feature **High_Annual_Premium** não contribuiu com o modelo e foi removida posteriormente"
   ]
  },
  {
   "cell_type": "markdown",
   "id": "5cb08836",
   "metadata": {
    "heading_collapsed": true
   },
   "source": [
    "# 4.0 Business Hypothesis"
   ]
  },
  {
   "cell_type": "markdown",
   "id": "a8533144",
   "metadata": {
    "heading_collapsed": true,
    "hidden": true
   },
   "source": [
    "##### 4.1 Clientes que já possuem seguro veicular têm menos de 5% de interesse em adquirir o produto."
   ]
  },
  {
   "cell_type": "markdown",
   "id": "a140960c",
   "metadata": {
    "heading_collapsed": true,
    "hidden": true
   },
   "source": [
    "##### 4.2 Clientes com mais de 30 anos de idade têm em média interesse pelo menos 100% maior no produto em relação à média de interesse dentre os clientes menos de 30 anos de idade."
   ]
  },
  {
   "cell_type": "markdown",
   "id": "7a726ab0",
   "metadata": {
    "hidden": true
   },
   "source": [
    "1. **Hipótese Nula ou H0**: Clientes com mais de 30 anos de idade têm em média interesse pelo menos 100% maior no produto em relação à média de interesse dentre os clientes menos de 30 anos de idade.\n",
    "\n",
    "A média de response dentre os clientes com mais de 30 anos é mais do que 100% superior em relação aos clientes com menos de 30 anos. Aceita e hipótese nula."
   ]
  },
  {
   "cell_type": "code",
   "execution_count": 28,
   "id": "32d22473",
   "metadata": {
    "ExecuteTime": {
     "end_time": "2021-12-10T23:47:30.887427Z",
     "start_time": "2021-12-10T23:47:23.845668Z"
    },
    "hidden": true
   },
   "outputs": [
    {
     "data": {
      "text/plain": [
       "<seaborn.axisgrid.FacetGrid at 0x23a806fe250>"
      ]
     },
     "execution_count": 28,
     "metadata": {},
     "output_type": "execute_result"
    },
    {
     "data": {
      "image/png": "[encoded data removed]",
      "text/plain": [
       "<Figure size 360x360 with 1 Axes>"
      ]
     },
     "metadata": {
      "needs_background": "light"
     },
     "output_type": "display_data"
    }
   ],
   "source": [
    "sns.catplot(x='High_Response_Age', y='Response', data=df, kind='bar')"
   ]
  },
  {
   "cell_type": "markdown",
   "id": "19b51af5",
   "metadata": {
    "heading_collapsed": true,
    "hidden": true
   },
   "source": [
    "##### 4.3 Clientes com valores de Annual_Premium variáveis e acima do terceiro quartil (High_Annual_Premium) apresentam 50% mais interesse no produto"
   ]
  },
  {
   "cell_type": "markdown",
   "id": "56d021f0",
   "metadata": {
    "hidden": true
   },
   "source": [
    "1. **Hipótese Nula ou H0**: Clientes com valores de Annual_Premium variáveis e acima do terceiro quartil (High_Annual_Premium) apresentam 50% mais interesse no produto\n",
    "A diferença entre as médias de Response foi de por volta de 20% entre os grupos, portanto, rejeita a hipótese nula."
   ]
  },
  {
   "cell_type": "code",
   "execution_count": 29,
   "id": "b3fa806c",
   "metadata": {
    "ExecuteTime": {
     "end_time": "2021-12-10T23:47:35.726679Z",
     "start_time": "2021-12-10T23:47:30.891410Z"
    },
    "hidden": true
   },
   "outputs": [
    {
     "data": {
      "text/plain": [
       "<seaborn.axisgrid.FacetGrid at 0x23a809a3ee0>"
      ]
     },
     "execution_count": 29,
     "metadata": {},
     "output_type": "execute_result"
    },
    {
     "data": {
      "image/png": "[encoded data removed]",
      "text/plain": [
       "<Figure size 360x360 with 1 Axes>"
      ]
     },
     "metadata": {
      "needs_background": "light"
     },
     "output_type": "display_data"
    }
   ],
   "source": [
    "sns.catplot(x='High_Annual_Premium', y='Response', data=df, kind='bar')"
   ]
  },
  {
   "cell_type": "markdown",
   "id": "6033b1be",
   "metadata": {
    "heading_collapsed": true
   },
   "source": [
    "# 5.0 Exploratory Data Analysis"
   ]
  },
  {
   "cell_type": "markdown",
   "id": "f88b72c5",
   "metadata": {
    "heading_collapsed": true,
    "hidden": true
   },
   "source": [
    "## 5.1 Principais Insights:\n",
    "\n",
    "### Espaço Amostral\n",
    "1. 6 dimensões parecem explicar 90% de toda variabilidade das features\n",
    "2. Annual_Premium transformada por log apresenta uma shape semelhante a uma normal\n",
    "3. 4 features binárias, 2 numéricas, 1 categórica e 2 categóricas com excessivas categorias e portanto foram transformadas em numéricas.\n",
    "\n",
    "### Features Analysis\n",
    "\n",
    "###### Response:\n",
    "1. Desbalanceada com 12% de eventos positivos\n",
    "2. Correlação fraca com Vehicle_Damage e correlação fraca negativa com Previously_Insured\n",
    "\n",
    "###### Gender:\n",
    "1. Balanceada\n",
    "2. Correlações muito fracas\n",
    "3. Homens se interessam 30% mais no produto em relação às mulheres\n",
    "\n",
    "###### Vehicle_Age:\n",
    "1. Mais da metade dos clientes possuem carros com menos de 1 ano\n",
    "2. Correlação moderada negativa com Age, fraca positiva com Policy_Sales_Channel\n",
    "3. Médias de response bastante distintas\n",
    "\n",
    "###### Vehicle_Damage:\n",
    "1. Balanceada\n",
    "2. Correlação muito forte negativa com Previously_Insured, fraca negativa com Policy_Sales_Channel, fraca positiva com Response e Age\n",
    "3. Clientes que já tiveram danos no seu veículo tem 24% de response, enquanto clientes que não tiveram danos têm por volta de 1%\n",
    "\n",
    "###### Driving_License:\n",
    "1. Correlações muito fracas\n",
    "2. 99% dos clientes são habilitados\n",
    "3. Habilitados apresentam 5% de interesse no produto, não habilitados apresentam 12% de interesse no produto.\n",
    "\n",
    "###### Previously_Insured:\n",
    "1. 45% dos clientes já possuem seguro veicular\n",
    "2. Clientes que já possuem seguro têm interesse quase zero pelo produto\n",
    "3. Correlação muito forte negativa com Vehicle_Damage, fraca negativa com Response e Age, e fraca positiva com Policy_Sales_Channel\n",
    "\n",
    "###### Region_Code:\n",
    "1. 53 regiões\n",
    "2. 28% dos clientes está contido na região 28. 50% dos dados estão contidos nas 5 regiões mais numerosas\n",
    "3. A região 28 (mais importante) tem por volta de 18% de probabilidade de response, segunda melhor região, atrás apenas da região 38.\n",
    "4. As regiões com probabilidade de response mais alto estão com por volta de 19%, as regiões com probabilidades mais baixas estã em por volta de 4%\n",
    "5. Médias de response bastante distintas, com desvios padrões baixos\n",
    "\n",
    "###### Policy_Sales_Channel:\n",
    "1. Há 157 Policy_Sales_Channel e aproximadamente um terço das amostras está contido no canal 152\n",
    "2. 5 categorias contém 84.19% do total de clientes\n",
    "3. Correlação moderada negativa com Age, correlação fraca negativa com Vehicle_Damage, correlação fraca positiva com Vehicle_Age e Previously_Insured\n",
    "4. Médias de response por canais de Policy_Sales_Channel bastante distintas\n",
    "5. Os canais mais utilizados apresentam médias de response bastante diferentes da média global, os canal 152 é o mais utilizado e apresenta 2% de interesse no produto, o canal 155 apresenta 2%, já os canais 26, 124 e 156 apresentam por volta de 20% de interesse no produto\n",
    "\n",
    "###### Vintage:\n",
    "1. Feature categórica, há 290 categorias em Vintage\n",
    "\n",
    "###### Age:\n",
    "1. Range de idade de 25 até 85 anos, aparentemente sem erros de input\n",
    "2. Apresenta uma distribuição com uma certa semelhança com uma Poison, mas com uma segunda moda em um ponto próximo aos 45 anos.\n",
    "3. Sem outliers\n",
    "4. A média de idade entre os que não se interessam pelo produto é de 38 anos, e dos que se interessam é de 43 anos.\n",
    "5. Pessoas com mais de 30 anos apresentam um interesse relativamente maior pelo produto.\n",
    "6. Correlações moderadas negativas com Policy_Sales_Channel e Vehicle_Age, fraca negativa com Previously_Insured e fraca positiva com Vehicle_Damage\n",
    "7. Clientes com menos de 30 anos de idade apresentam em média 4% de interesse no produto, enquanto os clientes com 30 anos ou mais têm em média 17% interesse no produto.\n",
    "\n",
    "\n",
    "###### Annual_Premium\n",
    "1. 2799 em Annual_Premmium, não aparentam ser por conta de erros de input\n",
    "2. Há dois grupos de clientes, um com valores fixos em 2630 dollares, e outro com valores contínuos e superiores, não há diferença significativa de média de interesse no produto entre os grupos\n",
    "3. Acima do terceiro quartil da distribuição há um interesse relativo 20% maior no produto"
   ]
  },
  {
   "cell_type": "markdown",
   "id": "c3178ceb",
   "metadata": {
    "heading_collapsed": true,
    "hidden": true
   },
   "source": [
    "## 5.2 Espaço Amostral"
   ]
  },
  {
   "cell_type": "markdown",
   "id": "7e079f1a",
   "metadata": {
    "heading_collapsed": true,
    "hidden": true
   },
   "source": [
    "### 5.2 Principal Component Analysis"
   ]
  },
  {
   "cell_type": "code",
   "execution_count": 30,
   "id": "552dd70f",
   "metadata": {
    "ExecuteTime": {
     "end_time": "2021-12-10T23:47:36.356112Z",
     "start_time": "2021-12-10T23:47:35.728560Z"
    },
    "hidden": true
   },
   "outputs": [
    {
     "data": {
      "text/plain": [
       "[<matplotlib.lines.Line2D at 0x23aa4f758e0>]"
      ]
     },
     "execution_count": 30,
     "metadata": {},
     "output_type": "execute_result"
    },
    {
     "data": {
      "image/png": "[encoded data removed]",
      "text/plain": [
       "<Figure size 432x288 with 1 Axes>"
      ]
     },
     "metadata": {
      "needs_background": "light"
     },
     "output_type": "display_data"
    }
   ],
   "source": [
    "# drop irrelevant features\n",
    "temp = df.drop(['id', 'Response', 'Gender', 'Vehicle_Age', 'Vehicle_Damage', 'Vintage', 'Policy_Sales_Channel'], axis=1).dropna()\n",
    "temp = StandardScaler().fit_transform(temp)\n",
    "\n",
    "# model description end fit\n",
    "pca = PCA()\n",
    "\n",
    "# fiting model\n",
    "pca = pca.fit(temp)\n",
    "\n",
    "# ploting cumulative sum\n",
    "np.cumsum(pca.explained_variance_ratio_)\n",
    "plt.plot(np.cumsum(pca.explained_variance_ratio_))"
   ]
  },
  {
   "cell_type": "markdown",
   "id": "0680c21c",
   "metadata": {
    "hidden": true,
    "id": "4mm_0Lbk5bjm"
   },
   "source": [
    "Os autovetores indicam que 6 dimensões parecem explicar 90% de toda variabilidade das features"
   ]
  },
  {
   "cell_type": "markdown",
   "id": "38f55b32",
   "metadata": {
    "heading_collapsed": true,
    "hidden": true
   },
   "source": [
    "## 5.3 Features Analysis"
   ]
  },
  {
   "cell_type": "markdown",
   "id": "80c5807d",
   "metadata": {
    "heading_collapsed": true,
    "hidden": true
   },
   "source": [
    "#### Response"
   ]
  },
  {
   "cell_type": "markdown",
   "id": "5d6d611d",
   "metadata": {
    "heading_collapsed": true,
    "hidden": true
   },
   "source": [
    "###### Principais Insights:\n",
    "1. Desbalanceada com 12% de eventos positivos\n",
    "2. Correlação fraca com Vehicle_Damage e correlação fraca negativa com Previously_Insured"
   ]
  },
  {
   "cell_type": "markdown",
   "id": "1f69e4c8",
   "metadata": {
    "heading_collapsed": true,
    "hidden": true
   },
   "source": [
    "###### General Analysis"
   ]
  },
  {
   "cell_type": "code",
   "execution_count": 31,
   "id": "876e409f",
   "metadata": {
    "ExecuteTime": {
     "end_time": "2021-12-10T23:47:36.371251Z",
     "start_time": "2021-12-10T23:47:36.357020Z"
    },
    "hidden": true
   },
   "outputs": [
    {
     "data": {
      "text/plain": [
       "0.12256336113815208"
      ]
     },
     "execution_count": 31,
     "metadata": {},
     "output_type": "execute_result"
    }
   ],
   "source": [
    "df['Response'].mean()"
   ]
  },
  {
   "cell_type": "code",
   "execution_count": 32,
   "id": "2c7681c3",
   "metadata": {
    "ExecuteTime": {
     "end_time": "2021-12-10T23:47:36.780857Z",
     "start_time": "2021-12-10T23:47:36.374165Z"
    },
    "hidden": true
   },
   "outputs": [
    {
     "data": {
      "text/plain": [
       "Vehicle_Damage_                       0.354400\n",
       "Policy_Sales_Channel_Response_Mean    0.263429\n",
       "High_Response_Age                     0.205981\n",
       "Region_Code_Response_Mean             0.138095\n",
       "Age                                   0.111147\n",
       "Gender_                               0.052440\n",
       "High_Annual_Premium                   0.038521\n",
       "Annual_Premium                        0.022575\n",
       "Region_Code                           0.010570\n",
       "Driving_License                       0.010155\n",
       "Log_Annual_Premium                    0.002707\n",
       "Vintage                              -0.001050\n",
       "id                                   -0.001368\n",
       "Annual_Premium_Variated              -0.011783\n",
       "Vehicle_Age_                         -0.104078\n",
       "Policy_Sales_Channel                 -0.139042\n",
       "Previously_Insured                   -0.341170\n",
       "Name: Response, dtype: float64"
      ]
     },
     "execution_count": 32,
     "metadata": {},
     "output_type": "execute_result"
    }
   ],
   "source": [
    "df.corr()['Response'].sort_values(ascending=False)[1:]"
   ]
  },
  {
   "cell_type": "markdown",
   "id": "41a9e5af",
   "metadata": {
    "hidden": true
   },
   "source": [
    "Correlação fraca com Vehicle_Damage e correlação fraca negativa com Previously_Insured"
   ]
  },
  {
   "cell_type": "markdown",
   "id": "f00e7653",
   "metadata": {
    "heading_collapsed": true,
    "hidden": true
   },
   "source": [
    "#### Gender"
   ]
  },
  {
   "cell_type": "markdown",
   "id": "e206144b",
   "metadata": {
    "heading_collapsed": true,
    "hidden": true
   },
   "source": [
    "###### Principais Insights:\n",
    "1. Balanceada\n",
    "2. Correlações muito fracas\n",
    "3. Homens se interessam 30% mais no produto em relação às mulheres"
   ]
  },
  {
   "cell_type": "markdown",
   "id": "189e6fd6",
   "metadata": {
    "heading_collapsed": true,
    "hidden": true
   },
   "source": [
    "###### General Analysis"
   ]
  },
  {
   "cell_type": "code",
   "execution_count": 33,
   "id": "0ae108d6",
   "metadata": {
    "ExecuteTime": {
     "end_time": "2021-12-10T23:47:37.210064Z",
     "start_time": "2021-12-10T23:47:36.782854Z"
    },
    "hidden": true,
    "scrolled": true
   },
   "outputs": [
    {
     "data": {
      "text/plain": [
       "Policy_Sales_Channel_Response_Mean    0.169888\n",
       "High_Response_Age                     0.159595\n",
       "Age                                   0.146573\n",
       "Vehicle_Damage_                       0.092273\n",
       "Response                              0.052440\n",
       "Region_Code_Response_Mean             0.044496\n",
       "High_Annual_Premium                   0.023235\n",
       "Annual_Premium                        0.003502\n",
       "Region_Code                           0.000684\n",
       "id                                   -0.001765\n",
       "Vintage                              -0.002098\n",
       "Log_Annual_Premium                   -0.014215\n",
       "Driving_License                      -0.017720\n",
       "Annual_Premium_Variated              -0.026550\n",
       "Previously_Insured                   -0.082726\n",
       "Policy_Sales_Channel                 -0.111565\n",
       "Vehicle_Age_                         -0.113453\n",
       "Name: Gender_, dtype: float64"
      ]
     },
     "execution_count": 33,
     "metadata": {},
     "output_type": "execute_result"
    }
   ],
   "source": [
    "df.corr()['Gender_'].sort_values(ascending=False)[1:]"
   ]
  },
  {
   "cell_type": "markdown",
   "id": "e446b46c",
   "metadata": {
    "hidden": true
   },
   "source": [
    "Correlações muito fracas"
   ]
  },
  {
   "cell_type": "code",
   "execution_count": 34,
   "id": "bbce954c",
   "metadata": {
    "ExecuteTime": {
     "end_time": "2021-12-10T23:47:37.225541Z",
     "start_time": "2021-12-10T23:47:37.212034Z"
    },
    "hidden": true
   },
   "outputs": [
    {
     "data": {
      "text/plain": [
       "array(['Female'], dtype=object)"
      ]
     },
     "execution_count": 34,
     "metadata": {},
     "output_type": "execute_result"
    }
   ],
   "source": [
    "le_gender.inverse_transform([0])"
   ]
  },
  {
   "cell_type": "code",
   "execution_count": 35,
   "id": "06dd21fd",
   "metadata": {
    "ExecuteTime": {
     "end_time": "2021-12-10T23:47:37.256459Z",
     "start_time": "2021-12-10T23:47:37.228307Z"
    },
    "hidden": true
   },
   "outputs": [
    {
     "name": "stdout",
     "output_type": "stream",
     "text": [
      "10.39% das mulheres se interessam pelo produto.\n",
      "13.84% dos homens se interessam pelo produto.\n"
     ]
    }
   ],
   "source": [
    "print(f'{round(df.loc[df[\"Gender_\"]==0, \"Response\"].mean() *100, 2)}% das mulheres se interessam pelo produto.')\n",
    "print(f'{round(df.loc[df[\"Gender_\"]==1, \"Response\"].mean() *100, 2)}% dos homens se interessam pelo produto.')"
   ]
  },
  {
   "cell_type": "markdown",
   "id": "f640f36c",
   "metadata": {
    "heading_collapsed": true,
    "hidden": true
   },
   "source": [
    "#### Age"
   ]
  },
  {
   "cell_type": "markdown",
   "id": "d6ae3f05",
   "metadata": {
    "heading_collapsed": true,
    "hidden": true
   },
   "source": [
    "###### Principais Insights:\n",
    "1. Range de idade de 25 até 85 anos, aparentemente sem erros de input\n",
    "2. Apresenta uma distribuição com uma certa semelhança com uma Poison, mas com uma segunda moda em um ponto próximo aos 45 anos.\n",
    "3. Sem outliers\n",
    "4. A média de idade entre os que não se interessam pelo produto é de 38 anos, e dos que se interessam é de 43 anos.\n",
    "5. Pessoas com mais de 30 anos apresentam um interesse relativamente maior pelo produto.\n",
    "6. Correlações moderadas negativas com Policy_Sales_Channel e Vehicle_Age, fraca negativa com Previously_Insured e fraca positiva com Vehicle_Damage"
   ]
  },
  {
   "cell_type": "markdown",
   "id": "26426308",
   "metadata": {
    "heading_collapsed": true,
    "hidden": true
   },
   "source": [
    "###### General Analysis"
   ]
  },
  {
   "cell_type": "code",
   "execution_count": 36,
   "id": "178100dd",
   "metadata": {
    "ExecuteTime": {
     "end_time": "2021-12-10T23:47:37.680727Z",
     "start_time": "2021-12-10T23:47:37.258355Z"
    },
    "hidden": true
   },
   "outputs": [
    {
     "data": {
      "text/plain": [
       "High_Response_Age                     0.787797\n",
       "Policy_Sales_Channel_Response_Mean    0.636832\n",
       "Region_Code_Response_Mean             0.316050\n",
       "Vehicle_Damage_                       0.268328\n",
       "Gender_                               0.146573\n",
       "High_Annual_Premium                   0.146376\n",
       "Response                              0.111147\n",
       "Annual_Premium                        0.067392\n",
       "Region_Code                           0.041649\n",
       "Vintage                              -0.000010\n",
       "id                                   -0.000643\n",
       "Log_Annual_Premium                   -0.010183\n",
       "Annual_Premium_Variated              -0.064345\n",
       "Driving_License                      -0.079660\n",
       "Previously_Insured                   -0.255582\n",
       "Vehicle_Age_                         -0.522770\n",
       "Policy_Sales_Channel                 -0.577043\n",
       "Name: Age, dtype: float64"
      ]
     },
     "execution_count": 36,
     "metadata": {},
     "output_type": "execute_result"
    }
   ],
   "source": [
    "df.corr()['Age'].sort_values(ascending=False)[1:]"
   ]
  },
  {
   "cell_type": "markdown",
   "id": "36c61ede",
   "metadata": {
    "hidden": true
   },
   "source": [
    "Correlações moderadas negativas com Policy_Sales_Channel e Vehicle_Age, fraca negativa com Previously_Insured e fraca positiva com Vehicle_Damage"
   ]
  },
  {
   "cell_type": "code",
   "execution_count": 37,
   "id": "c193d962",
   "metadata": {
    "ExecuteTime": {
     "end_time": "2021-12-10T23:47:38.107252Z",
     "start_time": "2021-12-10T23:47:37.683772Z"
    },
    "hidden": true
   },
   "outputs": [
    {
     "data": {
      "text/plain": [
       "<AxesSubplot:xlabel='Age', ylabel='Count'>"
      ]
     },
     "execution_count": 37,
     "metadata": {},
     "output_type": "execute_result"
    },
    {
     "data": {
      "image/png": "[encoded data removed]",
      "text/plain": [
       "<Figure size 432x288 with 1 Axes>"
      ]
     },
     "metadata": {
      "needs_background": "light"
     },
     "output_type": "display_data"
    }
   ],
   "source": [
    "sns.histplot(df['Age'])"
   ]
  },
  {
   "cell_type": "markdown",
   "id": "33cd6963",
   "metadata": {
    "hidden": true
   },
   "source": [
    "Apresenta uma distribuição com uma certa semelhança com uma Poison, mas com uma segunda moda em um ponto próximo aos 45 anos."
   ]
  },
  {
   "cell_type": "code",
   "execution_count": 38,
   "id": "a3629937",
   "metadata": {
    "ExecuteTime": {
     "end_time": "2021-12-10T23:47:38.154557Z",
     "start_time": "2021-12-10T23:47:38.110269Z"
    },
    "hidden": true,
    "scrolled": true
   },
   "outputs": [
    {
     "name": "stdout",
     "output_type": "stream",
     "text": [
      "A média da Series é: 38.81\n",
      "O valor máximo da Series é: 85\n",
      "O valor mínimo da Series é: 20\n",
      "O range é de: 65\n",
      "O desvio padrão da Series é: 15.5\n",
      "A curtose da Series é: -0.56\n",
      "A skew da Series é: 0.67\n"
     ]
    }
   ],
   "source": [
    "analise_descritiva(df['Age'])"
   ]
  },
  {
   "cell_type": "code",
   "execution_count": 39,
   "id": "5e348edb",
   "metadata": {
    "ExecuteTime": {
     "end_time": "2021-12-10T23:47:38.185645Z",
     "start_time": "2021-12-10T23:47:38.156963Z"
    },
    "hidden": true
   },
   "outputs": [],
   "source": [
    "índices, li, ls = buscar_outlier(df, 'Age')"
   ]
  },
  {
   "cell_type": "code",
   "execution_count": 40,
   "id": "8f09da1b",
   "metadata": {
    "ExecuteTime": {
     "end_time": "2021-12-10T23:47:38.216914Z",
     "start_time": "2021-12-10T23:47:38.189133Z"
    },
    "hidden": true
   },
   "outputs": [
    {
     "data": {
      "text/html": [
       "<div>\n",
       "<style scoped>\n",
       "    .dataframe tbody tr th:only-of-type {\n",
       "        vertical-align: middle;\n",
       "    }\n",
       "\n",
       "    .dataframe tbody tr th {\n",
       "        vertical-align: top;\n",
       "    }\n",
       "\n",
       "    .dataframe thead th {\n",
       "        text-align: right;\n",
       "    }\n",
       "</style>\n",
       "<table border=\"1\" class=\"dataframe\">\n",
       "  <thead>\n",
       "    <tr style=\"text-align: right;\">\n",
       "      <th></th>\n",
       "      <th>id</th>\n",
       "      <th>Gender</th>\n",
       "      <th>Age</th>\n",
       "      <th>Driving_License</th>\n",
       "      <th>Region_Code</th>\n",
       "      <th>Previously_Insured</th>\n",
       "      <th>Vehicle_Age</th>\n",
       "      <th>Vehicle_Damage</th>\n",
       "      <th>Annual_Premium</th>\n",
       "      <th>Policy_Sales_Channel</th>\n",
       "      <th>...</th>\n",
       "      <th>Response</th>\n",
       "      <th>Gender_</th>\n",
       "      <th>Vehicle_Damage_</th>\n",
       "      <th>Vehicle_Age_</th>\n",
       "      <th>Policy_Sales_Channel_Response_Mean</th>\n",
       "      <th>Region_Code_Response_Mean</th>\n",
       "      <th>High_Response_Age</th>\n",
       "      <th>Log_Annual_Premium</th>\n",
       "      <th>Annual_Premium_Variated</th>\n",
       "      <th>High_Annual_Premium</th>\n",
       "    </tr>\n",
       "  </thead>\n",
       "  <tbody>\n",
       "  </tbody>\n",
       "</table>\n",
       "<p>0 rows × 21 columns</p>\n",
       "</div>"
      ],
      "text/plain": [
       "Empty DataFrame\n",
       "Columns: [id, Gender, Age, Driving_License, Region_Code, Previously_Insured, Vehicle_Age, Vehicle_Damage, Annual_Premium, Policy_Sales_Channel, Vintage, Response, Gender_, Vehicle_Damage_, Vehicle_Age_, Policy_Sales_Channel_Response_Mean, Region_Code_Response_Mean, High_Response_Age, Log_Annual_Premium, Annual_Premium_Variated, High_Annual_Premium]\n",
       "Index: []\n",
       "\n",
       "[0 rows x 21 columns]"
      ]
     },
     "execution_count": 40,
     "metadata": {},
     "output_type": "execute_result"
    }
   ],
   "source": [
    "df.loc[índices]"
   ]
  },
  {
   "cell_type": "code",
   "execution_count": 41,
   "id": "85e1d17f",
   "metadata": {
    "ExecuteTime": {
     "end_time": "2021-12-10T23:47:38.327050Z",
     "start_time": "2021-12-10T23:47:38.219904Z"
    },
    "hidden": true,
    "scrolled": false
   },
   "outputs": [
    {
     "name": "stderr",
     "output_type": "stream",
     "text": [
      "D:\\My Drive\\Pessoal\\Projetos\\environments\\data_science\\lib\\site-packages\\seaborn\\_decorators.py:36: FutureWarning: Pass the following variable as a keyword arg: x. From version 0.12, the only valid positional argument will be `data`, and passing other arguments without an explicit keyword will result in an error or misinterpretation.\n",
      "  warnings.warn(\n"
     ]
    },
    {
     "data": {
      "text/plain": [
       "<AxesSubplot:xlabel='Age'>"
      ]
     },
     "execution_count": 41,
     "metadata": {},
     "output_type": "execute_result"
    },
    {
     "data": {
      "image/png": "[encoded data removed]",
      "text/plain": [
       "<Figure size 432x288 with 1 Axes>"
      ]
     },
     "metadata": {
      "needs_background": "light"
     },
     "output_type": "display_data"
    }
   ],
   "source": [
    "sns.boxplot(df['Age'])"
   ]
  },
  {
   "cell_type": "markdown",
   "id": "d65639ba",
   "metadata": {
    "hidden": true
   },
   "source": [
    "sem outliers"
   ]
  },
  {
   "cell_type": "code",
   "execution_count": 42,
   "id": "1b387b95",
   "metadata": {
    "ExecuteTime": {
     "end_time": "2021-12-10T23:47:38.358609Z",
     "start_time": "2021-12-10T23:47:38.327953Z"
    },
    "hidden": true,
    "scrolled": true
   },
   "outputs": [
    {
     "name": "stdout",
     "output_type": "stream",
     "text": [
      "A média de idade entre os que NÃO se interessam pelo produto: 38.18%\n",
      "A média de idade entre os que se interessam pelo produto: 43.44%\n"
     ]
    }
   ],
   "source": [
    "print(f'A média de idade entre os que NÃO se interessam pelo produto: {round(df.loc[df[\"Response\"]==0, \"Age\"].mean(), 2)}%')\n",
    "print(f'A média de idade entre os que se interessam pelo produto: {round(df.loc[df[\"Response\"]==1, \"Age\"].mean(), 2)}%')"
   ]
  },
  {
   "cell_type": "code",
   "execution_count": 43,
   "id": "f02b63a3",
   "metadata": {
    "ExecuteTime": {
     "end_time": "2021-12-10T23:47:40.076186Z",
     "start_time": "2021-12-10T23:47:38.361253Z"
    },
    "hidden": true,
    "scrolled": true
   },
   "outputs": [
    {
     "data": {
      "image/png": "[encoded data removed]",
      "text/plain": [
       "<Figure size 432x288 with 2 Axes>"
      ]
     },
     "metadata": {
      "needs_background": "light"
     },
     "output_type": "display_data"
    }
   ],
   "source": [
    "plt.subplot(2, 1, 1)\n",
    "g = sns.histplot(df.loc[df['Response']==0, 'Age'], color='r', alpha=0.5)\n",
    "g = sns.histplot(df.loc[df['Response']==1, 'Age'], color='b', alpha=0.5)\n",
    "plt.subplot(2, 1, 2)\n",
    "g = sns.kdeplot(df.loc[df['Response']==0, 'Age'], color='r', alpha=0.5)\n",
    "g = sns.kdeplot(df.loc[df['Response']==1, 'Age'], color='b', alpha=0.5)"
   ]
  },
  {
   "cell_type": "markdown",
   "id": "ea7ab560",
   "metadata": {
    "hidden": true
   },
   "source": [
    "Pessoas mais velhas apresentam maior interesse no produto"
   ]
  },
  {
   "cell_type": "code",
   "execution_count": 44,
   "id": "b99007f8",
   "metadata": {
    "ExecuteTime": {
     "end_time": "2021-12-10T23:47:40.214063Z",
     "start_time": "2021-12-10T23:47:40.077944Z"
    },
    "hidden": true,
    "scrolled": true
   },
   "outputs": [
    {
     "data": {
      "text/plain": [
       "<AxesSubplot:xlabel='Response', ylabel='Age'>"
      ]
     },
     "execution_count": 44,
     "metadata": {},
     "output_type": "execute_result"
    },
    {
     "data": {
      "image/png": "[encoded data removed]",
      "text/plain": [
       "<Figure size 432x288 with 1 Axes>"
      ]
     },
     "metadata": {
      "needs_background": "light"
     },
     "output_type": "display_data"
    }
   ],
   "source": [
    "sns.boxplot(x='Response', y='Age', data=df)"
   ]
  },
  {
   "cell_type": "markdown",
   "id": "83735be8",
   "metadata": {
    "hidden": true
   },
   "source": [
    "Pessoas mais velhas apresentam interesse maior pelo produto"
   ]
  },
  {
   "cell_type": "markdown",
   "id": "86b9e7e8",
   "metadata": {
    "heading_collapsed": true,
    "hidden": true
   },
   "source": [
    "###### Teste de hipórese 4.2"
   ]
  },
  {
   "cell_type": "code",
   "execution_count": 45,
   "id": "b7884803",
   "metadata": {
    "ExecuteTime": {
     "end_time": "2021-12-10T23:47:41.570657Z",
     "start_time": "2021-12-10T23:47:40.215114Z"
    },
    "hidden": true,
    "scrolled": false
   },
   "outputs": [
    {
     "data": {
      "image/png": "[encoded data removed]",
      "text/plain": [
       "<Figure size 1440x144 with 1 Axes>"
      ]
     },
     "metadata": {
      "needs_background": "light"
     },
     "output_type": "display_data"
    }
   ],
   "source": [
    "plt.figure(figsize=(20, 2))\n",
    "g = sns.kdeplot(df.loc[df['Response']==0, 'Age'], color='r', alpha=0.5)\n",
    "g = sns.kdeplot(df.loc[df['Response']==1, 'Age'], color='b', alpha=0.5)"
   ]
  },
  {
   "cell_type": "markdown",
   "id": "7067d055",
   "metadata": {
    "hidden": true
   },
   "source": [
    "Adicionando aleatoriedade"
   ]
  },
  {
   "cell_type": "code",
   "execution_count": 46,
   "id": "aaf21499",
   "metadata": {
    "ExecuteTime": {
     "end_time": "2021-12-10T23:47:42.299118Z",
     "start_time": "2021-12-10T23:47:41.572655Z"
    },
    "hidden": true,
    "scrolled": false
   },
   "outputs": [
    {
     "data": {
      "image/png": "[encoded data removed]",
      "text/plain": [
       "<Figure size 1440x432 with 9 Axes>"
      ]
     },
     "metadata": {
      "needs_background": "light"
     },
     "output_type": "display_data"
    }
   ],
   "source": [
    "df.reset_index(drop=True, inplace=True)\n",
    "plt.figure(figsize=(20, 6))\n",
    "for i in range(1, 10):\n",
    "    random_index = np.random.choice(df.index, 500, replace=False)\n",
    "    temp = df.loc[random_index]\n",
    "    plt.subplot(3, 3, i)\n",
    "    g = sns.kdeplot(temp.loc[temp['Response']==0, 'Age'], color='r', alpha=0.5)\n",
    "    g = sns.kdeplot(temp.loc[temp['Response']==1, 'Age'], color='b', alpha=0.5)"
   ]
  },
  {
   "cell_type": "markdown",
   "id": "fb9b3ec2",
   "metadata": {
    "hidden": true
   },
   "source": [
    "Por 9 vezes as linhas se cruzam em um ponto entre 28 e 37"
   ]
  },
  {
   "cell_type": "code",
   "execution_count": 47,
   "id": "ef191f34",
   "metadata": {
    "ExecuteTime": {
     "end_time": "2021-12-10T23:47:43.760057Z",
     "start_time": "2021-12-10T23:47:42.301022Z"
    },
    "hidden": true
   },
   "outputs": [
    {
     "data": {
      "image/png": "[encoded data removed]",
      "text/plain": [
       "<Figure size 1440x144 with 1 Axes>"
      ]
     },
     "metadata": {
      "needs_background": "light"
     },
     "output_type": "display_data"
    }
   ],
   "source": [
    "plt.figure(figsize=(20, 2))\n",
    "plt.xlim(28, 32)\n",
    "g = sns.kdeplot(df.loc[df['Response']==0, 'Age'], color='r', alpha=0.5)\n",
    "g = sns.kdeplot(df.loc[df['Response']==1, 'Age'], color='b', alpha=0.5)"
   ]
  },
  {
   "cell_type": "markdown",
   "id": "d00acc62",
   "metadata": {
    "hidden": true
   },
   "source": [
    "Feature **High_Response_Age** criada"
   ]
  },
  {
   "cell_type": "code",
   "execution_count": 48,
   "id": "4248ec4e",
   "metadata": {
    "ExecuteTime": {
     "end_time": "2021-12-10T23:47:43.790908Z",
     "start_time": "2021-12-10T23:47:43.763061Z"
    },
    "hidden": true
   },
   "outputs": [
    {
     "name": "stdout",
     "output_type": "stream",
     "text": [
      "A média de response entre os clientes com MENOS de 30 anos é: 0.04\n",
      "A média de response entre os clientes com MAIS de 30 anos é: 0.18\n"
     ]
    }
   ],
   "source": [
    "print(f'A média de response entre os clientes com MENOS de 30 anos é: {round(df.loc[df[\"High_Response_Age\"]==0, \"Response\"].mean(), 2)}')\n",
    "print(f'A média de response entre os clientes com MAIS de 30 anos é: {round(df.loc[df[\"High_Response_Age\"]==1, \"Response\"].mean(), 2)}')"
   ]
  },
  {
   "cell_type": "markdown",
   "id": "0e720c20",
   "metadata": {
    "hidden": true
   },
   "source": [
    "A média de response dentre os clientes com mais de 30 anos é mais do que 50% superior em relação aos clientes com menos de 30 anos. Aceita e hipótese nula."
   ]
  },
  {
   "cell_type": "markdown",
   "id": "4934006d",
   "metadata": {
    "heading_collapsed": true,
    "hidden": true
   },
   "source": [
    "#### Driving_License"
   ]
  },
  {
   "cell_type": "markdown",
   "id": "2cd7e86e",
   "metadata": {
    "heading_collapsed": true,
    "hidden": true
   },
   "source": [
    "###### Principais Insights:\n",
    "1. Correlações muito fracas\n",
    "2. 99% dos clientes são habilitados\n",
    "3. Habilitados apresentam 5% de interesse no produto, não habilitados apresentam 12% de interesse no produto."
   ]
  },
  {
   "cell_type": "markdown",
   "id": "43b21b7d",
   "metadata": {
    "heading_collapsed": true,
    "hidden": true
   },
   "source": [
    "###### General Analysis"
   ]
  },
  {
   "cell_type": "code",
   "execution_count": 49,
   "id": "94bde02a",
   "metadata": {
    "ExecuteTime": {
     "end_time": "2021-12-10T23:47:44.256313Z",
     "start_time": "2021-12-10T23:47:43.792822Z"
    },
    "hidden": true,
    "scrolled": true
   },
   "outputs": [
    {
     "data": {
      "text/plain": [
       "Policy_Sales_Channel                  0.042862\n",
       "Vehicle_Age_                          0.030010\n",
       "Previously_Insured                    0.014370\n",
       "Response                              0.010155\n",
       "id                                    0.001362\n",
       "Region_Code                          -0.000202\n",
       "Vintage                              -0.000850\n",
       "Annual_Premium_Variated              -0.002716\n",
       "Log_Annual_Premium                   -0.006955\n",
       "Annual_Premium                       -0.012084\n",
       "Vehicle_Damage_                      -0.015784\n",
       "Region_Code_Response_Mean            -0.016148\n",
       "High_Annual_Premium                  -0.016187\n",
       "Gender_                              -0.017720\n",
       "Policy_Sales_Channel_Response_Mean   -0.032776\n",
       "High_Response_Age                    -0.037265\n",
       "Age                                  -0.079660\n",
       "Name: Driving_License, dtype: float64"
      ]
     },
     "execution_count": 49,
     "metadata": {},
     "output_type": "execute_result"
    }
   ],
   "source": [
    "df.corr()['Driving_License'].sort_values(ascending=False)[1:]"
   ]
  },
  {
   "cell_type": "markdown",
   "id": "1360dd66",
   "metadata": {
    "hidden": true
   },
   "source": [
    "Correlações muito fracas"
   ]
  },
  {
   "cell_type": "code",
   "execution_count": 50,
   "id": "9b9ddee5",
   "metadata": {
    "ExecuteTime": {
     "end_time": "2021-12-10T23:47:44.271253Z",
     "start_time": "2021-12-10T23:47:44.258211Z"
    },
    "hidden": true
   },
   "outputs": [
    {
     "name": "stdout",
     "output_type": "stream",
     "text": [
      "0.998% dos clientes são habilitados\n"
     ]
    }
   ],
   "source": [
    "print(f'{round(df[\"Driving_License\"].mean(), 3)}% dos clientes são habilitados')"
   ]
  },
  {
   "cell_type": "code",
   "execution_count": 51,
   "id": "835441fb",
   "metadata": {
    "ExecuteTime": {
     "end_time": "2021-12-10T23:47:51.926561Z",
     "start_time": "2021-12-10T23:47:44.272212Z"
    },
    "hidden": true
   },
   "outputs": [
    {
     "data": {
      "image/png": "[encoded data removed]",
      "text/plain": [
       "<Figure size 360x360 with 1 Axes>"
      ]
     },
     "metadata": {
      "needs_background": "light"
     },
     "output_type": "display_data"
    }
   ],
   "source": [
    "sns.catplot(x='Driving_License', y= 'Response', data=df, kind='bar')\n",
    "plt.ylabel('Response_mean');"
   ]
  },
  {
   "cell_type": "code",
   "execution_count": 52,
   "id": "6de2203b",
   "metadata": {
    "ExecuteTime": {
     "end_time": "2021-12-10T23:47:51.971629Z",
     "start_time": "2021-12-10T23:47:51.931549Z"
    },
    "hidden": true,
    "scrolled": false
   },
   "outputs": [
    {
     "name": "stdout",
     "output_type": "stream",
     "text": [
      "Habilitados tem: 5.05% de interesse no produto\n",
      "NÃO habilitados tem: 12.27% de interesse no produto\n"
     ]
    }
   ],
   "source": [
    "print(f'Habilitados tem: {round(df.loc[df[\"Driving_License\"]==0, \"Response\"].mean()*100, 2)}% de interesse no produto')\n",
    "print(f'NÃO habilitados tem: {round(df.loc[df[\"Driving_License\"]==1, \"Response\"].mean()*100, 2)}% de interesse no produto')"
   ]
  },
  {
   "cell_type": "markdown",
   "id": "fe802204",
   "metadata": {
    "heading_collapsed": true,
    "hidden": true
   },
   "source": [
    "#### Previously_Insured"
   ]
  },
  {
   "cell_type": "markdown",
   "id": "23c29af0",
   "metadata": {
    "heading_collapsed": true,
    "hidden": true
   },
   "source": [
    "###### Principais Insights:\n",
    "1. 45% dos clientes já possuem seguro veicular\n",
    "2. Clientes que já possuem seguro têm interesse quase zero pelo produto\n",
    "3. Correlação muito forte negativa com Vehicle_Damage, fraca negativa com Response e Age, e fraca positiva com Policy_Sales_Channel"
   ]
  },
  {
   "cell_type": "markdown",
   "id": "a86c8a3b",
   "metadata": {
    "heading_collapsed": true,
    "hidden": true
   },
   "source": [
    "###### General Analysis"
   ]
  },
  {
   "cell_type": "code",
   "execution_count": 53,
   "id": "4e3e2ddb",
   "metadata": {
    "ExecuteTime": {
     "end_time": "2021-12-10T23:47:52.470702Z",
     "start_time": "2021-12-10T23:47:51.976174Z"
    },
    "hidden": true
   },
   "outputs": [
    {
     "data": {
      "text/plain": [
       "Policy_Sales_Channel                  0.221334\n",
       "Vehicle_Age_                          0.175548\n",
       "Annual_Premium_Variated               0.088478\n",
       "Log_Annual_Premium                    0.056660\n",
       "Driving_License                       0.014370\n",
       "Annual_Premium                        0.004776\n",
       "id                                    0.002557\n",
       "Vintage                               0.001664\n",
       "Region_Code                          -0.023991\n",
       "High_Annual_Premium                  -0.060264\n",
       "Gender_                              -0.082726\n",
       "Region_Code_Response_Mean            -0.179897\n",
       "Age                                  -0.255582\n",
       "High_Response_Age                    -0.332756\n",
       "Response                             -0.341170\n",
       "Policy_Sales_Channel_Response_Mean   -0.419215\n",
       "Vehicle_Damage_                      -0.823973\n",
       "Name: Previously_Insured, dtype: float64"
      ]
     },
     "execution_count": 53,
     "metadata": {},
     "output_type": "execute_result"
    }
   ],
   "source": [
    "df.corr()['Previously_Insured'].sort_values(ascending=False)[1:]"
   ]
  },
  {
   "cell_type": "markdown",
   "id": "a1db488d",
   "metadata": {
    "hidden": true
   },
   "source": [
    "Correlação muito forte negativa com Vehicle_Damage, fraca negativa com Response e Age, e fraca positiva com Policy_Sales_Channel"
   ]
  },
  {
   "cell_type": "code",
   "execution_count": 54,
   "id": "09549c65",
   "metadata": {
    "ExecuteTime": {
     "end_time": "2021-12-10T23:47:52.486484Z",
     "start_time": "2021-12-10T23:47:52.473597Z"
    },
    "hidden": true
   },
   "outputs": [
    {
     "data": {
      "text/plain": [
       "0.45866739086797886"
      ]
     },
     "execution_count": 54,
     "metadata": {},
     "output_type": "execute_result"
    }
   ],
   "source": [
    "df['Previously_Insured'].mean()"
   ]
  },
  {
   "cell_type": "markdown",
   "id": "482517f9",
   "metadata": {
    "hidden": true
   },
   "source": [
    "45% dos clientes já sofreram danos veiculares"
   ]
  },
  {
   "cell_type": "code",
   "execution_count": 55,
   "id": "0ed0e09d",
   "metadata": {
    "ExecuteTime": {
     "end_time": "2021-12-10T23:47:57.610862Z",
     "start_time": "2021-12-10T23:47:52.488478Z"
    },
    "hidden": true
   },
   "outputs": [
    {
     "data": {
      "image/png": "[encoded data removed]",
      "text/plain": [
       "<Figure size 360x360 with 1 Axes>"
      ]
     },
     "metadata": {
      "needs_background": "light"
     },
     "output_type": "display_data"
    }
   ],
   "source": [
    "sns.catplot(x='Previously_Insured', y='Response', data=df, kind='bar')\n",
    "plt.ylabel('Response_mean');"
   ]
  },
  {
   "cell_type": "code",
   "execution_count": 56,
   "id": "0c227e2a",
   "metadata": {
    "ExecuteTime": {
     "end_time": "2021-12-10T23:47:57.642907Z",
     "start_time": "2021-12-10T23:47:57.613986Z"
    },
    "hidden": true,
    "scrolled": true
   },
   "outputs": [
    {
     "data": {
      "text/plain": [
       "0.09047804475799986"
      ]
     },
     "execution_count": 56,
     "metadata": {},
     "output_type": "execute_result"
    }
   ],
   "source": [
    "df.loc[df['Previously_Insured']==1, 'Response'].mean()*100"
   ]
  },
  {
   "cell_type": "markdown",
   "id": "167ff104",
   "metadata": {
    "hidden": true
   },
   "source": [
    "Clientes que possuem seguro veicular tem interesse quase zero no produto"
   ]
  },
  {
   "cell_type": "markdown",
   "id": "dbfc9ead",
   "metadata": {
    "heading_collapsed": true,
    "hidden": true
   },
   "source": [
    "#### Region_Code"
   ]
  },
  {
   "cell_type": "markdown",
   "id": "e392ecfc",
   "metadata": {
    "heading_collapsed": true,
    "hidden": true
   },
   "source": [
    "###### Principais Insights:\n",
    "1. 53 regiões\n",
    "2. 28% dos clientes está contido na região 28. 50% dos dados estão contidos nas 5 regiões mais numerosas\n",
    "3. A região 28 (mais importante) tem por volta de 18% de probabilidade de response, segunda melhor região, atrás apenas da região 38.\n",
    "4. As regiões com probabilidade de response mais alto estão com por volta de 19%, as regiões com probabilidades mais baixas estã em por volta de 4%\n",
    "5. Médias de response bastante distintas, com desvios padrões baixos"
   ]
  },
  {
   "cell_type": "markdown",
   "id": "5a744472",
   "metadata": {
    "heading_collapsed": true,
    "hidden": true
   },
   "source": [
    "###### General Analysis:"
   ]
  },
  {
   "cell_type": "code",
   "execution_count": 57,
   "id": "f08515b3",
   "metadata": {
    "ExecuteTime": {
     "end_time": "2021-12-10T23:47:58.109459Z",
     "start_time": "2021-12-10T23:47:57.644499Z"
    },
    "hidden": true
   },
   "outputs": [
    {
     "data": {
      "text/plain": [
       "Region_Code_Response_Mean             0.076274\n",
       "High_Response_Age                     0.043653\n",
       "Age                                   0.041649\n",
       "Vehicle_Damage_                       0.027210\n",
       "Policy_Sales_Channel_Response_Mean    0.026936\n",
       "Response                              0.010570\n",
       "Annual_Premium_Variated               0.003236\n",
       "id                                    0.001325\n",
       "Gender_                               0.000684\n",
       "Driving_License                      -0.000202\n",
       "Vintage                              -0.001568\n",
       "Log_Annual_Premium                   -0.001691\n",
       "Annual_Premium                       -0.012012\n",
       "Previously_Insured                   -0.023991\n",
       "High_Annual_Premium                  -0.026202\n",
       "Vehicle_Age_                         -0.027622\n",
       "Policy_Sales_Channel                 -0.042223\n",
       "Name: Region_Code, dtype: float64"
      ]
     },
     "execution_count": 57,
     "metadata": {},
     "output_type": "execute_result"
    }
   ],
   "source": [
    "df.corr()['Region_Code'].sort_values(ascending=False)[1:]"
   ]
  },
  {
   "cell_type": "markdown",
   "id": "3efcf027",
   "metadata": {
    "hidden": true
   },
   "source": [
    "Correlações muito fracas"
   ]
  },
  {
   "cell_type": "code",
   "execution_count": 58,
   "id": "f3f7a58b",
   "metadata": {
    "ExecuteTime": {
     "end_time": "2021-12-10T23:47:58.140589Z",
     "start_time": "2021-12-10T23:47:58.112032Z"
    },
    "hidden": true,
    "scrolled": true
   },
   "outputs": [
    {
     "data": {
      "text/plain": [
       "53"
      ]
     },
     "execution_count": 58,
     "metadata": {},
     "output_type": "execute_result"
    }
   ],
   "source": [
    "df['Region_Code'].nunique()"
   ]
  },
  {
   "cell_type": "markdown",
   "id": "065e43da",
   "metadata": {
    "hidden": true
   },
   "source": [
    "53 categorias"
   ]
  },
  {
   "cell_type": "code",
   "execution_count": 59,
   "id": "c3713eb9",
   "metadata": {
    "ExecuteTime": {
     "end_time": "2021-12-10T23:47:58.171200Z",
     "start_time": "2021-12-10T23:47:58.142997Z"
    },
    "hidden": true,
    "scrolled": true
   },
   "outputs": [
    {
     "data": {
      "text/plain": [
       "28.0    0.279323\n",
       "8.0     0.088360\n",
       "46.0    0.051869\n",
       "41.0    0.048018\n",
       "15.0    0.034931\n",
       "Name: Region_Code, dtype: float64"
      ]
     },
     "execution_count": 59,
     "metadata": {},
     "output_type": "execute_result"
    }
   ],
   "source": [
    "df['Region_Code'].value_counts(normalize=True).head(5)"
   ]
  },
  {
   "cell_type": "code",
   "execution_count": 60,
   "id": "3a6d2328",
   "metadata": {
    "ExecuteTime": {
     "end_time": "2021-12-10T23:47:58.201824Z",
     "start_time": "2021-12-10T23:47:58.174194Z"
    },
    "hidden": true,
    "scrolled": true
   },
   "outputs": [
    {
     "data": {
      "text/plain": [
       "1.0     0.002682\n",
       "44.0    0.002094\n",
       "42.0    0.001549\n",
       "52.0    0.000703\n",
       "51.0    0.000533\n",
       "Name: Region_Code, dtype: float64"
      ]
     },
     "execution_count": 60,
     "metadata": {},
     "output_type": "execute_result"
    }
   ],
   "source": [
    "df['Region_Code'].value_counts(normalize=True).tail(5)"
   ]
  },
  {
   "cell_type": "code",
   "execution_count": 61,
   "id": "e8a2d772",
   "metadata": {
    "ExecuteTime": {
     "end_time": "2021-12-10T23:47:58.232860Z",
     "start_time": "2021-12-10T23:47:58.203972Z"
    },
    "hidden": true
   },
   "outputs": [
    {
     "data": {
      "text/plain": [
       "0.5025012496408512"
      ]
     },
     "execution_count": 61,
     "metadata": {},
     "output_type": "execute_result"
    }
   ],
   "source": [
    "df['Region_Code'].value_counts(normalize=True).head(5).sum()"
   ]
  },
  {
   "cell_type": "markdown",
   "id": "c7fc564e",
   "metadata": {
    "hidden": true
   },
   "source": [
    "28% dos clientes está contido na região 28. 50% dos dados estão contidos nas 5 regiões mais densas."
   ]
  },
  {
   "cell_type": "code",
   "execution_count": 62,
   "id": "40dc0ab9",
   "metadata": {
    "ExecuteTime": {
     "end_time": "2021-12-10T23:47:58.264605Z",
     "start_time": "2021-12-10T23:47:58.235392Z"
    },
    "hidden": true
   },
   "outputs": [
    {
     "data": {
      "text/html": [
       "<div>\n",
       "<style scoped>\n",
       "    .dataframe tbody tr th:only-of-type {\n",
       "        vertical-align: middle;\n",
       "    }\n",
       "\n",
       "    .dataframe tbody tr th {\n",
       "        vertical-align: top;\n",
       "    }\n",
       "\n",
       "    .dataframe thead th {\n",
       "        text-align: right;\n",
       "    }\n",
       "</style>\n",
       "<table border=\"1\" class=\"dataframe\">\n",
       "  <thead>\n",
       "    <tr style=\"text-align: right;\">\n",
       "      <th></th>\n",
       "      <th>Region_Code</th>\n",
       "      <th>Response</th>\n",
       "    </tr>\n",
       "  </thead>\n",
       "  <tbody>\n",
       "    <tr>\n",
       "      <th>38</th>\n",
       "      <td>38.0</td>\n",
       "      <td>0.192004</td>\n",
       "    </tr>\n",
       "    <tr>\n",
       "      <th>28</th>\n",
       "      <td>28.0</td>\n",
       "      <td>0.187163</td>\n",
       "    </tr>\n",
       "    <tr>\n",
       "      <th>19</th>\n",
       "      <td>19.0</td>\n",
       "      <td>0.162866</td>\n",
       "    </tr>\n",
       "    <tr>\n",
       "      <th>4</th>\n",
       "      <td>4.0</td>\n",
       "      <td>0.158245</td>\n",
       "    </tr>\n",
       "    <tr>\n",
       "      <th>23</th>\n",
       "      <td>23.0</td>\n",
       "      <td>0.153061</td>\n",
       "    </tr>\n",
       "  </tbody>\n",
       "</table>\n",
       "</div>"
      ],
      "text/plain": [
       "    Region_Code  Response\n",
       "38         38.0  0.192004\n",
       "28         28.0  0.187163\n",
       "19         19.0  0.162866\n",
       "4           4.0  0.158245\n",
       "23         23.0  0.153061"
      ]
     },
     "execution_count": 62,
     "metadata": {},
     "output_type": "execute_result"
    }
   ],
   "source": [
    "df.groupby('Region_Code', as_index=False).agg({'Response':'mean'}).sort_values('Response', ascending=False).head(5)"
   ]
  },
  {
   "cell_type": "code",
   "execution_count": 63,
   "id": "797be4a2",
   "metadata": {
    "ExecuteTime": {
     "end_time": "2021-12-10T23:47:58.296369Z",
     "start_time": "2021-12-10T23:47:58.267569Z"
    },
    "hidden": true
   },
   "outputs": [
    {
     "data": {
      "text/html": [
       "<div>\n",
       "<style scoped>\n",
       "    .dataframe tbody tr th:only-of-type {\n",
       "        vertical-align: middle;\n",
       "    }\n",
       "\n",
       "    .dataframe tbody tr th {\n",
       "        vertical-align: top;\n",
       "    }\n",
       "\n",
       "    .dataframe thead th {\n",
       "        text-align: right;\n",
       "    }\n",
       "</style>\n",
       "<table border=\"1\" class=\"dataframe\">\n",
       "  <thead>\n",
       "    <tr style=\"text-align: right;\">\n",
       "      <th></th>\n",
       "      <th>Region_Code</th>\n",
       "      <th>Response</th>\n",
       "    </tr>\n",
       "  </thead>\n",
       "  <tbody>\n",
       "    <tr>\n",
       "      <th>22</th>\n",
       "      <td>22.0</td>\n",
       "      <td>0.063407</td>\n",
       "    </tr>\n",
       "    <tr>\n",
       "      <th>50</th>\n",
       "      <td>50.0</td>\n",
       "      <td>0.062677</td>\n",
       "    </tr>\n",
       "    <tr>\n",
       "      <th>10</th>\n",
       "      <td>10.0</td>\n",
       "      <td>0.060128</td>\n",
       "    </tr>\n",
       "    <tr>\n",
       "      <th>25</th>\n",
       "      <td>25.0</td>\n",
       "      <td>0.042749</td>\n",
       "    </tr>\n",
       "    <tr>\n",
       "      <th>44</th>\n",
       "      <td>44.0</td>\n",
       "      <td>0.040842</td>\n",
       "    </tr>\n",
       "  </tbody>\n",
       "</table>\n",
       "</div>"
      ],
      "text/plain": [
       "    Region_Code  Response\n",
       "22         22.0  0.063407\n",
       "50         50.0  0.062677\n",
       "10         10.0  0.060128\n",
       "25         25.0  0.042749\n",
       "44         44.0  0.040842"
      ]
     },
     "execution_count": 63,
     "metadata": {},
     "output_type": "execute_result"
    }
   ],
   "source": [
    "df.groupby('Region_Code', as_index=False).agg({'Response':'mean'}).sort_values('Response', ascending=False).tail(5)"
   ]
  },
  {
   "cell_type": "markdown",
   "id": "d420ca4e",
   "metadata": {
    "hidden": true
   },
   "source": [
    "As regiões com probabilidade de response mais alto estão com por volta de 19%, as regiões com probabilidades mais baixas estã em por volta de 4%"
   ]
  },
  {
   "cell_type": "code",
   "execution_count": 64,
   "id": "084ab6f8",
   "metadata": {
    "ExecuteTime": {
     "end_time": "2021-12-10T23:48:02.942599Z",
     "start_time": "2021-12-10T23:47:58.298073Z"
    },
    "hidden": true
   },
   "outputs": [
    {
     "data": {
      "image/png": "[encoded data removed]",
      "text/plain": [
       "<Figure size 1080x360 with 1 Axes>"
      ]
     },
     "metadata": {
      "needs_background": "light"
     },
     "output_type": "display_data"
    }
   ],
   "source": [
    "sns.catplot(x='Region_Code', y='Response', data=df, kind='bar', aspect=3)\n",
    "plt.ylabel('Response_Mean');"
   ]
  },
  {
   "cell_type": "markdown",
   "id": "814f4d21",
   "metadata": {
    "hidden": true
   },
   "source": [
    "Médias de response bastante distintas, com desvios padrões baixos"
   ]
  },
  {
   "cell_type": "markdown",
   "id": "94b24327",
   "metadata": {
    "heading_collapsed": true,
    "hidden": true
   },
   "source": [
    "#### Vehicle_Age"
   ]
  },
  {
   "cell_type": "markdown",
   "id": "4e791399",
   "metadata": {
    "heading_collapsed": true,
    "hidden": true
   },
   "source": [
    "###### Principais insights:\n",
    "1. Mais da metade dos clientes possuem carros com menos de 1 ano\n",
    "2. Correlação moderada negativa com Age, fraca positiva com Policy_Sales_Channel\n",
    "3. Médias de response bastante distintas"
   ]
  },
  {
   "cell_type": "markdown",
   "id": "468afb98",
   "metadata": {
    "heading_collapsed": true,
    "hidden": true
   },
   "source": [
    "###### General Analysis"
   ]
  },
  {
   "cell_type": "code",
   "execution_count": 65,
   "id": "e88b50cb",
   "metadata": {
    "ExecuteTime": {
     "end_time": "2021-12-10T23:48:03.353409Z",
     "start_time": "2021-12-10T23:48:02.946587Z"
    },
    "hidden": true
   },
   "outputs": [
    {
     "data": {
      "text/plain": [
       "Policy_Sales_Channel                  0.388868\n",
       "Previously_Insured                    0.175548\n",
       "Annual_Premium_Variated               0.089113\n",
       "Log_Annual_Premium                    0.065386\n",
       "Driving_License                       0.030010\n",
       "Annual_Premium                        0.023545\n",
       "Vintage                               0.001941\n",
       "id                                   -0.000359\n",
       "Region_Code                          -0.027622\n",
       "High_Annual_Premium                  -0.031430\n",
       "Response                             -0.104078\n",
       "Gender_                              -0.113453\n",
       "Vehicle_Damage_                      -0.174990\n",
       "Region_Code_Response_Mean            -0.207726\n",
       "Age                                  -0.522770\n",
       "Policy_Sales_Channel_Response_Mean   -0.573390\n",
       "High_Response_Age                    -0.636472\n",
       "Name: Vehicle_Age_, dtype: float64"
      ]
     },
     "execution_count": 65,
     "metadata": {},
     "output_type": "execute_result"
    }
   ],
   "source": [
    "df.corr()['Vehicle_Age_'].sort_values(ascending=False)[1:]"
   ]
  },
  {
   "cell_type": "markdown",
   "id": "6ee8a3bb",
   "metadata": {
    "hidden": true
   },
   "source": [
    "Correlação moderada negativa com Age, fraca positiva com Policy_Sales_Channel"
   ]
  },
  {
   "cell_type": "code",
   "execution_count": 66,
   "id": "fa957cec",
   "metadata": {
    "ExecuteTime": {
     "end_time": "2021-12-10T23:48:03.385125Z",
     "start_time": "2021-12-10T23:48:03.355691Z"
    },
    "hidden": true
   },
   "outputs": [
    {
     "data": {
      "text/plain": [
       "1-2 Year     0.525469\n",
       "< 1 Year     0.432563\n",
       "> 2 Years    0.041968\n",
       "Name: Vehicle_Age, dtype: float64"
      ]
     },
     "execution_count": 66,
     "metadata": {},
     "output_type": "execute_result"
    }
   ],
   "source": [
    "df['Vehicle_Age'].value_counts(normalize=True)"
   ]
  },
  {
   "cell_type": "code",
   "execution_count": 67,
   "id": "46469b9d",
   "metadata": {
    "ExecuteTime": {
     "end_time": "2021-12-10T23:48:08.201193Z",
     "start_time": "2021-12-10T23:48:03.387117Z"
    },
    "hidden": true
   },
   "outputs": [
    {
     "data": {
      "image/png": "[encoded data removed]",
      "text/plain": [
       "<Figure size 360x360 with 1 Axes>"
      ]
     },
     "metadata": {
      "needs_background": "light"
     },
     "output_type": "display_data"
    }
   ],
   "source": [
    "sns.catplot(x='Vehicle_Age', y='Response', data=df, kind='bar')\n",
    "plt.ylabel('Response_Mean');"
   ]
  },
  {
   "cell_type": "markdown",
   "id": "e5c3db44",
   "metadata": {
    "hidden": true
   },
   "source": [
    "Médias de response bastante distintas"
   ]
  },
  {
   "cell_type": "markdown",
   "id": "20e46ba5",
   "metadata": {
    "heading_collapsed": true,
    "hidden": true
   },
   "source": [
    "#### Vehicle_Damage"
   ]
  },
  {
   "cell_type": "markdown",
   "id": "b31eda83",
   "metadata": {
    "heading_collapsed": true,
    "hidden": true
   },
   "source": [
    "###### Principais insights:\n",
    "1. Balanceada\n",
    "2. Correlação muito forte negativa com Previously_Insured, fraca negativa com Policy_Sales_Channel, fraca positiva com Response e Age\n",
    "3. Clientes que já tiveram danos no seu veículo tem 24% de response, enquanto clientes que não tiveram danos têm por volta de 1%"
   ]
  },
  {
   "cell_type": "markdown",
   "id": "1e811998",
   "metadata": {
    "heading_collapsed": true,
    "hidden": true
   },
   "source": [
    "###### General Analysis"
   ]
  },
  {
   "cell_type": "code",
   "execution_count": 68,
   "id": "2e9ce90f",
   "metadata": {
    "ExecuteTime": {
     "end_time": "2021-12-10T23:48:08.609866Z",
     "start_time": "2021-12-10T23:48:08.203527Z"
    },
    "hidden": true
   },
   "outputs": [
    {
     "data": {
      "text/plain": [
       "Policy_Sales_Channel_Response_Mean    0.435397\n",
       "Response                              0.354400\n",
       "High_Response_Age                     0.338477\n",
       "Age                                   0.268328\n",
       "Region_Code_Response_Mean             0.195931\n",
       "Gender_                               0.092273\n",
       "High_Annual_Premium                   0.069155\n",
       "Region_Code                           0.027210\n",
       "Annual_Premium                        0.009504\n",
       "Vintage                              -0.001078\n",
       "id                                   -0.002335\n",
       "Driving_License                      -0.015784\n",
       "Log_Annual_Premium                   -0.041054\n",
       "Annual_Premium_Variated              -0.073731\n",
       "Vehicle_Age_                         -0.174990\n",
       "Policy_Sales_Channel                 -0.225856\n",
       "Previously_Insured                   -0.823973\n",
       "Name: Vehicle_Damage_, dtype: float64"
      ]
     },
     "execution_count": 68,
     "metadata": {},
     "output_type": "execute_result"
    }
   ],
   "source": [
    "df.corr()['Vehicle_Damage_'].sort_values(ascending=False)[1:]"
   ]
  },
  {
   "cell_type": "markdown",
   "id": "787556c5",
   "metadata": {
    "hidden": true
   },
   "source": [
    "Correlação muito forte negativa com Previously_Insured, fraca negativa com Policy_Sales_Channel, fraca positiva com Response e Age"
   ]
  },
  {
   "cell_type": "code",
   "execution_count": 69,
   "id": "31251a0c",
   "metadata": {
    "ExecuteTime": {
     "end_time": "2021-12-10T23:48:08.656531Z",
     "start_time": "2021-12-10T23:48:08.611862Z"
    },
    "hidden": true,
    "scrolled": true
   },
   "outputs": [
    {
     "data": {
      "text/plain": [
       "Yes    0.50428\n",
       "No     0.49572\n",
       "Name: Vehicle_Damage, dtype: float64"
      ]
     },
     "execution_count": 69,
     "metadata": {},
     "output_type": "execute_result"
    }
   ],
   "source": [
    "df['Vehicle_Damage'].value_counts(normalize=True)"
   ]
  },
  {
   "cell_type": "code",
   "execution_count": 70,
   "id": "a5d2e19c",
   "metadata": {
    "ExecuteTime": {
     "end_time": "2021-12-10T23:48:13.912770Z",
     "start_time": "2021-12-10T23:48:08.658444Z"
    },
    "hidden": true,
    "scrolled": false
   },
   "outputs": [
    {
     "data": {
      "text/plain": [
       "<seaborn.axisgrid.FacetGrid at 0x23aa7147d90>"
      ]
     },
     "execution_count": 70,
     "metadata": {},
     "output_type": "execute_result"
    },
    {
     "data": {
      "image/png": "[encoded data removed]",
      "text/plain": [
       "<Figure size 360x360 with 1 Axes>"
      ]
     },
     "metadata": {
      "needs_background": "light"
     },
     "output_type": "display_data"
    }
   ],
   "source": [
    "sns.catplot(x='Vehicle_Damage', y='Response', data=df, kind='bar')"
   ]
  },
  {
   "cell_type": "code",
   "execution_count": 71,
   "id": "53d50f20",
   "metadata": {
    "ExecuteTime": {
     "end_time": "2021-12-10T23:48:14.006168Z",
     "start_time": "2021-12-10T23:48:13.914402Z"
    },
    "hidden": true
   },
   "outputs": [
    {
     "name": "stdout",
     "output_type": "stream",
     "text": [
      "Clientes que já tiveram danos tem: 23.77% de response\n",
      "Clientes que NÃO tiveram danos tem: 0.52% de response\n"
     ]
    }
   ],
   "source": [
    "print(f'Clientes que já tiveram danos tem: {round(df.loc[df[\"Vehicle_Damage\"]==\"Yes\", \"Response\"].mean()*100, 2)}% de response')\n",
    "print(f'Clientes que NÃO tiveram danos tem: {round(df.loc[df[\"Vehicle_Damage\"]==\"No\", \"Response\"].mean()*100, 2)}% de response')"
   ]
  },
  {
   "cell_type": "markdown",
   "id": "7f91fd83",
   "metadata": {
    "hidden": true
   },
   "source": [
    "Clientes que já tiveram danos no seu veículo tem 24% de response, enquanto clientes que não tiveram danos têm por volta de 1%"
   ]
  },
  {
   "cell_type": "markdown",
   "id": "fcea5da8",
   "metadata": {
    "heading_collapsed": true,
    "hidden": true
   },
   "source": [
    "#### Annual_Premium"
   ]
  },
  {
   "cell_type": "markdown",
   "id": "7ce56331",
   "metadata": {
    "heading_collapsed": true,
    "hidden": true
   },
   "source": [
    "###### Principais insights:\n",
    "1. 2799 em Annual_Premmium, não aparentam ser por conta de erros de input\n",
    "2. Há dois grupos de clientes, um com valores fixos em 2630 dollares, e outro com valores contínuos e superiores, não há diferença significativa de média de interesse no produto entre os grupos\n",
    "3. Aparentemente acima do terceiro quartil da distribuição há um interesse maior no produto"
   ]
  },
  {
   "cell_type": "markdown",
   "id": "affe69e7",
   "metadata": {
    "heading_collapsed": true,
    "hidden": true
   },
   "source": [
    "###### General Analysis"
   ]
  },
  {
   "cell_type": "code",
   "execution_count": 72,
   "id": "39a524bf",
   "metadata": {
    "ExecuteTime": {
     "end_time": "2021-12-10T23:48:14.146447Z",
     "start_time": "2021-12-10T23:48:14.009994Z"
    },
    "hidden": true
   },
   "outputs": [
    {
     "data": {
      "text/plain": [
       "<AxesSubplot:xlabel='Annual_Premium'>"
      ]
     },
     "execution_count": 72,
     "metadata": {},
     "output_type": "execute_result"
    },
    {
     "data": {
      "image/png": "[encoded data removed]",
      "text/plain": [
       "<Figure size 432x288 with 1 Axes>"
      ]
     },
     "metadata": {
      "needs_background": "light"
     },
     "output_type": "display_data"
    }
   ],
   "source": [
    "sns.boxplot(x='Annual_Premium', data=df)"
   ]
  },
  {
   "cell_type": "markdown",
   "id": "ce8096c9",
   "metadata": {
    "hidden": true
   },
   "source": [
    "Muitos outliers"
   ]
  },
  {
   "cell_type": "code",
   "execution_count": 73,
   "id": "235c56d3",
   "metadata": {
    "ExecuteTime": {
     "end_time": "2021-12-10T23:48:14.177604Z",
     "start_time": "2021-12-10T23:48:14.148478Z"
    },
    "hidden": true
   },
   "outputs": [],
   "source": [
    "índices, li, ls = buscar_outlier(df, 'Annual_Premium')"
   ]
  },
  {
   "cell_type": "code",
   "execution_count": 74,
   "id": "a87b2440",
   "metadata": {
    "ExecuteTime": {
     "end_time": "2021-12-10T23:48:14.192791Z",
     "start_time": "2021-12-10T23:48:14.179603Z"
    },
    "hidden": true
   },
   "outputs": [
    {
     "name": "stdout",
     "output_type": "stream",
     "text": [
      "Há 2799 outliers no total\n"
     ]
    }
   ],
   "source": [
    "print(f'Há {len(índices)} outliers no total')"
   ]
  },
  {
   "cell_type": "code",
   "execution_count": 75,
   "id": "c1300707",
   "metadata": {
    "ExecuteTime": {
     "end_time": "2021-12-10T23:48:14.670907Z",
     "start_time": "2021-12-10T23:48:14.194688Z"
    },
    "hidden": true
   },
   "outputs": [
    {
     "data": {
      "text/plain": [
       "Log_Annual_Premium                    0.877883\n",
       "Annual_Premium_Variated               0.737574\n",
       "High_Annual_Premium                   0.637120\n",
       "Region_Code_Response_Mean             0.252035\n",
       "Age                                   0.067392\n",
       "Vehicle_Age_                          0.023545\n",
       "Response                              0.022575\n",
       "High_Response_Age                     0.018329\n",
       "Vehicle_Damage_                       0.009504\n",
       "Previously_Insured                    0.004776\n",
       "Gender_                               0.003502\n",
       "id                                    0.001042\n",
       "Policy_Sales_Channel_Response_Mean   -0.000101\n",
       "Vintage                              -0.000855\n",
       "Region_Code                          -0.012012\n",
       "Driving_License                      -0.012084\n",
       "Policy_Sales_Channel                 -0.114035\n",
       "Name: Annual_Premium, dtype: float64"
      ]
     },
     "execution_count": 75,
     "metadata": {},
     "output_type": "execute_result"
    }
   ],
   "source": [
    "df.corr()['Annual_Premium'].sort_values(ascending=False)[1:]"
   ]
  },
  {
   "cell_type": "markdown",
   "id": "58471dfe",
   "metadata": {
    "hidden": true
   },
   "source": [
    "Correlações muito fracas"
   ]
  },
  {
   "cell_type": "code",
   "execution_count": 76,
   "id": "9fc268d1",
   "metadata": {
    "ExecuteTime": {
     "end_time": "2021-12-10T23:48:16.606879Z",
     "start_time": "2021-12-10T23:48:14.674898Z"
    },
    "hidden": true
   },
   "outputs": [
    {
     "data": {
      "text/plain": [
       "<AxesSubplot:xlabel='Annual_Premium', ylabel='Count'>"
      ]
     },
     "execution_count": 76,
     "metadata": {},
     "output_type": "execute_result"
    },
    {
     "data": {
      "image/png": "[encoded data removed]",
      "text/plain": [
       "<Figure size 432x288 with 1 Axes>"
      ]
     },
     "metadata": {
      "needs_background": "light"
     },
     "output_type": "display_data"
    }
   ],
   "source": [
    "sns.histplot(df['Annual_Premium'])"
   ]
  },
  {
   "cell_type": "code",
   "execution_count": 77,
   "id": "81395132",
   "metadata": {
    "ExecuteTime": {
     "end_time": "2021-12-10T23:48:16.653404Z",
     "start_time": "2021-12-10T23:48:16.609771Z"
    },
    "hidden": true
   },
   "outputs": [
    {
     "data": {
      "text/plain": [
       "2630.0     0.170203\n",
       "69856.0    0.000364\n",
       "45179.0    0.000112\n",
       "38452.0    0.000110\n",
       "39008.0    0.000108\n",
       "Name: Annual_Premium, dtype: float64"
      ]
     },
     "execution_count": 77,
     "metadata": {},
     "output_type": "execute_result"
    }
   ],
   "source": [
    "df['Annual_Premium'].value_counts(normalize=True).head(5)"
   ]
  },
  {
   "cell_type": "markdown",
   "id": "0f9d7676",
   "metadata": {
    "hidden": true
   },
   "source": [
    "17% dos clientes estão contidos em um valor discreto de 2630 dollares. Um estudo separadamente para este grupo pode ser interessante."
   ]
  },
  {
   "cell_type": "code",
   "execution_count": 78,
   "id": "b95adbf1",
   "metadata": {
    "ExecuteTime": {
     "end_time": "2021-12-10T23:48:16.683721Z",
     "start_time": "2021-12-10T23:48:16.656009Z"
    },
    "hidden": true
   },
   "outputs": [
    {
     "name": "stdout",
     "output_type": "stream",
     "text": [
      "A média de interesse no produto do grupo de clientes com valor FIXO de seguro: 13.11%\n",
      "A média de interesse no produto do grupo de clientes com valor VARIÁVEL SUPERIOR de seguro: 12.08%\n"
     ]
    }
   ],
   "source": [
    "print(f'A média de interesse no produto do grupo de clientes com valor FIXO de seguro: {round(df.loc[df[\"Annual_Premium\"]==2630, \"Response\"].mean()*100, 2)}%')\n",
    "print(f'A média de interesse no produto do grupo de clientes com valor VARIÁVEL SUPERIOR de seguro: {round(df.loc[df[\"Annual_Premium\"]!=2630, \"Response\"].mean()*100, 2)}%')"
   ]
  },
  {
   "cell_type": "markdown",
   "id": "2be8a5d5",
   "metadata": {
    "hidden": true
   },
   "source": [
    "O interesse no produto não é significativamente diferente entre os dois grupos de clientes"
   ]
  },
  {
   "cell_type": "markdown",
   "id": "2636777e",
   "metadata": {
    "hidden": true
   },
   "source": [
    "**Nicho Variável**"
   ]
  },
  {
   "cell_type": "markdown",
   "id": "0d6c865c",
   "metadata": {
    "hidden": true
   },
   "source": [
    "Para uma melhor visualização, os dados serão filtrados provisioriamente até 100000 dollares"
   ]
  },
  {
   "cell_type": "code",
   "execution_count": 79,
   "id": "757d5b03",
   "metadata": {
    "ExecuteTime": {
     "end_time": "2021-12-10T23:48:16.745680Z",
     "start_time": "2021-12-10T23:48:16.686324Z"
    },
    "hidden": true
   },
   "outputs": [],
   "source": [
    "temp = df.loc[(df['Annual_Premium']>2630)&(df['Annual_Premium']<100000)]"
   ]
  },
  {
   "cell_type": "code",
   "execution_count": 80,
   "id": "ad705bbd",
   "metadata": {
    "ExecuteTime": {
     "end_time": "2021-12-10T23:48:18.812885Z",
     "start_time": "2021-12-10T23:48:16.749477Z"
    },
    "hidden": true
   },
   "outputs": [
    {
     "data": {
      "image/png": "[encoded data removed]",
      "text/plain": [
       "<Figure size 432x288 with 2 Axes>"
      ]
     },
     "metadata": {
      "needs_background": "light"
     },
     "output_type": "display_data"
    }
   ],
   "source": [
    "plt.subplot(2, 1, 1)\n",
    "g = sns.histplot(temp.loc[temp['Response']==0, 'Annual_Premium'], color='r', alpha=0.5)\n",
    "g = sns.histplot(temp.loc[temp['Response']==1, 'Annual_Premium'], color='b', alpha=0.5)\n",
    "plt.subplot(2, 1, 2)\n",
    "g = sns.kdeplot(temp.loc[temp['Response']==0, 'Annual_Premium'], color='r', alpha=0.5)\n",
    "g = sns.kdeplot(temp.loc[temp['Response']==1, 'Annual_Premium'], color='b', alpha=0.5)"
   ]
  },
  {
   "cell_type": "markdown",
   "id": "642a5443",
   "metadata": {
    "hidden": true
   },
   "source": [
    "Aparentemente acima do terceiro quartil da distribuição há um interesse maior no produto"
   ]
  },
  {
   "cell_type": "code",
   "execution_count": 81,
   "id": "d4654bc5",
   "metadata": {
    "ExecuteTime": {
     "end_time": "2021-12-10T23:48:18.984617Z",
     "start_time": "2021-12-10T23:48:18.816063Z"
    },
    "hidden": true
   },
   "outputs": [
    {
     "data": {
      "text/plain": [
       "<AxesSubplot:xlabel='Response', ylabel='Annual_Premium'>"
      ]
     },
     "execution_count": 81,
     "metadata": {},
     "output_type": "execute_result"
    },
    {
     "data": {
      "image/png": "[encoded data removed]",
      "text/plain": [
       "<Figure size 432x288 with 1 Axes>"
      ]
     },
     "metadata": {
      "needs_background": "light"
     },
     "output_type": "display_data"
    }
   ],
   "source": [
    "sns.boxplot(x='Response', y='Annual_Premium', data=temp)"
   ]
  },
  {
   "cell_type": "markdown",
   "id": "a8119cac",
   "metadata": {
    "hidden": true
   },
   "source": [
    "Sem diferença significativa"
   ]
  },
  {
   "cell_type": "markdown",
   "id": "d17096d4",
   "metadata": {
    "hidden": true
   },
   "source": [
    "**Nicho Fixo**"
   ]
  },
  {
   "cell_type": "code",
   "execution_count": 82,
   "id": "9674c9ec",
   "metadata": {
    "ExecuteTime": {
     "end_time": "2021-12-10T23:48:19.045418Z",
     "start_time": "2021-12-10T23:48:18.996289Z"
    },
    "hidden": true
   },
   "outputs": [],
   "source": [
    "temp = df[df['Annual_Premium']==2630]"
   ]
  },
  {
   "cell_type": "code",
   "execution_count": 83,
   "id": "d3cdf41e",
   "metadata": {
    "ExecuteTime": {
     "end_time": "2021-12-10T23:48:19.138286Z",
     "start_time": "2021-12-10T23:48:19.047655Z"
    },
    "hidden": true,
    "scrolled": false
   },
   "outputs": [
    {
     "data": {
      "text/plain": [
       "<AxesSubplot:xlabel='Response', ylabel='count'>"
      ]
     },
     "execution_count": 83,
     "metadata": {},
     "output_type": "execute_result"
    },
    {
     "data": {
      "image/png": "[encoded data removed]",
      "text/plain": [
       "<Figure size 432x288 with 1 Axes>"
      ]
     },
     "metadata": {
      "needs_background": "light"
     },
     "output_type": "display_data"
    }
   ],
   "source": [
    "sns.countplot(x='Response', data=temp)"
   ]
  },
  {
   "cell_type": "markdown",
   "id": "0aea2a2f",
   "metadata": {
    "heading_collapsed": true,
    "hidden": true
   },
   "source": [
    "###### Teste de hipótese 4.3"
   ]
  },
  {
   "cell_type": "markdown",
   "id": "3202eafe",
   "metadata": {
    "hidden": true
   },
   "source": [
    "Feature **High_Annual_Premium** criada"
   ]
  },
  {
   "cell_type": "code",
   "execution_count": 84,
   "id": "8540c916",
   "metadata": {
    "ExecuteTime": {
     "end_time": "2021-12-10T23:48:20.848973Z",
     "start_time": "2021-12-10T23:48:19.140278Z"
    },
    "hidden": true,
    "scrolled": true
   },
   "outputs": [
    {
     "data": {
      "image/png": "[encoded data removed]",
      "text/plain": [
       "<Figure size 1440x144 with 1 Axes>"
      ]
     },
     "metadata": {
      "needs_background": "light"
     },
     "output_type": "display_data"
    }
   ],
   "source": [
    "temp = df[df['Annual_Premium']<100000]\n",
    "plt.figure(figsize=(20, 2))\n",
    "g = sns.kdeplot(temp.loc[(temp['Annual_Premium_Variated']==1)&(temp['Response']==0), 'Annual_Premium'], color='r', alpha=0.5)\n",
    "g = sns.kdeplot(temp.loc[(temp['Annual_Premium_Variated']==1)&(temp['Response']==1), 'Annual_Premium'], color='b', alpha=0.5)"
   ]
  },
  {
   "cell_type": "markdown",
   "id": "c3a9419b",
   "metadata": {
    "hidden": true
   },
   "source": [
    "Adicionando aleatoriedade"
   ]
  },
  {
   "cell_type": "code",
   "execution_count": 85,
   "id": "43377605",
   "metadata": {
    "ExecuteTime": {
     "end_time": "2021-12-10T23:48:21.765368Z",
     "start_time": "2021-12-10T23:48:20.852446Z"
    },
    "hidden": true,
    "scrolled": false
   },
   "outputs": [
    {
     "data": {
      "image/png": "[encoded data removed]",
      "text/plain": [
       "<Figure size 1440x432 with 9 Axes>"
      ]
     },
     "metadata": {
      "needs_background": "light"
     },
     "output_type": "display_data"
    }
   ],
   "source": [
    "temp = df[df['Annual_Premium']<100000]\n",
    "plt.figure(figsize=(20, 6))\n",
    "for i in range(1, 10):\n",
    "    plt.subplot(3, 3, i)\n",
    "    índices_aleatórios = np.random.choice(temp.index, 500, replace=False)\n",
    "    temp1 = temp.loc[índices_aleatórios]\n",
    "    g = sns.kdeplot(temp1.loc[(temp1['Annual_Premium_Variated']==1)&(temp1['Response']==0), 'Annual_Premium'], color='r', alpha=0.5)\n",
    "    g = sns.kdeplot(temp1.loc[(temp1['Annual_Premium_Variated']==1)&(temp1['Response']==1), 'Annual_Premium'], color='b', alpha=0.5)"
   ]
  },
  {
   "cell_type": "markdown",
   "id": "08bab7ec",
   "metadata": {
    "hidden": true
   },
   "source": [
    "Em um dado acima do terceiro quartil, parece haver maior interesse no produto, porém adicionando-se aleatoriedade, tal fato não demonstra ser estável, sendo comprovado em algumas amostras e em outras não."
   ]
  },
  {
   "cell_type": "code",
   "execution_count": 86,
   "id": "ee9f7dd0",
   "metadata": {
    "ExecuteTime": {
     "end_time": "2021-12-10T23:48:21.796885Z",
     "start_time": "2021-12-10T23:48:21.766918Z"
    },
    "hidden": true
   },
   "outputs": [
    {
     "name": "stdout",
     "output_type": "stream",
     "text": [
      "A média de Response entre os clientes que fazem parte dos High_Annual_Premium: 0.15\n",
      "A média de Response entre os clientes que NÃO fazem parte dos High_Annual_Premium: 0.12\n"
     ]
    }
   ],
   "source": [
    "print(f'A média de Response entre os clientes que fazem parte dos High_Annual_Premium: {round(df.loc[df[\"High_Annual_Premium\"]==1, \"Response\"].mean(), 2)}')\n",
    "print(f'A média de Response entre os clientes que NÃO fazem parte dos High_Annual_Premium: {round(df.loc[df[\"High_Annual_Premium\"]==0, \"Response\"].mean(), 2)}')"
   ]
  },
  {
   "cell_type": "markdown",
   "id": "95a1cffb",
   "metadata": {
    "hidden": true
   },
   "source": [
    "A diferença entre as médias de Response foi de por volta de 20% entre os grupos, portanto, rejeita a hipótese nula."
   ]
  },
  {
   "cell_type": "markdown",
   "id": "1188fea0",
   "metadata": {
    "heading_collapsed": true,
    "hidden": true
   },
   "source": [
    "#### Policy_Sales_Channel"
   ]
  },
  {
   "cell_type": "markdown",
   "id": "aa14d692",
   "metadata": {
    "heading_collapsed": true,
    "hidden": true
   },
   "source": [
    "###### Main insights:\n",
    "1. Há 157 Policy_Sales_Channel e aproximadamente um terço das amostras está contido no canal 152\n",
    "2. 5 categorias contém 84.19% do total de clientes\n",
    "3. Correlação moderada negativa com Age, correlação fraca negativa com Vehicle_Damage, correlação fraca positiva com Vehicle_Age e Previously_Insured\n",
    "4. Médias de response por canais de Policy_Sales_Channel bastante distintas\n",
    "5. Os canais mais utilizados apresentam médias de response bastante diferentes da média global, os canal 152 é o mais utilizado e apresenta 2% de interesse no produto, o canal 155 apresenta 2%, já os canais 26, 124 e 156 apresentam por volta de 20% de interesse no produto"
   ]
  },
  {
   "cell_type": "markdown",
   "id": "c9180f65",
   "metadata": {
    "heading_collapsed": true,
    "hidden": true
   },
   "source": [
    "###### General Analysis"
   ]
  },
  {
   "cell_type": "code",
   "execution_count": 87,
   "id": "222bf538",
   "metadata": {
    "ExecuteTime": {
     "end_time": "2021-12-10T23:48:22.221235Z",
     "start_time": "2021-12-10T23:48:21.800012Z"
    },
    "hidden": true,
    "scrolled": true
   },
   "outputs": [
    {
     "data": {
      "text/plain": [
       "Vehicle_Age_                          0.388868\n",
       "Previously_Insured                    0.221334\n",
       "Driving_License                       0.042862\n",
       "Vintage                              -0.000814\n",
       "id                                   -0.002812\n",
       "Annual_Premium_Variated              -0.015966\n",
       "Region_Code                          -0.042223\n",
       "Log_Annual_Premium                   -0.061878\n",
       "Gender_                              -0.111565\n",
       "Annual_Premium                       -0.114035\n",
       "Response                             -0.139042\n",
       "High_Annual_Premium                  -0.147901\n",
       "Vehicle_Damage_                      -0.225856\n",
       "Region_Code_Response_Mean            -0.287069\n",
       "Policy_Sales_Channel_Response_Mean   -0.527793\n",
       "High_Response_Age                    -0.552597\n",
       "Age                                  -0.577043\n",
       "Name: Policy_Sales_Channel, dtype: float64"
      ]
     },
     "execution_count": 87,
     "metadata": {},
     "output_type": "execute_result"
    }
   ],
   "source": [
    "df.corr()['Policy_Sales_Channel'].sort_values(ascending=False)[1:]"
   ]
  },
  {
   "cell_type": "markdown",
   "id": "235f86ff",
   "metadata": {
    "hidden": true
   },
   "source": [
    "Correlação moderada negativa com Age, correlação fraca negativa com Vehicle_Damage, correlação fraca positiva com Vehicle_Age e Previously_Insured"
   ]
  },
  {
   "cell_type": "code",
   "execution_count": 88,
   "id": "9c06ab42",
   "metadata": {
    "ExecuteTime": {
     "end_time": "2021-12-10T23:48:22.252113Z",
     "start_time": "2021-12-10T23:48:22.223162Z"
    },
    "hidden": true,
    "scrolled": true
   },
   "outputs": [
    {
     "data": {
      "text/plain": [
       "152.0    0.353290\n",
       "26.0     0.209770\n",
       "124.0    0.193446\n",
       "160.0    0.057247\n",
       "156.0    0.028167\n",
       "Name: Policy_Sales_Channel, dtype: float64"
      ]
     },
     "execution_count": 88,
     "metadata": {},
     "output_type": "execute_result"
    }
   ],
   "source": [
    "df['Policy_Sales_Channel'].value_counts(normalize=True).head(5)"
   ]
  },
  {
   "cell_type": "code",
   "execution_count": 89,
   "id": "ffdb9554",
   "metadata": {
    "ExecuteTime": {
     "end_time": "2021-12-10T23:48:22.282774Z",
     "start_time": "2021-12-10T23:48:22.254112Z"
    },
    "hidden": true
   },
   "outputs": [],
   "source": [
    "canais_mais_utilizados = df['Policy_Sales_Channel'].value_counts(normalize=True).head(5).index"
   ]
  },
  {
   "cell_type": "code",
   "execution_count": 90,
   "id": "6f42427f",
   "metadata": {
    "ExecuteTime": {
     "end_time": "2021-12-10T23:48:22.314701Z",
     "start_time": "2021-12-10T23:48:22.285842Z"
    },
    "hidden": true
   },
   "outputs": [
    {
     "name": "stdout",
     "output_type": "stream",
     "text": [
      "5 categorias contém 84.19% do total de clientes\n"
     ]
    }
   ],
   "source": [
    "print(f'5 categorias contém {round(df[\"Policy_Sales_Channel\"].value_counts(normalize=True).head(5).sum()*100, 2)}% do total de clientes')"
   ]
  },
  {
   "cell_type": "code",
   "execution_count": 91,
   "id": "e2182d40",
   "metadata": {
    "ExecuteTime": {
     "end_time": "2021-12-10T23:48:29.785893Z",
     "start_time": "2021-12-10T23:48:22.316644Z"
    },
    "hidden": true,
    "scrolled": true
   },
   "outputs": [
    {
     "data": {
      "text/plain": [
       "<seaborn.axisgrid.FacetGrid at 0x23afa2583a0>"
      ]
     },
     "execution_count": 91,
     "metadata": {},
     "output_type": "execute_result"
    },
    {
     "data": {
      "image/png": "[encoded data removed]",
      "text/plain": [
       "<Figure size 1080x360 with 1 Axes>"
      ]
     },
     "metadata": {
      "needs_background": "light"
     },
     "output_type": "display_data"
    }
   ],
   "source": [
    "sns.catplot(x='Policy_Sales_Channel', y='Response', data=df, kind='bar', aspect=3)"
   ]
  },
  {
   "cell_type": "markdown",
   "id": "f7a21094",
   "metadata": {
    "hidden": true
   },
   "source": [
    "Médias de response por canais de Policy_Sales_Channel bastante distintas"
   ]
  },
  {
   "cell_type": "code",
   "execution_count": 92,
   "id": "3d1ef8ed",
   "metadata": {
    "ExecuteTime": {
     "end_time": "2021-12-10T23:48:29.848251Z",
     "start_time": "2021-12-10T23:48:29.788316Z"
    },
    "hidden": true
   },
   "outputs": [
    {
     "data": {
      "text/html": [
       "<div>\n",
       "<style scoped>\n",
       "    .dataframe tbody tr th:only-of-type {\n",
       "        vertical-align: middle;\n",
       "    }\n",
       "\n",
       "    .dataframe tbody tr th {\n",
       "        vertical-align: top;\n",
       "    }\n",
       "\n",
       "    .dataframe thead th {\n",
       "        text-align: right;\n",
       "    }\n",
       "</style>\n",
       "<table border=\"1\" class=\"dataframe\">\n",
       "  <thead>\n",
       "    <tr style=\"text-align: right;\">\n",
       "      <th></th>\n",
       "      <th>Policy_Sales_Channel</th>\n",
       "      <th>Response_Count</th>\n",
       "      <th>Response_Mean</th>\n",
       "    </tr>\n",
       "  </thead>\n",
       "  <tbody>\n",
       "    <tr>\n",
       "      <th>147</th>\n",
       "      <td>152.0</td>\n",
       "      <td>134784</td>\n",
       "      <td>0.028624</td>\n",
       "    </tr>\n",
       "    <tr>\n",
       "      <th>24</th>\n",
       "      <td>26.0</td>\n",
       "      <td>79700</td>\n",
       "      <td>0.199385</td>\n",
       "    </tr>\n",
       "    <tr>\n",
       "      <th>119</th>\n",
       "      <td>124.0</td>\n",
       "      <td>73995</td>\n",
       "      <td>0.189148</td>\n",
       "    </tr>\n",
       "    <tr>\n",
       "      <th>155</th>\n",
       "      <td>160.0</td>\n",
       "      <td>21779</td>\n",
       "      <td>0.021810</td>\n",
       "    </tr>\n",
       "    <tr>\n",
       "      <th>151</th>\n",
       "      <td>156.0</td>\n",
       "      <td>10661</td>\n",
       "      <td>0.215458</td>\n",
       "    </tr>\n",
       "  </tbody>\n",
       "</table>\n",
       "</div>"
      ],
      "text/plain": [
       "     Policy_Sales_Channel  Response_Count  Response_Mean\n",
       "147                 152.0          134784       0.028624\n",
       "24                   26.0           79700       0.199385\n",
       "119                 124.0           73995       0.189148\n",
       "155                 160.0           21779       0.021810\n",
       "151                 156.0           10661       0.215458"
      ]
     },
     "execution_count": 92,
     "metadata": {},
     "output_type": "execute_result"
    }
   ],
   "source": [
    "temp = df.groupby('Policy_Sales_Channel', as_index=False).agg({'Response':'count'})\n",
    "temp.rename(columns={'Response':'Response_Count'}, inplace=True)\n",
    "\n",
    "temp2 = df.groupby('Policy_Sales_Channel', as_index=False).agg({'Response':'mean'})\n",
    "temp2.rename(columns={'Response':'Response_Mean'}, inplace=True)\n",
    "\n",
    "temp3 = temp.merge(temp2, how='left', on='Policy_Sales_Channel')\n",
    "temp3.sort_values('Response_Count', ascending=False).head(5)"
   ]
  },
  {
   "cell_type": "markdown",
   "id": "9c507718",
   "metadata": {
    "hidden": true
   },
   "source": [
    "Os canais mais utilizados apresentam médias de response bastante diferentes da média global, os canal 152 é o mais utilizado e apresenta 2% de interesse no produto, o canal 155 apresenta 2%, já os canais 26, 124 e 156 apresentam por volta de 20% de interesse no produto"
   ]
  },
  {
   "cell_type": "code",
   "execution_count": 93,
   "id": "9fa06bc9",
   "metadata": {
    "ExecuteTime": {
     "end_time": "2021-12-10T23:48:29.864507Z",
     "start_time": "2021-12-10T23:48:29.850402Z"
    },
    "hidden": true
   },
   "outputs": [],
   "source": [
    "del(temp, temp2, temp3)"
   ]
  },
  {
   "cell_type": "markdown",
   "id": "6ff1be54",
   "metadata": {
    "heading_collapsed": true,
    "hidden": true
   },
   "source": [
    "#### Vintage"
   ]
  },
  {
   "cell_type": "markdown",
   "id": "c209cdb5",
   "metadata": {
    "heading_collapsed": true,
    "hidden": true
   },
   "source": [
    "###### Main insights:\n",
    "1. Feature categórica, há 290 categorias em Vintage"
   ]
  },
  {
   "cell_type": "markdown",
   "id": "014f2167",
   "metadata": {
    "heading_collapsed": true,
    "hidden": true
   },
   "source": [
    "###### General Analysis"
   ]
  },
  {
   "cell_type": "code",
   "execution_count": 94,
   "id": "9ce20614",
   "metadata": {
    "ExecuteTime": {
     "end_time": "2021-12-10T23:48:30.288680Z",
     "start_time": "2021-12-10T23:48:29.865914Z"
    },
    "hidden": true
   },
   "outputs": [
    {
     "data": {
      "text/plain": [
       "Vehicle_Age_                          0.001941\n",
       "Previously_Insured                    0.001664\n",
       "Region_Code_Response_Mean             0.000319\n",
       "Age                                  -0.000010\n",
       "High_Annual_Premium                  -0.000177\n",
       "id                                   -0.000391\n",
       "Policy_Sales_Channel                 -0.000814\n",
       "Driving_License                      -0.000850\n",
       "Annual_Premium                       -0.000855\n",
       "Response                             -0.001050\n",
       "Vehicle_Damage_                      -0.001078\n",
       "High_Response_Age                    -0.001295\n",
       "Policy_Sales_Channel_Response_Mean   -0.001333\n",
       "Region_Code                          -0.001568\n",
       "Log_Annual_Premium                   -0.001926\n",
       "Gender_                              -0.002098\n",
       "Annual_Premium_Variated              -0.002495\n",
       "Name: Vintage, dtype: float64"
      ]
     },
     "execution_count": 94,
     "metadata": {},
     "output_type": "execute_result"
    }
   ],
   "source": [
    "df.corr()['Vintage'].sort_values(ascending=False)[1:]"
   ]
  },
  {
   "cell_type": "markdown",
   "id": "5673fb9a",
   "metadata": {
    "hidden": true
   },
   "source": [
    "Correlações muito fracas"
   ]
  },
  {
   "cell_type": "code",
   "execution_count": 95,
   "id": "737bd8b2",
   "metadata": {
    "ExecuteTime": {
     "end_time": "2021-12-10T23:48:40.262421Z",
     "start_time": "2021-12-10T23:48:30.291377Z"
    },
    "hidden": true,
    "scrolled": true
   },
   "outputs": [
    {
     "data": {
      "text/plain": [
       "<seaborn.axisgrid.FacetGrid at 0x23a8999b850>"
      ]
     },
     "execution_count": 95,
     "metadata": {},
     "output_type": "execute_result"
    },
    {
     "data": {
      "image/png": "[encoded data removed]",
      "text/plain": [
       "<Figure size 1080x360 with 1 Axes>"
      ]
     },
     "metadata": {
      "needs_background": "light"
     },
     "output_type": "display_data"
    }
   ],
   "source": [
    "sns.catplot(x='Vintage', y='Response', data=df, kind='bar', aspect=3)"
   ]
  },
  {
   "cell_type": "markdown",
   "id": "b3e41a21",
   "metadata": {
    "hidden": true
   },
   "source": [
    "Muito ruidoso, os desvios padrões colocam tudo no mesmo nível."
   ]
  },
  {
   "cell_type": "markdown",
   "id": "f16291d5",
   "metadata": {
    "heading_collapsed": true,
    "hidden": true
   },
   "source": [
    "## 5.4 Removing expendable features"
   ]
  },
  {
   "cell_type": "code",
   "execution_count": 96,
   "id": "427feabe",
   "metadata": {
    "ExecuteTime": {
     "end_time": "2021-12-10T23:48:40.324380Z",
     "start_time": "2021-12-10T23:48:40.264069Z"
    },
    "hidden": true
   },
   "outputs": [],
   "source": [
    "df.drop(['High_Annual_Premium', 'Annual_Premium_Variated'], axis=1, inplace=True)"
   ]
  },
  {
   "cell_type": "markdown",
   "id": "eb8da3ad",
   "metadata": {
    "hidden": true
   },
   "source": [
    "Features **High_Annual_Premium e Annual_Premium_Variated** foram testadas pelo ml_modeling, não contribuíram com o mocelo, portanto serão removidas."
   ]
  },
  {
   "cell_type": "markdown",
   "id": "bd52d54a",
   "metadata": {
    "heading_collapsed": true,
    "hidden": true
   },
   "source": [
    "## 5.5 Principais Features e Importâncias"
   ]
  },
  {
   "cell_type": "markdown",
   "id": "c4a43756",
   "metadata": {
    "heading_collapsed": true,
    "hidden": true
   },
   "source": [
    "### 5.5.1 Tree Plot"
   ]
  },
  {
   "cell_type": "markdown",
   "id": "5b424e32",
   "metadata": {
    "hidden": true
   },
   "source": [
    "Este campo pode ser rodado apenas após o processamento do notebook \"data_preparation\""
   ]
  },
  {
   "cell_type": "code",
   "execution_count": 97,
   "id": "17400f34",
   "metadata": {
    "ExecuteTime": {
     "end_time": "2021-12-10T23:48:40.340420Z",
     "start_time": "2021-12-10T23:48:40.326795Z"
    },
    "hidden": true,
    "scrolled": false
   },
   "outputs": [],
   "source": [
    "# # importing prepared data\n",
    "# X_to_modeling = pickle.load(open('D:\\\\My Drive\\\\Pessoal\\\\Projetos\\\\insurance_sales_predict\\\\insurance_sales_predict\\\\exportings\\\\X_to_modeling.pkl', 'rb'))\n",
    "# y_to_modeling = pickle.load(open('D:\\\\My Drive\\\\Pessoal\\\\Projetos\\\\insurance_sales_predict\\\\insurance_sales_predict\\\\exportings\\\\y_to_modeling.pkl', 'rb'))\n",
    "# model_columns = pickle.load(open('D:\\\\My Drive\\\\Pessoal\\\\Projetos\\\\insurance_sales_predict\\\\insurance_sales_predict\\\\exportings\\\\model_columns.pkl', 'rb'))\n",
    "# scaler = pickle.load(open('D:\\\\My Drive\\\\Pessoal\\\\Projetos\\\\insurance_sales_predict\\\\deploy\\\\transformers\\\\scaler_standard_scaler.pkl', 'rb'))\n",
    "\n",
    "# # catching interesting arrays\n",
    "# X_smote = X_to_modeling[0]\n",
    "# y_smote = y_to_modeling[0]\n",
    "\n",
    "# # inversing scaler transformation \n",
    "# X_smote = np.insert(X_smote, 1, np.zeros(534856), axis=1)\n",
    "# X_smote = scaler.inverse_transform(X_smote)\n",
    "# np.delete(X_smote, 1, 1) # feature selection\n",
    "\n",
    "# # model definition\n",
    "# tree_model = DecisionTreeClassifier(max_depth=3, random_state=101)\n",
    "# tree_model.fit(X_smote, y_smote)\n",
    "\n",
    "# # ploting tree\n",
    "# pl.figure(figsize=(20, 10))\n",
    "# plot_tree(tree_model, fontsize=12, feature_names=model_columns);"
   ]
  },
  {
   "cell_type": "markdown",
   "id": "9ec35588",
   "metadata": {
    "heading_collapsed": true,
    "hidden": true
   },
   "source": [
    "### 5.5.2 Importances"
   ]
  },
  {
   "cell_type": "code",
   "execution_count": 98,
   "id": "f6e49701",
   "metadata": {
    "ExecuteTime": {
     "end_time": "2021-12-10T23:48:40.371973Z",
     "start_time": "2021-12-10T23:48:40.342419Z"
    },
    "hidden": true
   },
   "outputs": [
    {
     "data": {
      "text/html": [
       "<div>\n",
       "<style scoped>\n",
       "    .dataframe tbody tr th:only-of-type {\n",
       "        vertical-align: middle;\n",
       "    }\n",
       "\n",
       "    .dataframe tbody tr th {\n",
       "        vertical-align: top;\n",
       "    }\n",
       "\n",
       "    .dataframe thead th {\n",
       "        text-align: right;\n",
       "    }\n",
       "</style>\n",
       "<table border=\"1\" class=\"dataframe\">\n",
       "  <thead>\n",
       "    <tr style=\"text-align: right;\">\n",
       "      <th></th>\n",
       "      <th>correlations</th>\n",
       "      <th>rfe_xgb</th>\n",
       "      <th>importance_rf</th>\n",
       "      <th>importance_xgb</th>\n",
       "      <th>boruta</th>\n",
       "    </tr>\n",
       "  </thead>\n",
       "  <tbody>\n",
       "    <tr>\n",
       "      <th>Age</th>\n",
       "      <td>0.111147</td>\n",
       "      <td>1</td>\n",
       "      <td>0.088297</td>\n",
       "      <td>0.007843</td>\n",
       "      <td>1</td>\n",
       "    </tr>\n",
       "    <tr>\n",
       "      <th>Driving_License</th>\n",
       "      <td>0.010155</td>\n",
       "      <td>7</td>\n",
       "      <td>0.000000</td>\n",
       "      <td>0.000000</td>\n",
       "      <td>2</td>\n",
       "    </tr>\n",
       "    <tr>\n",
       "      <th>Previously_Insured</th>\n",
       "      <td>0.341170</td>\n",
       "      <td>6</td>\n",
       "      <td>0.373552</td>\n",
       "      <td>0.164778</td>\n",
       "      <td>1</td>\n",
       "    </tr>\n",
       "    <tr>\n",
       "      <th>Gender_</th>\n",
       "      <td>0.052440</td>\n",
       "      <td>5</td>\n",
       "      <td>0.001683</td>\n",
       "      <td>0.000740</td>\n",
       "      <td>1</td>\n",
       "    </tr>\n",
       "    <tr>\n",
       "      <th>Vehicle_Damage_</th>\n",
       "      <td>0.354400</td>\n",
       "      <td>3</td>\n",
       "      <td>0.342663</td>\n",
       "      <td>0.777390</td>\n",
       "      <td>1</td>\n",
       "    </tr>\n",
       "    <tr>\n",
       "      <th>Policy_Sales_Channel_Response_Mean</th>\n",
       "      <td>0.263429</td>\n",
       "      <td>1</td>\n",
       "      <td>0.112234</td>\n",
       "      <td>0.022435</td>\n",
       "      <td>1</td>\n",
       "    </tr>\n",
       "    <tr>\n",
       "      <th>Region_Code_Response_Mean</th>\n",
       "      <td>0.138095</td>\n",
       "      <td>1</td>\n",
       "      <td>0.015523</td>\n",
       "      <td>0.001758</td>\n",
       "      <td>1</td>\n",
       "    </tr>\n",
       "    <tr>\n",
       "      <th>High_Response_Age</th>\n",
       "      <td>0.205981</td>\n",
       "      <td>4</td>\n",
       "      <td>0.019928</td>\n",
       "      <td>0.022653</td>\n",
       "      <td>1</td>\n",
       "    </tr>\n",
       "    <tr>\n",
       "      <th>Log_Annual_Premium</th>\n",
       "      <td>0.002707</td>\n",
       "      <td>2</td>\n",
       "      <td>0.002636</td>\n",
       "      <td>0.000180</td>\n",
       "      <td>1</td>\n",
       "    </tr>\n",
       "    <tr>\n",
       "      <th>Vehicle_Age_1</th>\n",
       "      <td>0.209878</td>\n",
       "      <td>1</td>\n",
       "      <td>0.041065</td>\n",
       "      <td>0.000076</td>\n",
       "      <td>1</td>\n",
       "    </tr>\n",
       "    <tr>\n",
       "      <th>Vehicle_Age_2</th>\n",
       "      <td>0.109300</td>\n",
       "      <td>1</td>\n",
       "      <td>0.002420</td>\n",
       "      <td>0.002147</td>\n",
       "      <td>1</td>\n",
       "    </tr>\n",
       "  </tbody>\n",
       "</table>\n",
       "</div>"
      ],
      "text/plain": [
       "                                    correlations  rfe_xgb  importance_rf  \\\n",
       "Age                                     0.111147        1       0.088297   \n",
       "Driving_License                         0.010155        7       0.000000   \n",
       "Previously_Insured                      0.341170        6       0.373552   \n",
       "Gender_                                 0.052440        5       0.001683   \n",
       "Vehicle_Damage_                         0.354400        3       0.342663   \n",
       "Policy_Sales_Channel_Response_Mean      0.263429        1       0.112234   \n",
       "Region_Code_Response_Mean               0.138095        1       0.015523   \n",
       "High_Response_Age                       0.205981        4       0.019928   \n",
       "Log_Annual_Premium                      0.002707        2       0.002636   \n",
       "Vehicle_Age_1                           0.209878        1       0.041065   \n",
       "Vehicle_Age_2                           0.109300        1       0.002420   \n",
       "\n",
       "                                    importance_xgb  boruta  \n",
       "Age                                       0.007843       1  \n",
       "Driving_License                           0.000000       2  \n",
       "Previously_Insured                        0.164778       1  \n",
       "Gender_                                   0.000740       1  \n",
       "Vehicle_Damage_                           0.777390       1  \n",
       "Policy_Sales_Channel_Response_Mean        0.022435       1  \n",
       "Region_Code_Response_Mean                 0.001758       1  \n",
       "High_Response_Age                         0.022653       1  \n",
       "Log_Annual_Premium                        0.000180       1  \n",
       "Vehicle_Age_1                             0.000076       1  \n",
       "Vehicle_Age_2                             0.002147       1  "
      ]
     },
     "execution_count": 98,
     "metadata": {},
     "output_type": "execute_result"
    }
   ],
   "source": [
    "ranking = pickle.load(open('D:\\\\My Drive\\\\Pessoal\\\\Projetos\\\\insurance_sales_predict\\\\insurance_sales_predict\\\\exportings\\\\ranking_feature_selection.pkl', 'rb'))\n",
    "\n",
    "ranking"
   ]
  },
  {
   "cell_type": "markdown",
   "id": "9760ffb5",
   "metadata": {
    "hidden": true
   },
   "source": [
    "Sobre a tabela Ranking:\n",
    "1. As colunas \"correlations\", \"importance_rf\" e \"importance_xgb\" são quantitativas\n",
    "2. A coluna \"rfe_xgb\" é tipo tipo ranking, quanto menor o número melhor a colocação\n",
    "3. A coluna \"boruta\" é binária, 1 significa uma feature relevante e 2 uma feature a ser dispensada"
   ]
  },
  {
   "cell_type": "markdown",
   "id": "f8af98fa",
   "metadata": {
    "heading_collapsed": true
   },
   "source": [
    "# 7.0 Exportings"
   ]
  },
  {
   "cell_type": "markdown",
   "id": "f2c6f219",
   "metadata": {
    "heading_collapsed": true,
    "hidden": true
   },
   "source": [
    "###### 6.1 Dataframe"
   ]
  },
  {
   "cell_type": "code",
   "execution_count": 99,
   "id": "02359b0a",
   "metadata": {
    "ExecuteTime": {
     "end_time": "2021-12-10T23:48:40.513504Z",
     "start_time": "2021-12-10T23:48:40.373885Z"
    },
    "hidden": true
   },
   "outputs": [
    {
     "name": "stdout",
     "output_type": "stream",
     "text": [
      "Criado df processado para seguir para preparação de dados e ML\n"
     ]
    }
   ],
   "source": [
    "pickle.dump(df, open('D:\\\\My Drive\\\\Pessoal\\\\Projetos\\\\insurance_sales_predict\\\\insurance_sales_predict\\\\exportings\\\\df_to_data_preparation.pkl', 'wb'))\n",
    "print('Criado df processado para seguir para preparação de dados e ML')"
   ]
  },
  {
   "cell_type": "markdown",
   "id": "b7678f2e",
   "metadata": {
    "heading_collapsed": true,
    "hidden": true
   },
   "source": [
    "###### 6.2 Encodings"
   ]
  },
  {
   "cell_type": "code",
   "execution_count": 100,
   "id": "fdf68f57",
   "metadata": {
    "ExecuteTime": {
     "end_time": "2021-12-10T23:48:40.529347Z",
     "start_time": "2021-12-10T23:48:40.515350Z"
    },
    "hidden": true
   },
   "outputs": [],
   "source": [
    "pickle.dump(le_gender, open('D:\\\\My Drive\\\\Pessoal\\\\Projetos\\\\insurance_sales_predict\\\\deploy\\\\parameter\\\\le_gender.pkl', 'wb'))\n",
    "pickle.dump(le_vehicle_damage, open('D:\\\\My Drive\\\\Pessoal\\\\Projetos\\\\insurance_sales_predict\\\\deploy\\\\parameter\\\\le_vehicle_damage.pkl', 'wb'))\n",
    "pickle.dump(le_vehicle_age, open('D:\\\\My Drive\\\\Pessoal\\\\Projetos\\\\insurance_sales_predict\\\\deploy\\\\parameter\\\\le_vehicle_age.pkl', 'wb'))"
   ]
  },
  {
   "cell_type": "markdown",
   "id": "fc09bdb1",
   "metadata": {
    "heading_collapsed": true,
    "hidden": true
   },
   "source": [
    "###### 6.3 Features"
   ]
  },
  {
   "cell_type": "code",
   "execution_count": 101,
   "id": "3a4f764f",
   "metadata": {
    "ExecuteTime": {
     "end_time": "2021-12-10T23:48:40.544832Z",
     "start_time": "2021-12-10T23:48:40.530278Z"
    },
    "hidden": true
   },
   "outputs": [],
   "source": [
    "# pickle policy_sales_channel map\n",
    "pickle.dump(map_policy_sales_channel_response_mean, open('D:\\\\My Drive\\\\Pessoal\\\\Projetos\\\\insurance_sales_predict\\\\deploy\\\\parameter\\\\map_policy_sales_channel_response_mean.pkl', 'wb'))\n",
    "\n",
    "# pickle region_code map\n",
    "pickle.dump(map_region_code_response_mean, open('D:\\\\My Drive\\\\Pessoal\\\\Projetos\\\\insurance_sales_predict\\\\deploy\\\\parameter\\\\map_region_code_response_mean.pkl', 'wb'))"
   ]
  },
  {
   "cell_type": "markdown",
   "id": "fb9a5ad7",
   "metadata": {},
   "source": [
    "# Time"
   ]
  },
  {
   "cell_type": "code",
   "execution_count": 102,
   "id": "300c6a83",
   "metadata": {
    "ExecuteTime": {
     "end_time": "2021-12-10T23:48:40.560536Z",
     "start_time": "2021-12-10T23:48:40.546026Z"
    },
    "scrolled": true
   },
   "outputs": [
    {
     "name": "stdout",
     "output_type": "stream",
     "text": [
      "O tempo de processamento do projeto foi de: 2 minutos\n"
     ]
    }
   ],
   "source": [
    "print(f'O tempo de processamento do projeto foi de: {int(round(time.time()-time_agora, 2)/60)} minutos')"
   ]
  }
 ],
 "metadata": {
  "kernelspec": {
   "display_name": "Python 3 (ipykernel)",
   "language": "python",
   "name": "python3"
  },
  "language_info": {
   "codemirror_mode": {
    "name": "ipython",
    "version": 3
   },
   "file_extension": ".py",
   "mimetype": "text/x-python",
   "name": "python",
   "nbconvert_exporter": "python",
   "pygments_lexer": "ipython3",
   "version": "3.9.7"
  }
 },
 "nbformat": 4,
 "nbformat_minor": 5
}
