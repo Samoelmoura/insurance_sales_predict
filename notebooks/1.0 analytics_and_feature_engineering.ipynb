{
 "cells": [
  {
   "cell_type": "markdown",
   "id": "bab69ead",
   "metadata": {},
   "source": [
    "# 0.0 Imports"
   ]
  },
  {
   "cell_type": "code",
   "execution_count": 5,
   "id": "17351970",
   "metadata": {
    "ExecuteTime": {
     "end_time": "2022-05-02T22:09:13.889680Z",
     "start_time": "2022-05-02T22:09:10.981730Z"
    },
    "scrolled": true
   },
   "outputs": [],
   "source": [
    "import pandas as pd\n",
    "import numpy as np\n",
    "import matplotlib.pyplot as plt\n",
    "import seaborn as sns\n",
    "import pylab as pl\n",
    "\n",
    "from sklearn.preprocessing import StandardScaler, LabelEncoder\n",
    "from sklearn.decomposition import PCA\n",
    "from sklearn.tree import DecisionTreeClassifier, plot_tree\n",
    "\n",
    "from IPython.display import Image\n",
    "\n",
    "import pickle\n",
    "\n",
    "import time\n",
    "import warnings\n",
    "\n",
    "# Tempo de processamento\n",
    "time_agora = time.time()"
   ]
  },
  {
   "cell_type": "markdown",
   "id": "e61922aa",
   "metadata": {
    "heading_collapsed": true
   },
   "source": [
    "###### 0.1 Helper Functions"
   ]
  },
  {
   "cell_type": "code",
   "execution_count": 2,
   "id": "bda67886",
   "metadata": {
    "ExecuteTime": {
     "end_time": "2022-05-02T18:55:45.495773Z",
     "start_time": "2022-05-02T18:55:45.481821Z"
    },
    "hidden": true
   },
   "outputs": [],
   "source": [
    "# Função buscar outlier pelo método do 6 Sigma\n",
    "def buscar_outlier(df, series):\n",
    "    média = df[series].mean()\n",
    "    desvio_padrão = df[series].std()\n",
    "    lis = média - (desvio_padrão * 3)\n",
    "    lss = média + (desvio_padrão * 3)\n",
    "    lista_outliers = df[(df[series] < lis) | (df[series] > lss)].index\n",
    "    return lista_outliers, lis, lss"
   ]
  },
  {
   "cell_type": "markdown",
   "id": "ce2d526c",
   "metadata": {
    "heading_collapsed": true
   },
   "source": [
    "###### 0.3 Loading Dataset"
   ]
  },
  {
   "cell_type": "code",
   "execution_count": 3,
   "id": "6109b44a",
   "metadata": {
    "ExecuteTime": {
     "end_time": "2022-05-02T18:55:45.892448Z",
     "start_time": "2022-05-02T18:55:45.497768Z"
    },
    "hidden": true,
    "id": "A_vrsVlknJ2z"
   },
   "outputs": [
    {
     "data": {
      "text/html": [
       "<div>\n",
       "<style scoped>\n",
       "    .dataframe tbody tr th:only-of-type {\n",
       "        vertical-align: middle;\n",
       "    }\n",
       "\n",
       "    .dataframe tbody tr th {\n",
       "        vertical-align: top;\n",
       "    }\n",
       "\n",
       "    .dataframe thead th {\n",
       "        text-align: right;\n",
       "    }\n",
       "</style>\n",
       "<table border=\"1\" class=\"dataframe\">\n",
       "  <thead>\n",
       "    <tr style=\"text-align: right;\">\n",
       "      <th></th>\n",
       "      <th>id</th>\n",
       "      <th>Gender</th>\n",
       "      <th>Age</th>\n",
       "      <th>Driving_License</th>\n",
       "      <th>Region_Code</th>\n",
       "      <th>Previously_Insured</th>\n",
       "      <th>Vehicle_Age</th>\n",
       "      <th>Vehicle_Damage</th>\n",
       "      <th>Annual_Premium</th>\n",
       "      <th>Policy_Sales_Channel</th>\n",
       "      <th>Vintage</th>\n",
       "      <th>Response</th>\n",
       "    </tr>\n",
       "  </thead>\n",
       "  <tbody>\n",
       "    <tr>\n",
       "      <th>0</th>\n",
       "      <td>1</td>\n",
       "      <td>Male</td>\n",
       "      <td>44</td>\n",
       "      <td>1</td>\n",
       "      <td>28.0</td>\n",
       "      <td>0</td>\n",
       "      <td>&gt; 2 Years</td>\n",
       "      <td>Yes</td>\n",
       "      <td>40454.0</td>\n",
       "      <td>26.0</td>\n",
       "      <td>217</td>\n",
       "      <td>1</td>\n",
       "    </tr>\n",
       "    <tr>\n",
       "      <th>1</th>\n",
       "      <td>2</td>\n",
       "      <td>Male</td>\n",
       "      <td>76</td>\n",
       "      <td>1</td>\n",
       "      <td>3.0</td>\n",
       "      <td>0</td>\n",
       "      <td>1-2 Year</td>\n",
       "      <td>No</td>\n",
       "      <td>33536.0</td>\n",
       "      <td>26.0</td>\n",
       "      <td>183</td>\n",
       "      <td>0</td>\n",
       "    </tr>\n",
       "    <tr>\n",
       "      <th>2</th>\n",
       "      <td>3</td>\n",
       "      <td>Male</td>\n",
       "      <td>47</td>\n",
       "      <td>1</td>\n",
       "      <td>28.0</td>\n",
       "      <td>0</td>\n",
       "      <td>&gt; 2 Years</td>\n",
       "      <td>Yes</td>\n",
       "      <td>38294.0</td>\n",
       "      <td>26.0</td>\n",
       "      <td>27</td>\n",
       "      <td>1</td>\n",
       "    </tr>\n",
       "    <tr>\n",
       "      <th>3</th>\n",
       "      <td>4</td>\n",
       "      <td>Male</td>\n",
       "      <td>21</td>\n",
       "      <td>1</td>\n",
       "      <td>11.0</td>\n",
       "      <td>1</td>\n",
       "      <td>&lt; 1 Year</td>\n",
       "      <td>No</td>\n",
       "      <td>28619.0</td>\n",
       "      <td>152.0</td>\n",
       "      <td>203</td>\n",
       "      <td>0</td>\n",
       "    </tr>\n",
       "    <tr>\n",
       "      <th>4</th>\n",
       "      <td>5</td>\n",
       "      <td>Female</td>\n",
       "      <td>29</td>\n",
       "      <td>1</td>\n",
       "      <td>41.0</td>\n",
       "      <td>1</td>\n",
       "      <td>&lt; 1 Year</td>\n",
       "      <td>No</td>\n",
       "      <td>27496.0</td>\n",
       "      <td>152.0</td>\n",
       "      <td>39</td>\n",
       "      <td>0</td>\n",
       "    </tr>\n",
       "  </tbody>\n",
       "</table>\n",
       "</div>"
      ],
      "text/plain": [
       "   id  Gender  Age  Driving_License  Region_Code  Previously_Insured  \\\n",
       "0   1    Male   44                1         28.0                   0   \n",
       "1   2    Male   76                1          3.0                   0   \n",
       "2   3    Male   47                1         28.0                   0   \n",
       "3   4    Male   21                1         11.0                   1   \n",
       "4   5  Female   29                1         41.0                   1   \n",
       "\n",
       "  Vehicle_Age Vehicle_Damage  Annual_Premium  Policy_Sales_Channel  Vintage  \\\n",
       "0   > 2 Years            Yes         40454.0                  26.0      217   \n",
       "1    1-2 Year             No         33536.0                  26.0      183   \n",
       "2   > 2 Years            Yes         38294.0                  26.0       27   \n",
       "3    < 1 Year             No         28619.0                 152.0      203   \n",
       "4    < 1 Year             No         27496.0                 152.0       39   \n",
       "\n",
       "   Response  \n",
       "0         1  \n",
       "1         0  \n",
       "2         1  \n",
       "3         0  \n",
       "4         0  "
      ]
     },
     "execution_count": 3,
     "metadata": {},
     "output_type": "execute_result"
    }
   ],
   "source": [
    "df = pd.read_csv(r'D:\\\\My Drive\\\\Pessoal\\\\Projetos\\\\insurance_sales_predict\\\\insurance_sales_predict\\\\data\\\\raw\\\\train.csv')\n",
    "\n",
    "test = df.sample(frac=0.1)\n",
    "test_indices = test.index\n",
    "df = df.drop(test_indices)\n",
    "df.head()"
   ]
  },
  {
   "cell_type": "markdown",
   "id": "2eecf223",
   "metadata": {
    "heading_collapsed": true,
    "id": "Mok1q9y5cpP-"
   },
   "source": [
    "# 1.0 Data Description"
   ]
  },
  {
   "cell_type": "markdown",
   "id": "8513ff12",
   "metadata": {
    "heading_collapsed": true,
    "hidden": true
   },
   "source": [
    "### 1.1 Data Dimensions"
   ]
  },
  {
   "cell_type": "code",
   "execution_count": 4,
   "id": "393a5d23",
   "metadata": {
    "ExecuteTime": {
     "end_time": "2022-05-02T18:55:45.908394Z",
     "start_time": "2022-05-02T18:55:45.895439Z"
    },
    "colab": {
     "base_uri": "https://localhost:8080/"
    },
    "hidden": true,
    "id": "Zwy0E8ZIpLPl",
    "outputId": "92dac05e-4d44-4748-b5bd-068d3508e129"
   },
   "outputs": [
    {
     "name": "stdout",
     "output_type": "stream",
     "text": [
      "Number of rows: 342998\n",
      "Number of columns: 12\n"
     ]
    }
   ],
   "source": [
    "print(f'Number of rows: {df.shape[0]}')\n",
    "print(f'Number of columns: {df.shape[1]}')"
   ]
  },
  {
   "cell_type": "markdown",
   "id": "949283e5",
   "metadata": {
    "heading_collapsed": true,
    "hidden": true
   },
   "source": [
    "### 1.2 Data Types"
   ]
  },
  {
   "cell_type": "code",
   "execution_count": 5,
   "id": "4dcd82f7",
   "metadata": {
    "ExecuteTime": {
     "end_time": "2022-05-02T18:55:45.924342Z",
     "start_time": "2022-05-02T18:55:45.910389Z"
    },
    "colab": {
     "base_uri": "https://localhost:8080/"
    },
    "hidden": true,
    "id": "BR3AJxskpRTN",
    "outputId": "91bbf7cc-7a02-43fc-c5b0-0fffcda46562",
    "scrolled": true
   },
   "outputs": [
    {
     "data": {
      "text/plain": [
       "id                        int64\n",
       "Gender                   object\n",
       "Age                       int64\n",
       "Driving_License           int64\n",
       "Region_Code             float64\n",
       "Previously_Insured        int64\n",
       "Vehicle_Age              object\n",
       "Vehicle_Damage           object\n",
       "Annual_Premium          float64\n",
       "Policy_Sales_Channel    float64\n",
       "Vintage                   int64\n",
       "Response                  int64\n",
       "dtype: object"
      ]
     },
     "execution_count": 5,
     "metadata": {},
     "output_type": "execute_result"
    }
   ],
   "source": [
    "df.dtypes"
   ]
  },
  {
   "cell_type": "markdown",
   "id": "5edbf76a",
   "metadata": {
    "heading_collapsed": true,
    "hidden": true
   },
   "source": [
    "### 1.3 Check Na"
   ]
  },
  {
   "cell_type": "code",
   "execution_count": 6,
   "id": "4169e7ec",
   "metadata": {
    "ExecuteTime": {
     "end_time": "2022-05-02T18:55:45.971207Z",
     "start_time": "2022-05-02T18:55:45.926335Z"
    },
    "colab": {
     "base_uri": "https://localhost:8080/"
    },
    "hidden": true,
    "id": "MI1tbVODqV7w",
    "outputId": "531330d8-401f-473c-ad80-247536756b93",
    "scrolled": true
   },
   "outputs": [
    {
     "data": {
      "text/plain": [
       "id                      0\n",
       "Gender                  0\n",
       "Age                     0\n",
       "Driving_License         0\n",
       "Region_Code             0\n",
       "Previously_Insured      0\n",
       "Vehicle_Age             0\n",
       "Vehicle_Damage          0\n",
       "Annual_Premium          0\n",
       "Policy_Sales_Channel    0\n",
       "Vintage                 0\n",
       "Response                0\n",
       "dtype: int64"
      ]
     },
     "execution_count": 6,
     "metadata": {},
     "output_type": "execute_result"
    }
   ],
   "source": [
    "df.isna().sum()"
   ]
  },
  {
   "cell_type": "markdown",
   "id": "4437ccc8",
   "metadata": {
    "heading_collapsed": true,
    "hidden": true
   },
   "source": [
    "### 1.4 Descriptive Statistical"
   ]
  },
  {
   "cell_type": "markdown",
   "id": "bed9672c",
   "metadata": {
    "heading_collapsed": true,
    "hidden": true
   },
   "source": [
    "###### 1.4.1 Classifying Attributes"
   ]
  },
  {
   "cell_type": "code",
   "execution_count": 7,
   "id": "e5a82cf6",
   "metadata": {
    "ExecuteTime": {
     "end_time": "2022-05-02T18:55:45.986199Z",
     "start_time": "2022-05-02T18:55:45.972204Z"
    },
    "hidden": true
   },
   "outputs": [],
   "source": [
    "features_categóricas = ['Gender', 'Vehicle_Damage', 'Vehicle_Age', 'Driving_License', 'Region_Code', 'Previously_Insured', 'Policy_Sales_Channel', 'Vintage']\n",
    "features_numéricas = ['Age', 'Annual_Premium']"
   ]
  },
  {
   "cell_type": "markdown",
   "id": "016a9b27",
   "metadata": {
    "heading_collapsed": true,
    "hidden": true
   },
   "source": [
    "###### 1.4.2 Target"
   ]
  },
  {
   "cell_type": "code",
   "execution_count": 8,
   "id": "33666982",
   "metadata": {
    "ExecuteTime": {
     "end_time": "2022-05-02T18:55:46.002105Z",
     "start_time": "2022-05-02T18:55:45.988150Z"
    },
    "hidden": true
   },
   "outputs": [
    {
     "name": "stdout",
     "output_type": "stream",
     "text": [
      "A porcentagem de interessados no produto é: 12.0 %\n"
     ]
    }
   ],
   "source": [
    "print(f'A porcentagem de interessados no produto é: {round(df[\"Response\"].mean(), 2) * 100} %')"
   ]
  },
  {
   "cell_type": "markdown",
   "id": "1dd6a697",
   "metadata": {
    "hidden": true
   },
   "source": [
    "Desbalanceada"
   ]
  },
  {
   "cell_type": "markdown",
   "id": "87762e11",
   "metadata": {
    "heading_collapsed": true,
    "hidden": true
   },
   "source": [
    "###### 1.4.3 Numerical Features"
   ]
  },
  {
   "cell_type": "code",
   "execution_count": 9,
   "id": "31074aa7",
   "metadata": {
    "ExecuteTime": {
     "end_time": "2022-05-02T18:55:46.161581Z",
     "start_time": "2022-05-02T18:55:46.004122Z"
    },
    "hidden": true,
    "scrolled": true
   },
   "outputs": [
    {
     "data": {
      "text/html": [
       "<div>\n",
       "<style scoped>\n",
       "    .dataframe tbody tr th:only-of-type {\n",
       "        vertical-align: middle;\n",
       "    }\n",
       "\n",
       "    .dataframe tbody tr th {\n",
       "        vertical-align: top;\n",
       "    }\n",
       "\n",
       "    .dataframe thead th {\n",
       "        text-align: right;\n",
       "    }\n",
       "</style>\n",
       "<table border=\"1\" class=\"dataframe\">\n",
       "  <thead>\n",
       "    <tr style=\"text-align: right;\">\n",
       "      <th></th>\n",
       "      <th>min</th>\n",
       "      <th>max</th>\n",
       "      <th>range</th>\n",
       "      <th>mean</th>\n",
       "      <th>median</th>\n",
       "      <th>std</th>\n",
       "      <th>skew</th>\n",
       "      <th>kurtosis</th>\n",
       "    </tr>\n",
       "  </thead>\n",
       "  <tbody>\n",
       "    <tr>\n",
       "      <th>Age</th>\n",
       "      <td>20.0</td>\n",
       "      <td>85.0</td>\n",
       "      <td>65.0</td>\n",
       "      <td>38.827588</td>\n",
       "      <td>36.0</td>\n",
       "      <td>15.510413</td>\n",
       "      <td>0.672355</td>\n",
       "      <td>-0.564753</td>\n",
       "    </tr>\n",
       "    <tr>\n",
       "      <th>Annual_Premium</th>\n",
       "      <td>2630.0</td>\n",
       "      <td>540165.0</td>\n",
       "      <td>537535.0</td>\n",
       "      <td>30576.361023</td>\n",
       "      <td>31670.0</td>\n",
       "      <td>17247.606903</td>\n",
       "      <td>1.846083</td>\n",
       "      <td>36.019385</td>\n",
       "    </tr>\n",
       "  </tbody>\n",
       "</table>\n",
       "</div>"
      ],
      "text/plain": [
       "                   min       max     range          mean   median  \\\n",
       "Age               20.0      85.0      65.0     38.827588     36.0   \n",
       "Annual_Premium  2630.0  540165.0  537535.0  30576.361023  31670.0   \n",
       "\n",
       "                         std      skew   kurtosis  \n",
       "Age                15.510413  0.672355  -0.564753  \n",
       "Annual_Premium  17247.606903  1.846083  36.019385  "
      ]
     },
     "execution_count": 9,
     "metadata": {},
     "output_type": "execute_result"
    }
   ],
   "source": [
    "# Central tendency\n",
    "ct1 = pd.DataFrame(df[features_numéricas].apply(np.mean)).T\n",
    "ct2 = pd.DataFrame(df[features_numéricas].apply(np.median)).T\n",
    "\n",
    "# Dispersion\n",
    "d1 = pd.DataFrame(df[features_numéricas].apply(np.std)).T\n",
    "d2 = pd.DataFrame(df[features_numéricas].apply(min)).T\n",
    "d3 = pd.DataFrame(df[features_numéricas].apply(max)).T\n",
    "d4 = pd.DataFrame(df[features_numéricas].apply(lambda x: x.max() - x.min())).T\n",
    "d5 = pd.DataFrame(df[features_numéricas].apply(lambda x: x.skew())).T\n",
    "d6 = pd.DataFrame(df[features_numéricas].apply(lambda x: x.kurtosis())).T\n",
    "\n",
    "# Concat\n",
    "temp = pd.concat([d2, d3, d4, ct1, ct2, d1, d5, d6]).T\n",
    "temp.columns = 'min max range mean median std skew kurtosis'.split()\n",
    "temp"
   ]
  },
  {
   "cell_type": "markdown",
   "id": "65daa280",
   "metadata": {
    "hidden": true
   },
   "source": [
    "* Range de idade entre 20 e 85 anos, sem indícios de erros de inputs\n",
    "* Annual_Premium com possíveis outliers"
   ]
  },
  {
   "cell_type": "code",
   "execution_count": 10,
   "id": "c51d0503",
   "metadata": {
    "ExecuteTime": {
     "end_time": "2022-05-02T18:55:46.224164Z",
     "start_time": "2022-05-02T18:55:46.166557Z"
    },
    "colab": {
     "base_uri": "https://localhost:8080/",
     "height": 0
    },
    "hidden": true,
    "id": "R3zqwAqNtq0t",
    "outputId": "74ae0af1-3205-4f40-f697-53ba371ecfd9",
    "scrolled": false
   },
   "outputs": [
    {
     "data": {
      "text/html": [
       "<div>\n",
       "<style scoped>\n",
       "    .dataframe tbody tr th:only-of-type {\n",
       "        vertical-align: middle;\n",
       "    }\n",
       "\n",
       "    .dataframe tbody tr th {\n",
       "        vertical-align: top;\n",
       "    }\n",
       "\n",
       "    .dataframe thead th {\n",
       "        text-align: right;\n",
       "    }\n",
       "</style>\n",
       "<table border=\"1\" class=\"dataframe\">\n",
       "  <thead>\n",
       "    <tr style=\"text-align: right;\">\n",
       "      <th></th>\n",
       "      <th>count</th>\n",
       "      <th>mean</th>\n",
       "      <th>std</th>\n",
       "      <th>min</th>\n",
       "      <th>25%</th>\n",
       "      <th>50%</th>\n",
       "      <th>75%</th>\n",
       "      <th>max</th>\n",
       "    </tr>\n",
       "  </thead>\n",
       "  <tbody>\n",
       "    <tr>\n",
       "      <th>Age</th>\n",
       "      <td>342998.0</td>\n",
       "      <td>38.827588</td>\n",
       "      <td>15.510435</td>\n",
       "      <td>20.0</td>\n",
       "      <td>25.0</td>\n",
       "      <td>36.0</td>\n",
       "      <td>49.00</td>\n",
       "      <td>85.0</td>\n",
       "    </tr>\n",
       "    <tr>\n",
       "      <th>Annual_Premium</th>\n",
       "      <td>342998.0</td>\n",
       "      <td>30576.361023</td>\n",
       "      <td>17247.632046</td>\n",
       "      <td>2630.0</td>\n",
       "      <td>24413.0</td>\n",
       "      <td>31670.0</td>\n",
       "      <td>39410.75</td>\n",
       "      <td>540165.0</td>\n",
       "    </tr>\n",
       "  </tbody>\n",
       "</table>\n",
       "</div>"
      ],
      "text/plain": [
       "                   count          mean           std     min      25%  \\\n",
       "Age             342998.0     38.827588     15.510435    20.0     25.0   \n",
       "Annual_Premium  342998.0  30576.361023  17247.632046  2630.0  24413.0   \n",
       "\n",
       "                    50%       75%       max  \n",
       "Age                36.0     49.00      85.0  \n",
       "Annual_Premium  31670.0  39410.75  540165.0  "
      ]
     },
     "execution_count": 10,
     "metadata": {},
     "output_type": "execute_result"
    }
   ],
   "source": [
    "df[features_numéricas].describe().T"
   ]
  },
  {
   "cell_type": "markdown",
   "id": "f2c87200",
   "metadata": {
    "hidden": true
   },
   "source": [
    "* Idade com média e mediana próximas, dados centralizados na média, skew baixa, o que reforça distribuição centralizada na média, skew pouco positiva, o que sugere cauda esquerda mais pesada, kurtosis baixa e negativa, o que sugere uma distribuição um pouco mais plana em relação a uma normal com mesma média e desvio padrão, uma distribuição próxima a uma NORMAL\n",
    "* Prêmio Anual com média e mediana próximos, o que sugere dados centralizados na média, skew baixa e positiva, o que sugere dados centralizados na média com uma cauda esquerda mais pesada, kurtosis bastante alto, o que sugere um pico bastante elevado, uma distribuição próxima a uma POISSON"
   ]
  },
  {
   "cell_type": "markdown",
   "id": "bc1ab4c8",
   "metadata": {
    "heading_collapsed": true,
    "hidden": true
   },
   "source": [
    "###### 1.4.4 Categorical Features"
   ]
  },
  {
   "cell_type": "code",
   "execution_count": 11,
   "id": "fb174429",
   "metadata": {
    "ExecuteTime": {
     "end_time": "2022-05-02T18:55:46.408672Z",
     "start_time": "2022-05-02T18:55:46.227209Z"
    },
    "hidden": true,
    "scrolled": false
   },
   "outputs": [
    {
     "data": {
      "text/html": [
       "<div>\n",
       "<style scoped>\n",
       "    .dataframe tbody tr th:only-of-type {\n",
       "        vertical-align: middle;\n",
       "    }\n",
       "\n",
       "    .dataframe tbody tr th {\n",
       "        vertical-align: top;\n",
       "    }\n",
       "\n",
       "    .dataframe thead th {\n",
       "        text-align: right;\n",
       "    }\n",
       "</style>\n",
       "<table border=\"1\" class=\"dataframe\">\n",
       "  <thead>\n",
       "    <tr style=\"text-align: right;\">\n",
       "      <th></th>\n",
       "      <th>count</th>\n",
       "      <th>unique</th>\n",
       "      <th>top</th>\n",
       "      <th>freq</th>\n",
       "    </tr>\n",
       "  </thead>\n",
       "  <tbody>\n",
       "    <tr>\n",
       "      <th>Gender</th>\n",
       "      <td>342998</td>\n",
       "      <td>2</td>\n",
       "      <td>Male</td>\n",
       "      <td>185556</td>\n",
       "    </tr>\n",
       "    <tr>\n",
       "      <th>Vehicle_Damage</th>\n",
       "      <td>342998</td>\n",
       "      <td>2</td>\n",
       "      <td>Yes</td>\n",
       "      <td>173238</td>\n",
       "    </tr>\n",
       "    <tr>\n",
       "      <th>Vehicle_Age</th>\n",
       "      <td>342998</td>\n",
       "      <td>3</td>\n",
       "      <td>1-2 Year</td>\n",
       "      <td>180407</td>\n",
       "    </tr>\n",
       "    <tr>\n",
       "      <th>Driving_License</th>\n",
       "      <td>342998</td>\n",
       "      <td>2</td>\n",
       "      <td>1</td>\n",
       "      <td>342268</td>\n",
       "    </tr>\n",
       "    <tr>\n",
       "      <th>Region_Code</th>\n",
       "      <td>342998.0</td>\n",
       "      <td>53.0</td>\n",
       "      <td>28.0</td>\n",
       "      <td>95794.0</td>\n",
       "    </tr>\n",
       "    <tr>\n",
       "      <th>Previously_Insured</th>\n",
       "      <td>342998</td>\n",
       "      <td>2</td>\n",
       "      <td>0</td>\n",
       "      <td>185886</td>\n",
       "    </tr>\n",
       "    <tr>\n",
       "      <th>Policy_Sales_Channel</th>\n",
       "      <td>342998.0</td>\n",
       "      <td>154.0</td>\n",
       "      <td>152.0</td>\n",
       "      <td>121253.0</td>\n",
       "    </tr>\n",
       "    <tr>\n",
       "      <th>Vintage</th>\n",
       "      <td>342998</td>\n",
       "      <td>290</td>\n",
       "      <td>73</td>\n",
       "      <td>1263</td>\n",
       "    </tr>\n",
       "  </tbody>\n",
       "</table>\n",
       "</div>"
      ],
      "text/plain": [
       "                         count unique       top      freq\n",
       "Gender                  342998      2      Male    185556\n",
       "Vehicle_Damage          342998      2       Yes    173238\n",
       "Vehicle_Age             342998      3  1-2 Year    180407\n",
       "Driving_License         342998      2         1    342268\n",
       "Region_Code           342998.0   53.0      28.0   95794.0\n",
       "Previously_Insured      342998      2         0    185886\n",
       "Policy_Sales_Channel  342998.0  154.0     152.0  121253.0\n",
       "Vintage                 342998    290        73      1263"
      ]
     },
     "execution_count": 11,
     "metadata": {},
     "output_type": "execute_result"
    }
   ],
   "source": [
    "df[features_categóricas].astype('category').describe().T"
   ]
  },
  {
   "cell_type": "markdown",
   "id": "13942d5c",
   "metadata": {
    "hidden": true
   },
   "source": [
    "* Sexo relativamente balanceado com a maioria de mulheres\n",
    "* Maior parte dos clientes possuem veículos com menos de 1 ano\n",
    "* Maior parte dos clientes já teve danos em seu veículo\n",
    "* Habilitação para dirigir balanceado\n",
    "* Há 53 regiões diferentes e por volta de 30% dos clientes estão contidos na região 28\n",
    "* Um pouco mais que 50% dos clientes não possuem seguro veicular\n",
    "* Há 157 canais de vendas, e por volta de 35% dos clientes estão contidos no canal 152."
   ]
  },
  {
   "cell_type": "markdown",
   "id": "7bff2fa9",
   "metadata": {
    "id": "lpsQdPJVSjpi"
   },
   "source": [
    "# 3.0 Feature Engineering"
   ]
  },
  {
   "cell_type": "markdown",
   "id": "0e259fa0",
   "metadata": {},
   "source": [
    "### 3.1 Business Hypothesis"
   ]
  },
  {
   "cell_type": "code",
   "execution_count": 8,
   "id": "581cd3da",
   "metadata": {
    "ExecuteTime": {
     "end_time": "2022-05-02T22:11:44.571368Z",
     "start_time": "2022-05-02T22:11:44.546427Z"
    },
    "scrolled": false
   },
   "outputs": [
    {
     "data": {
      "image/jpeg": "[encoded data removed]",
      "text/plain": [
       "<IPython.core.display.Image object>"
      ]
     },
     "execution_count": 8,
     "metadata": {},
     "output_type": "execute_result"
    }
   ],
   "source": [
    "Image('D:\\\\My Drive\\\\Pessoal\\\\Projetos\\\\insurance_sales_predict\\\\insurance_sales_predict\\\\img\\\\mindmap.JPG')"
   ]
  },
  {
   "cell_type": "markdown",
   "id": "05f91817",
   "metadata": {},
   "source": [
    "### 3.2 Creating Hypothesis"
   ]
  },
  {
   "cell_type": "markdown",
   "id": "0032fce4",
   "metadata": {},
   "source": [
    "###### Corretora:\n",
    "* Contatos mais diretos com os clientes deveriam gerar mais vendas\n",
    "* Ações de marketing deveriam gerar mais vendas.\n",
    "* Contato mais próximo com o cliente deveriam gerar mais vendas\n",
    "* Maior confiabilidade da parte da corretora deveria gerar mais vendas.\n",
    "\n",
    "###### Clientes:\n",
    "* Clientes localizados em regiões com maiores rendas percaptas deveriam comprar mais\n",
    "* Clientes do gênero feminino deveriam comprar mais\n",
    "* Clientes mais velhos deveriam comprar mais\n",
    "* Clientes com famílias maiores deveriam comprar mais\n",
    "\n",
    "###### Seguro de Vida:\n",
    "* Contas de Seguro de Vida com valores mais altos deveriam gerar mais vendas\n",
    "* Contas com tempo de aquisição vigente maior deveriam gerar mais vendas\n",
    "\n",
    "###### Relação do Cliente com o Automóvel:\n",
    "* Clientes que já acionaram o seguro no passado deveriam comprar mais\n",
    "* Clientes com veículos mais novos deveriam comprar mais\n",
    "* Clientes que não possuem seguro de automóvel deveriam comprara mais.\n",
    "* Clientes habilitados deveriam comprar mais.\n",
    "\n",
    "###### Hipóteses Selecionadas:\n",
    "1. ...\n",
    "2. ..."
   ]
  },
  {
   "cell_type": "markdown",
   "id": "aef72400",
   "metadata": {
    "heading_collapsed": true
   },
   "source": [
    "### 3.3 Creating Features"
   ]
  },
  {
   "cell_type": "markdown",
   "id": "a0c78ca8",
   "metadata": {
    "heading_collapsed": true
   },
   "source": [
    "### 3.4 Encoding Features"
   ]
  },
  {
   "cell_type": "code",
   "execution_count": 12,
   "id": "b2b2d909",
   "metadata": {
    "ExecuteTime": {
     "end_time": "2022-05-02T18:55:46.581809Z",
     "start_time": "2022-05-02T18:55:46.409669Z"
    },
    "hidden": true
   },
   "outputs": [],
   "source": [
    "# gender\n",
    "le_gender = LabelEncoder().fit(df['Gender'])\n",
    "df['le_gender'] = le_gender.transform(df['Gender'])\n",
    "\n",
    "# vehicle_damage\n",
    "le_vehicle_damage = LabelEncoder().fit(df['Vehicle_Damage'])\n",
    "df['le_vehicle_damage'] = le_vehicle_damage.transform(df['Vehicle_Damage'])\n",
    "\n",
    "# vehicle_age\n",
    "le_vehicle_age = LabelEncoder().fit(df['Vehicle_Age'])\n",
    "df['le_vehicle_age'] = le_vehicle_age.transform(df['Vehicle_Age'])"
   ]
  },
  {
   "cell_type": "markdown",
   "id": "6033b1be",
   "metadata": {},
   "source": [
    "# 5.0 Exploratory Data Analysis"
   ]
  },
  {
   "cell_type": "markdown",
   "id": "d265ef0a",
   "metadata": {
    "heading_collapsed": true
   },
   "source": [
    "## Principais Insights:"
   ]
  },
  {
   "cell_type": "markdown",
   "id": "f88b72c5",
   "metadata": {
    "heading_collapsed": true,
    "hidden": true
   },
   "source": [
    "### Espaço Amostral\n",
    "1. 6 dimensões parecem explicar 90% de toda variabilidade das features\n",
    "2. Annual_Premium transformada por log apresenta uma shape semelhante a uma normal\n",
    "3. 4 features binárias, 2 numéricas, 1 categórica e 2 categóricas com excessivas categorias e portanto foram transformadas em numéricas.\n",
    "\n",
    "### Features Analysis\n",
    "\n",
    "###### Response:\n",
    "1. Desbalanceada com 12% de eventos positivos\n",
    "2. Correlação fraca com Vehicle_Damage e correlação fraca negativa com Previously_Insured\n",
    "\n",
    "###### Gender:\n",
    "1. Balanceada\n",
    "2. Correlações muito fracas\n",
    "3. Homens se interessam 30% mais no produto em relação às mulheres\n",
    "\n",
    "###### Vehicle_Age:\n",
    "1. Mais da metade dos clientes possuem carros com menos de 1 ano\n",
    "2. Correlação moderada negativa com Age, fraca positiva com Policy_Sales_Channel\n",
    "3. Médias de response bastante distintas\n",
    "\n",
    "###### Vehicle_Damage:\n",
    "1. Balanceada\n",
    "2. Correlação muito forte negativa com Previously_Insured, fraca negativa com Policy_Sales_Channel, fraca positiva com Response e Age\n",
    "3. Clientes que já tiveram danos no seu veículo tem 24% de response, enquanto clientes que não tiveram danos têm por volta de 1%\n",
    "\n",
    "###### Driving_License:\n",
    "1. Correlações muito fracas\n",
    "2. 99% dos clientes são habilitados\n",
    "3. Habilitados apresentam 5% de interesse no produto, não habilitados apresentam 12% de interesse no produto.\n",
    "\n",
    "###### Previously_Insured:\n",
    "1. 45% dos clientes já possuem seguro veicular\n",
    "2. Clientes que já possuem seguro têm interesse quase zero pelo produto\n",
    "3. Correlação muito forte negativa com Vehicle_Damage, fraca negativa com Response e Age, e fraca positiva com Policy_Sales_Channel\n",
    "\n",
    "###### Region_Code:\n",
    "1. 53 regiões\n",
    "2. 28% dos clientes está contido na região 28. 50% dos dados estão contidos nas 5 regiões mais numerosas\n",
    "3. A região 28 (mais importante) tem por volta de 18% de probabilidade de response, segunda melhor região, atrás apenas da região 38.\n",
    "4. As regiões com probabilidade de response mais alto estão com por volta de 19%, as regiões com probabilidades mais baixas estã em por volta de 4%\n",
    "5. Médias de response bastante distintas, com desvios padrões baixos\n",
    "\n",
    "###### Policy_Sales_Channel:\n",
    "1. Há 157 Policy_Sales_Channel e aproximadamente um terço das amostras está contido no canal 152\n",
    "2. 5 categorias contém 84.19% do total de clientes\n",
    "3. Correlação moderada negativa com Age, correlação fraca negativa com Vehicle_Damage, correlação fraca positiva com Vehicle_Age e Previously_Insured\n",
    "4. Médias de response por canais de Policy_Sales_Channel bastante distintas\n",
    "5. Os canais mais utilizados apresentam médias de response bastante diferentes da média global, os canal 152 é o mais utilizado e apresenta 2% de interesse no produto, o canal 155 apresenta 2%, já os canais 26, 124 e 156 apresentam por volta de 20% de interesse no produto\n",
    "\n",
    "###### Vintage:\n",
    "1. Feature categórica, há 290 categorias em Vintage\n",
    "\n",
    "###### Age:\n",
    "1. Range de idade de 25 até 85 anos, aparentemente sem erros de input\n",
    "2. Apresenta uma distribuição com uma certa semelhança com uma Poison, mas com uma segunda moda em um ponto próximo aos 45 anos.\n",
    "3. Sem outliers\n",
    "4. A média de idade entre os que não se interessam pelo produto é de 38 anos, e dos que se interessam é de 43 anos.\n",
    "5. Pessoas com mais de 30 anos apresentam um interesse relativamente maior pelo produto.\n",
    "6. Correlações moderadas negativas com Policy_Sales_Channel e Vehicle_Age, fraca negativa com Previously_Insured e fraca positiva com Vehicle_Damage\n",
    "7. Clientes com menos de 30 anos de idade apresentam em média 4% de interesse no produto, enquanto os clientes com 30 anos ou mais têm em média 17% interesse no produto.\n",
    "\n",
    "\n",
    "###### Annual_Premium\n",
    "1. 2799 em Annual_Premmium, não aparentam ser por conta de erros de input\n",
    "2. Há dois grupos de clientes, um com valores fixos em 2630 dollares, e outro com valores contínuos e superiores, não há diferença significativa de média de interesse no produto entre os grupos\n",
    "3. Acima do terceiro quartil da distribuição há um interesse relativo 20% maior no produto"
   ]
  },
  {
   "cell_type": "markdown",
   "id": "c3178ceb",
   "metadata": {
    "heading_collapsed": true
   },
   "source": [
    "## 5.2 Univariate Analysis"
   ]
  },
  {
   "cell_type": "markdown",
   "id": "b818db05",
   "metadata": {
    "heading_collapsed": true,
    "hidden": true
   },
   "source": [
    "#### Response"
   ]
  },
  {
   "cell_type": "code",
   "execution_count": 15,
   "id": "9bb7c0e2",
   "metadata": {
    "ExecuteTime": {
     "end_time": "2022-05-02T18:55:47.025478Z",
     "start_time": "2022-05-02T18:55:47.011525Z"
    },
    "hidden": true
   },
   "outputs": [
    {
     "data": {
      "text/plain": [
       "0.12250800296211639"
      ]
     },
     "execution_count": 15,
     "metadata": {},
     "output_type": "execute_result"
    }
   ],
   "source": [
    "df['Response'].mean()"
   ]
  },
  {
   "cell_type": "code",
   "execution_count": 16,
   "id": "49ab1f64",
   "metadata": {
    "ExecuteTime": {
     "end_time": "2022-05-02T18:55:47.183951Z",
     "start_time": "2022-05-02T18:55:47.027471Z"
    },
    "hidden": true
   },
   "outputs": [
    {
     "data": {
      "text/plain": [
       "le_vehicle_damage       0.354208\n",
       "Age                     0.110183\n",
       "le_gender               0.051586\n",
       "Annual_Premium          0.022522\n",
       "Region_Code             0.010705\n",
       "Driving_License         0.009924\n",
       "Vintage                -0.001163\n",
       "id                     -0.001828\n",
       "le_vehicle_age         -0.103266\n",
       "Policy_Sales_Channel   -0.139720\n",
       "Previously_Insured     -0.341013\n",
       "Name: Response, dtype: float64"
      ]
     },
     "execution_count": 16,
     "metadata": {},
     "output_type": "execute_result"
    }
   ],
   "source": [
    "df.corr()['Response'].sort_values(ascending=False)[1:]"
   ]
  },
  {
   "cell_type": "markdown",
   "id": "05c4a6fa",
   "metadata": {
    "hidden": true
   },
   "source": [
    "Correlação fraca com Vehicle_Damage e correlação fraca negativa com Previously_Insured"
   ]
  },
  {
   "cell_type": "markdown",
   "id": "314aca73",
   "metadata": {
    "heading_collapsed": true,
    "hidden": true
   },
   "source": [
    "#### Gender"
   ]
  },
  {
   "cell_type": "code",
   "execution_count": 17,
   "id": "ff791a45",
   "metadata": {
    "ExecuteTime": {
     "end_time": "2022-05-02T18:55:47.358225Z",
     "start_time": "2022-05-02T18:55:47.184907Z"
    },
    "hidden": true,
    "scrolled": true
   },
   "outputs": [
    {
     "data": {
      "text/plain": [
       "Age                     0.145717\n",
       "le_vehicle_damage       0.092131\n",
       "Response                0.051586\n",
       "Annual_Premium          0.003357\n",
       "id                      0.001683\n",
       "Region_Code             0.000245\n",
       "Vintage                -0.002249\n",
       "Driving_License        -0.019054\n",
       "Previously_Insured     -0.082726\n",
       "Policy_Sales_Channel   -0.111195\n",
       "le_vehicle_age         -0.112895\n",
       "Name: le_gender, dtype: float64"
      ]
     },
     "execution_count": 17,
     "metadata": {},
     "output_type": "execute_result"
    }
   ],
   "source": [
    "df.corr()['le_gender'].sort_values(ascending=False)[1:]"
   ]
  },
  {
   "cell_type": "markdown",
   "id": "ddc410d1",
   "metadata": {
    "hidden": true
   },
   "source": [
    "Correlações muito fracas"
   ]
  },
  {
   "cell_type": "code",
   "execution_count": 18,
   "id": "0c3f8b7f",
   "metadata": {
    "ExecuteTime": {
     "end_time": "2022-05-02T18:55:47.374173Z",
     "start_time": "2022-05-02T18:55:47.359225Z"
    },
    "hidden": true
   },
   "outputs": [
    {
     "data": {
      "text/plain": [
       "array(['Female'], dtype=object)"
      ]
     },
     "execution_count": 18,
     "metadata": {},
     "output_type": "execute_result"
    }
   ],
   "source": [
    "le_gender.inverse_transform([0])"
   ]
  },
  {
   "cell_type": "code",
   "execution_count": 20,
   "id": "10b327ae",
   "metadata": {
    "ExecuteTime": {
     "end_time": "2022-05-02T18:56:13.352445Z",
     "start_time": "2022-05-02T18:56:13.324540Z"
    },
    "hidden": true
   },
   "outputs": [
    {
     "name": "stdout",
     "output_type": "stream",
     "text": [
      "10.41% das mulheres se interessam pelo produto.\n",
      "13.81% dos homens se interessam pelo produto.\n"
     ]
    }
   ],
   "source": [
    "print(f'{round(df.loc[df[\"le_gender\"]==0, \"Response\"].mean() *100, 2)}% das mulheres se interessam pelo produto.')\n",
    "print(f'{round(df.loc[df[\"le_gender\"]==1, \"Response\"].mean() *100, 2)}% dos homens se interessam pelo produto.')"
   ]
  },
  {
   "cell_type": "markdown",
   "id": "ebb1951a",
   "metadata": {
    "heading_collapsed": true,
    "hidden": true
   },
   "source": [
    "#### Age"
   ]
  },
  {
   "cell_type": "code",
   "execution_count": 21,
   "id": "be291c64",
   "metadata": {
    "ExecuteTime": {
     "end_time": "2022-05-02T18:56:13.525860Z",
     "start_time": "2022-05-02T18:56:13.354428Z"
    },
    "hidden": true
   },
   "outputs": [
    {
     "data": {
      "text/plain": [
       "le_vehicle_damage       0.266328\n",
       "le_gender               0.145717\n",
       "Response                0.110183\n",
       "Annual_Premium          0.068398\n",
       "Region_Code             0.042868\n",
       "id                      0.001751\n",
       "Vintage                -0.000906\n",
       "Driving_License        -0.080025\n",
       "Previously_Insured     -0.253726\n",
       "le_vehicle_age         -0.522096\n",
       "Policy_Sales_Channel   -0.577608\n",
       "Name: Age, dtype: float64"
      ]
     },
     "execution_count": 21,
     "metadata": {},
     "output_type": "execute_result"
    }
   ],
   "source": [
    "df.corr()['Age'].sort_values(ascending=False)[1:]"
   ]
  },
  {
   "cell_type": "markdown",
   "id": "f1738183",
   "metadata": {
    "hidden": true
   },
   "source": [
    "Correlações moderadas negativas com Policy_Sales_Channel e Vehicle_Age, fraca negativa com Previously_Insured e fraca positiva com Vehicle_Damage"
   ]
  },
  {
   "cell_type": "code",
   "execution_count": 22,
   "id": "346a2009",
   "metadata": {
    "ExecuteTime": {
     "end_time": "2022-05-02T18:56:13.809800Z",
     "start_time": "2022-05-02T18:56:13.527091Z"
    },
    "hidden": true
   },
   "outputs": [
    {
     "data": {
      "image/png": "[encoded data removed]",
      "text/plain": [
       "<Figure size 432x288 with 1 Axes>"
      ]
     },
     "metadata": {
      "needs_background": "light"
     },
     "output_type": "display_data"
    }
   ],
   "source": [
    "sns.histplot(df['Age'], bins=20);"
   ]
  },
  {
   "cell_type": "markdown",
   "id": "c8ce67eb",
   "metadata": {
    "hidden": true
   },
   "source": [
    "Apresenta uma distribuição com uma certa semelhança com uma Poison, mas com uma segunda moda em um ponto próximo aos 45 anos."
   ]
  },
  {
   "cell_type": "code",
   "execution_count": 23,
   "id": "e1cd179d",
   "metadata": {
    "ExecuteTime": {
     "end_time": "2022-05-02T18:56:13.824956Z",
     "start_time": "2022-05-02T18:56:13.813002Z"
    },
    "hidden": true
   },
   "outputs": [],
   "source": [
    "índices, li, ls = buscar_outlier(df, 'Age')"
   ]
  },
  {
   "cell_type": "code",
   "execution_count": 24,
   "id": "ddd4e203",
   "metadata": {
    "ExecuteTime": {
     "end_time": "2022-05-02T18:56:13.931559Z",
     "start_time": "2022-05-02T18:56:13.827922Z"
    },
    "hidden": true,
    "scrolled": false
   },
   "outputs": [
    {
     "data": {
      "image/png": "[encoded data removed]",
      "text/plain": [
       "<Figure size 432x288 with 1 Axes>"
      ]
     },
     "metadata": {
      "needs_background": "light"
     },
     "output_type": "display_data"
    }
   ],
   "source": [
    "sns.boxplot(data=df, x='Age')\n",
    "plt.title('Quartis de Idade');"
   ]
  },
  {
   "cell_type": "markdown",
   "id": "1460d2fe",
   "metadata": {
    "hidden": true
   },
   "source": [
    "sem outliers"
   ]
  },
  {
   "cell_type": "code",
   "execution_count": 25,
   "id": "ab011dfc",
   "metadata": {
    "ExecuteTime": {
     "end_time": "2022-05-02T18:56:13.947550Z",
     "start_time": "2022-05-02T18:56:13.933551Z"
    },
    "hidden": true,
    "scrolled": true
   },
   "outputs": [
    {
     "name": "stdout",
     "output_type": "stream",
     "text": [
      "A média de idade entre os que NÃO se interessam pelo produto: 38.19%\n",
      "A média de idade entre os que se interessam pelo produto: 43.4%\n"
     ]
    }
   ],
   "source": [
    "print(f'A média de idade entre os que NÃO se interessam pelo produto: {round(df.loc[df[\"Response\"]==0, \"Age\"].mean(), 2)}%')\n",
    "print(f'A média de idade entre os que se interessam pelo produto: {round(df.loc[df[\"Response\"]==1, \"Age\"].mean(), 2)}%')"
   ]
  },
  {
   "cell_type": "code",
   "execution_count": 26,
   "id": "07c1dd3b",
   "metadata": {
    "ExecuteTime": {
     "end_time": "2022-05-02T18:56:15.565633Z",
     "start_time": "2022-05-02T18:56:13.948501Z"
    },
    "hidden": true,
    "scrolled": true
   },
   "outputs": [
    {
     "data": {
      "image/png": "[encoded data removed]",
      "text/plain": [
       "<Figure size 432x288 with 2 Axes>"
      ]
     },
     "metadata": {
      "needs_background": "light"
     },
     "output_type": "display_data"
    }
   ],
   "source": [
    "plt.subplot(2, 1, 1)\n",
    "plt.title('Distribuição e Densidade de Idade Segregado por Response')\n",
    "g = sns.histplot(df.loc[df['Response']==0, 'Age'], color='r', alpha=0.5, bins=20)\n",
    "g = sns.histplot(df.loc[df['Response']==1, 'Age'], color='b', alpha=0.5, bins=20)\n",
    "plt.subplot(2, 1, 2)\n",
    "g = sns.kdeplot(df.loc[df['Response']==0, 'Age'], color='r', alpha=0.5)\n",
    "g = sns.kdeplot(df.loc[df['Response']==1, 'Age'], color='b', alpha=0.5)"
   ]
  },
  {
   "cell_type": "markdown",
   "id": "3406cf05",
   "metadata": {
    "hidden": true
   },
   "source": [
    "Pessoas mais velhas apresentam maior interesse no produto"
   ]
  },
  {
   "cell_type": "code",
   "execution_count": 27,
   "id": "553793a1",
   "metadata": {
    "ExecuteTime": {
     "end_time": "2022-05-02T18:56:15.724418Z",
     "start_time": "2022-05-02T18:56:15.566635Z"
    },
    "hidden": true,
    "scrolled": true
   },
   "outputs": [
    {
     "data": {
      "image/png": "[encoded data removed]",
      "text/plain": [
       "<Figure size 432x288 with 1 Axes>"
      ]
     },
     "metadata": {
      "needs_background": "light"
     },
     "output_type": "display_data"
    }
   ],
   "source": [
    "sns.boxplot(x='Response', y='Age', data=df)\n",
    "plt.title('Quartis de Idades Segregado por Response');"
   ]
  },
  {
   "cell_type": "markdown",
   "id": "ab01facf",
   "metadata": {
    "hidden": true
   },
   "source": [
    "Pessoas mais velhas apresentam interesse maior pelo produto"
   ]
  },
  {
   "cell_type": "markdown",
   "id": "a084a281",
   "metadata": {
    "heading_collapsed": true,
    "hidden": true
   },
   "source": [
    "#### Driving_License"
   ]
  },
  {
   "cell_type": "code",
   "execution_count": 28,
   "id": "333f15bb",
   "metadata": {
    "ExecuteTime": {
     "end_time": "2022-05-02T18:56:15.881789Z",
     "start_time": "2022-05-02T18:56:15.726265Z"
    },
    "hidden": true,
    "scrolled": true
   },
   "outputs": [
    {
     "data": {
      "text/plain": [
       "Policy_Sales_Channel    0.043325\n",
       "le_vehicle_age          0.030301\n",
       "Previously_Insured      0.015285\n",
       "Response                0.009924\n",
       "Vintage                -0.000672\n",
       "Region_Code            -0.000752\n",
       "id                     -0.000867\n",
       "Annual_Premium         -0.012929\n",
       "le_vehicle_damage      -0.017120\n",
       "le_gender              -0.019054\n",
       "Age                    -0.080025\n",
       "Name: Driving_License, dtype: float64"
      ]
     },
     "execution_count": 28,
     "metadata": {},
     "output_type": "execute_result"
    }
   ],
   "source": [
    "df.corr()['Driving_License'].sort_values(ascending=False)[1:]"
   ]
  },
  {
   "cell_type": "markdown",
   "id": "e2b791f9",
   "metadata": {
    "hidden": true
   },
   "source": [
    "Correlações muito fracas"
   ]
  },
  {
   "cell_type": "code",
   "execution_count": 29,
   "id": "63d611b4",
   "metadata": {
    "ExecuteTime": {
     "end_time": "2022-05-02T18:56:15.897808Z",
     "start_time": "2022-05-02T18:56:15.885783Z"
    },
    "hidden": true
   },
   "outputs": [
    {
     "name": "stdout",
     "output_type": "stream",
     "text": [
      "0.998% dos clientes são habilitados\n"
     ]
    }
   ],
   "source": [
    "print(f'{round(df[\"Driving_License\"].mean(), 3)}% dos clientes são habilitados')"
   ]
  },
  {
   "cell_type": "code",
   "execution_count": 30,
   "id": "f98f15cc",
   "metadata": {
    "ExecuteTime": {
     "end_time": "2022-05-02T18:56:20.339035Z",
     "start_time": "2022-05-02T18:56:15.899758Z"
    },
    "hidden": true
   },
   "outputs": [
    {
     "data": {
      "image/png": "[encoded data removed]",
      "text/plain": [
       "<Figure size 360x360 with 1 Axes>"
      ]
     },
     "metadata": {
      "needs_background": "light"
     },
     "output_type": "display_data"
    }
   ],
   "source": [
    "sns.catplot(x='Driving_License', y= 'Response', data=df, kind='bar')\n",
    "plt.ylabel('Média de Response')\n",
    "plt.title('Média de Response Segregado por Driving License');"
   ]
  },
  {
   "cell_type": "code",
   "execution_count": 31,
   "id": "530750fd",
   "metadata": {
    "ExecuteTime": {
     "end_time": "2022-05-02T18:56:20.354604Z",
     "start_time": "2022-05-02T18:56:20.340970Z"
    },
    "hidden": true,
    "scrolled": false
   },
   "outputs": [
    {
     "name": "stdout",
     "output_type": "stream",
     "text": [
      "Habilitados tem: 5.21% de interesse no produto\n",
      "NÃO habilitados tem: 12.27% de interesse no produto\n"
     ]
    }
   ],
   "source": [
    "print(f'Habilitados tem: {round(df.loc[df[\"Driving_License\"]==0, \"Response\"].mean()*100, 2)}% de interesse no produto')\n",
    "print(f'NÃO habilitados tem: {round(df.loc[df[\"Driving_License\"]==1, \"Response\"].mean()*100, 2)}% de interesse no produto')"
   ]
  },
  {
   "cell_type": "markdown",
   "id": "3d49e4a2",
   "metadata": {
    "heading_collapsed": true,
    "hidden": true
   },
   "source": [
    "#### Previously_Insured"
   ]
  },
  {
   "cell_type": "code",
   "execution_count": 32,
   "id": "f51def7f",
   "metadata": {
    "ExecuteTime": {
     "end_time": "2022-05-02T18:56:20.512036Z",
     "start_time": "2022-05-02T18:56:20.357564Z"
    },
    "hidden": true
   },
   "outputs": [
    {
     "data": {
      "text/plain": [
       "Policy_Sales_Channel    0.218625\n",
       "le_vehicle_age          0.174124\n",
       "Driving_License         0.015285\n",
       "Annual_Premium          0.003770\n",
       "Vintage                 0.002548\n",
       "id                      0.002159\n",
       "Region_Code            -0.024401\n",
       "le_gender              -0.082726\n",
       "Age                    -0.253726\n",
       "Response               -0.341013\n",
       "le_vehicle_damage      -0.824160\n",
       "Name: Previously_Insured, dtype: float64"
      ]
     },
     "execution_count": 32,
     "metadata": {},
     "output_type": "execute_result"
    }
   ],
   "source": [
    "df.corr()['Previously_Insured'].sort_values(ascending=False)[1:]"
   ]
  },
  {
   "cell_type": "markdown",
   "id": "d4d28765",
   "metadata": {
    "hidden": true
   },
   "source": [
    "Correlação muito forte negativa com Vehicle_Damage, fraca negativa com Response e Age, e fraca positiva com Policy_Sales_Channel"
   ]
  },
  {
   "cell_type": "code",
   "execution_count": 33,
   "id": "ad354245",
   "metadata": {
    "ExecuteTime": {
     "end_time": "2022-05-02T18:56:20.528045Z",
     "start_time": "2022-05-02T18:56:20.514031Z"
    },
    "hidden": true
   },
   "outputs": [
    {
     "data": {
      "text/plain": [
       "0.4580551490096152"
      ]
     },
     "execution_count": 33,
     "metadata": {},
     "output_type": "execute_result"
    }
   ],
   "source": [
    "df['Previously_Insured'].mean()"
   ]
  },
  {
   "cell_type": "markdown",
   "id": "72aa04aa",
   "metadata": {
    "hidden": true
   },
   "source": [
    "45% dos clientes já sofreram danos veiculares"
   ]
  },
  {
   "cell_type": "code",
   "execution_count": 34,
   "id": "2ebb10cf",
   "metadata": {
    "ExecuteTime": {
     "end_time": "2022-05-02T18:56:24.785989Z",
     "start_time": "2022-05-02T18:56:20.528978Z"
    },
    "hidden": true
   },
   "outputs": [
    {
     "data": {
      "image/png": "[encoded data removed]",
      "text/plain": [
       "<Figure size 360x360 with 1 Axes>"
      ]
     },
     "metadata": {
      "needs_background": "light"
     },
     "output_type": "display_data"
    }
   ],
   "source": [
    "sns.catplot(x='Previously_Insured', y='Response', data=df, kind='bar')\n",
    "plt.title('Média de Response Segregado por Previously Insured')\n",
    "plt.ylabel('Média de Response');"
   ]
  },
  {
   "cell_type": "code",
   "execution_count": 35,
   "id": "0d8d5e56",
   "metadata": {
    "ExecuteTime": {
     "end_time": "2022-05-02T18:56:24.816887Z",
     "start_time": "2022-05-02T18:56:24.788002Z"
    },
    "hidden": true,
    "scrolled": true
   },
   "outputs": [
    {
     "data": {
      "text/plain": [
       "0.08910840674168746"
      ]
     },
     "execution_count": 35,
     "metadata": {},
     "output_type": "execute_result"
    }
   ],
   "source": [
    "df.loc[df['Previously_Insured']==1, 'Response'].mean()*100"
   ]
  },
  {
   "cell_type": "markdown",
   "id": "bd62424f",
   "metadata": {
    "hidden": true
   },
   "source": [
    "Clientes que possuem seguro veicular tem interesse quase zero no produto"
   ]
  },
  {
   "cell_type": "markdown",
   "id": "54dc024a",
   "metadata": {
    "heading_collapsed": true,
    "hidden": true
   },
   "source": [
    "#### Region_Code"
   ]
  },
  {
   "cell_type": "code",
   "execution_count": 36,
   "id": "7c7f7955",
   "metadata": {
    "ExecuteTime": {
     "end_time": "2022-05-02T18:56:24.990670Z",
     "start_time": "2022-05-02T18:56:24.818577Z"
    },
    "hidden": true
   },
   "outputs": [
    {
     "data": {
      "text/plain": [
       "Age                     0.042868\n",
       "le_vehicle_damage       0.027944\n",
       "Response                0.010705\n",
       "le_gender               0.000245\n",
       "id                      0.000038\n",
       "Driving_License        -0.000752\n",
       "Vintage                -0.003537\n",
       "Annual_Premium         -0.011024\n",
       "Previously_Insured     -0.024401\n",
       "le_vehicle_age         -0.027203\n",
       "Policy_Sales_Channel   -0.043353\n",
       "Name: Region_Code, dtype: float64"
      ]
     },
     "execution_count": 36,
     "metadata": {},
     "output_type": "execute_result"
    }
   ],
   "source": [
    "df.corr()['Region_Code'].sort_values(ascending=False)[1:]"
   ]
  },
  {
   "cell_type": "markdown",
   "id": "0ce11a83",
   "metadata": {
    "hidden": true
   },
   "source": [
    "Correlações muito fracas"
   ]
  },
  {
   "cell_type": "code",
   "execution_count": 37,
   "id": "d96c5b41",
   "metadata": {
    "ExecuteTime": {
     "end_time": "2022-05-02T18:56:25.006601Z",
     "start_time": "2022-05-02T18:56:24.992615Z"
    },
    "hidden": true,
    "scrolled": true
   },
   "outputs": [
    {
     "data": {
      "text/plain": [
       "53"
      ]
     },
     "execution_count": 37,
     "metadata": {},
     "output_type": "execute_result"
    }
   ],
   "source": [
    "df['Region_Code'].nunique()"
   ]
  },
  {
   "cell_type": "markdown",
   "id": "8cc3e345",
   "metadata": {
    "hidden": true
   },
   "source": [
    "53 categorias"
   ]
  },
  {
   "cell_type": "code",
   "execution_count": 38,
   "id": "c664366d",
   "metadata": {
    "ExecuteTime": {
     "end_time": "2022-05-02T18:56:25.038305Z",
     "start_time": "2022-05-02T18:56:25.008554Z"
    },
    "hidden": true,
    "scrolled": true
   },
   "outputs": [
    {
     "data": {
      "text/plain": [
       "28.0    0.279284\n",
       "8.0     0.088846\n",
       "46.0    0.051755\n",
       "41.0    0.047992\n",
       "15.0    0.034857\n",
       "Name: Region_Code, dtype: float64"
      ]
     },
     "execution_count": 38,
     "metadata": {},
     "output_type": "execute_result"
    }
   ],
   "source": [
    "df['Region_Code'].value_counts(normalize=True).head(5)"
   ]
  },
  {
   "cell_type": "code",
   "execution_count": 39,
   "id": "21cd7502",
   "metadata": {
    "ExecuteTime": {
     "end_time": "2022-05-02T18:56:25.054254Z",
     "start_time": "2022-05-02T18:56:25.039296Z"
    },
    "hidden": true,
    "scrolled": true
   },
   "outputs": [
    {
     "data": {
      "text/plain": [
       "1.0     0.002638\n",
       "44.0    0.002082\n",
       "42.0    0.001545\n",
       "52.0    0.000697\n",
       "51.0    0.000472\n",
       "Name: Region_Code, dtype: float64"
      ]
     },
     "execution_count": 39,
     "metadata": {},
     "output_type": "execute_result"
    }
   ],
   "source": [
    "df['Region_Code'].value_counts(normalize=True).tail(5)"
   ]
  },
  {
   "cell_type": "code",
   "execution_count": 40,
   "id": "27b30daa",
   "metadata": {
    "ExecuteTime": {
     "end_time": "2022-05-02T18:56:25.070199Z",
     "start_time": "2022-05-02T18:56:25.056241Z"
    },
    "hidden": true
   },
   "outputs": [
    {
     "data": {
      "text/plain": [
       "0.5027347098233808"
      ]
     },
     "execution_count": 40,
     "metadata": {},
     "output_type": "execute_result"
    }
   ],
   "source": [
    "df['Region_Code'].value_counts(normalize=True).head(5).sum()"
   ]
  },
  {
   "cell_type": "markdown",
   "id": "4f8bad18",
   "metadata": {
    "hidden": true
   },
   "source": [
    "28% dos clientes está contido na região 28. 50% dos dados estão contidos nas 5 regiões mais densas."
   ]
  },
  {
   "cell_type": "code",
   "execution_count": 41,
   "id": "c9bac0be",
   "metadata": {
    "ExecuteTime": {
     "end_time": "2022-05-02T18:56:25.102343Z",
     "start_time": "2022-05-02T18:56:25.072191Z"
    },
    "hidden": true
   },
   "outputs": [
    {
     "data": {
      "text/html": [
       "<div>\n",
       "<style scoped>\n",
       "    .dataframe tbody tr th:only-of-type {\n",
       "        vertical-align: middle;\n",
       "    }\n",
       "\n",
       "    .dataframe tbody tr th {\n",
       "        vertical-align: top;\n",
       "    }\n",
       "\n",
       "    .dataframe thead th {\n",
       "        text-align: right;\n",
       "    }\n",
       "</style>\n",
       "<table border=\"1\" class=\"dataframe\">\n",
       "  <thead>\n",
       "    <tr style=\"text-align: right;\">\n",
       "      <th></th>\n",
       "      <th>Region_Code</th>\n",
       "      <th>Response</th>\n",
       "    </tr>\n",
       "  </thead>\n",
       "  <tbody>\n",
       "    <tr>\n",
       "      <th>38</th>\n",
       "      <td>38.0</td>\n",
       "      <td>0.192031</td>\n",
       "    </tr>\n",
       "    <tr>\n",
       "      <th>28</th>\n",
       "      <td>28.0</td>\n",
       "      <td>0.187037</td>\n",
       "    </tr>\n",
       "    <tr>\n",
       "      <th>19</th>\n",
       "      <td>19.0</td>\n",
       "      <td>0.160289</td>\n",
       "    </tr>\n",
       "    <tr>\n",
       "      <th>4</th>\n",
       "      <td>4.0</td>\n",
       "      <td>0.154412</td>\n",
       "    </tr>\n",
       "    <tr>\n",
       "      <th>51</th>\n",
       "      <td>51.0</td>\n",
       "      <td>0.154321</td>\n",
       "    </tr>\n",
       "  </tbody>\n",
       "</table>\n",
       "</div>"
      ],
      "text/plain": [
       "    Region_Code  Response\n",
       "38         38.0  0.192031\n",
       "28         28.0  0.187037\n",
       "19         19.0  0.160289\n",
       "4           4.0  0.154412\n",
       "51         51.0  0.154321"
      ]
     },
     "execution_count": 41,
     "metadata": {},
     "output_type": "execute_result"
    }
   ],
   "source": [
    "df.groupby('Region_Code', as_index=False).agg({'Response':'mean'}).sort_values('Response', ascending=False).head(5)"
   ]
  },
  {
   "cell_type": "code",
   "execution_count": 42,
   "id": "d514b117",
   "metadata": {
    "ExecuteTime": {
     "end_time": "2022-05-02T18:56:25.134305Z",
     "start_time": "2022-05-02T18:56:25.105351Z"
    },
    "hidden": true
   },
   "outputs": [
    {
     "data": {
      "text/html": [
       "<div>\n",
       "<style scoped>\n",
       "    .dataframe tbody tr th:only-of-type {\n",
       "        vertical-align: middle;\n",
       "    }\n",
       "\n",
       "    .dataframe tbody tr th {\n",
       "        vertical-align: top;\n",
       "    }\n",
       "\n",
       "    .dataframe thead th {\n",
       "        text-align: right;\n",
       "    }\n",
       "</style>\n",
       "<table border=\"1\" class=\"dataframe\">\n",
       "  <thead>\n",
       "    <tr style=\"text-align: right;\">\n",
       "      <th></th>\n",
       "      <th>Region_Code</th>\n",
       "      <th>Response</th>\n",
       "    </tr>\n",
       "  </thead>\n",
       "  <tbody>\n",
       "    <tr>\n",
       "      <th>22</th>\n",
       "      <td>22.0</td>\n",
       "      <td>0.064027</td>\n",
       "    </tr>\n",
       "    <tr>\n",
       "      <th>50</th>\n",
       "      <td>50.0</td>\n",
       "      <td>0.062616</td>\n",
       "    </tr>\n",
       "    <tr>\n",
       "      <th>10</th>\n",
       "      <td>10.0</td>\n",
       "      <td>0.060323</td>\n",
       "    </tr>\n",
       "    <tr>\n",
       "      <th>44</th>\n",
       "      <td>44.0</td>\n",
       "      <td>0.042017</td>\n",
       "    </tr>\n",
       "    <tr>\n",
       "      <th>25</th>\n",
       "      <td>25.0</td>\n",
       "      <td>0.040212</td>\n",
       "    </tr>\n",
       "  </tbody>\n",
       "</table>\n",
       "</div>"
      ],
      "text/plain": [
       "    Region_Code  Response\n",
       "22         22.0  0.064027\n",
       "50         50.0  0.062616\n",
       "10         10.0  0.060323\n",
       "44         44.0  0.042017\n",
       "25         25.0  0.040212"
      ]
     },
     "execution_count": 42,
     "metadata": {},
     "output_type": "execute_result"
    }
   ],
   "source": [
    "df.groupby('Region_Code', as_index=False).agg({'Response':'mean'}).sort_values('Response', ascending=False).tail(5)"
   ]
  },
  {
   "cell_type": "markdown",
   "id": "7abe33e3",
   "metadata": {
    "hidden": true
   },
   "source": [
    "As regiões com probabilidade de response mais alto estão com por volta de 19%, as regiões com probabilidades mais baixas estã em por volta de 4%"
   ]
  },
  {
   "cell_type": "code",
   "execution_count": 43,
   "id": "9fdd16df",
   "metadata": {
    "ExecuteTime": {
     "end_time": "2022-05-02T18:56:29.168663Z",
     "start_time": "2022-05-02T18:56:25.136300Z"
    },
    "hidden": true
   },
   "outputs": [
    {
     "data": {
      "image/png": "[encoded data removed]",
      "text/plain": [
       "<Figure size 1080x360 with 1 Axes>"
      ]
     },
     "metadata": {
      "needs_background": "light"
     },
     "output_type": "display_data"
    }
   ],
   "source": [
    "sns.catplot(x='Region_Code', y='Response', data=df, kind='bar', aspect=3)\n",
    "plt.title('Média de Response Segregado por Region Code')\n",
    "plt.xticks(range(0, int(df['Region_Code'].max()), 10))\n",
    "plt.ylabel('Média de Response');"
   ]
  },
  {
   "cell_type": "markdown",
   "id": "f1305296",
   "metadata": {
    "hidden": true
   },
   "source": [
    "Médias de response bastante distintas, com desvios padrões baixos"
   ]
  },
  {
   "cell_type": "markdown",
   "id": "971d0d26",
   "metadata": {
    "heading_collapsed": true,
    "hidden": true
   },
   "source": [
    "#### Vehicle_Age"
   ]
  },
  {
   "cell_type": "code",
   "execution_count": 45,
   "id": "ed3c8a65",
   "metadata": {
    "ExecuteTime": {
     "end_time": "2022-05-02T18:56:40.711125Z",
     "start_time": "2022-05-02T18:56:40.540025Z"
    },
    "hidden": true
   },
   "outputs": [
    {
     "data": {
      "text/plain": [
       "Policy_Sales_Channel    0.389101\n",
       "Previously_Insured      0.174124\n",
       "Driving_License         0.030301\n",
       "Annual_Premium          0.023246\n",
       "Vintage                 0.001969\n",
       "id                     -0.000487\n",
       "Region_Code            -0.027203\n",
       "Response               -0.103266\n",
       "le_gender              -0.112895\n",
       "le_vehicle_damage      -0.173291\n",
       "Age                    -0.522096\n",
       "Name: le_vehicle_age, dtype: float64"
      ]
     },
     "execution_count": 45,
     "metadata": {},
     "output_type": "execute_result"
    }
   ],
   "source": [
    "df.corr()['le_vehicle_age'].sort_values(ascending=False)[1:]"
   ]
  },
  {
   "cell_type": "markdown",
   "id": "cdd57499",
   "metadata": {
    "hidden": true
   },
   "source": [
    "Correlação moderada negativa com Age, fraca positiva com Policy_Sales_Channel"
   ]
  },
  {
   "cell_type": "code",
   "execution_count": 46,
   "id": "4c6f419b",
   "metadata": {
    "ExecuteTime": {
     "end_time": "2022-05-02T18:56:40.743024Z",
     "start_time": "2022-05-02T18:56:40.713119Z"
    },
    "hidden": true
   },
   "outputs": [
    {
     "data": {
      "text/plain": [
       "1-2 Year     0.525971\n",
       "< 1 Year     0.431962\n",
       "> 2 Years    0.042067\n",
       "Name: Vehicle_Age, dtype: float64"
      ]
     },
     "execution_count": 46,
     "metadata": {},
     "output_type": "execute_result"
    }
   ],
   "source": [
    "df['Vehicle_Age'].value_counts(normalize=True)"
   ]
  },
  {
   "cell_type": "code",
   "execution_count": 47,
   "id": "bcbf8fd0",
   "metadata": {
    "ExecuteTime": {
     "end_time": "2022-05-02T18:56:45.205785Z",
     "start_time": "2022-05-02T18:56:40.744016Z"
    },
    "hidden": true
   },
   "outputs": [
    {
     "data": {
      "image/png": "[encoded data removed]",
      "text/plain": [
       "<Figure size 360x360 with 1 Axes>"
      ]
     },
     "metadata": {
      "needs_background": "light"
     },
     "output_type": "display_data"
    }
   ],
   "source": [
    "sns.catplot(x='Vehicle_Age', y='Response', data=df, kind='bar')\n",
    "plt.ylabel('Média de Response')\n",
    "plt.title('Média de Response Segregado por Vehicle Age');"
   ]
  },
  {
   "cell_type": "markdown",
   "id": "354363aa",
   "metadata": {
    "hidden": true
   },
   "source": [
    "Médias de response bastante distintas"
   ]
  },
  {
   "cell_type": "markdown",
   "id": "0dbf027f",
   "metadata": {
    "heading_collapsed": true,
    "hidden": true
   },
   "source": [
    "#### Vehicle_Damage"
   ]
  },
  {
   "cell_type": "code",
   "execution_count": 48,
   "id": "36dc9362",
   "metadata": {
    "ExecuteTime": {
     "end_time": "2022-05-02T18:56:45.362174Z",
     "start_time": "2022-05-02T18:56:45.208769Z"
    },
    "hidden": true
   },
   "outputs": [
    {
     "data": {
      "text/plain": [
       "Response                0.354208\n",
       "Age                     0.266328\n",
       "le_gender               0.092131\n",
       "Region_Code             0.027944\n",
       "Annual_Premium          0.009737\n",
       "id                     -0.001506\n",
       "Vintage                -0.001888\n",
       "Driving_License        -0.017120\n",
       "le_vehicle_age         -0.173291\n",
       "Policy_Sales_Channel   -0.223590\n",
       "Previously_Insured     -0.824160\n",
       "Name: le_vehicle_damage, dtype: float64"
      ]
     },
     "execution_count": 48,
     "metadata": {},
     "output_type": "execute_result"
    }
   ],
   "source": [
    "df.corr()['le_vehicle_damage'].sort_values(ascending=False)[1:]"
   ]
  },
  {
   "cell_type": "markdown",
   "id": "8b76890b",
   "metadata": {
    "hidden": true
   },
   "source": [
    "Correlação muito forte negativa com Previously_Insured, fraca negativa com Policy_Sales_Channel, fraca positiva com Response e Age"
   ]
  },
  {
   "cell_type": "code",
   "execution_count": 49,
   "id": "97d1f562",
   "metadata": {
    "ExecuteTime": {
     "end_time": "2022-05-02T18:56:45.394008Z",
     "start_time": "2022-05-02T18:56:45.363112Z"
    },
    "hidden": true,
    "scrolled": true
   },
   "outputs": [
    {
     "data": {
      "text/plain": [
       "Yes    0.50507\n",
       "No     0.49493\n",
       "Name: Vehicle_Damage, dtype: float64"
      ]
     },
     "execution_count": 49,
     "metadata": {},
     "output_type": "execute_result"
    }
   ],
   "source": [
    "df['Vehicle_Damage'].value_counts(normalize=True)"
   ]
  },
  {
   "cell_type": "code",
   "execution_count": 50,
   "id": "31153637",
   "metadata": {
    "ExecuteTime": {
     "end_time": "2022-05-02T18:56:49.566036Z",
     "start_time": "2022-05-02T18:56:45.396001Z"
    },
    "hidden": true,
    "scrolled": false
   },
   "outputs": [
    {
     "data": {
      "image/png": "[encoded data removed]",
      "text/plain": [
       "<Figure size 360x360 with 1 Axes>"
      ]
     },
     "metadata": {
      "needs_background": "light"
     },
     "output_type": "display_data"
    }
   ],
   "source": [
    "sns.catplot(x='Vehicle_Damage', y='Response', data=df, kind='bar')\n",
    "plt.title('Média de Response Segregado por Vehicle Damage')\n",
    "plt.ylabel('Média de Response');"
   ]
  },
  {
   "cell_type": "code",
   "execution_count": 51,
   "id": "59716533",
   "metadata": {
    "ExecuteTime": {
     "end_time": "2022-05-02T18:56:49.630152Z",
     "start_time": "2022-05-02T18:56:49.567993Z"
    },
    "hidden": true
   },
   "outputs": [
    {
     "name": "stdout",
     "output_type": "stream",
     "text": [
      "Clientes que já tiveram danos tem: 23.75% de response\n",
      "Clientes que NÃO tiveram danos tem: 0.52% de response\n"
     ]
    }
   ],
   "source": [
    "print(f'Clientes que já tiveram danos tem: {round(df.loc[df[\"Vehicle_Damage\"]==\"Yes\", \"Response\"].mean()*100, 2)}% de response')\n",
    "print(f'Clientes que NÃO tiveram danos tem: {round(df.loc[df[\"Vehicle_Damage\"]==\"No\", \"Response\"].mean()*100, 2)}% de response')"
   ]
  },
  {
   "cell_type": "markdown",
   "id": "401421eb",
   "metadata": {
    "hidden": true
   },
   "source": [
    "Clientes que já tiveram danos no seu veículo tem 24% de response, enquanto clientes que não tiveram danos têm por volta de 1%"
   ]
  },
  {
   "cell_type": "markdown",
   "id": "383d1861",
   "metadata": {
    "heading_collapsed": true,
    "hidden": true
   },
   "source": [
    "#### Annual_Premium"
   ]
  },
  {
   "cell_type": "code",
   "execution_count": 52,
   "id": "8acba85d",
   "metadata": {
    "ExecuteTime": {
     "end_time": "2022-05-02T18:56:49.755654Z",
     "start_time": "2022-05-02T18:56:49.632020Z"
    },
    "hidden": true
   },
   "outputs": [
    {
     "data": {
      "image/png": "[encoded data removed]",
      "text/plain": [
       "<Figure size 432x288 with 1 Axes>"
      ]
     },
     "metadata": {
      "needs_background": "light"
     },
     "output_type": "display_data"
    }
   ],
   "source": [
    "sns.boxplot(x='Annual_Premium', data=df)\n",
    "plt.title('Quartis de Annual Premium');"
   ]
  },
  {
   "cell_type": "markdown",
   "id": "fc09efe2",
   "metadata": {
    "hidden": true
   },
   "source": [
    "Muitos outliers"
   ]
  },
  {
   "cell_type": "code",
   "execution_count": 53,
   "id": "fd047405",
   "metadata": {
    "ExecuteTime": {
     "end_time": "2022-05-02T18:56:49.771615Z",
     "start_time": "2022-05-02T18:56:49.757655Z"
    },
    "hidden": true
   },
   "outputs": [
    {
     "name": "stdout",
     "output_type": "stream",
     "text": [
      "Há 1884 outliers no total\n"
     ]
    }
   ],
   "source": [
    "índices, li, ls = buscar_outlier(df, 'Annual_Premium')\n",
    "\n",
    "print(f'Há {len(índices)} outliers no total')"
   ]
  },
  {
   "cell_type": "code",
   "execution_count": 54,
   "id": "1c980a02",
   "metadata": {
    "ExecuteTime": {
     "end_time": "2022-05-02T18:56:49.977818Z",
     "start_time": "2022-05-02T18:56:49.775541Z"
    },
    "hidden": true
   },
   "outputs": [
    {
     "data": {
      "text/plain": [
       "Age                     0.068398\n",
       "le_vehicle_age          0.023246\n",
       "Response                0.022522\n",
       "le_vehicle_damage       0.009737\n",
       "id                      0.003796\n",
       "Previously_Insured      0.003770\n",
       "le_gender               0.003357\n",
       "Vintage                -0.001139\n",
       "Region_Code            -0.011024\n",
       "Driving_License        -0.012929\n",
       "Policy_Sales_Channel   -0.113625\n",
       "Name: Annual_Premium, dtype: float64"
      ]
     },
     "execution_count": 54,
     "metadata": {},
     "output_type": "execute_result"
    }
   ],
   "source": [
    "df.corr()['Annual_Premium'].sort_values(ascending=False)[1:]"
   ]
  },
  {
   "cell_type": "markdown",
   "id": "427caf73",
   "metadata": {
    "hidden": true
   },
   "source": [
    "Correlações muito fracas"
   ]
  },
  {
   "cell_type": "code",
   "execution_count": 55,
   "id": "8dc53c76",
   "metadata": {
    "ExecuteTime": {
     "end_time": "2022-05-02T18:56:50.296709Z",
     "start_time": "2022-05-02T18:56:49.979745Z"
    },
    "hidden": true
   },
   "outputs": [
    {
     "data": {
      "image/png": "[encoded data removed]",
      "text/plain": [
       "<Figure size 432x288 with 1 Axes>"
      ]
     },
     "metadata": {
      "needs_background": "light"
     },
     "output_type": "display_data"
    }
   ],
   "source": [
    "sns.histplot(df.drop(índices)['Annual_Premium'], bins=20)\n",
    "plt.title('Distribuição de Annual Premium');"
   ]
  },
  {
   "cell_type": "code",
   "execution_count": 56,
   "id": "6061896b",
   "metadata": {
    "ExecuteTime": {
     "end_time": "2022-05-02T18:56:50.343953Z",
     "start_time": "2022-05-02T18:56:50.298680Z"
    },
    "hidden": true
   },
   "outputs": [
    {
     "data": {
      "text/plain": [
       "2630.0     0.170080\n",
       "69856.0    0.000356\n",
       "39008.0    0.000108\n",
       "43707.0    0.000105\n",
       "45179.0    0.000102\n",
       "Name: Annual_Premium, dtype: float64"
      ]
     },
     "execution_count": 56,
     "metadata": {},
     "output_type": "execute_result"
    }
   ],
   "source": [
    "df['Annual_Premium'].value_counts(normalize=True).head(5)"
   ]
  },
  {
   "cell_type": "markdown",
   "id": "55ce93bc",
   "metadata": {
    "hidden": true
   },
   "source": [
    "17% dos clientes estão contidos em um valor discreto de 2630 dollares. Um estudo separadamente para este grupo pode ser interessante."
   ]
  },
  {
   "cell_type": "code",
   "execution_count": 57,
   "id": "0bfa1a9f",
   "metadata": {
    "ExecuteTime": {
     "end_time": "2022-05-02T18:56:50.375881Z",
     "start_time": "2022-05-02T18:56:50.345948Z"
    },
    "hidden": true
   },
   "outputs": [
    {
     "name": "stdout",
     "output_type": "stream",
     "text": [
      "A média de interesse no produto do grupo de clientes com valor FIXO de seguro: 13.08%\n",
      "A média de interesse no produto do grupo de clientes com valor VARIÁVEL SUPERIOR de seguro: 12.08%\n"
     ]
    }
   ],
   "source": [
    "print(f'A média de interesse no produto do grupo de clientes com valor FIXO de seguro: {round(df.loc[df[\"Annual_Premium\"]==2630, \"Response\"].mean()*100, 2)}%')\n",
    "print(f'A média de interesse no produto do grupo de clientes com valor VARIÁVEL SUPERIOR de seguro: {round(df.loc[df[\"Annual_Premium\"]!=2630, \"Response\"].mean()*100, 2)}%')"
   ]
  },
  {
   "cell_type": "markdown",
   "id": "c953c0dd",
   "metadata": {
    "hidden": true
   },
   "source": [
    "O interesse no produto não é significativamente diferente entre os dois grupos de clientes"
   ]
  },
  {
   "cell_type": "markdown",
   "id": "65122375",
   "metadata": {
    "hidden": true
   },
   "source": [
    "Para uma melhor visualização, os dados serão filtrados provisioriamente até 100000 dollares"
   ]
  },
  {
   "cell_type": "code",
   "execution_count": 58,
   "id": "6776dc47",
   "metadata": {
    "ExecuteTime": {
     "end_time": "2022-05-02T18:56:52.201771Z",
     "start_time": "2022-05-02T18:56:50.378758Z"
    },
    "hidden": true
   },
   "outputs": [
    {
     "data": {
      "image/png": "[encoded data removed]",
      "text/plain": [
       "<Figure size 432x288 with 2 Axes>"
      ]
     },
     "metadata": {
      "needs_background": "light"
     },
     "output_type": "display_data"
    }
   ],
   "source": [
    "temp = df.loc[(df['Annual_Premium']>2630)&(df['Annual_Premium']<100000)]\n",
    "\n",
    "plt.subplot(2, 1, 1)\n",
    "plt.title('Distribuição e Densidade de Annual Premium Segregado por Response')\n",
    "g = sns.histplot(temp.loc[temp['Response']==0, 'Annual_Premium'], color='r', alpha=0.5, bins=20)\n",
    "g = sns.histplot(temp.loc[temp['Response']==1, 'Annual_Premium'], color='b', alpha=0.5, bins=20)\n",
    "plt.subplot(2, 1, 2)\n",
    "g = sns.kdeplot(temp.loc[temp['Response']==0, 'Annual_Premium'], color='r', alpha=0.5)\n",
    "g = sns.kdeplot(temp.loc[temp['Response']==1, 'Annual_Premium'], color='b', alpha=0.5)"
   ]
  },
  {
   "cell_type": "markdown",
   "id": "bca70a9c",
   "metadata": {
    "hidden": true
   },
   "source": [
    "Aparentemente acima do terceiro quartil da distribuição há um interesse maior no produto"
   ]
  },
  {
   "cell_type": "code",
   "execution_count": 59,
   "id": "c2434ca9",
   "metadata": {
    "ExecuteTime": {
     "end_time": "2022-05-02T18:56:52.391439Z",
     "start_time": "2022-05-02T18:56:52.202802Z"
    },
    "hidden": true
   },
   "outputs": [
    {
     "data": {
      "image/png": "[encoded data removed]",
      "text/plain": [
       "<Figure size 432x288 with 1 Axes>"
      ]
     },
     "metadata": {
      "needs_background": "light"
     },
     "output_type": "display_data"
    }
   ],
   "source": [
    "plt.title('Média de Annual Premium Segregados por Response')\n",
    "sns.boxplot(x='Response', y='Annual_Premium', data=temp);"
   ]
  },
  {
   "cell_type": "markdown",
   "id": "1466edcb",
   "metadata": {
    "hidden": true
   },
   "source": [
    "Sem diferença significativa"
   ]
  },
  {
   "cell_type": "markdown",
   "id": "77a08712",
   "metadata": {
    "heading_collapsed": true,
    "hidden": true
   },
   "source": [
    "#### Policy_Sales_Channel"
   ]
  },
  {
   "cell_type": "code",
   "execution_count": 60,
   "id": "0834dc75",
   "metadata": {
    "ExecuteTime": {
     "end_time": "2022-05-02T18:56:52.563405Z",
     "start_time": "2022-05-02T18:56:52.393436Z"
    },
    "hidden": true,
    "scrolled": true
   },
   "outputs": [
    {
     "data": {
      "text/plain": [
       "le_vehicle_age        0.389101\n",
       "Previously_Insured    0.218625\n",
       "Driving_License       0.043325\n",
       "Vintage              -0.000020\n",
       "id                   -0.003618\n",
       "Region_Code          -0.043353\n",
       "le_gender            -0.111195\n",
       "Annual_Premium       -0.113625\n",
       "Response             -0.139720\n",
       "le_vehicle_damage    -0.223590\n",
       "Age                  -0.577608\n",
       "Name: Policy_Sales_Channel, dtype: float64"
      ]
     },
     "execution_count": 60,
     "metadata": {},
     "output_type": "execute_result"
    }
   ],
   "source": [
    "df.corr()['Policy_Sales_Channel'].sort_values(ascending=False)[1:]"
   ]
  },
  {
   "cell_type": "markdown",
   "id": "b1017e3d",
   "metadata": {
    "hidden": true
   },
   "source": [
    "Correlação moderada negativa com Age, correlação fraca negativa com Vehicle_Damage, correlação fraca positiva com Vehicle_Age e Previously_Insured"
   ]
  },
  {
   "cell_type": "code",
   "execution_count": 61,
   "id": "79cb9ba9",
   "metadata": {
    "ExecuteTime": {
     "end_time": "2022-05-02T18:56:52.578358Z",
     "start_time": "2022-05-02T18:56:52.564422Z"
    },
    "hidden": true,
    "scrolled": true
   },
   "outputs": [
    {
     "data": {
      "text/plain": [
       "152.0    0.353509\n",
       "26.0     0.209269\n",
       "124.0    0.194307\n",
       "160.0    0.057196\n",
       "156.0    0.027974\n",
       "Name: Policy_Sales_Channel, dtype: float64"
      ]
     },
     "execution_count": 61,
     "metadata": {},
     "output_type": "execute_result"
    }
   ],
   "source": [
    "df['Policy_Sales_Channel'].value_counts(normalize=True).head(5)"
   ]
  },
  {
   "cell_type": "code",
   "execution_count": 62,
   "id": "a425764d",
   "metadata": {
    "ExecuteTime": {
     "end_time": "2022-05-02T18:56:52.609275Z",
     "start_time": "2022-05-02T18:56:52.581348Z"
    },
    "hidden": true
   },
   "outputs": [],
   "source": [
    "canais_mais_utilizados = df['Policy_Sales_Channel'].value_counts(normalize=True).head(5).index"
   ]
  },
  {
   "cell_type": "code",
   "execution_count": 63,
   "id": "febe78e3",
   "metadata": {
    "ExecuteTime": {
     "end_time": "2022-05-02T18:56:52.624239Z",
     "start_time": "2022-05-02T18:56:52.612268Z"
    },
    "hidden": true
   },
   "outputs": [
    {
     "name": "stdout",
     "output_type": "stream",
     "text": [
      "5 categorias contém 84.23% do total de clientes\n"
     ]
    }
   ],
   "source": [
    "print(f'5 categorias contém {round(df[\"Policy_Sales_Channel\"].value_counts(normalize=True).head(5).sum()*100, 2)}% do total de clientes')"
   ]
  },
  {
   "cell_type": "code",
   "execution_count": 64,
   "id": "f787b51e",
   "metadata": {
    "ExecuteTime": {
     "end_time": "2022-05-02T18:56:59.146360Z",
     "start_time": "2022-05-02T18:56:52.626221Z"
    },
    "hidden": true,
    "scrolled": false
   },
   "outputs": [
    {
     "data": {
      "image/png": "[encoded data removed]",
      "text/plain": [
       "<Figure size 1080x360 with 1 Axes>"
      ]
     },
     "metadata": {
      "needs_background": "light"
     },
     "output_type": "display_data"
    }
   ],
   "source": [
    "sns.catplot(x='Policy_Sales_Channel', y='Response', data=df, kind='bar', aspect=3)\n",
    "plt.xticks(range(0, int(df['Policy_Sales_Channel'].max()), 10))\n",
    "plt.title('Média de Response Segregada por Policy Sales Channel')\n",
    "plt.ylabel('Média de Response');"
   ]
  },
  {
   "cell_type": "markdown",
   "id": "1c634ebd",
   "metadata": {
    "hidden": true
   },
   "source": [
    "Médias de response por canais de Policy_Sales_Channel bastante distintas"
   ]
  },
  {
   "cell_type": "code",
   "execution_count": 65,
   "id": "92a4c4d7",
   "metadata": {
    "ExecuteTime": {
     "end_time": "2022-05-02T18:56:59.209146Z",
     "start_time": "2022-05-02T18:56:59.148338Z"
    },
    "hidden": true
   },
   "outputs": [
    {
     "data": {
      "text/html": [
       "<div>\n",
       "<style scoped>\n",
       "    .dataframe tbody tr th:only-of-type {\n",
       "        vertical-align: middle;\n",
       "    }\n",
       "\n",
       "    .dataframe tbody tr th {\n",
       "        vertical-align: top;\n",
       "    }\n",
       "\n",
       "    .dataframe thead th {\n",
       "        text-align: right;\n",
       "    }\n",
       "</style>\n",
       "<table border=\"1\" class=\"dataframe\">\n",
       "  <thead>\n",
       "    <tr style=\"text-align: right;\">\n",
       "      <th></th>\n",
       "      <th>Policy_Sales_Channel</th>\n",
       "      <th>Response_Count</th>\n",
       "      <th>Response_Mean</th>\n",
       "    </tr>\n",
       "  </thead>\n",
       "  <tbody>\n",
       "    <tr>\n",
       "      <th>144</th>\n",
       "      <td>152.0</td>\n",
       "      <td>121253</td>\n",
       "      <td>0.028725</td>\n",
       "    </tr>\n",
       "    <tr>\n",
       "      <th>24</th>\n",
       "      <td>26.0</td>\n",
       "      <td>71779</td>\n",
       "      <td>0.200017</td>\n",
       "    </tr>\n",
       "    <tr>\n",
       "      <th>119</th>\n",
       "      <td>124.0</td>\n",
       "      <td>66647</td>\n",
       "      <td>0.188531</td>\n",
       "    </tr>\n",
       "    <tr>\n",
       "      <th>152</th>\n",
       "      <td>160.0</td>\n",
       "      <td>19618</td>\n",
       "      <td>0.021562</td>\n",
       "    </tr>\n",
       "    <tr>\n",
       "      <th>148</th>\n",
       "      <td>156.0</td>\n",
       "      <td>9595</td>\n",
       "      <td>0.214070</td>\n",
       "    </tr>\n",
       "  </tbody>\n",
       "</table>\n",
       "</div>"
      ],
      "text/plain": [
       "     Policy_Sales_Channel  Response_Count  Response_Mean\n",
       "144                 152.0          121253       0.028725\n",
       "24                   26.0           71779       0.200017\n",
       "119                 124.0           66647       0.188531\n",
       "152                 160.0           19618       0.021562\n",
       "148                 156.0            9595       0.214070"
      ]
     },
     "execution_count": 65,
     "metadata": {},
     "output_type": "execute_result"
    }
   ],
   "source": [
    "temp = df.groupby('Policy_Sales_Channel', as_index=False).agg({'Response':'count'})\n",
    "temp.rename(columns={'Response':'Response_Count'}, inplace=True)\n",
    "\n",
    "temp2 = df.groupby('Policy_Sales_Channel', as_index=False).agg({'Response':'mean'})\n",
    "temp2.rename(columns={'Response':'Response_Mean'}, inplace=True)\n",
    "\n",
    "temp3 = temp.merge(temp2, how='left', on='Policy_Sales_Channel')\n",
    "temp3.sort_values('Response_Count', ascending=False).head(5)"
   ]
  },
  {
   "cell_type": "markdown",
   "id": "98513f29",
   "metadata": {
    "hidden": true
   },
   "source": [
    "Os canais mais utilizados apresentam médias de response bastante diferentes da média global, os canal 152 é o mais utilizado e apresenta 2% de interesse no produto, o canal 155 apresenta 2%, já os canais 26, 124 e 156 apresentam por volta de 20% de interesse no produto"
   ]
  },
  {
   "cell_type": "markdown",
   "id": "4026bd69",
   "metadata": {
    "heading_collapsed": true,
    "hidden": true
   },
   "source": [
    "#### Vintage"
   ]
  },
  {
   "cell_type": "code",
   "execution_count": 66,
   "id": "d3bc9f30",
   "metadata": {
    "ExecuteTime": {
     "end_time": "2022-05-02T18:56:59.367213Z",
     "start_time": "2022-05-02T18:56:59.210134Z"
    },
    "hidden": true
   },
   "outputs": [
    {
     "data": {
      "text/plain": [
       "Previously_Insured      0.002548\n",
       "le_vehicle_age          0.001969\n",
       "Policy_Sales_Channel   -0.000020\n",
       "id                     -0.000251\n",
       "Driving_License        -0.000672\n",
       "Age                    -0.000906\n",
       "Annual_Premium         -0.001139\n",
       "Response               -0.001163\n",
       "le_vehicle_damage      -0.001888\n",
       "le_gender              -0.002249\n",
       "Region_Code            -0.003537\n",
       "Name: Vintage, dtype: float64"
      ]
     },
     "execution_count": 66,
     "metadata": {},
     "output_type": "execute_result"
    }
   ],
   "source": [
    "df.corr()['Vintage'].sort_values(ascending=False)[1:]"
   ]
  },
  {
   "cell_type": "markdown",
   "id": "4745a8e9",
   "metadata": {
    "hidden": true
   },
   "source": [
    "Correlações muito fracas"
   ]
  },
  {
   "cell_type": "code",
   "execution_count": 67,
   "id": "03cf74d1",
   "metadata": {
    "ExecuteTime": {
     "end_time": "2022-05-02T18:57:09.268162Z",
     "start_time": "2022-05-02T18:56:59.370142Z"
    },
    "hidden": true,
    "scrolled": false
   },
   "outputs": [
    {
     "data": {
      "image/png": "[encoded data removed]",
      "text/plain": [
       "<Figure size 1080x360 with 1 Axes>"
      ]
     },
     "metadata": {
      "needs_background": "light"
     },
     "output_type": "display_data"
    }
   ],
   "source": [
    "sns.catplot(x='Vintage', y='Response', data=df, kind='bar', aspect=3)\n",
    "plt.title('Média de Response Segregado por Vintage')\n",
    "plt.ylabel('Média de Response')\n",
    "plt.xticks(range(0, df['Vintage'].max(), 20));"
   ]
  },
  {
   "cell_type": "markdown",
   "id": "d54e8098",
   "metadata": {
    "hidden": true
   },
   "source": [
    "Muito ruidoso, os desvios padrões colocam tudo no mesmo nível."
   ]
  },
  {
   "cell_type": "markdown",
   "id": "9cffaee2",
   "metadata": {},
   "source": [
    "## 5.3 Bivariate Analysis"
   ]
  },
  {
   "cell_type": "code",
   "execution_count": null,
   "id": "d2e2a1d7",
   "metadata": {},
   "outputs": [],
   "source": []
  },
  {
   "cell_type": "markdown",
   "id": "c24a6e93",
   "metadata": {},
   "source": [
    "## 5.4 Multivariate Analysis"
   ]
  },
  {
   "cell_type": "code",
   "execution_count": null,
   "id": "00248411",
   "metadata": {},
   "outputs": [],
   "source": []
  },
  {
   "cell_type": "markdown",
   "id": "f8af98fa",
   "metadata": {},
   "source": [
    "# 6.0 Exportings"
   ]
  },
  {
   "cell_type": "code",
   "execution_count": 68,
   "id": "02359b0a",
   "metadata": {
    "ExecuteTime": {
     "end_time": "2022-05-02T18:57:09.362936Z",
     "start_time": "2022-05-02T18:57:09.271153Z"
    }
   },
   "outputs": [],
   "source": [
    "# test\n",
    "pickle.dump(test, open('D:\\\\My Drive\\\\Pessoal\\\\Projetos\\\\insurance_sales_predict\\\\insurance_sales_predict\\\\data\\\\raw\\\\test.pkl', 'wb'))\n",
    "\n",
    "# dataframe\n",
    "pickle.dump(df, open('D:\\\\My Drive\\\\Pessoal\\\\Projetos\\\\insurance_sales_predict\\\\insurance_sales_predict\\\\data\\\\interim\\\\df_to_data_preparation.pkl', 'wb'))\n",
    "\n",
    "# encodings\n",
    "pickle.dump(le_gender, open('D:\\\\My Drive\\\\Pessoal\\\\Projetos\\\\insurance_sales_predict\\\\webapp\\\\le_gender.pkl', 'wb'))\n",
    "pickle.dump(le_gender, open('D:\\\\My Drive\\\\Pessoal\\\\Projetos\\\\insurance_sales_predict\\\\insurance_sales_predict\\\\src\\\\features\\\\le_gender.pkl', 'wb'))\n",
    "\n",
    "pickle.dump(le_vehicle_damage, open('D:\\\\My Drive\\\\Pessoal\\\\Projetos\\\\insurance_sales_predict\\\\webapp\\\\le_vehicle_damage.pkl', 'wb'))\n",
    "pickle.dump(le_vehicle_damage, open('D:\\\\My Drive\\\\Pessoal\\\\Projetos\\\\insurance_sales_predict\\\\insurance_sales_predict\\\\src\\\\features\\\\le_vehicle_damage.pkl', 'wb'))\n",
    "\n",
    "pickle.dump(le_vehicle_age, open('D:\\\\My Drive\\\\Pessoal\\\\Projetos\\\\insurance_sales_predict\\\\webapp\\\\le_vehicle_age.pkl', 'wb'))\n",
    "pickle.dump(le_vehicle_age, open('D:\\\\My Drive\\\\Pessoal\\\\Projetos\\\\insurance_sales_predict\\\\insurance_sales_predict\\\\src\\\\features\\\\le_vehicle_age.pkl', 'wb'))"
   ]
  },
  {
   "cell_type": "markdown",
   "id": "fb9a5ad7",
   "metadata": {},
   "source": [
    "# Time"
   ]
  },
  {
   "cell_type": "code",
   "execution_count": 69,
   "id": "300c6a83",
   "metadata": {
    "ExecuteTime": {
     "end_time": "2022-05-02T18:57:09.377926Z",
     "start_time": "2022-05-02T18:57:09.364972Z"
    },
    "scrolled": true
   },
   "outputs": [
    {
     "name": "stdout",
     "output_type": "stream",
     "text": [
      "O tempo de processamento do projeto foi de: 1 minutos\n"
     ]
    }
   ],
   "source": [
    "print(f'O tempo de processamento do projeto foi de: {int(round(time.time()-time_agora, 2)/60)} minutos')"
   ]
  }
 ],
 "metadata": {
  "kernelspec": {
   "display_name": "Python 3 (ipykernel)",
   "language": "python",
   "name": "python3"
  },
  "language_info": {
   "codemirror_mode": {
    "name": "ipython",
    "version": 3
   },
   "file_extension": ".py",
   "mimetype": "text/x-python",
   "name": "python",
   "nbconvert_exporter": "python",
   "pygments_lexer": "ipython3",
   "version": "3.9.7"
  }
 },
 "nbformat": 4,
 "nbformat_minor": 5
}
