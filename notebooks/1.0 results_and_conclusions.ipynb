{
 "cells": [
  {
   "cell_type": "markdown",
   "id": "f5f22930",
   "metadata": {
    "heading_collapsed": true
   },
   "source": [
    "# Reports\n",
    "1. Inputs: analytics and metrics\n",
    "2. Outputs: results and conclusions\n",
    "3. ...\n",
    "\n",
    "**API de requests para predições hospedada no Heroku através do link:**\n",
    "\n",
    "https://insurance-sales-predict.herokuapp.com/predict\n",
    "\n",
    "Orientações para o request: \n",
    "1. Dataframe raw integral contendo index e Response (deve conter Response apenas por conta de estudos de métricas)\n",
    "2. Mínimo de duas amostras\n",
    "3. Formato json com orient do tipo records"
   ]
  },
  {
   "cell_type": "markdown",
   "id": "f6e57a7b",
   "metadata": {
    "hidden": true
   },
   "source": [
    "**API de requests de predições hospedada no Heroku através do link** - \n",
    "\n",
    "https://insurance-sales-predict.herokuapp.com/predict\n",
    "\n",
    "Orientações para o request: \n",
    "1. Dataframe raw integral contendo index e response (apenas para estudo)\n",
    "2. Mínimo de duas amostras\n",
    "3. Formato json com orient do tipo records"
   ]
  },
  {
   "cell_type": "markdown",
   "id": "b67db67d",
   "metadata": {
    "heading_collapsed": true
   },
   "source": [
    "# 1.0 Context"
   ]
  },
  {
   "cell_type": "markdown",
   "id": "51af2a17",
   "metadata": {
    "heading_collapsed": true,
    "hidden": true
   },
   "source": [
    "## 1.1 Contexto:\n",
    "A Insurance All é uma empresa que fornece seguro de saúde para seus clientes e o time de produtos está analisando a possibilidade de oferecer aos assegurados, um novo produto: Um seguro de automóveis.\n",
    "\n",
    "Assim como o seguro de saúde, os clientes desse novo plano de seguro de automóveis precisam pagar um valor anualmente à Insurance All para obter um valor assegurado pela empresa, destinado aos custos de um eventual acidente ou dano ao veículo.\n",
    "\n",
    "A Insurance All fez uma pesquisa com cerca de 380 mil clientes sobre o interesse em aderir a um novo produto de seguro de automóveis, no ano passado. Todos os clientes demonstraram interesse ou não em adquirir o seguro de automóvel e essas respostas ficaram salvas em um banco de dados junto com outros atributos dos clientes.\n",
    "\n",
    "O time de produtos selecionou 127 mil novos clientes que não responderam a pesquisa para participar de uma campanha, no qual receberão a oferta do novo produto de seguro de automóveis. A oferta será feita pelo time de vendas através de ligações telefônicas.\n",
    "\n",
    "Projeto retirado do Blog Seja Um Data Scientist\n",
    "https://sejaumdatascientist.com/como-usar-data-science-para-fazer-a-empresa-vender-mais/\n",
    "\n",
    "Projeto original disponível na plataforma Kaggle\n",
    "https://www.kaggle.com/anmolkumar/health-insurance-cross-sell-prediction\n",
    "\n",
    "\n",
    "## 1.2 Estratégia da Solução:\n",
    "\n",
    "###### 1.2.1 Objetivos:\n",
    "1. Principais Insights sobre os atributos mais relevantes de clientes interessados em adquirir um seguro de automóvel.\n",
    "2. Qual a porcentagem de clientes interessados em adquirir um seguro de automóvel, o time de vendas conseguirá contatar fazendo 20.000 ligações?\n",
    "3. E se a capacidade do time de vendas aumentar para 40.000 ligações, qual a porcentagem de clientes interessados em adquirir um seguro de automóvel o time de vendas conseguirá contatar?\n",
    "4. Quantas ligações o time de vendas precisa fazer para contatar 80% dos clientes interessados em adquirir um seguro de automóvel?\n",
    "\n",
    "###### 1.2.2 Proposta de Solução:\n",
    "1. Gráficos e estudos de como as features se relacionam com a variávei alvo, individualmente ou combinadas através de Exploratory Data Analysis e Descriptive Statistics.\n",
    "2. Treinar um modelo de Machine Learning, scorar os clientes, priorizar os clientes segundo suas probabilidades de sucesso, utilizar das métricas para criar cenários com os 20.000 melhores.\n",
    "3. Utilizar do modelo anterior e criar cenários com os 40.000 melhores.\n",
    "4. Utilizar do modelo anterior, definir curva de probabilidades para todos os clientes e identificar ponto crítico.\n",
    "5. Fazer deploy e disponibilizar online através do Heroku\n",
    "\n",
    "###### 1.2.3 Inputs:\n",
    "1. Problema de negócio\n",
    "2. Conjunto de dados com características de 380.000 clientes e as suas respostas sobre interesse em adquirir um seguro de automóveis.\n",
    "\n",
    "###### 1.2.4 Outputs:\n",
    "1. Gráficos e parâmetros em uma tabela no notebook (Gráfico / Parâmetros)\n",
    "2. Resposta objetiva em um notebook (Uma porcentagem)\n",
    "3. Resposta objetiva em um notebook (Uma porcentagem)\n",
    "4. Resposta objetiva em um notebook (Um número absoluto)\n",
    "5. Tabela de banco de dados SQL com todas as classificações\n",
    "6. API com request/predict do tipo: | v1 | v2 | v3 | vn - 1/0\n",
    "\n",
    "###### 1.2.5 Ciclos:\n",
    "1. Pipeline de dados, funcional, de ponta a ponta (desde a coleta de dados até o \n",
    "    treinamento do modelo)\n",
    "2. Entender os dados e limpa-los (buscar inconsistências) Análises de estatística\n",
    "    descritiva de primeira ordem\n",
    "3. Feature Engineering (criar variáveis que modelam o fenômeno)\n",
    "4. Criar as hipóteses de negócio\n",
    "5. Análise exploratória de dados para validar ou refutar hióteses\n",
    "6. Definir métricas e treinar o modelo\n",
    "7. Analisar métricas\n",
    "8. Criar arquivo handle para todas as transformações necessárias\n",
    "9. Criar API\n",
    "10. Resultados e Conclusão\n",
    "\n",
    "## 1.3 Sumário:"
   ]
  },
  {
   "cell_type": "markdown",
   "id": "4b356105",
   "metadata": {
    "heading_collapsed": true
   },
   "source": [
    "# 2.0 Imports"
   ]
  },
  {
   "cell_type": "markdown",
   "id": "b5b45adc",
   "metadata": {
    "heading_collapsed": true,
    "hidden": true
   },
   "source": [
    "###### 2.1 Libraries"
   ]
  },
  {
   "cell_type": "code",
   "execution_count": 1,
   "id": "3302c9ce",
   "metadata": {
    "ExecuteTime": {
     "end_time": "2021-12-19T16:56:56.732097Z",
     "start_time": "2021-12-19T16:56:55.012298Z"
    },
    "hidden": true
   },
   "outputs": [],
   "source": [
    "import numpy as np\n",
    "import pandas as pd\n",
    "import pickle\n",
    "import matplotlib.pyplot as plt\n",
    "import seaborn as sns\n",
    "\n",
    "from sklearn.metrics import classification_report, roc_auc_score, accuracy_score\n",
    "\n",
    "import time\n",
    "import warnings\n",
    "\n",
    "# Tempo de processamento\n",
    "time_agora = time.time()"
   ]
  },
  {
   "cell_type": "markdown",
   "id": "bedd7abf",
   "metadata": {
    "heading_collapsed": true,
    "hidden": true
   },
   "source": [
    "###### 2.2 Loading dataset"
   ]
  },
  {
   "cell_type": "code",
   "execution_count": 2,
   "id": "80e0c5bc",
   "metadata": {
    "ExecuteTime": {
     "end_time": "2021-12-19T16:56:57.171968Z",
     "start_time": "2021-12-19T16:56:56.733832Z"
    },
    "hidden": true
   },
   "outputs": [],
   "source": [
    "# raw data\n",
    "train = pd.read_csv('D:\\\\My Drive\\\\Pessoal\\\\Projetos\\\\insurance_sales_predict\\\\insurance_sales_predict\\\\train.csv')\n",
    "test = pd.read_csv('D:\\\\My Drive\\\\Pessoal\\\\Projetos\\\\insurance_sales_predict\\\\insurance_sales_predict\\\\test.csv')\n",
    "df = pd.concat([train, test])\n",
    "\n",
    "# processed data\n",
    "df_predict_request = pickle.load(open('D:\\\\My Drive\\\\Pessoal\\\\Projetos\\\\insurance_sales_predict\\\\insurance_sales_predict\\\\exportings\\\\df_predict_request.pkl', 'rb'))\n",
    "\n",
    "# columns\n",
    "model_columns = pickle.load(open('D:\\\\My Drive\\\\Pessoal\\\\Projetos\\\\insurance_sales_predict\\\\insurance_sales_predict\\\\exportings\\\\model_columns.pkl', 'rb'))\n",
    "\n",
    "# Feature selection\n",
    "feature_selection = pickle.load(open('D:\\\\My Drive\\\\Pessoal\\\\Projetos\\\\insurance_sales_predict\\\\insurance_sales_predict\\\\exportings\\\\ranking_feature_selection.pkl', 'rb'))"
   ]
  },
  {
   "cell_type": "markdown",
   "id": "f9110152",
   "metadata": {
    "heading_collapsed": true
   },
   "source": [
    "# 3.0 Baseline"
   ]
  },
  {
   "cell_type": "code",
   "execution_count": 3,
   "id": "a62a61a6",
   "metadata": {
    "ExecuteTime": {
     "end_time": "2021-12-19T16:56:57.183575Z",
     "start_time": "2021-12-19T16:56:57.171968Z"
    },
    "hidden": true
   },
   "outputs": [
    {
     "name": "stdout",
     "output_type": "stream",
     "text": [
      "A média atual de interesse no produto é igual a 12.0%\n"
     ]
    }
   ],
   "source": [
    "baseline = train['Response'].mean()\n",
    "print(f'A média atual de interesse no produto é igual a {round(baseline, 2)*100}%')"
   ]
  },
  {
   "cell_type": "markdown",
   "id": "351c6571",
   "metadata": {
    "heading_collapsed": true
   },
   "source": [
    "# 4.0 Metrics"
   ]
  },
  {
   "cell_type": "markdown",
   "id": "cc345d5e",
   "metadata": {
    "hidden": true
   },
   "source": [
    "Modelo XGRFBoost: PRECISION de 0.27, RECALL de 0.94 e ROC_AUC 0.80"
   ]
  },
  {
   "cell_type": "markdown",
   "id": "2c27038e",
   "metadata": {},
   "source": [
    "# 5.0 Business Problems"
   ]
  },
  {
   "cell_type": "markdown",
   "id": "cbdac7ae",
   "metadata": {},
   "source": [
    "### 5.1 Principais Insights sobre os atributos mais relevantes de clientes interessados em adquirir um seguro de automóvel."
   ]
  },
  {
   "cell_type": "markdown",
   "id": "5a2d6d46",
   "metadata": {},
   "source": [
    "**Gender:** Homens se interessam 30% mais no produto em relação às mulheres\n",
    "\n",
    "**Vehicle_Damage:** Clientes que já tiveram danos no seu veículo tem 24% de eventos positivos, enquanto clientes que não tiveram danos têm por volta de 1%\n",
    "\n",
    "**Driving_License:** Habilitados apresentam 5% de interesse no produto, não habilitados apresentam 12%\n",
    "\n",
    "**Previously_Insured:** Clientes que já possuem seguro têm interesse quase zero pelo produto\n",
    "\n",
    "**Region_Code:** 28% dos clientes está contido na região 28, região mais numerosa, que tem por volta de 18% de interesse no produto, interesse 50% maior do que a média global\n",
    "\n",
    "**Policy_Sales_Channel:** Os canais mais utilizados apresentam médias de response bastante diferentes da média global, o canal 152 é o mais utilizado e apresenta 2% de interesse no produto, o canal 155 apresenta 2%, já os canais 26, 124 e 156 apresentam por volta de 20% de interesse no produto\n",
    "\n",
    "**Age:** A média de idade entre os que não se interessam pelo produto é de 38 anos, e dos que se interessam é de 43 anos."
   ]
  },
  {
   "cell_type": "code",
   "execution_count": 4,
   "id": "4459aa9b",
   "metadata": {
    "ExecuteTime": {
     "end_time": "2021-12-19T16:56:57.472506Z",
     "start_time": "2021-12-19T16:56:57.183575Z"
    },
    "scrolled": false
   },
   "outputs": [
    {
     "data": {
      "text/plain": [
       "<AxesSubplot:>"
      ]
     },
     "execution_count": 4,
     "metadata": {},
     "output_type": "execute_result"
    },
    {
     "data": {
      "image/png": "[encoded data removed]",
      "text/plain": [
       "<Figure size 720x432 with 1 Axes>"
      ]
     },
     "metadata": {
      "needs_background": "light"
     },
     "output_type": "display_data"
    }
   ],
   "source": [
    "feature_selection[['correlations', 'importance_rf', 'importance_xgb']].sort_values('correlations', ascending=False).plot(kind='bar', figsize=(10, 6), stacked=True)"
   ]
  },
  {
   "cell_type": "markdown",
   "id": "68dcc1cb",
   "metadata": {
    "heading_collapsed": true
   },
   "source": [
    "### 5.2 Qual a porcentagem de clientes interessados em adquirir um seguro de automóvel, o time de vendas conseguirá contatar fazendo 20.000 ligações?"
   ]
  },
  {
   "cell_type": "code",
   "execution_count": 5,
   "id": "892c5f12",
   "metadata": {
    "ExecuteTime": {
     "end_time": "2021-12-19T16:56:57.502884Z",
     "start_time": "2021-12-19T16:56:57.474493Z"
    },
    "hidden": true
   },
   "outputs": [
    {
     "data": {
      "text/html": [
       "<div>\n",
       "<style scoped>\n",
       "    .dataframe tbody tr th:only-of-type {\n",
       "        vertical-align: middle;\n",
       "    }\n",
       "\n",
       "    .dataframe tbody tr th {\n",
       "        vertical-align: top;\n",
       "    }\n",
       "\n",
       "    .dataframe thead th {\n",
       "        text-align: right;\n",
       "    }\n",
       "</style>\n",
       "<table border=\"1\" class=\"dataframe\">\n",
       "  <thead>\n",
       "    <tr style=\"text-align: right;\">\n",
       "      <th></th>\n",
       "      <th>correlations</th>\n",
       "      <th>rfe_xgb</th>\n",
       "      <th>importance_rf</th>\n",
       "      <th>importance_xgb</th>\n",
       "      <th>boruta</th>\n",
       "    </tr>\n",
       "  </thead>\n",
       "  <tbody>\n",
       "    <tr>\n",
       "      <th>Age</th>\n",
       "      <td>0.111147</td>\n",
       "      <td>1</td>\n",
       "      <td>0.088867</td>\n",
       "      <td>0.007395</td>\n",
       "      <td>1</td>\n",
       "    </tr>\n",
       "    <tr>\n",
       "      <th>Driving_License</th>\n",
       "      <td>0.010155</td>\n",
       "      <td>7</td>\n",
       "      <td>0.000000</td>\n",
       "      <td>0.002029</td>\n",
       "      <td>2</td>\n",
       "    </tr>\n",
       "    <tr>\n",
       "      <th>Previously_Insured</th>\n",
       "      <td>0.341170</td>\n",
       "      <td>6</td>\n",
       "      <td>0.368603</td>\n",
       "      <td>0.168569</td>\n",
       "      <td>1</td>\n",
       "    </tr>\n",
       "    <tr>\n",
       "      <th>Gender_</th>\n",
       "      <td>0.052440</td>\n",
       "      <td>5</td>\n",
       "      <td>0.001385</td>\n",
       "      <td>0.000586</td>\n",
       "      <td>1</td>\n",
       "    </tr>\n",
       "    <tr>\n",
       "      <th>Vehicle_Damage_</th>\n",
       "      <td>0.354400</td>\n",
       "      <td>3</td>\n",
       "      <td>0.344469</td>\n",
       "      <td>0.778970</td>\n",
       "      <td>1</td>\n",
       "    </tr>\n",
       "    <tr>\n",
       "      <th>Policy_Sales_Channel_Response_Mean</th>\n",
       "      <td>0.263429</td>\n",
       "      <td>1</td>\n",
       "      <td>0.112754</td>\n",
       "      <td>0.020186</td>\n",
       "      <td>1</td>\n",
       "    </tr>\n",
       "    <tr>\n",
       "      <th>Region_Code_Response_Mean</th>\n",
       "      <td>0.138095</td>\n",
       "      <td>1</td>\n",
       "      <td>0.016146</td>\n",
       "      <td>0.001772</td>\n",
       "      <td>1</td>\n",
       "    </tr>\n",
       "    <tr>\n",
       "      <th>High_Response_Age</th>\n",
       "      <td>0.205981</td>\n",
       "      <td>4</td>\n",
       "      <td>0.020214</td>\n",
       "      <td>0.017764</td>\n",
       "      <td>1</td>\n",
       "    </tr>\n",
       "    <tr>\n",
       "      <th>Log_Annual_Premium</th>\n",
       "      <td>0.002707</td>\n",
       "      <td>2</td>\n",
       "      <td>0.002531</td>\n",
       "      <td>0.000165</td>\n",
       "      <td>1</td>\n",
       "    </tr>\n",
       "    <tr>\n",
       "      <th>Vehicle_Age_1</th>\n",
       "      <td>0.209878</td>\n",
       "      <td>1</td>\n",
       "      <td>0.042560</td>\n",
       "      <td>0.000230</td>\n",
       "      <td>1</td>\n",
       "    </tr>\n",
       "    <tr>\n",
       "      <th>Vehicle_Age_2</th>\n",
       "      <td>0.109300</td>\n",
       "      <td>1</td>\n",
       "      <td>0.002472</td>\n",
       "      <td>0.002334</td>\n",
       "      <td>1</td>\n",
       "    </tr>\n",
       "  </tbody>\n",
       "</table>\n",
       "</div>"
      ],
      "text/plain": [
       "                                    correlations  rfe_xgb  importance_rf  \\\n",
       "Age                                     0.111147        1       0.088867   \n",
       "Driving_License                         0.010155        7       0.000000   \n",
       "Previously_Insured                      0.341170        6       0.368603   \n",
       "Gender_                                 0.052440        5       0.001385   \n",
       "Vehicle_Damage_                         0.354400        3       0.344469   \n",
       "Policy_Sales_Channel_Response_Mean      0.263429        1       0.112754   \n",
       "Region_Code_Response_Mean               0.138095        1       0.016146   \n",
       "High_Response_Age                       0.205981        4       0.020214   \n",
       "Log_Annual_Premium                      0.002707        2       0.002531   \n",
       "Vehicle_Age_1                           0.209878        1       0.042560   \n",
       "Vehicle_Age_2                           0.109300        1       0.002472   \n",
       "\n",
       "                                    importance_xgb  boruta  \n",
       "Age                                       0.007395       1  \n",
       "Driving_License                           0.002029       2  \n",
       "Previously_Insured                        0.168569       1  \n",
       "Gender_                                   0.000586       1  \n",
       "Vehicle_Damage_                           0.778970       1  \n",
       "Policy_Sales_Channel_Response_Mean        0.020186       1  \n",
       "Region_Code_Response_Mean                 0.001772       1  \n",
       "High_Response_Age                         0.017764       1  \n",
       "Log_Annual_Premium                        0.000165       1  \n",
       "Vehicle_Age_1                             0.000230       1  \n",
       "Vehicle_Age_2                             0.002334       1  "
      ]
     },
     "execution_count": 5,
     "metadata": {},
     "output_type": "execute_result"
    }
   ],
   "source": [
    "feature_selection"
   ]
  },
  {
   "cell_type": "markdown",
   "id": "2c64e244",
   "metadata": {
    "heading_collapsed": true,
    "hidden": true
   },
   "source": [
    "#### 6.1 Premissas"
   ]
  },
  {
   "cell_type": "code",
   "execution_count": 6,
   "id": "5ef3992a",
   "metadata": {
    "ExecuteTime": {
     "end_time": "2021-12-19T16:56:57.518876Z",
     "start_time": "2021-12-19T16:56:57.505875Z"
    },
    "hidden": true
   },
   "outputs": [
    {
     "name": "stdout",
     "output_type": "stream",
     "text": [
      "              precision    recall  f1-score   support\n",
      "\n",
      "           0       0.97      0.67      0.79       437\n",
      "           1       0.27      0.84      0.41        63\n",
      "\n",
      "    accuracy                           0.69       500\n",
      "   macro avg       0.62      0.76      0.60       500\n",
      "weighted avg       0.88      0.69      0.75       500\n",
      "\n"
     ]
    }
   ],
   "source": [
    "request_20000 = df_predict_request.sort_values('probability', ascending=False).head(20000)\n",
    "\n",
    "print(classification_report(request_20000['Response'], request_20000['predictions'], zero_division=0))"
   ]
  },
  {
   "cell_type": "markdown",
   "id": "7c6f2153",
   "metadata": {
    "heading_collapsed": true,
    "hidden": true
   },
   "source": [
    "#### 6.2 Calculos"
   ]
  },
  {
   "cell_type": "markdown",
   "id": "72f856be",
   "metadata": {
    "heading_collapsed": true
   },
   "source": [
    "### 5.3 E se a capacidade do time de vendas aumentar para 40.000 ligações, qual a porcentagem de clientes interessados em adquirir um seguro de automóvel o time de vendas conseguirá contatar?"
   ]
  },
  {
   "cell_type": "markdown",
   "id": "f5ef54e7",
   "metadata": {
    "heading_collapsed": true,
    "hidden": true
   },
   "source": [
    "#### 7.1 Premissas"
   ]
  },
  {
   "cell_type": "markdown",
   "id": "5e015040",
   "metadata": {
    "heading_collapsed": true,
    "hidden": true
   },
   "source": [
    "#### 7.2 Calculos"
   ]
  },
  {
   "cell_type": "markdown",
   "id": "e943f8c2",
   "metadata": {
    "heading_collapsed": true
   },
   "source": [
    "### 5.4 Quantas ligações o time de vendas precisa fazer para contatar 80% dos clientes interessados em adquirir um seguro de automóvel?"
   ]
  },
  {
   "cell_type": "markdown",
   "id": "70ba83d0",
   "metadata": {
    "heading_collapsed": true,
    "hidden": true
   },
   "source": [
    "#### 8.1 Premissas"
   ]
  },
  {
   "cell_type": "markdown",
   "id": "17435a98",
   "metadata": {
    "heading_collapsed": true,
    "hidden": true
   },
   "source": [
    "#### 8.2 Calculos"
   ]
  },
  {
   "cell_type": "markdown",
   "id": "f8e018f8",
   "metadata": {},
   "source": [
    "# Time"
   ]
  },
  {
   "cell_type": "code",
   "execution_count": 7,
   "id": "d0c113a0",
   "metadata": {
    "ExecuteTime": {
     "end_time": "2021-12-19T16:56:57.534972Z",
     "start_time": "2021-12-19T16:56:57.520872Z"
    },
    "scrolled": false
   },
   "outputs": [
    {
     "name": "stdout",
     "output_type": "stream",
     "text": [
      "O tempo de processamento do projeto foi de: 0 minutos\n"
     ]
    }
   ],
   "source": [
    "print(f'O tempo de processamento do projeto foi de: {int(round(time.time()-time_agora, 2)/60)} minutos')"
   ]
  }
 ],
 "metadata": {
  "kernelspec": {
   "display_name": "Python 3 (ipykernel)",
   "language": "python",
   "name": "python3"
  },
  "language_info": {
   "codemirror_mode": {
    "name": "ipython",
    "version": 3
   },
   "file_extension": ".py",
   "mimetype": "text/x-python",
   "name": "python",
   "nbconvert_exporter": "python",
   "pygments_lexer": "ipython3",
   "version": "3.9.7"
  }
 },
 "nbformat": 4,
 "nbformat_minor": 5
}
