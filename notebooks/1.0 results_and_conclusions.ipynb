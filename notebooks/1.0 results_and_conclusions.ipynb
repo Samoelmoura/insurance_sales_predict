{
 "cells": [
  {
   "cell_type": "markdown",
   "id": "f5f22930",
   "metadata": {
    "heading_collapsed": true
   },
   "source": [
    "# Reports\n",
    "1. Inputs: analytics and metrics\n",
    "2. Outputs: results and conclusions\n",
    "3. ..."
   ]
  },
  {
   "cell_type": "markdown",
   "id": "b67db67d",
   "metadata": {
    "heading_collapsed": true
   },
   "source": [
    "# 1.0 Business Problem"
   ]
  },
  {
   "cell_type": "markdown",
   "id": "51af2a17",
   "metadata": {
    "heading_collapsed": true,
    "hidden": true
   },
   "source": [
    "## 1.1 Contexto:\n",
    "A Insurance All é uma empresa que fornece seguro de saúde para seus clientes e o time de produtos está analisando a possibilidade de oferecer aos assegurados, um novo produto: Um seguro de automóveis.\n",
    "\n",
    "Assim como o seguro de saúde, os clientes desse novo plano de seguro de automóveis precisam pagar um valor anualmente à Insurance All para obter um valor assegurado pela empresa, destinado aos custos de um eventual acidente ou dano ao veículo.\n",
    "\n",
    "A Insurance All fez uma pesquisa com cerca de 380 mil clientes sobre o interesse em aderir a um novo produto de seguro de automóveis, no ano passado. Todos os clientes demonstraram interesse ou não em adquirir o seguro de automóvel e essas respostas ficaram salvas em um banco de dados junto com outros atributos dos clientes.\n",
    "\n",
    "O time de produtos selecionou 127 mil novos clientes que não responderam a pesquisa para participar de uma campanha, no qual receberão a oferta do novo produto de seguro de automóveis. A oferta será feita pelo time de vendas através de ligações telefônicas.\n",
    "\n",
    "Projeto retirado do Blog Seja Um Data Scientist\n",
    "https://sejaumdatascientist.com/como-usar-data-science-para-fazer-a-empresa-vender-mais/\n",
    "\n",
    "Projeto original disponível na plataforma Kaggle\n",
    "https://www.kaggle.com/anmolkumar/health-insurance-cross-sell-prediction\n",
    "\n",
    "\n",
    "## 1.2 Estratégia da Solução:\n",
    "\n",
    "###### 1.2.1 Objetivos:\n",
    "1. Principais Insights sobre os atributos mais relevantes de clientes interessados em adquirir um seguro de automóvel.\n",
    "2. Qual a porcentagem de clientes interessados em adquirir um seguro de automóvel, o time de vendas conseguirá contatar fazendo 20.000 ligações?\n",
    "3. E se a capacidade do time de vendas aumentar para 40.000 ligações, qual a porcentagem de clientes interessados em adquirir um seguro de automóvel o time de vendas conseguirá contatar?\n",
    "4. Quantas ligações o time de vendas precisa fazer para contatar 80% dos clientes interessados em adquirir um seguro de automóvel?\n",
    "\n",
    "###### 1.2.2 Proposta de Solução:\n",
    "1. Gráficos e estudos de como as features se relacionam com a variávei alvo, individualmente ou combinadas através de Exploratory Data Analysis e Descriptive Statistics.\n",
    "2. Treinar um modelo de Machine Learning, scorar os clientes, priorizar os clientes segundo suas probabilidades de sucesso, utilizar das métricas para criar cenários com os 20.000 melhores.\n",
    "3. Utilizar do modelo anterior e criar cenários com os 40.000 melhores.\n",
    "4. Utilizar do modelo anterior, definir curva de probabilidades para todos os clientes e identificar ponto crítico.\n",
    "5. Fazer deploy e disponibilizar online através do Heroku\n",
    "\n",
    "###### 1.2.3 Inputs:\n",
    "1. Problema de negócio\n",
    "2. Conjunto de dados com características de 380.000 clientes e as suas respostas sobre interesse em adquirir um seguro de automóveis.\n",
    "\n",
    "###### 1.2.4 Outputs:\n",
    "1. Gráficos e parâmetros em uma tabela no notebook (Gráfico / Parâmetros)\n",
    "2. Resposta objetiva em um notebook (Uma porcentagem)\n",
    "3. Resposta objetiva em um notebook (Uma porcentagem)\n",
    "4. Resposta objetiva em um notebook (Um número absoluto)\n",
    "5. Tabela de banco de dados SQL com todas as classificações\n",
    "6. API com request/predict do tipo: | v1 | v2 | v3 | - 1/0\n",
    "\n",
    "###### 1.2.5 Ciclos:\n",
    "1. Pipeline de dados, funcional, de ponta a ponta (desde a coleta de dados até o \n",
    "    treinamento do modelo)\n",
    "2. Entender os dados e limpa-los (buscar inconsistências) Análises de estatística\n",
    "    descritiva de primeira ordem\n",
    "3. Feature Engineering (criar variáveis que modelam o fenômeno)\n",
    "4. Criar as hipóteses de negócio\n",
    "5. Análise exploratória de dados para validar ou refutar hióteses\n",
    "6. Definir métricas e treinar o modelo\n",
    "7. Analisar métricas\n",
    "8. Criar arquivo handle para todas as transformações necessárias\n",
    "9. Criar API\n",
    "10. Resultados e Conclusão\n",
    "\n",
    "## 1.3 Sumário:"
   ]
  }
 ],
 "metadata": {
  "kernelspec": {
   "display_name": "Python 3 (ipykernel)",
   "language": "python",
   "name": "python3"
  },
  "language_info": {
   "codemirror_mode": {
    "name": "ipython",
    "version": 3
   },
   "file_extension": ".py",
   "mimetype": "text/x-python",
   "name": "python",
   "nbconvert_exporter": "python",
   "pygments_lexer": "ipython3",
   "version": "3.8.8"
  }
 },
 "nbformat": 4,
 "nbformat_minor": 5
}
