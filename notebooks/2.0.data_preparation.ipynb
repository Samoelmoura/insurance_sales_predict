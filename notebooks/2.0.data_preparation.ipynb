{
 "cells": [
  {
   "cell_type": "markdown",
   "id": "2cf82ad6",
   "metadata": {},
   "source": [
    "# 0.0 Imports"
   ]
  },
  {
   "cell_type": "code",
   "execution_count": 1,
   "id": "42b1bea8",
   "metadata": {
    "ExecuteTime": {
     "end_time": "2022-05-04T21:49:15.444329Z",
     "start_time": "2022-05-04T21:49:13.553859Z"
    },
    "scrolled": true
   },
   "outputs": [],
   "source": [
    "import pandas as pd\n",
    "import numpy as np\n",
    "import matplotlib.pyplot as plt\n",
    "import seaborn as sns\n",
    "\n",
    "from sklearn.model_selection import train_test_split\n",
    "from sklearn.preprocessing import StandardScaler, LabelEncoder, MinMaxScaler\n",
    "from sklearn.metrics import classification_report, roc_auc_score, accuracy_score\n",
    "from sklearn.ensemble import RandomForestClassifier\n",
    "from sklearn.feature_selection import RFE\n",
    "\n",
    "from xgboost import XGBRFClassifier\n",
    "\n",
    "from boruta import BorutaPy\n",
    "\n",
    "from imblearn.over_sampling import SMOTE\n",
    "\n",
    "import pickle\n",
    "\n",
    "import time\n",
    "import warnings\n",
    "\n",
    "# Tempo de processamento\n",
    "time_agora = time.time()"
   ]
  },
  {
   "cell_type": "markdown",
   "id": "bc6a4cd7",
   "metadata": {},
   "source": [
    "###### 0.1 Colecting data"
   ]
  },
  {
   "cell_type": "code",
   "execution_count": 2,
   "id": "08f6cd06",
   "metadata": {
    "ExecuteTime": {
     "end_time": "2022-05-04T21:49:15.507432Z",
     "start_time": "2022-05-04T21:49:15.444329Z"
    }
   },
   "outputs": [
    {
     "data": {
      "text/html": [
       "<div>\n",
       "<style scoped>\n",
       "    .dataframe tbody tr th:only-of-type {\n",
       "        vertical-align: middle;\n",
       "    }\n",
       "\n",
       "    .dataframe tbody tr th {\n",
       "        vertical-align: top;\n",
       "    }\n",
       "\n",
       "    .dataframe thead th {\n",
       "        text-align: right;\n",
       "    }\n",
       "</style>\n",
       "<table border=\"1\" class=\"dataframe\">\n",
       "  <thead>\n",
       "    <tr style=\"text-align: right;\">\n",
       "      <th></th>\n",
       "      <th>gender</th>\n",
       "      <th>age</th>\n",
       "      <th>driving_license</th>\n",
       "      <th>region_code</th>\n",
       "      <th>previously_insured</th>\n",
       "      <th>vehicle_age</th>\n",
       "      <th>vehicle_damage</th>\n",
       "      <th>annual_premium</th>\n",
       "      <th>policy_sales_channel</th>\n",
       "      <th>vintage</th>\n",
       "      <th>response</th>\n",
       "    </tr>\n",
       "  </thead>\n",
       "  <tbody>\n",
       "    <tr>\n",
       "      <th>0</th>\n",
       "      <td>Male</td>\n",
       "      <td>44</td>\n",
       "      <td>1</td>\n",
       "      <td>28.0</td>\n",
       "      <td>0</td>\n",
       "      <td>&gt; 2 Years</td>\n",
       "      <td>Yes</td>\n",
       "      <td>40454.0</td>\n",
       "      <td>26.0</td>\n",
       "      <td>217</td>\n",
       "      <td>1</td>\n",
       "    </tr>\n",
       "    <tr>\n",
       "      <th>1</th>\n",
       "      <td>Male</td>\n",
       "      <td>76</td>\n",
       "      <td>1</td>\n",
       "      <td>3.0</td>\n",
       "      <td>0</td>\n",
       "      <td>1-2 Year</td>\n",
       "      <td>No</td>\n",
       "      <td>33536.0</td>\n",
       "      <td>26.0</td>\n",
       "      <td>183</td>\n",
       "      <td>0</td>\n",
       "    </tr>\n",
       "    <tr>\n",
       "      <th>2</th>\n",
       "      <td>Male</td>\n",
       "      <td>47</td>\n",
       "      <td>1</td>\n",
       "      <td>28.0</td>\n",
       "      <td>0</td>\n",
       "      <td>&gt; 2 Years</td>\n",
       "      <td>Yes</td>\n",
       "      <td>38294.0</td>\n",
       "      <td>26.0</td>\n",
       "      <td>27</td>\n",
       "      <td>1</td>\n",
       "    </tr>\n",
       "    <tr>\n",
       "      <th>3</th>\n",
       "      <td>Male</td>\n",
       "      <td>21</td>\n",
       "      <td>1</td>\n",
       "      <td>11.0</td>\n",
       "      <td>1</td>\n",
       "      <td>&lt; 1 Year</td>\n",
       "      <td>No</td>\n",
       "      <td>28619.0</td>\n",
       "      <td>152.0</td>\n",
       "      <td>203</td>\n",
       "      <td>0</td>\n",
       "    </tr>\n",
       "    <tr>\n",
       "      <th>4</th>\n",
       "      <td>Female</td>\n",
       "      <td>29</td>\n",
       "      <td>1</td>\n",
       "      <td>41.0</td>\n",
       "      <td>1</td>\n",
       "      <td>&lt; 1 Year</td>\n",
       "      <td>No</td>\n",
       "      <td>27496.0</td>\n",
       "      <td>152.0</td>\n",
       "      <td>39</td>\n",
       "      <td>0</td>\n",
       "    </tr>\n",
       "  </tbody>\n",
       "</table>\n",
       "</div>"
      ],
      "text/plain": [
       "   gender  age  driving_license  region_code  previously_insured vehicle_age  \\\n",
       "0    Male   44                1         28.0                   0   > 2 Years   \n",
       "1    Male   76                1          3.0                   0    1-2 Year   \n",
       "2    Male   47                1         28.0                   0   > 2 Years   \n",
       "3    Male   21                1         11.0                   1    < 1 Year   \n",
       "4  Female   29                1         41.0                   1    < 1 Year   \n",
       "\n",
       "  vehicle_damage  annual_premium  policy_sales_channel  vintage  response  \n",
       "0            Yes         40454.0                  26.0      217         1  \n",
       "1             No         33536.0                  26.0      183         0  \n",
       "2            Yes         38294.0                  26.0       27         1  \n",
       "3             No         28619.0                 152.0      203         0  \n",
       "4             No         27496.0                 152.0       39         0  "
      ]
     },
     "execution_count": 2,
     "metadata": {},
     "output_type": "execute_result"
    }
   ],
   "source": [
    "df = pickle.load(open('D:\\\\My Drive\\\\Pessoal\\\\Projetos\\\\insurance_sales_predict\\\\insurance_sales_predict\\\\data\\\\interim\\\\df_to_data_preparation.pkl', 'rb'))\n",
    "df.head()"
   ]
  },
  {
   "cell_type": "markdown",
   "id": "f4082a19",
   "metadata": {},
   "source": [
    "# 1.0 Data Preparation"
   ]
  },
  {
   "cell_type": "code",
   "execution_count": 3,
   "id": "af880d18",
   "metadata": {
    "ExecuteTime": {
     "end_time": "2022-05-04T21:49:15.520418Z",
     "start_time": "2022-05-04T21:49:15.509351Z"
    }
   },
   "outputs": [],
   "source": [
    "# backup\n",
    "df1 = df.copy()"
   ]
  },
  {
   "cell_type": "markdown",
   "id": "3b9fefe1",
   "metadata": {},
   "source": [
    "## 1.1 Normalization"
   ]
  },
  {
   "cell_type": "code",
   "execution_count": 4,
   "id": "ec94ae55",
   "metadata": {
    "ExecuteTime": {
     "end_time": "2022-05-04T21:49:15.552231Z",
     "start_time": "2022-05-04T21:49:15.523192Z"
    }
   },
   "outputs": [],
   "source": [
    "# annual_premium\n",
    "ss = StandardScaler()\n",
    "ss_annual_premium = ss.fit(df1[['annual_premium']].values)\n",
    "df1['annual_premium'] = ss_annual_premium.transform(df1[['annual_premium']].values)"
   ]
  },
  {
   "cell_type": "markdown",
   "id": "099a0bac",
   "metadata": {},
   "source": [
    "annual_premium foi transformada pelo método standardscaler porque tem distribuição parecida com uma normal"
   ]
  },
  {
   "cell_type": "markdown",
   "id": "f353da0f",
   "metadata": {},
   "source": [
    "## 1.2 Rescaling"
   ]
  },
  {
   "cell_type": "code",
   "execution_count": 5,
   "id": "0939f812",
   "metadata": {
    "ExecuteTime": {
     "end_time": "2022-05-04T21:49:15.583594Z",
     "start_time": "2022-05-04T21:49:15.553975Z"
    }
   },
   "outputs": [],
   "source": [
    "# age by the method minmaxscaler\n",
    "mm = MinMaxScaler()\n",
    "mm_age = mm.fit(df1[['age']].values)\n",
    "df1['age'] = mm_age.transform(df1[['age']].values)"
   ]
  },
  {
   "cell_type": "markdown",
   "id": "554530b9",
   "metadata": {},
   "source": [
    "age foi transformada pelo método minmaxscaler porque não parece com uma normal, e não houve necessidade de utilizar um método robusto contra outliers"
   ]
  },
  {
   "cell_type": "markdown",
   "id": "40691614",
   "metadata": {},
   "source": [
    "## 1.3 Transformation"
   ]
  },
  {
   "cell_type": "markdown",
   "id": "63ee6e5f",
   "metadata": {},
   "source": [
    "### 1.3.1 Encoding"
   ]
  },
  {
   "cell_type": "code",
   "execution_count": 6,
   "id": "6fba6d3e",
   "metadata": {
    "ExecuteTime": {
     "end_time": "2022-05-04T21:49:15.693998Z",
     "start_time": "2022-05-04T21:49:15.585038Z"
    }
   },
   "outputs": [],
   "source": [
    "# vehicle_age by the method labelencoding\n",
    "map_vehicle_age = {'< 1 Year': 1, '1-2 Year': 2, '> 2 Years': 3}\n",
    "df1['vehicle_age'] = df1['vehicle_age'].map(map_vehicle_age)\n",
    "\n",
    "# gender\n",
    "map_gender = {'Male':0, 'Female':1}\n",
    "df1['gender'] = df1['gender'].map(map_gender)\n",
    "\n",
    "# vehicle_damage\n",
    "map_vehicle_damage = {'Yes':1, 'No':0}\n",
    "df1['vehicle_damage'] = df1['vehicle_damage'].map(map_vehicle_damage)\n",
    "\n",
    "# region_code by the method target_encoding\n",
    "map_region_code = df1.groupby('region_code').agg({'response':'mean'})['response']\n",
    "df1['region_code'] = df1['region_code'].map(map_region_code)\n",
    "\n",
    "# policy_sales_channel\n",
    "map_policy_sales_channel = df1.groupby('policy_sales_channel').agg({'response':'mean'})['response']\n",
    "df1['policy_sales_channel'] = df1['policy_sales_channel'].map(map_policy_sales_channel)"
   ]
  },
  {
   "cell_type": "markdown",
   "id": "25426b9c",
   "metadata": {},
   "source": [
    "### 1.3.2 Nature Transformation"
   ]
  },
  {
   "cell_type": "code",
   "execution_count": 7,
   "id": "9cdae50e",
   "metadata": {
    "ExecuteTime": {
     "end_time": "2022-05-04T21:49:18.255879Z",
     "start_time": "2022-05-04T21:49:15.695000Z"
    }
   },
   "outputs": [],
   "source": [
    "# vintage\n",
    "cicle = df1['vintage'].max() - df1['vintage'].min()\n",
    "df1['vintage_sin'] = df1['vintage'].apply(lambda x: np.sin(x* (2*np.pi/cicle)))\n",
    "df1['vintage_cos'] = df1['vintage'].apply(lambda x: np.cos(x* (2*np.pi/cicle)))"
   ]
  },
  {
   "cell_type": "markdown",
   "id": "d0244b65",
   "metadata": {},
   "source": [
    "## 1.4 Spliting Valid"
   ]
  },
  {
   "cell_type": "code",
   "execution_count": 8,
   "id": "b54aa61b",
   "metadata": {
    "ExecuteTime": {
     "end_time": "2022-05-04T21:49:18.383011Z",
     "start_time": "2022-05-04T21:49:18.258320Z"
    }
   },
   "outputs": [],
   "source": [
    "# Spliting Validation\n",
    "X = df1.drop('response', axis=1)\n",
    "X = np.array(df1.drop('response', axis=1))\n",
    "y = df1['response'].copy()\n",
    "y = np.array(y).reshape(1, len(y))[0]\n",
    "\n",
    "X_train, X_val, y_train, y_val = train_test_split(X, y, test_size=0.2, random_state=101)"
   ]
  },
  {
   "cell_type": "markdown",
   "id": "410ce138",
   "metadata": {},
   "source": [
    "## 1.5 Balancing"
   ]
  },
  {
   "cell_type": "code",
   "execution_count": 9,
   "id": "c06553bb",
   "metadata": {
    "ExecuteTime": {
     "end_time": "2022-05-04T21:49:18.921420Z",
     "start_time": "2022-05-04T21:49:18.384886Z"
    }
   },
   "outputs": [],
   "source": [
    "smote = SMOTE()\n",
    "\n",
    "X_train_smote, y_train_smote = smote.fit_resample(X_train, y_train)"
   ]
  },
  {
   "cell_type": "markdown",
   "id": "7c0f1044",
   "metadata": {},
   "source": [
    "## 1.6 Test Preparation"
   ]
  },
  {
   "cell_type": "code",
   "execution_count": null,
   "id": "a20b7f44",
   "metadata": {},
   "outputs": [],
   "source": []
  },
  {
   "cell_type": "markdown",
   "id": "cf542f56",
   "metadata": {
    "id": "O5JNrPUBwgK_"
   },
   "source": [
    "# 2 Feature Selection"
   ]
  },
  {
   "cell_type": "markdown",
   "id": "a23f4826",
   "metadata": {},
   "source": [
    "## 2.1 Importances"
   ]
  },
  {
   "cell_type": "markdown",
   "id": "13b1dcbb",
   "metadata": {
    "id": "LQkDdBsliGe5"
   },
   "source": [
    "### Random Forest"
   ]
  },
  {
   "cell_type": "code",
   "execution_count": 10,
   "id": "337e9afd",
   "metadata": {
    "ExecuteTime": {
     "end_time": "2022-05-04T21:50:17.589971Z",
     "start_time": "2022-05-04T21:49:18.924659Z"
    },
    "colab": {
     "base_uri": "https://localhost:8080/"
    },
    "id": "CSMecOxSyu3T",
    "outputId": "6d74362a-3ecd-4018-f86a-ddf34b3a0ff3",
    "scrolled": false
   },
   "outputs": [
    {
     "name": "stdout",
     "output_type": "stream",
     "text": [
      "              precision    recall  f1-score   support\n",
      "\n",
      "           0       0.97      0.74      0.84     60239\n",
      "           1       0.31      0.84      0.45      8361\n",
      "\n",
      "    accuracy                           0.75     68600\n",
      "   macro avg       0.64      0.79      0.65     68600\n",
      "weighted avg       0.89      0.75      0.79     68600\n",
      "\n"
     ]
    }
   ],
   "source": [
    "# model definition\n",
    "rf_model = RandomForestClassifier(n_estimators=100, min_samples_leaf=1000, random_state=101)\n",
    "\n",
    "# fiting model\n",
    "rf_fit = rf_model.fit(X_train_smote, y_train_smote)\n",
    "\n",
    "# preditions\n",
    "rf_predict = rf_fit.predict(X_val)\n",
    "\n",
    "# metrics\n",
    "print(classification_report(y_val, rf_predict))\n",
    "\n",
    "# importances\n",
    "ranking = pd.DataFrame()\n",
    "ranking['importance_rf'] = rf_model.feature_importances_"
   ]
  },
  {
   "cell_type": "markdown",
   "id": "d20e93ce",
   "metadata": {
    "id": "ijExdiKLiY_J"
   },
   "source": [
    "### XGRFBoost"
   ]
  },
  {
   "cell_type": "code",
   "execution_count": 11,
   "id": "27abc7de",
   "metadata": {
    "ExecuteTime": {
     "end_time": "2022-05-04T21:50:34.151370Z",
     "start_time": "2022-05-04T21:50:17.592977Z"
    },
    "colab": {
     "base_uri": "https://localhost:8080/"
    },
    "id": "a1QPpwuwiY_K",
    "outputId": "d2b2758e-6d42-4459-c8a5-8415789a287a"
   },
   "outputs": [
    {
     "name": "stdout",
     "output_type": "stream",
     "text": [
      "              precision    recall  f1-score   support\n",
      "\n",
      "           0       0.97      0.73      0.83     60239\n",
      "           1       0.30      0.85      0.45      8361\n",
      "\n",
      "    accuracy                           0.74     68600\n",
      "   macro avg       0.64      0.79      0.64     68600\n",
      "weighted avg       0.89      0.74      0.78     68600\n",
      "\n"
     ]
    }
   ],
   "source": [
    "# fiting model\n",
    "xgbrf_model = XGBRFClassifier(use_label_encoder=False, eval_metric='error')\n",
    "xgbrf_fit = xgbrf_model.fit(X_train_smote, y_train_smote)\n",
    "\n",
    "# predictions\n",
    "xgbrf_predict = xgbrf_fit.predict(X_val)\n",
    "\n",
    "# metrics\n",
    "print(classification_report(y_val, xgbrf_predict))\n",
    "\n",
    "# importances\n",
    "ranking['importance_xgb'] = xgbrf_model.feature_importances_"
   ]
  },
  {
   "cell_type": "markdown",
   "id": "cef39663",
   "metadata": {},
   "source": [
    "## 2.2 RFE"
   ]
  },
  {
   "cell_type": "code",
   "execution_count": null,
   "id": "02e109a5",
   "metadata": {},
   "outputs": [],
   "source": []
  },
  {
   "cell_type": "markdown",
   "id": "2eb28413",
   "metadata": {},
   "source": [
    "## 2.3 Boruta"
   ]
  },
  {
   "cell_type": "code",
   "execution_count": null,
   "id": "1bba87d9",
   "metadata": {},
   "outputs": [],
   "source": []
  },
  {
   "cell_type": "markdown",
   "id": "3cf3d2b7",
   "metadata": {},
   "source": [
    "# 3.0 Exporting data"
   ]
  },
  {
   "cell_type": "markdown",
   "id": "cff8993e",
   "metadata": {},
   "source": [
    "## 3.1 Features"
   ]
  },
  {
   "cell_type": "code",
   "execution_count": 12,
   "id": "b397aecb",
   "metadata": {
    "ExecuteTime": {
     "end_time": "2022-05-04T21:50:34.167373Z",
     "start_time": "2022-05-04T21:50:34.152370Z"
    }
   },
   "outputs": [
    {
     "ename": "SyntaxError",
     "evalue": "unmatched ')' (1763937912.py, line 11)",
     "output_type": "error",
     "traceback": [
      "\u001b[1;36m  Input \u001b[1;32mIn [12]\u001b[1;36m\u001b[0m\n\u001b[1;33m    pickle.dump(map_gender, open('D:\\\\My Drive\\\\Pessoal\\\\Projetos\\\\insurance_sales_predict\\\\insurance_sales_predict\\\\src\\\\features\\\\map_gender', 'wb')))\u001b[0m\n\u001b[1;37m                                                                                                                                                       ^\u001b[0m\n\u001b[1;31mSyntaxError\u001b[0m\u001b[1;31m:\u001b[0m unmatched ')'\n"
     ]
    }
   ],
   "source": [
    "# annual_premium\n",
    "pickle.dump(ss_annual_premium, open('D:\\\\My Drive\\\\Pessoal\\\\Projetos\\\\insurance_sales_predict\\\\insurance_sales_predict\\\\src\\\\features\\\\ss_annual_premium.pkl', 'wb'))\n",
    "\n",
    "# age\n",
    "pickle.dump(mm_age, open('D:\\\\My Drive\\\\Pessoal\\\\Projetos\\\\insurance_sales_predict\\\\insurance_sales_predict\\\\src\\\\features\\\\mm_age.pkl', 'wb'))\n",
    "\n",
    "# vehicle_age\n",
    "pikcle.dump(map_vehicle_age, open('D:\\\\My Drive\\\\Pessoal\\\\Projetos\\\\insurance_sales_predict\\\\insurance_sales_predict\\\\src\\\\features\\\\map_vehicle_age', 'wb'))\n",
    "\n",
    "# gender\n",
    "pickle.dump(map_gender, open('D:\\\\My Drive\\\\Pessoal\\\\Projetos\\\\insurance_sales_predict\\\\insurance_sales_predict\\\\src\\\\features\\\\map_gender', 'wb')))\n",
    "\n",
    "# vehicle_damage\n",
    "pickle.dump(map_vehicle_damage, open('D:\\\\My Drive\\\\Pessoal\\\\Projetos\\\\insurance_sales_predict\\\\insurance_sales_predict\\\\src\\\\features\\\\map_vehicle_damage', 'wb')))\n",
    "\n",
    "# region_code\n",
    "pikcle.dump(map_region_code, open('D:\\\\My Drive\\\\Pessoal\\\\Projetos\\\\insurance_sales_predict\\\\insurance_sales_predict\\\\src\\\\features\\\\map_region_code', 'wb'))\n",
    "\n",
    "# policy_sales_channel\n",
    "pikcle.dump(map_policy_sales_channel, open('D:\\\\My Drive\\\\Pessoal\\\\Projetos\\\\insurance_sales_predict\\\\insurance_sales_predict\\\\src\\\\features\\\\map_policy_sales_channel', 'wb'))"
   ]
  },
  {
   "cell_type": "markdown",
   "id": "d53f0186",
   "metadata": {},
   "source": [
    "## 3.2 Dataframes"
   ]
  },
  {
   "cell_type": "code",
   "execution_count": null,
   "id": "1c46908b",
   "metadata": {},
   "outputs": [],
   "source": []
  },
  {
   "cell_type": "markdown",
   "id": "f8e018f8",
   "metadata": {},
   "source": [
    "# Time"
   ]
  },
  {
   "cell_type": "code",
   "execution_count": null,
   "id": "d0c113a0",
   "metadata": {
    "ExecuteTime": {
     "end_time": "2022-05-04T21:50:34.169669Z",
     "start_time": "2022-05-04T21:50:34.169669Z"
    }
   },
   "outputs": [],
   "source": [
    "print(f'O tempo de processamento do projeto foi de: {int(round(time.time()-time_agora, 2)/60)} minutos')"
   ]
  }
 ],
 "metadata": {
  "kernelspec": {
   "display_name": "Python 3 (ipykernel)",
   "language": "python",
   "name": "python3"
  },
  "language_info": {
   "codemirror_mode": {
    "name": "ipython",
    "version": 3
   },
   "file_extension": ".py",
   "mimetype": "text/x-python",
   "name": "python",
   "nbconvert_exporter": "python",
   "pygments_lexer": "ipython3",
   "version": "3.9.7"
  }
 },
 "nbformat": 4,
 "nbformat_minor": 5
}
