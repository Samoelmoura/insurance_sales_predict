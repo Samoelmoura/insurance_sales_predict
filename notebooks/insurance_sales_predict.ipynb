{
 "cells": [
  {
   "cell_type": "markdown",
   "id": "b67db67d",
   "metadata": {
    "heading_collapsed": true
   },
   "source": [
    "# 0.0 Business Problem"
   ]
  },
  {
   "cell_type": "markdown",
   "id": "51af2a17",
   "metadata": {
    "heading_collapsed": true,
    "hidden": true
   },
   "source": [
    "## Estágio do projeto:\n",
    "Ciclo 2: Entender os dados e limpa-los (buscar inconsistências) Análises de estatística\n",
    "    descritiva de primeira ordem\n",
    "\n",
    "## 0.1 Contexto:\n",
    "A Insurance All é uma empresa que fornece seguro de saúde para seus clientes e o time de produtos está analisando a possibilidade de oferecer aos assegurados, um novo produto: Um seguro de automóveis.\n",
    "\n",
    "Assim como o seguro de saúde, os clientes desse novo plano de seguro de automóveis precisam pagar um valor anualmente à Insurance All para obter um valor assegurado pela empresa, destinado aos custos de um eventual acidente ou dano ao veículo.\n",
    "\n",
    "A Insurance All fez uma pesquisa com cerca de 380 mil clientes sobre o interesse em aderir a um novo produto de seguro de automóveis, no ano passado. Todos os clientes demonstraram interesse ou não em adquirir o seguro de automóvel e essas respostas ficaram salvas em um banco de dados junto com outros atributos dos clientes.\n",
    "\n",
    "O time de produtos selecionou 127 mil novos clientes que não responderam a pesquisa para participar de uma campanha, no qual receberão a oferta do novo produto de seguro de automóveis. A oferta será feita pelo time de vendas através de ligações telefônicas.\n",
    "\n",
    "Projeto retirado do Blog Seja Um Data Scientist\n",
    "https://sejaumdatascientist.com/como-usar-data-science-para-fazer-a-empresa-vender-mais/\n",
    "\n",
    "Projeto original disponível na plataforma Kaggle\n",
    "https://www.kaggle.com/anmolkumar/health-insurance-cross-sell-prediction\n",
    "\n",
    "\n",
    "## 0.2 Estratégia da Solução:\n",
    "\n",
    "###### 0.2.1 Objetivos:\n",
    "1. Principais Insights sobre os atributos mais relevantes de clientes interessados em adquirir um seguro de automóvel.\n",
    "2. Qual a porcentagem de clientes interessados em adquirir um seguro de automóvel, o time de vendas conseguirá contatar fazendo 20.000 ligações?\n",
    "3. E se a capacidade do time de vendas aumentar para 40.000 ligações, qual a porcentagem de clientes interessados em adquirir um seguro de automóvel o time de vendas conseguirá contatar?\n",
    "4. Quantas ligações o time de vendas precisa fazer para contatar 80% dos clientes interessados em adquirir um seguro de automóvel?\n",
    "\n",
    "###### 0.2.2 Proposta de Solução:\n",
    "1. Gráficos e estudos de como as features se relacionam com a variávei alvo, individualmente ou combinadas através de Exploratory Data Analysis e Descriptive Statistics.\n",
    "2. Treinar um modelo de Machine Learning, scorar os clientes, priorizar os clientes segundo suas probabilidades de sucesso, utilizar das métricas para criar cenários com os 20.000 melhores.\n",
    "3. Utilizar do modelo anterior e criar cenários com os 40.000 melhores.\n",
    "4. Utilizar do modelo anterior, definir curva de probabilidades para todos os clientes e identificar ponto crítico.\n",
    "5. Fazer deploy e disponibilizar online através do Heroku\n",
    "\n",
    "###### 0.2.3 Inputs:\n",
    "1. Problema de negócio\n",
    "2. Conjunto de dados com características de 380.000 clientes e as suas respostas sobre interesse em adquirir um seguro de automóveis.\n",
    "\n",
    "###### 0.2.4 Outputs:\n",
    "1. Gráficos e parâmetros em uma tabela no notebook (Gráfico / Parâmetros)\n",
    "2. Resposta objetiva em um notebook (Uma porcentagem)\n",
    "3. Resposta objetiva em um notebook (Uma porcentagem)\n",
    "4. Resposta objetiva em um notebook (Um número absoluto)\n",
    "5. Tabela de banco de dados SQL com todas as classificações\n",
    "6. API com request/predict do tipo: | v1 | v2 | v3 | - 1/0\n",
    "\n",
    "###### 0.2.5 Ciclos:\n",
    "1. Pipeline de dados, funcional, de ponta a ponta (desde a coleta de dados até o \n",
    "    treinamento do modelo)\n",
    "2. Entender os dados e limpa-los (buscar inconsistências) Análises de estatística\n",
    "    descritiva de primeira ordem\n",
    "3. Feature Engineering (criar variáveis que modelam o fenômeno)\n",
    "4. Criar as hipóteses de negócio\n",
    "5. Análise exploratória de dados para validar ou refutar hióteses\n",
    "6. Definir métricas e treinar o modelo\n",
    "7. Analisar métricas\n",
    "8. Criar arquivo handle para todas as transformações necessárias\n",
    "9. Criar API\n",
    "10. Resultados e Conclusão\n",
    "\n",
    "## 0.3 Sumário:\n",
    "\n",
    "## 0.4 Resultados e Conclusão:"
   ]
  },
  {
   "cell_type": "markdown",
   "id": "69ac0842",
   "metadata": {
    "heading_collapsed": true,
    "id": "KmKyIjY3pcTq"
   },
   "source": [
    "# 1.0 Imports"
   ]
  },
  {
   "cell_type": "markdown",
   "id": "76ebb6e8",
   "metadata": {
    "heading_collapsed": true,
    "hidden": true
   },
   "source": [
    "###### 1.1 Libraries"
   ]
  },
  {
   "cell_type": "code",
   "execution_count": 122,
   "id": "db3d4ab7",
   "metadata": {
    "ExecuteTime": {
     "end_time": "2021-07-22T14:30:19.990304Z",
     "start_time": "2021-07-22T14:30:11.967235Z"
    },
    "colab": {
     "base_uri": "https://localhost:8080/"
    },
    "hidden": true,
    "id": "SHBv4yxbbFyB",
    "outputId": "7186d52e-c9a4-4e37-b0ac-5fdb969f5757"
   },
   "outputs": [],
   "source": [
    "import pandas as pd\n",
    "import numpy as np\n",
    "import matplotlib.pyplot as plt\n",
    "import seaborn as sns\n",
    "\n",
    "from sklearn.model_selection import train_test_split\n",
    "from sklearn.linear_model import LogisticRegression\n",
    "from sklearn.preprocessing import StandardScaler\n",
    "from sklearn.metrics import classification_report, roc_auc_score, accuracy_score\n",
    "from sklearn.decomposition import PCA\n",
    "from sklearn.ensemble import RandomForestClassifier\n",
    "from sklearn.feature_selection import RFE\n",
    "from sklearn.preprocessing import LabelEncoder\n",
    "from sklearn.svm import SVC\n",
    "from sklearn.neighbors import KNeighborsClassifier\n",
    "\n",
    "from scipy.stats import shapiro, kstest\n",
    "\n",
    "from xgboost import XGBClassifier\n",
    "\n",
    "from boruta import BorutaPy\n",
    "\n",
    "from imblearn.over_sampling import SMOTE\n",
    "from imblearn.under_sampling import NearMiss\n",
    "\n",
    "from scipy.stats import ttest_ind\n",
    "\n",
    "import pickle\n",
    "\n",
    "import time\n",
    "import warnings\n",
    "\n",
    "# Tempo de processamento\n",
    "time_agora = time.time()"
   ]
  },
  {
   "cell_type": "markdown",
   "id": "e61922aa",
   "metadata": {
    "heading_collapsed": true,
    "hidden": true
   },
   "source": [
    "###### 1.2 Helper Functions"
   ]
  },
  {
   "cell_type": "code",
   "execution_count": 2,
   "id": "cc9ba964",
   "metadata": {
    "ExecuteTime": {
     "end_time": "2021-07-22T14:30:21.845092Z",
     "start_time": "2021-07-22T14:30:21.816091Z"
    },
    "hidden": true,
    "id": "jNTVKMgs-wo2"
   },
   "outputs": [],
   "source": [
    "# Função inferência\n",
    "def comparar_features(series1, series2, confiança, qtd_amostras):\n",
    "    print('Series 1')\n",
    "    print(f'Média = {round(series1.mean(), 2)}')\n",
    "    print(f'Desvio padrão = {round(series1.std(), 2)}')\n",
    "    print()\n",
    "    print('Series 2')\n",
    "    print(f'Média = {round(series2.mean(), 2)}')\n",
    "    print(f'Desvio padrão = {round(series2.std(), 2)}')\n",
    "    aleatório1 = np.random.choice(series1.dropna(), qtd_amostras)\n",
    "    aleatório2 = np.random.choice(series2.dropna(), qtd_amostras)\n",
    "    stat, p = ttest_ind(aleatório1, aleatório2)\n",
    "    print(f'statistic = {round(stat, 2)}, p = {round(p, 2)}')\n",
    "  \n",
    "    if p < confiança:\n",
    "        print(f'\\nCom um p-valor igual à {round(p, 2)}, as series são estatísticamente DIFERENTES com um grau de confiança de {round(100-confiança*100)}%')\n",
    "    if p > confiança:\n",
    "        print(f'\\nCom um p-valor igual à {round(p, 2)}, as series são estatísticamente IGUAIS com um grau de confiança de {round(100-confiança*100)}%')\n",
    "\n",
    "\n",
    "# Função buscar outlier pelo método do 6 Sigma\n",
    "def buscar_outlier(df, series):\n",
    "    média = df[series].mean()\n",
    "    desvio_padrão = df[series].std()\n",
    "    lis = média - (desvio_padrão * 3)\n",
    "    lss = média + (desvio_padrão * 3)\n",
    "    lista_outliers = df[(df[series] < lis) | (df[series] > lss)].index\n",
    "    return lista_outliers, lis, lss\n",
    "\n",
    "# Análise descritiva de primeira ordem\n",
    "def analise_descritiva(x):\n",
    "    print(f'A média da Series é: {round(np.mean(x), 2)}')\n",
    "    print(f'O valor máximo da Series é: {np.max(x)}')\n",
    "    print(f'O valor mínimo da Series é: {np.min(x)}')\n",
    "    print(f'O range é de: {np.max(x)-np.min(x)}')\n",
    "    print(f'O desvio padrão da Series é: {round(np.std(x), 2)}')\n",
    "    print(f'A curtose da Series é: {round(x.kurtosis(), 2)}')\n",
    "    print(f'A skew da Series é: {round(x.skew(), 2)}')\n",
    "    \n",
    "# Teste de Shapiro\n",
    "def teste_shapiro(df, series):\n",
    "    random_index = np.random.choice(df.index, 500)\n",
    "    temp = df.loc[random_index]\n",
    "    shapiro_test = shapiro(temp[series].dropna())\n",
    "    if shapiro_test.pvalue > 0.05:\n",
    "        print(f'Com um p-valor = {round(shapiro_test.pvalue, 3)}, e alpha de 5%, falha em rejeitar a hipótese nula.')\n",
    "    else:\n",
    "        print(f'Com um p-valor = {round(shapiro_test.pvalue, 3)}, e alpha de 5%, rejeita a hipótese nula.')"
   ]
  },
  {
   "cell_type": "markdown",
   "id": "ce2d526c",
   "metadata": {
    "heading_collapsed": true,
    "hidden": true
   },
   "source": [
    "###### 1.3 Loading Dataset"
   ]
  },
  {
   "cell_type": "code",
   "execution_count": 3,
   "id": "6109b44a",
   "metadata": {
    "ExecuteTime": {
     "end_time": "2021-07-22T14:30:21.812093Z",
     "start_time": "2021-07-22T14:30:19.995309Z"
    },
    "hidden": true,
    "id": "A_vrsVlknJ2z"
   },
   "outputs": [],
   "source": [
    "train = pd.read_csv(r'C:\\\\Users\\Notebook\\\\Google Drive\\\\Pessoal\\\\Projetos\\\\insurance_sales_predict\\\\train.csv')\n",
    "test = pd.read_csv(r'C:\\\\Users\\Notebook\\\\Google Drive\\\\Pessoal\\\\Projetos\\\\insurance_sales_predict\\\\test.csv')"
   ]
  },
  {
   "cell_type": "markdown",
   "id": "fd28b114",
   "metadata": {
    "heading_collapsed": true,
    "hidden": true
   },
   "source": [
    "###### 1.4 Concating Train and Test into a Matrix Dataset"
   ]
  },
  {
   "cell_type": "code",
   "execution_count": 4,
   "id": "107e8b1a",
   "metadata": {
    "hidden": true
   },
   "outputs": [],
   "source": [
    "df = pd.concat([train, test])"
   ]
  },
  {
   "cell_type": "markdown",
   "id": "8e6562b2",
   "metadata": {
    "heading_collapsed": true,
    "hidden": true
   },
   "source": [
    "###### 1.5 Creating Submission Table"
   ]
  },
  {
   "cell_type": "code",
   "execution_count": 5,
   "id": "a39a539f",
   "metadata": {
    "hidden": true
   },
   "outputs": [],
   "source": [
    "submission = pd.DataFrame()\n",
    "submission['id'] = test['id']"
   ]
  },
  {
   "cell_type": "markdown",
   "id": "2eecf223",
   "metadata": {
    "heading_collapsed": true,
    "id": "Mok1q9y5cpP-"
   },
   "source": [
    "# 2.0 General Analysis and Data Cleaning"
   ]
  },
  {
   "cell_type": "markdown",
   "id": "f9d4d186",
   "metadata": {
    "heading_collapsed": true,
    "hidden": true
   },
   "source": [
    "## 2.1 Main insights:\n",
    "\n",
    "###### Response:\n",
    "1. Desbalanceada com 12% de eventos positivos\n",
    "2. Correlação fraca com Vehicle_Damage e correlação fraca negativa com Previously_Insured\n",
    "\n",
    "###### Gender:\n",
    "1. Balanceada\n",
    "2. Correlações muito fracas\n",
    "3. Homens se interessam 30% mais no produto em relação às mulheres\n",
    "\n",
    "###### Vehicle_Age:\n",
    "1. Mais da metade dos clientes possuem carros com menos de 1 ano\n",
    "2. Correlação moderada negativa com Age, fraca positiva com Policy_Sales_Channel\n",
    "3. Médias de response bastante distintas\n",
    "\n",
    "###### Vehicle_Damage:\n",
    "1. Balanceada\n",
    "2. Correlação muito forte negativa com Previously_Insured, fraca negativa com Policy_Sales_Channel, fraca positiva com Response e Age\n",
    "3. Clientes que já tiveram danos no seu veículo tem 24% de response, enquanto clientes que não tiveram danos têm por volta de 1%\n",
    "\n",
    "###### Driving_License:\n",
    "1. Correlações muito fracas\n",
    "2. 99% dos clientes são habilitados\n",
    "3. Habilitados apresentam 5% de interesse no produto, não habilitados apresentam 12% de interesse no produto.\n",
    "\n",
    "###### Previously_Insured:\n",
    "1. 45% dos clientes já possuem seguro veicular\n",
    "2. Clientes que já possuem seguro têm interesse quase zero pelo produto\n",
    "3. Correlação muito forte negativa com Vehicle_Damage, fraca negativa com Response e Age, e fraca positiva com Policy_Sales_Channel\n",
    "\n",
    "###### Region_Code:\n",
    "1. 53 regiões\n",
    "2. 28% dos clientes está contido na região 28. 50% dos dados estão contidos nas 5 regiões mais numerosas\n",
    "3. A região 28 (mais importante) tem por volta de 18% de probabilidade de response, segunda melhor região, atrás apenas da região 38.\n",
    "4. As regiões com probabilidade de response mais alto estão com por volta de 19%, as regiões com probabilidades mais baixas estã em por volta de 4%\n",
    "5. Médias de response bastante distintas, com desvios padrões baixos\n",
    "\n",
    "###### Policy_Sales_Channel:\n",
    "1. Há 157 Policy_Sales_Channel e aproximadamente um terço das amostras está contido no canal 152\n",
    "2. 5 categorias contém 84.19% do total de clientes\n",
    "3. Correlação moderada negativa com Age, correlação fraca negativa com Vehicle_Damage, correlação fraca positiva com Vehicle_Age e Previously_Insured\n",
    "4. Médias de response por canais de Policy_Sales_Channel bastante distintas\n",
    "5. Os canais mais utilizados apresentam médias de response bastante diferentes da média global, os canal 152 é o mais utilizado e apresenta 2% de interesse no produto, o canal 155 apresenta 2%, já os canais 26, 124 e 156 apresentam por volta de 20% de interesse no produto\n",
    "\n",
    "###### Vintage:\n",
    "1. Feature categórica, há 290 categorias em Vintage\n",
    "\n",
    "###### Age:\n",
    "1. Range de idade de 25 até 85 anos, aparentemente sem erros de input\n",
    "2. Apresenta uma distribuição com uma certa semelhança com uma Poison, mas com uma segunda moda em um ponto próximo aos 45 anos.\n",
    "3. Sem outliers\n",
    "4. A média de idade entre os que não se interessam pelo produto é de 38 anos, e dos que se interessam é de 43 anos.\n",
    "5. Pessoas com mais de 30 anos apresentam um interesse relativamente maior pelo produto.\n",
    "6. Correlações moderadas negativas com Policy_Sales_Channel e Vehicle_Age, fraca negativa com Previously_Insured e fraca positiva com Vehicle_Damage\n",
    "\n",
    "###### Annual_Premium\n",
    "1. 2799 em Annual_Premmium, não aparentam ser por conta de erros de input\n",
    "2. Há dois grupos de clientes, um com valores fixos em 2630 dollares, e outro com valores contínuos e superiores, não há diferença significativa de média de interesse no produto entre os grupos\n",
    "3. Aparentemente acima do terceiro quartil da distribuição há um interesse maior no produto"
   ]
  },
  {
   "cell_type": "markdown",
   "id": "2404a497",
   "metadata": {
    "heading_collapsed": true,
    "hidden": true,
    "id": "OPCzm7YK0FxI"
   },
   "source": [
    "## 2.2 Data Descriptions"
   ]
  },
  {
   "cell_type": "markdown",
   "id": "8513ff12",
   "metadata": {
    "heading_collapsed": true,
    "hidden": true
   },
   "source": [
    "###### 2.1.1 Data dimensions"
   ]
  },
  {
   "cell_type": "code",
   "execution_count": 6,
   "id": "393a5d23",
   "metadata": {
    "ExecuteTime": {
     "end_time": "2021-07-22T14:30:21.929081Z",
     "start_time": "2021-07-22T14:30:21.916081Z"
    },
    "colab": {
     "base_uri": "https://localhost:8080/"
    },
    "hidden": true,
    "id": "Zwy0E8ZIpLPl",
    "outputId": "92dac05e-4d44-4748-b5bd-068d3508e129"
   },
   "outputs": [
    {
     "name": "stdout",
     "output_type": "stream",
     "text": [
      "Number of rows: 381109\n",
      "Number of columns: 12\n"
     ]
    }
   ],
   "source": [
    "print(f'Number of rows: {train.shape[0]}')\n",
    "print(f'Number of columns: {train.shape[1]}')"
   ]
  },
  {
   "cell_type": "markdown",
   "id": "949283e5",
   "metadata": {
    "heading_collapsed": true,
    "hidden": true
   },
   "source": [
    "###### 2.1.2 Data types"
   ]
  },
  {
   "cell_type": "code",
   "execution_count": 7,
   "id": "4dcd82f7",
   "metadata": {
    "ExecuteTime": {
     "end_time": "2021-07-22T14:30:21.949074Z",
     "start_time": "2021-07-22T14:30:21.933077Z"
    },
    "colab": {
     "base_uri": "https://localhost:8080/"
    },
    "hidden": true,
    "id": "BR3AJxskpRTN",
    "outputId": "91bbf7cc-7a02-43fc-c5b0-0fffcda46562",
    "scrolled": true
   },
   "outputs": [
    {
     "data": {
      "text/plain": [
       "id                        int64\n",
       "Gender                   object\n",
       "Age                       int64\n",
       "Driving_License           int64\n",
       "Region_Code             float64\n",
       "Previously_Insured        int64\n",
       "Vehicle_Age              object\n",
       "Vehicle_Damage           object\n",
       "Annual_Premium          float64\n",
       "Policy_Sales_Channel    float64\n",
       "Vintage                   int64\n",
       "Response                  int64\n",
       "dtype: object"
      ]
     },
     "execution_count": 7,
     "metadata": {},
     "output_type": "execute_result"
    }
   ],
   "source": [
    "train.dtypes"
   ]
  },
  {
   "cell_type": "markdown",
   "id": "1d9e8c28",
   "metadata": {
    "heading_collapsed": true,
    "hidden": true
   },
   "source": [
    "###### 2.1.3 Look table"
   ]
  },
  {
   "cell_type": "code",
   "execution_count": 8,
   "id": "2447cc4a",
   "metadata": {
    "ExecuteTime": {
     "end_time": "2021-07-22T14:30:21.912079Z",
     "start_time": "2021-07-22T14:30:21.851087Z"
    },
    "colab": {
     "base_uri": "https://localhost:8080/",
     "height": 0
    },
    "hidden": true,
    "id": "FhdmLhs-pFXH",
    "outputId": "9e3dabbb-51ee-4f2e-9523-3c887a2e44ef",
    "scrolled": false
   },
   "outputs": [
    {
     "data": {
      "text/html": [
       "<div>\n",
       "<style scoped>\n",
       "    .dataframe tbody tr th:only-of-type {\n",
       "        vertical-align: middle;\n",
       "    }\n",
       "\n",
       "    .dataframe tbody tr th {\n",
       "        vertical-align: top;\n",
       "    }\n",
       "\n",
       "    .dataframe thead th {\n",
       "        text-align: right;\n",
       "    }\n",
       "</style>\n",
       "<table border=\"1\" class=\"dataframe\">\n",
       "  <thead>\n",
       "    <tr style=\"text-align: right;\">\n",
       "      <th></th>\n",
       "      <th>id</th>\n",
       "      <th>Gender</th>\n",
       "      <th>Age</th>\n",
       "      <th>Driving_License</th>\n",
       "      <th>Region_Code</th>\n",
       "      <th>Previously_Insured</th>\n",
       "      <th>Vehicle_Age</th>\n",
       "      <th>Vehicle_Damage</th>\n",
       "      <th>Annual_Premium</th>\n",
       "      <th>Policy_Sales_Channel</th>\n",
       "      <th>Vintage</th>\n",
       "      <th>Response</th>\n",
       "    </tr>\n",
       "  </thead>\n",
       "  <tbody>\n",
       "    <tr>\n",
       "      <th>0</th>\n",
       "      <td>1</td>\n",
       "      <td>Male</td>\n",
       "      <td>44</td>\n",
       "      <td>1</td>\n",
       "      <td>28.0</td>\n",
       "      <td>0</td>\n",
       "      <td>&gt; 2 Years</td>\n",
       "      <td>Yes</td>\n",
       "      <td>40454.0</td>\n",
       "      <td>26.0</td>\n",
       "      <td>217</td>\n",
       "      <td>1</td>\n",
       "    </tr>\n",
       "    <tr>\n",
       "      <th>1</th>\n",
       "      <td>2</td>\n",
       "      <td>Male</td>\n",
       "      <td>76</td>\n",
       "      <td>1</td>\n",
       "      <td>3.0</td>\n",
       "      <td>0</td>\n",
       "      <td>1-2 Year</td>\n",
       "      <td>No</td>\n",
       "      <td>33536.0</td>\n",
       "      <td>26.0</td>\n",
       "      <td>183</td>\n",
       "      <td>0</td>\n",
       "    </tr>\n",
       "    <tr>\n",
       "      <th>2</th>\n",
       "      <td>3</td>\n",
       "      <td>Male</td>\n",
       "      <td>47</td>\n",
       "      <td>1</td>\n",
       "      <td>28.0</td>\n",
       "      <td>0</td>\n",
       "      <td>&gt; 2 Years</td>\n",
       "      <td>Yes</td>\n",
       "      <td>38294.0</td>\n",
       "      <td>26.0</td>\n",
       "      <td>27</td>\n",
       "      <td>1</td>\n",
       "    </tr>\n",
       "    <tr>\n",
       "      <th>3</th>\n",
       "      <td>4</td>\n",
       "      <td>Male</td>\n",
       "      <td>21</td>\n",
       "      <td>1</td>\n",
       "      <td>11.0</td>\n",
       "      <td>1</td>\n",
       "      <td>&lt; 1 Year</td>\n",
       "      <td>No</td>\n",
       "      <td>28619.0</td>\n",
       "      <td>152.0</td>\n",
       "      <td>203</td>\n",
       "      <td>0</td>\n",
       "    </tr>\n",
       "    <tr>\n",
       "      <th>4</th>\n",
       "      <td>5</td>\n",
       "      <td>Female</td>\n",
       "      <td>29</td>\n",
       "      <td>1</td>\n",
       "      <td>41.0</td>\n",
       "      <td>1</td>\n",
       "      <td>&lt; 1 Year</td>\n",
       "      <td>No</td>\n",
       "      <td>27496.0</td>\n",
       "      <td>152.0</td>\n",
       "      <td>39</td>\n",
       "      <td>0</td>\n",
       "    </tr>\n",
       "  </tbody>\n",
       "</table>\n",
       "</div>"
      ],
      "text/plain": [
       "   id  Gender  Age  Driving_License  Region_Code  Previously_Insured  \\\n",
       "0   1    Male   44                1         28.0                   0   \n",
       "1   2    Male   76                1          3.0                   0   \n",
       "2   3    Male   47                1         28.0                   0   \n",
       "3   4    Male   21                1         11.0                   1   \n",
       "4   5  Female   29                1         41.0                   1   \n",
       "\n",
       "  Vehicle_Age Vehicle_Damage  Annual_Premium  Policy_Sales_Channel  Vintage  \\\n",
       "0   > 2 Years            Yes         40454.0                  26.0      217   \n",
       "1    1-2 Year             No         33536.0                  26.0      183   \n",
       "2   > 2 Years            Yes         38294.0                  26.0       27   \n",
       "3    < 1 Year             No         28619.0                 152.0      203   \n",
       "4    < 1 Year             No         27496.0                 152.0       39   \n",
       "\n",
       "   Response  \n",
       "0         1  \n",
       "1         0  \n",
       "2         1  \n",
       "3         0  \n",
       "4         0  "
      ]
     },
     "execution_count": 8,
     "metadata": {},
     "output_type": "execute_result"
    }
   ],
   "source": [
    "train.head()"
   ]
  },
  {
   "cell_type": "markdown",
   "id": "f6ea5b32",
   "metadata": {
    "hidden": true
   },
   "source": [
    "Gender, Vehicle_Age, Vehicle_Damage precisam ser transformados para que possam haver estudos de correlação"
   ]
  },
  {
   "cell_type": "markdown",
   "id": "ac06277a",
   "metadata": {
    "heading_collapsed": true,
    "hidden": true
   },
   "source": [
    "###### 2.1.4 Changing Interesting datatypes"
   ]
  },
  {
   "cell_type": "code",
   "execution_count": 9,
   "id": "ea717c09",
   "metadata": {
    "hidden": true
   },
   "outputs": [],
   "source": [
    "Gender_le = LabelEncoder()\n",
    "Gender_le.fit(df['Gender'])\n",
    "df['Gender_'] = Gender_le.transform(df['Gender'])\n",
    "\n",
    "Vehicle_Damage_le = LabelEncoder()\n",
    "Vehicle_Damage_le.fit(df['Vehicle_Damage'])\n",
    "df['Vehicle_Damage_'] = Vehicle_Damage_le.transform(df['Vehicle_Damage'])\n",
    "\n",
    "Vehicle_Age_le = LabelEncoder()\n",
    "Vehicle_Age_le.fit(df['Vehicle_Age'])\n",
    "df['Vehicle_Age_'] = Vehicle_Age_le.transform(df['Vehicle_Age'])"
   ]
  },
  {
   "cell_type": "markdown",
   "id": "7c8e6df5",
   "metadata": {
    "heading_collapsed": true,
    "hidden": true
   },
   "source": [
    "###### 2.1.5 Segregating feature types"
   ]
  },
  {
   "cell_type": "code",
   "execution_count": 10,
   "id": "da5eddb4",
   "metadata": {
    "hidden": true
   },
   "outputs": [],
   "source": [
    "features_id = ['id']\n",
    "features_string = ['Gender', 'Vehicle_Damage', 'Vehicle_Age']\n",
    "features_categóricas = ['Gender_', 'Vehicle_Damage_', 'Vehicle_Age_', 'Driving_License', 'Region_Code', 'Previously_Insured', 'Policy_Sales_Channel', 'Vintage']\n",
    "features_numéricas = ['Age', 'Annual_Premium']\n",
    "target = ['Response']"
   ]
  },
  {
   "cell_type": "markdown",
   "id": "5edbf76a",
   "metadata": {
    "heading_collapsed": true,
    "hidden": true
   },
   "source": [
    "###### 2.1.6 Check NaN values"
   ]
  },
  {
   "cell_type": "code",
   "execution_count": 11,
   "id": "4169e7ec",
   "metadata": {
    "ExecuteTime": {
     "end_time": "2021-07-22T14:30:22.172048Z",
     "start_time": "2021-07-22T14:30:21.953074Z"
    },
    "colab": {
     "base_uri": "https://localhost:8080/"
    },
    "hidden": true,
    "id": "MI1tbVODqV7w",
    "outputId": "531330d8-401f-473c-ad80-247536756b93",
    "scrolled": true
   },
   "outputs": [
    {
     "data": {
      "text/plain": [
       "id                           0\n",
       "Gender                       0\n",
       "Age                          0\n",
       "Driving_License              0\n",
       "Region_Code                  0\n",
       "Previously_Insured           0\n",
       "Vehicle_Age                  0\n",
       "Vehicle_Damage               0\n",
       "Annual_Premium               0\n",
       "Policy_Sales_Channel         0\n",
       "Vintage                      0\n",
       "Response                127037\n",
       "Gender_                      0\n",
       "Vehicle_Damage_              0\n",
       "Vehicle_Age_                 0\n",
       "dtype: int64"
      ]
     },
     "execution_count": 11,
     "metadata": {},
     "output_type": "execute_result"
    }
   ],
   "source": [
    "df.isna().sum()"
   ]
  },
  {
   "cell_type": "markdown",
   "id": "59d2d673",
   "metadata": {
    "hidden": true,
    "id": "XRMPolchqY1f"
   },
   "source": [
    "Sem valores nulos"
   ]
  },
  {
   "cell_type": "markdown",
   "id": "4437ccc8",
   "metadata": {
    "heading_collapsed": true,
    "hidden": true
   },
   "source": [
    "## 2.3 Descriptive Statistics"
   ]
  },
  {
   "cell_type": "markdown",
   "id": "016a9b27",
   "metadata": {
    "heading_collapsed": true,
    "hidden": true
   },
   "source": [
    "### 2.2.1 Target"
   ]
  },
  {
   "cell_type": "code",
   "execution_count": 12,
   "id": "33666982",
   "metadata": {
    "hidden": true
   },
   "outputs": [
    {
     "name": "stdout",
     "output_type": "stream",
     "text": [
      "A porcentagem de interessados no produto é: 12.0 %\n"
     ]
    }
   ],
   "source": [
    "print(f'A porcentagem de interessados no produto é: {round(df[\"Response\"].mean(), 2) * 100} %')"
   ]
  },
  {
   "cell_type": "markdown",
   "id": "1dd6a697",
   "metadata": {
    "hidden": true
   },
   "source": [
    "Desbalanceada"
   ]
  },
  {
   "cell_type": "markdown",
   "id": "87762e11",
   "metadata": {
    "heading_collapsed": true,
    "hidden": true
   },
   "source": [
    "### 2.2.2 Numerical Features"
   ]
  },
  {
   "cell_type": "code",
   "execution_count": 13,
   "id": "c51d0503",
   "metadata": {
    "ExecuteTime": {
     "end_time": "2021-07-22T14:30:22.521011Z",
     "start_time": "2021-07-22T14:30:22.181049Z"
    },
    "colab": {
     "base_uri": "https://localhost:8080/",
     "height": 0
    },
    "hidden": true,
    "id": "R3zqwAqNtq0t",
    "outputId": "74ae0af1-3205-4f40-f697-53ba371ecfd9",
    "scrolled": false
   },
   "outputs": [
    {
     "data": {
      "text/html": [
       "<div>\n",
       "<style scoped>\n",
       "    .dataframe tbody tr th:only-of-type {\n",
       "        vertical-align: middle;\n",
       "    }\n",
       "\n",
       "    .dataframe tbody tr th {\n",
       "        vertical-align: top;\n",
       "    }\n",
       "\n",
       "    .dataframe thead th {\n",
       "        text-align: right;\n",
       "    }\n",
       "</style>\n",
       "<table border=\"1\" class=\"dataframe\">\n",
       "  <thead>\n",
       "    <tr style=\"text-align: right;\">\n",
       "      <th></th>\n",
       "      <th>Age</th>\n",
       "      <th>Annual_Premium</th>\n",
       "    </tr>\n",
       "  </thead>\n",
       "  <tbody>\n",
       "    <tr>\n",
       "      <th>count</th>\n",
       "      <td>508146.000000</td>\n",
       "      <td>508146.000000</td>\n",
       "    </tr>\n",
       "    <tr>\n",
       "      <th>mean</th>\n",
       "      <td>38.808413</td>\n",
       "      <td>30554.453041</td>\n",
       "    </tr>\n",
       "    <tr>\n",
       "      <th>std</th>\n",
       "      <td>15.500179</td>\n",
       "      <td>17146.574625</td>\n",
       "    </tr>\n",
       "    <tr>\n",
       "      <th>min</th>\n",
       "      <td>20.000000</td>\n",
       "      <td>2630.000000</td>\n",
       "    </tr>\n",
       "    <tr>\n",
       "      <th>25%</th>\n",
       "      <td>25.000000</td>\n",
       "      <td>24381.000000</td>\n",
       "    </tr>\n",
       "    <tr>\n",
       "      <th>50%</th>\n",
       "      <td>36.000000</td>\n",
       "      <td>31661.000000</td>\n",
       "    </tr>\n",
       "    <tr>\n",
       "      <th>75%</th>\n",
       "      <td>49.000000</td>\n",
       "      <td>39403.750000</td>\n",
       "    </tr>\n",
       "    <tr>\n",
       "      <th>max</th>\n",
       "      <td>85.000000</td>\n",
       "      <td>540165.000000</td>\n",
       "    </tr>\n",
       "  </tbody>\n",
       "</table>\n",
       "</div>"
      ],
      "text/plain": [
       "                 Age  Annual_Premium\n",
       "count  508146.000000   508146.000000\n",
       "mean       38.808413    30554.453041\n",
       "std        15.500179    17146.574625\n",
       "min        20.000000     2630.000000\n",
       "25%        25.000000    24381.000000\n",
       "50%        36.000000    31661.000000\n",
       "75%        49.000000    39403.750000\n",
       "max        85.000000   540165.000000"
      ]
     },
     "execution_count": 13,
     "metadata": {},
     "output_type": "execute_result"
    }
   ],
   "source": [
    "df[features_numéricas].describe()"
   ]
  },
  {
   "cell_type": "markdown",
   "id": "e6b49535",
   "metadata": {
    "hidden": true
   },
   "source": [
    "Range de idade entre 20 e 85 anos, sem indícios de erros de inputs, Annual_Premium com possíveis outliers"
   ]
  },
  {
   "cell_type": "markdown",
   "id": "c39cf46a",
   "metadata": {
    "heading_collapsed": true,
    "hidden": true
   },
   "source": [
    "###### Age"
   ]
  },
  {
   "cell_type": "code",
   "execution_count": 14,
   "id": "37f93afa",
   "metadata": {
    "hidden": true
   },
   "outputs": [
    {
     "name": "stdout",
     "output_type": "stream",
     "text": [
      "A média da Series é: 38.81\n",
      "O valor máximo da Series é: 85\n",
      "O valor mínimo da Series é: 20\n",
      "O range é de: 65\n",
      "O desvio padrão da Series é: 15.5\n",
      "A curtose da Series é: -0.56\n",
      "A skew da Series é: 0.67\n"
     ]
    }
   ],
   "source": [
    "analise_descritiva(df['Age'])"
   ]
  },
  {
   "cell_type": "markdown",
   "id": "1e699d81",
   "metadata": {
    "heading_collapsed": true,
    "hidden": true
   },
   "source": [
    "###### Annual_Premium"
   ]
  },
  {
   "cell_type": "code",
   "execution_count": 15,
   "id": "df04b8b1",
   "metadata": {
    "hidden": true
   },
   "outputs": [
    {
     "name": "stdout",
     "output_type": "stream",
     "text": [
      "A média da Series é: 30554.45\n",
      "O valor máximo da Series é: 540165.0\n",
      "O valor mínimo da Series é: 2630.0\n",
      "O range é de: 537535.0\n",
      "O desvio padrão da Series é: 17146.56\n",
      "A curtose da Series é: 30.05\n",
      "A skew da Series é: 1.6\n"
     ]
    }
   ],
   "source": [
    "analise_descritiva(df['Annual_Premium'])"
   ]
  },
  {
   "cell_type": "markdown",
   "id": "bc1ab4c8",
   "metadata": {
    "heading_collapsed": true,
    "hidden": true
   },
   "source": [
    "### 2.2.3 Categorical Features"
   ]
  },
  {
   "cell_type": "code",
   "execution_count": 16,
   "id": "fb174429",
   "metadata": {
    "hidden": true,
    "scrolled": false
   },
   "outputs": [
    {
     "data": {
      "text/html": [
       "<div>\n",
       "<style scoped>\n",
       "    .dataframe tbody tr th:only-of-type {\n",
       "        vertical-align: middle;\n",
       "    }\n",
       "\n",
       "    .dataframe tbody tr th {\n",
       "        vertical-align: top;\n",
       "    }\n",
       "\n",
       "    .dataframe thead th {\n",
       "        text-align: right;\n",
       "    }\n",
       "</style>\n",
       "<table border=\"1\" class=\"dataframe\">\n",
       "  <thead>\n",
       "    <tr style=\"text-align: right;\">\n",
       "      <th></th>\n",
       "      <th>Gender_</th>\n",
       "      <th>Vehicle_Damage_</th>\n",
       "      <th>Vehicle_Age_</th>\n",
       "      <th>Driving_License</th>\n",
       "      <th>Region_Code</th>\n",
       "      <th>Previously_Insured</th>\n",
       "      <th>Policy_Sales_Channel</th>\n",
       "      <th>Vintage</th>\n",
       "    </tr>\n",
       "  </thead>\n",
       "  <tbody>\n",
       "    <tr>\n",
       "      <th>count</th>\n",
       "      <td>508146</td>\n",
       "      <td>508146</td>\n",
       "      <td>508146</td>\n",
       "      <td>508146</td>\n",
       "      <td>508146.0</td>\n",
       "      <td>508146</td>\n",
       "      <td>508146.0</td>\n",
       "      <td>508146</td>\n",
       "    </tr>\n",
       "    <tr>\n",
       "      <th>unique</th>\n",
       "      <td>2</td>\n",
       "      <td>2</td>\n",
       "      <td>3</td>\n",
       "      <td>2</td>\n",
       "      <td>53.0</td>\n",
       "      <td>2</td>\n",
       "      <td>157.0</td>\n",
       "      <td>290</td>\n",
       "    </tr>\n",
       "    <tr>\n",
       "      <th>top</th>\n",
       "      <td>1</td>\n",
       "      <td>1</td>\n",
       "      <td>0</td>\n",
       "      <td>1</td>\n",
       "      <td>28.0</td>\n",
       "      <td>0</td>\n",
       "      <td>152.0</td>\n",
       "      <td>256</td>\n",
       "    </tr>\n",
       "    <tr>\n",
       "      <th>freq</th>\n",
       "      <td>274325</td>\n",
       "      <td>256248</td>\n",
       "      <td>267015</td>\n",
       "      <td>507097</td>\n",
       "      <td>141937.0</td>\n",
       "      <td>275076</td>\n",
       "      <td>179523.0</td>\n",
       "      <td>1877</td>\n",
       "    </tr>\n",
       "  </tbody>\n",
       "</table>\n",
       "</div>"
      ],
      "text/plain": [
       "        Gender_  Vehicle_Damage_  Vehicle_Age_  Driving_License  Region_Code  \\\n",
       "count    508146           508146        508146           508146     508146.0   \n",
       "unique        2                2             3                2         53.0   \n",
       "top           1                1             0                1         28.0   \n",
       "freq     274325           256248        267015           507097     141937.0   \n",
       "\n",
       "        Previously_Insured  Policy_Sales_Channel  Vintage  \n",
       "count               508146              508146.0   508146  \n",
       "unique                   2                 157.0      290  \n",
       "top                      0                 152.0      256  \n",
       "freq                275076              179523.0     1877  "
      ]
     },
     "execution_count": 16,
     "metadata": {},
     "output_type": "execute_result"
    }
   ],
   "source": [
    "df[features_categóricas].astype('category').describe()"
   ]
  },
  {
   "cell_type": "code",
   "execution_count": 17,
   "id": "c3a57ec2",
   "metadata": {
    "hidden": true
   },
   "outputs": [
    {
     "data": {
      "text/plain": [
       "array(['Female'], dtype=object)"
      ]
     },
     "execution_count": 17,
     "metadata": {},
     "output_type": "execute_result"
    }
   ],
   "source": [
    "Gender_le.inverse_transform([0])"
   ]
  },
  {
   "cell_type": "code",
   "execution_count": 18,
   "id": "3c3ecae5",
   "metadata": {
    "hidden": true
   },
   "outputs": [
    {
     "data": {
      "text/plain": [
       "array(['Yes'], dtype=object)"
      ]
     },
     "execution_count": 18,
     "metadata": {},
     "output_type": "execute_result"
    }
   ],
   "source": [
    "Vehicle_Damage_le.inverse_transform([1])"
   ]
  },
  {
   "cell_type": "code",
   "execution_count": 19,
   "id": "d30dfdef",
   "metadata": {
    "hidden": true
   },
   "outputs": [
    {
     "data": {
      "text/plain": [
       "array(['< 1 Year'], dtype=object)"
      ]
     },
     "execution_count": 19,
     "metadata": {},
     "output_type": "execute_result"
    }
   ],
   "source": [
    "Vehicle_Age_le.inverse_transform([1])"
   ]
  },
  {
   "cell_type": "markdown",
   "id": "13942d5c",
   "metadata": {
    "hidden": true
   },
   "source": [
    "Sexo relativamente balanceado com a maioria de mulheres, maior parte dos clientes possuem veículos com menos de 1 ano, maior parte dos clientes já teve danos em seu veículo, habilitação para dirigir balanceado, há 53 regiões diferentes e por volta de 30% dos clientes estão contidos na região 28, um pouco mais que 50% dos clientes não possuem seguro veicular, há 157 canais de vendas, e por volta de 35% dos clientes estão contidos no canal 152."
   ]
  },
  {
   "cell_type": "markdown",
   "id": "1e2e363c",
   "metadata": {
    "heading_collapsed": true,
    "hidden": true
   },
   "source": [
    "### 2.2.4 Features Individual Analysis"
   ]
  },
  {
   "cell_type": "markdown",
   "id": "dd7883dd",
   "metadata": {
    "heading_collapsed": true,
    "hidden": true
   },
   "source": [
    "#### Response"
   ]
  },
  {
   "cell_type": "markdown",
   "id": "afccaecc",
   "metadata": {
    "heading_collapsed": true,
    "hidden": true
   },
   "source": [
    "###### Principais Insights:\n",
    "1. Desbalanceada com 12% de eventos positivos\n",
    "2. Correlação fraca com Vehicle_Damage e correlação fraca negativa com Previously_Insured"
   ]
  },
  {
   "cell_type": "markdown",
   "id": "2dcadbd7",
   "metadata": {
    "heading_collapsed": true,
    "hidden": true
   },
   "source": [
    "###### General Analysis"
   ]
  },
  {
   "cell_type": "code",
   "execution_count": 20,
   "id": "7366a116",
   "metadata": {
    "hidden": true
   },
   "outputs": [
    {
     "data": {
      "text/plain": [
       "0.12256336113815208"
      ]
     },
     "execution_count": 20,
     "metadata": {},
     "output_type": "execute_result"
    }
   ],
   "source": [
    "df['Response'].mean()"
   ]
  },
  {
   "cell_type": "code",
   "execution_count": 21,
   "id": "feac848c",
   "metadata": {
    "hidden": true
   },
   "outputs": [
    {
     "data": {
      "text/plain": [
       "Vehicle_Damage_         0.354400\n",
       "Age                     0.111147\n",
       "Gender_                 0.052440\n",
       "Annual_Premium          0.022575\n",
       "Region_Code             0.010570\n",
       "Driving_License         0.010155\n",
       "Vintage                -0.001050\n",
       "id                     -0.001368\n",
       "Vehicle_Age_           -0.104078\n",
       "Policy_Sales_Channel   -0.139042\n",
       "Previously_Insured     -0.341170\n",
       "Name: Response, dtype: float64"
      ]
     },
     "execution_count": 21,
     "metadata": {},
     "output_type": "execute_result"
    }
   ],
   "source": [
    "df.corr()['Response'].sort_values(ascending=False)[1:]"
   ]
  },
  {
   "cell_type": "markdown",
   "id": "7ec82072",
   "metadata": {
    "hidden": true
   },
   "source": [
    "Correlação fraca com Vehicle_Damage e correlação fraca negativa com Previously_Insured"
   ]
  },
  {
   "cell_type": "markdown",
   "id": "c2911d26",
   "metadata": {
    "heading_collapsed": true,
    "hidden": true
   },
   "source": [
    "#### Gender"
   ]
  },
  {
   "cell_type": "markdown",
   "id": "7713586b",
   "metadata": {
    "heading_collapsed": true,
    "hidden": true
   },
   "source": [
    "###### Principais Insights:\n",
    "1. Balanceada\n",
    "2. Correlações muito fracas\n",
    "3. Homens se interessam 30% mais no produto em relação às mulheres"
   ]
  },
  {
   "cell_type": "markdown",
   "id": "2e0a0a9f",
   "metadata": {
    "heading_collapsed": true,
    "hidden": true
   },
   "source": [
    "###### General Analysis"
   ]
  },
  {
   "cell_type": "code",
   "execution_count": 22,
   "id": "9f6df35a",
   "metadata": {
    "hidden": true,
    "scrolled": true
   },
   "outputs": [
    {
     "data": {
      "text/plain": [
       "Age                     0.146573\n",
       "Vehicle_Damage_         0.092273\n",
       "Response                0.052440\n",
       "Annual_Premium          0.003502\n",
       "Region_Code             0.000684\n",
       "id                     -0.001765\n",
       "Vintage                -0.002098\n",
       "Driving_License        -0.017720\n",
       "Previously_Insured     -0.082726\n",
       "Policy_Sales_Channel   -0.111565\n",
       "Vehicle_Age_           -0.113453\n",
       "Name: Gender_, dtype: float64"
      ]
     },
     "execution_count": 22,
     "metadata": {},
     "output_type": "execute_result"
    }
   ],
   "source": [
    "df.corr()['Gender_'].sort_values(ascending=False)[1:]"
   ]
  },
  {
   "cell_type": "markdown",
   "id": "2ff8db9f",
   "metadata": {
    "hidden": true
   },
   "source": [
    "Correlações muito fracas"
   ]
  },
  {
   "cell_type": "code",
   "execution_count": 23,
   "id": "6d230d88",
   "metadata": {
    "hidden": true
   },
   "outputs": [
    {
     "data": {
      "text/plain": [
       "array(['Female'], dtype=object)"
      ]
     },
     "execution_count": 23,
     "metadata": {},
     "output_type": "execute_result"
    }
   ],
   "source": [
    "Gender_le.inverse_transform([0])"
   ]
  },
  {
   "cell_type": "code",
   "execution_count": 24,
   "id": "bfa46357",
   "metadata": {
    "hidden": true
   },
   "outputs": [
    {
     "name": "stdout",
     "output_type": "stream",
     "text": [
      "10.39% das mulheres se interessam pelo produto.\n",
      "13.84% dos homens se interessam pelo produto.\n"
     ]
    }
   ],
   "source": [
    "print(f'{round(df.loc[df[\"Gender_\"]==0, \"Response\"].mean() *100, 2)}% das mulheres se interessam pelo produto.')\n",
    "print(f'{round(df.loc[df[\"Gender_\"]==1, \"Response\"].mean() *100, 2)}% dos homens se interessam pelo produto.')"
   ]
  },
  {
   "cell_type": "markdown",
   "id": "6be7821e",
   "metadata": {
    "heading_collapsed": true,
    "hidden": true
   },
   "source": [
    "#### Age"
   ]
  },
  {
   "cell_type": "markdown",
   "id": "d6e89e89",
   "metadata": {
    "heading_collapsed": true,
    "hidden": true
   },
   "source": [
    "###### Principais Insights:\n",
    "1. Range de idade de 25 até 85 anos, aparentemente sem erros de input\n",
    "2. Apresenta uma distribuição com uma certa semelhança com uma Poison, mas com uma segunda moda em um ponto próximo aos 45 anos.\n",
    "3. Sem outliers\n",
    "4. A média de idade entre os que não se interessam pelo produto é de 38 anos, e dos que se interessam é de 43 anos.\n",
    "5. Pessoas com mais de 30 anos apresentam um interesse relativamente maior pelo produto.\n",
    "6. Correlações moderadas negativas com Policy_Sales_Channel e Vehicle_Age, fraca negativa com Previously_Insured e fraca positiva com Vehicle_Damage"
   ]
  },
  {
   "cell_type": "markdown",
   "id": "a4c06364",
   "metadata": {
    "heading_collapsed": true,
    "hidden": true
   },
   "source": [
    "###### General Analysis"
   ]
  },
  {
   "cell_type": "code",
   "execution_count": 25,
   "id": "9771e381",
   "metadata": {
    "hidden": true
   },
   "outputs": [
    {
     "data": {
      "text/plain": [
       "Vehicle_Damage_         0.268328\n",
       "Gender_                 0.146573\n",
       "Response                0.111147\n",
       "Annual_Premium          0.067392\n",
       "Region_Code             0.041649\n",
       "Vintage                -0.000010\n",
       "id                     -0.000643\n",
       "Driving_License        -0.079660\n",
       "Previously_Insured     -0.255582\n",
       "Vehicle_Age_           -0.522770\n",
       "Policy_Sales_Channel   -0.577043\n",
       "Name: Age, dtype: float64"
      ]
     },
     "execution_count": 25,
     "metadata": {},
     "output_type": "execute_result"
    }
   ],
   "source": [
    "df.corr()['Age'].sort_values(ascending=False)[1:]"
   ]
  },
  {
   "cell_type": "markdown",
   "id": "f078fec3",
   "metadata": {
    "hidden": true
   },
   "source": [
    "Correlações moderadas negativas com Policy_Sales_Channel e Vehicle_Age, fraca negativa com Previously_Insured e fraca positiva com Vehicle_Damage"
   ]
  },
  {
   "cell_type": "code",
   "execution_count": 26,
   "id": "25ccf189",
   "metadata": {
    "hidden": true
   },
   "outputs": [
    {
     "data": {
      "text/plain": [
       "<AxesSubplot:xlabel='Age', ylabel='Count'>"
      ]
     },
     "execution_count": 26,
     "metadata": {},
     "output_type": "execute_result"
    },
    {
     "data": {
      "image/png": "[encoded data removed]",
      "text/plain": [
       "<Figure size 432x288 with 1 Axes>"
      ]
     },
     "metadata": {
      "needs_background": "light"
     },
     "output_type": "display_data"
    }
   ],
   "source": [
    "sns.histplot(df['Age'])"
   ]
  },
  {
   "cell_type": "markdown",
   "id": "d924b76e",
   "metadata": {
    "hidden": true
   },
   "source": [
    "Apresenta uma distribuição com uma certa semelhança com uma Poison, mas com uma segunda moda em um ponto próximo aos 45 anos."
   ]
  },
  {
   "cell_type": "code",
   "execution_count": 27,
   "id": "ea098730",
   "metadata": {
    "hidden": true,
    "scrolled": true
   },
   "outputs": [
    {
     "name": "stdout",
     "output_type": "stream",
     "text": [
      "A média da Series é: 38.81\n",
      "O valor máximo da Series é: 85\n",
      "O valor mínimo da Series é: 20\n",
      "O range é de: 65\n",
      "O desvio padrão da Series é: 15.5\n",
      "A curtose da Series é: -0.56\n",
      "A skew da Series é: 0.67\n"
     ]
    }
   ],
   "source": [
    "analise_descritiva(df['Age'])"
   ]
  },
  {
   "cell_type": "code",
   "execution_count": 28,
   "id": "98938b7c",
   "metadata": {
    "hidden": true
   },
   "outputs": [],
   "source": [
    "índices, li, ls = buscar_outlier(df, 'Age')"
   ]
  },
  {
   "cell_type": "code",
   "execution_count": 29,
   "id": "014cb637",
   "metadata": {
    "hidden": true
   },
   "outputs": [
    {
     "data": {
      "text/html": [
       "<div>\n",
       "<style scoped>\n",
       "    .dataframe tbody tr th:only-of-type {\n",
       "        vertical-align: middle;\n",
       "    }\n",
       "\n",
       "    .dataframe tbody tr th {\n",
       "        vertical-align: top;\n",
       "    }\n",
       "\n",
       "    .dataframe thead th {\n",
       "        text-align: right;\n",
       "    }\n",
       "</style>\n",
       "<table border=\"1\" class=\"dataframe\">\n",
       "  <thead>\n",
       "    <tr style=\"text-align: right;\">\n",
       "      <th></th>\n",
       "      <th>id</th>\n",
       "      <th>Gender</th>\n",
       "      <th>Age</th>\n",
       "      <th>Driving_License</th>\n",
       "      <th>Region_Code</th>\n",
       "      <th>Previously_Insured</th>\n",
       "      <th>Vehicle_Age</th>\n",
       "      <th>Vehicle_Damage</th>\n",
       "      <th>Annual_Premium</th>\n",
       "      <th>Policy_Sales_Channel</th>\n",
       "      <th>Vintage</th>\n",
       "      <th>Response</th>\n",
       "      <th>Gender_</th>\n",
       "      <th>Vehicle_Damage_</th>\n",
       "      <th>Vehicle_Age_</th>\n",
       "    </tr>\n",
       "  </thead>\n",
       "  <tbody>\n",
       "  </tbody>\n",
       "</table>\n",
       "</div>"
      ],
      "text/plain": [
       "Empty DataFrame\n",
       "Columns: [id, Gender, Age, Driving_License, Region_Code, Previously_Insured, Vehicle_Age, Vehicle_Damage, Annual_Premium, Policy_Sales_Channel, Vintage, Response, Gender_, Vehicle_Damage_, Vehicle_Age_]\n",
       "Index: []"
      ]
     },
     "execution_count": 29,
     "metadata": {},
     "output_type": "execute_result"
    }
   ],
   "source": [
    "df.loc[índices]"
   ]
  },
  {
   "cell_type": "code",
   "execution_count": 30,
   "id": "f14dd1e9",
   "metadata": {
    "hidden": true,
    "scrolled": false
   },
   "outputs": [
    {
     "name": "stderr",
     "output_type": "stream",
     "text": [
      "C:\\Users\\Notebook\\anaconda3\\lib\\site-packages\\seaborn\\_decorators.py:36: FutureWarning: Pass the following variable as a keyword arg: x. From version 0.12, the only valid positional argument will be `data`, and passing other arguments without an explicit keyword will result in an error or misinterpretation.\n",
      "  warnings.warn(\n"
     ]
    },
    {
     "data": {
      "text/plain": [
       "<AxesSubplot:xlabel='Age'>"
      ]
     },
     "execution_count": 30,
     "metadata": {},
     "output_type": "execute_result"
    },
    {
     "data": {
      "image/png": "[encoded data removed]",
      "text/plain": [
       "<Figure size 432x288 with 1 Axes>"
      ]
     },
     "metadata": {
      "needs_background": "light"
     },
     "output_type": "display_data"
    }
   ],
   "source": [
    "sns.boxplot(df['Age'])"
   ]
  },
  {
   "cell_type": "markdown",
   "id": "ee604352",
   "metadata": {
    "hidden": true
   },
   "source": [
    "sem outliers"
   ]
  },
  {
   "cell_type": "code",
   "execution_count": 31,
   "id": "c59f5095",
   "metadata": {
    "hidden": true,
    "scrolled": true
   },
   "outputs": [
    {
     "name": "stdout",
     "output_type": "stream",
     "text": [
      "A média de idade entre os que NÃO se interessam pelo produto: 38.18%\n",
      "A média de idade entre os que se interessam pelo produto: 43.44%\n"
     ]
    }
   ],
   "source": [
    "print(f'A média de idade entre os que NÃO se interessam pelo produto: {round(df.loc[df[\"Response\"]==0, \"Age\"].mean(), 2)}%')\n",
    "print(f'A média de idade entre os que se interessam pelo produto: {round(df.loc[df[\"Response\"]==1, \"Age\"].mean(), 2)}%')"
   ]
  },
  {
   "cell_type": "code",
   "execution_count": 32,
   "id": "12baa2ad",
   "metadata": {
    "hidden": true,
    "scrolled": true
   },
   "outputs": [
    {
     "data": {
      "image/png": "[encoded data removed]",
      "text/plain": [
       "<Figure size 432x288 with 2 Axes>"
      ]
     },
     "metadata": {
      "needs_background": "light"
     },
     "output_type": "display_data"
    }
   ],
   "source": [
    "plt.subplot(2, 1, 1)\n",
    "g = sns.histplot(df.loc[df['Response']==0, 'Age'], color='r', alpha=0.5)\n",
    "g = sns.histplot(df.loc[df['Response']==1, 'Age'], color='b', alpha=0.5)\n",
    "plt.subplot(2, 1, 2)\n",
    "g = sns.kdeplot(df.loc[df['Response']==0, 'Age'], color='r', alpha=0.5)\n",
    "g = sns.kdeplot(df.loc[df['Response']==1, 'Age'], color='b', alpha=0.5)"
   ]
  },
  {
   "cell_type": "markdown",
   "id": "2b66ad2f",
   "metadata": {
    "hidden": true
   },
   "source": [
    "Pessoas mais velhas apresentam maior interesse no produto"
   ]
  },
  {
   "cell_type": "markdown",
   "id": "7c066301",
   "metadata": {
    "heading_collapsed": true,
    "hidden": true
   },
   "source": [
    "#### Driving_License"
   ]
  },
  {
   "cell_type": "markdown",
   "id": "2555b345",
   "metadata": {
    "heading_collapsed": true,
    "hidden": true
   },
   "source": [
    "###### Principais Insights:\n",
    "1. Correlações muito fracas\n",
    "2. 99% dos clientes são habilitados\n",
    "3. Habilitados apresentam 5% de interesse no produto, não habilitados apresentam 12% de interesse no produto."
   ]
  },
  {
   "cell_type": "markdown",
   "id": "82593a5f",
   "metadata": {
    "heading_collapsed": true,
    "hidden": true
   },
   "source": [
    "###### General Analysis"
   ]
  },
  {
   "cell_type": "code",
   "execution_count": 33,
   "id": "505f1939",
   "metadata": {
    "hidden": true,
    "scrolled": true
   },
   "outputs": [
    {
     "data": {
      "text/plain": [
       "Policy_Sales_Channel    0.042862\n",
       "Vehicle_Age_            0.030010\n",
       "Previously_Insured      0.014370\n",
       "Response                0.010155\n",
       "id                      0.001362\n",
       "Region_Code            -0.000202\n",
       "Vintage                -0.000850\n",
       "Annual_Premium         -0.012084\n",
       "Vehicle_Damage_        -0.015784\n",
       "Gender_                -0.017720\n",
       "Age                    -0.079660\n",
       "Name: Driving_License, dtype: float64"
      ]
     },
     "execution_count": 33,
     "metadata": {},
     "output_type": "execute_result"
    }
   ],
   "source": [
    "df.corr()['Driving_License'].sort_values(ascending=False)[1:]"
   ]
  },
  {
   "cell_type": "markdown",
   "id": "9af3b317",
   "metadata": {
    "hidden": true
   },
   "source": [
    "Correlações muito fracas"
   ]
  },
  {
   "cell_type": "code",
   "execution_count": 34,
   "id": "0fc5482d",
   "metadata": {
    "hidden": true
   },
   "outputs": [
    {
     "name": "stdout",
     "output_type": "stream",
     "text": [
      "0.998% dos clientes são habilitados\n"
     ]
    }
   ],
   "source": [
    "print(f'{round(df[\"Driving_License\"].mean(), 3)}% dos clientes são habilitados')"
   ]
  },
  {
   "cell_type": "code",
   "execution_count": 35,
   "id": "70cc6aa7",
   "metadata": {
    "hidden": true
   },
   "outputs": [
    {
     "data": {
      "image/png": "[encoded data removed]",
      "text/plain": [
       "<Figure size 360x360 with 1 Axes>"
      ]
     },
     "metadata": {
      "needs_background": "light"
     },
     "output_type": "display_data"
    }
   ],
   "source": [
    "sns.catplot(x='Driving_License', y= 'Response', data=df, kind='bar')\n",
    "plt.ylabel('Response_mean');"
   ]
  },
  {
   "cell_type": "code",
   "execution_count": 36,
   "id": "080a7f4a",
   "metadata": {
    "hidden": true,
    "scrolled": false
   },
   "outputs": [
    {
     "name": "stdout",
     "output_type": "stream",
     "text": [
      "Habilitados tem: 5.05% de interesse no produto\n",
      "NÃO habilitados tem: 12.27% de interesse no produto\n"
     ]
    }
   ],
   "source": [
    "print(f'Habilitados tem: {round(df.loc[df[\"Driving_License\"]==0, \"Response\"].mean()*100, 2)}% de interesse no produto')\n",
    "print(f'NÃO habilitados tem: {round(df.loc[df[\"Driving_License\"]==1, \"Response\"].mean()*100, 2)}% de interesse no produto')"
   ]
  },
  {
   "cell_type": "markdown",
   "id": "b5e1e0df",
   "metadata": {
    "heading_collapsed": true,
    "hidden": true
   },
   "source": [
    "#### Previously_Insured"
   ]
  },
  {
   "cell_type": "markdown",
   "id": "13979723",
   "metadata": {
    "heading_collapsed": true,
    "hidden": true
   },
   "source": [
    "###### Principais Insights:\n",
    "1. 45% dos clientes já possuem seguro veicular\n",
    "2. Clientes que já possuem seguro têm interesse quase zero pelo produto\n",
    "3. Correlação muito forte negativa com Vehicle_Damage, fraca negativa com Response e Age, e fraca positiva com Policy_Sales_Channel"
   ]
  },
  {
   "cell_type": "markdown",
   "id": "bee763e3",
   "metadata": {
    "heading_collapsed": true,
    "hidden": true
   },
   "source": [
    "###### General Analysis"
   ]
  },
  {
   "cell_type": "code",
   "execution_count": 37,
   "id": "c89e564e",
   "metadata": {
    "hidden": true
   },
   "outputs": [
    {
     "data": {
      "text/plain": [
       "Policy_Sales_Channel    0.221334\n",
       "Vehicle_Age_            0.175548\n",
       "Driving_License         0.014370\n",
       "Annual_Premium          0.004776\n",
       "id                      0.002557\n",
       "Vintage                 0.001664\n",
       "Region_Code            -0.023991\n",
       "Gender_                -0.082726\n",
       "Age                    -0.255582\n",
       "Response               -0.341170\n",
       "Vehicle_Damage_        -0.823973\n",
       "Name: Previously_Insured, dtype: float64"
      ]
     },
     "execution_count": 37,
     "metadata": {},
     "output_type": "execute_result"
    }
   ],
   "source": [
    "df.corr()['Previously_Insured'].sort_values(ascending=False)[1:]"
   ]
  },
  {
   "cell_type": "markdown",
   "id": "8259b17d",
   "metadata": {
    "hidden": true
   },
   "source": [
    "Correlação muito forte negativa com Vehicle_Damage, fraca negativa com Response e Age, e fraca positiva com Policy_Sales_Channel"
   ]
  },
  {
   "cell_type": "code",
   "execution_count": 38,
   "id": "797a96a2",
   "metadata": {
    "hidden": true
   },
   "outputs": [
    {
     "data": {
      "text/plain": [
       "0.45866739086797886"
      ]
     },
     "execution_count": 38,
     "metadata": {},
     "output_type": "execute_result"
    }
   ],
   "source": [
    "df['Previously_Insured'].mean()"
   ]
  },
  {
   "cell_type": "markdown",
   "id": "767f2ab9",
   "metadata": {
    "hidden": true
   },
   "source": [
    "45% dos clientes já sofreram danos veiculares"
   ]
  },
  {
   "cell_type": "code",
   "execution_count": 39,
   "id": "ae28945c",
   "metadata": {
    "hidden": true
   },
   "outputs": [
    {
     "data": {
      "image/png": "[encoded data removed]",
      "text/plain": [
       "<Figure size 360x360 with 1 Axes>"
      ]
     },
     "metadata": {
      "needs_background": "light"
     },
     "output_type": "display_data"
    }
   ],
   "source": [
    "sns.catplot(x='Previously_Insured', y='Response', data=df, kind='bar')\n",
    "plt.ylabel('Response_mean');"
   ]
  },
  {
   "cell_type": "code",
   "execution_count": 40,
   "id": "19b708eb",
   "metadata": {
    "hidden": true,
    "scrolled": true
   },
   "outputs": [
    {
     "data": {
      "text/plain": [
       "0.09047804475799986"
      ]
     },
     "execution_count": 40,
     "metadata": {},
     "output_type": "execute_result"
    }
   ],
   "source": [
    "df.loc[df['Previously_Insured']==1, 'Response'].mean()*100"
   ]
  },
  {
   "cell_type": "markdown",
   "id": "eb0ceac9",
   "metadata": {
    "hidden": true
   },
   "source": [
    "Clientes que possuem seguro veicular tem interesse quase zero no produto"
   ]
  },
  {
   "cell_type": "markdown",
   "id": "1bc2611e",
   "metadata": {
    "heading_collapsed": true,
    "hidden": true
   },
   "source": [
    "#### Region_Code"
   ]
  },
  {
   "cell_type": "markdown",
   "id": "bc901a8b",
   "metadata": {
    "heading_collapsed": true,
    "hidden": true
   },
   "source": [
    "###### Principais Insights:\n",
    "1. 53 regiões\n",
    "2. 28% dos clientes está contido na região 28. 50% dos dados estão contidos nas 5 regiões mais numerosas\n",
    "3. A região 28 (mais importante) tem por volta de 18% de probabilidade de response, segunda melhor região, atrás apenas da região 38.\n",
    "4. As regiões com probabilidade de response mais alto estão com por volta de 19%, as regiões com probabilidades mais baixas estã em por volta de 4%\n",
    "5. Médias de response bastante distintas, com desvios padrões baixos"
   ]
  },
  {
   "cell_type": "markdown",
   "id": "8d756b69",
   "metadata": {
    "heading_collapsed": true,
    "hidden": true
   },
   "source": [
    "###### General Analysis:"
   ]
  },
  {
   "cell_type": "code",
   "execution_count": 41,
   "id": "fb8a6160",
   "metadata": {
    "hidden": true
   },
   "outputs": [
    {
     "data": {
      "text/plain": [
       "Age                     0.041649\n",
       "Vehicle_Damage_         0.027210\n",
       "Response                0.010570\n",
       "id                      0.001325\n",
       "Gender_                 0.000684\n",
       "Driving_License        -0.000202\n",
       "Vintage                -0.001568\n",
       "Annual_Premium         -0.012012\n",
       "Previously_Insured     -0.023991\n",
       "Vehicle_Age_           -0.027622\n",
       "Policy_Sales_Channel   -0.042223\n",
       "Name: Region_Code, dtype: float64"
      ]
     },
     "execution_count": 41,
     "metadata": {},
     "output_type": "execute_result"
    }
   ],
   "source": [
    "df.corr()['Region_Code'].sort_values(ascending=False)[1:]"
   ]
  },
  {
   "cell_type": "markdown",
   "id": "92c4f679",
   "metadata": {
    "hidden": true
   },
   "source": [
    "Correlações muito fracas"
   ]
  },
  {
   "cell_type": "code",
   "execution_count": 42,
   "id": "72e0ca40",
   "metadata": {
    "hidden": true,
    "scrolled": true
   },
   "outputs": [
    {
     "data": {
      "text/plain": [
       "53"
      ]
     },
     "execution_count": 42,
     "metadata": {},
     "output_type": "execute_result"
    }
   ],
   "source": [
    "df['Region_Code'].nunique()"
   ]
  },
  {
   "cell_type": "markdown",
   "id": "b19ee8ab",
   "metadata": {
    "hidden": true
   },
   "source": [
    "53 categorias"
   ]
  },
  {
   "cell_type": "code",
   "execution_count": 43,
   "id": "e6e6959d",
   "metadata": {
    "hidden": true,
    "scrolled": true
   },
   "outputs": [
    {
     "data": {
      "text/plain": [
       "28.0    0.279323\n",
       "8.0     0.088360\n",
       "46.0    0.051869\n",
       "41.0    0.048018\n",
       "15.0    0.034931\n",
       "Name: Region_Code, dtype: float64"
      ]
     },
     "execution_count": 43,
     "metadata": {},
     "output_type": "execute_result"
    }
   ],
   "source": [
    "df['Region_Code'].value_counts(normalize=True).head(5)"
   ]
  },
  {
   "cell_type": "code",
   "execution_count": 44,
   "id": "1e4d633c",
   "metadata": {
    "hidden": true,
    "scrolled": true
   },
   "outputs": [
    {
     "data": {
      "text/plain": [
       "1.0     0.002682\n",
       "44.0    0.002094\n",
       "42.0    0.001549\n",
       "52.0    0.000703\n",
       "51.0    0.000533\n",
       "Name: Region_Code, dtype: float64"
      ]
     },
     "execution_count": 44,
     "metadata": {},
     "output_type": "execute_result"
    }
   ],
   "source": [
    "df['Region_Code'].value_counts(normalize=True).tail(5)"
   ]
  },
  {
   "cell_type": "code",
   "execution_count": 45,
   "id": "d3a95399",
   "metadata": {
    "hidden": true
   },
   "outputs": [
    {
     "data": {
      "text/plain": [
       "0.5025012496408512"
      ]
     },
     "execution_count": 45,
     "metadata": {},
     "output_type": "execute_result"
    }
   ],
   "source": [
    "df['Region_Code'].value_counts(normalize=True).head(5).sum()"
   ]
  },
  {
   "cell_type": "markdown",
   "id": "144e7b0b",
   "metadata": {
    "hidden": true
   },
   "source": [
    "28% dos clientes está contido na região 28. 50% dos dados estão contidos nas 5 regiões mais densas."
   ]
  },
  {
   "cell_type": "code",
   "execution_count": 46,
   "id": "86346872",
   "metadata": {
    "hidden": true
   },
   "outputs": [
    {
     "data": {
      "text/html": [
       "<div>\n",
       "<style scoped>\n",
       "    .dataframe tbody tr th:only-of-type {\n",
       "        vertical-align: middle;\n",
       "    }\n",
       "\n",
       "    .dataframe tbody tr th {\n",
       "        vertical-align: top;\n",
       "    }\n",
       "\n",
       "    .dataframe thead th {\n",
       "        text-align: right;\n",
       "    }\n",
       "</style>\n",
       "<table border=\"1\" class=\"dataframe\">\n",
       "  <thead>\n",
       "    <tr style=\"text-align: right;\">\n",
       "      <th></th>\n",
       "      <th>Region_Code</th>\n",
       "      <th>Response</th>\n",
       "    </tr>\n",
       "  </thead>\n",
       "  <tbody>\n",
       "    <tr>\n",
       "      <th>38</th>\n",
       "      <td>38.0</td>\n",
       "      <td>0.192004</td>\n",
       "    </tr>\n",
       "    <tr>\n",
       "      <th>28</th>\n",
       "      <td>28.0</td>\n",
       "      <td>0.187163</td>\n",
       "    </tr>\n",
       "    <tr>\n",
       "      <th>19</th>\n",
       "      <td>19.0</td>\n",
       "      <td>0.162866</td>\n",
       "    </tr>\n",
       "    <tr>\n",
       "      <th>4</th>\n",
       "      <td>4.0</td>\n",
       "      <td>0.158245</td>\n",
       "    </tr>\n",
       "    <tr>\n",
       "      <th>23</th>\n",
       "      <td>23.0</td>\n",
       "      <td>0.153061</td>\n",
       "    </tr>\n",
       "  </tbody>\n",
       "</table>\n",
       "</div>"
      ],
      "text/plain": [
       "    Region_Code  Response\n",
       "38         38.0  0.192004\n",
       "28         28.0  0.187163\n",
       "19         19.0  0.162866\n",
       "4           4.0  0.158245\n",
       "23         23.0  0.153061"
      ]
     },
     "execution_count": 46,
     "metadata": {},
     "output_type": "execute_result"
    }
   ],
   "source": [
    "df.groupby('Region_Code', as_index=False).agg({'Response':'mean'}).sort_values('Response', ascending=False).head(5)"
   ]
  },
  {
   "cell_type": "code",
   "execution_count": 47,
   "id": "6f8fa16a",
   "metadata": {
    "hidden": true
   },
   "outputs": [
    {
     "data": {
      "text/html": [
       "<div>\n",
       "<style scoped>\n",
       "    .dataframe tbody tr th:only-of-type {\n",
       "        vertical-align: middle;\n",
       "    }\n",
       "\n",
       "    .dataframe tbody tr th {\n",
       "        vertical-align: top;\n",
       "    }\n",
       "\n",
       "    .dataframe thead th {\n",
       "        text-align: right;\n",
       "    }\n",
       "</style>\n",
       "<table border=\"1\" class=\"dataframe\">\n",
       "  <thead>\n",
       "    <tr style=\"text-align: right;\">\n",
       "      <th></th>\n",
       "      <th>Region_Code</th>\n",
       "      <th>Response</th>\n",
       "    </tr>\n",
       "  </thead>\n",
       "  <tbody>\n",
       "    <tr>\n",
       "      <th>22</th>\n",
       "      <td>22.0</td>\n",
       "      <td>0.063407</td>\n",
       "    </tr>\n",
       "    <tr>\n",
       "      <th>50</th>\n",
       "      <td>50.0</td>\n",
       "      <td>0.062677</td>\n",
       "    </tr>\n",
       "    <tr>\n",
       "      <th>10</th>\n",
       "      <td>10.0</td>\n",
       "      <td>0.060128</td>\n",
       "    </tr>\n",
       "    <tr>\n",
       "      <th>25</th>\n",
       "      <td>25.0</td>\n",
       "      <td>0.042749</td>\n",
       "    </tr>\n",
       "    <tr>\n",
       "      <th>44</th>\n",
       "      <td>44.0</td>\n",
       "      <td>0.040842</td>\n",
       "    </tr>\n",
       "  </tbody>\n",
       "</table>\n",
       "</div>"
      ],
      "text/plain": [
       "    Region_Code  Response\n",
       "22         22.0  0.063407\n",
       "50         50.0  0.062677\n",
       "10         10.0  0.060128\n",
       "25         25.0  0.042749\n",
       "44         44.0  0.040842"
      ]
     },
     "execution_count": 47,
     "metadata": {},
     "output_type": "execute_result"
    }
   ],
   "source": [
    "df.groupby('Region_Code', as_index=False).agg({'Response':'mean'}).sort_values('Response', ascending=False).tail(5)"
   ]
  },
  {
   "cell_type": "markdown",
   "id": "00f5f5f8",
   "metadata": {
    "hidden": true
   },
   "source": [
    "As regiões com probabilidade de response mais alto estão com por volta de 19%, as regiões com probabilidades mais baixas estã em por volta de 4%"
   ]
  },
  {
   "cell_type": "code",
   "execution_count": 48,
   "id": "2d433a53",
   "metadata": {
    "hidden": true
   },
   "outputs": [
    {
     "data": {
      "image/png": "[encoded data removed]",
      "text/plain": [
       "<Figure size 1080x360 with 1 Axes>"
      ]
     },
     "metadata": {
      "needs_background": "light"
     },
     "output_type": "display_data"
    }
   ],
   "source": [
    "sns.catplot(x='Region_Code', y='Response', data=df, kind='bar', aspect=3)\n",
    "plt.ylabel('Response_Mean');"
   ]
  },
  {
   "cell_type": "markdown",
   "id": "b1c83b5c",
   "metadata": {
    "hidden": true
   },
   "source": [
    "Médias de response bastante distintas, com desvios padrões baixos"
   ]
  },
  {
   "cell_type": "markdown",
   "id": "5381d29d",
   "metadata": {
    "heading_collapsed": true,
    "hidden": true
   },
   "source": [
    "#### Vehicle_Age"
   ]
  },
  {
   "cell_type": "markdown",
   "id": "b3b0af61",
   "metadata": {
    "heading_collapsed": true,
    "hidden": true
   },
   "source": [
    "###### Principais insights:\n",
    "1. Mais da metade dos clientes possuem carros com menos de 1 ano\n",
    "2. Correlação moderada negativa com Age, fraca positiva com Policy_Sales_Channel\n",
    "3. Médias de response bastante distintas"
   ]
  },
  {
   "cell_type": "markdown",
   "id": "63ab323e",
   "metadata": {
    "heading_collapsed": true,
    "hidden": true
   },
   "source": [
    "###### General Analysis"
   ]
  },
  {
   "cell_type": "code",
   "execution_count": 49,
   "id": "1b15f050",
   "metadata": {
    "hidden": true
   },
   "outputs": [
    {
     "data": {
      "text/plain": [
       "Policy_Sales_Channel    0.388868\n",
       "Previously_Insured      0.175548\n",
       "Driving_License         0.030010\n",
       "Annual_Premium          0.023545\n",
       "Vintage                 0.001941\n",
       "id                     -0.000359\n",
       "Region_Code            -0.027622\n",
       "Response               -0.104078\n",
       "Gender_                -0.113453\n",
       "Vehicle_Damage_        -0.174990\n",
       "Age                    -0.522770\n",
       "Name: Vehicle_Age_, dtype: float64"
      ]
     },
     "execution_count": 49,
     "metadata": {},
     "output_type": "execute_result"
    }
   ],
   "source": [
    "df.corr()['Vehicle_Age_'].sort_values(ascending=False)[1:]"
   ]
  },
  {
   "cell_type": "markdown",
   "id": "c546f173",
   "metadata": {
    "hidden": true
   },
   "source": [
    "Correlação moderada negativa com Age, fraca positiva com Policy_Sales_Channel"
   ]
  },
  {
   "cell_type": "code",
   "execution_count": 50,
   "id": "e68c83bd",
   "metadata": {
    "hidden": true
   },
   "outputs": [
    {
     "data": {
      "text/plain": [
       "1-2 Year     0.525469\n",
       "< 1 Year     0.432563\n",
       "> 2 Years    0.041968\n",
       "Name: Vehicle_Age, dtype: float64"
      ]
     },
     "execution_count": 50,
     "metadata": {},
     "output_type": "execute_result"
    }
   ],
   "source": [
    "df['Vehicle_Age'].value_counts(normalize=True)"
   ]
  },
  {
   "cell_type": "code",
   "execution_count": 51,
   "id": "df08d266",
   "metadata": {
    "hidden": true
   },
   "outputs": [
    {
     "data": {
      "image/png": "[encoded data removed]",
      "text/plain": [
       "<Figure size 360x360 with 1 Axes>"
      ]
     },
     "metadata": {
      "needs_background": "light"
     },
     "output_type": "display_data"
    }
   ],
   "source": [
    "sns.catplot(x='Vehicle_Age', y='Response', data=df, kind='bar')\n",
    "plt.ylabel('Response_Mean');"
   ]
  },
  {
   "cell_type": "markdown",
   "id": "d4d0af57",
   "metadata": {
    "hidden": true
   },
   "source": [
    "Médias de response bastante distintas"
   ]
  },
  {
   "cell_type": "markdown",
   "id": "7824c508",
   "metadata": {
    "heading_collapsed": true,
    "hidden": true
   },
   "source": [
    "#### Vehicle_Damage"
   ]
  },
  {
   "cell_type": "markdown",
   "id": "be65f971",
   "metadata": {
    "heading_collapsed": true,
    "hidden": true
   },
   "source": [
    "###### Principais insights:\n",
    "1. Balanceada\n",
    "2. Correlação muito forte negativa com Previously_Insured, fraca negativa com Policy_Sales_Channel, fraca positiva com Response e Age\n",
    "3. Clientes que já tiveram danos no seu veículo tem 24% de response, enquanto clientes que não tiveram danos têm por volta de 1%"
   ]
  },
  {
   "cell_type": "markdown",
   "id": "b9ce1853",
   "metadata": {
    "heading_collapsed": true,
    "hidden": true
   },
   "source": [
    "###### General Analysis"
   ]
  },
  {
   "cell_type": "code",
   "execution_count": 52,
   "id": "21bd3437",
   "metadata": {
    "hidden": true
   },
   "outputs": [
    {
     "data": {
      "text/plain": [
       "Response                0.354400\n",
       "Age                     0.268328\n",
       "Gender_                 0.092273\n",
       "Region_Code             0.027210\n",
       "Annual_Premium          0.009504\n",
       "Vintage                -0.001078\n",
       "id                     -0.002335\n",
       "Driving_License        -0.015784\n",
       "Vehicle_Age_           -0.174990\n",
       "Policy_Sales_Channel   -0.225856\n",
       "Previously_Insured     -0.823973\n",
       "Name: Vehicle_Damage_, dtype: float64"
      ]
     },
     "execution_count": 52,
     "metadata": {},
     "output_type": "execute_result"
    }
   ],
   "source": [
    "df.corr()['Vehicle_Damage_'].sort_values(ascending=False)[1:]"
   ]
  },
  {
   "cell_type": "markdown",
   "id": "95406754",
   "metadata": {
    "hidden": true
   },
   "source": [
    "Correlação muito forte negativa com Previously_Insured, fraca negativa com Policy_Sales_Channel, fraca positiva com Response e Age"
   ]
  },
  {
   "cell_type": "code",
   "execution_count": 53,
   "id": "ffbb4742",
   "metadata": {
    "hidden": true,
    "scrolled": true
   },
   "outputs": [
    {
     "data": {
      "text/plain": [
       "Yes    0.50428\n",
       "No     0.49572\n",
       "Name: Vehicle_Damage, dtype: float64"
      ]
     },
     "execution_count": 53,
     "metadata": {},
     "output_type": "execute_result"
    }
   ],
   "source": [
    "df['Vehicle_Damage'].value_counts(normalize=True)"
   ]
  },
  {
   "cell_type": "code",
   "execution_count": 54,
   "id": "f31a9a26",
   "metadata": {
    "hidden": true,
    "scrolled": false
   },
   "outputs": [
    {
     "data": {
      "text/plain": [
       "<seaborn.axisgrid.FacetGrid at 0x2a91510b130>"
      ]
     },
     "execution_count": 54,
     "metadata": {},
     "output_type": "execute_result"
    },
    {
     "data": {
      "image/png": "[encoded data removed]",
      "text/plain": [
       "<Figure size 360x360 with 1 Axes>"
      ]
     },
     "metadata": {
      "needs_background": "light"
     },
     "output_type": "display_data"
    }
   ],
   "source": [
    "sns.catplot(x='Vehicle_Damage', y='Response', data=df, kind='bar')"
   ]
  },
  {
   "cell_type": "code",
   "execution_count": 55,
   "id": "396fabbf",
   "metadata": {
    "hidden": true
   },
   "outputs": [
    {
     "name": "stdout",
     "output_type": "stream",
     "text": [
      "Clientes que já tiveram danos tem: 23.77% de response\n",
      "Clientes que NÃO tiveram danos tem: 0.52% de response\n"
     ]
    }
   ],
   "source": [
    "print(f'Clientes que já tiveram danos tem: {round(df.loc[df[\"Vehicle_Damage\"]==\"Yes\", \"Response\"].mean()*100, 2)}% de response')\n",
    "print(f'Clientes que NÃO tiveram danos tem: {round(df.loc[df[\"Vehicle_Damage\"]==\"No\", \"Response\"].mean()*100, 2)}% de response')"
   ]
  },
  {
   "cell_type": "markdown",
   "id": "7a5da867",
   "metadata": {
    "hidden": true
   },
   "source": [
    "Clientes que já tiveram danos no seu veículo tem 24% de response, enquanto clientes que não tiveram danos têm por volta de 1%"
   ]
  },
  {
   "cell_type": "markdown",
   "id": "4e779119",
   "metadata": {
    "heading_collapsed": true,
    "hidden": true
   },
   "source": [
    "#### Annual_Premium"
   ]
  },
  {
   "cell_type": "markdown",
   "id": "8214b402",
   "metadata": {
    "heading_collapsed": true,
    "hidden": true
   },
   "source": [
    "###### Principais insights:\n",
    "1. 2799 em Annual_Premmium, não aparentam ser por conta de erros de input\n",
    "2. Há dois grupos de clientes, um com valores fixos em 2630 dollares, e outro com valores contínuos e superiores, não há diferença significativa de média de interesse no produto entre os grupos\n",
    "3. Aparentemente acima do terceiro quartil da distribuição há um interesse maior no produto"
   ]
  },
  {
   "cell_type": "markdown",
   "id": "a87ae6f7",
   "metadata": {
    "heading_collapsed": true,
    "hidden": true
   },
   "source": [
    "###### General Analysis"
   ]
  },
  {
   "cell_type": "code",
   "execution_count": 56,
   "id": "6bf761f3",
   "metadata": {
    "hidden": true
   },
   "outputs": [
    {
     "data": {
      "text/plain": [
       "<AxesSubplot:xlabel='Annual_Premium'>"
      ]
     },
     "execution_count": 56,
     "metadata": {},
     "output_type": "execute_result"
    },
    {
     "data": {
      "image/png": "[encoded data removed]",
      "text/plain": [
       "<Figure size 432x288 with 1 Axes>"
      ]
     },
     "metadata": {
      "needs_background": "light"
     },
     "output_type": "display_data"
    }
   ],
   "source": [
    "sns.boxplot(x='Annual_Premium', data=df)"
   ]
  },
  {
   "cell_type": "markdown",
   "id": "824c3c0a",
   "metadata": {
    "hidden": true
   },
   "source": [
    "Muitos outliers"
   ]
  },
  {
   "cell_type": "code",
   "execution_count": 57,
   "id": "d0d761ba",
   "metadata": {
    "hidden": true
   },
   "outputs": [],
   "source": [
    "índices, li, ls = buscar_outlier(df, 'Annual_Premium')"
   ]
  },
  {
   "cell_type": "code",
   "execution_count": 58,
   "id": "17d33689",
   "metadata": {
    "hidden": true
   },
   "outputs": [
    {
     "name": "stdout",
     "output_type": "stream",
     "text": [
      "Há 2799 outliers no total\n"
     ]
    }
   ],
   "source": [
    "print(f'Há {len(índices)} outliers no total')"
   ]
  },
  {
   "cell_type": "code",
   "execution_count": 59,
   "id": "353f4bae",
   "metadata": {
    "hidden": true
   },
   "outputs": [
    {
     "data": {
      "text/plain": [
       "Age                     0.067392\n",
       "Vehicle_Age_            0.023545\n",
       "Response                0.022575\n",
       "Vehicle_Damage_         0.009504\n",
       "Previously_Insured      0.004776\n",
       "Gender_                 0.003502\n",
       "id                      0.001042\n",
       "Vintage                -0.000855\n",
       "Region_Code            -0.012012\n",
       "Driving_License        -0.012084\n",
       "Policy_Sales_Channel   -0.114035\n",
       "Name: Annual_Premium, dtype: float64"
      ]
     },
     "execution_count": 59,
     "metadata": {},
     "output_type": "execute_result"
    }
   ],
   "source": [
    "df.corr()['Annual_Premium'].sort_values(ascending=False)[1:]"
   ]
  },
  {
   "cell_type": "markdown",
   "id": "be12b1e7",
   "metadata": {
    "hidden": true
   },
   "source": [
    "Correlações muito fracas"
   ]
  },
  {
   "cell_type": "code",
   "execution_count": 60,
   "id": "6d2e29f6",
   "metadata": {
    "hidden": true
   },
   "outputs": [
    {
     "data": {
      "text/plain": [
       "<AxesSubplot:xlabel='Annual_Premium', ylabel='Count'>"
      ]
     },
     "execution_count": 60,
     "metadata": {},
     "output_type": "execute_result"
    },
    {
     "data": {
      "image/png": "[encoded data removed]",
      "text/plain": [
       "<Figure size 432x288 with 1 Axes>"
      ]
     },
     "metadata": {
      "needs_background": "light"
     },
     "output_type": "display_data"
    }
   ],
   "source": [
    "sns.histplot(df['Annual_Premium'])"
   ]
  },
  {
   "cell_type": "code",
   "execution_count": 61,
   "id": "c0bb57d3",
   "metadata": {
    "hidden": true
   },
   "outputs": [
    {
     "data": {
      "text/plain": [
       "2630.0     0.170203\n",
       "69856.0    0.000364\n",
       "45179.0    0.000112\n",
       "38452.0    0.000110\n",
       "39008.0    0.000108\n",
       "Name: Annual_Premium, dtype: float64"
      ]
     },
     "execution_count": 61,
     "metadata": {},
     "output_type": "execute_result"
    }
   ],
   "source": [
    "df['Annual_Premium'].value_counts(normalize=True).head(5)"
   ]
  },
  {
   "cell_type": "markdown",
   "id": "359d694b",
   "metadata": {
    "hidden": true
   },
   "source": [
    "17% dos clientes estão contidos em um valor discreto de 2630 dollares. Um estudo separadamente para este grupo pode ser interessante."
   ]
  },
  {
   "cell_type": "code",
   "execution_count": 62,
   "id": "d7205f07",
   "metadata": {
    "hidden": true
   },
   "outputs": [
    {
     "name": "stdout",
     "output_type": "stream",
     "text": [
      "A média de interesse no produto do grupo de clientes com valor FIXO de seguro: 13.11%\n",
      "A média de interesse no produto do grupo de clientes com valor VARIÁVEL SUPERIOR de seguro: 12.08%\n"
     ]
    }
   ],
   "source": [
    "print(f'A média de interesse no produto do grupo de clientes com valor FIXO de seguro: {round(df.loc[df[\"Annual_Premium\"]==2630, \"Response\"].mean()*100, 2)}%')\n",
    "print(f'A média de interesse no produto do grupo de clientes com valor VARIÁVEL SUPERIOR de seguro: {round(df.loc[df[\"Annual_Premium\"]!=2630, \"Response\"].mean()*100, 2)}%')"
   ]
  },
  {
   "cell_type": "markdown",
   "id": "38c33263",
   "metadata": {
    "hidden": true
   },
   "source": [
    "O interesse no produto não é significativamente diferente entre os dois grupos de clientes"
   ]
  },
  {
   "cell_type": "markdown",
   "id": "3be8ef6f",
   "metadata": {
    "hidden": true
   },
   "source": [
    "Para uma melhor visualização, os dados serão filtrados provisioriamente até 100000 dollares"
   ]
  },
  {
   "cell_type": "code",
   "execution_count": 63,
   "id": "e37346e8",
   "metadata": {
    "hidden": true
   },
   "outputs": [],
   "source": [
    "temp = df.loc[(df['Annual_Premium']>2630)&(df['Annual_Premium']<100000)]"
   ]
  },
  {
   "cell_type": "code",
   "execution_count": 64,
   "id": "3755c074",
   "metadata": {
    "hidden": true
   },
   "outputs": [
    {
     "data": {
      "image/png": "[encoded data removed]",
      "text/plain": [
       "<Figure size 432x288 with 2 Axes>"
      ]
     },
     "metadata": {
      "needs_background": "light"
     },
     "output_type": "display_data"
    }
   ],
   "source": [
    "plt.subplot(2, 1, 1)\n",
    "g = sns.histplot(temp.loc[temp['Response']==0, 'Annual_Premium'], color='r', alpha=0.5)\n",
    "g = sns.histplot(temp.loc[temp['Response']==1, 'Annual_Premium'], color='b', alpha=0.5)\n",
    "plt.subplot(2, 1, 2)\n",
    "g = sns.kdeplot(temp.loc[temp['Response']==0, 'Annual_Premium'], color='r', alpha=0.5)\n",
    "g = sns.kdeplot(temp.loc[temp['Response']==1, 'Annual_Premium'], color='b', alpha=0.5)"
   ]
  },
  {
   "cell_type": "markdown",
   "id": "b63beb5b",
   "metadata": {
    "hidden": true
   },
   "source": [
    "Aparentemente acima do terceiro quartil da distribuição há um interesse maior no produto"
   ]
  },
  {
   "cell_type": "markdown",
   "id": "057c1844",
   "metadata": {
    "heading_collapsed": true,
    "hidden": true
   },
   "source": [
    "#### Policy_Sales_Channel"
   ]
  },
  {
   "cell_type": "markdown",
   "id": "0dadc7e6",
   "metadata": {
    "heading_collapsed": true,
    "hidden": true
   },
   "source": [
    "###### Main insights:\n",
    "1. Há 157 Policy_Sales_Channel e aproximadamente um terço das amostras está contido no canal 152\n",
    "2. 5 categorias contém 84.19% do total de clientes\n",
    "3. Correlação moderada negativa com Age, correlação fraca negativa com Vehicle_Damage, correlação fraca positiva com Vehicle_Age e Previously_Insured\n",
    "4. Médias de response por canais de Policy_Sales_Channel bastante distintas\n",
    "5. Os canais mais utilizados apresentam médias de response bastante diferentes da média global, os canal 152 é o mais utilizado e apresenta 2% de interesse no produto, o canal 155 apresenta 2%, já os canais 26, 124 e 156 apresentam por volta de 20% de interesse no produto"
   ]
  },
  {
   "cell_type": "markdown",
   "id": "e296c41b",
   "metadata": {
    "heading_collapsed": true,
    "hidden": true
   },
   "source": [
    "###### General Analysis"
   ]
  },
  {
   "cell_type": "code",
   "execution_count": 65,
   "id": "60b4e0e1",
   "metadata": {
    "hidden": true
   },
   "outputs": [
    {
     "data": {
      "text/plain": [
       "Vehicle_Age_          0.388868\n",
       "Previously_Insured    0.221334\n",
       "Driving_License       0.042862\n",
       "Vintage              -0.000814\n",
       "id                   -0.002812\n",
       "Region_Code          -0.042223\n",
       "Gender_              -0.111565\n",
       "Annual_Premium       -0.114035\n",
       "Response             -0.139042\n",
       "Vehicle_Damage_      -0.225856\n",
       "Age                  -0.577043\n",
       "Name: Policy_Sales_Channel, dtype: float64"
      ]
     },
     "execution_count": 65,
     "metadata": {},
     "output_type": "execute_result"
    }
   ],
   "source": [
    "df.corr()['Policy_Sales_Channel'].sort_values(ascending=False)[1:]"
   ]
  },
  {
   "cell_type": "markdown",
   "id": "00c04e11",
   "metadata": {
    "hidden": true
   },
   "source": [
    "Correlação moderada negativa com Age, correlação fraca negativa com Vehicle_Damage, correlação fraca positiva com Vehicle_Age e Previously_Insured"
   ]
  },
  {
   "cell_type": "code",
   "execution_count": 66,
   "id": "eab781a9",
   "metadata": {
    "hidden": true,
    "scrolled": true
   },
   "outputs": [
    {
     "data": {
      "text/plain": [
       "152.0    0.353290\n",
       "26.0     0.209770\n",
       "124.0    0.193446\n",
       "160.0    0.057247\n",
       "156.0    0.028167\n",
       "Name: Policy_Sales_Channel, dtype: float64"
      ]
     },
     "execution_count": 66,
     "metadata": {},
     "output_type": "execute_result"
    }
   ],
   "source": [
    "df['Policy_Sales_Channel'].value_counts(normalize=True).head(5)"
   ]
  },
  {
   "cell_type": "code",
   "execution_count": 67,
   "id": "8fa93b45",
   "metadata": {
    "hidden": true
   },
   "outputs": [],
   "source": [
    "canais_mais_utilizados = df['Policy_Sales_Channel'].value_counts(normalize=True).head(5).index"
   ]
  },
  {
   "cell_type": "code",
   "execution_count": 68,
   "id": "3367488a",
   "metadata": {
    "hidden": true
   },
   "outputs": [
    {
     "name": "stdout",
     "output_type": "stream",
     "text": [
      "5 categorias contém 84.19% do total de clientes\n"
     ]
    }
   ],
   "source": [
    "print(f'5 categorias contém {round(df[\"Policy_Sales_Channel\"].value_counts(normalize=True).head(5).sum()*100, 2)}% do total de clientes')"
   ]
  },
  {
   "cell_type": "code",
   "execution_count": 69,
   "id": "79ce9423",
   "metadata": {
    "hidden": true,
    "scrolled": true
   },
   "outputs": [
    {
     "data": {
      "text/plain": [
       "<seaborn.axisgrid.FacetGrid at 0x2a979f7be80>"
      ]
     },
     "execution_count": 69,
     "metadata": {},
     "output_type": "execute_result"
    },
    {
     "data": {
      "image/png": "[encoded data removed]",
      "text/plain": [
       "<Figure size 1080x360 with 1 Axes>"
      ]
     },
     "metadata": {
      "needs_background": "light"
     },
     "output_type": "display_data"
    }
   ],
   "source": [
    "sns.catplot(x='Policy_Sales_Channel', y='Response', data=df, kind='bar', aspect=3)"
   ]
  },
  {
   "cell_type": "markdown",
   "id": "7279d267",
   "metadata": {
    "hidden": true
   },
   "source": [
    "Médias de response por canais de Policy_Sales_Channel bastante distintas"
   ]
  },
  {
   "cell_type": "code",
   "execution_count": 70,
   "id": "3a927ea3",
   "metadata": {
    "hidden": true
   },
   "outputs": [
    {
     "data": {
      "text/html": [
       "<div>\n",
       "<style scoped>\n",
       "    .dataframe tbody tr th:only-of-type {\n",
       "        vertical-align: middle;\n",
       "    }\n",
       "\n",
       "    .dataframe tbody tr th {\n",
       "        vertical-align: top;\n",
       "    }\n",
       "\n",
       "    .dataframe thead th {\n",
       "        text-align: right;\n",
       "    }\n",
       "</style>\n",
       "<table border=\"1\" class=\"dataframe\">\n",
       "  <thead>\n",
       "    <tr style=\"text-align: right;\">\n",
       "      <th></th>\n",
       "      <th>Policy_Sales_Channel</th>\n",
       "      <th>Response_Count</th>\n",
       "      <th>Response_Mean</th>\n",
       "    </tr>\n",
       "  </thead>\n",
       "  <tbody>\n",
       "    <tr>\n",
       "      <th>147</th>\n",
       "      <td>152.0</td>\n",
       "      <td>134784</td>\n",
       "      <td>0.028624</td>\n",
       "    </tr>\n",
       "    <tr>\n",
       "      <th>24</th>\n",
       "      <td>26.0</td>\n",
       "      <td>79700</td>\n",
       "      <td>0.199385</td>\n",
       "    </tr>\n",
       "    <tr>\n",
       "      <th>119</th>\n",
       "      <td>124.0</td>\n",
       "      <td>73995</td>\n",
       "      <td>0.189148</td>\n",
       "    </tr>\n",
       "    <tr>\n",
       "      <th>155</th>\n",
       "      <td>160.0</td>\n",
       "      <td>21779</td>\n",
       "      <td>0.021810</td>\n",
       "    </tr>\n",
       "    <tr>\n",
       "      <th>151</th>\n",
       "      <td>156.0</td>\n",
       "      <td>10661</td>\n",
       "      <td>0.215458</td>\n",
       "    </tr>\n",
       "  </tbody>\n",
       "</table>\n",
       "</div>"
      ],
      "text/plain": [
       "     Policy_Sales_Channel  Response_Count  Response_Mean\n",
       "147                 152.0          134784       0.028624\n",
       "24                   26.0           79700       0.199385\n",
       "119                 124.0           73995       0.189148\n",
       "155                 160.0           21779       0.021810\n",
       "151                 156.0           10661       0.215458"
      ]
     },
     "execution_count": 70,
     "metadata": {},
     "output_type": "execute_result"
    }
   ],
   "source": [
    "temp = df.groupby('Policy_Sales_Channel', as_index=False).agg({'Response':'count'})\n",
    "temp.rename(columns={'Response':'Response_Count'}, inplace=True)\n",
    "\n",
    "temp2 = df.groupby('Policy_Sales_Channel', as_index=False).agg({'Response':'mean'})\n",
    "temp2.rename(columns={'Response':'Response_Mean'}, inplace=True)\n",
    "\n",
    "temp3 = temp.merge(temp2, how='left', on='Policy_Sales_Channel')\n",
    "temp3.sort_values('Response_Count', ascending=False).head(5)"
   ]
  },
  {
   "cell_type": "markdown",
   "id": "b99557d0",
   "metadata": {
    "hidden": true
   },
   "source": [
    "Os canais mais utilizados apresentam médias de response bastante diferentes da média global, os canal 152 é o mais utilizado e apresenta 2% de interesse no produto, o canal 155 apresenta 2%, já os canais 26, 124 e 156 apresentam por volta de 20% de interesse no produto"
   ]
  },
  {
   "cell_type": "code",
   "execution_count": 71,
   "id": "e91b66cb",
   "metadata": {
    "hidden": true
   },
   "outputs": [],
   "source": [
    "del(temp, temp2, temp3)"
   ]
  },
  {
   "cell_type": "markdown",
   "id": "c9a09d0a",
   "metadata": {
    "hidden": true
   },
   "source": [
    "#### Vintage"
   ]
  },
  {
   "cell_type": "markdown",
   "id": "0484c308",
   "metadata": {
    "hidden": true
   },
   "source": [
    "###### Main insights:\n",
    "1. Feature categórica, há 290 categorias em Vintage"
   ]
  },
  {
   "cell_type": "markdown",
   "id": "7bff2fa9",
   "metadata": {
    "heading_collapsed": true,
    "id": "lpsQdPJVSjpi"
   },
   "source": [
    "# 3.0 Feature Engineering"
   ]
  },
  {
   "cell_type": "markdown",
   "id": "2a440ddf",
   "metadata": {
    "heading_collapsed": true,
    "hidden": true
   },
   "source": [
    "### 3.1 Main Insights:\n",
    "1. Policy_Sales_Channel_Response_Mean tem correlações fortes com Age, correlações moderadas com Vehicle_Damage, Vehicle_Age, Previously_Insured, correlação fraca com Response\n",
    "2. Region_Code_Response_Mean tem correlações fracas com Age, Annual_Premium, Policy_Sales_Channel e Vehicle_Age"
   ]
  },
  {
   "cell_type": "markdown",
   "id": "3acc405b",
   "metadata": {
    "heading_collapsed": true,
    "hidden": true,
    "id": "jEjwlIBJTDv5"
   },
   "source": [
    "### 3.1 Policy_Sales_Channel Response Mean"
   ]
  },
  {
   "cell_type": "code",
   "execution_count": 72,
   "id": "fcaa6176",
   "metadata": {
    "ExecuteTime": {
     "end_time": "2021-07-22T14:35:57.099258Z",
     "start_time": "2021-07-22T14:35:56.204313Z"
    },
    "hidden": true,
    "id": "mVXYhJOnKGMD"
   },
   "outputs": [],
   "source": [
    "group = train[['Policy_Sales_Channel', 'Response']].groupby('Policy_Sales_Channel').agg({'Response':'mean'})\n",
    "group.reset_index(inplace=True)\n",
    "group.columns= ['Policy_Sales_Channel', 'Policy_Sales_Channels_Response_Mean']\n",
    "df = df.merge(group, on='Policy_Sales_Channel', how='left')"
   ]
  },
  {
   "cell_type": "code",
   "execution_count": 73,
   "id": "bb649ddf",
   "metadata": {
    "ExecuteTime": {
     "end_time": "2021-07-22T14:35:57.616150Z",
     "start_time": "2021-07-22T14:35:57.542160Z"
    },
    "colab": {
     "base_uri": "https://localhost:8080/",
     "height": 0
    },
    "hidden": true,
    "id": "ewm2nBrHZaU9",
    "outputId": "96c811f7-3c03-4c02-ef47-a014c62a4eaa"
   },
   "outputs": [
    {
     "data": {
      "text/plain": [
       "Age                     0.636832\n",
       "Vehicle_Damage_         0.435397\n",
       "Response                0.263429\n",
       "Gender_                 0.169888\n",
       "Region_Code             0.026936\n",
       "id                     -0.000003\n",
       "Annual_Premium         -0.000101\n",
       "Vintage                -0.001333\n",
       "Driving_License        -0.032776\n",
       "Previously_Insured     -0.419215\n",
       "Policy_Sales_Channel   -0.527793\n",
       "Vehicle_Age_           -0.573390\n",
       "Name: Policy_Sales_Channels_Response_Mean, dtype: float64"
      ]
     },
     "execution_count": 73,
     "metadata": {},
     "output_type": "execute_result"
    }
   ],
   "source": [
    "df.corr()['Policy_Sales_Channels_Response_Mean'].sort_values(ascending=False)[1:]"
   ]
  },
  {
   "cell_type": "markdown",
   "id": "62e91140",
   "metadata": {
    "hidden": true
   },
   "source": [
    "Correlações fortes com Age, correlações moderadas com Vehicle_Damage, Vehicle_Age, Previously_Insured, correlação fraca com Response"
   ]
  },
  {
   "cell_type": "markdown",
   "id": "fbd55ef4",
   "metadata": {
    "heading_collapsed": true,
    "hidden": true,
    "id": "OILqb1MCu5Q1"
   },
   "source": [
    "### 3.2 Region_Code Response Mean"
   ]
  },
  {
   "cell_type": "code",
   "execution_count": 74,
   "id": "d9cbc3c8",
   "metadata": {
    "ExecuteTime": {
     "end_time": "2021-07-22T14:35:58.663029Z",
     "start_time": "2021-07-22T14:35:57.621149Z"
    },
    "hidden": true,
    "id": "kYkrXTVzu5RY"
   },
   "outputs": [],
   "source": [
    "group = train[['Region_Code', 'Response']].groupby('Region_Code').agg({'Response':'mean'})\n",
    "group.reset_index(inplace=True)\n",
    "group.columns= ['Region_Code', 'Region_Code_Response_Mean']\n",
    "df = df.merge(group, on='Region_Code', how='left')"
   ]
  },
  {
   "cell_type": "code",
   "execution_count": 75,
   "id": "8f2c08ee",
   "metadata": {
    "ExecuteTime": {
     "end_time": "2021-07-22T14:35:59.250960Z",
     "start_time": "2021-07-22T14:35:59.178968Z"
    },
    "colab": {
     "base_uri": "https://localhost:8080/",
     "height": 0
    },
    "hidden": true,
    "id": "V9DLPohLZqlS",
    "outputId": "b8f627fd-babc-434d-ccf2-821bf24661b9"
   },
   "outputs": [
    {
     "data": {
      "text/plain": [
       "Policy_Sales_Channels_Response_Mean    0.373014\n",
       "Age                                    0.316050\n",
       "Annual_Premium                         0.252035\n",
       "Vehicle_Damage_                        0.195931\n",
       "Response                               0.138095\n",
       "Region_Code                            0.076274\n",
       "Gender_                                0.044496\n",
       "Vintage                                0.000319\n",
       "id                                    -0.000191\n",
       "Driving_License                       -0.016148\n",
       "Previously_Insured                    -0.179897\n",
       "Vehicle_Age_                          -0.207726\n",
       "Policy_Sales_Channel                  -0.287069\n",
       "Name: Region_Code_Response_Mean, dtype: float64"
      ]
     },
     "execution_count": 75,
     "metadata": {},
     "output_type": "execute_result"
    }
   ],
   "source": [
    "df.corr()['Region_Code_Response_Mean'].sort_values(ascending=False)[1:]"
   ]
  },
  {
   "cell_type": "markdown",
   "id": "7ec45acd",
   "metadata": {
    "hidden": true,
    "id": "-DfKrpMLaMa4"
   },
   "source": [
    "Correlações fracas com Age, Annual_Premium, Policy_Sales_Channel e Vehicle_Age"
   ]
  },
  {
   "cell_type": "markdown",
   "id": "5cb08836",
   "metadata": {
    "heading_collapsed": true
   },
   "source": [
    "# 4.0 Business Hypothesis"
   ]
  },
  {
   "cell_type": "markdown",
   "id": "6033b1be",
   "metadata": {
    "heading_collapsed": true
   },
   "source": [
    "# 5.0 Exploratory Data Analysis"
   ]
  },
  {
   "cell_type": "markdown",
   "id": "f88b72c5",
   "metadata": {
    "heading_collapsed": true,
    "hidden": true
   },
   "source": [
    "#### 5.1 Principais Insights:\n",
    "\n",
    "1. 6 dimensões parecem explicar 95% de toda variabilidade das features"
   ]
  },
  {
   "cell_type": "markdown",
   "id": "7e079f1a",
   "metadata": {
    "heading_collapsed": true,
    "hidden": true
   },
   "source": [
    "#### 5.2 Principal Component Analysis"
   ]
  },
  {
   "cell_type": "markdown",
   "id": "a18f0a4c",
   "metadata": {
    "hidden": true,
    "id": "WTyZ8rQK5y-g"
   },
   "source": [
    "Como um dos objetivos do projeto é demonstrar quais características são mais interessantes para o time de vendas, os dados precisam manter o contexto de negócio. O PCA será processado somente para insights sobre espaço amostral."
   ]
  },
  {
   "cell_type": "code",
   "execution_count": 78,
   "id": "d9a684ef",
   "metadata": {
    "ExecuteTime": {
     "end_time": "2021-07-22T14:39:22.685371Z",
     "start_time": "2021-07-22T14:39:21.708482Z"
    },
    "colab": {
     "base_uri": "https://localhost:8080/",
     "height": 0
    },
    "hidden": true,
    "id": "ttq4GYl_3qmy",
    "outputId": "f051464b-445c-4169-f942-f459aeb5ee8a"
   },
   "outputs": [
    {
     "data": {
      "text/plain": [
       "[<matplotlib.lines.Line2D at 0x2a9044ed2b0>]"
      ]
     },
     "execution_count": 78,
     "metadata": {},
     "output_type": "execute_result"
    },
    {
     "data": {
      "image/png": "[encoded data removed]",
      "text/plain": [
       "<Figure size 432x288 with 1 Axes>"
      ]
     },
     "metadata": {
      "needs_background": "light"
     },
     "output_type": "display_data"
    }
   ],
   "source": [
    "# model description end fit\n",
    "pca = PCA()\n",
    "\n",
    "# fiting model\n",
    "pca = pca.fit(X_scaler)\n",
    "\n",
    "# ploting cumulative sum\n",
    "np.cumsum(pca.explained_variance_ratio_)\n",
    "plt.plot(np.cumsum(pca.explained_variance_ratio_))"
   ]
  },
  {
   "cell_type": "markdown",
   "id": "0680c21c",
   "metadata": {
    "hidden": true,
    "id": "4mm_0Lbk5bjm"
   },
   "source": [
    "Os autovetores indicam que 6 dimensões parecem explicar 95% de toda variabilidade das features"
   ]
  },
  {
   "cell_type": "markdown",
   "id": "f4082a19",
   "metadata": {
    "heading_collapsed": true
   },
   "source": [
    "# 6.0 Data Preparation"
   ]
  },
  {
   "cell_type": "markdown",
   "id": "3b9fefe1",
   "metadata": {
    "heading_collapsed": true,
    "hidden": true
   },
   "source": [
    "### 6.1 Preprocessing"
   ]
  },
  {
   "cell_type": "code",
   "execution_count": 76,
   "id": "4836a969",
   "metadata": {
    "ExecuteTime": {
     "end_time": "2021-07-22T14:35:59.348952Z",
     "start_time": "2021-07-22T14:35:59.255959Z"
    },
    "hidden": true
   },
   "outputs": [],
   "source": [
    "# backup\n",
    "df_ = df.copy()"
   ]
  },
  {
   "cell_type": "code",
   "execution_count": 77,
   "id": "38f3c0a3",
   "metadata": {
    "ExecuteTime": {
     "end_time": "2021-07-22T14:39:21.705482Z",
     "start_time": "2021-07-22T14:35:59.352948Z"
    },
    "hidden": true
   },
   "outputs": [],
   "source": [
    "# backup\n",
    "df = df_.copy()\n",
    "\n",
    "# Feature Encoding\n",
    "features_dum = 'Vehicle_Age'.split()\n",
    "temp = pd.get_dummies(df['Vehicle_Age'], prefix='Vehicle_Age', drop_first=True)\n",
    "temp.columns = ['Vehicle_Age_Menor_que_1', 'Vehicle_Age_Maior_que_2']\n",
    "df = pd.concat([df, temp], axis=1)\n",
    "\n",
    "# Removendo features que não seguirão para modelagem\n",
    "features_remover = ['id', 'Gender', 'Vehicle_Age', 'Vehicle_Age_', 'Vehicle_Damage', 'Policy_Sales_Channel', \n",
    "                    'Region_Code', 'Vintage', 'Annual_Premium']\n",
    "df.drop(features_remover, axis=1, inplace=True)\n",
    "\n",
    "# Listando as colunas\n",
    "target = ['Response']\n",
    "cols = pd.Series(df.drop(target, axis=1).columns.to_list())\n",
    "\n",
    "# Split X and y\n",
    "train = df.loc[df['Response'].notnull()]\n",
    "test = df.loc[df['Response'].isnull()]\n",
    "X = train.drop(target, axis=1)\n",
    "y = train[target]\n",
    "y = np.array(y).reshape(1, len(y))[0]\n",
    "\n",
    "# Standard Scaler\n",
    "X_scaler = StandardScaler().fit_transform(X)\n",
    "\n",
    "# Split train end test\n",
    "X_, X_test, y_, y_test = train_test_split(X_scaler, y, test_size=0.2, random_state=101)\n",
    "\n",
    "# Split train_ end valid\n",
    "X_train, X_valid, y_train, y_valid = train_test_split(X_, y_, test_size=0.3, random_state=101)\n",
    "\n",
    "# Resolvendo desbalanceamento\n",
    "# Nearmiss\n",
    "near = NearMiss()\n",
    "X_near, y_near = near.fit_resample(X_, y_)\n",
    "X_train_near, y_train_near = near.fit_resample(X_train, y_train)\n",
    "\n",
    "# Smote\n",
    "smote = SMOTE()\n",
    "X_smote, y_smote = smote.fit_resample(X_, y_)\n",
    "X_train_smote, y_train_smote = smote.fit_resample(X_train, y_train)"
   ]
  },
  {
   "cell_type": "markdown",
   "id": "cf542f56",
   "metadata": {
    "heading_collapsed": true,
    "hidden": true,
    "id": "O5JNrPUBwgK_"
   },
   "source": [
    "### 6.2 Feature Selection"
   ]
  },
  {
   "cell_type": "markdown",
   "id": "79d64a9d",
   "metadata": {
    "heading_collapsed": true,
    "hidden": true,
    "id": "DKnbnN2le32Z"
   },
   "source": [
    "###### 6.2.1 Principais Insights:\n",
    "1. As features com maior relevância identificadas através de Exploração de Dados foram: Vehicle_Damage, Previously_Insured, Vehicle_Age, Policy_Sales_Channels_Response_Mean, Age\n",
    "2. 6 Dimensões compõem 95% de toda a variabilidade das features.\n",
    "3. A feature Driving_License não agrega ao modelo"
   ]
  },
  {
   "cell_type": "markdown",
   "id": "64b52a48",
   "metadata": {
    "heading_collapsed": true,
    "hidden": true,
    "id": "o5pxLA5xHkv4"
   },
   "source": [
    "###### 6.2.2 Por Correlação"
   ]
  },
  {
   "cell_type": "code",
   "execution_count": 79,
   "id": "a40abe8b",
   "metadata": {
    "ExecuteTime": {
     "end_time": "2021-07-22T14:39:23.164316Z",
     "start_time": "2021-07-22T14:39:22.690368Z"
    },
    "hidden": true
   },
   "outputs": [],
   "source": [
    "correlations = abs(train.corr()['Response'].drop('Response', axis=0))\n",
    "correlations\n",
    "ranking = pd.DataFrame()\n",
    "ranking['correlations'] = correlations"
   ]
  },
  {
   "cell_type": "markdown",
   "id": "ee478695",
   "metadata": {
    "heading_collapsed": true,
    "hidden": true,
    "id": "nvyORAF7rYmr"
   },
   "source": [
    "###### 6.2.3 RFE (Ranking por eliminação recursiva)"
   ]
  },
  {
   "cell_type": "code",
   "execution_count": 80,
   "id": "04e77482",
   "metadata": {
    "ExecuteTime": {
     "end_time": "2021-07-22T14:39:23.188311Z",
     "start_time": "2021-07-22T14:39:23.173312Z"
    },
    "hidden": true
   },
   "outputs": [],
   "source": [
    "# model description\n",
    "xgb_model = XGBClassifier(use_label_encoder=False, eval_metric='error')"
   ]
  },
  {
   "cell_type": "code",
   "execution_count": 81,
   "id": "fcdc32a1",
   "metadata": {
    "ExecuteTime": {
     "end_time": "2021-07-22T14:39:23.236311Z",
     "start_time": "2021-07-22T14:39:23.206311Z"
    },
    "hidden": true,
    "id": "f9914x33njIi",
    "scrolled": false
   },
   "outputs": [],
   "source": [
    "# # rfe description\n",
    "# rfe_model = RFE(xgb_model, 1, 1)\n",
    "\n",
    "# # fiting model\n",
    "# rfe_fit = rfe_model.fit(X_train_near, y_train_near)\n",
    "\n",
    "# # ranking\n",
    "# ranking['rfe_xgb'] = rfe_fit.ranking_\n",
    "# print(rfe_fit.ranking_)\n",
    "# ranking.sort_values('rfe_xgb', ascending=False).index.to_list()"
   ]
  },
  {
   "cell_type": "markdown",
   "id": "92d24e3b",
   "metadata": {
    "heading_collapsed": true,
    "hidden": true,
    "id": "daY1rZTknYRs"
   },
   "source": [
    "###### 6.2.4 Importances"
   ]
  },
  {
   "cell_type": "markdown",
   "id": "13b1dcbb",
   "metadata": {
    "hidden": true,
    "id": "LQkDdBsliGe5"
   },
   "source": [
    "Random Forest"
   ]
  },
  {
   "cell_type": "code",
   "execution_count": 82,
   "id": "337e9afd",
   "metadata": {
    "ExecuteTime": {
     "end_time": "2021-07-22T14:42:51.009260Z",
     "start_time": "2021-07-22T14:39:23.253304Z"
    },
    "colab": {
     "base_uri": "https://localhost:8080/"
    },
    "hidden": true,
    "id": "CSMecOxSyu3T",
    "outputId": "6d74362a-3ecd-4018-f86a-ddf34b3a0ff3"
   },
   "outputs": [
    {
     "name": "stdout",
     "output_type": "stream",
     "text": [
      "              precision    recall  f1-score   support\n",
      "\n",
      "         0.0       0.93      0.81      0.87     80152\n",
      "         1.0       0.31      0.59      0.40     11315\n",
      "\n",
      "    accuracy                           0.79     91467\n",
      "   macro avg       0.62      0.70      0.64     91467\n",
      "weighted avg       0.86      0.79      0.81     91467\n",
      "\n"
     ]
    }
   ],
   "source": [
    "# fiting model\n",
    "rf_model = RandomForestClassifier()\n",
    "rf_fit = rf_model.fit(X_train_smote, y_train_smote)\n",
    "\n",
    "# preditions\n",
    "rf_predict = rf_fit.predict(X_valid)\n",
    "ranking['importance_rf'] = rf_model.feature_importances_\n",
    "\n",
    "# metrics\n",
    "print(classification_report(y_valid, rf_predict))"
   ]
  },
  {
   "cell_type": "markdown",
   "id": "2a6101a4",
   "metadata": {
    "hidden": true,
    "id": "5_-sLiG6pn2U"
   },
   "source": [
    "Alta preferência por features numéricas, não confere com a exploração de dados, possivelmente overfitado."
   ]
  },
  {
   "cell_type": "markdown",
   "id": "d20e93ce",
   "metadata": {
    "hidden": true,
    "id": "ijExdiKLiY_J"
   },
   "source": [
    "XGBoost"
   ]
  },
  {
   "cell_type": "code",
   "execution_count": 83,
   "id": "27abc7de",
   "metadata": {
    "ExecuteTime": {
     "end_time": "2021-07-22T14:44:53.837969Z",
     "start_time": "2021-07-22T14:42:51.012211Z"
    },
    "colab": {
     "base_uri": "https://localhost:8080/"
    },
    "hidden": true,
    "id": "a1QPpwuwiY_K",
    "outputId": "d2b2758e-6d42-4459-c8a5-8415789a287a"
   },
   "outputs": [
    {
     "name": "stdout",
     "output_type": "stream",
     "text": [
      "              precision    recall  f1-score   support\n",
      "\n",
      "         0.0       0.96      0.76      0.85     80152\n",
      "         1.0       0.32      0.77      0.45     11315\n",
      "\n",
      "    accuracy                           0.77     91467\n",
      "   macro avg       0.64      0.77      0.65     91467\n",
      "weighted avg       0.88      0.77      0.80     91467\n",
      "\n"
     ]
    }
   ],
   "source": [
    "# fiting model\n",
    "xgb_fit = xgb_model.fit(X_train_smote, y_train_smote)\n",
    "\n",
    "# predictions\n",
    "xgb_predict = xgb_fit.predict(X_valid)\n",
    "ranking['importance_xgb'] = xgb_model.feature_importances_\n",
    "\n",
    "# metrics\n",
    "print(classification_report(y_valid, xgb_predict))"
   ]
  },
  {
   "cell_type": "markdown",
   "id": "300928c2",
   "metadata": {
    "heading_collapsed": true,
    "hidden": true,
    "id": "THYJcRTgUY7Q"
   },
   "source": [
    "###### 6.2.5 Boruta"
   ]
  },
  {
   "cell_type": "code",
   "execution_count": 84,
   "id": "12852082",
   "metadata": {
    "ExecuteTime": {
     "end_time": "2021-07-22T14:44:53.857971Z",
     "start_time": "2021-07-22T14:44:53.847974Z"
    },
    "colab": {
     "base_uri": "https://localhost:8080/",
     "height": 0
    },
    "hidden": true,
    "id": "n00-dMQ6UfXP",
    "outputId": "37685cd9-f643-41e8-bf4b-d4415246c502"
   },
   "outputs": [],
   "source": [
    "# # model descrition\n",
    "# boruta_model = BorutaPy(xgb_model(), random_state=101)\n",
    "\n",
    "# # fiting model\n",
    "# boruta_fit = boruta_model.fit(X_train_near, y_train_near)\n",
    "\n",
    "# # ranking features\n",
    "# ranking['boruta'] = boruta_fit.ranking_\n",
    "# print(boruta_fit.ranking_)\n",
    "# ranking.sort_values('boruta', ascending=False).index.to_list()"
   ]
  },
  {
   "cell_type": "code",
   "execution_count": 85,
   "id": "c269c13d",
   "metadata": {
    "ExecuteTime": {
     "end_time": "2021-07-22T14:44:53.885967Z",
     "start_time": "2021-07-22T14:44:53.866965Z"
    },
    "hidden": true,
    "id": "ZjmwnkrIcBKV"
   },
   "outputs": [],
   "source": [
    "# ranking_boruta = [1, 2, 1, 1, 1, 1, 1, 1, 1, 1]\n",
    "# ranking['boruta'] = ranking_boruta"
   ]
  },
  {
   "cell_type": "markdown",
   "id": "a4d7b9cc",
   "metadata": {
    "heading_collapsed": true,
    "hidden": true
   },
   "source": [
    "###### 6.2.6 Chosen features"
   ]
  },
  {
   "cell_type": "code",
   "execution_count": 86,
   "id": "42a606da",
   "metadata": {
    "ExecuteTime": {
     "end_time": "2021-07-22T14:44:55.581768Z",
     "start_time": "2021-07-22T14:44:53.959959Z"
    },
    "hidden": true,
    "scrolled": false
   },
   "outputs": [
    {
     "data": {
      "text/plain": [
       "<AxesSubplot:>"
      ]
     },
     "execution_count": 86,
     "metadata": {},
     "output_type": "execute_result"
    },
    {
     "data": {
      "image/png": "[encoded data removed]",
      "text/plain": [
       "<Figure size 432x288 with 1 Axes>"
      ]
     },
     "metadata": {
      "needs_background": "light"
     },
     "output_type": "display_data"
    }
   ],
   "source": [
    "ranking[['importance_xgb', 'importance_rf']].plot.bar()"
   ]
  },
  {
   "cell_type": "code",
   "execution_count": 87,
   "id": "150fe03f",
   "metadata": {
    "ExecuteTime": {
     "end_time": "2021-07-22T14:44:55.895733Z",
     "start_time": "2021-07-22T14:44:55.589765Z"
    },
    "hidden": true
   },
   "outputs": [],
   "source": [
    "# Removendo features desinteressantes segundo a Feature Selection\n",
    "remover_features_ = ['Driving_License']\n",
    "\n",
    "X_smote = pd.DataFrame(X_smote, columns=X.columns)\n",
    "X_train_smote = pd.DataFrame(X_train_smote, columns=X.columns)\n",
    "X_valid = pd.DataFrame(X_valid, columns=X.columns)\n",
    "X_test = pd.DataFrame(X_test, columns=X.columns)\n",
    "\n",
    "X_smote.drop(remover_features_, axis=1, inplace=True)\n",
    "X_train_smote.drop(remover_features_, axis=1, inplace=True)\n",
    "X_valid.drop(remover_features_, axis=1, inplace=True)\n",
    "X_test.drop(remover_features_, axis=1, inplace=True)\n",
    "\n",
    "X_smote = X_smote.to_numpy()\n",
    "X_train_smote = X_train_smote.to_numpy()\n",
    "X_valid = X_valid.to_numpy()\n",
    "X_test = X_test.to_numpy()"
   ]
  },
  {
   "cell_type": "markdown",
   "id": "40650f13",
   "metadata": {
    "heading_collapsed": true,
    "id": "wrfYR3Ps5tXH"
   },
   "source": [
    "# 7.0 ML Modeling"
   ]
  },
  {
   "cell_type": "markdown",
   "id": "b86e32cc",
   "metadata": {
    "heading_collapsed": true,
    "hidden": true,
    "id": "riZ97EQlFUkX"
   },
   "source": [
    "##### 7.1 Principais Insights:\n",
    "1. A métrica para escolha do modelo final e predições será ROC_AUC, para responder às perguntas de negócio serão utilizadas as métricas PRECISION e RECALL do evento ocorrer, portanto as três serão abordadas\n",
    "2. **Chosen model:**\n",
    "\n",
    "###### 7.2 Log\n",
    "1. Modelo XGBoostt: PRECISION de 0.33, RECALL de 0.63 e ROC_AUC 0.73\n",
    "2. Modelo Random Forest: PRECISION de 0.32, RECALL de 0.41 e ROC_AUC 0.64\n",
    "3. Modelo Logistic Regression: PRECISION de 0.27, RECALL de 0.93 e ROC_AUC 0.79\n",
    "4. Modelo SVM: PRECISION de 0.xx, RECALL de 0.xx e ROC_AUC 0.xx\n",
    "5. Modelo KNN: PRECISION de 0.29, RECALL de 0.63 e ROC_AUC 0.71"
   ]
  },
  {
   "cell_type": "markdown",
   "id": "4cedbfc3",
   "metadata": {
    "heading_collapsed": true,
    "hidden": true
   },
   "source": [
    "###### 7.3 XGBoost"
   ]
  },
  {
   "cell_type": "code",
   "execution_count": 88,
   "id": "0d58ae5a",
   "metadata": {
    "ExecuteTime": {
     "end_time": "2021-07-22T14:44:55.913731Z",
     "start_time": "2021-07-22T14:44:55.902732Z"
    },
    "colab": {
     "base_uri": "https://localhost:8080/"
    },
    "hidden": true,
    "id": "SwR93uT_yDDW",
    "outputId": "62c40a77-b2e0-41b7-864f-1248831a1f3c",
    "scrolled": false
   },
   "outputs": [],
   "source": [
    "# # model description\n",
    "# xgb_model = XGBClassifier(use_label_encoder=False, eval_metric='error')\n",
    "\n",
    "# # fiting model\n",
    "# xgb_fit = xgb_model.fit(X_smote, y_smote)\n",
    "# xgb_predict = xgb_fit.predict(X_valid)\n",
    "\n",
    "# print('Treino\\n')\n",
    "# print(classification_report(y_valid, xgb_predict))\n",
    "# xgb_roc_auc_train = roc_auc_score(y_valid, xgb_predict)\n",
    "# print(f'roc_auc_score: {round(xgb_roc_auc_train, 2)}')\n",
    "# xgb_predict = xgb_fit.predict(X_test)\n",
    "# print()\n",
    "# print('Teste\\n')\n",
    "# print(classification_report(y_test, xgb_predict))\n",
    "# xgb_roc_auc_test = roc_auc_score(y_test, xgb_predict)\n",
    "# print(f'roc_auc_score: {round(xgb_roc_auc_test, 2)}')\n",
    "# xgb_overfiting = xgb_roc_auc_train/xgb_roc_auc_test - 1\n",
    "# print(f'O modelo está overfitando em {round(xgb_overfiting, 2)}%')"
   ]
  },
  {
   "cell_type": "markdown",
   "id": "21bbd307",
   "metadata": {
    "heading_collapsed": true,
    "hidden": true
   },
   "source": [
    "##### 7.4 Random Forest"
   ]
  },
  {
   "cell_type": "code",
   "execution_count": 89,
   "id": "2d7c3772",
   "metadata": {
    "ExecuteTime": {
     "end_time": "2021-07-22T14:44:55.940726Z",
     "start_time": "2021-07-22T14:44:55.923726Z"
    },
    "colab": {
     "base_uri": "https://localhost:8080/"
    },
    "hidden": true,
    "id": "SwR93uT_yDDW",
    "outputId": "62c40a77-b2e0-41b7-864f-1248831a1f3c",
    "scrolled": false
   },
   "outputs": [
    {
     "name": "stdout",
     "output_type": "stream",
     "text": [
      "Treino\n",
      "\n",
      "              precision    recall  f1-score   support\n",
      "\n",
      "         0.0       0.97      0.83      0.89     80152\n",
      "         1.0       0.40      0.82      0.54     11315\n",
      "\n",
      "    accuracy                           0.83     91467\n",
      "   macro avg       0.69      0.83      0.72     91467\n",
      "weighted avg       0.90      0.83      0.85     91467\n",
      "\n",
      "roc_auc_score: 0.83\n",
      "\n",
      "Teste\n",
      "\n",
      "              precision    recall  f1-score   support\n",
      "\n",
      "         0.0       0.94      0.80      0.87     66971\n",
      "         1.0       0.31      0.63      0.41      9251\n",
      "\n",
      "    accuracy                           0.78     76222\n",
      "   macro avg       0.62      0.72      0.64     76222\n",
      "weighted avg       0.86      0.78      0.81     76222\n",
      "\n",
      "roc_auc_score: 0.72\n",
      "O modelo está overfitando em 0.15%\n"
     ]
    }
   ],
   "source": [
    "# model definition\n",
    "rf_model = RandomForestClassifier()\n",
    "\n",
    "# fiting model\n",
    "rf_fit = rf_model.fit(X_smote, y_smote)\n",
    "rf_predict = rf_fit.predict(X_valid)\n",
    "\n",
    "print('Treino\\n')\n",
    "print(classification_report(y_valid, rf_predict))\n",
    "rf_roc_auc_train = roc_auc_score(y_valid, rf_predict)\n",
    "print(f'roc_auc_score: {round(rf_roc_auc_train, 2)}')\n",
    "rf_predict = rf_fit.predict(X_test)\n",
    "print()\n",
    "print('Teste\\n')\n",
    "print(classification_report(y_test, rf_predict))\n",
    "rf_roc_auc_test = roc_auc_score(y_test, rf_predict)\n",
    "print(f'roc_auc_score: {round(rf_roc_auc_test, 2)}')\n",
    "rf_overfiting = rf_roc_auc_train/rf_roc_auc_test - 1\n",
    "print(f'O modelo está overfitando em {round(rf_overfiting, 2)}%')"
   ]
  },
  {
   "cell_type": "markdown",
   "id": "4ab6f6e0",
   "metadata": {
    "heading_collapsed": true,
    "hidden": true
   },
   "source": [
    "##### 7.5 Logistic Regression"
   ]
  },
  {
   "cell_type": "code",
   "execution_count": 90,
   "id": "25b3c4f9",
   "metadata": {
    "ExecuteTime": {
     "end_time": "2021-07-22T14:44:55.972723Z",
     "start_time": "2021-07-22T14:44:55.949725Z"
    },
    "hidden": true
   },
   "outputs": [],
   "source": [
    "# # model description\n",
    "# lr_model = LogisticRegression()\n",
    "\n",
    "# # fiting model\n",
    "# lr_fit = lr_model.fit(X_smote, y_smote)\n",
    "# lr_predict = lr_fit.predict(X_valid)\n",
    "\n",
    "# print('Treino\\n')\n",
    "# print(classification_report(y_valid, lr_predict))\n",
    "# lr_roc_auc_train = roc_auc_score(y_valid, lr_predict)\n",
    "# print(f'roc_auc_score: {round(lr_roc_auc_train, 2)}')\n",
    "# lr_predict = lr_fit.predict(X_test)\n",
    "# print()\n",
    "# print('Teste\\n')\n",
    "# print(classification_report(y_test, lr_predict))\n",
    "# lr_roc_auc_test = roc_auc_score(y_test, lr_predict)\n",
    "# print(f'roc_auc_score: {round(lr_roc_auc_test, 2)}')\n",
    "# lr_overfiting = rf_roc_auc_train/lr_roc_auc_test - 1\n",
    "# print(f'O modelo está overfitando em {round(lr_overfiting, 2)}%')"
   ]
  },
  {
   "cell_type": "markdown",
   "id": "0e0c763c",
   "metadata": {
    "heading_collapsed": true,
    "hidden": true
   },
   "source": [
    "##### 7.6 Suport Vector Machine"
   ]
  },
  {
   "cell_type": "code",
   "execution_count": 91,
   "id": "4e00488f",
   "metadata": {
    "ExecuteTime": {
     "start_time": "2021-07-22T14:30:13.752Z"
    },
    "hidden": true
   },
   "outputs": [],
   "source": [
    "# # model description\n",
    "# svm_model = SVC()\n",
    "\n",
    "# # fiting model\n",
    "# svm_fit = svm_model.fit(X_smote, y_smote)\n",
    "# svm_predict = svm_fit.predict(X_valid)\n",
    "\n",
    "# print('Treino\\n')\n",
    "# print(classification_report(y_valid, svm_predict))\n",
    "# svm_roc_auc_train = roc_auc_score(y_valid, svm_predict)\n",
    "# print(f'roc_auc_score: {round(svm_roc_auc_train, 2)}')\n",
    "# svm_predict = svm_fit.predict(X_test)\n",
    "# print()\n",
    "# print('Teste\\n')\n",
    "# print(classification_report(y_test, svm_predict))\n",
    "# svm_roc_auc_test = roc_auc_score(y_test, svm_predict)\n",
    "# print(f'roc_auc_score: {round(svm_roc_auc_test, 2)}')\n",
    "# svm_overfiting = svm_roc_auc_train/svm_roc_auc_test - 1\n",
    "# print(f'O modelo está overfitando em {round(svm_overfiting, 2)}%')"
   ]
  },
  {
   "cell_type": "markdown",
   "id": "3de85206",
   "metadata": {
    "heading_collapsed": true,
    "hidden": true
   },
   "source": [
    "##### 7.7 KNN"
   ]
  },
  {
   "cell_type": "code",
   "execution_count": 92,
   "id": "4fd588e0",
   "metadata": {
    "ExecuteTime": {
     "start_time": "2021-07-22T14:30:13.773Z"
    },
    "hidden": true
   },
   "outputs": [],
   "source": [
    "# # model description\n",
    "# neigh_model = KNeighborsClassifier()\n",
    "\n",
    "# # fiting model\n",
    "# neigh_fit = neigh_model.fit(X_smote, y_smote)\n",
    "# neigh_predict = neigh_fit.predict(X_valid)\n",
    "\n",
    "# print('Treino\\n')\n",
    "# print(classification_report(y_valid, neigh_predict))\n",
    "# neigh_roc_auc_train = roc_auc_score(y_valid, neigh_predict)\n",
    "# print(f'roc_auc_score: {round(neigh_roc_auc_train, 2)}')\n",
    "# neigh_predict = neigh_fit.predict(X_test)\n",
    "# print()\n",
    "# print('Teste\\n')\n",
    "# print(classification_report(y_test, neigh_predict))\n",
    "# neigh_roc_auc_test = roc_auc_score(y_test, neigh_predict)\n",
    "# print(f'roc_auc_score: {round(neigh_roc_auc_test, 2)}')\n",
    "# neigh_overfiting = neigh_roc_auc_train/neigh_roc_auc_test - 1\n",
    "# print(f'O modelo está overfitando em {round(neigh_overfiting, 2)}%')"
   ]
  },
  {
   "cell_type": "markdown",
   "id": "2c18aebf",
   "metadata": {
    "heading_collapsed": true,
    "id": "GyzAfU3afq2C"
   },
   "source": [
    "# 8.0 Predicts"
   ]
  },
  {
   "cell_type": "markdown",
   "id": "b7cfd694",
   "metadata": {},
   "source": [
    "# 9.0 Deploy"
   ]
  },
  {
   "cell_type": "code",
   "execution_count": 127,
   "id": "3728e490",
   "metadata": {},
   "outputs": [],
   "source": [
    "# Save trained model\n",
    "pickle.dump(rf_fit, open('C:\\\\Users\\\\Notebook\\\\Google Drive\\\\Pessoal\\\\Projetos\\\\insurance_sales_predict\\\\deploy\\\\model_insurance_predict.pkl', 'wb'))"
   ]
  },
  {
   "cell_type": "markdown",
   "id": "f70a939b",
   "metadata": {
    "heading_collapsed": true,
    "id": "VyK5Ul7HI6_4"
   },
   "source": [
    "# 10.0 Results and Conclusions"
   ]
  },
  {
   "cell_type": "markdown",
   "id": "2af1d4c2",
   "metadata": {},
   "source": [
    "# Time"
   ]
  },
  {
   "cell_type": "code",
   "execution_count": 93,
   "id": "783158a0",
   "metadata": {
    "ExecuteTime": {
     "start_time": "2021-07-22T14:30:13.801Z"
    },
    "scrolled": true
   },
   "outputs": [
    {
     "name": "stdout",
     "output_type": "stream",
     "text": [
      "O tempo de processamento do projeto foi de: 31 minutos\n"
     ]
    }
   ],
   "source": [
    "print(f'O tempo de processamento do projeto foi de: {int(round(time.time()-time_agora, 2)/60)} minutos')"
   ]
  },
  {
   "cell_type": "markdown",
   "id": "1d508364",
   "metadata": {
    "heading_collapsed": true
   },
   "source": [
    "# Continua..."
   ]
  }
 ],
 "metadata": {
  "kernelspec": {
   "display_name": "Python 3",
   "language": "python",
   "name": "python3"
  },
  "language_info": {
   "codemirror_mode": {
    "name": "ipython",
    "version": 3
   },
   "file_extension": ".py",
   "mimetype": "text/x-python",
   "name": "python",
   "nbconvert_exporter": "python",
   "pygments_lexer": "ipython3",
   "version": "3.8.8"
  },
  "widgets": {
   "application/vnd.jupyter.widget-state+json": {
    "state": {},
    "version_major": 2,
    "version_minor": 0
   }
  }
 },
 "nbformat": 4,
 "nbformat_minor": 5
}
