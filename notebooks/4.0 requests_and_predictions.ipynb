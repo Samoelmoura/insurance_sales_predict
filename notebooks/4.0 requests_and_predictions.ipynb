{
 "cells": [
  {
   "cell_type": "markdown",
   "id": "f5f22930",
   "metadata": {},
   "source": [
    "# Reports\n",
    "1. Inputs: data raw from kaggle\n",
    "2. Outputs: predictions e teste comparativo entre o data raw processado através do request em relação ao processamento pelo projeto"
   ]
  },
  {
   "cell_type": "markdown",
   "id": "0dccb07a",
   "metadata": {},
   "source": [
    "# 1.0 Imports"
   ]
  },
  {
   "cell_type": "markdown",
   "id": "23eec6a4",
   "metadata": {},
   "source": [
    "###### 1.1 Libraries"
   ]
  },
  {
   "cell_type": "code",
   "execution_count": 1,
   "id": "23095494",
   "metadata": {
    "ExecuteTime": {
     "end_time": "2022-04-15T21:41:20.628571Z",
     "start_time": "2022-04-15T21:41:19.124053Z"
    }
   },
   "outputs": [],
   "source": [
    "import pandas as pd\n",
    "import numpy as np\n",
    "\n",
    "from sklearn.metrics import classification_report, roc_auc_score, accuracy_score\n",
    "\n",
    "import requests\n",
    "\n",
    "import pickle\n",
    "\n",
    "import time\n",
    "import warnings\n",
    "\n",
    "# Tempo de processamento\n",
    "time_agora = time.time()"
   ]
  },
  {
   "cell_type": "markdown",
   "id": "159dd48c",
   "metadata": {},
   "source": [
    "###### 1.2 Colecting data"
   ]
  },
  {
   "cell_type": "code",
   "execution_count": 2,
   "id": "8d8568be",
   "metadata": {
    "ExecuteTime": {
     "end_time": "2022-04-15T21:41:20.706775Z",
     "start_time": "2022-04-15T21:41:20.631490Z"
    }
   },
   "outputs": [
    {
     "name": "stderr",
     "output_type": "stream",
     "text": [
      "D:\\My Drive\\Pessoal\\Projetos\\environments\\data_science\\lib\\site-packages\\sklearn\\base.py:329: UserWarning: Trying to unpickle estimator LogisticRegression from version 1.0.1 when using version 1.0.2. This might lead to breaking code or invalid results. Use at your own risk. For more info please refer to:\n",
      "https://scikit-learn.org/stable/modules/model_persistence.html#security-maintainability-limitations\n",
      "  warnings.warn(\n"
     ]
    }
   ],
   "source": [
    "# raw data\n",
    "test = pickle.load(open('D:\\\\My Drive\\\\Pessoal\\\\Projetos\\\\insurance_sales_predict\\\\insurance_sales_predict\\\\exportings\\\\test.csv', 'rb'))\n",
    "\n",
    "# model\n",
    "lr_model = pickle.load(open('D:\\\\My Drive\\\\Pessoal\\\\Projetos\\\\insurance_sales_predict\\\\webapp\\\\model\\\\model.pkl', 'rb'))\n",
    "\n",
    "# columns\n",
    "model_columns = pickle.load(open('D:\\\\My Drive\\\\Pessoal\\\\Projetos\\\\insurance_sales_predict\\\\insurance_sales_predict\\\\exportings\\\\model_columns.pkl', 'rb'))"
   ]
  },
  {
   "cell_type": "markdown",
   "id": "b7cfd694",
   "metadata": {},
   "source": [
    "# 2.0 Predictions"
   ]
  },
  {
   "cell_type": "markdown",
   "id": "7c5b258b",
   "metadata": {},
   "source": [
    "##### 2.1 Request"
   ]
  },
  {
   "cell_type": "code",
   "execution_count": 3,
   "id": "4955070d",
   "metadata": {
    "ExecuteTime": {
     "end_time": "2022-04-15T21:41:28.196260Z",
     "start_time": "2022-04-15T21:41:20.709406Z"
    },
    "scrolled": false
   },
   "outputs": [
    {
     "data": {
      "text/plain": [
       "200"
      ]
     },
     "execution_count": 3,
     "metadata": {},
     "output_type": "execute_result"
    }
   ],
   "source": [
    "# # apenas um cliente\n",
    "# request_1 = df_raw.sample(1)\n",
    "# request_1_json = request_1.to_json(orient='records')\n",
    "# received = requests.post(url='http://192.168.0.11:5000/predict', \n",
    "#                          data=request_1_json, \n",
    "#                          headers={'Content-type':'application/json'})\n",
    "# received.status_code\n",
    "\n",
    "# mais de um cliente\n",
    "test_json = test.to_json(orient='records')\n",
    "\n",
    "url = 'https://insurance-sales-predict.herokuapp.com/predict' # heroku host\n",
    "# url = 'http://192.168.0.13:5000/predict' # local host\n",
    "\n",
    "received = requests.post(url=url, \n",
    "                         data=test_json, \n",
    "                         headers={'Content-type':'application/json'})\n",
    "received.status_code"
   ]
  },
  {
   "cell_type": "markdown",
   "id": "e79ba7e3",
   "metadata": {},
   "source": [
    "##### 2.2 Received"
   ]
  },
  {
   "cell_type": "code",
   "execution_count": 4,
   "id": "7df89b32",
   "metadata": {
    "ExecuteTime": {
     "end_time": "2022-04-15T21:41:28.889152Z",
     "start_time": "2022-04-15T21:41:28.199257Z"
    },
    "scrolled": true
   },
   "outputs": [
    {
     "data": {
      "text/html": [
       "<div>\n",
       "<style scoped>\n",
       "    .dataframe tbody tr th:only-of-type {\n",
       "        vertical-align: middle;\n",
       "    }\n",
       "\n",
       "    .dataframe tbody tr th {\n",
       "        vertical-align: top;\n",
       "    }\n",
       "\n",
       "    .dataframe thead th {\n",
       "        text-align: right;\n",
       "    }\n",
       "</style>\n",
       "<table border=\"1\" class=\"dataframe\">\n",
       "  <thead>\n",
       "    <tr style=\"text-align: right;\">\n",
       "      <th></th>\n",
       "      <th>Age</th>\n",
       "      <th>Previously_Insured</th>\n",
       "      <th>Gender_</th>\n",
       "      <th>Vehicle_Damage_</th>\n",
       "      <th>Policy_Sales_Channel_Response_Mean</th>\n",
       "      <th>Region_Code_Response_Mean</th>\n",
       "      <th>High_Response_Age</th>\n",
       "      <th>Log_Annual_Premium</th>\n",
       "      <th>Vehicle_Age_1</th>\n",
       "      <th>Vehicle_Age_2</th>\n",
       "      <th>Response</th>\n",
       "      <th>predictions</th>\n",
       "      <th>probability</th>\n",
       "    </tr>\n",
       "  </thead>\n",
       "  <tbody>\n",
       "    <tr>\n",
       "      <th>0</th>\n",
       "      <td>1.817947</td>\n",
       "      <td>1.086689</td>\n",
       "      <td>0.921495</td>\n",
       "      <td>-1.008517</td>\n",
       "      <td>0.112913</td>\n",
       "      <td>1.426486</td>\n",
       "      <td>0.827798</td>\n",
       "      <td>0.625041</td>\n",
       "      <td>-0.871583</td>\n",
       "      <td>-0.210045</td>\n",
       "      <td>0</td>\n",
       "      <td>0.0</td>\n",
       "      <td>0.003571</td>\n",
       "    </tr>\n",
       "    <tr>\n",
       "      <th>1</th>\n",
       "      <td>1.237327</td>\n",
       "      <td>-0.920227</td>\n",
       "      <td>-1.085193</td>\n",
       "      <td>0.991555</td>\n",
       "      <td>0.889119</td>\n",
       "      <td>-1.137964</td>\n",
       "      <td>0.827798</td>\n",
       "      <td>0.285188</td>\n",
       "      <td>-0.871583</td>\n",
       "      <td>-0.210045</td>\n",
       "      <td>0</td>\n",
       "      <td>1.0</td>\n",
       "      <td>0.623174</td>\n",
       "    </tr>\n",
       "    <tr>\n",
       "      <th>2</th>\n",
       "      <td>1.817947</td>\n",
       "      <td>-0.920227</td>\n",
       "      <td>0.921495</td>\n",
       "      <td>0.991555</td>\n",
       "      <td>0.889119</td>\n",
       "      <td>1.426486</td>\n",
       "      <td>0.827798</td>\n",
       "      <td>0.074382</td>\n",
       "      <td>-0.871583</td>\n",
       "      <td>-0.210045</td>\n",
       "      <td>0</td>\n",
       "      <td>1.0</td>\n",
       "      <td>0.648444</td>\n",
       "    </tr>\n",
       "    <tr>\n",
       "      <th>3</th>\n",
       "      <td>0.398653</td>\n",
       "      <td>1.086689</td>\n",
       "      <td>-1.085193</td>\n",
       "      <td>-1.008517</td>\n",
       "      <td>0.889119</td>\n",
       "      <td>1.426486</td>\n",
       "      <td>0.827798</td>\n",
       "      <td>0.211501</td>\n",
       "      <td>-0.871583</td>\n",
       "      <td>-0.210045</td>\n",
       "      <td>0</td>\n",
       "      <td>0.0</td>\n",
       "      <td>0.009199</td>\n",
       "    </tr>\n",
       "    <tr>\n",
       "      <th>4</th>\n",
       "      <td>-1.149669</td>\n",
       "      <td>1.086689</td>\n",
       "      <td>0.921495</td>\n",
       "      <td>-1.008517</td>\n",
       "      <td>-1.167128</td>\n",
       "      <td>-0.714851</td>\n",
       "      <td>-1.208024</td>\n",
       "      <td>0.560493</td>\n",
       "      <td>1.147338</td>\n",
       "      <td>-0.210045</td>\n",
       "      <td>0</td>\n",
       "      <td>0.0</td>\n",
       "      <td>0.002643</td>\n",
       "    </tr>\n",
       "  </tbody>\n",
       "</table>\n",
       "</div>"
      ],
      "text/plain": [
       "        Age  Previously_Insured   Gender_  Vehicle_Damage_  \\\n",
       "0  1.817947            1.086689  0.921495        -1.008517   \n",
       "1  1.237327           -0.920227 -1.085193         0.991555   \n",
       "2  1.817947           -0.920227  0.921495         0.991555   \n",
       "3  0.398653            1.086689 -1.085193        -1.008517   \n",
       "4 -1.149669            1.086689  0.921495        -1.008517   \n",
       "\n",
       "   Policy_Sales_Channel_Response_Mean  Region_Code_Response_Mean  \\\n",
       "0                            0.112913                   1.426486   \n",
       "1                            0.889119                  -1.137964   \n",
       "2                            0.889119                   1.426486   \n",
       "3                            0.889119                   1.426486   \n",
       "4                           -1.167128                  -0.714851   \n",
       "\n",
       "   High_Response_Age  Log_Annual_Premium  Vehicle_Age_1  Vehicle_Age_2  \\\n",
       "0           0.827798            0.625041      -0.871583      -0.210045   \n",
       "1           0.827798            0.285188      -0.871583      -0.210045   \n",
       "2           0.827798            0.074382      -0.871583      -0.210045   \n",
       "3           0.827798            0.211501      -0.871583      -0.210045   \n",
       "4          -1.208024            0.560493       1.147338      -0.210045   \n",
       "\n",
       "   Response  predictions  probability  \n",
       "0         0          0.0     0.003571  \n",
       "1         0          1.0     0.623174  \n",
       "2         0          1.0     0.648444  \n",
       "3         0          0.0     0.009199  \n",
       "4         0          0.0     0.002643  "
      ]
     },
     "execution_count": 4,
     "metadata": {},
     "output_type": "execute_result"
    }
   ],
   "source": [
    "df_predict_request = pd.DataFrame(received.json(), columns=received.json()[0].keys())\n",
    "df_predict_request.head(5)"
   ]
  },
  {
   "cell_type": "markdown",
   "id": "349774c5",
   "metadata": {},
   "source": [
    "##### 2.3 Through request"
   ]
  },
  {
   "cell_type": "code",
   "execution_count": 5,
   "id": "f9de7659",
   "metadata": {
    "ExecuteTime": {
     "end_time": "2022-04-15T21:41:29.029617Z",
     "start_time": "2022-04-15T21:41:28.892118Z"
    },
    "scrolled": true
   },
   "outputs": [
    {
     "name": "stdout",
     "output_type": "stream",
     "text": [
      "              precision    recall  f1-score   support\n",
      "\n",
      "           0       0.98      0.68      0.80     33400\n",
      "           1       0.29      0.91      0.44      4711\n",
      "\n",
      "    accuracy                           0.71     38111\n",
      "   macro avg       0.63      0.80      0.62     38111\n",
      "weighted avg       0.90      0.71      0.76     38111\n",
      "\n"
     ]
    }
   ],
   "source": [
    "print(classification_report(df_predict_request['Response'], df_predict_request['predictions'], zero_division=0))"
   ]
  },
  {
   "cell_type": "markdown",
   "id": "3ab619a1",
   "metadata": {},
   "source": [
    "# 3.0 Exportings"
   ]
  },
  {
   "cell_type": "markdown",
   "id": "336f9ee5",
   "metadata": {},
   "source": [
    "###### Dataframe with predictions and probabilities"
   ]
  },
  {
   "cell_type": "code",
   "execution_count": 6,
   "id": "040f8be8",
   "metadata": {
    "ExecuteTime": {
     "end_time": "2022-04-15T21:41:29.045053Z",
     "start_time": "2022-04-15T21:41:29.032696Z"
    }
   },
   "outputs": [],
   "source": [
    "pickle.dump(df_predict_request, open('D:\\\\My Drive\\\\Pessoal\\\\Projetos\\\\insurance_sales_predict\\\\insurance_sales_predict\\\\exportings\\\\df_predict_request.pkl', 'wb'))"
   ]
  },
  {
   "cell_type": "markdown",
   "id": "4e378702",
   "metadata": {},
   "source": [
    "# Time"
   ]
  },
  {
   "cell_type": "code",
   "execution_count": 7,
   "id": "903c4b46",
   "metadata": {
    "ExecuteTime": {
     "end_time": "2022-04-15T21:41:29.060965Z",
     "start_time": "2022-04-15T21:41:29.047434Z"
    },
    "scrolled": false
   },
   "outputs": [
    {
     "name": "stdout",
     "output_type": "stream",
     "text": [
      "O tempo de processamento do projeto foi de: 0 minutos\n"
     ]
    }
   ],
   "source": [
    "print(f'O tempo de processamento do projeto foi de: {int(round(time.time()-time_agora, 2)/60)} minutos')"
   ]
  }
 ],
 "metadata": {
  "kernelspec": {
   "display_name": "Python 3 (ipykernel)",
   "language": "python",
   "name": "python3"
  },
  "language_info": {
   "codemirror_mode": {
    "name": "ipython",
    "version": 3
   },
   "file_extension": ".py",
   "mimetype": "text/x-python",
   "name": "python",
   "nbconvert_exporter": "python",
   "pygments_lexer": "ipython3",
   "version": "3.9.7"
  }
 },
 "nbformat": 4,
 "nbformat_minor": 5
}
