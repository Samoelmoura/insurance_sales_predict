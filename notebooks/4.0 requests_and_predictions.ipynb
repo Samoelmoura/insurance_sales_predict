{
 "cells": [
  {
   "cell_type": "markdown",
   "id": "f5f22930",
   "metadata": {
    "heading_collapsed": true
   },
   "source": [
    "# Reports\n",
    "1. Inputs: data raw from kaggle\n",
    "2. Outputs: predictions\n",
    "3. Teste comparativo entre o data raw processado através do request em relação ao processamento pelo projeto"
   ]
  },
  {
   "cell_type": "markdown",
   "id": "0dccb07a",
   "metadata": {
    "heading_collapsed": true
   },
   "source": [
    "# 1.0 Imports"
   ]
  },
  {
   "cell_type": "markdown",
   "id": "23eec6a4",
   "metadata": {
    "heading_collapsed": true,
    "hidden": true
   },
   "source": [
    "###### 1.1 Libraries"
   ]
  },
  {
   "cell_type": "code",
   "execution_count": 1,
   "id": "23095494",
   "metadata": {
    "ExecuteTime": {
     "end_time": "2021-12-19T15:28:42.350689Z",
     "start_time": "2021-12-19T15:28:38.817505Z"
    },
    "hidden": true
   },
   "outputs": [],
   "source": [
    "import pandas as pd\n",
    "import numpy as np\n",
    "\n",
    "from sklearn.metrics import classification_report, roc_auc_score, accuracy_score\n",
    "\n",
    "import requests\n",
    "\n",
    "import pickle\n",
    "\n",
    "import time\n",
    "import warnings\n",
    "\n",
    "# Tempo de processamento\n",
    "time_agora = time.time()"
   ]
  },
  {
   "cell_type": "markdown",
   "id": "159dd48c",
   "metadata": {
    "heading_collapsed": true,
    "hidden": true
   },
   "source": [
    "###### 1.2 Colecting data"
   ]
  },
  {
   "cell_type": "code",
   "execution_count": 2,
   "id": "8d8568be",
   "metadata": {
    "ExecuteTime": {
     "end_time": "2021-12-19T15:28:42.888508Z",
     "start_time": "2021-12-19T15:28:42.351362Z"
    },
    "hidden": true
   },
   "outputs": [],
   "source": [
    "# raw data\n",
    "train = pd.read_csv(r'D:\\\\My Drive\\\\Pessoal\\\\Projetos\\\\insurance_sales_predict\\\\insurance_sales_predict\\\\train.csv')\n",
    "test = pd.read_csv(r'D:\\\\My Drive\\\\Pessoal\\\\Projetos\\\\insurance_sales_predict\\\\insurance_sales_predict\\\\test.csv')\n",
    "df_raw = pd.concat([train, test])\n",
    "\n",
    "# # arrays\n",
    "X = pickle.load(open('D:\\\\My Drive\\\\Pessoal\\\\Projetos\\\\insurance_sales_predict\\\\insurance_sales_predict\\\\exportings\\\\X_to_modeling.pkl', 'rb'))\n",
    "y = pickle.load(open('D:\\\\My Drive\\\\Pessoal\\\\Projetos\\\\insurance_sales_predict\\\\insurance_sales_predict\\\\exportings\\\\y_to_modeling.pkl', 'rb'))\n",
    "X_train = X[2]\n",
    "y_train = y[6]\n",
    "\n",
    "# model\n",
    "lr_model = pickle.load(open('D:\\\\My Drive\\\\Pessoal\\\\Projetos\\\\insurance_sales_predict\\\\webapp\\\\model\\\\model.pkl', 'rb'))\n",
    "\n",
    "# columns\n",
    "model_columns = pickle.load(open('D:\\\\My Drive\\\\Pessoal\\\\Projetos\\\\insurance_sales_predict\\\\insurance_sales_predict\\\\exportings\\\\model_columns.pkl', 'rb'))"
   ]
  },
  {
   "cell_type": "markdown",
   "id": "b7cfd694",
   "metadata": {
    "heading_collapsed": true
   },
   "source": [
    "# 2.0 Predictions"
   ]
  },
  {
   "cell_type": "markdown",
   "id": "7c5b258b",
   "metadata": {
    "heading_collapsed": true,
    "hidden": true
   },
   "source": [
    "##### 2.1 Request"
   ]
  },
  {
   "cell_type": "code",
   "execution_count": 3,
   "id": "4955070d",
   "metadata": {
    "ExecuteTime": {
     "end_time": "2021-12-19T15:29:08.474429Z",
     "start_time": "2021-12-19T15:28:42.890510Z"
    },
    "hidden": true,
    "scrolled": false
   },
   "outputs": [
    {
     "data": {
      "text/plain": [
       "200"
      ]
     },
     "execution_count": 3,
     "metadata": {},
     "output_type": "execute_result"
    }
   ],
   "source": [
    "# # apenas um cliente\n",
    "# request_1 = df_raw.sample(1)\n",
    "# request_1_json = request_1.to_json(orient='records')\n",
    "# received = requests.post(url='http://192.168.0.11:5000/predict', \n",
    "#                          data=request_1_json, \n",
    "#                          headers={'Content-type':'application/json'})\n",
    "# received.status_code\n",
    "\n",
    "# mais de um cliente\n",
    "train_json = train.sample(500).to_json(orient='records')\n",
    "\n",
    "url = 'https://insurance-sales-predict.herokuapp.com/predict' # heroku host\n",
    "# url = 'http://192.168.0.13:5000/predict' # local host\n",
    "\n",
    "received = requests.post(url=url, \n",
    "                         data=train_json, \n",
    "                         headers={'Content-type':'application/json'})\n",
    "received.status_code"
   ]
  },
  {
   "cell_type": "markdown",
   "id": "e79ba7e3",
   "metadata": {
    "heading_collapsed": true,
    "hidden": true
   },
   "source": [
    "##### 2.2 Received"
   ]
  },
  {
   "cell_type": "code",
   "execution_count": 4,
   "id": "7df89b32",
   "metadata": {
    "ExecuteTime": {
     "end_time": "2021-12-19T15:29:08.521889Z",
     "start_time": "2021-12-19T15:29:08.476388Z"
    },
    "hidden": true,
    "scrolled": true
   },
   "outputs": [
    {
     "data": {
      "text/html": [
       "<div>\n",
       "<style scoped>\n",
       "    .dataframe tbody tr th:only-of-type {\n",
       "        vertical-align: middle;\n",
       "    }\n",
       "\n",
       "    .dataframe tbody tr th {\n",
       "        vertical-align: top;\n",
       "    }\n",
       "\n",
       "    .dataframe thead th {\n",
       "        text-align: right;\n",
       "    }\n",
       "</style>\n",
       "<table border=\"1\" class=\"dataframe\">\n",
       "  <thead>\n",
       "    <tr style=\"text-align: right;\">\n",
       "      <th></th>\n",
       "      <th>Age</th>\n",
       "      <th>Previously_Insured</th>\n",
       "      <th>Gender_</th>\n",
       "      <th>Vehicle_Damage_</th>\n",
       "      <th>Policy_Sales_Channel_Response_Mean</th>\n",
       "      <th>Region_Code_Response_Mean</th>\n",
       "      <th>High_Response_Age</th>\n",
       "      <th>Log_Annual_Premium</th>\n",
       "      <th>Vehicle_Age_1</th>\n",
       "      <th>Vehicle_Age_2</th>\n",
       "      <th>Response</th>\n",
       "      <th>predictions</th>\n",
       "      <th>probability</th>\n",
       "    </tr>\n",
       "  </thead>\n",
       "  <tbody>\n",
       "    <tr>\n",
       "      <th>0</th>\n",
       "      <td>-0.762588</td>\n",
       "      <td>1.086689</td>\n",
       "      <td>0.921495</td>\n",
       "      <td>-1.008517</td>\n",
       "      <td>-1.088230</td>\n",
       "      <td>-0.017348</td>\n",
       "      <td>-1.208024</td>\n",
       "      <td>0.029685</td>\n",
       "      <td>1.147338</td>\n",
       "      <td>-0.210045</td>\n",
       "      <td>0</td>\n",
       "      <td>0.0</td>\n",
       "      <td>0.002398</td>\n",
       "    </tr>\n",
       "    <tr>\n",
       "      <th>1</th>\n",
       "      <td>0.269626</td>\n",
       "      <td>-0.920227</td>\n",
       "      <td>0.921495</td>\n",
       "      <td>0.991555</td>\n",
       "      <td>1.428362</td>\n",
       "      <td>-1.116765</td>\n",
       "      <td>0.827798</td>\n",
       "      <td>0.324885</td>\n",
       "      <td>-0.871583</td>\n",
       "      <td>-0.210045</td>\n",
       "      <td>0</td>\n",
       "      <td>1.0</td>\n",
       "      <td>0.792271</td>\n",
       "    </tr>\n",
       "    <tr>\n",
       "      <th>2</th>\n",
       "      <td>-0.440021</td>\n",
       "      <td>-0.920227</td>\n",
       "      <td>-1.085193</td>\n",
       "      <td>0.991555</td>\n",
       "      <td>-1.088230</td>\n",
       "      <td>-1.034305</td>\n",
       "      <td>0.827798</td>\n",
       "      <td>0.128925</td>\n",
       "      <td>1.147338</td>\n",
       "      <td>-0.210045</td>\n",
       "      <td>0</td>\n",
       "      <td>1.0</td>\n",
       "      <td>0.602046</td>\n",
       "    </tr>\n",
       "    <tr>\n",
       "      <th>3</th>\n",
       "      <td>0.463166</td>\n",
       "      <td>-0.920227</td>\n",
       "      <td>0.921495</td>\n",
       "      <td>0.991555</td>\n",
       "      <td>0.889119</td>\n",
       "      <td>-0.216440</td>\n",
       "      <td>0.827798</td>\n",
       "      <td>-2.135897</td>\n",
       "      <td>-0.871583</td>\n",
       "      <td>-0.210045</td>\n",
       "      <td>0</td>\n",
       "      <td>1.0</td>\n",
       "      <td>0.727011</td>\n",
       "    </tr>\n",
       "    <tr>\n",
       "      <th>4</th>\n",
       "      <td>-1.149669</td>\n",
       "      <td>-0.920227</td>\n",
       "      <td>-1.085193</td>\n",
       "      <td>0.991555</td>\n",
       "      <td>-1.088230</td>\n",
       "      <td>-1.378621</td>\n",
       "      <td>-1.208024</td>\n",
       "      <td>0.088086</td>\n",
       "      <td>1.147338</td>\n",
       "      <td>-0.210045</td>\n",
       "      <td>0</td>\n",
       "      <td>0.0</td>\n",
       "      <td>0.452836</td>\n",
       "    </tr>\n",
       "  </tbody>\n",
       "</table>\n",
       "</div>"
      ],
      "text/plain": [
       "        Age  Previously_Insured   Gender_  Vehicle_Damage_  \\\n",
       "0 -0.762588            1.086689  0.921495        -1.008517   \n",
       "1  0.269626           -0.920227  0.921495         0.991555   \n",
       "2 -0.440021           -0.920227 -1.085193         0.991555   \n",
       "3  0.463166           -0.920227  0.921495         0.991555   \n",
       "4 -1.149669           -0.920227 -1.085193         0.991555   \n",
       "\n",
       "   Policy_Sales_Channel_Response_Mean  Region_Code_Response_Mean  \\\n",
       "0                           -1.088230                  -0.017348   \n",
       "1                            1.428362                  -1.116765   \n",
       "2                           -1.088230                  -1.034305   \n",
       "3                            0.889119                  -0.216440   \n",
       "4                           -1.088230                  -1.378621   \n",
       "\n",
       "   High_Response_Age  Log_Annual_Premium  Vehicle_Age_1  Vehicle_Age_2  \\\n",
       "0          -1.208024            0.029685       1.147338      -0.210045   \n",
       "1           0.827798            0.324885      -0.871583      -0.210045   \n",
       "2           0.827798            0.128925       1.147338      -0.210045   \n",
       "3           0.827798           -2.135897      -0.871583      -0.210045   \n",
       "4          -1.208024            0.088086       1.147338      -0.210045   \n",
       "\n",
       "   Response  predictions  probability  \n",
       "0         0          0.0     0.002398  \n",
       "1         0          1.0     0.792271  \n",
       "2         0          1.0     0.602046  \n",
       "3         0          1.0     0.727011  \n",
       "4         0          0.0     0.452836  "
      ]
     },
     "execution_count": 4,
     "metadata": {},
     "output_type": "execute_result"
    }
   ],
   "source": [
    "df_predict_request = pd.DataFrame(received.json(), columns=received.json()[0].keys())\n",
    "df_predict_request.head(5)"
   ]
  },
  {
   "cell_type": "markdown",
   "id": "349774c5",
   "metadata": {
    "heading_collapsed": true,
    "hidden": true
   },
   "source": [
    "##### 2.3 Through request"
   ]
  },
  {
   "cell_type": "code",
   "execution_count": 5,
   "id": "f9de7659",
   "metadata": {
    "ExecuteTime": {
     "end_time": "2021-12-19T15:29:08.536882Z",
     "start_time": "2021-12-19T15:29:08.522878Z"
    },
    "hidden": true
   },
   "outputs": [
    {
     "name": "stdout",
     "output_type": "stream",
     "text": [
      "              precision    recall  f1-score   support\n",
      "\n",
      "           0       0.97      0.67      0.79       437\n",
      "           1       0.27      0.84      0.41        63\n",
      "\n",
      "    accuracy                           0.69       500\n",
      "   macro avg       0.62      0.76      0.60       500\n",
      "weighted avg       0.88      0.69      0.75       500\n",
      "\n"
     ]
    }
   ],
   "source": [
    "print(classification_report(df_predict_request['Response'], df_predict_request['predictions'], zero_division=0))"
   ]
  },
  {
   "cell_type": "markdown",
   "id": "46119f5a",
   "metadata": {
    "heading_collapsed": true,
    "hidden": true
   },
   "source": [
    "##### 2.4 Through projetct"
   ]
  },
  {
   "cell_type": "code",
   "execution_count": 6,
   "id": "a8569a40",
   "metadata": {
    "ExecuteTime": {
     "end_time": "2021-12-19T15:29:08.568092Z",
     "start_time": "2021-12-19T15:29:08.538881Z"
    },
    "hidden": true
   },
   "outputs": [],
   "source": [
    "pred = lr_model.predict(X_train)"
   ]
  },
  {
   "cell_type": "code",
   "execution_count": 7,
   "id": "be17cec7",
   "metadata": {
    "ExecuteTime": {
     "end_time": "2021-12-19T15:29:08.599803Z",
     "start_time": "2021-12-19T15:29:08.570058Z"
    },
    "hidden": true
   },
   "outputs": [],
   "source": [
    "proba = lr_model.predict_proba(X_train)[:,1]"
   ]
  },
  {
   "cell_type": "code",
   "execution_count": 8,
   "id": "2f5ecf8b",
   "metadata": {
    "ExecuteTime": {
     "end_time": "2021-12-19T15:29:08.615803Z",
     "start_time": "2021-12-19T15:29:08.601801Z"
    },
    "hidden": true,
    "scrolled": true
   },
   "outputs": [],
   "source": [
    "df_predict_project = pd.DataFrame(X_train, columns=model_columns)"
   ]
  },
  {
   "cell_type": "code",
   "execution_count": 9,
   "id": "78fe4991",
   "metadata": {
    "ExecuteTime": {
     "end_time": "2021-12-19T15:29:08.631802Z",
     "start_time": "2021-12-19T15:29:08.616804Z"
    },
    "hidden": true
   },
   "outputs": [],
   "source": [
    "df_predict_project['predictions'] = pred\n",
    "df_predict_project['probability'] = proba\n",
    "df_predict_project['Response'] = y_train"
   ]
  },
  {
   "cell_type": "code",
   "execution_count": 10,
   "id": "451aee74",
   "metadata": {
    "ExecuteTime": {
     "end_time": "2021-12-19T15:29:08.647820Z",
     "start_time": "2021-12-19T15:29:08.633804Z"
    },
    "hidden": true
   },
   "outputs": [],
   "source": [
    "df_predict_project.sort_index(inplace=True)"
   ]
  },
  {
   "cell_type": "code",
   "execution_count": 11,
   "id": "734ec975",
   "metadata": {
    "ExecuteTime": {
     "end_time": "2021-12-19T15:29:09.536004Z",
     "start_time": "2021-12-19T15:29:08.648809Z"
    },
    "hidden": true,
    "scrolled": false
   },
   "outputs": [
    {
     "name": "stdout",
     "output_type": "stream",
     "text": [
      "              precision    recall  f1-score   support\n",
      "\n",
      "         0.0       0.98      0.68      0.80    334399\n",
      "         1.0       0.28      0.91      0.43     46710\n",
      "\n",
      "    accuracy                           0.71    381109\n",
      "   macro avg       0.63      0.79      0.62    381109\n",
      "weighted avg       0.90      0.71      0.76    381109\n",
      "\n"
     ]
    }
   ],
   "source": [
    "print(classification_report(df_predict_project['Response'], df_predict_project['predictions'], zero_division=0))"
   ]
  },
  {
   "cell_type": "markdown",
   "id": "ae4938a1",
   "metadata": {
    "heading_collapsed": true,
    "hidden": true
   },
   "source": [
    "##### 2.5 Testando processamento por Request versus Project"
   ]
  },
  {
   "cell_type": "code",
   "execution_count": 12,
   "id": "12e4e341",
   "metadata": {
    "ExecuteTime": {
     "end_time": "2021-12-19T15:29:09.710242Z",
     "start_time": "2021-12-19T15:29:09.537101Z"
    },
    "hidden": true,
    "scrolled": false
   },
   "outputs": [
    {
     "data": {
      "text/plain": [
       "Age                                   599.071346\n",
       "Gender_                               539.799094\n",
       "High_Response_Age                     533.385411\n",
       "Log_Annual_Premium                    494.567601\n",
       "Policy_Sales_Channel_Response_Mean    522.257705\n",
       "Previously_Insured                    479.652800\n",
       "Region_Code_Response_Mean             554.029193\n",
       "Response                              103.000000\n",
       "Vehicle_Age_1                         522.900447\n",
       "Vehicle_Age_2                         233.633593\n",
       "Vehicle_Damage_                       496.017839\n",
       "predictions                           245.000000\n",
       "probability                           185.399231\n",
       "dtype: float64"
      ]
     },
     "execution_count": 12,
     "metadata": {},
     "output_type": "execute_result"
    }
   ],
   "source": [
    "np.sum(np.abs(df_predict_project - df_predict_request))"
   ]
  },
  {
   "cell_type": "markdown",
   "id": "3ab619a1",
   "metadata": {
    "heading_collapsed": true
   },
   "source": [
    "# 3.0 Exportings"
   ]
  },
  {
   "cell_type": "markdown",
   "id": "336f9ee5",
   "metadata": {
    "heading_collapsed": true,
    "hidden": true
   },
   "source": [
    "###### Dataframe with predictions and probabilities"
   ]
  },
  {
   "cell_type": "code",
   "execution_count": 13,
   "id": "040f8be8",
   "metadata": {
    "ExecuteTime": {
     "end_time": "2021-12-19T15:29:09.726260Z",
     "start_time": "2021-12-19T15:29:09.712841Z"
    },
    "hidden": true
   },
   "outputs": [],
   "source": [
    "pickle.dump(df_predict_request, open('D:\\\\My Drive\\\\Pessoal\\\\Projetos\\\\insurance_sales_predict\\\\insurance_sales_predict\\\\exportings\\\\df_predict_request.pkl', 'wb'))"
   ]
  },
  {
   "cell_type": "markdown",
   "id": "4e378702",
   "metadata": {},
   "source": [
    "# Time"
   ]
  },
  {
   "cell_type": "code",
   "execution_count": 14,
   "id": "903c4b46",
   "metadata": {
    "ExecuteTime": {
     "end_time": "2021-12-19T15:29:09.742393Z",
     "start_time": "2021-12-19T15:29:09.727252Z"
    },
    "scrolled": false
   },
   "outputs": [
    {
     "name": "stdout",
     "output_type": "stream",
     "text": [
      "O tempo de processamento do projeto foi de: 0 minutos\n"
     ]
    }
   ],
   "source": [
    "print(f'O tempo de processamento do projeto foi de: {int(round(time.time()-time_agora, 2)/60)} minutos')"
   ]
  }
 ],
 "metadata": {
  "kernelspec": {
   "display_name": "Python 3 (ipykernel)",
   "language": "python",
   "name": "python3"
  },
  "language_info": {
   "codemirror_mode": {
    "name": "ipython",
    "version": 3
   },
   "file_extension": ".py",
   "mimetype": "text/x-python",
   "name": "python",
   "nbconvert_exporter": "python",
   "pygments_lexer": "ipython3",
   "version": "3.9.7"
  }
 },
 "nbformat": 4,
 "nbformat_minor": 5
}
