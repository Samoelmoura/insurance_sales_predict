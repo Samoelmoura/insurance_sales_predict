{
 "cells": [
  {
   "cell_type": "markdown",
   "id": "c4db2bc9",
   "metadata": {
    "heading_collapsed": true
   },
   "source": [
    "# Reports\n",
    "1. Inputs: data with feature engineering \n",
    "2. Outputs: prepared data to ml modeling\n",
    "3. ..."
   ]
  },
  {
   "cell_type": "markdown",
   "id": "2cf82ad6",
   "metadata": {
    "heading_collapsed": true
   },
   "source": [
    "# 1.0 Imports"
   ]
  },
  {
   "cell_type": "markdown",
   "id": "ce44270d",
   "metadata": {
    "heading_collapsed": true,
    "hidden": true
   },
   "source": [
    "###### 1.1 Libraries"
   ]
  },
  {
   "cell_type": "code",
   "execution_count": 1,
   "id": "42b1bea8",
   "metadata": {
    "ExecuteTime": {
     "end_time": "2022-01-02T23:21:09.868995Z",
     "start_time": "2022-01-02T23:21:07.849324Z"
    },
    "hidden": true,
    "scrolled": true
   },
   "outputs": [],
   "source": [
    "import pandas as pd\n",
    "import numpy as np\n",
    "import matplotlib.pyplot as plt \n",
    "\n",
    "from sklearn.model_selection import train_test_split\n",
    "from sklearn.preprocessing import StandardScaler, LabelEncoder\n",
    "from sklearn.metrics import classification_report, roc_auc_score, accuracy_score\n",
    "from sklearn.ensemble import RandomForestClassifier\n",
    "from sklearn.feature_selection import RFE\n",
    "\n",
    "from xgboost import XGBRFClassifier\n",
    "\n",
    "from boruta import BorutaPy\n",
    "\n",
    "from imblearn.over_sampling import SMOTE\n",
    "from imblearn.under_sampling import NearMiss\n",
    "\n",
    "import pickle\n",
    "\n",
    "import time\n",
    "import warnings\n",
    "\n",
    "# Tempo de processamento\n",
    "time_agora = time.time()"
   ]
  },
  {
   "cell_type": "markdown",
   "id": "bc6a4cd7",
   "metadata": {
    "heading_collapsed": true,
    "hidden": true
   },
   "source": [
    "###### 1.2 Colecting data"
   ]
  },
  {
   "cell_type": "code",
   "execution_count": 2,
   "id": "08f6cd06",
   "metadata": {
    "ExecuteTime": {
     "end_time": "2022-01-02T23:21:09.962990Z",
     "start_time": "2022-01-02T23:21:09.871990Z"
    },
    "hidden": true
   },
   "outputs": [],
   "source": [
    "df = pickle.load(open('D:\\\\My Drive\\\\Pessoal\\\\Projetos\\\\insurance_sales_predict\\\\insurance_sales_predict\\\\exportings\\\\df_to_data_preparation.pkl', 'rb'))"
   ]
  },
  {
   "cell_type": "markdown",
   "id": "f4082a19",
   "metadata": {
    "heading_collapsed": true
   },
   "source": [
    "# 6.0 Data Preparation"
   ]
  },
  {
   "cell_type": "markdown",
   "id": "3b9fefe1",
   "metadata": {
    "heading_collapsed": true,
    "hidden": true
   },
   "source": [
    "### 6.1 Preprocessing"
   ]
  },
  {
   "cell_type": "code",
   "execution_count": 3,
   "id": "34a651c1",
   "metadata": {
    "ExecuteTime": {
     "end_time": "2022-01-02T23:21:09.994185Z",
     "start_time": "2022-01-02T23:21:09.964461Z"
    },
    "hidden": true
   },
   "outputs": [],
   "source": [
    "# backup\n",
    "df_ = df.copy()"
   ]
  },
  {
   "cell_type": "code",
   "execution_count": 4,
   "id": "0f0cace5",
   "metadata": {
    "ExecuteTime": {
     "end_time": "2022-01-02T23:21:10.010013Z",
     "start_time": "2022-01-02T23:21:09.997155Z"
    },
    "hidden": true
   },
   "outputs": [
    {
     "data": {
      "text/plain": [
       "Index(['id', 'Gender', 'Age', 'Driving_License', 'Region_Code',\n",
       "       'Previously_Insured', 'Vehicle_Age', 'Vehicle_Damage', 'Annual_Premium',\n",
       "       'Policy_Sales_Channel', 'Vintage', 'Response', 'Gender_',\n",
       "       'Vehicle_Damage_', 'Vehicle_Age_', 'Policy_Sales_Channel_Response_Mean',\n",
       "       'Region_Code_Response_Mean', 'High_Response_Age', 'Log_Annual_Premium'],\n",
       "      dtype='object')"
      ]
     },
     "execution_count": 4,
     "metadata": {},
     "output_type": "execute_result"
    }
   ],
   "source": [
    "df.columns"
   ]
  },
  {
   "cell_type": "code",
   "execution_count": 5,
   "id": "4836a969",
   "metadata": {
    "ExecuteTime": {
     "end_time": "2022-01-02T23:22:16.188654Z",
     "start_time": "2022-01-02T23:21:10.012004Z"
    },
    "hidden": true
   },
   "outputs": [
    {
     "name": "stdout",
     "output_type": "stream",
     "text": [
      "['Age', 'Driving_License', 'Previously_Insured', 'Gender_', 'Vehicle_Damage_', 'Policy_Sales_Channel_Response_Mean', 'Region_Code_Response_Mean', 'High_Response_Age', 'Log_Annual_Premium', 'Vehicle_Age_1', 'Vehicle_Age_2']\n"
     ]
    }
   ],
   "source": [
    "# backup\n",
    "df = df_.copy()\n",
    "\n",
    "# Feature dummies\n",
    "temp = pd.get_dummies(df['Vehicle_Age_'], prefix='Vehicle_Age')\n",
    "temp.drop('Vehicle_Age_0', axis=1, inplace=True)\n",
    "df = pd.concat([df, temp], axis=1)\n",
    "\n",
    "# Removendo features que não seguirão para modelagem\n",
    "features_remover = ['id', 'Gender', 'Vehicle_Age', 'Vehicle_Age_', 'Vehicle_Damage', 'Policy_Sales_Channel', \n",
    "                    'Region_Code', 'Vintage', 'Annual_Premium']\n",
    "df.drop(features_remover, axis=1, inplace=True)\n",
    "model_columns = df.drop('Response', axis=1).columns.to_list()\n",
    "print(model_columns)\n",
    "\n",
    "# target\n",
    "target = ['Response']\n",
    "\n",
    "# Split X and y\n",
    "train = df.loc[df['Response'].notnull()]\n",
    "test = df.loc[df['Response'].isnull()]\n",
    "X = train.drop(target, axis=1)\n",
    "X = np.array(X)\n",
    "y = train[target]\n",
    "y = np.array(y).reshape(1, len(y))[0]\n",
    "\n",
    "# Split train end test\n",
    "X_, X_test, y_, y_test = train_test_split(X, y, test_size=0.2, random_state=101)\n",
    "\n",
    "# Split train_ end valid\n",
    "X_train, X_valid, y_train, y_valid = train_test_split(X_, y_, test_size=0.3, random_state=101)\n",
    "\n",
    "# Standard Scaler fit\n",
    "X_scaler = StandardScaler().fit(X_train)\n",
    "\n",
    "# Scaler transform\n",
    "X = X_scaler.transform(X)\n",
    "X_ = X_scaler.transform(X_)\n",
    "X_train = X_scaler.transform(X_train)\n",
    "X_test = X_scaler.transform(X_test)\n",
    "X_valid = X_scaler.transform(X_valid)\n",
    "\n",
    "# Resolvendo desbalanceamento\n",
    "# Nearmiss\n",
    "near = NearMiss()\n",
    "X_near, y_near = near.fit_resample(X_, y_)\n",
    "X_train_near, y_train_near = near.fit_resample(X_train, y_train)\n",
    "\n",
    "# Smote\n",
    "smote = SMOTE()\n",
    "X_smote, y_smote = smote.fit_resample(X_, y_)\n",
    "X_train_smote, y_train_smote = smote.fit_resample(X_train, y_train)"
   ]
  },
  {
   "cell_type": "markdown",
   "id": "cf542f56",
   "metadata": {
    "heading_collapsed": true,
    "hidden": true,
    "id": "O5JNrPUBwgK_"
   },
   "source": [
    "### 6.2 Feature Selection"
   ]
  },
  {
   "cell_type": "markdown",
   "id": "79d64a9d",
   "metadata": {
    "heading_collapsed": true,
    "hidden": true,
    "id": "DKnbnN2le32Z"
   },
   "source": [
    "##### 6.2.1 Principais Insights:\n",
    "1. As features com maior relevância identificadas através de Exploração de Dados foram: Vehicle_Damage, Previously_Insured, Vehicle_Age, Policy_Sales_Channels_Response_Mean, Age\n",
    "2. 6 Dimensões compõem 95% de toda a variabilidade das features.\n",
    "3. A feature Driving_License não agrega ao modelo"
   ]
  },
  {
   "cell_type": "markdown",
   "id": "64b52a48",
   "metadata": {
    "heading_collapsed": true,
    "hidden": true,
    "id": "o5pxLA5xHkv4"
   },
   "source": [
    "##### 6.2.2 Por Correlação"
   ]
  },
  {
   "cell_type": "code",
   "execution_count": 6,
   "id": "a40abe8b",
   "metadata": {
    "ExecuteTime": {
     "end_time": "2022-01-02T23:22:16.405942Z",
     "start_time": "2022-01-02T23:22:16.190671Z"
    },
    "hidden": true
   },
   "outputs": [],
   "source": [
    "correlations = abs(train.corr()['Response'].drop('Response', axis=0))\n",
    "correlations\n",
    "ranking = pd.DataFrame()\n",
    "ranking['correlations'] = correlations"
   ]
  },
  {
   "cell_type": "markdown",
   "id": "ee478695",
   "metadata": {
    "heading_collapsed": true,
    "hidden": true,
    "id": "nvyORAF7rYmr"
   },
   "source": [
    "##### 6.2.3 RFE (Ranking por eliminação recursiva)"
   ]
  },
  {
   "cell_type": "code",
   "execution_count": 7,
   "id": "04e77482",
   "metadata": {
    "ExecuteTime": {
     "end_time": "2022-01-02T23:22:26.288197Z",
     "start_time": "2022-01-02T23:22:16.408846Z"
    },
    "hidden": true
   },
   "outputs": [
    {
     "name": "stdout",
     "output_type": "stream",
     "text": [
      "[1 7 6 5 3 1 1 4 2 1 1]\n"
     ]
    },
    {
     "data": {
      "text/plain": [
       "['Age',\n",
       " 'Policy_Sales_Channel_Response_Mean',\n",
       " 'Region_Code_Response_Mean',\n",
       " 'Vehicle_Age_1',\n",
       " 'Vehicle_Age_2',\n",
       " 'Log_Annual_Premium',\n",
       " 'Vehicle_Damage_',\n",
       " 'High_Response_Age',\n",
       " 'Gender_',\n",
       " 'Previously_Insured',\n",
       " 'Driving_License']"
      ]
     },
     "execution_count": 7,
     "metadata": {},
     "output_type": "execute_result"
    }
   ],
   "source": [
    "# model description\n",
    "xgbrf_model = XGBRFClassifier(use_label_encoder=False, eval_metric='error')\n",
    "\n",
    "# rfe description\n",
    "rfe_model = RFE(xgbrf_model)\n",
    "\n",
    "# fiting model\n",
    "rfe_fit = rfe_model.fit(X_train_near, y_train_near)\n",
    "\n",
    "# ranking\n",
    "ranking['rfe_xgb'] = rfe_fit.ranking_\n",
    "print(rfe_fit.ranking_)\n",
    "ranking.sort_values('rfe_xgb').index.to_list()"
   ]
  },
  {
   "cell_type": "markdown",
   "id": "a806221e",
   "metadata": {
    "hidden": true,
    "id": "5_-sLiG6pn2U"
   },
   "source": [
    "Alta preferência por features numéricas, não confere com a exploração de dados, possivelmente overfitado."
   ]
  },
  {
   "cell_type": "markdown",
   "id": "92d24e3b",
   "metadata": {
    "heading_collapsed": true,
    "hidden": true,
    "id": "daY1rZTknYRs"
   },
   "source": [
    "##### 6.2.4 Importances"
   ]
  },
  {
   "cell_type": "markdown",
   "id": "13b1dcbb",
   "metadata": {
    "heading_collapsed": true,
    "hidden": true,
    "id": "LQkDdBsliGe5"
   },
   "source": [
    "###### 6.2.4.1 Random Forest"
   ]
  },
  {
   "cell_type": "code",
   "execution_count": 8,
   "id": "337e9afd",
   "metadata": {
    "ExecuteTime": {
     "end_time": "2022-01-02T23:22:57.888821Z",
     "start_time": "2022-01-02T23:22:26.289340Z"
    },
    "colab": {
     "base_uri": "https://localhost:8080/"
    },
    "hidden": true,
    "id": "CSMecOxSyu3T",
    "outputId": "6d74362a-3ecd-4018-f86a-ddf34b3a0ff3",
    "scrolled": true
   },
   "outputs": [
    {
     "name": "stdout",
     "output_type": "stream",
     "text": [
      "              precision    recall  f1-score   support\n",
      "\n",
      "         0.0       0.98      0.67      0.80     80152\n",
      "         1.0       0.28      0.93      0.43     11315\n",
      "\n",
      "    accuracy                           0.70     91467\n",
      "   macro avg       0.63      0.80      0.62     91467\n",
      "weighted avg       0.90      0.70      0.75     91467\n",
      "\n"
     ]
    }
   ],
   "source": [
    "# model definition\n",
    "rf_model = RandomForestClassifier(n_estimators=100, min_samples_leaf=1000, random_state=101)\n",
    "\n",
    "# fiting model\n",
    "rf_fit = rf_model.fit(X_train_smote, y_train_smote)\n",
    "\n",
    "# preditions\n",
    "rf_predict = rf_fit.predict(X_valid)\n",
    "ranking['importance_rf'] = rf_model.feature_importances_\n",
    "\n",
    "# metrics\n",
    "print(classification_report(y_valid, rf_predict))"
   ]
  },
  {
   "cell_type": "markdown",
   "id": "d20e93ce",
   "metadata": {
    "heading_collapsed": true,
    "hidden": true,
    "id": "ijExdiKLiY_J"
   },
   "source": [
    "###### 6.2.4.2 XGRFBoost"
   ]
  },
  {
   "cell_type": "code",
   "execution_count": 9,
   "id": "27abc7de",
   "metadata": {
    "ExecuteTime": {
     "end_time": "2022-01-02T23:23:10.546590Z",
     "start_time": "2022-01-02T23:22:57.891887Z"
    },
    "colab": {
     "base_uri": "https://localhost:8080/"
    },
    "hidden": true,
    "id": "a1QPpwuwiY_K",
    "outputId": "d2b2758e-6d42-4459-c8a5-8415789a287a"
   },
   "outputs": [
    {
     "name": "stdout",
     "output_type": "stream",
     "text": [
      "              precision    recall  f1-score   support\n",
      "\n",
      "         0.0       0.99      0.66      0.79     80152\n",
      "         1.0       0.28      0.93      0.43     11315\n",
      "\n",
      "    accuracy                           0.70     91467\n",
      "   macro avg       0.63      0.80      0.61     91467\n",
      "weighted avg       0.90      0.70      0.75     91467\n",
      "\n"
     ]
    }
   ],
   "source": [
    "# fiting model\n",
    "xgbrf_fit = xgbrf_model.fit(X_train_smote, y_train_smote)\n",
    "\n",
    "# predictions\n",
    "xgbrf_predict = xgbrf_fit.predict(X_valid)\n",
    "ranking['importance_xgb'] = xgbrf_model.feature_importances_\n",
    "\n",
    "# metrics\n",
    "print(classification_report(y_valid, xgbrf_predict))"
   ]
  },
  {
   "cell_type": "markdown",
   "id": "300928c2",
   "metadata": {
    "heading_collapsed": true,
    "hidden": true,
    "id": "THYJcRTgUY7Q"
   },
   "source": [
    "##### 6.2.5 Boruta"
   ]
  },
  {
   "cell_type": "code",
   "execution_count": null,
   "id": "12852082",
   "metadata": {
    "ExecuteTime": {
     "start_time": "2022-01-02T23:21:07.868Z"
    },
    "colab": {
     "base_uri": "https://localhost:8080/",
     "height": 0
    },
    "hidden": true,
    "id": "n00-dMQ6UfXP",
    "outputId": "37685cd9-f643-41e8-bf4b-d4415246c502"
   },
   "outputs": [],
   "source": [
    "# model descrition\n",
    "boruta_model = BorutaPy(xgbrf_model, random_state=101)\n",
    "\n",
    "# fiting model\n",
    "boruta_fit = boruta_model.fit(X_train_near, y_train_near)\n",
    "\n",
    "# ranking features\n",
    "ranking['boruta'] = boruta_fit.ranking_\n",
    "print(boruta_fit.ranking_)\n",
    "ranking.sort_values('boruta', ascending=False).index.to_list()"
   ]
  },
  {
   "cell_type": "code",
   "execution_count": null,
   "id": "c269c13d",
   "metadata": {
    "ExecuteTime": {
     "start_time": "2022-01-02T23:21:07.870Z"
    },
    "hidden": true,
    "id": "ZjmwnkrIcBKV"
   },
   "outputs": [],
   "source": [
    "# ranking_boruta = [1, 2, 1, 1, 1, 1, 1, 1, 1, 1, 1, 1, 1]\n",
    "# ranking['boruta'] = ranking_boruta"
   ]
  },
  {
   "cell_type": "markdown",
   "id": "a4d7b9cc",
   "metadata": {
    "heading_collapsed": true,
    "hidden": true
   },
   "source": [
    "##### 6.2.6 Comparison"
   ]
  },
  {
   "cell_type": "code",
   "execution_count": null,
   "id": "7cb1e30a",
   "metadata": {
    "ExecuteTime": {
     "start_time": "2022-01-02T23:21:07.873Z"
    },
    "hidden": true
   },
   "outputs": [],
   "source": [
    "ranking"
   ]
  },
  {
   "cell_type": "markdown",
   "id": "9760ffb5",
   "metadata": {
    "hidden": true
   },
   "source": [
    "1. As colunas \"correlations\", \"importance_rf\" e \"importance_xgb\" são quantitativas e estão na mesma escala\n",
    "2. A coluna \"rfe_xgb\" é tipo tipo ranking, quanto menor o número melhor a colocação\n",
    "3. A coluna \"boruta\" é binária, 1 significa uma feature relevante e 2 uma feature a ser dispensada"
   ]
  },
  {
   "cell_type": "code",
   "execution_count": null,
   "id": "dedea84e",
   "metadata": {
    "ExecuteTime": {
     "start_time": "2022-01-02T23:21:07.874Z"
    },
    "hidden": true
   },
   "outputs": [],
   "source": [
    "ranking_1 = ranking[['correlations', 'importance_rf', 'importance_xgb']]\n",
    "\n",
    "ranking_1.sort_values('importance_xgb', ascending=False, inplace=True)\n",
    "\n",
    "ranking_1.plot(kind='bar', stacked=True)\n",
    "plt.title('Importancias das features');"
   ]
  },
  {
   "cell_type": "markdown",
   "id": "c79bbb59",
   "metadata": {
    "heading_collapsed": true,
    "hidden": true
   },
   "source": [
    "##### 6.2.7 Removing expendable features"
   ]
  },
  {
   "cell_type": "code",
   "execution_count": null,
   "id": "1fd4bbea",
   "metadata": {
    "ExecuteTime": {
     "start_time": "2022-01-02T23:21:07.876Z"
    },
    "hidden": true
   },
   "outputs": [],
   "source": [
    "X = np.delete(X, 1, 1)\n",
    "X_smote = np.delete(X_smote, 1, 1)\n",
    "X_near = np.delete(X_near, 1, 1)\n",
    "X_train_smote = np.delete(X_train_smote, 1, 1)\n",
    "X_train_near = np.delete(X_train_near, 1, 1)\n",
    "X_valid = np.delete(X_valid, 1, 1)\n",
    "X_test = np.delete(X_test, 1, 1)\n",
    "\n",
    "model_columns.pop(1)"
   ]
  },
  {
   "cell_type": "markdown",
   "id": "3cf3d2b7",
   "metadata": {
    "heading_collapsed": true
   },
   "source": [
    "# 7.0 Exporting data"
   ]
  },
  {
   "cell_type": "markdown",
   "id": "cff8993e",
   "metadata": {
    "heading_collapsed": true,
    "hidden": true
   },
   "source": [
    "###### 7.1 Scaler"
   ]
  },
  {
   "cell_type": "code",
   "execution_count": null,
   "id": "b397aecb",
   "metadata": {
    "ExecuteTime": {
     "start_time": "2022-01-02T23:21:07.878Z"
    },
    "hidden": true
   },
   "outputs": [],
   "source": [
    "pickle.dump(X_scaler, open('D:\\\\My Drive\\\\Pessoal\\\\Projetos\\\\insurance_sales_predict\\\\webapp\\\\scaler_standard_scaler.pkl', 'wb'))"
   ]
  },
  {
   "cell_type": "markdown",
   "id": "1ed00b15",
   "metadata": {
    "heading_collapsed": true,
    "hidden": true
   },
   "source": [
    "###### 7.2 Arrays"
   ]
  },
  {
   "cell_type": "code",
   "execution_count": null,
   "id": "cce5903a",
   "metadata": {
    "ExecuteTime": {
     "start_time": "2022-01-02T23:21:07.881Z"
    },
    "hidden": true
   },
   "outputs": [],
   "source": [
    "X_to_modeling = [X_valid, X_test, X]\n",
    "X_imb_to_modeling = [X_smote, X_near, X_train_smote, X_train_near]\n",
    "y_to_modeling = [y_smote, y_near, y_train_smote, y_train_near, y_valid, y_test, y]\n",
    "pickle.dump(X_to_modeling, open('D:\\\\My Drive\\\\Pessoal\\\\Projetos\\\\insurance_sales_predict\\\\insurance_sales_predict\\\\exportings\\\\X_to_modeling.pkl', 'wb'))\n",
    "pickle.dump(X_imb_to_modeling, open('D:\\\\My Drive\\\\Pessoal\\\\Projetos\\\\insurance_sales_predict\\\\insurance_sales_predict\\\\exportings\\\\X_imb_to_modeling.pkl', 'wb'))\n",
    "pickle.dump(y_to_modeling, open('D:\\\\My Drive\\\\Pessoal\\\\Projetos\\\\insurance_sales_predict\\\\insurance_sales_predict\\\\exportings\\\\y_to_modeling.pkl', 'wb'))"
   ]
  },
  {
   "cell_type": "markdown",
   "id": "07f54c83",
   "metadata": {
    "heading_collapsed": true,
    "hidden": true
   },
   "source": [
    "###### 7.4 Columns"
   ]
  },
  {
   "cell_type": "code",
   "execution_count": null,
   "id": "0309554e",
   "metadata": {
    "ExecuteTime": {
     "start_time": "2022-01-02T23:21:07.882Z"
    },
    "hidden": true
   },
   "outputs": [],
   "source": [
    "pickle.dump(model_columns, open('D:\\\\My Drive\\\\Pessoal\\\\Projetos\\\\insurance_sales_predict\\\\insurance_sales_predict\\\\exportings\\\\model_columns.pkl', 'wb'))"
   ]
  },
  {
   "cell_type": "markdown",
   "id": "a25f4a8b",
   "metadata": {
    "heading_collapsed": true,
    "hidden": true
   },
   "source": [
    "###### 7.5 Ranking of features"
   ]
  },
  {
   "cell_type": "code",
   "execution_count": null,
   "id": "6b36fc09",
   "metadata": {
    "ExecuteTime": {
     "start_time": "2022-01-02T23:21:07.884Z"
    },
    "hidden": true
   },
   "outputs": [],
   "source": [
    "pickle.dump(ranking, open('D:\\\\My Drive\\\\Pessoal\\\\Projetos\\\\insurance_sales_predict\\\\insurance_sales_predict\\\\exportings\\\\ranking_feature_selection.pkl', 'wb'))"
   ]
  },
  {
   "cell_type": "markdown",
   "id": "165401df",
   "metadata": {
    "heading_collapsed": true,
    "hidden": true
   },
   "source": [
    "###### 7.5 Expendable features"
   ]
  },
  {
   "cell_type": "code",
   "execution_count": null,
   "id": "9eaa7e7d",
   "metadata": {
    "ExecuteTime": {
     "start_time": "2022-01-02T23:21:07.885Z"
    },
    "hidden": true
   },
   "outputs": [],
   "source": [
    "pickle.dump(features_remover, open('D:\\\\My Drive\\\\Pessoal\\\\Projetos\\\\insurance_sales_predict\\\\webapp\\\\_features_remover.pkl', 'wb'))"
   ]
  },
  {
   "cell_type": "markdown",
   "id": "f8e018f8",
   "metadata": {},
   "source": [
    "# Time"
   ]
  },
  {
   "cell_type": "code",
   "execution_count": null,
   "id": "d0c113a0",
   "metadata": {
    "ExecuteTime": {
     "start_time": "2022-01-02T23:21:07.887Z"
    }
   },
   "outputs": [],
   "source": [
    "print(f'O tempo de processamento do projeto foi de: {int(round(time.time()-time_agora, 2)/60)} minutos')"
   ]
  }
 ],
 "metadata": {
  "kernelspec": {
   "display_name": "Python 3 (ipykernel)",
   "language": "python",
   "name": "python3"
  },
  "language_info": {
   "codemirror_mode": {
    "name": "ipython",
    "version": 3
   },
   "file_extension": ".py",
   "mimetype": "text/x-python",
   "name": "python",
   "nbconvert_exporter": "python",
   "pygments_lexer": "ipython3",
   "version": "3.9.7"
  }
 },
 "nbformat": 4,
 "nbformat_minor": 5
}
