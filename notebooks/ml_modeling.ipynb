{
 "cells": [
  {
   "cell_type": "markdown",
   "id": "ee30b102",
   "metadata": {
    "heading_collapsed": true
   },
   "source": [
    "# 0.0 Report\n",
    "1. ...\n",
    "\n",
    "**Inputs:** prepared data to modeling\n",
    "\n",
    "**Outputs:** models and metrics"
   ]
  },
  {
   "cell_type": "markdown",
   "id": "8d17ac8d",
   "metadata": {
    "heading_collapsed": true
   },
   "source": [
    "# 1.0 Imports"
   ]
  },
  {
   "cell_type": "markdown",
   "id": "5e787140",
   "metadata": {
    "heading_collapsed": true,
    "hidden": true
   },
   "source": [
    "###### 1.1 Libraries"
   ]
  },
  {
   "cell_type": "code",
   "execution_count": 1,
   "id": "dd4c73b9",
   "metadata": {
    "hidden": true
   },
   "outputs": [],
   "source": [
    "import pandas as pd\n",
    "import numpy as np\n",
    "\n",
    "from sklearn.linear_model import LogisticRegression\n",
    "from sklearn.metrics import classification_report, roc_auc_score, accuracy_score\n",
    "from sklearn.ensemble import RandomForestClassifier\n",
    "from sklearn.svm import SVC\n",
    "from sklearn.neighbors import KNeighborsClassifier\n",
    "from sklearn.tree import DecisionTreeClassifier\n",
    "\n",
    "import pickle\n",
    "\n",
    "from xgboost import XGBRFClassifier\n",
    "\n",
    "import time\n",
    "import warnings\n",
    "\n",
    "# Tempo de processamento\n",
    "time_agora = time.time()"
   ]
  },
  {
   "cell_type": "markdown",
   "id": "4090aef8",
   "metadata": {
    "heading_collapsed": true,
    "hidden": true
   },
   "source": [
    "###### 1.2 Colecting data"
   ]
  },
  {
   "cell_type": "code",
   "execution_count": 2,
   "id": "ff3dd897",
   "metadata": {
    "hidden": true
   },
   "outputs": [],
   "source": [
    "data = pickle.load(open('C:\\\\Users\\\\Samoel\\\\My Drive\\\\Pessoal\\\\Projetos\\\\insurance_sales_predict\\\\projeto\\\\delivery\\\\data_to_modeling.pkl', 'rb'))"
   ]
  },
  {
   "cell_type": "code",
   "execution_count": 3,
   "id": "735a120c",
   "metadata": {
    "hidden": true
   },
   "outputs": [],
   "source": [
    "X_smote = data[0]\n",
    "X_train_smote = data[1]\n",
    "X_valid = data[2]\n",
    "X_test = data[3]\n",
    "y_smote = data[4]\n",
    "y_train_smote = data[5]\n",
    "y_valid = data[6]\n",
    "y_test = data[7]"
   ]
  },
  {
   "cell_type": "markdown",
   "id": "40650f13",
   "metadata": {
    "heading_collapsed": true,
    "id": "wrfYR3Ps5tXH"
   },
   "source": [
    "# 7.0 ML Modeling"
   ]
  },
  {
   "cell_type": "markdown",
   "id": "b86e32cc",
   "metadata": {
    "heading_collapsed": true,
    "hidden": true,
    "id": "riZ97EQlFUkX"
   },
   "source": [
    "##### 7.1 Principais Insights:\n",
    "1. A métrica para escolha do modelo final e predições será ROC_AUC, para responder às perguntas de negócio serão utilizadas as métricas PRECISION e RECALL do evento ocorrer, portanto as três serão abordadas\n",
    "\n",
    "###### 7.2 Chosen model:\n",
    "\n",
    "###### 7.3 Log\n",
    "1. Modelo Decision Tree: PRECISION de 0.29, RECALL de 0.86 e ROC_AUC 0.79\n",
    "2. Modelo Logistic Regression: PRECISION de 0.27, RECALL de 0.93 e ROC_AUC 0.79\n",
    "3. Modelo Random Forest: PRECISION de 0.28, RECALL de 0.92 e ROC_AUC 0.80\n",
    "4. Modelo XGBoostt: PRECISION de 0.28, RECALL de 0.93 e ROC_AUC 0.80\n",
    "5. Modelo SVM: PRECISION de 0.xx, RECALL de 0.xx e ROC_AUC 0.xx\n",
    "6. Modelo KNN: PRECISION de 0.29, RECALL de 0.63 e ROC_AUC 0.71"
   ]
  },
  {
   "cell_type": "markdown",
   "id": "fc740cce",
   "metadata": {
    "heading_collapsed": true,
    "hidden": true
   },
   "source": [
    "##### 7.4 Logistic Regression"
   ]
  },
  {
   "cell_type": "code",
   "execution_count": 4,
   "id": "af294c94",
   "metadata": {
    "ExecuteTime": {
     "end_time": "2021-07-22T14:44:55.972723Z",
     "start_time": "2021-07-22T14:44:55.949725Z"
    },
    "hidden": true
   },
   "outputs": [],
   "source": [
    "# # model description\n",
    "# lr_model = LogisticRegression(random_state=101)\n",
    "\n",
    "# # fiting model\n",
    "# lr_fit = lr_model.fit(X_smote, y_smote)\n",
    "# lr_predict = lr_fit.predict(X_valid)\n",
    "\n",
    "# print('Treino\\n')\n",
    "# print(classification_report(y_valid, lr_predict))\n",
    "# lr_roc_auc_train = roc_auc_score(y_valid, lr_predict)\n",
    "# print(f'roc_auc_score: {round(lr_roc_auc_train, 2)}')\n",
    "# lr_predict = lr_fit.predict(X_test)\n",
    "# print()\n",
    "# print('Teste\\n')\n",
    "# print(classification_report(y_test, lr_predict))\n",
    "# lr_roc_auc_test = roc_auc_score(y_test, lr_predict)\n",
    "# print(f'roc_auc_score: {round(lr_roc_auc_test, 2)}')\n",
    "# lr_overfiting = lr_roc_auc_train/lr_roc_auc_test - 1\n",
    "# print(f'O modelo está overfitando em {round(lr_overfiting, 2)}%')\n",
    "\n",
    "# # pickle this model\n",
    "# pickle.dump(lr_fit, open('C:\\\\Users\\\\Samoel\\\\My Drive\\\\Pessoal\\\\Projetos\\\\insurance_sales_predict\\\\deploy\\\\model\\\\lr_model_insurance_predict.pkl', 'wb'))"
   ]
  },
  {
   "cell_type": "markdown",
   "id": "6ad005c2",
   "metadata": {
    "heading_collapsed": true,
    "hidden": true
   },
   "source": [
    "##### 7.5 Decision Tree"
   ]
  },
  {
   "cell_type": "code",
   "execution_count": 5,
   "id": "cce422ab",
   "metadata": {
    "hidden": true
   },
   "outputs": [
    {
     "name": "stdout",
     "output_type": "stream",
     "text": [
      "Treino\n",
      "\n",
      "              precision    recall  f1-score   support\n",
      "\n",
      "         0.0       0.97      0.71      0.82     80152\n",
      "         1.0       0.30      0.87      0.44     11315\n",
      "\n",
      "    accuracy                           0.73     91467\n",
      "   macro avg       0.64      0.79      0.63     91467\n",
      "weighted avg       0.89      0.73      0.78     91467\n",
      "\n",
      "roc_auc_score: 0.79\n",
      "\n",
      "Teste\n",
      "\n",
      "              precision    recall  f1-score   support\n",
      "\n",
      "         0.0       0.97      0.71      0.82     66971\n",
      "         1.0       0.29      0.86      0.44      9251\n",
      "\n",
      "    accuracy                           0.73     76222\n",
      "   macro avg       0.63      0.79      0.63     76222\n",
      "weighted avg       0.89      0.73      0.78     76222\n",
      "\n",
      "roc_auc_score: 0.79\n",
      "O modelo está overfitando em 0.0%\n"
     ]
    }
   ],
   "source": [
    "# # model definition\n",
    "# tree_model = DecisionTreeClassifier(min_samples_leaf=1000, random_state=101)\n",
    "\n",
    "# # fiting model\n",
    "# tree_fit = tree_model.fit(X_smote, y_smote)\n",
    "# tree_predict = tree_fit.predict(X_valid)\n",
    "\n",
    "# print('Treino\\n')\n",
    "# print(classification_report(y_valid, tree_predict))\n",
    "# tree_roc_auc_train = roc_auc_score(y_valid, tree_predict)\n",
    "# print(f'roc_auc_score: {round(tree_roc_auc_train, 2)}')\n",
    "# tree_predict = tree_fit.predict(X_test)\n",
    "# print()\n",
    "# print('Teste\\n')\n",
    "# print(classification_report(y_test, tree_predict))\n",
    "# tree_roc_auc_test = roc_auc_score(y_test, tree_predict)\n",
    "# print(f'roc_auc_score: {round(tree_roc_auc_test, 2)}')\n",
    "# tree_overfiting = tree_roc_auc_train/tree_roc_auc_test - 1\n",
    "# print(f'O modelo está overfitando em {round(tree_overfiting, 2)}%')\n",
    "\n",
    "# # pickle this model\n",
    "# pickle.dump(tree_fit, open('C:\\\\Users\\\\Samoel\\\\My Drive\\\\Pessoal\\\\Projetos\\\\insurance_sales_predict\\\\deploy\\\\model\\\\tree_model_insurance_predict.pkl', 'wb'))"
   ]
  },
  {
   "cell_type": "markdown",
   "id": "97146414",
   "metadata": {
    "heading_collapsed": true,
    "hidden": true
   },
   "source": [
    "##### 7.6 Random Forest"
   ]
  },
  {
   "cell_type": "code",
   "execution_count": 6,
   "id": "426632e2",
   "metadata": {
    "ExecuteTime": {
     "end_time": "2021-07-22T14:44:55.940726Z",
     "start_time": "2021-07-22T14:44:55.923726Z"
    },
    "colab": {
     "base_uri": "https://localhost:8080/"
    },
    "hidden": true,
    "id": "SwR93uT_yDDW",
    "outputId": "62c40a77-b2e0-41b7-864f-1248831a1f3c",
    "scrolled": false
   },
   "outputs": [],
   "source": [
    "# # model definition\n",
    "# rf_model = RandomForestClassifier(n_estimators=100, min_samples_leaf=1000, random_state=101)\n",
    "\n",
    "# # fiting model\n",
    "# rf_fit = rf_model.fit(X_smote, y_smote)\n",
    "# rf_predict = rf_fit.predict(X_valid)\n",
    "\n",
    "# print('Treino\\n')\n",
    "# print(classification_report(y_valid, rf_predict))\n",
    "# rf_roc_auc_train = roc_auc_score(y_valid, rf_predict)\n",
    "# print(f'roc_auc_score: {round(rf_roc_auc_train, 2)}')\n",
    "# rf_predict = rf_fit.predict(X_test)\n",
    "# print()\n",
    "# print('Teste\\n')\n",
    "# print(classification_report(y_test, rf_predict))\n",
    "# rf_roc_auc_test = roc_auc_score(y_test, rf_predict)\n",
    "# print(f'roc_auc_score: {round(rf_roc_auc_test, 2)}')\n",
    "# rf_overfiting = rf_roc_auc_train/rf_roc_auc_test - 1\n",
    "# print(f'O modelo está overfitando em {round(rf_overfiting, 2)}%')\n",
    "\n",
    "# # pickle this model\n",
    "# pickle.dump(rf_fit, open('C:\\\\Users\\\\Samoel\\\\My Drive\\\\Pessoal\\\\Projetos\\\\insurance_sales_predict\\\\deploy\\\\model\\\\rf_model_insurance_predict.pkl', 'wb'))"
   ]
  },
  {
   "cell_type": "markdown",
   "id": "72a0cfcb",
   "metadata": {
    "heading_collapsed": true,
    "hidden": true
   },
   "source": [
    "##### 7.7 XGBoostRF"
   ]
  },
  {
   "cell_type": "code",
   "execution_count": 7,
   "id": "0d58ae5a",
   "metadata": {
    "ExecuteTime": {
     "end_time": "2021-07-22T14:44:55.913731Z",
     "start_time": "2021-07-22T14:44:55.902732Z"
    },
    "colab": {
     "base_uri": "https://localhost:8080/"
    },
    "hidden": true,
    "id": "SwR93uT_yDDW",
    "outputId": "62c40a77-b2e0-41b7-864f-1248831a1f3c",
    "scrolled": false
   },
   "outputs": [],
   "source": [
    "# # model description\n",
    "# xgbrf_model = XGBRFClassifier(use_label_encoder=False, eval_metric='error', random_state=101)\n",
    "\n",
    "# # fiting model\n",
    "# xgbrf_fit = xgbrf_model.fit(X_smote, y_smote)\n",
    "# xgbrf_predict = xgbrf_fit.predict(X_valid)\n",
    "\n",
    "# print('Treino\\n')\n",
    "# print(classification_report(y_valid, xgbrf_predict))\n",
    "# xgbrf_roc_auc_train = roc_auc_score(y_valid, xgbrf_predict)\n",
    "# print(f'roc_auc_score: {round(xgbrf_roc_auc_train, 2)}')\n",
    "# xgbrf_predict = xgbrf_fit.predict(X_test)\n",
    "# print()\n",
    "# print('Teste\\n')\n",
    "# print(classification_report(y_test, xgbrf_predict))\n",
    "# xgbrf_roc_auc_test = roc_auc_score(y_test, xgbrf_predict)\n",
    "# print(f'roc_auc_score: {round(xgbrf_roc_auc_test, 2)}')\n",
    "# xgbrf_overfiting = xgbrf_roc_auc_train/xgbrf_roc_auc_test - 1\n",
    "# print(f'O modelo está overfitando em {round(xgbrf_overfiting, 2)}%')\n",
    "\n",
    "# # pickle this model\n",
    "# # Save trained model\n",
    "# pickle.dump(xgbrf_fit, open('C:\\\\Users\\\\Samoel\\\\My Drive\\\\Pessoal\\\\Projetos\\\\insurance_sales_predict\\\\deploy\\\\model\\\\xgbrf_model_insurance_predict.pkl', 'wb'))"
   ]
  },
  {
   "cell_type": "markdown",
   "id": "0e0c763c",
   "metadata": {
    "heading_collapsed": true,
    "hidden": true
   },
   "source": [
    "##### 7.8 Suport Vector Machine"
   ]
  },
  {
   "cell_type": "code",
   "execution_count": 8,
   "id": "4e00488f",
   "metadata": {
    "ExecuteTime": {
     "start_time": "2021-07-22T14:30:13.752Z"
    },
    "hidden": true
   },
   "outputs": [],
   "source": [
    "# # model description\n",
    "# svm_model = SVC(random_state=101)\n",
    "\n",
    "# # fiting model\n",
    "# svm_fit = svm_model.fit(X_smote, y_smote)\n",
    "# svm_predict = svm_fit.predict(X_valid)\n",
    "\n",
    "# print('Treino\\n')\n",
    "# print(classification_report(y_valid, svm_predict))\n",
    "# svm_roc_auc_train = roc_auc_score(y_valid, svm_predict)\n",
    "# print(f'roc_auc_score: {round(svm_roc_auc_train, 2)}')\n",
    "# svm_predict = svm_fit.predict(X_test)\n",
    "# print()\n",
    "# print('Teste\\n')\n",
    "# print(classification_report(y_test, svm_predict))\n",
    "# svm_roc_auc_test = roc_auc_score(y_test, svm_predict)\n",
    "# print(f'roc_auc_score: {round(svm_roc_auc_test, 2)}')\n",
    "# svm_overfiting = svm_roc_auc_train/svm_roc_auc_test - 1\n",
    "# print(f'O modelo está overfitando em {round(svm_overfiting, 2)}%')\n",
    "\n",
    "# # pickle this model\n",
    "# pickle.dump(svm_fit, open('C:\\\\Users\\\\Samoel\\\\My Drive\\\\Pessoal\\\\Projetos\\\\insurance_sales_predict\\\\deploy\\\\model\\\\svm_model_insurance_predict.pkl', 'wb'))"
   ]
  },
  {
   "cell_type": "markdown",
   "id": "3de85206",
   "metadata": {
    "heading_collapsed": true,
    "hidden": true
   },
   "source": [
    "##### 7.9 KNN"
   ]
  },
  {
   "cell_type": "code",
   "execution_count": 9,
   "id": "4fd588e0",
   "metadata": {
    "ExecuteTime": {
     "start_time": "2021-07-22T14:30:13.773Z"
    },
    "hidden": true
   },
   "outputs": [],
   "source": [
    "# # model description\n",
    "# neigh_model = KNeighborsClassifier(random_state=101)\n",
    "\n",
    "# # fiting model\n",
    "# neigh_fit = neigh_model.fit(X_smote, y_smote)\n",
    "# neigh_predict = neigh_fit.predict(X_valid)\n",
    "\n",
    "# print('Treino\\n')\n",
    "# print(classification_report(y_valid, neigh_predict))\n",
    "# neigh_roc_auc_train = roc_auc_score(y_valid, neigh_predict)\n",
    "# print(f'roc_auc_score: {round(neigh_roc_auc_train, 2)}')\n",
    "# neigh_predict = neigh_fit.predict(X_test)\n",
    "# print()\n",
    "# print('Teste\\n')\n",
    "# print(classification_report(y_test, neigh_predict))\n",
    "# neigh_roc_auc_test = roc_auc_score(y_test, neigh_predict)\n",
    "# print(f'roc_auc_score: {round(neigh_roc_auc_test, 2)}')\n",
    "# neigh_overfiting = neigh_roc_auc_train/neigh_roc_auc_test - 1\n",
    "# print(f'O modelo está overfitando em {round(neigh_overfiting, 2)}%')\n",
    "\n",
    "# # pickle this model\n",
    "# pickle.dump(neigh_fit, open('C:\\\\Users\\\\Samoel\\\\My Drive\\\\Pessoal\\\\Projetos\\\\insurance_sales_predict\\\\deploy\\\\model\\\\neigh_model_insurance_predict.pkl', 'wb'))"
   ]
  },
  {
   "cell_type": "markdown",
   "id": "f8e018f8",
   "metadata": {},
   "source": [
    "# Time"
   ]
  },
  {
   "cell_type": "code",
   "execution_count": 10,
   "id": "d0c113a0",
   "metadata": {},
   "outputs": [
    {
     "name": "stdout",
     "output_type": "stream",
     "text": [
      "O tempo de processamento do projeto foi de: 0 minutos\n"
     ]
    }
   ],
   "source": [
    "print(f'O tempo de processamento do projeto foi de: {int(round(time.time()-time_agora, 2)/60)} minutos')"
   ]
  }
 ],
 "metadata": {
  "kernelspec": {
   "display_name": "Python 3 (ipykernel)",
   "language": "python",
   "name": "python3"
  },
  "language_info": {
   "codemirror_mode": {
    "name": "ipython",
    "version": 3
   },
   "file_extension": ".py",
   "mimetype": "text/x-python",
   "name": "python",
   "nbconvert_exporter": "python",
   "pygments_lexer": "ipython3",
   "version": "3.8.8"
  }
 },
 "nbformat": 4,
 "nbformat_minor": 5
}
