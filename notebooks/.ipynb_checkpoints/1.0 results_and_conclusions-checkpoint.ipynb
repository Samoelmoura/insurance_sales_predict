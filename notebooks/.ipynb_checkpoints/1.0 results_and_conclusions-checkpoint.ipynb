{
 "cells": [
  {
   "cell_type": "markdown",
   "id": "f5f22930",
   "metadata": {
    "heading_collapsed": true
   },
   "source": [
    "# Reports\n",
    "1. Inputs: analytics and metrics\n",
    "2. Outputs: results and conclusions\n",
    "3. ..."
   ]
  },
  {
   "cell_type": "markdown",
   "id": "b67db67d",
   "metadata": {
    "heading_collapsed": true
   },
   "source": [
    "# 1.0 Business Problem"
   ]
  },
  {
   "cell_type": "markdown",
   "id": "51af2a17",
   "metadata": {
    "heading_collapsed": true,
    "hidden": true
   },
   "source": [
    "## 1.1 Contexto:\n",
    "A Insurance All é uma empresa que fornece seguro de saúde para seus clientes e o time de produtos está analisando a possibilidade de oferecer aos assegurados, um novo produto: Um seguro de automóveis.\n",
    "\n",
    "Assim como o seguro de saúde, os clientes desse novo plano de seguro de automóveis precisam pagar um valor anualmente à Insurance All para obter um valor assegurado pela empresa, destinado aos custos de um eventual acidente ou dano ao veículo.\n",
    "\n",
    "A Insurance All fez uma pesquisa com cerca de 380 mil clientes sobre o interesse em aderir a um novo produto de seguro de automóveis, no ano passado. Todos os clientes demonstraram interesse ou não em adquirir o seguro de automóvel e essas respostas ficaram salvas em um banco de dados junto com outros atributos dos clientes.\n",
    "\n",
    "O time de produtos selecionou 127 mil novos clientes que não responderam a pesquisa para participar de uma campanha, no qual receberão a oferta do novo produto de seguro de automóveis. A oferta será feita pelo time de vendas através de ligações telefônicas.\n",
    "\n",
    "Projeto retirado do Blog Seja Um Data Scientist\n",
    "https://sejaumdatascientist.com/como-usar-data-science-para-fazer-a-empresa-vender-mais/\n",
    "\n",
    "Projeto original disponível na plataforma Kaggle\n",
    "https://www.kaggle.com/anmolkumar/health-insurance-cross-sell-prediction\n",
    "\n",
    "\n",
    "## 1.2 Estratégia da Solução:\n",
    "\n",
    "###### 1.2.1 Objetivos:\n",
    "1. Principais Insights sobre os atributos mais relevantes de clientes interessados em adquirir um seguro de automóvel.\n",
    "2. Qual a porcentagem de clientes interessados em adquirir um seguro de automóvel, o time de vendas conseguirá contatar fazendo 20.000 ligações?\n",
    "3. E se a capacidade do time de vendas aumentar para 40.000 ligações, qual a porcentagem de clientes interessados em adquirir um seguro de automóvel o time de vendas conseguirá contatar?\n",
    "4. Quantas ligações o time de vendas precisa fazer para contatar 80% dos clientes interessados em adquirir um seguro de automóvel?\n",
    "\n",
    "###### 1.2.2 Proposta de Solução:\n",
    "1. Gráficos e estudos de como as features se relacionam com a variávei alvo, individualmente ou combinadas através de Exploratory Data Analysis e Descriptive Statistics.\n",
    "2. Treinar um modelo de Machine Learning, scorar os clientes, priorizar os clientes segundo suas probabilidades de sucesso, utilizar das métricas para criar cenários com os 20.000 melhores.\n",
    "3. Utilizar do modelo anterior e criar cenários com os 40.000 melhores.\n",
    "4. Utilizar do modelo anterior, definir curva de probabilidades para todos os clientes e identificar ponto crítico.\n",
    "5. Fazer deploy e disponibilizar online através do Heroku\n",
    "\n",
    "###### 1.2.3 Inputs:\n",
    "1. Problema de negócio\n",
    "2. Conjunto de dados com características de 380.000 clientes e as suas respostas sobre interesse em adquirir um seguro de automóveis.\n",
    "\n",
    "###### 1.2.4 Outputs:\n",
    "1. Gráficos e parâmetros em uma tabela no notebook (Gráfico / Parâmetros)\n",
    "2. Resposta objetiva em um notebook (Uma porcentagem)\n",
    "3. Resposta objetiva em um notebook (Uma porcentagem)\n",
    "4. Resposta objetiva em um notebook (Um número absoluto)\n",
    "5. Tabela de banco de dados SQL com todas as classificações\n",
    "6. API com request/predict do tipo: | v1 | v2 | v3 | - 1/0\n",
    "\n",
    "###### 1.2.5 Ciclos:\n",
    "1. Pipeline de dados, funcional, de ponta a ponta (desde a coleta de dados até o \n",
    "    treinamento do modelo)\n",
    "2. Entender os dados e limpa-los (buscar inconsistências) Análises de estatística\n",
    "    descritiva de primeira ordem\n",
    "3. Feature Engineering (criar variáveis que modelam o fenômeno)\n",
    "4. Criar as hipóteses de negócio\n",
    "5. Análise exploratória de dados para validar ou refutar hióteses\n",
    "6. Definir métricas e treinar o modelo\n",
    "7. Analisar métricas\n",
    "8. Criar arquivo handle para todas as transformações necessárias\n",
    "9. Criar API\n",
    "10. Resultados e Conclusão\n",
    "\n",
    "## 1.3 Sumário:"
   ]
  },
  {
   "cell_type": "markdown",
   "id": "4b356105",
   "metadata": {
    "heading_collapsed": true
   },
   "source": [
    "# 2.0 Imports"
   ]
  },
  {
   "cell_type": "markdown",
   "id": "b5b45adc",
   "metadata": {
    "heading_collapsed": true,
    "hidden": true
   },
   "source": [
    "###### 2.1 Libraries"
   ]
  },
  {
   "cell_type": "code",
   "execution_count": 1,
   "id": "3302c9ce",
   "metadata": {
    "hidden": true
   },
   "outputs": [],
   "source": [
    "import numpy as np\n",
    "import pandas as pd\n",
    "import pickle\n",
    "\n",
    "from sklearn.metrics import classification_report, roc_auc_score, accuracy_score\n",
    "\n",
    "import time\n",
    "import warnings\n",
    "\n",
    "# Tempo de processamento\n",
    "time_agora = time.time()"
   ]
  },
  {
   "cell_type": "markdown",
   "id": "bedd7abf",
   "metadata": {
    "heading_collapsed": true,
    "hidden": true
   },
   "source": [
    "###### 2.2 Loading dataset"
   ]
  },
  {
   "cell_type": "code",
   "execution_count": 2,
   "id": "80e0c5bc",
   "metadata": {
    "hidden": true
   },
   "outputs": [],
   "source": [
    "# raw data\n",
    "train = pd.read_csv('D:\\\\My Drive\\\\Pessoal\\\\Projetos\\\\insurance_sales_predict\\\\insurance_sales_predict\\\\train.csv')\n",
    "test = pd.read_csv('D:\\\\My Drive\\\\Pessoal\\\\Projetos\\\\insurance_sales_predict\\\\insurance_sales_predict\\\\test.csv')\n",
    "df = pd.concat([train, test])\n",
    "\n",
    "# arrays\n",
    "X = pickle.load(open('D:\\\\My Drive\\\\Pessoal\\\\Projetos\\\\insurance_sales_predict\\\\insurance_sales_predict\\\\exportings\\\\X_to_modeling.pkl', 'rb'))\n",
    "y = pickle.load(open('D:\\\\My Drive\\\\Pessoal\\\\Projetos\\\\insurance_sales_predict\\\\insurance_sales_predict\\\\exportings\\\\y_to_modeling.pkl', 'rb'))\n",
    "X_train = X[2]\n",
    "y_train = y[6]\n",
    "\n",
    "# processed data\n",
    "df_predict_request = pickle.load(open('D:\\\\My Drive\\\\Pessoal\\\\Projetos\\\\insurance_sales_predict\\\\insurance_sales_predict\\\\exportings\\\\df_predict_request.pkl', 'rb'))\n",
    "df_predict_project = pickle.load(open('D:\\\\My Drive\\\\Pessoal\\\\Projetos\\\\insurance_sales_predict\\\\insurance_sales_predict\\\\exportings\\\\df_predict_project.pkl', 'rb'))\n",
    "\n",
    "# columns\n",
    "model_columns = pickle.load(open('D:\\\\My Drive\\\\Pessoal\\\\Projetos\\\\insurance_sales_predict\\\\insurance_sales_predict\\\\exportings\\\\model_columns.pkl', 'rb'))\n",
    "\n",
    "# model\n",
    "lr_model = pickle.load(open('D:\\\\My Drive\\\\Pessoal\\\\Projetos\\\\insurance_sales_predict\\\\deploy\\\\model\\\\lr_model.pkl', 'rb'))"
   ]
  },
  {
   "cell_type": "markdown",
   "id": "f9110152",
   "metadata": {
    "heading_collapsed": true
   },
   "source": [
    "# 3.0 Baseline"
   ]
  },
  {
   "cell_type": "code",
   "execution_count": 3,
   "id": "a62a61a6",
   "metadata": {
    "hidden": true
   },
   "outputs": [
    {
     "name": "stdout",
     "output_type": "stream",
     "text": [
      "A média atual de interesse no produto é igual a 12.0%\n"
     ]
    }
   ],
   "source": [
    "baseline = train['Response'].mean()\n",
    "print(f'A média atual de interesse no produto é igual a {round(baseline, 2)*100}%')"
   ]
  },
  {
   "cell_type": "markdown",
   "id": "351c6571",
   "metadata": {
    "heading_collapsed": true
   },
   "source": [
    "# 4.0 Métricas"
   ]
  },
  {
   "cell_type": "markdown",
   "id": "cc345d5e",
   "metadata": {
    "hidden": true
   },
   "source": [
    "Modelo XGRFBoost: PRECISION de 0.27, RECALL de 0.94 e ROC_AUC 0.80"
   ]
  },
  {
   "cell_type": "markdown",
   "id": "cbdac7ae",
   "metadata": {
    "heading_collapsed": true
   },
   "source": [
    "# 5.0 Principais Insights sobre os atributos mais relevantes de clientes interessados em adquirir um seguro de automóvel."
   ]
  },
  {
   "cell_type": "markdown",
   "id": "5a2d6d46",
   "metadata": {
    "heading_collapsed": true,
    "hidden": true
   },
   "source": [
    "### Espaço Amostral\n",
    "1. 6 dimensões parecem explicar 90% de toda variabilidade das features\n",
    "2. Annual_Premium transformada por log apresenta uma shape semelhante a uma normal\n",
    "3. 4 features binárias, 2 numéricas, 1 categórica e 2 categóricas com excessivas categorias e portanto foram transformadas em numéricas.\n",
    "\n",
    "### Features Analysis\n",
    "\n",
    "###### Response:\n",
    "1. Desbalanceada com 12% de eventos positivos\n",
    "2. Correlação fraca com Vehicle_Damage e correlação fraca negativa com Previously_Insured\n",
    "\n",
    "###### Gender:\n",
    "1. Balanceada\n",
    "2. Correlações muito fracas\n",
    "3. Homens se interessam 30% mais no produto em relação às mulheres\n",
    "\n",
    "###### Vehicle_Age:\n",
    "1. Mais da metade dos clientes possuem carros com menos de 1 ano\n",
    "2. Correlação moderada negativa com Age, fraca positiva com Policy_Sales_Channel\n",
    "3. Médias de response bastante distintas\n",
    "\n",
    "###### Vehicle_Damage:\n",
    "1. Balanceada\n",
    "2. Correlação muito forte negativa com Previously_Insured, fraca negativa com Policy_Sales_Channel, fraca positiva com Response e Age\n",
    "3. Clientes que já tiveram danos no seu veículo tem 24% de response, enquanto clientes que não tiveram danos têm por volta de 1%\n",
    "\n",
    "###### Driving_License:\n",
    "1. Correlações muito fracas\n",
    "2. 99% dos clientes são habilitados\n",
    "3. Habilitados apresentam 5% de interesse no produto, não habilitados apresentam 12% de interesse no produto.\n",
    "\n",
    "###### Previously_Insured:\n",
    "1. 45% dos clientes já possuem seguro veicular\n",
    "2. Clientes que já possuem seguro têm interesse quase zero pelo produto\n",
    "3. Correlação muito forte negativa com Vehicle_Damage, fraca negativa com Response e Age, e fraca positiva com Policy_Sales_Channel\n",
    "\n",
    "###### Region_Code:\n",
    "1. 53 regiões\n",
    "2. 28% dos clientes está contido na região 28. 50% dos dados estão contidos nas 5 regiões mais numerosas\n",
    "3. A região 28 (mais importante) tem por volta de 18% de probabilidade de response, segunda melhor região, atrás apenas da região 38.\n",
    "4. As regiões com probabilidade de response mais alto estão com por volta de 19%, as regiões com probabilidades mais baixas estã em por volta de 4%\n",
    "5. Médias de response bastante distintas, com desvios padrões baixos\n",
    "\n",
    "###### Policy_Sales_Channel:\n",
    "1. Há 157 Policy_Sales_Channel e aproximadamente um terço das amostras está contido no canal 152\n",
    "2. 5 categorias contém 84.19% do total de clientes\n",
    "3. Correlação moderada negativa com Age, correlação fraca negativa com Vehicle_Damage, correlação fraca positiva com Vehicle_Age e Previously_Insured\n",
    "4. Médias de response por canais de Policy_Sales_Channel bastante distintas\n",
    "5. Os canais mais utilizados apresentam médias de response bastante diferentes da média global, os canal 152 é o mais utilizado e apresenta 2% de interesse no produto, o canal 155 apresenta 2%, já os canais 26, 124 e 156 apresentam por volta de 20% de interesse no produto\n",
    "\n",
    "###### Vintage:\n",
    "1. Feature categórica, há 290 categorias em Vintage\n",
    "\n",
    "###### Age:\n",
    "1. Range de idade de 25 até 85 anos, aparentemente sem erros de input\n",
    "2. Apresenta uma distribuição com uma certa semelhança com uma Poison, mas com uma segunda moda em um ponto próximo aos 45 anos.\n",
    "3. Sem outliers\n",
    "4. A média de idade entre os que não se interessam pelo produto é de 38 anos, e dos que se interessam é de 43 anos.\n",
    "5. Pessoas com mais de 30 anos apresentam um interesse relativamente maior pelo produto.\n",
    "6. Correlações moderadas negativas com Policy_Sales_Channel e Vehicle_Age, fraca negativa com Previously_Insured e fraca positiva com Vehicle_Damage\n",
    "7. Clientes com menos de 30 anos de idade apresentam em média 4% de interesse no produto, enquanto os clientes com 30 anos ou mais têm em média 17% interesse no produto.\n",
    "\n",
    "\n",
    "###### Annual_Premium\n",
    "1. 2799 em Annual_Premmium, não aparentam ser por conta de erros de input\n",
    "2. Há dois grupos de clientes, um com valores fixos em 2630 dollares, e outro com valores contínuos e superiores, não há diferença significativa de média de interesse no produto entre os grupos\n",
    "3. Acima do terceiro quartil da distribuição há um interesse relativo 20% maior no produto"
   ]
  },
  {
   "cell_type": "markdown",
   "id": "68dcc1cb",
   "metadata": {
    "heading_collapsed": true
   },
   "source": [
    "# 6.0 Qual a porcentagem de clientes interessados em adquirir um seguro de automóvel, o time de vendas conseguirá contatar fazendo 20.000 ligações?"
   ]
  },
  {
   "cell_type": "markdown",
   "id": "2c64e244",
   "metadata": {
    "heading_collapsed": true,
    "hidden": true
   },
   "source": [
    "### 6.1 Premissas"
   ]
  },
  {
   "cell_type": "markdown",
   "id": "cdbe5f45",
   "metadata": {
    "heading_collapsed": true,
    "hidden": true
   },
   "source": [
    "###### 6.1.1 Through request"
   ]
  },
  {
   "cell_type": "code",
   "execution_count": 4,
   "id": "57bece01",
   "metadata": {
    "hidden": true
   },
   "outputs": [
    {
     "data": {
      "text/plain": [
       "(381109, 13)"
      ]
     },
     "execution_count": 4,
     "metadata": {},
     "output_type": "execute_result"
    }
   ],
   "source": [
    "df_predict_request.shape"
   ]
  },
  {
   "cell_type": "code",
   "execution_count": 5,
   "id": "16d48bf3",
   "metadata": {
    "hidden": true
   },
   "outputs": [],
   "source": [
    "df_predict_request.sort_index(inplace=True)"
   ]
  },
  {
   "cell_type": "code",
   "execution_count": 6,
   "id": "5ef3992a",
   "metadata": {
    "hidden": true
   },
   "outputs": [],
   "source": [
    "request_20000 = df_predict_request.sort_values('probability', ascending=False).head(20000)"
   ]
  },
  {
   "cell_type": "code",
   "execution_count": 7,
   "id": "31fe76c9",
   "metadata": {
    "hidden": true,
    "scrolled": false
   },
   "outputs": [
    {
     "data": {
      "text/html": [
       "<div>\n",
       "<style scoped>\n",
       "    .dataframe tbody tr th:only-of-type {\n",
       "        vertical-align: middle;\n",
       "    }\n",
       "\n",
       "    .dataframe tbody tr th {\n",
       "        vertical-align: top;\n",
       "    }\n",
       "\n",
       "    .dataframe thead th {\n",
       "        text-align: right;\n",
       "    }\n",
       "</style>\n",
       "<table border=\"1\" class=\"dataframe\">\n",
       "  <thead>\n",
       "    <tr style=\"text-align: right;\">\n",
       "      <th></th>\n",
       "      <th>Age</th>\n",
       "      <th>Previously_Insured</th>\n",
       "      <th>Gender_</th>\n",
       "      <th>Vehicle_Damage_</th>\n",
       "      <th>Policy_Sales_Channel_Response_Mean</th>\n",
       "      <th>Region_Code_Response_Mean</th>\n",
       "      <th>High_Response_Age</th>\n",
       "      <th>Log_Annual_Premium</th>\n",
       "      <th>Vehicle_Age_1</th>\n",
       "      <th>Vehicle_Age_2</th>\n",
       "      <th>Response</th>\n",
       "      <th>predictions</th>\n",
       "      <th>probability</th>\n",
       "    </tr>\n",
       "  </thead>\n",
       "  <tbody>\n",
       "    <tr>\n",
       "      <th>228805</th>\n",
       "      <td>0.398653</td>\n",
       "      <td>-0.920227</td>\n",
       "      <td>0.921495</td>\n",
       "      <td>0.991555</td>\n",
       "      <td>10.159910</td>\n",
       "      <td>1.426486</td>\n",
       "      <td>0.827798</td>\n",
       "      <td>0.944213</td>\n",
       "      <td>-0.871583</td>\n",
       "      <td>-0.210045</td>\n",
       "      <td>1</td>\n",
       "      <td>1.0</td>\n",
       "      <td>0.996612</td>\n",
       "    </tr>\n",
       "    <tr>\n",
       "      <th>24016</th>\n",
       "      <td>0.398653</td>\n",
       "      <td>-0.920227</td>\n",
       "      <td>-1.085193</td>\n",
       "      <td>0.991555</td>\n",
       "      <td>10.159910</td>\n",
       "      <td>1.426486</td>\n",
       "      <td>0.827798</td>\n",
       "      <td>0.747009</td>\n",
       "      <td>-0.871583</td>\n",
       "      <td>-0.210045</td>\n",
       "      <td>1</td>\n",
       "      <td>1.0</td>\n",
       "      <td>0.996215</td>\n",
       "    </tr>\n",
       "    <tr>\n",
       "      <th>116011</th>\n",
       "      <td>-0.246481</td>\n",
       "      <td>-0.920227</td>\n",
       "      <td>0.921495</td>\n",
       "      <td>0.991555</td>\n",
       "      <td>2.286915</td>\n",
       "      <td>1.426486</td>\n",
       "      <td>0.827798</td>\n",
       "      <td>0.767959</td>\n",
       "      <td>-0.871583</td>\n",
       "      <td>4.760882</td>\n",
       "      <td>0</td>\n",
       "      <td>1.0</td>\n",
       "      <td>0.929209</td>\n",
       "    </tr>\n",
       "    <tr>\n",
       "      <th>241121</th>\n",
       "      <td>-0.181968</td>\n",
       "      <td>-0.920227</td>\n",
       "      <td>0.921495</td>\n",
       "      <td>0.991555</td>\n",
       "      <td>2.286915</td>\n",
       "      <td>1.426486</td>\n",
       "      <td>0.827798</td>\n",
       "      <td>0.636769</td>\n",
       "      <td>-0.871583</td>\n",
       "      <td>4.760882</td>\n",
       "      <td>0</td>\n",
       "      <td>1.0</td>\n",
       "      <td>0.926569</td>\n",
       "    </tr>\n",
       "    <tr>\n",
       "      <th>12738</th>\n",
       "      <td>-0.375508</td>\n",
       "      <td>-0.920227</td>\n",
       "      <td>-1.085193</td>\n",
       "      <td>0.991555</td>\n",
       "      <td>2.286915</td>\n",
       "      <td>1.426486</td>\n",
       "      <td>0.827798</td>\n",
       "      <td>0.682032</td>\n",
       "      <td>-0.871583</td>\n",
       "      <td>4.760882</td>\n",
       "      <td>0</td>\n",
       "      <td>1.0</td>\n",
       "      <td>0.926526</td>\n",
       "    </tr>\n",
       "  </tbody>\n",
       "</table>\n",
       "</div>"
      ],
      "text/plain": [
       "             Age  Previously_Insured   Gender_  Vehicle_Damage_  \\\n",
       "228805  0.398653           -0.920227  0.921495         0.991555   \n",
       "24016   0.398653           -0.920227 -1.085193         0.991555   \n",
       "116011 -0.246481           -0.920227  0.921495         0.991555   \n",
       "241121 -0.181968           -0.920227  0.921495         0.991555   \n",
       "12738  -0.375508           -0.920227 -1.085193         0.991555   \n",
       "\n",
       "        Policy_Sales_Channel_Response_Mean  Region_Code_Response_Mean  \\\n",
       "228805                           10.159910                   1.426486   \n",
       "24016                            10.159910                   1.426486   \n",
       "116011                            2.286915                   1.426486   \n",
       "241121                            2.286915                   1.426486   \n",
       "12738                             2.286915                   1.426486   \n",
       "\n",
       "        High_Response_Age  Log_Annual_Premium  Vehicle_Age_1  Vehicle_Age_2  \\\n",
       "228805           0.827798            0.944213      -0.871583      -0.210045   \n",
       "24016            0.827798            0.747009      -0.871583      -0.210045   \n",
       "116011           0.827798            0.767959      -0.871583       4.760882   \n",
       "241121           0.827798            0.636769      -0.871583       4.760882   \n",
       "12738            0.827798            0.682032      -0.871583       4.760882   \n",
       "\n",
       "        Response  predictions  probability  \n",
       "228805         1          1.0     0.996612  \n",
       "24016          1          1.0     0.996215  \n",
       "116011         0          1.0     0.929209  \n",
       "241121         0          1.0     0.926569  \n",
       "12738          0          1.0     0.926526  "
      ]
     },
     "execution_count": 7,
     "metadata": {},
     "output_type": "execute_result"
    }
   ],
   "source": [
    "request_20000.head(5)"
   ]
  },
  {
   "cell_type": "code",
   "execution_count": 8,
   "id": "9e9fa0ce",
   "metadata": {
    "hidden": true,
    "scrolled": true
   },
   "outputs": [
    {
     "name": "stdout",
     "output_type": "stream",
     "text": [
      "              precision    recall  f1-score   support\n",
      "\n",
      "           0       0.00      0.00      0.00     12399\n",
      "           1       0.38      1.00      0.55      7601\n",
      "\n",
      "    accuracy                           0.38     20000\n",
      "   macro avg       0.19      0.50      0.28     20000\n",
      "weighted avg       0.14      0.38      0.21     20000\n",
      "\n"
     ]
    }
   ],
   "source": [
    "print(classification_report(request_20000['Response'], request_20000['predictions'], zero_division=0))"
   ]
  },
  {
   "cell_type": "markdown",
   "id": "46119f5a",
   "metadata": {
    "heading_collapsed": true,
    "hidden": true
   },
   "source": [
    "###### 6.1.2 Through projetct"
   ]
  },
  {
   "cell_type": "code",
   "execution_count": 9,
   "id": "a8569a40",
   "metadata": {
    "hidden": true
   },
   "outputs": [],
   "source": [
    "pred = lr_model.predict(X_train)"
   ]
  },
  {
   "cell_type": "code",
   "execution_count": 10,
   "id": "be17cec7",
   "metadata": {
    "hidden": true
   },
   "outputs": [],
   "source": [
    "proba = lr_model.predict_proba(X_train)[:,1]"
   ]
  },
  {
   "cell_type": "code",
   "execution_count": 11,
   "id": "2f5ecf8b",
   "metadata": {
    "hidden": true
   },
   "outputs": [],
   "source": [
    "df_predict_project = pd.DataFrame(X_train, columns=model_columns)"
   ]
  },
  {
   "cell_type": "code",
   "execution_count": 12,
   "id": "78fe4991",
   "metadata": {
    "hidden": true
   },
   "outputs": [],
   "source": [
    "df_predict_project['predictions'] = pred\n",
    "df_predict_project['probability'] = proba\n",
    "df_predict_project['Response'] = y_train"
   ]
  },
  {
   "cell_type": "code",
   "execution_count": 13,
   "id": "451aee74",
   "metadata": {
    "hidden": true
   },
   "outputs": [],
   "source": [
    "df_predict_project.sort_index(inplace=True)"
   ]
  },
  {
   "cell_type": "code",
   "execution_count": 14,
   "id": "adcf0a6e",
   "metadata": {
    "hidden": true
   },
   "outputs": [],
   "source": [
    "project_20000 = df_predict_project.sort_values('probability', ascending=False).head(20000)"
   ]
  },
  {
   "cell_type": "code",
   "execution_count": 15,
   "id": "36f87454",
   "metadata": {
    "hidden": true,
    "scrolled": true
   },
   "outputs": [
    {
     "data": {
      "text/html": [
       "<div>\n",
       "<style scoped>\n",
       "    .dataframe tbody tr th:only-of-type {\n",
       "        vertical-align: middle;\n",
       "    }\n",
       "\n",
       "    .dataframe tbody tr th {\n",
       "        vertical-align: top;\n",
       "    }\n",
       "\n",
       "    .dataframe thead th {\n",
       "        text-align: right;\n",
       "    }\n",
       "</style>\n",
       "<table border=\"1\" class=\"dataframe\">\n",
       "  <thead>\n",
       "    <tr style=\"text-align: right;\">\n",
       "      <th></th>\n",
       "      <th>Age</th>\n",
       "      <th>Previously_Insured</th>\n",
       "      <th>Gender_</th>\n",
       "      <th>Vehicle_Damage_</th>\n",
       "      <th>Policy_Sales_Channel_Response_Mean</th>\n",
       "      <th>Region_Code_Response_Mean</th>\n",
       "      <th>High_Response_Age</th>\n",
       "      <th>Log_Annual_Premium</th>\n",
       "      <th>Vehicle_Age_1</th>\n",
       "      <th>Vehicle_Age_2</th>\n",
       "      <th>predictions</th>\n",
       "      <th>probability</th>\n",
       "      <th>Response</th>\n",
       "    </tr>\n",
       "  </thead>\n",
       "  <tbody>\n",
       "    <tr>\n",
       "      <th>228805</th>\n",
       "      <td>0.398653</td>\n",
       "      <td>-0.920227</td>\n",
       "      <td>0.921495</td>\n",
       "      <td>0.991555</td>\n",
       "      <td>10.159910</td>\n",
       "      <td>1.426486</td>\n",
       "      <td>0.827798</td>\n",
       "      <td>0.944213</td>\n",
       "      <td>-0.871583</td>\n",
       "      <td>-0.210045</td>\n",
       "      <td>1.0</td>\n",
       "      <td>0.996533</td>\n",
       "      <td>1.0</td>\n",
       "    </tr>\n",
       "    <tr>\n",
       "      <th>24016</th>\n",
       "      <td>0.398653</td>\n",
       "      <td>-0.920227</td>\n",
       "      <td>-1.085193</td>\n",
       "      <td>0.991555</td>\n",
       "      <td>10.159910</td>\n",
       "      <td>1.426486</td>\n",
       "      <td>0.827798</td>\n",
       "      <td>0.747009</td>\n",
       "      <td>-0.871583</td>\n",
       "      <td>-0.210045</td>\n",
       "      <td>1.0</td>\n",
       "      <td>0.996138</td>\n",
       "      <td>1.0</td>\n",
       "    </tr>\n",
       "    <tr>\n",
       "      <th>116011</th>\n",
       "      <td>-0.246481</td>\n",
       "      <td>-0.920227</td>\n",
       "      <td>0.921495</td>\n",
       "      <td>0.991555</td>\n",
       "      <td>2.286915</td>\n",
       "      <td>1.426486</td>\n",
       "      <td>0.827798</td>\n",
       "      <td>0.767959</td>\n",
       "      <td>-0.871583</td>\n",
       "      <td>4.760882</td>\n",
       "      <td>1.0</td>\n",
       "      <td>0.928266</td>\n",
       "      <td>0.0</td>\n",
       "    </tr>\n",
       "    <tr>\n",
       "      <th>12738</th>\n",
       "      <td>-0.375508</td>\n",
       "      <td>-0.920227</td>\n",
       "      <td>-1.085193</td>\n",
       "      <td>0.991555</td>\n",
       "      <td>2.286915</td>\n",
       "      <td>1.426486</td>\n",
       "      <td>0.827798</td>\n",
       "      <td>0.682032</td>\n",
       "      <td>-0.871583</td>\n",
       "      <td>4.760882</td>\n",
       "      <td>1.0</td>\n",
       "      <td>0.925695</td>\n",
       "      <td>0.0</td>\n",
       "    </tr>\n",
       "    <tr>\n",
       "      <th>241121</th>\n",
       "      <td>-0.181968</td>\n",
       "      <td>-0.920227</td>\n",
       "      <td>0.921495</td>\n",
       "      <td>0.991555</td>\n",
       "      <td>2.286915</td>\n",
       "      <td>1.426486</td>\n",
       "      <td>0.827798</td>\n",
       "      <td>0.636769</td>\n",
       "      <td>-0.871583</td>\n",
       "      <td>4.760882</td>\n",
       "      <td>1.0</td>\n",
       "      <td>0.925627</td>\n",
       "      <td>0.0</td>\n",
       "    </tr>\n",
       "  </tbody>\n",
       "</table>\n",
       "</div>"
      ],
      "text/plain": [
       "             Age  Previously_Insured   Gender_  Vehicle_Damage_  \\\n",
       "228805  0.398653           -0.920227  0.921495         0.991555   \n",
       "24016   0.398653           -0.920227 -1.085193         0.991555   \n",
       "116011 -0.246481           -0.920227  0.921495         0.991555   \n",
       "12738  -0.375508           -0.920227 -1.085193         0.991555   \n",
       "241121 -0.181968           -0.920227  0.921495         0.991555   \n",
       "\n",
       "        Policy_Sales_Channel_Response_Mean  Region_Code_Response_Mean  \\\n",
       "228805                           10.159910                   1.426486   \n",
       "24016                            10.159910                   1.426486   \n",
       "116011                            2.286915                   1.426486   \n",
       "12738                             2.286915                   1.426486   \n",
       "241121                            2.286915                   1.426486   \n",
       "\n",
       "        High_Response_Age  Log_Annual_Premium  Vehicle_Age_1  Vehicle_Age_2  \\\n",
       "228805           0.827798            0.944213      -0.871583      -0.210045   \n",
       "24016            0.827798            0.747009      -0.871583      -0.210045   \n",
       "116011           0.827798            0.767959      -0.871583       4.760882   \n",
       "12738            0.827798            0.682032      -0.871583       4.760882   \n",
       "241121           0.827798            0.636769      -0.871583       4.760882   \n",
       "\n",
       "        predictions  probability  Response  \n",
       "228805          1.0     0.996533       1.0  \n",
       "24016           1.0     0.996138       1.0  \n",
       "116011          1.0     0.928266       0.0  \n",
       "12738           1.0     0.925695       0.0  \n",
       "241121          1.0     0.925627       0.0  "
      ]
     },
     "execution_count": 15,
     "metadata": {},
     "output_type": "execute_result"
    }
   ],
   "source": [
    "project_20000.head(5)"
   ]
  },
  {
   "cell_type": "code",
   "execution_count": 16,
   "id": "734ec975",
   "metadata": {
    "hidden": true,
    "scrolled": true
   },
   "outputs": [
    {
     "name": "stdout",
     "output_type": "stream",
     "text": [
      "              precision    recall  f1-score   support\n",
      "\n",
      "         0.0       0.00      0.00      0.00     12412\n",
      "         1.0       0.38      1.00      0.55      7588\n",
      "\n",
      "    accuracy                           0.38     20000\n",
      "   macro avg       0.19      0.50      0.28     20000\n",
      "weighted avg       0.14      0.38      0.21     20000\n",
      "\n"
     ]
    }
   ],
   "source": [
    "print(classification_report(project_20000['Response'], project_20000['predictions'], zero_division=0))"
   ]
  },
  {
   "cell_type": "markdown",
   "id": "0448b388",
   "metadata": {
    "heading_collapsed": true,
    "hidden": true
   },
   "source": [
    "###### 6.1.3 Testendo processamento do handler x projeto"
   ]
  },
  {
   "cell_type": "code",
   "execution_count": 17,
   "id": "12e4e341",
   "metadata": {
    "hidden": true,
    "scrolled": false
   },
   "outputs": [
    {
     "data": {
      "text/plain": [
       "Age                                     0.000011\n",
       "Gender_                                 0.000013\n",
       "High_Response_Age                       0.000009\n",
       "Log_Annual_Premium                      0.000009\n",
       "Policy_Sales_Channel_Response_Mean      0.000007\n",
       "Previously_Insured                      0.000007\n",
       "Region_Code_Response_Mean               0.000006\n",
       "Response                                0.000000\n",
       "Vehicle_Age_1                           0.000009\n",
       "Vehicle_Age_2                           0.000015\n",
       "Vehicle_Damage_                         0.000009\n",
       "predictions                           339.000000\n",
       "probability                           208.479702\n",
       "dtype: float64"
      ]
     },
     "execution_count": 17,
     "metadata": {},
     "output_type": "execute_result"
    }
   ],
   "source": [
    "np.sum(np.abs(df_predict_project - df_predict_request))"
   ]
  },
  {
   "cell_type": "markdown",
   "id": "7c6f2153",
   "metadata": {
    "heading_collapsed": true,
    "hidden": true
   },
   "source": [
    "### 6.2 Calculos"
   ]
  },
  {
   "cell_type": "markdown",
   "id": "72f856be",
   "metadata": {
    "heading_collapsed": true
   },
   "source": [
    "# 7.0 E se a capacidade do time de vendas aumentar para 40.000 ligações, qual a porcentagem de clientes interessados em adquirir um seguro de automóvel o time de vendas conseguirá contatar?"
   ]
  },
  {
   "cell_type": "markdown",
   "id": "f5ef54e7",
   "metadata": {
    "heading_collapsed": true,
    "hidden": true
   },
   "source": [
    "### 7.1 Premissas"
   ]
  },
  {
   "cell_type": "markdown",
   "id": "5e015040",
   "metadata": {
    "heading_collapsed": true,
    "hidden": true
   },
   "source": [
    "### 7.2 Calculos"
   ]
  },
  {
   "cell_type": "markdown",
   "id": "e943f8c2",
   "metadata": {
    "heading_collapsed": true
   },
   "source": [
    "# 8.0 Quantas ligações o time de vendas precisa fazer para contatar 80% dos clientes interessados em adquirir um seguro de automóvel?"
   ]
  },
  {
   "cell_type": "markdown",
   "id": "70ba83d0",
   "metadata": {
    "heading_collapsed": true,
    "hidden": true
   },
   "source": [
    "### 8.1 Premissas"
   ]
  },
  {
   "cell_type": "markdown",
   "id": "17435a98",
   "metadata": {
    "heading_collapsed": true,
    "hidden": true
   },
   "source": [
    "### 8.2 Calculos"
   ]
  },
  {
   "cell_type": "markdown",
   "id": "f8e018f8",
   "metadata": {},
   "source": [
    "# Time"
   ]
  },
  {
   "cell_type": "code",
   "execution_count": 18,
   "id": "d0c113a0",
   "metadata": {
    "scrolled": true
   },
   "outputs": [
    {
     "name": "stdout",
     "output_type": "stream",
     "text": [
      "O tempo de processamento do projeto foi de: 0 minutos\n"
     ]
    }
   ],
   "source": [
    "print(f'O tempo de processamento do projeto foi de: {int(round(time.time()-time_agora, 2)/60)} minutos')"
   ]
  }
 ],
 "metadata": {
  "kernelspec": {
   "display_name": "Python 3 (ipykernel)",
   "language": "python",
   "name": "python3"
  },
  "language_info": {
   "codemirror_mode": {
    "name": "ipython",
    "version": 3
   },
   "file_extension": ".py",
   "mimetype": "text/x-python",
   "name": "python",
   "nbconvert_exporter": "python",
   "pygments_lexer": "ipython3",
   "version": "3.9.7"
  }
 },
 "nbformat": 4,
 "nbformat_minor": 5
}
