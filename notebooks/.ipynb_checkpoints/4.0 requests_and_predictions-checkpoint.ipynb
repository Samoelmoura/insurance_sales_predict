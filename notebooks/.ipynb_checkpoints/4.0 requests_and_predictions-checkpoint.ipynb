{
 "cells": [
  {
   "cell_type": "markdown",
   "id": "0dccb07a",
   "metadata": {},
   "source": [
    "# 1.0 Imports"
   ]
  },
  {
   "cell_type": "markdown",
   "id": "23eec6a4",
   "metadata": {},
   "source": [
    "###### 1.1 Libraries"
   ]
  },
  {
   "cell_type": "code",
   "execution_count": 1,
   "id": "23095494",
   "metadata": {
    "ExecuteTime": {
     "end_time": "2022-04-30T14:20:19.993409Z",
     "start_time": "2022-04-30T14:20:18.660791Z"
    }
   },
   "outputs": [],
   "source": [
    "import pandas as pd\n",
    "import numpy as np\n",
    "\n",
    "from sklearn.metrics import classification_report, roc_auc_score, accuracy_score\n",
    "\n",
    "import requests\n",
    "\n",
    "import pickle\n",
    "\n",
    "import time\n",
    "import warnings\n",
    "\n",
    "# Tempo de processamento\n",
    "time_agora = time.time()"
   ]
  },
  {
   "cell_type": "markdown",
   "id": "159dd48c",
   "metadata": {},
   "source": [
    "###### 1.2 Colecting data"
   ]
  },
  {
   "cell_type": "code",
   "execution_count": 3,
   "id": "8d8568be",
   "metadata": {
    "ExecuteTime": {
     "end_time": "2022-04-30T14:21:00.228984Z",
     "start_time": "2022-04-30T14:21:00.201599Z"
    }
   },
   "outputs": [],
   "source": [
    "# raw data\n",
    "test = pickle.load(open('D:\\\\My Drive\\\\Pessoal\\\\Projetos\\\\insurance_sales_predict\\\\insurance_sales_predict\\\\data\\\\raw\\\\test.pkl', 'rb'))"
   ]
  },
  {
   "cell_type": "markdown",
   "id": "b7cfd694",
   "metadata": {},
   "source": [
    "# 2.0 Predictions"
   ]
  },
  {
   "cell_type": "markdown",
   "id": "7c5b258b",
   "metadata": {},
   "source": [
    "##### 2.1 Request"
   ]
  },
  {
   "cell_type": "code",
   "execution_count": 4,
   "id": "4955070d",
   "metadata": {
    "ExecuteTime": {
     "end_time": "2022-04-30T14:21:29.432400Z",
     "start_time": "2022-04-30T14:21:09.056667Z"
    },
    "scrolled": false
   },
   "outputs": [
    {
     "data": {
      "text/plain": [
       "200"
      ]
     },
     "execution_count": 4,
     "metadata": {},
     "output_type": "execute_result"
    }
   ],
   "source": [
    "# # apenas um cliente\n",
    "# request_1 = df_raw.sample(1)\n",
    "# request_1_json = request_1.to_json(orient='records')\n",
    "# received = requests.post(url='http://192.168.0.11:5000/predict', \n",
    "#                          data=request_1_json, \n",
    "#                          headers={'Content-type':'application/json'})\n",
    "# received.status_code\n",
    "\n",
    "# mais de um cliente\n",
    "test_json = test.to_json(orient='records')\n",
    "\n",
    "url = 'https://insurance-sales-predict.herokuapp.com/predict' # heroku host\n",
    "# url = 'http://192.168.0.13:5000/predict' # local host\n",
    "\n",
    "received = requests.post(url=url, \n",
    "                         data=test_json, \n",
    "                         headers={'Content-type':'application/json'})\n",
    "received.status_code"
   ]
  },
  {
   "cell_type": "markdown",
   "id": "e79ba7e3",
   "metadata": {},
   "source": [
    "##### 2.2 Received"
   ]
  },
  {
   "cell_type": "code",
   "execution_count": 5,
   "id": "7df89b32",
   "metadata": {
    "ExecuteTime": {
     "end_time": "2022-04-30T14:22:05.301444Z",
     "start_time": "2022-04-30T14:22:04.850738Z"
    },
    "scrolled": true
   },
   "outputs": [
    {
     "data": {
      "text/html": [
       "<div>\n",
       "<style scoped>\n",
       "    .dataframe tbody tr th:only-of-type {\n",
       "        vertical-align: middle;\n",
       "    }\n",
       "\n",
       "    .dataframe tbody tr th {\n",
       "        vertical-align: top;\n",
       "    }\n",
       "\n",
       "    .dataframe thead th {\n",
       "        text-align: right;\n",
       "    }\n",
       "</style>\n",
       "<table border=\"1\" class=\"dataframe\">\n",
       "  <thead>\n",
       "    <tr style=\"text-align: right;\">\n",
       "      <th></th>\n",
       "      <th>Age</th>\n",
       "      <th>Previously_Insured</th>\n",
       "      <th>Gender_</th>\n",
       "      <th>Vehicle_Damage_</th>\n",
       "      <th>Policy_Sales_Channel_Response_Mean</th>\n",
       "      <th>Region_Code_Response_Mean</th>\n",
       "      <th>High_Response_Age</th>\n",
       "      <th>Log_Annual_Premium</th>\n",
       "      <th>Vehicle_Age_1</th>\n",
       "      <th>Vehicle_Age_2</th>\n",
       "      <th>Response</th>\n",
       "      <th>predictions</th>\n",
       "      <th>probability</th>\n",
       "    </tr>\n",
       "  </thead>\n",
       "  <tbody>\n",
       "    <tr>\n",
       "      <th>0</th>\n",
       "      <td>-0.504535</td>\n",
       "      <td>1.086689</td>\n",
       "      <td>0.921495</td>\n",
       "      <td>-1.008517</td>\n",
       "      <td>-1.088230</td>\n",
       "      <td>0.112614</td>\n",
       "      <td>0.827798</td>\n",
       "      <td>0.186268</td>\n",
       "      <td>1.147338</td>\n",
       "      <td>-0.210045</td>\n",
       "      <td>0</td>\n",
       "      <td>0.0</td>\n",
       "      <td>0.005363</td>\n",
       "    </tr>\n",
       "    <tr>\n",
       "      <th>1</th>\n",
       "      <td>-1.149669</td>\n",
       "      <td>1.086689</td>\n",
       "      <td>0.921495</td>\n",
       "      <td>-1.008517</td>\n",
       "      <td>-1.167128</td>\n",
       "      <td>-1.322338</td>\n",
       "      <td>-1.208024</td>\n",
       "      <td>0.417705</td>\n",
       "      <td>1.147338</td>\n",
       "      <td>-0.210045</td>\n",
       "      <td>0</td>\n",
       "      <td>0.0</td>\n",
       "      <td>0.002438</td>\n",
       "    </tr>\n",
       "    <tr>\n",
       "      <th>2</th>\n",
       "      <td>0.140599</td>\n",
       "      <td>-0.920227</td>\n",
       "      <td>-1.085193</td>\n",
       "      <td>0.991555</td>\n",
       "      <td>0.770576</td>\n",
       "      <td>1.426486</td>\n",
       "      <td>0.827798</td>\n",
       "      <td>0.226758</td>\n",
       "      <td>-0.871583</td>\n",
       "      <td>-0.210045</td>\n",
       "      <td>0</td>\n",
       "      <td>1.0</td>\n",
       "      <td>0.786358</td>\n",
       "    </tr>\n",
       "    <tr>\n",
       "      <th>3</th>\n",
       "      <td>-0.827102</td>\n",
       "      <td>1.086689</td>\n",
       "      <td>0.921495</td>\n",
       "      <td>-1.008517</td>\n",
       "      <td>-1.088230</td>\n",
       "      <td>-0.017348</td>\n",
       "      <td>-1.208024</td>\n",
       "      <td>0.945731</td>\n",
       "      <td>1.147338</td>\n",
       "      <td>-0.210045</td>\n",
       "      <td>0</td>\n",
       "      <td>0.0</td>\n",
       "      <td>0.002589</td>\n",
       "    </tr>\n",
       "    <tr>\n",
       "      <th>4</th>\n",
       "      <td>1.559894</td>\n",
       "      <td>-0.920227</td>\n",
       "      <td>0.921495</td>\n",
       "      <td>0.991555</td>\n",
       "      <td>0.889119</td>\n",
       "      <td>-1.076175</td>\n",
       "      <td>0.827798</td>\n",
       "      <td>0.547673</td>\n",
       "      <td>-0.871583</td>\n",
       "      <td>-0.210045</td>\n",
       "      <td>0</td>\n",
       "      <td>1.0</td>\n",
       "      <td>0.612992</td>\n",
       "    </tr>\n",
       "  </tbody>\n",
       "</table>\n",
       "</div>"
      ],
      "text/plain": [
       "        Age  Previously_Insured   Gender_  Vehicle_Damage_  \\\n",
       "0 -0.504535            1.086689  0.921495        -1.008517   \n",
       "1 -1.149669            1.086689  0.921495        -1.008517   \n",
       "2  0.140599           -0.920227 -1.085193         0.991555   \n",
       "3 -0.827102            1.086689  0.921495        -1.008517   \n",
       "4  1.559894           -0.920227  0.921495         0.991555   \n",
       "\n",
       "   Policy_Sales_Channel_Response_Mean  Region_Code_Response_Mean  \\\n",
       "0                           -1.088230                   0.112614   \n",
       "1                           -1.167128                  -1.322338   \n",
       "2                            0.770576                   1.426486   \n",
       "3                           -1.088230                  -0.017348   \n",
       "4                            0.889119                  -1.076175   \n",
       "\n",
       "   High_Response_Age  Log_Annual_Premium  Vehicle_Age_1  Vehicle_Age_2  \\\n",
       "0           0.827798            0.186268       1.147338      -0.210045   \n",
       "1          -1.208024            0.417705       1.147338      -0.210045   \n",
       "2           0.827798            0.226758      -0.871583      -0.210045   \n",
       "3          -1.208024            0.945731       1.147338      -0.210045   \n",
       "4           0.827798            0.547673      -0.871583      -0.210045   \n",
       "\n",
       "   Response  predictions  probability  \n",
       "0         0          0.0     0.005363  \n",
       "1         0          0.0     0.002438  \n",
       "2         0          1.0     0.786358  \n",
       "3         0          0.0     0.002589  \n",
       "4         0          1.0     0.612992  "
      ]
     },
     "execution_count": 5,
     "metadata": {},
     "output_type": "execute_result"
    }
   ],
   "source": [
    "df_predict_request = pd.DataFrame(received.json(), columns=received.json()[0].keys())\n",
    "df_predict_request.head(5)"
   ]
  },
  {
   "cell_type": "code",
   "execution_count": 6,
   "id": "f9de7659",
   "metadata": {
    "ExecuteTime": {
     "end_time": "2022-04-30T14:22:07.551807Z",
     "start_time": "2022-04-30T14:22:07.482172Z"
    },
    "scrolled": true
   },
   "outputs": [
    {
     "name": "stdout",
     "output_type": "stream",
     "text": [
      "              precision    recall  f1-score   support\n",
      "\n",
      "           0       0.98      0.68      0.80     33591\n",
      "           1       0.27      0.91      0.42      4520\n",
      "\n",
      "    accuracy                           0.70     38111\n",
      "   macro avg       0.63      0.79      0.61     38111\n",
      "weighted avg       0.90      0.70      0.76     38111\n",
      "\n"
     ]
    }
   ],
   "source": [
    "print(classification_report(df_predict_request['Response'], df_predict_request['predictions'], zero_division=0))"
   ]
  },
  {
   "cell_type": "markdown",
   "id": "3ab619a1",
   "metadata": {},
   "source": [
    "# 3.0 Exportings"
   ]
  },
  {
   "cell_type": "markdown",
   "id": "336f9ee5",
   "metadata": {},
   "source": [
    "###### Dataframe with predictions and probabilities"
   ]
  },
  {
   "cell_type": "code",
   "execution_count": 7,
   "id": "040f8be8",
   "metadata": {
    "ExecuteTime": {
     "end_time": "2022-04-30T14:22:11.118570Z",
     "start_time": "2022-04-30T14:22:11.105058Z"
    }
   },
   "outputs": [],
   "source": [
    "pickle.dump(df_predict_request, open('D:\\\\My Drive\\\\Pessoal\\\\Projetos\\\\insurance_sales_predict\\\\insurance_sales_predict\\\\data\\\\interim\\\\df_predict_request.pkl', 'wb'))"
   ]
  },
  {
   "cell_type": "markdown",
   "id": "4e378702",
   "metadata": {},
   "source": [
    "# Time"
   ]
  },
  {
   "cell_type": "code",
   "execution_count": 8,
   "id": "903c4b46",
   "metadata": {
    "ExecuteTime": {
     "end_time": "2022-04-30T14:22:14.577200Z",
     "start_time": "2022-04-30T14:22:14.562335Z"
    },
    "scrolled": false
   },
   "outputs": [
    {
     "name": "stdout",
     "output_type": "stream",
     "text": [
      "O tempo de processamento do projeto foi de: 1 minutos\n"
     ]
    }
   ],
   "source": [
    "print(f'O tempo de processamento do projeto foi de: {int(round(time.time()-time_agora, 2)/60)} minutos')"
   ]
  }
 ],
 "metadata": {
  "kernelspec": {
   "display_name": "Python 3 (ipykernel)",
   "language": "python",
   "name": "python3"
  },
  "language_info": {
   "codemirror_mode": {
    "name": "ipython",
    "version": 3
   },
   "file_extension": ".py",
   "mimetype": "text/x-python",
   "name": "python",
   "nbconvert_exporter": "python",
   "pygments_lexer": "ipython3",
   "version": "3.9.7"
  }
 },
 "nbformat": 4,
 "nbformat_minor": 5
}
