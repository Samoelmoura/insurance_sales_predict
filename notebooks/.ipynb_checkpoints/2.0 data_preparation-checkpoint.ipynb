{
 "cells": [
  {
   "cell_type": "markdown",
   "id": "c4db2bc9",
   "metadata": {
    "heading_collapsed": true
   },
   "source": [
    "# Reports\n",
    "1. Inputs: data with feature engineering \n",
    "2. Outputs: prepared data to ml modeling\n",
    "3. ..."
   ]
  },
  {
   "cell_type": "markdown",
   "id": "2cf82ad6",
   "metadata": {},
   "source": [
    "# 1.0 Imports"
   ]
  },
  {
   "cell_type": "code",
   "execution_count": 1,
   "id": "42b1bea8",
   "metadata": {
    "ExecuteTime": {
     "end_time": "2022-04-15T17:25:48.618933Z",
     "start_time": "2022-04-15T17:25:46.738235Z"
    },
    "scrolled": true
   },
   "outputs": [
    {
     "name": "stderr",
     "output_type": "stream",
     "text": [
      "D:\\My Drive\\Pessoal\\Projetos\\environments\\data_science\\lib\\site-packages\\xgboost\\compat.py:36: FutureWarning: pandas.Int64Index is deprecated and will be removed from pandas in a future version. Use pandas.Index with the appropriate dtype instead.\n",
      "  from pandas import MultiIndex, Int64Index\n"
     ]
    }
   ],
   "source": [
    "import pandas as pd\n",
    "import numpy as np\n",
    "import matplotlib.pyplot as plt \n",
    "\n",
    "from sklearn.model_selection import train_test_split\n",
    "from sklearn.preprocessing import StandardScaler, LabelEncoder\n",
    "from sklearn.metrics import classification_report, roc_auc_score, accuracy_score\n",
    "from sklearn.ensemble import RandomForestClassifier\n",
    "from sklearn.feature_selection import RFE\n",
    "\n",
    "from xgboost import XGBRFClassifier\n",
    "\n",
    "from boruta import BorutaPy\n",
    "\n",
    "from imblearn.over_sampling import SMOTE\n",
    "from imblearn.under_sampling import NearMiss\n",
    "\n",
    "import pickle\n",
    "\n",
    "import time\n",
    "import warnings\n",
    "\n",
    "# Tempo de processamento\n",
    "time_agora = time.time()"
   ]
  },
  {
   "cell_type": "markdown",
   "id": "bc6a4cd7",
   "metadata": {},
   "source": [
    "## 1.1 Colecting data"
   ]
  },
  {
   "cell_type": "code",
   "execution_count": 2,
   "id": "08f6cd06",
   "metadata": {
    "ExecuteTime": {
     "end_time": "2022-04-15T17:25:48.698567Z",
     "start_time": "2022-04-15T17:25:48.621495Z"
    }
   },
   "outputs": [],
   "source": [
    "df = pickle.load(open('D:\\\\My Drive\\\\Pessoal\\\\Projetos\\\\insurance_sales_predict\\\\insurance_sales_predict\\\\exportings\\\\df_to_data_preparation.pkl', 'rb'))"
   ]
  },
  {
   "cell_type": "markdown",
   "id": "f4082a19",
   "metadata": {},
   "source": [
    "# 6.0 Data Preparation"
   ]
  },
  {
   "cell_type": "markdown",
   "id": "3b9fefe1",
   "metadata": {},
   "source": [
    "### 6.1 Preprocessing"
   ]
  },
  {
   "cell_type": "code",
   "execution_count": 3,
   "id": "34a651c1",
   "metadata": {
    "ExecuteTime": {
     "end_time": "2022-04-15T17:25:48.729551Z",
     "start_time": "2022-04-15T17:25:48.700787Z"
    }
   },
   "outputs": [],
   "source": [
    "# backup\n",
    "df_ = df.copy()"
   ]
  },
  {
   "cell_type": "code",
   "execution_count": 4,
   "id": "4836a969",
   "metadata": {
    "ExecuteTime": {
     "end_time": "2022-04-15T17:26:49.082100Z",
     "start_time": "2022-04-15T17:25:48.731317Z"
    }
   },
   "outputs": [
    {
     "name": "stdout",
     "output_type": "stream",
     "text": [
      "['Age', 'Driving_License', 'Previously_Insured', 'Gender_', 'Vehicle_Damage_', 'Policy_Sales_Channel_Response_Mean', 'Region_Code_Response_Mean', 'High_Age', 'Log_Annual_Premium', 'Vehicle_Age_1', 'Vehicle_Age_2']\n"
     ]
    }
   ],
   "source": [
    "# backup\n",
    "df = df_.copy()\n",
    "\n",
    "# Feature dummies\n",
    "temp = pd.get_dummies(df['Vehicle_Age_'], prefix='Vehicle_Age')\n",
    "temp.drop('Vehicle_Age_0', axis=1, inplace=True)\n",
    "df = pd.concat([df, temp], axis=1)\n",
    "\n",
    "# Removendo features que não seguirão para modelagem\n",
    "features_remover = ['id', 'Gender', 'Vehicle_Age', 'Vehicle_Age_', 'Vehicle_Damage', 'Policy_Sales_Channel', \n",
    "                    'Region_Code', 'Vintage', 'Annual_Premium']\n",
    "df.drop(features_remover, axis=1, inplace=True)\n",
    "model_columns = df.drop('Response', axis=1).columns.to_list()\n",
    "print(model_columns)\n",
    "\n",
    "# target\n",
    "target = ['Response']\n",
    "\n",
    "# Split X and y\n",
    "X = df.drop(target, axis=1)\n",
    "X = np.array(X)\n",
    "y = df[target]\n",
    "y = np.array(y).reshape(1, len(y))[0]\n",
    "\n",
    "# Split train end test\n",
    "X_, X_test, y_, y_test = train_test_split(X, y, test_size=0.2, random_state=101)\n",
    "\n",
    "# Split train_ end valid\n",
    "X_train, X_valid, y_train, y_valid = train_test_split(X_, y_, test_size=0.3, random_state=101)\n",
    "\n",
    "# Standard Scaler fit\n",
    "scaler = StandardScaler().fit(X_train)\n",
    "\n",
    "# Scaler transform\n",
    "X = scaler.transform(X)\n",
    "X_ = scaler.transform(X_)\n",
    "X_train = scaler.transform(X_train)\n",
    "X_test = scaler.transform(X_test)\n",
    "X_valid = scaler.transform(X_valid)\n",
    "\n",
    "# Resolvendo desbalanceamento\n",
    "# Nearmiss\n",
    "near = NearMiss()\n",
    "X_near, y_near = near.fit_resample(X_, y_)\n",
    "X_train_near, y_train_near = near.fit_resample(X_train, y_train)\n",
    "\n",
    "# Smote\n",
    "smote = SMOTE()\n",
    "X_smote, y_smote = smote.fit_resample(X_, y_)\n",
    "X_train_smote, y_train_smote = smote.fit_resample(X_train, y_train)"
   ]
  },
  {
   "cell_type": "markdown",
   "id": "cf542f56",
   "metadata": {
    "id": "O5JNrPUBwgK_"
   },
   "source": [
    "### 6.2 Feature Selection"
   ]
  },
  {
   "cell_type": "markdown",
   "id": "79d64a9d",
   "metadata": {
    "id": "DKnbnN2le32Z"
   },
   "source": [
    "##### 6.2.1 Principais Insights:\n",
    "1. As features com maior relevância identificadas através de Exploração de Dados foram: Vehicle_Damage, Previously_Insured, Vehicle_Age, Policy_Sales_Channels_Response_Mean, Age\n",
    "2. 6 Dimensões compõem 95% de toda a variabilidade das features.\n",
    "3. A feature Driving_License não agrega ao modelo"
   ]
  },
  {
   "cell_type": "markdown",
   "id": "64b52a48",
   "metadata": {
    "id": "o5pxLA5xHkv4"
   },
   "source": [
    "##### 6.2.2 Por Correlação"
   ]
  },
  {
   "cell_type": "code",
   "execution_count": 5,
   "id": "a40abe8b",
   "metadata": {
    "ExecuteTime": {
     "end_time": "2022-04-15T17:26:49.268471Z",
     "start_time": "2022-04-15T17:26:49.082100Z"
    }
   },
   "outputs": [],
   "source": [
    "correlations = abs(df.corr()['Response'].drop('Response', axis=0))\n",
    "correlations\n",
    "ranking = pd.DataFrame()\n",
    "ranking['correlations'] = correlations"
   ]
  },
  {
   "cell_type": "markdown",
   "id": "ee478695",
   "metadata": {
    "id": "nvyORAF7rYmr"
   },
   "source": [
    "##### 6.2.3 RFE (Ranking por eliminação recursiva)"
   ]
  },
  {
   "cell_type": "code",
   "execution_count": 6,
   "id": "04e77482",
   "metadata": {
    "ExecuteTime": {
     "end_time": "2022-04-15T17:26:58.807563Z",
     "start_time": "2022-04-15T17:26:49.268471Z"
    }
   },
   "outputs": [
    {
     "name": "stdout",
     "output_type": "stream",
     "text": [
      "[1 7 6 4 3 1 1 1 2 5 1]\n"
     ]
    },
    {
     "data": {
      "text/plain": [
       "['Age',\n",
       " 'Policy_Sales_Channel_Response_Mean',\n",
       " 'Region_Code_Response_Mean',\n",
       " 'High_Age',\n",
       " 'Vehicle_Age_2',\n",
       " 'Log_Annual_Premium',\n",
       " 'Vehicle_Damage_',\n",
       " 'Gender_',\n",
       " 'Vehicle_Age_1',\n",
       " 'Previously_Insured',\n",
       " 'Driving_License']"
      ]
     },
     "execution_count": 6,
     "metadata": {},
     "output_type": "execute_result"
    }
   ],
   "source": [
    "# model description\n",
    "xgbrf_model = XGBRFClassifier(use_label_encoder=False, eval_metric='error')\n",
    "\n",
    "# rfe description\n",
    "rfe_model = RFE(xgbrf_model)\n",
    "\n",
    "# fiting model\n",
    "rfe_fit = rfe_model.fit(X_train_near, y_train_near)\n",
    "\n",
    "# ranking\n",
    "ranking['rfe_xgb'] = rfe_fit.ranking_\n",
    "print(rfe_fit.ranking_)\n",
    "ranking.sort_values('rfe_xgb').index.to_list()"
   ]
  },
  {
   "cell_type": "markdown",
   "id": "a806221e",
   "metadata": {
    "id": "5_-sLiG6pn2U"
   },
   "source": [
    "Alta preferência por features numéricas, não confere com a exploração de dados, possivelmente overfitado."
   ]
  },
  {
   "cell_type": "markdown",
   "id": "92d24e3b",
   "metadata": {
    "id": "daY1rZTknYRs"
   },
   "source": [
    "##### 6.2.4 Importances"
   ]
  },
  {
   "cell_type": "markdown",
   "id": "13b1dcbb",
   "metadata": {
    "id": "LQkDdBsliGe5"
   },
   "source": [
    "###### 6.2.4.1 Random Forest"
   ]
  },
  {
   "cell_type": "code",
   "execution_count": 7,
   "id": "337e9afd",
   "metadata": {
    "ExecuteTime": {
     "end_time": "2022-04-15T17:27:25.022521Z",
     "start_time": "2022-04-15T17:26:58.807563Z"
    },
    "colab": {
     "base_uri": "https://localhost:8080/"
    },
    "id": "CSMecOxSyu3T",
    "outputId": "6d74362a-3ecd-4018-f86a-ddf34b3a0ff3",
    "scrolled": false
   },
   "outputs": [
    {
     "name": "stdout",
     "output_type": "stream",
     "text": [
      "              precision    recall  f1-score   support\n",
      "\n",
      "           0       0.99      0.67      0.80     72267\n",
      "           1       0.28      0.93      0.43     10053\n",
      "\n",
      "    accuracy                           0.70     82320\n",
      "   macro avg       0.63      0.80      0.61     82320\n",
      "weighted avg       0.90      0.70      0.75     82320\n",
      "\n"
     ]
    }
   ],
   "source": [
    "# model definition\n",
    "rf_model = RandomForestClassifier(n_estimators=100, min_samples_leaf=1000, random_state=101)\n",
    "\n",
    "# fiting model\n",
    "rf_fit = rf_model.fit(X_train_smote, y_train_smote)\n",
    "\n",
    "# preditions\n",
    "rf_predict = rf_fit.predict(X_valid)\n",
    "ranking['importance_rf'] = rf_model.feature_importances_\n",
    "\n",
    "# metrics\n",
    "print(classification_report(y_valid, rf_predict))"
   ]
  },
  {
   "cell_type": "markdown",
   "id": "d20e93ce",
   "metadata": {
    "id": "ijExdiKLiY_J"
   },
   "source": [
    "###### 6.2.4.2 XGRFBoost"
   ]
  },
  {
   "cell_type": "code",
   "execution_count": 8,
   "id": "27abc7de",
   "metadata": {
    "ExecuteTime": {
     "end_time": "2022-04-15T17:27:35.758266Z",
     "start_time": "2022-04-15T17:27:25.022521Z"
    },
    "colab": {
     "base_uri": "https://localhost:8080/"
    },
    "id": "a1QPpwuwiY_K",
    "outputId": "d2b2758e-6d42-4459-c8a5-8415789a287a"
   },
   "outputs": [
    {
     "name": "stdout",
     "output_type": "stream",
     "text": [
      "              precision    recall  f1-score   support\n",
      "\n",
      "           0       0.99      0.63      0.77     72267\n",
      "           1       0.27      0.95      0.42     10053\n",
      "\n",
      "    accuracy                           0.67     82320\n",
      "   macro avg       0.63      0.79      0.59     82320\n",
      "weighted avg       0.90      0.67      0.73     82320\n",
      "\n"
     ]
    }
   ],
   "source": [
    "# fiting model\n",
    "xgbrf_fit = xgbrf_model.fit(X_train_smote, y_train_smote)\n",
    "\n",
    "# predictions\n",
    "xgbrf_predict = xgbrf_fit.predict(X_valid)\n",
    "ranking['importance_xgb'] = xgbrf_model.feature_importances_\n",
    "\n",
    "# metrics\n",
    "print(classification_report(y_valid, xgbrf_predict))"
   ]
  },
  {
   "cell_type": "markdown",
   "id": "300928c2",
   "metadata": {
    "id": "THYJcRTgUY7Q"
   },
   "source": [
    "##### 6.2.5 Boruta"
   ]
  },
  {
   "cell_type": "code",
   "execution_count": 9,
   "id": "12852082",
   "metadata": {
    "ExecuteTime": {
     "end_time": "2022-04-15T17:31:14.675676Z",
     "start_time": "2022-04-15T17:27:35.759008Z"
    },
    "colab": {
     "base_uri": "https://localhost:8080/",
     "height": 0
    },
    "id": "n00-dMQ6UfXP",
    "outputId": "37685cd9-f643-41e8-bf4b-d4415246c502"
   },
   "outputs": [
    {
     "name": "stdout",
     "output_type": "stream",
     "text": [
      "[1 2 1 1 1 1 1 1 1 1 1]\n"
     ]
    },
    {
     "data": {
      "text/plain": [
       "['Driving_License',\n",
       " 'Age',\n",
       " 'Previously_Insured',\n",
       " 'Gender_',\n",
       " 'Vehicle_Damage_',\n",
       " 'Policy_Sales_Channel_Response_Mean',\n",
       " 'Region_Code_Response_Mean',\n",
       " 'High_Age',\n",
       " 'Log_Annual_Premium',\n",
       " 'Vehicle_Age_1',\n",
       " 'Vehicle_Age_2']"
      ]
     },
     "execution_count": 9,
     "metadata": {},
     "output_type": "execute_result"
    }
   ],
   "source": [
    "# model descrition\n",
    "boruta_model = BorutaPy(xgbrf_model, random_state=101)\n",
    "\n",
    "# fiting model\n",
    "boruta_fit = boruta_model.fit(X_train_near, y_train_near)\n",
    "\n",
    "# ranking features\n",
    "ranking['boruta'] = boruta_fit.ranking_\n",
    "print(boruta_fit.ranking_)\n",
    "ranking.sort_values('boruta', ascending=False).index.to_list()"
   ]
  },
  {
   "cell_type": "code",
   "execution_count": 10,
   "id": "c269c13d",
   "metadata": {
    "ExecuteTime": {
     "end_time": "2022-04-15T17:31:14.684771Z",
     "start_time": "2022-04-15T17:31:14.678975Z"
    },
    "id": "ZjmwnkrIcBKV"
   },
   "outputs": [],
   "source": [
    "# ranking_boruta = [1, 2, 1, 1, 1, 1, 1, 1, 1, 1, 1, 1, 1]\n",
    "# ranking['boruta'] = ranking_boruta"
   ]
  },
  {
   "cell_type": "markdown",
   "id": "a4d7b9cc",
   "metadata": {},
   "source": [
    "##### 6.2.6 Comparison"
   ]
  },
  {
   "cell_type": "code",
   "execution_count": 11,
   "id": "e6998c94",
   "metadata": {
    "ExecuteTime": {
     "end_time": "2022-04-15T17:31:14.716789Z",
     "start_time": "2022-04-15T17:31:14.687967Z"
    }
   },
   "outputs": [
    {
     "data": {
      "text/html": [
       "<div>\n",
       "<style scoped>\n",
       "    .dataframe tbody tr th:only-of-type {\n",
       "        vertical-align: middle;\n",
       "    }\n",
       "\n",
       "    .dataframe tbody tr th {\n",
       "        vertical-align: top;\n",
       "    }\n",
       "\n",
       "    .dataframe thead th {\n",
       "        text-align: right;\n",
       "    }\n",
       "</style>\n",
       "<table border=\"1\" class=\"dataframe\">\n",
       "  <thead>\n",
       "    <tr style=\"text-align: right;\">\n",
       "      <th></th>\n",
       "      <th>correlations</th>\n",
       "      <th>rfe_xgb</th>\n",
       "      <th>importance_rf</th>\n",
       "      <th>importance_xgb</th>\n",
       "      <th>boruta</th>\n",
       "    </tr>\n",
       "  </thead>\n",
       "  <tbody>\n",
       "    <tr>\n",
       "      <th>Age</th>\n",
       "      <td>0.111110</td>\n",
       "      <td>1</td>\n",
       "      <td>0.090500</td>\n",
       "      <td>0.007257</td>\n",
       "      <td>1</td>\n",
       "    </tr>\n",
       "    <tr>\n",
       "      <th>Driving_License</th>\n",
       "      <td>0.010160</td>\n",
       "      <td>7</td>\n",
       "      <td>0.000000</td>\n",
       "      <td>0.001750</td>\n",
       "      <td>2</td>\n",
       "    </tr>\n",
       "    <tr>\n",
       "      <th>Previously_Insured</th>\n",
       "      <td>0.341668</td>\n",
       "      <td>6</td>\n",
       "      <td>0.367272</td>\n",
       "      <td>0.157996</td>\n",
       "      <td>1</td>\n",
       "    </tr>\n",
       "    <tr>\n",
       "      <th>Gender_</th>\n",
       "      <td>0.052551</td>\n",
       "      <td>4</td>\n",
       "      <td>0.001421</td>\n",
       "      <td>0.000418</td>\n",
       "      <td>1</td>\n",
       "    </tr>\n",
       "    <tr>\n",
       "      <th>Vehicle_Damage_</th>\n",
       "      <td>0.355045</td>\n",
       "      <td>3</td>\n",
       "      <td>0.344704</td>\n",
       "      <td>0.805853</td>\n",
       "      <td>1</td>\n",
       "    </tr>\n",
       "    <tr>\n",
       "      <th>Policy_Sales_Channel_Response_Mean</th>\n",
       "      <td>0.263692</td>\n",
       "      <td>1</td>\n",
       "      <td>0.113453</td>\n",
       "      <td>0.012635</td>\n",
       "      <td>1</td>\n",
       "    </tr>\n",
       "    <tr>\n",
       "      <th>Region_Code_Response_Mean</th>\n",
       "      <td>0.138005</td>\n",
       "      <td>1</td>\n",
       "      <td>0.014999</td>\n",
       "      <td>0.001109</td>\n",
       "      <td>1</td>\n",
       "    </tr>\n",
       "    <tr>\n",
       "      <th>High_Age</th>\n",
       "      <td>0.206226</td>\n",
       "      <td>1</td>\n",
       "      <td>0.022939</td>\n",
       "      <td>0.009700</td>\n",
       "      <td>1</td>\n",
       "    </tr>\n",
       "    <tr>\n",
       "      <th>Log_Annual_Premium</th>\n",
       "      <td>0.002207</td>\n",
       "      <td>2</td>\n",
       "      <td>0.002421</td>\n",
       "      <td>0.000166</td>\n",
       "      <td>1</td>\n",
       "    </tr>\n",
       "    <tr>\n",
       "      <th>Vehicle_Age_1</th>\n",
       "      <td>0.209722</td>\n",
       "      <td>5</td>\n",
       "      <td>0.039590</td>\n",
       "      <td>0.002766</td>\n",
       "      <td>1</td>\n",
       "    </tr>\n",
       "    <tr>\n",
       "      <th>Vehicle_Age_2</th>\n",
       "      <td>0.109218</td>\n",
       "      <td>1</td>\n",
       "      <td>0.002700</td>\n",
       "      <td>0.000348</td>\n",
       "      <td>1</td>\n",
       "    </tr>\n",
       "  </tbody>\n",
       "</table>\n",
       "</div>"
      ],
      "text/plain": [
       "                                    correlations  rfe_xgb  importance_rf  \\\n",
       "Age                                     0.111110        1       0.090500   \n",
       "Driving_License                         0.010160        7       0.000000   \n",
       "Previously_Insured                      0.341668        6       0.367272   \n",
       "Gender_                                 0.052551        4       0.001421   \n",
       "Vehicle_Damage_                         0.355045        3       0.344704   \n",
       "Policy_Sales_Channel_Response_Mean      0.263692        1       0.113453   \n",
       "Region_Code_Response_Mean               0.138005        1       0.014999   \n",
       "High_Age                                0.206226        1       0.022939   \n",
       "Log_Annual_Premium                      0.002207        2       0.002421   \n",
       "Vehicle_Age_1                           0.209722        5       0.039590   \n",
       "Vehicle_Age_2                           0.109218        1       0.002700   \n",
       "\n",
       "                                    importance_xgb  boruta  \n",
       "Age                                       0.007257       1  \n",
       "Driving_License                           0.001750       2  \n",
       "Previously_Insured                        0.157996       1  \n",
       "Gender_                                   0.000418       1  \n",
       "Vehicle_Damage_                           0.805853       1  \n",
       "Policy_Sales_Channel_Response_Mean        0.012635       1  \n",
       "Region_Code_Response_Mean                 0.001109       1  \n",
       "High_Age                                  0.009700       1  \n",
       "Log_Annual_Premium                        0.000166       1  \n",
       "Vehicle_Age_1                             0.002766       1  \n",
       "Vehicle_Age_2                             0.000348       1  "
      ]
     },
     "execution_count": 11,
     "metadata": {},
     "output_type": "execute_result"
    }
   ],
   "source": [
    "ranking"
   ]
  },
  {
   "cell_type": "markdown",
   "id": "9760ffb5",
   "metadata": {},
   "source": [
    "1. As colunas \"correlations\", \"importance_rf\" e \"importance_xgb\" são quantitativas e estão na mesma escala\n",
    "2. A coluna \"rfe_xgb\" é tipo tipo ranking, quanto menor o número melhor a colocação\n",
    "3. A coluna \"boruta\" é binária, 1 significa uma feature relevante e 2 uma feature a ser dispensada"
   ]
  },
  {
   "cell_type": "code",
   "execution_count": 12,
   "id": "01476217",
   "metadata": {
    "ExecuteTime": {
     "end_time": "2022-04-15T17:31:14.986778Z",
     "start_time": "2022-04-15T17:31:14.718786Z"
    },
    "scrolled": false
   },
   "outputs": [
    {
     "data": {
      "image/png": "[encoded data removed]",
      "text/plain": [
       "<Figure size 432x288 with 1 Axes>"
      ]
     },
     "metadata": {
      "needs_background": "light"
     },
     "output_type": "display_data"
    }
   ],
   "source": [
    "ranking_1 = ranking[['correlations', 'importance_rf', 'importance_xgb']].copy()\n",
    "ranking_1['total'] = np.sum(ranking_1, axis=1)\n",
    "\n",
    "ranking_1.sort_values('total', ascending=False, inplace=True)\n",
    "\n",
    "ranking_1.drop('total', axis=1).plot(kind='bar', stacked=True)\n",
    "plt.title('Importancias das features');"
   ]
  },
  {
   "cell_type": "markdown",
   "id": "f3fe7224",
   "metadata": {},
   "source": [
    "##### 6.2.7 Removing expendable features"
   ]
  },
  {
   "cell_type": "code",
   "execution_count": 13,
   "id": "1fd4bbea",
   "metadata": {
    "ExecuteTime": {
     "end_time": "2022-04-15T17:31:15.095794Z",
     "start_time": "2022-04-15T17:31:14.987776Z"
    }
   },
   "outputs": [
    {
     "data": {
      "text/plain": [
       "'Driving_License'"
      ]
     },
     "execution_count": 13,
     "metadata": {},
     "output_type": "execute_result"
    }
   ],
   "source": [
    "X = np.delete(X, 1, 1)\n",
    "X_train = np.delete(X_train, 1, 1)\n",
    "X_valid = np.delete(X_valid, 1, 1)\n",
    "X_test = np.delete(X_test, 1, 1)\n",
    "X_smote = np.delete(X_smote, 1, 1)\n",
    "X_near = np.delete(X_near, 1, 1)\n",
    "X_train_smote = np.delete(X_train_smote, 1, 1)\n",
    "X_train_near = np.delete(X_train_near, 1, 1)\n",
    "\n",
    "model_columns.pop(1)"
   ]
  },
  {
   "cell_type": "markdown",
   "id": "3cf3d2b7",
   "metadata": {},
   "source": [
    "# 7.0 Exporting data"
   ]
  },
  {
   "cell_type": "markdown",
   "id": "cff8993e",
   "metadata": {},
   "source": [
    "###### 7.1 Scaler"
   ]
  },
  {
   "cell_type": "code",
   "execution_count": 14,
   "id": "b397aecb",
   "metadata": {
    "ExecuteTime": {
     "end_time": "2022-04-15T17:31:15.111397Z",
     "start_time": "2022-04-15T17:31:15.097747Z"
    }
   },
   "outputs": [],
   "source": [
    "pickle.dump(scaler, open('D:\\\\My Drive\\\\Pessoal\\\\Projetos\\\\insurance_sales_predict\\\\webapp\\\\scaler_standard_scaler.pkl', 'wb'))"
   ]
  },
  {
   "cell_type": "markdown",
   "id": "1ed00b15",
   "metadata": {},
   "source": [
    "###### 7.2 Arrays"
   ]
  },
  {
   "cell_type": "code",
   "execution_count": 15,
   "id": "cce5903a",
   "metadata": {
    "ExecuteTime": {
     "end_time": "2022-04-15T17:31:15.404740Z",
     "start_time": "2022-04-15T17:31:15.114458Z"
    }
   },
   "outputs": [],
   "source": [
    "X_to_modeling = [X_valid, X_test, X]\n",
    "X_imb_to_modeling = [X_smote, X_near, X_train_smote, X_train_near]\n",
    "y_to_modeling = [y_smote, y_near, y_train_smote, y_train_near, y_valid, y_test, y]\n",
    "pickle.dump(X_to_modeling, open('D:\\\\My Drive\\\\Pessoal\\\\Projetos\\\\insurance_sales_predict\\\\insurance_sales_predict\\\\exportings\\\\X_to_modeling.pkl', 'wb'))\n",
    "pickle.dump(X_imb_to_modeling, open('D:\\\\My Drive\\\\Pessoal\\\\Projetos\\\\insurance_sales_predict\\\\insurance_sales_predict\\\\exportings\\\\X_imb_to_modeling.pkl', 'wb'))\n",
    "pickle.dump(y_to_modeling, open('D:\\\\My Drive\\\\Pessoal\\\\Projetos\\\\insurance_sales_predict\\\\insurance_sales_predict\\\\exportings\\\\y_to_modeling.pkl', 'wb'))"
   ]
  },
  {
   "cell_type": "markdown",
   "id": "07f54c83",
   "metadata": {},
   "source": [
    "###### 7.4 Columns"
   ]
  },
  {
   "cell_type": "code",
   "execution_count": 16,
   "id": "0309554e",
   "metadata": {
    "ExecuteTime": {
     "end_time": "2022-04-15T17:31:15.420264Z",
     "start_time": "2022-04-15T17:31:15.407789Z"
    }
   },
   "outputs": [],
   "source": [
    "pickle.dump(model_columns, open('D:\\\\My Drive\\\\Pessoal\\\\Projetos\\\\insurance_sales_predict\\\\insurance_sales_predict\\\\exportings\\\\model_columns.pkl', 'wb'))"
   ]
  },
  {
   "cell_type": "markdown",
   "id": "a25f4a8b",
   "metadata": {},
   "source": [
    "###### 7.5 Ranking of features"
   ]
  },
  {
   "cell_type": "code",
   "execution_count": 17,
   "id": "6b36fc09",
   "metadata": {
    "ExecuteTime": {
     "end_time": "2022-04-15T17:31:15.436304Z",
     "start_time": "2022-04-15T17:31:15.424351Z"
    }
   },
   "outputs": [],
   "source": [
    "pickle.dump(ranking, open('D:\\\\My Drive\\\\Pessoal\\\\Projetos\\\\insurance_sales_predict\\\\insurance_sales_predict\\\\exportings\\\\ranking_feature_selection.pkl', 'wb'))"
   ]
  },
  {
   "cell_type": "markdown",
   "id": "165401df",
   "metadata": {},
   "source": [
    "###### 7.5 Expendable features"
   ]
  },
  {
   "cell_type": "code",
   "execution_count": 18,
   "id": "9eaa7e7d",
   "metadata": {
    "ExecuteTime": {
     "end_time": "2022-04-15T17:31:15.451806Z",
     "start_time": "2022-04-15T17:31:15.438306Z"
    }
   },
   "outputs": [],
   "source": [
    "pickle.dump(features_remover, open('D:\\\\My Drive\\\\Pessoal\\\\Projetos\\\\insurance_sales_predict\\\\webapp\\\\_features_remover.pkl', 'wb'))"
   ]
  },
  {
   "cell_type": "markdown",
   "id": "f8e018f8",
   "metadata": {},
   "source": [
    "# Time"
   ]
  },
  {
   "cell_type": "code",
   "execution_count": 19,
   "id": "d0c113a0",
   "metadata": {
    "ExecuteTime": {
     "end_time": "2022-04-15T17:31:15.467557Z",
     "start_time": "2022-04-15T17:31:15.453806Z"
    }
   },
   "outputs": [
    {
     "name": "stdout",
     "output_type": "stream",
     "text": [
      "O tempo de processamento do projeto foi de: 5 minutos\n"
     ]
    }
   ],
   "source": [
    "print(f'O tempo de processamento do projeto foi de: {int(round(time.time()-time_agora, 2)/60)} minutos')"
   ]
  }
 ],
 "metadata": {
  "kernelspec": {
   "display_name": "Python 3 (ipykernel)",
   "language": "python",
   "name": "python3"
  },
  "language_info": {
   "codemirror_mode": {
    "name": "ipython",
    "version": 3
   },
   "file_extension": ".py",
   "mimetype": "text/x-python",
   "name": "python",
   "nbconvert_exporter": "python",
   "pygments_lexer": "ipython3",
   "version": "3.9.7"
  }
 },
 "nbformat": 4,
 "nbformat_minor": 5
}
