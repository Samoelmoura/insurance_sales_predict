{
 "cells": [
  {
   "cell_type": "markdown",
   "id": "f5f22930",
   "metadata": {
    "heading_collapsed": true
   },
   "source": [
    "# Reports\n",
    "1. Inputs: data raw from kaggle\n",
    "2. Outputs: predictions\n",
    "3. ..."
   ]
  },
  {
   "cell_type": "markdown",
   "id": "0dccb07a",
   "metadata": {
    "heading_collapsed": true
   },
   "source": [
    "# 1.0 Imports"
   ]
  },
  {
   "cell_type": "markdown",
   "id": "23eec6a4",
   "metadata": {
    "heading_collapsed": true,
    "hidden": true
   },
   "source": [
    "###### 1.1 Libraries"
   ]
  },
  {
   "cell_type": "code",
   "execution_count": 1,
   "id": "23095494",
   "metadata": {
    "hidden": true
   },
   "outputs": [],
   "source": [
    "import pandas as pd\n",
    "import numpy as np\n",
    "\n",
    "import requests\n",
    "\n",
    "import pickle\n",
    "\n",
    "import time\n",
    "import warnings\n",
    "\n",
    "# Tempo de processamento\n",
    "time_agora = time.time()"
   ]
  },
  {
   "cell_type": "markdown",
   "id": "159dd48c",
   "metadata": {
    "heading_collapsed": true,
    "hidden": true
   },
   "source": [
    "###### 1.2 Colecting data"
   ]
  },
  {
   "cell_type": "code",
   "execution_count": 2,
   "id": "8d8568be",
   "metadata": {
    "hidden": true
   },
   "outputs": [],
   "source": [
    "train = pd.read_csv(r'D:\\\\My Drive\\\\Pessoal\\\\Projetos\\\\insurance_sales_predict\\\\insurance_sales_predict\\\\train.csv')\n",
    "test = pd.read_csv(r'D:\\\\My Drive\\\\Pessoal\\\\Projetos\\\\insurance_sales_predict\\\\insurance_sales_predict\\\\test.csv')\n",
    "df_raw = pd.concat([train, test])"
   ]
  },
  {
   "cell_type": "markdown",
   "id": "b7cfd694",
   "metadata": {
    "heading_collapsed": true
   },
   "source": [
    "# 2.0 Predictions"
   ]
  },
  {
   "cell_type": "markdown",
   "id": "7c5b258b",
   "metadata": {
    "heading_collapsed": true,
    "hidden": true
   },
   "source": [
    "##### 2.1 Request"
   ]
  },
  {
   "cell_type": "code",
   "execution_count": 3,
   "id": "4955070d",
   "metadata": {
    "hidden": true,
    "scrolled": false
   },
   "outputs": [
    {
     "data": {
      "text/plain": [
       "200"
      ]
     },
     "execution_count": 3,
     "metadata": {},
     "output_type": "execute_result"
    }
   ],
   "source": [
    "# # apenas um cliente\n",
    "# request_1 = df_raw.sample(1)\n",
    "# request_1_json = request_1.to_json(orient='records')\n",
    "# received = requests.post(url='http://192.168.15.26:5000/predict', \n",
    "#                          data=request_1_json, \n",
    "#                          headers={'Content-type':'application/json'})\n",
    "# received.status_code\n",
    "\n",
    "# mais de um cliente\n",
    "train_json = train.to_json(orient='records')\n",
    "\n",
    "received = requests.post(url='http://192.168.15.26:5000/predict', \n",
    "                         data=train_json, \n",
    "                         headers={'Content-type':'application/json'})\n",
    "received.status_code"
   ]
  },
  {
   "cell_type": "markdown",
   "id": "02f031ca",
   "metadata": {
    "heading_collapsed": true,
    "hidden": true
   },
   "source": [
    "##### 8.3 Received"
   ]
  },
  {
   "cell_type": "code",
   "execution_count": 4,
   "id": "e3d04656",
   "metadata": {
    "hidden": true,
    "scrolled": true
   },
   "outputs": [
    {
     "data": {
      "text/html": [
       "<div>\n",
       "<style scoped>\n",
       "    .dataframe tbody tr th:only-of-type {\n",
       "        vertical-align: middle;\n",
       "    }\n",
       "\n",
       "    .dataframe tbody tr th {\n",
       "        vertical-align: top;\n",
       "    }\n",
       "\n",
       "    .dataframe thead th {\n",
       "        text-align: right;\n",
       "    }\n",
       "</style>\n",
       "<table border=\"1\" class=\"dataframe\">\n",
       "  <thead>\n",
       "    <tr style=\"text-align: right;\">\n",
       "      <th></th>\n",
       "      <th>Age</th>\n",
       "      <th>Previously_Insured</th>\n",
       "      <th>Gender_</th>\n",
       "      <th>Vehicle_Damage_</th>\n",
       "      <th>Policy_Sales_Channel_Response_Mean</th>\n",
       "      <th>Region_Code_Response_Mean</th>\n",
       "      <th>High_Response_Age</th>\n",
       "      <th>Log_Annual_Premium</th>\n",
       "      <th>Vehicle_Age_1</th>\n",
       "      <th>Vehicle_Age_2</th>\n",
       "      <th>Response</th>\n",
       "      <th>predictions</th>\n",
       "      <th>probability</th>\n",
       "    </tr>\n",
       "  </thead>\n",
       "  <tbody>\n",
       "    <tr>\n",
       "      <th>0</th>\n",
       "      <td>0.334139</td>\n",
       "      <td>-0.920227</td>\n",
       "      <td>0.921495</td>\n",
       "      <td>0.991555</td>\n",
       "      <td>0.889119</td>\n",
       "      <td>1.426486</td>\n",
       "      <td>0.827798</td>\n",
       "      <td>0.589353</td>\n",
       "      <td>-0.871583</td>\n",
       "      <td>4.760882</td>\n",
       "      <td>1</td>\n",
       "      <td>1.0</td>\n",
       "      <td>0.834949</td>\n",
       "    </tr>\n",
       "    <tr>\n",
       "      <th>1</th>\n",
       "      <td>2.398568</td>\n",
       "      <td>-0.920227</td>\n",
       "      <td>0.921495</td>\n",
       "      <td>-1.008517</td>\n",
       "      <td>0.889119</td>\n",
       "      <td>0.112614</td>\n",
       "      <td>0.827798</td>\n",
       "      <td>0.402332</td>\n",
       "      <td>-0.871583</td>\n",
       "      <td>-0.210045</td>\n",
       "      <td>0</td>\n",
       "      <td>0.0</td>\n",
       "      <td>0.150833</td>\n",
       "    </tr>\n",
       "    <tr>\n",
       "      <th>2</th>\n",
       "      <td>0.527679</td>\n",
       "      <td>-0.920227</td>\n",
       "      <td>0.921495</td>\n",
       "      <td>0.991555</td>\n",
       "      <td>0.889119</td>\n",
       "      <td>1.426486</td>\n",
       "      <td>0.827798</td>\n",
       "      <td>0.534634</td>\n",
       "      <td>-0.871583</td>\n",
       "      <td>4.760882</td>\n",
       "      <td>1</td>\n",
       "      <td>1.0</td>\n",
       "      <td>0.820627</td>\n",
       "    </tr>\n",
       "    <tr>\n",
       "      <th>3</th>\n",
       "      <td>-1.149669</td>\n",
       "      <td>1.086689</td>\n",
       "      <td>0.921495</td>\n",
       "      <td>-1.008517</td>\n",
       "      <td>-1.088230</td>\n",
       "      <td>-0.216440</td>\n",
       "      <td>-1.208024</td>\n",
       "      <td>0.244228</td>\n",
       "      <td>1.147338</td>\n",
       "      <td>-0.210045</td>\n",
       "      <td>0</td>\n",
       "      <td>0.0</td>\n",
       "      <td>0.002839</td>\n",
       "    </tr>\n",
       "    <tr>\n",
       "      <th>4</th>\n",
       "      <td>-0.633562</td>\n",
       "      <td>1.086689</td>\n",
       "      <td>-1.085193</td>\n",
       "      <td>-1.008517</td>\n",
       "      <td>-1.088230</td>\n",
       "      <td>-0.017348</td>\n",
       "      <td>-1.208024</td>\n",
       "      <td>0.204310</td>\n",
       "      <td>1.147338</td>\n",
       "      <td>-0.210045</td>\n",
       "      <td>0</td>\n",
       "      <td>0.0</td>\n",
       "      <td>0.002024</td>\n",
       "    </tr>\n",
       "  </tbody>\n",
       "</table>\n",
       "</div>"
      ],
      "text/plain": [
       "        Age  Previously_Insured   Gender_  Vehicle_Damage_  \\\n",
       "0  0.334139           -0.920227  0.921495         0.991555   \n",
       "1  2.398568           -0.920227  0.921495        -1.008517   \n",
       "2  0.527679           -0.920227  0.921495         0.991555   \n",
       "3 -1.149669            1.086689  0.921495        -1.008517   \n",
       "4 -0.633562            1.086689 -1.085193        -1.008517   \n",
       "\n",
       "   Policy_Sales_Channel_Response_Mean  Region_Code_Response_Mean  \\\n",
       "0                            0.889119                   1.426486   \n",
       "1                            0.889119                   0.112614   \n",
       "2                            0.889119                   1.426486   \n",
       "3                           -1.088230                  -0.216440   \n",
       "4                           -1.088230                  -0.017348   \n",
       "\n",
       "   High_Response_Age  Log_Annual_Premium  Vehicle_Age_1  Vehicle_Age_2  \\\n",
       "0           0.827798            0.589353      -0.871583       4.760882   \n",
       "1           0.827798            0.402332      -0.871583      -0.210045   \n",
       "2           0.827798            0.534634      -0.871583       4.760882   \n",
       "3          -1.208024            0.244228       1.147338      -0.210045   \n",
       "4          -1.208024            0.204310       1.147338      -0.210045   \n",
       "\n",
       "   Response  predictions  probability  \n",
       "0         1          1.0     0.834949  \n",
       "1         0          0.0     0.150833  \n",
       "2         1          1.0     0.820627  \n",
       "3         0          0.0     0.002839  \n",
       "4         0          0.0     0.002024  "
      ]
     },
     "execution_count": 4,
     "metadata": {},
     "output_type": "execute_result"
    }
   ],
   "source": [
    "df_predict = pd.DataFrame(received.json(), columns=received.json()[0].keys())\n",
    "df_predict.head(5)"
   ]
  },
  {
   "cell_type": "markdown",
   "id": "3ab619a1",
   "metadata": {
    "heading_collapsed": true
   },
   "source": [
    "# 3.0 Exportings"
   ]
  },
  {
   "cell_type": "markdown",
   "id": "336f9ee5",
   "metadata": {
    "heading_collapsed": true,
    "hidden": true
   },
   "source": [
    "###### Dataframe with predictions and probabilities"
   ]
  },
  {
   "cell_type": "code",
   "execution_count": 5,
   "id": "040f8be8",
   "metadata": {
    "hidden": true
   },
   "outputs": [],
   "source": [
    "pickle.dump(df_predict, open('D:\\\\My Drive\\\\Pessoal\\\\Projetos\\\\insurance_sales_predict\\\\insurance_sales_predict\\\\exportings\\\\df_predict_request.pkl', 'wb'))"
   ]
  },
  {
   "cell_type": "markdown",
   "id": "4e378702",
   "metadata": {},
   "source": [
    "# Time"
   ]
  },
  {
   "cell_type": "code",
   "execution_count": 6,
   "id": "903c4b46",
   "metadata": {
    "scrolled": true
   },
   "outputs": [
    {
     "name": "stdout",
     "output_type": "stream",
     "text": [
      "O tempo de processamento do projeto foi de: 0 minutos\n"
     ]
    }
   ],
   "source": [
    "print(f'O tempo de processamento do projeto foi de: {int(round(time.time()-time_agora, 2)/60)} minutos')"
   ]
  }
 ],
 "metadata": {
  "kernelspec": {
   "display_name": "Python 3 (ipykernel)",
   "language": "python",
   "name": "python3"
  },
  "language_info": {
   "codemirror_mode": {
    "name": "ipython",
    "version": 3
   },
   "file_extension": ".py",
   "mimetype": "text/x-python",
   "name": "python",
   "nbconvert_exporter": "python",
   "pygments_lexer": "ipython3",
   "version": "3.8.8"
  }
 },
 "nbformat": 4,
 "nbformat_minor": 5
}
