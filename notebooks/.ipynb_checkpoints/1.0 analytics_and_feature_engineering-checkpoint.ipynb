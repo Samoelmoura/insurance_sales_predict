{
 "cells": [
  {
   "cell_type": "markdown",
   "id": "bab69ead",
   "metadata": {},
   "source": [
    "# 1.0 Imports"
   ]
  },
  {
   "cell_type": "code",
   "execution_count": 1,
   "id": "17351970",
   "metadata": {
    "ExecuteTime": {
     "end_time": "2022-04-30T13:48:20.395013Z",
     "start_time": "2022-04-30T13:48:18.232521Z"
    },
    "scrolled": true
   },
   "outputs": [],
   "source": [
    "import pandas as pd\n",
    "import numpy as np\n",
    "import matplotlib.pyplot as plt\n",
    "import seaborn as sns\n",
    "import pylab as pl\n",
    "\n",
    "from sklearn.preprocessing import StandardScaler, LabelEncoder\n",
    "from sklearn.decomposition import PCA\n",
    "from sklearn.tree import DecisionTreeClassifier, plot_tree\n",
    "\n",
    "from IPython.display import Image\n",
    "\n",
    "import pickle\n",
    "\n",
    "import time\n",
    "import warnings\n",
    "\n",
    "# Tempo de processamento\n",
    "time_agora = time.time()"
   ]
  },
  {
   "cell_type": "markdown",
   "id": "e61922aa",
   "metadata": {},
   "source": [
    "###### 1.2 Helper Functions"
   ]
  },
  {
   "cell_type": "code",
   "execution_count": 2,
   "id": "bda67886",
   "metadata": {
    "ExecuteTime": {
     "end_time": "2022-04-30T13:48:20.410143Z",
     "start_time": "2022-04-30T13:48:20.395013Z"
    }
   },
   "outputs": [],
   "source": [
    "# Função buscar outlier pelo método do 6 Sigma\n",
    "def buscar_outlier(df, series):\n",
    "    média = df[series].mean()\n",
    "    desvio_padrão = df[series].std()\n",
    "    lis = média - (desvio_padrão * 3)\n",
    "    lss = média + (desvio_padrão * 3)\n",
    "    lista_outliers = df[(df[series] < lis) | (df[series] > lss)].index\n",
    "    return lista_outliers, lis, lss"
   ]
  },
  {
   "cell_type": "markdown",
   "id": "ce2d526c",
   "metadata": {},
   "source": [
    "###### 1.3 Loading Dataset"
   ]
  },
  {
   "cell_type": "code",
   "execution_count": 3,
   "id": "6109b44a",
   "metadata": {
    "ExecuteTime": {
     "end_time": "2022-04-30T13:48:20.806217Z",
     "start_time": "2022-04-30T13:48:20.413465Z"
    },
    "id": "A_vrsVlknJ2z"
   },
   "outputs": [],
   "source": [
    "df = pd.read_csv(r'D:\\\\My Drive\\\\Pessoal\\\\Projetos\\\\insurance_sales_predict\\\\insurance_sales_predict\\\\data\\\\raw\\\\train.csv')\n",
    "\n",
    "test = df.sample(frac=0.1)\n",
    "test_indices = test.index\n",
    "df = df.drop(test_indices)"
   ]
  },
  {
   "cell_type": "markdown",
   "id": "2eecf223",
   "metadata": {
    "id": "Mok1q9y5cpP-"
   },
   "source": [
    "# 2.0 Data Description"
   ]
  },
  {
   "cell_type": "markdown",
   "id": "2404a497",
   "metadata": {
    "id": "OPCzm7YK0FxI"
   },
   "source": [
    "## 2.1 General Analysis"
   ]
  },
  {
   "cell_type": "markdown",
   "id": "486b77cd",
   "metadata": {
    "heading_collapsed": true
   },
   "source": [
    "##### 2.1.0 Main insights:\n",
    "\n",
    "###### Response:\n",
    "1. Desbalanceada com 12% de eventos positivos\n",
    "\n",
    "###### Vehicle_Age:\n",
    "1. Mais da metade dos clientes possuem carros com menos de 1 ano\n",
    "\n",
    "###### Region_Code:\n",
    "1. 53 regiões\n",
    "2. 28% dos clientes está contido na região 28. \n",
    "3. 50% dos dados estão contidos nas 5 regiões mais numerosas\n",
    "\n",
    "###### Policy_Sales_Channel:\n",
    "1. Há 157 Policy_Sales_Channel e aproximadamente um terço das amostras está contido no canal 152\n",
    "\n",
    "###### Vintage:\n",
    "1. Feature categórica, há 290 categorias em Vintage\n",
    "\n",
    "###### Age:\n",
    "1. Range de idade de 25 até 85 anos, aparentemente sem erros de input"
   ]
  },
  {
   "cell_type": "markdown",
   "id": "8513ff12",
   "metadata": {},
   "source": [
    "##### 2.1.1 Data dimensions"
   ]
  },
  {
   "cell_type": "code",
   "execution_count": 4,
   "id": "393a5d23",
   "metadata": {
    "ExecuteTime": {
     "end_time": "2022-04-30T13:48:20.821914Z",
     "start_time": "2022-04-30T13:48:20.810223Z"
    },
    "colab": {
     "base_uri": "https://localhost:8080/"
    },
    "id": "Zwy0E8ZIpLPl",
    "outputId": "92dac05e-4d44-4748-b5bd-068d3508e129"
   },
   "outputs": [
    {
     "name": "stdout",
     "output_type": "stream",
     "text": [
      "Number of rows: 342998\n",
      "Number of columns: 12\n"
     ]
    }
   ],
   "source": [
    "print(f'Number of rows: {df.shape[0]}')\n",
    "print(f'Number of columns: {df.shape[1]}')"
   ]
  },
  {
   "cell_type": "markdown",
   "id": "949283e5",
   "metadata": {},
   "source": [
    "##### 2.1.2 Data types"
   ]
  },
  {
   "cell_type": "code",
   "execution_count": 5,
   "id": "4dcd82f7",
   "metadata": {
    "ExecuteTime": {
     "end_time": "2022-04-30T13:48:20.836906Z",
     "start_time": "2022-04-30T13:48:20.823908Z"
    },
    "colab": {
     "base_uri": "https://localhost:8080/"
    },
    "id": "BR3AJxskpRTN",
    "outputId": "91bbf7cc-7a02-43fc-c5b0-0fffcda46562",
    "scrolled": true
   },
   "outputs": [
    {
     "data": {
      "text/plain": [
       "id                        int64\n",
       "Gender                   object\n",
       "Age                       int64\n",
       "Driving_License           int64\n",
       "Region_Code             float64\n",
       "Previously_Insured        int64\n",
       "Vehicle_Age              object\n",
       "Vehicle_Damage           object\n",
       "Annual_Premium          float64\n",
       "Policy_Sales_Channel    float64\n",
       "Vintage                   int64\n",
       "Response                  int64\n",
       "dtype: object"
      ]
     },
     "execution_count": 5,
     "metadata": {},
     "output_type": "execute_result"
    }
   ],
   "source": [
    "df.dtypes"
   ]
  },
  {
   "cell_type": "markdown",
   "id": "1d9e8c28",
   "metadata": {},
   "source": [
    "##### 2.1.3 Look table"
   ]
  },
  {
   "cell_type": "code",
   "execution_count": 6,
   "id": "2447cc4a",
   "metadata": {
    "ExecuteTime": {
     "end_time": "2022-04-30T13:48:20.868808Z",
     "start_time": "2022-04-30T13:48:20.839855Z"
    },
    "colab": {
     "base_uri": "https://localhost:8080/",
     "height": 0
    },
    "id": "FhdmLhs-pFXH",
    "outputId": "9e3dabbb-51ee-4f2e-9523-3c887a2e44ef",
    "scrolled": false
   },
   "outputs": [
    {
     "data": {
      "text/html": [
       "<div>\n",
       "<style scoped>\n",
       "    .dataframe tbody tr th:only-of-type {\n",
       "        vertical-align: middle;\n",
       "    }\n",
       "\n",
       "    .dataframe tbody tr th {\n",
       "        vertical-align: top;\n",
       "    }\n",
       "\n",
       "    .dataframe thead th {\n",
       "        text-align: right;\n",
       "    }\n",
       "</style>\n",
       "<table border=\"1\" class=\"dataframe\">\n",
       "  <thead>\n",
       "    <tr style=\"text-align: right;\">\n",
       "      <th></th>\n",
       "      <th>id</th>\n",
       "      <th>Gender</th>\n",
       "      <th>Age</th>\n",
       "      <th>Driving_License</th>\n",
       "      <th>Region_Code</th>\n",
       "      <th>Previously_Insured</th>\n",
       "      <th>Vehicle_Age</th>\n",
       "      <th>Vehicle_Damage</th>\n",
       "      <th>Annual_Premium</th>\n",
       "      <th>Policy_Sales_Channel</th>\n",
       "      <th>Vintage</th>\n",
       "      <th>Response</th>\n",
       "    </tr>\n",
       "  </thead>\n",
       "  <tbody>\n",
       "    <tr>\n",
       "      <th>0</th>\n",
       "      <td>1</td>\n",
       "      <td>Male</td>\n",
       "      <td>44</td>\n",
       "      <td>1</td>\n",
       "      <td>28.0</td>\n",
       "      <td>0</td>\n",
       "      <td>&gt; 2 Years</td>\n",
       "      <td>Yes</td>\n",
       "      <td>40454.0</td>\n",
       "      <td>26.0</td>\n",
       "      <td>217</td>\n",
       "      <td>1</td>\n",
       "    </tr>\n",
       "    <tr>\n",
       "      <th>1</th>\n",
       "      <td>2</td>\n",
       "      <td>Male</td>\n",
       "      <td>76</td>\n",
       "      <td>1</td>\n",
       "      <td>3.0</td>\n",
       "      <td>0</td>\n",
       "      <td>1-2 Year</td>\n",
       "      <td>No</td>\n",
       "      <td>33536.0</td>\n",
       "      <td>26.0</td>\n",
       "      <td>183</td>\n",
       "      <td>0</td>\n",
       "    </tr>\n",
       "    <tr>\n",
       "      <th>2</th>\n",
       "      <td>3</td>\n",
       "      <td>Male</td>\n",
       "      <td>47</td>\n",
       "      <td>1</td>\n",
       "      <td>28.0</td>\n",
       "      <td>0</td>\n",
       "      <td>&gt; 2 Years</td>\n",
       "      <td>Yes</td>\n",
       "      <td>38294.0</td>\n",
       "      <td>26.0</td>\n",
       "      <td>27</td>\n",
       "      <td>1</td>\n",
       "    </tr>\n",
       "    <tr>\n",
       "      <th>3</th>\n",
       "      <td>4</td>\n",
       "      <td>Male</td>\n",
       "      <td>21</td>\n",
       "      <td>1</td>\n",
       "      <td>11.0</td>\n",
       "      <td>1</td>\n",
       "      <td>&lt; 1 Year</td>\n",
       "      <td>No</td>\n",
       "      <td>28619.0</td>\n",
       "      <td>152.0</td>\n",
       "      <td>203</td>\n",
       "      <td>0</td>\n",
       "    </tr>\n",
       "    <tr>\n",
       "      <th>4</th>\n",
       "      <td>5</td>\n",
       "      <td>Female</td>\n",
       "      <td>29</td>\n",
       "      <td>1</td>\n",
       "      <td>41.0</td>\n",
       "      <td>1</td>\n",
       "      <td>&lt; 1 Year</td>\n",
       "      <td>No</td>\n",
       "      <td>27496.0</td>\n",
       "      <td>152.0</td>\n",
       "      <td>39</td>\n",
       "      <td>0</td>\n",
       "    </tr>\n",
       "  </tbody>\n",
       "</table>\n",
       "</div>"
      ],
      "text/plain": [
       "   id  Gender  Age  Driving_License  Region_Code  Previously_Insured  \\\n",
       "0   1    Male   44                1         28.0                   0   \n",
       "1   2    Male   76                1          3.0                   0   \n",
       "2   3    Male   47                1         28.0                   0   \n",
       "3   4    Male   21                1         11.0                   1   \n",
       "4   5  Female   29                1         41.0                   1   \n",
       "\n",
       "  Vehicle_Age Vehicle_Damage  Annual_Premium  Policy_Sales_Channel  Vintage  \\\n",
       "0   > 2 Years            Yes         40454.0                  26.0      217   \n",
       "1    1-2 Year             No         33536.0                  26.0      183   \n",
       "2   > 2 Years            Yes         38294.0                  26.0       27   \n",
       "3    < 1 Year             No         28619.0                 152.0      203   \n",
       "4    < 1 Year             No         27496.0                 152.0       39   \n",
       "\n",
       "   Response  \n",
       "0         1  \n",
       "1         0  \n",
       "2         1  \n",
       "3         0  \n",
       "4         0  "
      ]
     },
     "execution_count": 6,
     "metadata": {},
     "output_type": "execute_result"
    }
   ],
   "source": [
    "df.head()"
   ]
  },
  {
   "cell_type": "markdown",
   "id": "f6ea5b32",
   "metadata": {},
   "source": [
    "Gender, Vehicle_Age, Vehicle_Damage precisam ser transformados para que possam haver estudos de correlação"
   ]
  },
  {
   "cell_type": "markdown",
   "id": "ac06277a",
   "metadata": {},
   "source": [
    "##### 2.1.4 Changing Interesting datatypes"
   ]
  },
  {
   "cell_type": "code",
   "execution_count": 7,
   "id": "ea717c09",
   "metadata": {
    "ExecuteTime": {
     "end_time": "2022-04-30T13:48:21.072571Z",
     "start_time": "2022-04-30T13:48:20.870751Z"
    }
   },
   "outputs": [],
   "source": [
    "le_gender = LabelEncoder().fit(df['Gender'])\n",
    "df['Gender_'] = le_gender.transform(df['Gender'])\n",
    "\n",
    "le_vehicle_damage = LabelEncoder().fit(df['Vehicle_Damage'])\n",
    "df['Vehicle_Damage_'] = le_vehicle_damage.transform(df['Vehicle_Damage'])\n",
    "\n",
    "le_vehicle_age = LabelEncoder().fit(df['Vehicle_Age'])\n",
    "df['Vehicle_Age_'] = le_vehicle_age.transform(df['Vehicle_Age'])"
   ]
  },
  {
   "cell_type": "markdown",
   "id": "7c8e6df5",
   "metadata": {},
   "source": [
    "##### 2.1.5 Segregating feature types"
   ]
  },
  {
   "cell_type": "code",
   "execution_count": 8,
   "id": "da5eddb4",
   "metadata": {
    "ExecuteTime": {
     "end_time": "2022-04-30T13:48:21.088516Z",
     "start_time": "2022-04-30T13:48:21.074561Z"
    }
   },
   "outputs": [],
   "source": [
    "features_id = ['id']\n",
    "features_string = ['Gender', 'Vehicle_Damage', 'Vehicle_Age']\n",
    "features_categóricas = ['Gender_', 'Vehicle_Damage_', 'Vehicle_Age_', 'Driving_License', 'Region_Code', 'Previously_Insured', 'Policy_Sales_Channel', 'Vintage']\n",
    "features_numéricas = ['Age', 'Annual_Premium']\n",
    "target = ['Response']"
   ]
  },
  {
   "cell_type": "markdown",
   "id": "5edbf76a",
   "metadata": {},
   "source": [
    "##### 2.1.6 Check NaN values"
   ]
  },
  {
   "cell_type": "code",
   "execution_count": 9,
   "id": "4169e7ec",
   "metadata": {
    "ExecuteTime": {
     "end_time": "2022-04-30T13:48:21.213219Z",
     "start_time": "2022-04-30T13:48:21.090514Z"
    },
    "colab": {
     "base_uri": "https://localhost:8080/"
    },
    "id": "MI1tbVODqV7w",
    "outputId": "531330d8-401f-473c-ad80-247536756b93",
    "scrolled": true
   },
   "outputs": [
    {
     "data": {
      "text/plain": [
       "id                      0\n",
       "Gender                  0\n",
       "Age                     0\n",
       "Driving_License         0\n",
       "Region_Code             0\n",
       "Previously_Insured      0\n",
       "Vehicle_Age             0\n",
       "Vehicle_Damage          0\n",
       "Annual_Premium          0\n",
       "Policy_Sales_Channel    0\n",
       "Vintage                 0\n",
       "Response                0\n",
       "Gender_                 0\n",
       "Vehicle_Damage_         0\n",
       "Vehicle_Age_            0\n",
       "dtype: int64"
      ]
     },
     "execution_count": 9,
     "metadata": {},
     "output_type": "execute_result"
    }
   ],
   "source": [
    "df.isna().sum()"
   ]
  },
  {
   "cell_type": "markdown",
   "id": "59d2d673",
   "metadata": {
    "id": "XRMPolchqY1f"
   },
   "source": [
    "Sem valores nulos"
   ]
  },
  {
   "cell_type": "markdown",
   "id": "4437ccc8",
   "metadata": {},
   "source": [
    "## 2.2 Descriptive Statistics"
   ]
  },
  {
   "cell_type": "markdown",
   "id": "016a9b27",
   "metadata": {},
   "source": [
    "### 2.2.1 Target"
   ]
  },
  {
   "cell_type": "code",
   "execution_count": 10,
   "id": "33666982",
   "metadata": {
    "ExecuteTime": {
     "end_time": "2022-04-30T13:48:21.228255Z",
     "start_time": "2022-04-30T13:48:21.220752Z"
    }
   },
   "outputs": [
    {
     "name": "stdout",
     "output_type": "stream",
     "text": [
      "A porcentagem de interessados no produto é: 12.0 %\n"
     ]
    }
   ],
   "source": [
    "print(f'A porcentagem de interessados no produto é: {round(df[\"Response\"].mean(), 2) * 100} %')"
   ]
  },
  {
   "cell_type": "markdown",
   "id": "1dd6a697",
   "metadata": {},
   "source": [
    "Desbalanceada"
   ]
  },
  {
   "cell_type": "markdown",
   "id": "87762e11",
   "metadata": {},
   "source": [
    "### 2.2.2 Numerical Features"
   ]
  },
  {
   "cell_type": "code",
   "execution_count": 11,
   "id": "c51d0503",
   "metadata": {
    "ExecuteTime": {
     "end_time": "2022-04-30T13:48:21.305410Z",
     "start_time": "2022-04-30T13:48:21.231565Z"
    },
    "colab": {
     "base_uri": "https://localhost:8080/",
     "height": 0
    },
    "id": "R3zqwAqNtq0t",
    "outputId": "74ae0af1-3205-4f40-f697-53ba371ecfd9",
    "scrolled": false
   },
   "outputs": [
    {
     "data": {
      "text/html": [
       "<div>\n",
       "<style scoped>\n",
       "    .dataframe tbody tr th:only-of-type {\n",
       "        vertical-align: middle;\n",
       "    }\n",
       "\n",
       "    .dataframe tbody tr th {\n",
       "        vertical-align: top;\n",
       "    }\n",
       "\n",
       "    .dataframe thead th {\n",
       "        text-align: right;\n",
       "    }\n",
       "</style>\n",
       "<table border=\"1\" class=\"dataframe\">\n",
       "  <thead>\n",
       "    <tr style=\"text-align: right;\">\n",
       "      <th></th>\n",
       "      <th>Age</th>\n",
       "      <th>Annual_Premium</th>\n",
       "    </tr>\n",
       "  </thead>\n",
       "  <tbody>\n",
       "    <tr>\n",
       "      <th>count</th>\n",
       "      <td>342998.000000</td>\n",
       "      <td>342998.000000</td>\n",
       "    </tr>\n",
       "    <tr>\n",
       "      <th>mean</th>\n",
       "      <td>38.816777</td>\n",
       "      <td>30578.060817</td>\n",
       "    </tr>\n",
       "    <tr>\n",
       "      <th>std</th>\n",
       "      <td>15.508080</td>\n",
       "      <td>17231.389317</td>\n",
       "    </tr>\n",
       "    <tr>\n",
       "      <th>min</th>\n",
       "      <td>20.000000</td>\n",
       "      <td>2630.000000</td>\n",
       "    </tr>\n",
       "    <tr>\n",
       "      <th>25%</th>\n",
       "      <td>25.000000</td>\n",
       "      <td>24422.000000</td>\n",
       "    </tr>\n",
       "    <tr>\n",
       "      <th>50%</th>\n",
       "      <td>36.000000</td>\n",
       "      <td>31674.000000</td>\n",
       "    </tr>\n",
       "    <tr>\n",
       "      <th>75%</th>\n",
       "      <td>49.000000</td>\n",
       "      <td>39407.000000</td>\n",
       "    </tr>\n",
       "    <tr>\n",
       "      <th>max</th>\n",
       "      <td>85.000000</td>\n",
       "      <td>540165.000000</td>\n",
       "    </tr>\n",
       "  </tbody>\n",
       "</table>\n",
       "</div>"
      ],
      "text/plain": [
       "                 Age  Annual_Premium\n",
       "count  342998.000000   342998.000000\n",
       "mean       38.816777    30578.060817\n",
       "std        15.508080    17231.389317\n",
       "min        20.000000     2630.000000\n",
       "25%        25.000000    24422.000000\n",
       "50%        36.000000    31674.000000\n",
       "75%        49.000000    39407.000000\n",
       "max        85.000000   540165.000000"
      ]
     },
     "execution_count": 11,
     "metadata": {},
     "output_type": "execute_result"
    }
   ],
   "source": [
    "df[features_numéricas].describe()"
   ]
  },
  {
   "cell_type": "markdown",
   "id": "e6b49535",
   "metadata": {},
   "source": [
    "Range de idade entre 20 e 85 anos, sem indícios de erros de inputs, Annual_Premium com possíveis outliers"
   ]
  },
  {
   "cell_type": "code",
   "execution_count": 12,
   "id": "e397a537",
   "metadata": {
    "ExecuteTime": {
     "end_time": "2022-04-30T13:48:21.495779Z",
     "start_time": "2022-04-30T13:48:21.307406Z"
    }
   },
   "outputs": [
    {
     "data": {
      "text/html": [
       "<div>\n",
       "<style scoped>\n",
       "    .dataframe tbody tr th:only-of-type {\n",
       "        vertical-align: middle;\n",
       "    }\n",
       "\n",
       "    .dataframe tbody tr th {\n",
       "        vertical-align: top;\n",
       "    }\n",
       "\n",
       "    .dataframe thead th {\n",
       "        text-align: right;\n",
       "    }\n",
       "</style>\n",
       "<table border=\"1\" class=\"dataframe\">\n",
       "  <thead>\n",
       "    <tr style=\"text-align: right;\">\n",
       "      <th></th>\n",
       "      <th>min</th>\n",
       "      <th>max</th>\n",
       "      <th>range</th>\n",
       "      <th>mean</th>\n",
       "      <th>median</th>\n",
       "      <th>std</th>\n",
       "      <th>skew</th>\n",
       "      <th>kurtosis</th>\n",
       "    </tr>\n",
       "  </thead>\n",
       "  <tbody>\n",
       "    <tr>\n",
       "      <th>Age</th>\n",
       "      <td>20.0</td>\n",
       "      <td>85.0</td>\n",
       "      <td>65.0</td>\n",
       "      <td>38.816777</td>\n",
       "      <td>36.0</td>\n",
       "      <td>15.508058</td>\n",
       "      <td>0.672032</td>\n",
       "      <td>-0.566666</td>\n",
       "    </tr>\n",
       "    <tr>\n",
       "      <th>Annual_Premium</th>\n",
       "      <td>2630.0</td>\n",
       "      <td>540165.0</td>\n",
       "      <td>537535.0</td>\n",
       "      <td>30578.060817</td>\n",
       "      <td>31674.0</td>\n",
       "      <td>17231.364198</td>\n",
       "      <td>1.779755</td>\n",
       "      <td>33.683827</td>\n",
       "    </tr>\n",
       "  </tbody>\n",
       "</table>\n",
       "</div>"
      ],
      "text/plain": [
       "                   min       max     range          mean   median  \\\n",
       "Age               20.0      85.0      65.0     38.816777     36.0   \n",
       "Annual_Premium  2630.0  540165.0  537535.0  30578.060817  31674.0   \n",
       "\n",
       "                         std      skew   kurtosis  \n",
       "Age                15.508058  0.672032  -0.566666  \n",
       "Annual_Premium  17231.364198  1.779755  33.683827  "
      ]
     },
     "execution_count": 12,
     "metadata": {},
     "output_type": "execute_result"
    }
   ],
   "source": [
    "# Central tendency\n",
    "ct1 = pd.DataFrame(df[features_numéricas].apply(np.mean)).T\n",
    "ct2 = pd.DataFrame(df[features_numéricas].apply(np.median)).T\n",
    "\n",
    "# Dispersion\n",
    "d1 = pd.DataFrame(df[features_numéricas].apply(np.std)).T\n",
    "d2 = pd.DataFrame(df[features_numéricas].apply(min)).T\n",
    "d3 = pd.DataFrame(df[features_numéricas].apply(max)).T\n",
    "d4 = pd.DataFrame(df[features_numéricas].apply(lambda x: x.max() - x.min())).T\n",
    "d5 = pd.DataFrame(df[features_numéricas].apply(lambda x: x.skew())).T\n",
    "d6 = pd.DataFrame(df[features_numéricas].apply(lambda x: x.kurtosis())).T\n",
    "\n",
    "# Concat\n",
    "temp = pd.concat([d2, d3, d4, ct1, ct2, d1, d5, d6]).T\n",
    "temp.columns = 'min max range mean median std skew kurtosis'.split()\n",
    "temp"
   ]
  },
  {
   "cell_type": "markdown",
   "id": "f2c87200",
   "metadata": {},
   "source": [
    "1. Idade com média e mediana próximas, dados centralizados na média, skew baixa, o que reforça distribuição centralizada na média, skew pouco positiva, o que sugere cauda esquerda mais pesada, kurtosis baixa e negativa, o que sugere uma distribuição um pouco mais plana em relação a uma normal com mesma média e desvio padrão, uma distribuição próxima a uma NORMAL\n",
    "2. Prêmio Anual com média e mediana próximos, o que sugere dados centralizados na média, skew baixa e positiva, o que sugere dados centralizados na média com uma cauda esquerda mais pesada, kurtosis bastante alto, o que sugere um pico bastante elevado, uma distribuição próxima a uma POISSON"
   ]
  },
  {
   "cell_type": "markdown",
   "id": "bc1ab4c8",
   "metadata": {},
   "source": [
    "### 2.2.3 Categorical Features"
   ]
  },
  {
   "cell_type": "code",
   "execution_count": 13,
   "id": "fb174429",
   "metadata": {
    "ExecuteTime": {
     "end_time": "2022-04-30T13:48:21.623001Z",
     "start_time": "2022-04-30T13:48:21.498767Z"
    },
    "scrolled": false
   },
   "outputs": [
    {
     "data": {
      "text/html": [
       "<div>\n",
       "<style scoped>\n",
       "    .dataframe tbody tr th:only-of-type {\n",
       "        vertical-align: middle;\n",
       "    }\n",
       "\n",
       "    .dataframe tbody tr th {\n",
       "        vertical-align: top;\n",
       "    }\n",
       "\n",
       "    .dataframe thead th {\n",
       "        text-align: right;\n",
       "    }\n",
       "</style>\n",
       "<table border=\"1\" class=\"dataframe\">\n",
       "  <thead>\n",
       "    <tr style=\"text-align: right;\">\n",
       "      <th></th>\n",
       "      <th>count</th>\n",
       "      <th>unique</th>\n",
       "      <th>top</th>\n",
       "      <th>freq</th>\n",
       "    </tr>\n",
       "  </thead>\n",
       "  <tbody>\n",
       "    <tr>\n",
       "      <th>Gender_</th>\n",
       "      <td>342998.0</td>\n",
       "      <td>2.0</td>\n",
       "      <td>1.0</td>\n",
       "      <td>185621.0</td>\n",
       "    </tr>\n",
       "    <tr>\n",
       "      <th>Vehicle_Damage_</th>\n",
       "      <td>342998.0</td>\n",
       "      <td>2.0</td>\n",
       "      <td>1.0</td>\n",
       "      <td>173205.0</td>\n",
       "    </tr>\n",
       "    <tr>\n",
       "      <th>Vehicle_Age_</th>\n",
       "      <td>342998.0</td>\n",
       "      <td>3.0</td>\n",
       "      <td>0.0</td>\n",
       "      <td>180136.0</td>\n",
       "    </tr>\n",
       "    <tr>\n",
       "      <th>Driving_License</th>\n",
       "      <td>342998.0</td>\n",
       "      <td>2.0</td>\n",
       "      <td>1.0</td>\n",
       "      <td>342276.0</td>\n",
       "    </tr>\n",
       "    <tr>\n",
       "      <th>Region_Code</th>\n",
       "      <td>342998.0</td>\n",
       "      <td>53.0</td>\n",
       "      <td>28.0</td>\n",
       "      <td>95824.0</td>\n",
       "    </tr>\n",
       "    <tr>\n",
       "      <th>Previously_Insured</th>\n",
       "      <td>342998.0</td>\n",
       "      <td>2.0</td>\n",
       "      <td>0.0</td>\n",
       "      <td>185807.0</td>\n",
       "    </tr>\n",
       "    <tr>\n",
       "      <th>Policy_Sales_Channel</th>\n",
       "      <td>342998.0</td>\n",
       "      <td>152.0</td>\n",
       "      <td>152.0</td>\n",
       "      <td>121266.0</td>\n",
       "    </tr>\n",
       "    <tr>\n",
       "      <th>Vintage</th>\n",
       "      <td>342998.0</td>\n",
       "      <td>290.0</td>\n",
       "      <td>158.0</td>\n",
       "      <td>1268.0</td>\n",
       "    </tr>\n",
       "  </tbody>\n",
       "</table>\n",
       "</div>"
      ],
      "text/plain": [
       "                         count  unique    top      freq\n",
       "Gender_               342998.0     2.0    1.0  185621.0\n",
       "Vehicle_Damage_       342998.0     2.0    1.0  173205.0\n",
       "Vehicle_Age_          342998.0     3.0    0.0  180136.0\n",
       "Driving_License       342998.0     2.0    1.0  342276.0\n",
       "Region_Code           342998.0    53.0   28.0   95824.0\n",
       "Previously_Insured    342998.0     2.0    0.0  185807.0\n",
       "Policy_Sales_Channel  342998.0   152.0  152.0  121266.0\n",
       "Vintage               342998.0   290.0  158.0    1268.0"
      ]
     },
     "execution_count": 13,
     "metadata": {},
     "output_type": "execute_result"
    }
   ],
   "source": [
    "df[features_categóricas].astype('category').describe().T"
   ]
  },
  {
   "cell_type": "markdown",
   "id": "13942d5c",
   "metadata": {},
   "source": [
    "Sexo relativamente balanceado com a maioria de mulheres, maior parte dos clientes possuem veículos com menos de 1 ano, maior parte dos clientes já teve danos em seu veículo, habilitação para dirigir balanceado, há 53 regiões diferentes e por volta de 30% dos clientes estão contidos na região 28, um pouco mais que 50% dos clientes não possuem seguro veicular, há 157 canais de vendas, e por volta de 35% dos clientes estão contidos no canal 152."
   ]
  },
  {
   "cell_type": "markdown",
   "id": "7bff2fa9",
   "metadata": {
    "id": "lpsQdPJVSjpi"
   },
   "source": [
    "# 3.0 Feature Engineering"
   ]
  },
  {
   "cell_type": "markdown",
   "id": "3acc405b",
   "metadata": {
    "id": "jEjwlIBJTDv5"
   },
   "source": [
    "###### 3.1 Policy_Sales_Channel Response Mean"
   ]
  },
  {
   "cell_type": "code",
   "execution_count": 14,
   "id": "771287cd",
   "metadata": {
    "ExecuteTime": {
     "end_time": "2022-04-30T13:48:21.669820Z",
     "start_time": "2022-04-30T13:48:21.624995Z"
    }
   },
   "outputs": [],
   "source": [
    "group = df[['Policy_Sales_Channel', 'Response']].groupby('Policy_Sales_Channel').agg({'Response':'mean'})\n",
    "map_policy_sales_channel_response_mean = group.to_dict()['Response']\n",
    "df['Policy_Sales_Channel_Response_Mean'] = df['Policy_Sales_Channel'].map(map_policy_sales_channel_response_mean)"
   ]
  },
  {
   "cell_type": "code",
   "execution_count": 15,
   "id": "bb649ddf",
   "metadata": {
    "ExecuteTime": {
     "end_time": "2022-04-30T13:48:21.860540Z",
     "start_time": "2022-04-30T13:48:21.671774Z"
    },
    "colab": {
     "base_uri": "https://localhost:8080/",
     "height": 0
    },
    "id": "ewm2nBrHZaU9",
    "outputId": "96c811f7-3c03-4c02-ef47-a014c62a4eaa"
   },
   "outputs": [
    {
     "data": {
      "text/plain": [
       "Age                     0.638581\n",
       "Vehicle_Damage_         0.435632\n",
       "Response                0.264121\n",
       "Gender_                 0.169148\n",
       "Region_Code             0.027987\n",
       "id                      0.000745\n",
       "Annual_Premium          0.000589\n",
       "Vintage                -0.002585\n",
       "Driving_License        -0.033167\n",
       "Previously_Insured     -0.418578\n",
       "Policy_Sales_Channel   -0.530596\n",
       "Vehicle_Age_           -0.573135\n",
       "Name: Policy_Sales_Channel_Response_Mean, dtype: float64"
      ]
     },
     "execution_count": 15,
     "metadata": {},
     "output_type": "execute_result"
    }
   ],
   "source": [
    "df.corr()['Policy_Sales_Channel_Response_Mean'].sort_values(ascending=False)[1:]"
   ]
  },
  {
   "cell_type": "markdown",
   "id": "62e91140",
   "metadata": {},
   "source": [
    "Correlações fortes com Age, correlações moderadas com Vehicle_Damage, Vehicle_Age, Previously_Insured, correlação fraca com Response"
   ]
  },
  {
   "cell_type": "markdown",
   "id": "fbd55ef4",
   "metadata": {
    "id": "OILqb1MCu5Q1"
   },
   "source": [
    "###### 3.2 Region_Code Response Mean"
   ]
  },
  {
   "cell_type": "code",
   "execution_count": 16,
   "id": "d9cbc3c8",
   "metadata": {
    "ExecuteTime": {
     "end_time": "2022-04-30T13:48:21.900990Z",
     "start_time": "2022-04-30T13:48:21.862257Z"
    },
    "id": "kYkrXTVzu5RY"
   },
   "outputs": [],
   "source": [
    "group = df[['Region_Code', 'Response']].groupby('Region_Code').agg({'Response':'mean'})\n",
    "map_region_code_response_mean = group.to_dict()['Response']\n",
    "df['Region_Code_Response_Mean'] = df['Region_Code'].map(map_region_code_response_mean)"
   ]
  },
  {
   "cell_type": "code",
   "execution_count": 17,
   "id": "8f2c08ee",
   "metadata": {
    "ExecuteTime": {
     "end_time": "2022-04-30T13:48:22.121979Z",
     "start_time": "2022-04-30T13:48:21.904094Z"
    },
    "colab": {
     "base_uri": "https://localhost:8080/",
     "height": 0
    },
    "id": "V9DLPohLZqlS",
    "outputId": "b8f627fd-babc-434d-ccf2-821bf24661b9"
   },
   "outputs": [
    {
     "data": {
      "text/plain": [
       "Policy_Sales_Channel_Response_Mean    0.373854\n",
       "Age                                   0.316421\n",
       "Annual_Premium                        0.250434\n",
       "Vehicle_Damage_                       0.196153\n",
       "Response                              0.138770\n",
       "Region_Code                           0.080719\n",
       "Gender_                               0.042989\n",
       "Vintage                               0.000327\n",
       "id                                   -0.001998\n",
       "Driving_License                      -0.016770\n",
       "Previously_Insured                   -0.180282\n",
       "Vehicle_Age_                         -0.207109\n",
       "Policy_Sales_Channel                 -0.286261\n",
       "Name: Region_Code_Response_Mean, dtype: float64"
      ]
     },
     "execution_count": 17,
     "metadata": {},
     "output_type": "execute_result"
    }
   ],
   "source": [
    "df.corr()['Region_Code_Response_Mean'].sort_values(ascending=False)[1:]"
   ]
  },
  {
   "cell_type": "markdown",
   "id": "7ec45acd",
   "metadata": {
    "id": "-DfKrpMLaMa4"
   },
   "source": [
    "Correlações fracas com Age, Annual_Premium, Policy_Sales_Channel e Vehicle_Age"
   ]
  },
  {
   "cell_type": "markdown",
   "id": "ae166cbe",
   "metadata": {},
   "source": [
    "###### 3.3 High_Age"
   ]
  },
  {
   "cell_type": "code",
   "execution_count": 18,
   "id": "c04c7605",
   "metadata": {
    "ExecuteTime": {
     "end_time": "2022-04-30T13:48:22.153110Z",
     "start_time": "2022-04-30T13:48:22.125897Z"
    }
   },
   "outputs": [],
   "source": [
    "df.loc[df['Age']<30, 'High_Age'] = 0\n",
    "df['High_Age'].fillna(1, inplace=True)"
   ]
  },
  {
   "cell_type": "markdown",
   "id": "d05668c5",
   "metadata": {},
   "source": [
    "###### 3.4 Log_Annual_Premium"
   ]
  },
  {
   "cell_type": "code",
   "execution_count": 19,
   "id": "1bbfcc2d",
   "metadata": {
    "ExecuteTime": {
     "end_time": "2022-04-30T13:48:22.169111Z",
     "start_time": "2022-04-30T13:48:22.155141Z"
    }
   },
   "outputs": [],
   "source": [
    "df['Log_Annual_Premium'] = np.log1p(df['Annual_Premium'])"
   ]
  },
  {
   "cell_type": "markdown",
   "id": "0642ef14",
   "metadata": {},
   "source": [
    "###### 3.5 Annual_Premium_Variated"
   ]
  },
  {
   "cell_type": "code",
   "execution_count": 20,
   "id": "27c97710",
   "metadata": {
    "ExecuteTime": {
     "end_time": "2022-04-30T13:48:22.199976Z",
     "start_time": "2022-04-30T13:48:22.171052Z"
    }
   },
   "outputs": [],
   "source": [
    "df.loc[df['Annual_Premium']==2630, 'Annual_Premium_Variated'] = 0\n",
    "df['Annual_Premium_Variated'].fillna(1, inplace=True)"
   ]
  },
  {
   "cell_type": "markdown",
   "id": "617031eb",
   "metadata": {},
   "source": [
    "Feature **Annual_Premium_Variated** não contribuiu com o modelo e foi removida posteriormente"
   ]
  },
  {
   "cell_type": "markdown",
   "id": "9241ff6b",
   "metadata": {},
   "source": [
    "###### 3.6 High_Annual_Premium"
   ]
  },
  {
   "cell_type": "code",
   "execution_count": 21,
   "id": "4d662442",
   "metadata": {
    "ExecuteTime": {
     "end_time": "2022-04-30T13:48:22.247419Z",
     "start_time": "2022-04-30T13:48:22.204017Z"
    }
   },
   "outputs": [],
   "source": [
    "temp = np.percentile(df.loc[df['Annual_Premium_Variated']==1, 'Annual_Premium'], 75)\n",
    "df.loc[df['Annual_Premium']>= temp, 'High_Annual_Premium'] = 1\n",
    "df['High_Annual_Premium'].fillna(0, inplace=True)"
   ]
  },
  {
   "cell_type": "markdown",
   "id": "850ae355",
   "metadata": {},
   "source": [
    "Feature **High_Annual_Premium** não contribuiu com o modelo e foi removida posteriormente"
   ]
  },
  {
   "cell_type": "markdown",
   "id": "5cb08836",
   "metadata": {},
   "source": [
    "# 4.0 Business Hypothesis"
   ]
  },
  {
   "cell_type": "code",
   "execution_count": 22,
   "id": "204ad582",
   "metadata": {
    "ExecuteTime": {
     "end_time": "2022-04-30T13:48:22.595304Z",
     "start_time": "2022-04-30T13:48:22.248894Z"
    }
   },
   "outputs": [
    {
     "ename": "FileNotFoundError",
     "evalue": "No such file or directory: 'D:\\My Drive\\Pessoal\\Projetos\\insurance_sales_predict\\insurance_sales_predict\\mindmap_hypotheis.png'",
     "output_type": "error",
     "traceback": [
      "\u001b[1;31m---------------------------------------------------------------------------\u001b[0m",
      "\u001b[1;31mTypeError\u001b[0m                                 Traceback (most recent call last)",
      "File \u001b[1;32mD:\\My Drive\\Pessoal\\Projetos\\environments\\data_science\\lib\\site-packages\\IPython\\core\\display.py:1032\u001b[0m, in \u001b[0;36mImage._data_and_metadata\u001b[1;34m(self, always_both)\u001b[0m\n\u001b[0;32m   1031\u001b[0m \u001b[38;5;28;01mtry\u001b[39;00m:\n\u001b[1;32m-> 1032\u001b[0m     b64_data \u001b[38;5;241m=\u001b[39m \u001b[43mb2a_base64\u001b[49m\u001b[43m(\u001b[49m\u001b[38;5;28;43mself\u001b[39;49m\u001b[38;5;241;43m.\u001b[39;49m\u001b[43mdata\u001b[49m\u001b[43m)\u001b[49m\u001b[38;5;241m.\u001b[39mdecode(\u001b[38;5;124m'\u001b[39m\u001b[38;5;124mascii\u001b[39m\u001b[38;5;124m'\u001b[39m)\n\u001b[0;32m   1033\u001b[0m \u001b[38;5;28;01mexcept\u001b[39;00m \u001b[38;5;167;01mTypeError\u001b[39;00m \u001b[38;5;28;01mas\u001b[39;00m e:\n",
      "\u001b[1;31mTypeError\u001b[0m: a bytes-like object is required, not 'str'",
      "\nThe above exception was the direct cause of the following exception:\n",
      "\u001b[1;31mFileNotFoundError\u001b[0m                         Traceback (most recent call last)",
      "File \u001b[1;32mD:\\My Drive\\Pessoal\\Projetos\\environments\\data_science\\lib\\site-packages\\IPython\\core\\formatters.py:973\u001b[0m, in \u001b[0;36mMimeBundleFormatter.__call__\u001b[1;34m(self, obj, include, exclude)\u001b[0m\n\u001b[0;32m    970\u001b[0m     method \u001b[38;5;241m=\u001b[39m get_real_method(obj, \u001b[38;5;28mself\u001b[39m\u001b[38;5;241m.\u001b[39mprint_method)\n\u001b[0;32m    972\u001b[0m     \u001b[38;5;28;01mif\u001b[39;00m method \u001b[38;5;129;01mis\u001b[39;00m \u001b[38;5;129;01mnot\u001b[39;00m \u001b[38;5;28;01mNone\u001b[39;00m:\n\u001b[1;32m--> 973\u001b[0m         \u001b[38;5;28;01mreturn\u001b[39;00m \u001b[43mmethod\u001b[49m\u001b[43m(\u001b[49m\u001b[43minclude\u001b[49m\u001b[38;5;241;43m=\u001b[39;49m\u001b[43minclude\u001b[49m\u001b[43m,\u001b[49m\u001b[43m \u001b[49m\u001b[43mexclude\u001b[49m\u001b[38;5;241;43m=\u001b[39;49m\u001b[43mexclude\u001b[49m\u001b[43m)\u001b[49m\n\u001b[0;32m    974\u001b[0m     \u001b[38;5;28;01mreturn\u001b[39;00m \u001b[38;5;28;01mNone\u001b[39;00m\n\u001b[0;32m    975\u001b[0m \u001b[38;5;28;01melse\u001b[39;00m:\n",
      "File \u001b[1;32mD:\\My Drive\\Pessoal\\Projetos\\environments\\data_science\\lib\\site-packages\\IPython\\core\\display.py:1022\u001b[0m, in \u001b[0;36mImage._repr_mimebundle_\u001b[1;34m(self, include, exclude)\u001b[0m\n\u001b[0;32m   1020\u001b[0m \u001b[38;5;28;01mif\u001b[39;00m \u001b[38;5;28mself\u001b[39m\u001b[38;5;241m.\u001b[39membed:\n\u001b[0;32m   1021\u001b[0m     mimetype \u001b[38;5;241m=\u001b[39m \u001b[38;5;28mself\u001b[39m\u001b[38;5;241m.\u001b[39m_mimetype\n\u001b[1;32m-> 1022\u001b[0m     data, metadata \u001b[38;5;241m=\u001b[39m \u001b[38;5;28;43mself\u001b[39;49m\u001b[38;5;241;43m.\u001b[39;49m\u001b[43m_data_and_metadata\u001b[49m\u001b[43m(\u001b[49m\u001b[43malways_both\u001b[49m\u001b[38;5;241;43m=\u001b[39;49m\u001b[38;5;28;43;01mTrue\u001b[39;49;00m\u001b[43m)\u001b[49m\n\u001b[0;32m   1023\u001b[0m     \u001b[38;5;28;01mif\u001b[39;00m metadata:\n\u001b[0;32m   1024\u001b[0m         metadata \u001b[38;5;241m=\u001b[39m {mimetype: metadata}\n",
      "File \u001b[1;32mD:\\My Drive\\Pessoal\\Projetos\\environments\\data_science\\lib\\site-packages\\IPython\\core\\display.py:1034\u001b[0m, in \u001b[0;36mImage._data_and_metadata\u001b[1;34m(self, always_both)\u001b[0m\n\u001b[0;32m   1032\u001b[0m     b64_data \u001b[38;5;241m=\u001b[39m b2a_base64(\u001b[38;5;28mself\u001b[39m\u001b[38;5;241m.\u001b[39mdata)\u001b[38;5;241m.\u001b[39mdecode(\u001b[38;5;124m'\u001b[39m\u001b[38;5;124mascii\u001b[39m\u001b[38;5;124m'\u001b[39m)\n\u001b[0;32m   1033\u001b[0m \u001b[38;5;28;01mexcept\u001b[39;00m \u001b[38;5;167;01mTypeError\u001b[39;00m \u001b[38;5;28;01mas\u001b[39;00m e:\n\u001b[1;32m-> 1034\u001b[0m     \u001b[38;5;28;01mraise\u001b[39;00m \u001b[38;5;167;01mFileNotFoundError\u001b[39;00m(\n\u001b[0;32m   1035\u001b[0m         \u001b[38;5;124m\"\u001b[39m\u001b[38;5;124mNo such file or directory: \u001b[39m\u001b[38;5;124m'\u001b[39m\u001b[38;5;132;01m%s\u001b[39;00m\u001b[38;5;124m'\u001b[39m\u001b[38;5;124m\"\u001b[39m \u001b[38;5;241m%\u001b[39m (\u001b[38;5;28mself\u001b[39m\u001b[38;5;241m.\u001b[39mdata)) \u001b[38;5;28;01mfrom\u001b[39;00m \u001b[38;5;21;01me\u001b[39;00m\n\u001b[0;32m   1036\u001b[0m md \u001b[38;5;241m=\u001b[39m {}\n\u001b[0;32m   1037\u001b[0m \u001b[38;5;28;01mif\u001b[39;00m \u001b[38;5;28mself\u001b[39m\u001b[38;5;241m.\u001b[39mmetadata:\n",
      "\u001b[1;31mFileNotFoundError\u001b[0m: No such file or directory: 'D:\\My Drive\\Pessoal\\Projetos\\insurance_sales_predict\\insurance_sales_predict\\mindmap_hypotheis.png'"
     ]
    },
    {
     "ename": "FileNotFoundError",
     "evalue": "No such file or directory: 'D:\\My Drive\\Pessoal\\Projetos\\insurance_sales_predict\\insurance_sales_predict\\mindmap_hypotheis.png'",
     "output_type": "error",
     "traceback": [
      "\u001b[1;31m---------------------------------------------------------------------------\u001b[0m",
      "\u001b[1;31mTypeError\u001b[0m                                 Traceback (most recent call last)",
      "File \u001b[1;32mD:\\My Drive\\Pessoal\\Projetos\\environments\\data_science\\lib\\site-packages\\IPython\\core\\display.py:1032\u001b[0m, in \u001b[0;36mImage._data_and_metadata\u001b[1;34m(self, always_both)\u001b[0m\n\u001b[0;32m   1031\u001b[0m \u001b[38;5;28;01mtry\u001b[39;00m:\n\u001b[1;32m-> 1032\u001b[0m     b64_data \u001b[38;5;241m=\u001b[39m \u001b[43mb2a_base64\u001b[49m\u001b[43m(\u001b[49m\u001b[38;5;28;43mself\u001b[39;49m\u001b[38;5;241;43m.\u001b[39;49m\u001b[43mdata\u001b[49m\u001b[43m)\u001b[49m\u001b[38;5;241m.\u001b[39mdecode(\u001b[38;5;124m'\u001b[39m\u001b[38;5;124mascii\u001b[39m\u001b[38;5;124m'\u001b[39m)\n\u001b[0;32m   1033\u001b[0m \u001b[38;5;28;01mexcept\u001b[39;00m \u001b[38;5;167;01mTypeError\u001b[39;00m \u001b[38;5;28;01mas\u001b[39;00m e:\n",
      "\u001b[1;31mTypeError\u001b[0m: a bytes-like object is required, not 'str'",
      "\nThe above exception was the direct cause of the following exception:\n",
      "\u001b[1;31mFileNotFoundError\u001b[0m                         Traceback (most recent call last)",
      "File \u001b[1;32mD:\\My Drive\\Pessoal\\Projetos\\environments\\data_science\\lib\\site-packages\\IPython\\core\\formatters.py:343\u001b[0m, in \u001b[0;36mBaseFormatter.__call__\u001b[1;34m(self, obj)\u001b[0m\n\u001b[0;32m    341\u001b[0m     method \u001b[38;5;241m=\u001b[39m get_real_method(obj, \u001b[38;5;28mself\u001b[39m\u001b[38;5;241m.\u001b[39mprint_method)\n\u001b[0;32m    342\u001b[0m     \u001b[38;5;28;01mif\u001b[39;00m method \u001b[38;5;129;01mis\u001b[39;00m \u001b[38;5;129;01mnot\u001b[39;00m \u001b[38;5;28;01mNone\u001b[39;00m:\n\u001b[1;32m--> 343\u001b[0m         \u001b[38;5;28;01mreturn\u001b[39;00m \u001b[43mmethod\u001b[49m\u001b[43m(\u001b[49m\u001b[43m)\u001b[49m\n\u001b[0;32m    344\u001b[0m     \u001b[38;5;28;01mreturn\u001b[39;00m \u001b[38;5;28;01mNone\u001b[39;00m\n\u001b[0;32m    345\u001b[0m \u001b[38;5;28;01melse\u001b[39;00m:\n",
      "File \u001b[1;32mD:\\My Drive\\Pessoal\\Projetos\\environments\\data_science\\lib\\site-packages\\IPython\\core\\display.py:1054\u001b[0m, in \u001b[0;36mImage._repr_png_\u001b[1;34m(self)\u001b[0m\n\u001b[0;32m   1052\u001b[0m \u001b[38;5;28;01mdef\u001b[39;00m \u001b[38;5;21m_repr_png_\u001b[39m(\u001b[38;5;28mself\u001b[39m):\n\u001b[0;32m   1053\u001b[0m     \u001b[38;5;28;01mif\u001b[39;00m \u001b[38;5;28mself\u001b[39m\u001b[38;5;241m.\u001b[39membed \u001b[38;5;129;01mand\u001b[39;00m \u001b[38;5;28mself\u001b[39m\u001b[38;5;241m.\u001b[39mformat \u001b[38;5;241m==\u001b[39m \u001b[38;5;28mself\u001b[39m\u001b[38;5;241m.\u001b[39m_FMT_PNG:\n\u001b[1;32m-> 1054\u001b[0m         \u001b[38;5;28;01mreturn\u001b[39;00m \u001b[38;5;28;43mself\u001b[39;49m\u001b[38;5;241;43m.\u001b[39;49m\u001b[43m_data_and_metadata\u001b[49m\u001b[43m(\u001b[49m\u001b[43m)\u001b[49m\n",
      "File \u001b[1;32mD:\\My Drive\\Pessoal\\Projetos\\environments\\data_science\\lib\\site-packages\\IPython\\core\\display.py:1034\u001b[0m, in \u001b[0;36mImage._data_and_metadata\u001b[1;34m(self, always_both)\u001b[0m\n\u001b[0;32m   1032\u001b[0m     b64_data \u001b[38;5;241m=\u001b[39m b2a_base64(\u001b[38;5;28mself\u001b[39m\u001b[38;5;241m.\u001b[39mdata)\u001b[38;5;241m.\u001b[39mdecode(\u001b[38;5;124m'\u001b[39m\u001b[38;5;124mascii\u001b[39m\u001b[38;5;124m'\u001b[39m)\n\u001b[0;32m   1033\u001b[0m \u001b[38;5;28;01mexcept\u001b[39;00m \u001b[38;5;167;01mTypeError\u001b[39;00m \u001b[38;5;28;01mas\u001b[39;00m e:\n\u001b[1;32m-> 1034\u001b[0m     \u001b[38;5;28;01mraise\u001b[39;00m \u001b[38;5;167;01mFileNotFoundError\u001b[39;00m(\n\u001b[0;32m   1035\u001b[0m         \u001b[38;5;124m\"\u001b[39m\u001b[38;5;124mNo such file or directory: \u001b[39m\u001b[38;5;124m'\u001b[39m\u001b[38;5;132;01m%s\u001b[39;00m\u001b[38;5;124m'\u001b[39m\u001b[38;5;124m\"\u001b[39m \u001b[38;5;241m%\u001b[39m (\u001b[38;5;28mself\u001b[39m\u001b[38;5;241m.\u001b[39mdata)) \u001b[38;5;28;01mfrom\u001b[39;00m \u001b[38;5;21;01me\u001b[39;00m\n\u001b[0;32m   1036\u001b[0m md \u001b[38;5;241m=\u001b[39m {}\n\u001b[0;32m   1037\u001b[0m \u001b[38;5;28;01mif\u001b[39;00m \u001b[38;5;28mself\u001b[39m\u001b[38;5;241m.\u001b[39mmetadata:\n",
      "\u001b[1;31mFileNotFoundError\u001b[0m: No such file or directory: 'D:\\My Drive\\Pessoal\\Projetos\\insurance_sales_predict\\insurance_sales_predict\\mindmap_hypotheis.png'"
     ]
    },
    {
     "data": {
      "text/plain": [
       "<IPython.core.display.Image object>"
      ]
     },
     "execution_count": 22,
     "metadata": {},
     "output_type": "execute_result"
    }
   ],
   "source": [
    "Image('D:\\\\My Drive\\\\Pessoal\\\\Projetos\\\\insurance_sales_predict\\\\insurance_sales_predict\\\\mindmap_hypotheis.png')"
   ]
  },
  {
   "cell_type": "markdown",
   "id": "679543c3",
   "metadata": {},
   "source": [
    "###### Corretora:\n",
    "1. Contatos mais diretos com os clientes deveriam gerar mais vendas\n",
    "\n",
    "###### Clientes:\n",
    "1. Clientes localizados em regiões mais populosas deveriam comprar mais\n",
    "2. Clientes do gênero feminino deveriam comprar mais\n",
    "3. Clientes mais velhos deveriam comprar mais\n",
    "\n",
    "###### Seguro de Vida:\n",
    "1. Contas de Seguro de Vida com valores mais altos deveriam gerar mais vendas\n",
    "2. Contas com tempo de aquisição vigente maior deveriam gerar mais vendas\n",
    "\n",
    "###### Relação do Cliente com o Automóvel:\n",
    "1. Clientes que já acionaram o seguro no passado deveriam comprar mais\n",
    "2. Clientes com veículos mais novos deveriam comprar mais\n",
    "3. Clientes que não possuem seguro de automóvel deveriam comprara mais.\n",
    "4. Clientes habilitados deveriam comprar mais."
   ]
  },
  {
   "cell_type": "markdown",
   "id": "6033b1be",
   "metadata": {},
   "source": [
    "# 5.0 Exploratory Data Analysis"
   ]
  },
  {
   "cell_type": "markdown",
   "id": "f88b72c5",
   "metadata": {},
   "source": [
    "## 5.1 Principais Insights:\n",
    "\n",
    "### Espaço Amostral\n",
    "1. 6 dimensões parecem explicar 90% de toda variabilidade das features\n",
    "2. Annual_Premium transformada por log apresenta uma shape semelhante a uma normal\n",
    "3. 4 features binárias, 2 numéricas, 1 categórica e 2 categóricas com excessivas categorias e portanto foram transformadas em numéricas.\n",
    "\n",
    "### Features Analysis\n",
    "\n",
    "###### Response:\n",
    "1. Desbalanceada com 12% de eventos positivos\n",
    "2. Correlação fraca com Vehicle_Damage e correlação fraca negativa com Previously_Insured\n",
    "\n",
    "###### Gender:\n",
    "1. Balanceada\n",
    "2. Correlações muito fracas\n",
    "3. Homens se interessam 30% mais no produto em relação às mulheres\n",
    "\n",
    "###### Vehicle_Age:\n",
    "1. Mais da metade dos clientes possuem carros com menos de 1 ano\n",
    "2. Correlação moderada negativa com Age, fraca positiva com Policy_Sales_Channel\n",
    "3. Médias de response bastante distintas\n",
    "\n",
    "###### Vehicle_Damage:\n",
    "1. Balanceada\n",
    "2. Correlação muito forte negativa com Previously_Insured, fraca negativa com Policy_Sales_Channel, fraca positiva com Response e Age\n",
    "3. Clientes que já tiveram danos no seu veículo tem 24% de response, enquanto clientes que não tiveram danos têm por volta de 1%\n",
    "\n",
    "###### Driving_License:\n",
    "1. Correlações muito fracas\n",
    "2. 99% dos clientes são habilitados\n",
    "3. Habilitados apresentam 5% de interesse no produto, não habilitados apresentam 12% de interesse no produto.\n",
    "\n",
    "###### Previously_Insured:\n",
    "1. 45% dos clientes já possuem seguro veicular\n",
    "2. Clientes que já possuem seguro têm interesse quase zero pelo produto\n",
    "3. Correlação muito forte negativa com Vehicle_Damage, fraca negativa com Response e Age, e fraca positiva com Policy_Sales_Channel\n",
    "\n",
    "###### Region_Code:\n",
    "1. 53 regiões\n",
    "2. 28% dos clientes está contido na região 28. 50% dos dados estão contidos nas 5 regiões mais numerosas\n",
    "3. A região 28 (mais importante) tem por volta de 18% de probabilidade de response, segunda melhor região, atrás apenas da região 38.\n",
    "4. As regiões com probabilidade de response mais alto estão com por volta de 19%, as regiões com probabilidades mais baixas estã em por volta de 4%\n",
    "5. Médias de response bastante distintas, com desvios padrões baixos\n",
    "\n",
    "###### Policy_Sales_Channel:\n",
    "1. Há 157 Policy_Sales_Channel e aproximadamente um terço das amostras está contido no canal 152\n",
    "2. 5 categorias contém 84.19% do total de clientes\n",
    "3. Correlação moderada negativa com Age, correlação fraca negativa com Vehicle_Damage, correlação fraca positiva com Vehicle_Age e Previously_Insured\n",
    "4. Médias de response por canais de Policy_Sales_Channel bastante distintas\n",
    "5. Os canais mais utilizados apresentam médias de response bastante diferentes da média global, os canal 152 é o mais utilizado e apresenta 2% de interesse no produto, o canal 155 apresenta 2%, já os canais 26, 124 e 156 apresentam por volta de 20% de interesse no produto\n",
    "\n",
    "###### Vintage:\n",
    "1. Feature categórica, há 290 categorias em Vintage\n",
    "\n",
    "###### Age:\n",
    "1. Range de idade de 25 até 85 anos, aparentemente sem erros de input\n",
    "2. Apresenta uma distribuição com uma certa semelhança com uma Poison, mas com uma segunda moda em um ponto próximo aos 45 anos.\n",
    "3. Sem outliers\n",
    "4. A média de idade entre os que não se interessam pelo produto é de 38 anos, e dos que se interessam é de 43 anos.\n",
    "5. Pessoas com mais de 30 anos apresentam um interesse relativamente maior pelo produto.\n",
    "6. Correlações moderadas negativas com Policy_Sales_Channel e Vehicle_Age, fraca negativa com Previously_Insured e fraca positiva com Vehicle_Damage\n",
    "7. Clientes com menos de 30 anos de idade apresentam em média 4% de interesse no produto, enquanto os clientes com 30 anos ou mais têm em média 17% interesse no produto.\n",
    "\n",
    "\n",
    "###### Annual_Premium\n",
    "1. 2799 em Annual_Premmium, não aparentam ser por conta de erros de input\n",
    "2. Há dois grupos de clientes, um com valores fixos em 2630 dollares, e outro com valores contínuos e superiores, não há diferença significativa de média de interesse no produto entre os grupos\n",
    "3. Acima do terceiro quartil da distribuição há um interesse relativo 20% maior no produto"
   ]
  },
  {
   "cell_type": "markdown",
   "id": "c3178ceb",
   "metadata": {},
   "source": [
    "## 5.2 Espaço Amostral"
   ]
  },
  {
   "cell_type": "markdown",
   "id": "7e079f1a",
   "metadata": {},
   "source": [
    "### 5.2 Principal Component Analysis"
   ]
  },
  {
   "cell_type": "code",
   "execution_count": 23,
   "id": "552dd70f",
   "metadata": {
    "ExecuteTime": {
     "end_time": "2022-04-30T13:48:23.114413Z",
     "start_time": "2022-04-30T13:48:22.598545Z"
    }
   },
   "outputs": [
    {
     "data": {
      "image/png": "[encoded data removed]",
      "text/plain": [
       "<Figure size 432x288 with 1 Axes>"
      ]
     },
     "metadata": {
      "needs_background": "light"
     },
     "output_type": "display_data"
    }
   ],
   "source": [
    "# drop irrelevant features\n",
    "temp = df.drop(['id', 'Response', 'Gender', 'Vehicle_Age', 'Vehicle_Damage', 'Vintage', 'Policy_Sales_Channel'], axis=1).dropna()\n",
    "temp = StandardScaler().fit_transform(temp)\n",
    "\n",
    "# model description end fit\n",
    "pca = PCA()\n",
    "\n",
    "# fiting model\n",
    "pca = pca.fit(temp)\n",
    "\n",
    "# ploting cumulative sum\n",
    "np.cumsum(pca.explained_variance_ratio_)\n",
    "plt.title('Variância Acumulada')\n",
    "plt.xlabel('Quantidade de features')\n",
    "plt.ylabel('Porcentagem da Variância')\n",
    "plt.plot(np.cumsum(pca.explained_variance_ratio_));"
   ]
  },
  {
   "cell_type": "markdown",
   "id": "0680c21c",
   "metadata": {
    "id": "4mm_0Lbk5bjm"
   },
   "source": [
    "Os autovetores indicam que 6 dimensões parecem explicar 90% de toda variabilidade das features"
   ]
  },
  {
   "cell_type": "markdown",
   "id": "38f55b32",
   "metadata": {},
   "source": [
    "## 5.3 Features Analysis"
   ]
  },
  {
   "cell_type": "markdown",
   "id": "80c5807d",
   "metadata": {},
   "source": [
    "#### Response"
   ]
  },
  {
   "cell_type": "markdown",
   "id": "5d6d611d",
   "metadata": {
    "heading_collapsed": true
   },
   "source": [
    "###### Principais Insights:\n",
    "1. Desbalanceada com 12% de eventos positivos\n",
    "2. Correlação fraca com Vehicle_Damage e correlação fraca negativa com Previously_Insured"
   ]
  },
  {
   "cell_type": "markdown",
   "id": "1f69e4c8",
   "metadata": {},
   "source": [
    "###### General Analysis"
   ]
  },
  {
   "cell_type": "code",
   "execution_count": 24,
   "id": "876e409f",
   "metadata": {
    "ExecuteTime": {
     "end_time": "2022-04-30T13:48:23.130168Z",
     "start_time": "2022-04-30T13:48:23.118685Z"
    }
   },
   "outputs": [
    {
     "data": {
      "text/plain": [
       "0.123003632674243"
      ]
     },
     "execution_count": 24,
     "metadata": {},
     "output_type": "execute_result"
    }
   ],
   "source": [
    "df['Response'].mean()"
   ]
  },
  {
   "cell_type": "code",
   "execution_count": 25,
   "id": "2c7681c3",
   "metadata": {
    "ExecuteTime": {
     "end_time": "2022-04-30T13:48:23.447447Z",
     "start_time": "2022-04-30T13:48:23.131877Z"
    }
   },
   "outputs": [
    {
     "data": {
      "text/plain": [
       "Vehicle_Damage_                       0.355212\n",
       "Policy_Sales_Channel_Response_Mean    0.264121\n",
       "High_Age                              0.206622\n",
       "Region_Code_Response_Mean             0.138770\n",
       "Age                                   0.112537\n",
       "Gender_                               0.052514\n",
       "High_Annual_Premium                   0.038937\n",
       "Annual_Premium                        0.023226\n",
       "Region_Code                           0.011201\n",
       "Driving_License                       0.010615\n",
       "Log_Annual_Premium                    0.002723\n",
       "Vintage                              -0.001069\n",
       "id                                   -0.002061\n",
       "Annual_Premium_Variated              -0.012204\n",
       "Vehicle_Age_                         -0.104033\n",
       "Policy_Sales_Channel                 -0.140142\n",
       "Previously_Insured                   -0.341880\n",
       "Name: Response, dtype: float64"
      ]
     },
     "execution_count": 25,
     "metadata": {},
     "output_type": "execute_result"
    }
   ],
   "source": [
    "df.corr()['Response'].sort_values(ascending=False)[1:]"
   ]
  },
  {
   "cell_type": "markdown",
   "id": "41a9e5af",
   "metadata": {},
   "source": [
    "Correlação fraca com Vehicle_Damage e correlação fraca negativa com Previously_Insured"
   ]
  },
  {
   "cell_type": "markdown",
   "id": "f00e7653",
   "metadata": {},
   "source": [
    "#### Gender"
   ]
  },
  {
   "cell_type": "markdown",
   "id": "e206144b",
   "metadata": {},
   "source": [
    "###### Principais Insights:\n",
    "1. Balanceada\n",
    "2. Correlações muito fracas\n",
    "3. Homens se interessam 30% mais no produto em relação às mulheres"
   ]
  },
  {
   "cell_type": "markdown",
   "id": "189e6fd6",
   "metadata": {},
   "source": [
    "###### General Analysis"
   ]
  },
  {
   "cell_type": "code",
   "execution_count": 26,
   "id": "0ae108d6",
   "metadata": {
    "ExecuteTime": {
     "end_time": "2022-04-30T13:48:23.780262Z",
     "start_time": "2022-04-30T13:48:23.449498Z"
    },
    "scrolled": true
   },
   "outputs": [
    {
     "data": {
      "text/plain": [
       "Policy_Sales_Channel_Response_Mean    0.169148\n",
       "High_Age                              0.159085\n",
       "Age                                   0.146176\n",
       "Vehicle_Damage_                       0.091994\n",
       "Response                              0.052514\n",
       "Region_Code_Response_Mean             0.042989\n",
       "High_Annual_Premium                   0.022427\n",
       "Annual_Premium                        0.003731\n",
       "id                                    0.001160\n",
       "Region_Code                          -0.000045\n",
       "Vintage                              -0.003352\n",
       "Log_Annual_Premium                   -0.013703\n",
       "Driving_License                      -0.018290\n",
       "Annual_Premium_Variated              -0.025740\n",
       "Previously_Insured                   -0.082508\n",
       "Policy_Sales_Channel                 -0.111758\n",
       "Vehicle_Age_                         -0.112753\n",
       "Name: Gender_, dtype: float64"
      ]
     },
     "execution_count": 26,
     "metadata": {},
     "output_type": "execute_result"
    }
   ],
   "source": [
    "df.corr()['Gender_'].sort_values(ascending=False)[1:]"
   ]
  },
  {
   "cell_type": "markdown",
   "id": "e446b46c",
   "metadata": {},
   "source": [
    "Correlações muito fracas"
   ]
  },
  {
   "cell_type": "code",
   "execution_count": 27,
   "id": "bbce954c",
   "metadata": {
    "ExecuteTime": {
     "end_time": "2022-04-30T13:48:23.796330Z",
     "start_time": "2022-04-30T13:48:23.783165Z"
    }
   },
   "outputs": [
    {
     "data": {
      "text/plain": [
       "array(['Female'], dtype=object)"
      ]
     },
     "execution_count": 27,
     "metadata": {},
     "output_type": "execute_result"
    }
   ],
   "source": [
    "le_gender.inverse_transform([0])"
   ]
  },
  {
   "cell_type": "code",
   "execution_count": 28,
   "id": "06dd21fd",
   "metadata": {
    "ExecuteTime": {
     "end_time": "2022-04-30T13:48:23.905294Z",
     "start_time": "2022-04-30T13:48:23.870293Z"
    }
   },
   "outputs": [
    {
     "name": "stdout",
     "output_type": "stream",
     "text": [
      "10.43% das mulheres se interessam pelo produto.\n",
      "13.89% dos homens se interessam pelo produto.\n"
     ]
    }
   ],
   "source": [
    "print(f'{round(df.loc[df[\"Gender_\"]==0, \"Response\"].mean() *100, 2)}% das mulheres se interessam pelo produto.')\n",
    "print(f'{round(df.loc[df[\"Gender_\"]==1, \"Response\"].mean() *100, 2)}% dos homens se interessam pelo produto.')"
   ]
  },
  {
   "cell_type": "markdown",
   "id": "f640f36c",
   "metadata": {},
   "source": [
    "#### Age"
   ]
  },
  {
   "cell_type": "markdown",
   "id": "d6ae3f05",
   "metadata": {},
   "source": [
    "###### Principais Insights:\n",
    "1. Range de idade de 25 até 85 anos, aparentemente sem erros de input\n",
    "2. Apresenta uma distribuição com uma certa semelhança com uma Poison, mas com uma segunda moda em um ponto próximo aos 45 anos.\n",
    "3. Sem outliers\n",
    "4. A média de idade entre os que não se interessam pelo produto é de 38 anos, e dos que se interessam é de 43 anos.\n",
    "5. Pessoas com mais de 30 anos apresentam um interesse relativamente maior pelo produto.\n",
    "6. Correlações moderadas negativas com Policy_Sales_Channel e Vehicle_Age, fraca negativa com Previously_Insured e fraca positiva com Vehicle_Damage"
   ]
  },
  {
   "cell_type": "markdown",
   "id": "26426308",
   "metadata": {},
   "source": [
    "###### General Analysis"
   ]
  },
  {
   "cell_type": "code",
   "execution_count": 29,
   "id": "178100dd",
   "metadata": {
    "ExecuteTime": {
     "end_time": "2022-04-30T13:48:24.221174Z",
     "start_time": "2022-04-30T13:48:23.906308Z"
    }
   },
   "outputs": [
    {
     "data": {
      "text/plain": [
       "High_Age                              0.787719\n",
       "Policy_Sales_Channel_Response_Mean    0.638581\n",
       "Region_Code_Response_Mean             0.316421\n",
       "Vehicle_Damage_                       0.267332\n",
       "High_Annual_Premium                   0.146918\n",
       "Gender_                               0.146176\n",
       "Response                              0.112537\n",
       "Annual_Premium                        0.067474\n",
       "Region_Code                           0.042919\n",
       "id                                    0.002068\n",
       "Vintage                              -0.001344\n",
       "Log_Annual_Premium                   -0.009624\n",
       "Annual_Premium_Variated              -0.063888\n",
       "Driving_License                      -0.078918\n",
       "Previously_Insured                   -0.254810\n",
       "Vehicle_Age_                         -0.521069\n",
       "Policy_Sales_Channel                 -0.578500\n",
       "Name: Age, dtype: float64"
      ]
     },
     "execution_count": 29,
     "metadata": {},
     "output_type": "execute_result"
    }
   ],
   "source": [
    "df.corr()['Age'].sort_values(ascending=False)[1:]"
   ]
  },
  {
   "cell_type": "markdown",
   "id": "36c61ede",
   "metadata": {},
   "source": [
    "Correlações moderadas negativas com Policy_Sales_Channel e Vehicle_Age, fraca negativa com Previously_Insured e fraca positiva com Vehicle_Damage"
   ]
  },
  {
   "cell_type": "code",
   "execution_count": 30,
   "id": "c193d962",
   "metadata": {
    "ExecuteTime": {
     "end_time": "2022-04-30T13:48:24.505029Z",
     "start_time": "2022-04-30T13:48:24.222180Z"
    }
   },
   "outputs": [
    {
     "data": {
      "image/png": "[encoded data removed]",
      "text/plain": [
       "<Figure size 432x288 with 1 Axes>"
      ]
     },
     "metadata": {
      "needs_background": "light"
     },
     "output_type": "display_data"
    }
   ],
   "source": [
    "sns.histplot(df['Age'], bins=20);"
   ]
  },
  {
   "cell_type": "markdown",
   "id": "33cd6963",
   "metadata": {},
   "source": [
    "Apresenta uma distribuição com uma certa semelhança com uma Poison, mas com uma segunda moda em um ponto próximo aos 45 anos."
   ]
  },
  {
   "cell_type": "code",
   "execution_count": 31,
   "id": "5e348edb",
   "metadata": {
    "ExecuteTime": {
     "end_time": "2022-04-30T13:48:24.536532Z",
     "start_time": "2022-04-30T13:48:24.508104Z"
    }
   },
   "outputs": [],
   "source": [
    "índices, li, ls = buscar_outlier(df, 'Age')"
   ]
  },
  {
   "cell_type": "code",
   "execution_count": 32,
   "id": "8f09da1b",
   "metadata": {
    "ExecuteTime": {
     "end_time": "2022-04-30T13:48:24.567434Z",
     "start_time": "2022-04-30T13:48:24.537535Z"
    }
   },
   "outputs": [
    {
     "data": {
      "text/html": [
       "<div>\n",
       "<style scoped>\n",
       "    .dataframe tbody tr th:only-of-type {\n",
       "        vertical-align: middle;\n",
       "    }\n",
       "\n",
       "    .dataframe tbody tr th {\n",
       "        vertical-align: top;\n",
       "    }\n",
       "\n",
       "    .dataframe thead th {\n",
       "        text-align: right;\n",
       "    }\n",
       "</style>\n",
       "<table border=\"1\" class=\"dataframe\">\n",
       "  <thead>\n",
       "    <tr style=\"text-align: right;\">\n",
       "      <th></th>\n",
       "      <th>id</th>\n",
       "      <th>Gender</th>\n",
       "      <th>Age</th>\n",
       "      <th>Driving_License</th>\n",
       "      <th>Region_Code</th>\n",
       "      <th>Previously_Insured</th>\n",
       "      <th>Vehicle_Age</th>\n",
       "      <th>Vehicle_Damage</th>\n",
       "      <th>Annual_Premium</th>\n",
       "      <th>Policy_Sales_Channel</th>\n",
       "      <th>...</th>\n",
       "      <th>Response</th>\n",
       "      <th>Gender_</th>\n",
       "      <th>Vehicle_Damage_</th>\n",
       "      <th>Vehicle_Age_</th>\n",
       "      <th>Policy_Sales_Channel_Response_Mean</th>\n",
       "      <th>Region_Code_Response_Mean</th>\n",
       "      <th>High_Age</th>\n",
       "      <th>Log_Annual_Premium</th>\n",
       "      <th>Annual_Premium_Variated</th>\n",
       "      <th>High_Annual_Premium</th>\n",
       "    </tr>\n",
       "  </thead>\n",
       "  <tbody>\n",
       "  </tbody>\n",
       "</table>\n",
       "<p>0 rows × 21 columns</p>\n",
       "</div>"
      ],
      "text/plain": [
       "Empty DataFrame\n",
       "Columns: [id, Gender, Age, Driving_License, Region_Code, Previously_Insured, Vehicle_Age, Vehicle_Damage, Annual_Premium, Policy_Sales_Channel, Vintage, Response, Gender_, Vehicle_Damage_, Vehicle_Age_, Policy_Sales_Channel_Response_Mean, Region_Code_Response_Mean, High_Age, Log_Annual_Premium, Annual_Premium_Variated, High_Annual_Premium]\n",
       "Index: []\n",
       "\n",
       "[0 rows x 21 columns]"
      ]
     },
     "execution_count": 32,
     "metadata": {},
     "output_type": "execute_result"
    }
   ],
   "source": [
    "df.loc[índices]"
   ]
  },
  {
   "cell_type": "code",
   "execution_count": 33,
   "id": "85e1d17f",
   "metadata": {
    "ExecuteTime": {
     "end_time": "2022-04-30T13:48:24.676685Z",
     "start_time": "2022-04-30T13:48:24.570425Z"
    },
    "scrolled": false
   },
   "outputs": [
    {
     "data": {
      "image/png": "[encoded data removed]",
      "text/plain": [
       "<Figure size 432x288 with 1 Axes>"
      ]
     },
     "metadata": {
      "needs_background": "light"
     },
     "output_type": "display_data"
    }
   ],
   "source": [
    "sns.boxplot(data=df, x='Age')\n",
    "plt.title('Quartis de Idade');"
   ]
  },
  {
   "cell_type": "markdown",
   "id": "d65639ba",
   "metadata": {},
   "source": [
    "sem outliers"
   ]
  },
  {
   "cell_type": "code",
   "execution_count": 34,
   "id": "1b387b95",
   "metadata": {
    "ExecuteTime": {
     "end_time": "2022-04-30T13:48:24.707587Z",
     "start_time": "2022-04-30T13:48:24.680693Z"
    },
    "scrolled": true
   },
   "outputs": [
    {
     "name": "stdout",
     "output_type": "stream",
     "text": [
      "A média de idade entre os que NÃO se interessam pelo produto: 38.16%\n",
      "A média de idade entre os que se interessam pelo produto: 43.48%\n"
     ]
    }
   ],
   "source": [
    "print(f'A média de idade entre os que NÃO se interessam pelo produto: {round(df.loc[df[\"Response\"]==0, \"Age\"].mean(), 2)}%')\n",
    "print(f'A média de idade entre os que se interessam pelo produto: {round(df.loc[df[\"Response\"]==1, \"Age\"].mean(), 2)}%')"
   ]
  },
  {
   "cell_type": "code",
   "execution_count": 35,
   "id": "f02b63a3",
   "metadata": {
    "ExecuteTime": {
     "end_time": "2022-04-30T13:48:26.515269Z",
     "start_time": "2022-04-30T13:48:24.709913Z"
    },
    "scrolled": true
   },
   "outputs": [
    {
     "data": {
      "image/png": "[encoded data removed]",
      "text/plain": [
       "<Figure size 432x288 with 2 Axes>"
      ]
     },
     "metadata": {
      "needs_background": "light"
     },
     "output_type": "display_data"
    }
   ],
   "source": [
    "plt.subplot(2, 1, 1)\n",
    "plt.title('Distribuição e Densidade de Idade Segregado por Response')\n",
    "g = sns.histplot(df.loc[df['Response']==0, 'Age'], color='r', alpha=0.5, bins=20)\n",
    "g = sns.histplot(df.loc[df['Response']==1, 'Age'], color='b', alpha=0.5, bins=20)\n",
    "plt.subplot(2, 1, 2)\n",
    "g = sns.kdeplot(df.loc[df['Response']==0, 'Age'], color='r', alpha=0.5)\n",
    "g = sns.kdeplot(df.loc[df['Response']==1, 'Age'], color='b', alpha=0.5)"
   ]
  },
  {
   "cell_type": "markdown",
   "id": "ea7ab560",
   "metadata": {},
   "source": [
    "Pessoas mais velhas apresentam maior interesse no produto"
   ]
  },
  {
   "cell_type": "code",
   "execution_count": 36,
   "id": "b99007f8",
   "metadata": {
    "ExecuteTime": {
     "end_time": "2022-04-30T13:48:26.672172Z",
     "start_time": "2022-04-30T13:48:26.518208Z"
    },
    "scrolled": true
   },
   "outputs": [
    {
     "data": {
      "image/png": "[encoded data removed]",
      "text/plain": [
       "<Figure size 432x288 with 1 Axes>"
      ]
     },
     "metadata": {
      "needs_background": "light"
     },
     "output_type": "display_data"
    }
   ],
   "source": [
    "sns.boxplot(x='Response', y='Age', data=df)\n",
    "plt.title('Quartis de Idades Segregado por Response');"
   ]
  },
  {
   "cell_type": "markdown",
   "id": "83735be8",
   "metadata": {},
   "source": [
    "Pessoas mais velhas apresentam interesse maior pelo produto"
   ]
  },
  {
   "cell_type": "markdown",
   "id": "7067d055",
   "metadata": {},
   "source": [
    "Adicionando aleatoriedade"
   ]
  },
  {
   "cell_type": "code",
   "execution_count": 37,
   "id": "aaf21499",
   "metadata": {
    "ExecuteTime": {
     "end_time": "2022-04-30T13:48:28.116677Z",
     "start_time": "2022-04-30T13:48:26.676162Z"
    },
    "scrolled": false
   },
   "outputs": [
    {
     "data": {
      "image/png": "[encoded data removed]",
      "text/plain": [
       "<Figure size 1440x432 with 9 Axes>"
      ]
     },
     "metadata": {
      "needs_background": "light"
     },
     "output_type": "display_data"
    }
   ],
   "source": [
    "df.reset_index(drop=True, inplace=True)\n",
    "plt.figure(figsize=(20, 6))\n",
    "for i in range(1, 10):\n",
    "    random_index = np.random.choice(df.index, 500, replace=False)\n",
    "    temp = df.loc[random_index]\n",
    "    plt.subplot(3, 3, i)\n",
    "    g = sns.kdeplot(temp.loc[temp['Response']==0, 'Age'], color='r', alpha=0.5)\n",
    "    g = sns.kdeplot(temp.loc[temp['Response']==1, 'Age'], color='b', alpha=0.5)"
   ]
  },
  {
   "cell_type": "markdown",
   "id": "fb9b3ec2",
   "metadata": {},
   "source": [
    "Por 9 vezes as linhas se cruzam em um ponto entre 28 e 37"
   ]
  },
  {
   "cell_type": "code",
   "execution_count": 38,
   "id": "ef191f34",
   "metadata": {
    "ExecuteTime": {
     "end_time": "2022-04-30T13:48:29.390049Z",
     "start_time": "2022-04-30T13:48:28.118784Z"
    }
   },
   "outputs": [
    {
     "data": {
      "image/png": "[encoded data removed]",
      "text/plain": [
       "<Figure size 1440x144 with 1 Axes>"
      ]
     },
     "metadata": {
      "needs_background": "light"
     },
     "output_type": "display_data"
    }
   ],
   "source": [
    "plt.figure(figsize=(20, 2))\n",
    "plt.xlim(28, 32)\n",
    "g = sns.kdeplot(df.loc[df['Response']==0, 'Age'], color='r', alpha=0.5)\n",
    "g = sns.kdeplot(df.loc[df['Response']==1, 'Age'], color='b', alpha=0.5)"
   ]
  },
  {
   "cell_type": "markdown",
   "id": "d00acc62",
   "metadata": {},
   "source": [
    "Feature **High_Response_Age** criada"
   ]
  },
  {
   "cell_type": "code",
   "execution_count": 39,
   "id": "4248ec4e",
   "metadata": {
    "ExecuteTime": {
     "end_time": "2022-04-30T13:48:29.421901Z",
     "start_time": "2022-04-30T13:48:29.393787Z"
    }
   },
   "outputs": [
    {
     "name": "stdout",
     "output_type": "stream",
     "text": [
      "A média de response entre os clientes com MENOS de 30 anos é: 0.04\n",
      "A média de response entre os clientes com MAIS de 30 anos é: 0.18\n"
     ]
    }
   ],
   "source": [
    "print(f'A média de response entre os clientes com MENOS de 30 anos é: {round(df.loc[df[\"High_Age\"]==0, \"Response\"].mean(), 2)}')\n",
    "print(f'A média de response entre os clientes com MAIS de 30 anos é: {round(df.loc[df[\"High_Age\"]==1, \"Response\"].mean(), 2)}')"
   ]
  },
  {
   "cell_type": "markdown",
   "id": "0e720c20",
   "metadata": {},
   "source": [
    "A média de response dentre os clientes com mais de 30 anos é mais do que 50% superior em relação aos clientes com menos de 30 anos. Aceita e hipótese nula."
   ]
  },
  {
   "cell_type": "markdown",
   "id": "4934006d",
   "metadata": {},
   "source": [
    "#### Driving_License"
   ]
  },
  {
   "cell_type": "markdown",
   "id": "2cd7e86e",
   "metadata": {},
   "source": [
    "###### Principais Insights:\n",
    "1. Correlações muito fracas\n",
    "2. 99% dos clientes são habilitados\n",
    "3. Habilitados apresentam 5% de interesse no produto, não habilitados apresentam 12% de interesse no produto."
   ]
  },
  {
   "cell_type": "markdown",
   "id": "43b21b7d",
   "metadata": {},
   "source": [
    "###### General Analysis"
   ]
  },
  {
   "cell_type": "code",
   "execution_count": 40,
   "id": "94bde02a",
   "metadata": {
    "ExecuteTime": {
     "end_time": "2022-04-30T13:48:29.759940Z",
     "start_time": "2022-04-30T13:48:29.424891Z"
    },
    "scrolled": true
   },
   "outputs": [
    {
     "data": {
      "text/plain": [
       "Policy_Sales_Channel                  0.043441\n",
       "Vehicle_Age_                          0.029965\n",
       "Previously_Insured                    0.015816\n",
       "Response                              0.010615\n",
       "Vintage                              -0.000611\n",
       "Region_Code                          -0.000875\n",
       "id                                   -0.001366\n",
       "Annual_Premium_Variated              -0.002664\n",
       "Log_Annual_Premium                   -0.007041\n",
       "Annual_Premium                       -0.012356\n",
       "High_Annual_Premium                  -0.016027\n",
       "Region_Code_Response_Mean            -0.016770\n",
       "Vehicle_Damage_                      -0.016974\n",
       "Gender_                              -0.018290\n",
       "Policy_Sales_Channel_Response_Mean   -0.033167\n",
       "High_Age                             -0.037672\n",
       "Age                                  -0.078918\n",
       "Name: Driving_License, dtype: float64"
      ]
     },
     "execution_count": 40,
     "metadata": {},
     "output_type": "execute_result"
    }
   ],
   "source": [
    "df.corr()['Driving_License'].sort_values(ascending=False)[1:]"
   ]
  },
  {
   "cell_type": "markdown",
   "id": "1360dd66",
   "metadata": {},
   "source": [
    "Correlações muito fracas"
   ]
  },
  {
   "cell_type": "code",
   "execution_count": 41,
   "id": "9b9ddee5",
   "metadata": {
    "ExecuteTime": {
     "end_time": "2022-04-30T13:48:29.790170Z",
     "start_time": "2022-04-30T13:48:29.764576Z"
    }
   },
   "outputs": [
    {
     "name": "stdout",
     "output_type": "stream",
     "text": [
      "0.998% dos clientes são habilitados\n"
     ]
    }
   ],
   "source": [
    "print(f'{round(df[\"Driving_License\"].mean(), 3)}% dos clientes são habilitados')"
   ]
  },
  {
   "cell_type": "code",
   "execution_count": 42,
   "id": "835441fb",
   "metadata": {
    "ExecuteTime": {
     "end_time": "2022-04-30T13:48:34.620799Z",
     "start_time": "2022-04-30T13:48:29.792117Z"
    }
   },
   "outputs": [
    {
     "data": {
      "image/png": "[encoded data removed]",
      "text/plain": [
       "<Figure size 360x360 with 1 Axes>"
      ]
     },
     "metadata": {
      "needs_background": "light"
     },
     "output_type": "display_data"
    }
   ],
   "source": [
    "sns.catplot(x='Driving_License', y= 'Response', data=df, kind='bar')\n",
    "plt.ylabel('Média de Response')\n",
    "plt.title('Média de Response Segregado por Driving License');"
   ]
  },
  {
   "cell_type": "code",
   "execution_count": 43,
   "id": "6de2203b",
   "metadata": {
    "ExecuteTime": {
     "end_time": "2022-04-30T13:48:34.652061Z",
     "start_time": "2022-04-30T13:48:34.624728Z"
    },
    "scrolled": false
   },
   "outputs": [
    {
     "name": "stdout",
     "output_type": "stream",
     "text": [
      "Habilitados tem: 4.71% de interesse no produto\n",
      "NÃO habilitados tem: 12.32% de interesse no produto\n"
     ]
    }
   ],
   "source": [
    "print(f'Habilitados tem: {round(df.loc[df[\"Driving_License\"]==0, \"Response\"].mean()*100, 2)}% de interesse no produto')\n",
    "print(f'NÃO habilitados tem: {round(df.loc[df[\"Driving_License\"]==1, \"Response\"].mean()*100, 2)}% de interesse no produto')"
   ]
  },
  {
   "cell_type": "markdown",
   "id": "fe802204",
   "metadata": {},
   "source": [
    "#### Previously_Insured"
   ]
  },
  {
   "cell_type": "markdown",
   "id": "23c29af0",
   "metadata": {},
   "source": [
    "###### Principais Insights:\n",
    "1. 45% dos clientes já possuem seguro veicular\n",
    "2. Clientes que já possuem seguro têm interesse quase zero pelo produto\n",
    "3. Correlação muito forte negativa com Vehicle_Damage, fraca negativa com Response e Age, e fraca positiva com Policy_Sales_Channel"
   ]
  },
  {
   "cell_type": "markdown",
   "id": "a86c8a3b",
   "metadata": {},
   "source": [
    "###### General Analysis"
   ]
  },
  {
   "cell_type": "code",
   "execution_count": 44,
   "id": "4e3e2ddb",
   "metadata": {
    "ExecuteTime": {
     "end_time": "2022-04-30T13:48:35.002280Z",
     "start_time": "2022-04-30T13:48:34.654439Z"
    }
   },
   "outputs": [
    {
     "data": {
      "text/plain": [
       "Policy_Sales_Channel                  0.219889\n",
       "Vehicle_Age_                          0.174019\n",
       "Annual_Premium_Variated               0.087281\n",
       "Log_Annual_Premium                    0.055315\n",
       "Driving_License                       0.015816\n",
       "Annual_Premium                        0.003194\n",
       "id                                    0.003085\n",
       "Vintage                               0.002204\n",
       "Region_Code                          -0.024615\n",
       "High_Annual_Premium                  -0.061018\n",
       "Gender_                              -0.082508\n",
       "Region_Code_Response_Mean            -0.180282\n",
       "Age                                  -0.254810\n",
       "High_Age                             -0.331682\n",
       "Response                             -0.341880\n",
       "Policy_Sales_Channel_Response_Mean   -0.418578\n",
       "Vehicle_Damage_                      -0.824849\n",
       "Name: Previously_Insured, dtype: float64"
      ]
     },
     "execution_count": 44,
     "metadata": {},
     "output_type": "execute_result"
    }
   ],
   "source": [
    "df.corr()['Previously_Insured'].sort_values(ascending=False)[1:]"
   ]
  },
  {
   "cell_type": "markdown",
   "id": "a1db488d",
   "metadata": {},
   "source": [
    "Correlação muito forte negativa com Vehicle_Damage, fraca negativa com Response e Age, e fraca positiva com Policy_Sales_Channel"
   ]
  },
  {
   "cell_type": "code",
   "execution_count": 45,
   "id": "09549c65",
   "metadata": {
    "ExecuteTime": {
     "end_time": "2022-04-30T13:48:35.017904Z",
     "start_time": "2022-04-30T13:48:35.006808Z"
    }
   },
   "outputs": [
    {
     "data": {
      "text/plain": [
       "0.4582854710523093"
      ]
     },
     "execution_count": 45,
     "metadata": {},
     "output_type": "execute_result"
    }
   ],
   "source": [
    "df['Previously_Insured'].mean()"
   ]
  },
  {
   "cell_type": "markdown",
   "id": "482517f9",
   "metadata": {},
   "source": [
    "45% dos clientes já sofreram danos veiculares"
   ]
  },
  {
   "cell_type": "code",
   "execution_count": 46,
   "id": "0ed0e09d",
   "metadata": {
    "ExecuteTime": {
     "end_time": "2022-04-30T13:48:40.029262Z",
     "start_time": "2022-04-30T13:48:35.020802Z"
    }
   },
   "outputs": [
    {
     "data": {
      "image/png": "[encoded data removed]",
      "text/plain": [
       "<Figure size 360x360 with 1 Axes>"
      ]
     },
     "metadata": {
      "needs_background": "light"
     },
     "output_type": "display_data"
    }
   ],
   "source": [
    "sns.catplot(x='Previously_Insured', y='Response', data=df, kind='bar')\n",
    "plt.title('Média de Response Segregado por Previously Insured')\n",
    "plt.ylabel('Média de Response');"
   ]
  },
  {
   "cell_type": "code",
   "execution_count": 47,
   "id": "0c227e2a",
   "metadata": {
    "ExecuteTime": {
     "end_time": "2022-04-30T13:48:40.059527Z",
     "start_time": "2022-04-30T13:48:40.033234Z"
    },
    "scrolled": true
   },
   "outputs": [
    {
     "data": {
      "text/plain": [
       "0.0922444669224065"
      ]
     },
     "execution_count": 47,
     "metadata": {},
     "output_type": "execute_result"
    }
   ],
   "source": [
    "df.loc[df['Previously_Insured']==1, 'Response'].mean()*100"
   ]
  },
  {
   "cell_type": "markdown",
   "id": "167ff104",
   "metadata": {},
   "source": [
    "Clientes que possuem seguro veicular tem interesse quase zero no produto"
   ]
  },
  {
   "cell_type": "markdown",
   "id": "dbfc9ead",
   "metadata": {},
   "source": [
    "#### Region_Code"
   ]
  },
  {
   "cell_type": "markdown",
   "id": "e392ecfc",
   "metadata": {
    "heading_collapsed": true
   },
   "source": [
    "###### Principais Insights:\n",
    "1. 53 regiões\n",
    "2. 28% dos clientes está contido na região 28. 50% dos dados estão contidos nas 5 regiões mais numerosas\n",
    "3. A região 28 (mais importante) tem por volta de 18% de probabilidade de response, segunda melhor região, atrás apenas da região 38.\n",
    "4. As regiões com probabilidade de response mais alto estão com por volta de 19%, as regiões com probabilidades mais baixas estã em por volta de 4%\n",
    "5. Médias de response bastante distintas, com desvios padrões baixos"
   ]
  },
  {
   "cell_type": "markdown",
   "id": "5a744472",
   "metadata": {},
   "source": [
    "###### General Analysis:"
   ]
  },
  {
   "cell_type": "code",
   "execution_count": 48,
   "id": "f08515b3",
   "metadata": {
    "ExecuteTime": {
     "end_time": "2022-04-30T13:48:40.406578Z",
     "start_time": "2022-04-30T13:48:40.063512Z"
    }
   },
   "outputs": [
    {
     "data": {
      "text/plain": [
       "Region_Code_Response_Mean             0.080719\n",
       "High_Age                              0.044174\n",
       "Age                                   0.042919\n",
       "Vehicle_Damage_                       0.028443\n",
       "Policy_Sales_Channel_Response_Mean    0.027987\n",
       "Response                              0.011201\n",
       "Annual_Premium_Variated               0.005643\n",
       "Log_Annual_Premium                    0.000786\n",
       "Gender_                              -0.000045\n",
       "Driving_License                      -0.000875\n",
       "id                                   -0.001269\n",
       "Vintage                              -0.002292\n",
       "Annual_Premium                       -0.009788\n",
       "Previously_Insured                   -0.024615\n",
       "High_Annual_Premium                  -0.025943\n",
       "Vehicle_Age_                         -0.027480\n",
       "Policy_Sales_Channel                 -0.042988\n",
       "Name: Region_Code, dtype: float64"
      ]
     },
     "execution_count": 48,
     "metadata": {},
     "output_type": "execute_result"
    }
   ],
   "source": [
    "df.corr()['Region_Code'].sort_values(ascending=False)[1:]"
   ]
  },
  {
   "cell_type": "markdown",
   "id": "3efcf027",
   "metadata": {},
   "source": [
    "Correlações muito fracas"
   ]
  },
  {
   "cell_type": "code",
   "execution_count": 49,
   "id": "f3f7a58b",
   "metadata": {
    "ExecuteTime": {
     "end_time": "2022-04-30T13:48:40.438413Z",
     "start_time": "2022-04-30T13:48:40.407630Z"
    },
    "scrolled": true
   },
   "outputs": [
    {
     "data": {
      "text/plain": [
       "53"
      ]
     },
     "execution_count": 49,
     "metadata": {},
     "output_type": "execute_result"
    }
   ],
   "source": [
    "df['Region_Code'].nunique()"
   ]
  },
  {
   "cell_type": "markdown",
   "id": "065e43da",
   "metadata": {},
   "source": [
    "53 categorias"
   ]
  },
  {
   "cell_type": "code",
   "execution_count": 50,
   "id": "c3713eb9",
   "metadata": {
    "ExecuteTime": {
     "end_time": "2022-04-30T13:48:40.470229Z",
     "start_time": "2022-04-30T13:48:40.441426Z"
    },
    "scrolled": true
   },
   "outputs": [
    {
     "data": {
      "text/plain": [
       "28.0    0.279372\n",
       "8.0     0.089190\n",
       "46.0    0.051989\n",
       "41.0    0.047852\n",
       "15.0    0.034962\n",
       "Name: Region_Code, dtype: float64"
      ]
     },
     "execution_count": 50,
     "metadata": {},
     "output_type": "execute_result"
    }
   ],
   "source": [
    "df['Region_Code'].value_counts(normalize=True).head(5)"
   ]
  },
  {
   "cell_type": "code",
   "execution_count": 51,
   "id": "3a6d2328",
   "metadata": {
    "ExecuteTime": {
     "end_time": "2022-04-30T13:48:40.502063Z",
     "start_time": "2022-04-30T13:48:40.473160Z"
    },
    "scrolled": true
   },
   "outputs": [
    {
     "data": {
      "text/plain": [
       "1.0     0.002647\n",
       "44.0    0.002163\n",
       "42.0    0.001583\n",
       "52.0    0.000741\n",
       "51.0    0.000496\n",
       "Name: Region_Code, dtype: float64"
      ]
     },
     "execution_count": 51,
     "metadata": {},
     "output_type": "execute_result"
    }
   ],
   "source": [
    "df['Region_Code'].value_counts(normalize=True).tail(5)"
   ]
  },
  {
   "cell_type": "code",
   "execution_count": 52,
   "id": "e8a2d772",
   "metadata": {
    "ExecuteTime": {
     "end_time": "2022-04-30T13:48:40.532815Z",
     "start_time": "2022-04-30T13:48:40.506049Z"
    }
   },
   "outputs": [
    {
     "data": {
      "text/plain": [
       "0.5033644511046711"
      ]
     },
     "execution_count": 52,
     "metadata": {},
     "output_type": "execute_result"
    }
   ],
   "source": [
    "df['Region_Code'].value_counts(normalize=True).head(5).sum()"
   ]
  },
  {
   "cell_type": "markdown",
   "id": "c7fc564e",
   "metadata": {},
   "source": [
    "28% dos clientes está contido na região 28. 50% dos dados estão contidos nas 5 regiões mais densas."
   ]
  },
  {
   "cell_type": "code",
   "execution_count": 53,
   "id": "40dc0ab9",
   "metadata": {
    "ExecuteTime": {
     "end_time": "2022-04-30T13:48:40.579661Z",
     "start_time": "2022-04-30T13:48:40.536819Z"
    }
   },
   "outputs": [
    {
     "data": {
      "text/html": [
       "<div>\n",
       "<style scoped>\n",
       "    .dataframe tbody tr th:only-of-type {\n",
       "        vertical-align: middle;\n",
       "    }\n",
       "\n",
       "    .dataframe tbody tr th {\n",
       "        vertical-align: top;\n",
       "    }\n",
       "\n",
       "    .dataframe thead th {\n",
       "        text-align: right;\n",
       "    }\n",
       "</style>\n",
       "<table border=\"1\" class=\"dataframe\">\n",
       "  <thead>\n",
       "    <tr style=\"text-align: right;\">\n",
       "      <th></th>\n",
       "      <th>Region_Code</th>\n",
       "      <th>Response</th>\n",
       "    </tr>\n",
       "  </thead>\n",
       "  <tbody>\n",
       "    <tr>\n",
       "      <th>38</th>\n",
       "      <td>38.0</td>\n",
       "      <td>0.190955</td>\n",
       "    </tr>\n",
       "    <tr>\n",
       "      <th>28</th>\n",
       "      <td>28.0</td>\n",
       "      <td>0.188116</td>\n",
       "    </tr>\n",
       "    <tr>\n",
       "      <th>4</th>\n",
       "      <td>4.0</td>\n",
       "      <td>0.160395</td>\n",
       "    </tr>\n",
       "    <tr>\n",
       "      <th>19</th>\n",
       "      <td>19.0</td>\n",
       "      <td>0.159273</td>\n",
       "    </tr>\n",
       "    <tr>\n",
       "      <th>51</th>\n",
       "      <td>51.0</td>\n",
       "      <td>0.158824</td>\n",
       "    </tr>\n",
       "  </tbody>\n",
       "</table>\n",
       "</div>"
      ],
      "text/plain": [
       "    Region_Code  Response\n",
       "38         38.0  0.190955\n",
       "28         28.0  0.188116\n",
       "4           4.0  0.160395\n",
       "19         19.0  0.159273\n",
       "51         51.0  0.158824"
      ]
     },
     "execution_count": 53,
     "metadata": {},
     "output_type": "execute_result"
    }
   ],
   "source": [
    "df.groupby('Region_Code', as_index=False).agg({'Response':'mean'}).sort_values('Response', ascending=False).head(5)"
   ]
  },
  {
   "cell_type": "code",
   "execution_count": 54,
   "id": "797be4a2",
   "metadata": {
    "ExecuteTime": {
     "end_time": "2022-04-30T13:48:40.625917Z",
     "start_time": "2022-04-30T13:48:40.581612Z"
    }
   },
   "outputs": [
    {
     "data": {
      "text/html": [
       "<div>\n",
       "<style scoped>\n",
       "    .dataframe tbody tr th:only-of-type {\n",
       "        vertical-align: middle;\n",
       "    }\n",
       "\n",
       "    .dataframe tbody tr th {\n",
       "        vertical-align: top;\n",
       "    }\n",
       "\n",
       "    .dataframe thead th {\n",
       "        text-align: right;\n",
       "    }\n",
       "</style>\n",
       "<table border=\"1\" class=\"dataframe\">\n",
       "  <thead>\n",
       "    <tr style=\"text-align: right;\">\n",
       "      <th></th>\n",
       "      <th>Region_Code</th>\n",
       "      <th>Response</th>\n",
       "    </tr>\n",
       "  </thead>\n",
       "  <tbody>\n",
       "    <tr>\n",
       "      <th>22</th>\n",
       "      <td>22.0</td>\n",
       "      <td>0.064157</td>\n",
       "    </tr>\n",
       "    <tr>\n",
       "      <th>50</th>\n",
       "      <td>50.0</td>\n",
       "      <td>0.063480</td>\n",
       "    </tr>\n",
       "    <tr>\n",
       "      <th>10</th>\n",
       "      <td>10.0</td>\n",
       "      <td>0.060308</td>\n",
       "    </tr>\n",
       "    <tr>\n",
       "      <th>44</th>\n",
       "      <td>44.0</td>\n",
       "      <td>0.041779</td>\n",
       "    </tr>\n",
       "    <tr>\n",
       "      <th>25</th>\n",
       "      <td>25.0</td>\n",
       "      <td>0.041407</td>\n",
       "    </tr>\n",
       "  </tbody>\n",
       "</table>\n",
       "</div>"
      ],
      "text/plain": [
       "    Region_Code  Response\n",
       "22         22.0  0.064157\n",
       "50         50.0  0.063480\n",
       "10         10.0  0.060308\n",
       "44         44.0  0.041779\n",
       "25         25.0  0.041407"
      ]
     },
     "execution_count": 54,
     "metadata": {},
     "output_type": "execute_result"
    }
   ],
   "source": [
    "df.groupby('Region_Code', as_index=False).agg({'Response':'mean'}).sort_values('Response', ascending=False).tail(5)"
   ]
  },
  {
   "cell_type": "markdown",
   "id": "d420ca4e",
   "metadata": {},
   "source": [
    "As regiões com probabilidade de response mais alto estão com por volta de 19%, as regiões com probabilidades mais baixas estã em por volta de 4%"
   ]
  },
  {
   "cell_type": "code",
   "execution_count": 55,
   "id": "084ab6f8",
   "metadata": {
    "ExecuteTime": {
     "end_time": "2022-04-30T13:48:44.746658Z",
     "start_time": "2022-04-30T13:48:40.627929Z"
    }
   },
   "outputs": [
    {
     "data": {
      "image/png": "[encoded data removed]",
      "text/plain": [
       "<Figure size 1080x360 with 1 Axes>"
      ]
     },
     "metadata": {
      "needs_background": "light"
     },
     "output_type": "display_data"
    }
   ],
   "source": [
    "sns.catplot(x='Region_Code', y='Response', data=df, kind='bar', aspect=3)\n",
    "plt.title('Média de Response Segregado por Region Code')\n",
    "plt.xticks(range(0, int(df['Region_Code'].max()), 10))\n",
    "plt.ylabel('Média de Response');"
   ]
  },
  {
   "cell_type": "markdown",
   "id": "814f4d21",
   "metadata": {},
   "source": [
    "Médias de response bastante distintas, com desvios padrões baixos"
   ]
  },
  {
   "cell_type": "markdown",
   "id": "94b24327",
   "metadata": {},
   "source": [
    "#### Vehicle_Age"
   ]
  },
  {
   "cell_type": "markdown",
   "id": "4e791399",
   "metadata": {},
   "source": [
    "###### Principais insights:\n",
    "1. Mais da metade dos clientes possuem carros com menos de 1 ano\n",
    "2. Correlação moderada negativa com Age, fraca positiva com Policy_Sales_Channel\n",
    "3. Médias de response bastante distintas"
   ]
  },
  {
   "cell_type": "markdown",
   "id": "468afb98",
   "metadata": {},
   "source": [
    "###### General Analysis"
   ]
  },
  {
   "cell_type": "code",
   "execution_count": 56,
   "id": "e88b50cb",
   "metadata": {
    "ExecuteTime": {
     "end_time": "2022-04-30T13:48:45.109190Z",
     "start_time": "2022-04-30T13:48:44.750689Z"
    }
   },
   "outputs": [
    {
     "data": {
      "text/plain": [
       "Policy_Sales_Channel                  0.388688\n",
       "Previously_Insured                    0.174019\n",
       "Annual_Premium_Variated               0.090015\n",
       "Log_Annual_Premium                    0.066641\n",
       "Driving_License                       0.029965\n",
       "Annual_Premium                        0.025154\n",
       "Vintage                               0.003444\n",
       "id                                   -0.001733\n",
       "Region_Code                          -0.027480\n",
       "High_Annual_Premium                  -0.031157\n",
       "Response                             -0.104033\n",
       "Gender_                              -0.112753\n",
       "Vehicle_Damage_                      -0.173460\n",
       "Region_Code_Response_Mean            -0.207109\n",
       "Age                                  -0.521069\n",
       "Policy_Sales_Channel_Response_Mean   -0.573135\n",
       "High_Age                             -0.635078\n",
       "Name: Vehicle_Age_, dtype: float64"
      ]
     },
     "execution_count": 56,
     "metadata": {},
     "output_type": "execute_result"
    }
   ],
   "source": [
    "df.corr()['Vehicle_Age_'].sort_values(ascending=False)[1:]"
   ]
  },
  {
   "cell_type": "markdown",
   "id": "6ee8a3bb",
   "metadata": {},
   "source": [
    "Correlação moderada negativa com Age, fraca positiva com Policy_Sales_Channel"
   ]
  },
  {
   "cell_type": "code",
   "execution_count": 57,
   "id": "fa957cec",
   "metadata": {
    "ExecuteTime": {
     "end_time": "2022-04-30T13:48:45.139703Z",
     "start_time": "2022-04-30T13:48:45.111217Z"
    }
   },
   "outputs": [
    {
     "data": {
      "text/plain": [
       "1-2 Year     0.525181\n",
       "< 1 Year     0.432562\n",
       "> 2 Years    0.042257\n",
       "Name: Vehicle_Age, dtype: float64"
      ]
     },
     "execution_count": 57,
     "metadata": {},
     "output_type": "execute_result"
    }
   ],
   "source": [
    "df['Vehicle_Age'].value_counts(normalize=True)"
   ]
  },
  {
   "cell_type": "code",
   "execution_count": 58,
   "id": "46469b9d",
   "metadata": {
    "ExecuteTime": {
     "end_time": "2022-04-30T13:48:50.045511Z",
     "start_time": "2022-04-30T13:48:45.142632Z"
    }
   },
   "outputs": [
    {
     "data": {
      "image/png": "[encoded data removed]",
      "text/plain": [
       "<Figure size 360x360 with 1 Axes>"
      ]
     },
     "metadata": {
      "needs_background": "light"
     },
     "output_type": "display_data"
    }
   ],
   "source": [
    "sns.catplot(x='Vehicle_Age', y='Response', data=df, kind='bar')\n",
    "plt.ylabel('Média de Response')\n",
    "plt.title('Média de Response Segregado por Vehicle Age');"
   ]
  },
  {
   "cell_type": "markdown",
   "id": "e5c3db44",
   "metadata": {},
   "source": [
    "Médias de response bastante distintas"
   ]
  },
  {
   "cell_type": "markdown",
   "id": "20e46ba5",
   "metadata": {},
   "source": [
    "#### Vehicle_Damage"
   ]
  },
  {
   "cell_type": "markdown",
   "id": "b31eda83",
   "metadata": {
    "heading_collapsed": true
   },
   "source": [
    "###### Principais insights:\n",
    "1. Balanceada\n",
    "2. Correlação muito forte negativa com Previously_Insured, fraca negativa com Policy_Sales_Channel, fraca positiva com Response e Age\n",
    "3. Clientes que já tiveram danos no seu veículo tem 24% de response, enquanto clientes que não tiveram danos têm por volta de 1%"
   ]
  },
  {
   "cell_type": "markdown",
   "id": "1e811998",
   "metadata": {},
   "source": [
    "###### General Analysis"
   ]
  },
  {
   "cell_type": "code",
   "execution_count": 59,
   "id": "2e9ce90f",
   "metadata": {
    "ExecuteTime": {
     "end_time": "2022-04-30T13:48:50.378419Z",
     "start_time": "2022-04-30T13:48:50.047628Z"
    }
   },
   "outputs": [
    {
     "data": {
      "text/plain": [
       "Policy_Sales_Channel_Response_Mean    0.435632\n",
       "Response                              0.355212\n",
       "High_Age                              0.337513\n",
       "Age                                   0.267332\n",
       "Region_Code_Response_Mean             0.196153\n",
       "Gender_                               0.091994\n",
       "High_Annual_Premium                   0.069250\n",
       "Region_Code                           0.028443\n",
       "Annual_Premium                        0.010067\n",
       "Vintage                              -0.001381\n",
       "id                                   -0.001852\n",
       "Driving_License                      -0.016974\n",
       "Log_Annual_Premium                   -0.040395\n",
       "Annual_Premium_Variated              -0.073027\n",
       "Vehicle_Age_                         -0.173460\n",
       "Policy_Sales_Channel                 -0.225116\n",
       "Previously_Insured                   -0.824849\n",
       "Name: Vehicle_Damage_, dtype: float64"
      ]
     },
     "execution_count": 59,
     "metadata": {},
     "output_type": "execute_result"
    }
   ],
   "source": [
    "df.corr()['Vehicle_Damage_'].sort_values(ascending=False)[1:]"
   ]
  },
  {
   "cell_type": "markdown",
   "id": "787556c5",
   "metadata": {},
   "source": [
    "Correlação muito forte negativa com Previously_Insured, fraca negativa com Policy_Sales_Channel, fraca positiva com Response e Age"
   ]
  },
  {
   "cell_type": "code",
   "execution_count": 60,
   "id": "31251a0c",
   "metadata": {
    "ExecuteTime": {
     "end_time": "2022-04-30T13:48:50.425012Z",
     "start_time": "2022-04-30T13:48:50.380347Z"
    },
    "scrolled": true
   },
   "outputs": [
    {
     "data": {
      "text/plain": [
       "Yes    0.504974\n",
       "No     0.495026\n",
       "Name: Vehicle_Damage, dtype: float64"
      ]
     },
     "execution_count": 60,
     "metadata": {},
     "output_type": "execute_result"
    }
   ],
   "source": [
    "df['Vehicle_Damage'].value_counts(normalize=True)"
   ]
  },
  {
   "cell_type": "code",
   "execution_count": 61,
   "id": "a5d2e19c",
   "metadata": {
    "ExecuteTime": {
     "end_time": "2022-04-30T13:48:55.479899Z",
     "start_time": "2022-04-30T13:48:50.426996Z"
    },
    "scrolled": false
   },
   "outputs": [
    {
     "data": {
      "image/png": "[encoded data removed]",
      "text/plain": [
       "<Figure size 360x360 with 1 Axes>"
      ]
     },
     "metadata": {
      "needs_background": "light"
     },
     "output_type": "display_data"
    }
   ],
   "source": [
    "sns.catplot(x='Vehicle_Damage', y='Response', data=df, kind='bar')\n",
    "plt.title('Média de Response Segregado por Vehicle Damage')\n",
    "plt.ylabel('Média de Response');"
   ]
  },
  {
   "cell_type": "code",
   "execution_count": 62,
   "id": "53d50f20",
   "metadata": {
    "ExecuteTime": {
     "end_time": "2022-04-30T13:48:55.558461Z",
     "start_time": "2022-04-30T13:48:55.481855Z"
    }
   },
   "outputs": [
    {
     "name": "stdout",
     "output_type": "stream",
     "text": [
      "Clientes que já tiveram danos tem: 23.85% de response\n",
      "Clientes que NÃO tiveram danos tem: 0.52% de response\n"
     ]
    }
   ],
   "source": [
    "print(f'Clientes que já tiveram danos tem: {round(df.loc[df[\"Vehicle_Damage\"]==\"Yes\", \"Response\"].mean()*100, 2)}% de response')\n",
    "print(f'Clientes que NÃO tiveram danos tem: {round(df.loc[df[\"Vehicle_Damage\"]==\"No\", \"Response\"].mean()*100, 2)}% de response')"
   ]
  },
  {
   "cell_type": "markdown",
   "id": "7f91fd83",
   "metadata": {},
   "source": [
    "Clientes que já tiveram danos no seu veículo tem 24% de response, enquanto clientes que não tiveram danos têm por volta de 1%"
   ]
  },
  {
   "cell_type": "markdown",
   "id": "fcea5da8",
   "metadata": {},
   "source": [
    "#### Annual_Premium"
   ]
  },
  {
   "cell_type": "markdown",
   "id": "7ce56331",
   "metadata": {
    "heading_collapsed": true
   },
   "source": [
    "###### Principais insights:\n",
    "1. 2799 em Annual_Premmium, não aparentam ser por conta de erros de input\n",
    "2. Há dois grupos de clientes, um com valores fixos em 2630 dollares, e outro com valores contínuos e superiores, não há diferença significativa de média de interesse no produto entre os grupos\n",
    "3. Aparentemente acima do terceiro quartil da distribuição há um interesse maior no produto"
   ]
  },
  {
   "cell_type": "markdown",
   "id": "affe69e7",
   "metadata": {},
   "source": [
    "###### General Analysis"
   ]
  },
  {
   "cell_type": "code",
   "execution_count": 63,
   "id": "39a524bf",
   "metadata": {
    "ExecuteTime": {
     "end_time": "2022-04-30T13:48:55.683528Z",
     "start_time": "2022-04-30T13:48:55.560455Z"
    }
   },
   "outputs": [
    {
     "data": {
      "image/png": "[encoded data removed]",
      "text/plain": [
       "<Figure size 432x288 with 1 Axes>"
      ]
     },
     "metadata": {
      "needs_background": "light"
     },
     "output_type": "display_data"
    }
   ],
   "source": [
    "sns.boxplot(x='Annual_Premium', data=df)\n",
    "plt.title('Quartis de Annual Premium');"
   ]
  },
  {
   "cell_type": "markdown",
   "id": "ce8096c9",
   "metadata": {},
   "source": [
    "Muitos outliers"
   ]
  },
  {
   "cell_type": "code",
   "execution_count": 64,
   "id": "235c56d3",
   "metadata": {
    "ExecuteTime": {
     "end_time": "2022-04-30T13:48:55.705454Z",
     "start_time": "2022-04-30T13:48:55.685520Z"
    }
   },
   "outputs": [],
   "source": [
    "índices, li, ls = buscar_outlier(df, 'Annual_Premium')"
   ]
  },
  {
   "cell_type": "code",
   "execution_count": 65,
   "id": "a87b2440",
   "metadata": {
    "ExecuteTime": {
     "end_time": "2022-04-30T13:48:55.715492Z",
     "start_time": "2022-04-30T13:48:55.709454Z"
    }
   },
   "outputs": [
    {
     "name": "stdout",
     "output_type": "stream",
     "text": [
      "Há 1873 outliers no total\n"
     ]
    }
   ],
   "source": [
    "print(f'Há {len(índices)} outliers no total')"
   ]
  },
  {
   "cell_type": "code",
   "execution_count": 66,
   "id": "c1300707",
   "metadata": {
    "ExecuteTime": {
     "end_time": "2022-04-30T13:48:56.032779Z",
     "start_time": "2022-04-30T13:48:55.719192Z"
    }
   },
   "outputs": [
    {
     "data": {
      "text/plain": [
       "Log_Annual_Premium                    0.874644\n",
       "Annual_Premium_Variated               0.733993\n",
       "High_Annual_Premium                   0.634657\n",
       "Region_Code_Response_Mean             0.250434\n",
       "Age                                   0.067474\n",
       "Vehicle_Age_                          0.025154\n",
       "Response                              0.023226\n",
       "High_Age                              0.018217\n",
       "Vehicle_Damage_                       0.010067\n",
       "id                                    0.003838\n",
       "Gender_                               0.003731\n",
       "Previously_Insured                    0.003194\n",
       "Policy_Sales_Channel_Response_Mean    0.000589\n",
       "Vintage                              -0.000988\n",
       "Region_Code                          -0.009788\n",
       "Driving_License                      -0.012356\n",
       "Policy_Sales_Channel                 -0.113155\n",
       "Name: Annual_Premium, dtype: float64"
      ]
     },
     "execution_count": 66,
     "metadata": {},
     "output_type": "execute_result"
    }
   ],
   "source": [
    "df.corr()['Annual_Premium'].sort_values(ascending=False)[1:]"
   ]
  },
  {
   "cell_type": "markdown",
   "id": "58471dfe",
   "metadata": {},
   "source": [
    "Correlações muito fracas"
   ]
  },
  {
   "cell_type": "code",
   "execution_count": 67,
   "id": "9fc268d1",
   "metadata": {
    "ExecuteTime": {
     "end_time": "2022-04-30T13:48:56.364226Z",
     "start_time": "2022-04-30T13:48:56.035770Z"
    }
   },
   "outputs": [
    {
     "data": {
      "image/png": "[encoded data removed]",
      "text/plain": [
       "<Figure size 432x288 with 1 Axes>"
      ]
     },
     "metadata": {
      "needs_background": "light"
     },
     "output_type": "display_data"
    }
   ],
   "source": [
    "sns.histplot(df.drop(índices)['Annual_Premium'], bins=20)\n",
    "plt.title('Distribuição de Annual Premium');"
   ]
  },
  {
   "cell_type": "code",
   "execution_count": 68,
   "id": "81395132",
   "metadata": {
    "ExecuteTime": {
     "end_time": "2022-04-30T13:48:56.412010Z",
     "start_time": "2022-04-30T13:48:56.365254Z"
    }
   },
   "outputs": [
    {
     "data": {
      "text/plain": [
       "2630.0     0.169983\n",
       "69856.0    0.000370\n",
       "39008.0    0.000102\n",
       "45179.0    0.000099\n",
       "38452.0    0.000099\n",
       "Name: Annual_Premium, dtype: float64"
      ]
     },
     "execution_count": 68,
     "metadata": {},
     "output_type": "execute_result"
    }
   ],
   "source": [
    "df['Annual_Premium'].value_counts(normalize=True).head(5)"
   ]
  },
  {
   "cell_type": "markdown",
   "id": "0f9d7676",
   "metadata": {},
   "source": [
    "17% dos clientes estão contidos em um valor discreto de 2630 dollares. Um estudo separadamente para este grupo pode ser interessante."
   ]
  },
  {
   "cell_type": "code",
   "execution_count": 69,
   "id": "b95adbf1",
   "metadata": {
    "ExecuteTime": {
     "end_time": "2022-04-30T13:48:56.443909Z",
     "start_time": "2022-04-30T13:48:56.413926Z"
    }
   },
   "outputs": [
    {
     "name": "stdout",
     "output_type": "stream",
     "text": [
      "A média de interesse no produto do grupo de clientes com valor FIXO de seguro: 13.19%\n",
      "A média de interesse no produto do grupo de clientes com valor VARIÁVEL SUPERIOR de seguro: 12.12%\n"
     ]
    }
   ],
   "source": [
    "print(f'A média de interesse no produto do grupo de clientes com valor FIXO de seguro: {round(df.loc[df[\"Annual_Premium\"]==2630, \"Response\"].mean()*100, 2)}%')\n",
    "print(f'A média de interesse no produto do grupo de clientes com valor VARIÁVEL SUPERIOR de seguro: {round(df.loc[df[\"Annual_Premium\"]!=2630, \"Response\"].mean()*100, 2)}%')"
   ]
  },
  {
   "cell_type": "markdown",
   "id": "2be8a5d5",
   "metadata": {},
   "source": [
    "O interesse no produto não é significativamente diferente entre os dois grupos de clientes"
   ]
  },
  {
   "cell_type": "markdown",
   "id": "2636777e",
   "metadata": {},
   "source": [
    "**Nicho Variável**"
   ]
  },
  {
   "cell_type": "markdown",
   "id": "0d6c865c",
   "metadata": {},
   "source": [
    "Para uma melhor visualização, os dados serão filtrados provisioriamente até 100000 dollares"
   ]
  },
  {
   "cell_type": "code",
   "execution_count": 70,
   "id": "757d5b03",
   "metadata": {
    "ExecuteTime": {
     "end_time": "2022-04-30T13:48:56.506637Z",
     "start_time": "2022-04-30T13:48:56.446811Z"
    }
   },
   "outputs": [],
   "source": [
    "temp = df.loc[(df['Annual_Premium']>2630)&(df['Annual_Premium']<100000)]"
   ]
  },
  {
   "cell_type": "code",
   "execution_count": 71,
   "id": "ad705bbd",
   "metadata": {
    "ExecuteTime": {
     "end_time": "2022-04-30T13:48:58.188113Z",
     "start_time": "2022-04-30T13:48:56.509017Z"
    }
   },
   "outputs": [
    {
     "data": {
      "image/png": "[encoded data removed]",
      "text/plain": [
       "<Figure size 432x288 with 2 Axes>"
      ]
     },
     "metadata": {
      "needs_background": "light"
     },
     "output_type": "display_data"
    }
   ],
   "source": [
    "plt.subplot(2, 1, 1)\n",
    "plt.title('Distribuição e Densidade de Annual Premium Segregado por Response')\n",
    "g = sns.histplot(temp.loc[temp['Response']==0, 'Annual_Premium'], color='r', alpha=0.5, bins=20)\n",
    "g = sns.histplot(temp.loc[temp['Response']==1, 'Annual_Premium'], color='b', alpha=0.5, bins=20)\n",
    "plt.subplot(2, 1, 2)\n",
    "g = sns.kdeplot(temp.loc[temp['Response']==0, 'Annual_Premium'], color='r', alpha=0.5)\n",
    "g = sns.kdeplot(temp.loc[temp['Response']==1, 'Annual_Premium'], color='b', alpha=0.5)"
   ]
  },
  {
   "cell_type": "markdown",
   "id": "642a5443",
   "metadata": {},
   "source": [
    "Aparentemente acima do terceiro quartil da distribuição há um interesse maior no produto"
   ]
  },
  {
   "cell_type": "code",
   "execution_count": 72,
   "id": "d4654bc5",
   "metadata": {
    "ExecuteTime": {
     "end_time": "2022-04-30T13:48:58.345744Z",
     "start_time": "2022-04-30T13:48:58.188113Z"
    }
   },
   "outputs": [
    {
     "data": {
      "image/png": "[encoded data removed]",
      "text/plain": [
       "<Figure size 432x288 with 1 Axes>"
      ]
     },
     "metadata": {
      "needs_background": "light"
     },
     "output_type": "display_data"
    }
   ],
   "source": [
    "plt.title('Média de Annual Premium Segregados por Response')\n",
    "sns.boxplot(x='Response', y='Annual_Premium', data=temp);"
   ]
  },
  {
   "cell_type": "markdown",
   "id": "a8119cac",
   "metadata": {},
   "source": [
    "Sem diferença significativa"
   ]
  },
  {
   "cell_type": "markdown",
   "id": "d17096d4",
   "metadata": {},
   "source": [
    "**Nicho Fixo**"
   ]
  },
  {
   "cell_type": "code",
   "execution_count": 73,
   "id": "9674c9ec",
   "metadata": {
    "ExecuteTime": {
     "end_time": "2022-04-30T13:48:58.391589Z",
     "start_time": "2022-04-30T13:48:58.349733Z"
    }
   },
   "outputs": [],
   "source": [
    "temp = df[df['Annual_Premium']==2630]"
   ]
  },
  {
   "cell_type": "code",
   "execution_count": 74,
   "id": "d3cdf41e",
   "metadata": {
    "ExecuteTime": {
     "end_time": "2022-04-30T13:48:58.502841Z",
     "start_time": "2022-04-30T13:48:58.393588Z"
    },
    "scrolled": false
   },
   "outputs": [
    {
     "data": {
      "image/png": "[encoded data removed]",
      "text/plain": [
       "<Figure size 432x288 with 1 Axes>"
      ]
     },
     "metadata": {
      "needs_background": "light"
     },
     "output_type": "display_data"
    }
   ],
   "source": [
    "plt.title('Contagem Global de Response')\n",
    "sns.countplot(x='Response', data=temp);"
   ]
  },
  {
   "cell_type": "markdown",
   "id": "0aea2a2f",
   "metadata": {},
   "source": [
    "###### Teste de hipótese 4.3"
   ]
  },
  {
   "cell_type": "markdown",
   "id": "3202eafe",
   "metadata": {},
   "source": [
    "Feature **High_Annual_Premium** criada"
   ]
  },
  {
   "cell_type": "code",
   "execution_count": 75,
   "id": "8540c916",
   "metadata": {
    "ExecuteTime": {
     "end_time": "2022-04-30T13:48:59.971081Z",
     "start_time": "2022-04-30T13:48:58.504769Z"
    },
    "scrolled": true
   },
   "outputs": [
    {
     "data": {
      "image/png": "[encoded data removed]",
      "text/plain": [
       "<Figure size 432x288 with 1 Axes>"
      ]
     },
     "metadata": {
      "needs_background": "light"
     },
     "output_type": "display_data"
    }
   ],
   "source": [
    "temp = df[df['Annual_Premium']<100000]\n",
    "plt.title('Densidade de Annual Premium Segregado por Response Somente com Annual Premmium Varivel')\n",
    "g = sns.kdeplot(temp.loc[(temp['Annual_Premium_Variated']==1)&(temp['Response']==0), 'Annual_Premium'], color='r', alpha=0.5)\n",
    "g = sns.kdeplot(temp.loc[(temp['Annual_Premium_Variated']==1)&(temp['Response']==1), 'Annual_Premium'], color='b', alpha=0.5);"
   ]
  },
  {
   "cell_type": "markdown",
   "id": "c3a9419b",
   "metadata": {},
   "source": [
    "Adicionando aleatoriedade"
   ]
  },
  {
   "cell_type": "code",
   "execution_count": 76,
   "id": "43377605",
   "metadata": {
    "ExecuteTime": {
     "end_time": "2022-04-30T13:49:01.266673Z",
     "start_time": "2022-04-30T13:48:59.973024Z"
    },
    "scrolled": false
   },
   "outputs": [
    {
     "data": {
      "image/png": "[encoded data removed]",
      "text/plain": [
       "<Figure size 1440x432 with 9 Axes>"
      ]
     },
     "metadata": {
      "needs_background": "light"
     },
     "output_type": "display_data"
    }
   ],
   "source": [
    "temp = df[df['Annual_Premium']<100000]\n",
    "plt.figure(figsize=(20, 6))\n",
    "for i in range(1, 10):\n",
    "    plt.subplot(3, 3, i)\n",
    "    índices_aleatórios = np.random.choice(temp.index, 500, replace=False)\n",
    "    temp1 = temp.loc[índices_aleatórios]\n",
    "    g = sns.kdeplot(temp1.loc[(temp1['Annual_Premium_Variated']==1)&(temp1['Response']==0), 'Annual_Premium'], color='r', alpha=0.5)\n",
    "    g = sns.kdeplot(temp1.loc[(temp1['Annual_Premium_Variated']==1)&(temp1['Response']==1), 'Annual_Premium'], color='b', alpha=0.5);"
   ]
  },
  {
   "cell_type": "markdown",
   "id": "08bab7ec",
   "metadata": {},
   "source": [
    "Em um dado acima do terceiro quartil, parece haver maior interesse no produto, porém adicionando-se aleatoriedade, tal fato não demonstra ser estável, sendo comprovado em algumas amostras e em outras não."
   ]
  },
  {
   "cell_type": "code",
   "execution_count": 77,
   "id": "ee9f7dd0",
   "metadata": {
    "ExecuteTime": {
     "end_time": "2022-04-30T13:49:01.297313Z",
     "start_time": "2022-04-30T13:49:01.268674Z"
    }
   },
   "outputs": [
    {
     "name": "stdout",
     "output_type": "stream",
     "text": [
      "A média de Response entre os clientes que fazem parte dos High_Annual_Premium: 0.15\n",
      "A média de Response entre os clientes que NÃO fazem parte dos High_Annual_Premium: 0.12\n"
     ]
    }
   ],
   "source": [
    "print(f'A média de Response entre os clientes que fazem parte dos High_Annual_Premium: {round(df.loc[df[\"High_Annual_Premium\"]==1, \"Response\"].mean(), 2)}')\n",
    "print(f'A média de Response entre os clientes que NÃO fazem parte dos High_Annual_Premium: {round(df.loc[df[\"High_Annual_Premium\"]==0, \"Response\"].mean(), 2)}')"
   ]
  },
  {
   "cell_type": "markdown",
   "id": "95a1cffb",
   "metadata": {},
   "source": [
    "A diferença entre as médias de Response foi de por volta de 20% entre os grupos, portanto, rejeita a hipótese nula."
   ]
  },
  {
   "cell_type": "markdown",
   "id": "1188fea0",
   "metadata": {},
   "source": [
    "#### Policy_Sales_Channel"
   ]
  },
  {
   "cell_type": "markdown",
   "id": "aa14d692",
   "metadata": {
    "heading_collapsed": true
   },
   "source": [
    "###### Main insights:\n",
    "1. Há 157 Policy_Sales_Channel e aproximadamente um terço das amostras está contido no canal 152\n",
    "2. 5 categorias contém 84.19% do total de clientes\n",
    "3. Correlação moderada negativa com Age, correlação fraca negativa com Vehicle_Damage, correlação fraca positiva com Vehicle_Age e Previously_Insured\n",
    "4. Médias de response por canais de Policy_Sales_Channel bastante distintas\n",
    "5. Os canais mais utilizados apresentam médias de response bastante diferentes da média global, os canal 152 é o mais utilizado e apresenta 2% de interesse no produto, o canal 155 apresenta 2%, já os canais 26, 124 e 156 apresentam por volta de 20% de interesse no produto"
   ]
  },
  {
   "cell_type": "markdown",
   "id": "c9180f65",
   "metadata": {},
   "source": [
    "###### General Analysis"
   ]
  },
  {
   "cell_type": "code",
   "execution_count": 78,
   "id": "222bf538",
   "metadata": {
    "ExecuteTime": {
     "end_time": "2022-04-30T13:49:01.616347Z",
     "start_time": "2022-04-30T13:49:01.302324Z"
    },
    "scrolled": true
   },
   "outputs": [
    {
     "data": {
      "text/plain": [
       "Vehicle_Age_                          0.388688\n",
       "Previously_Insured                    0.219889\n",
       "Driving_License                       0.043441\n",
       "Vintage                               0.000040\n",
       "id                                   -0.002598\n",
       "Annual_Premium_Variated              -0.015250\n",
       "Region_Code                          -0.042988\n",
       "Log_Annual_Premium                   -0.061268\n",
       "Gender_                              -0.111758\n",
       "Annual_Premium                       -0.113155\n",
       "Response                             -0.140142\n",
       "High_Annual_Premium                  -0.147865\n",
       "Vehicle_Damage_                      -0.225116\n",
       "Region_Code_Response_Mean            -0.286261\n",
       "Policy_Sales_Channel_Response_Mean   -0.530596\n",
       "High_Age                             -0.552789\n",
       "Age                                  -0.578500\n",
       "Name: Policy_Sales_Channel, dtype: float64"
      ]
     },
     "execution_count": 78,
     "metadata": {},
     "output_type": "execute_result"
    }
   ],
   "source": [
    "df.corr()['Policy_Sales_Channel'].sort_values(ascending=False)[1:]"
   ]
  },
  {
   "cell_type": "markdown",
   "id": "235f86ff",
   "metadata": {},
   "source": [
    "Correlação moderada negativa com Age, correlação fraca negativa com Vehicle_Damage, correlação fraca positiva com Vehicle_Age e Previously_Insured"
   ]
  },
  {
   "cell_type": "code",
   "execution_count": 79,
   "id": "9c06ab42",
   "metadata": {
    "ExecuteTime": {
     "end_time": "2022-04-30T13:49:01.646718Z",
     "start_time": "2022-04-30T13:49:01.618943Z"
    },
    "scrolled": true
   },
   "outputs": [
    {
     "data": {
      "text/plain": [
       "152.0    0.353547\n",
       "26.0     0.209115\n",
       "124.0    0.194182\n",
       "160.0    0.057333\n",
       "156.0    0.027991\n",
       "Name: Policy_Sales_Channel, dtype: float64"
      ]
     },
     "execution_count": 79,
     "metadata": {},
     "output_type": "execute_result"
    }
   ],
   "source": [
    "df['Policy_Sales_Channel'].value_counts(normalize=True).head(5)"
   ]
  },
  {
   "cell_type": "code",
   "execution_count": 80,
   "id": "ffdb9554",
   "metadata": {
    "ExecuteTime": {
     "end_time": "2022-04-30T13:49:01.662311Z",
     "start_time": "2022-04-30T13:49:01.648219Z"
    }
   },
   "outputs": [],
   "source": [
    "canais_mais_utilizados = df['Policy_Sales_Channel'].value_counts(normalize=True).head(5).index"
   ]
  },
  {
   "cell_type": "code",
   "execution_count": 81,
   "id": "6f42427f",
   "metadata": {
    "ExecuteTime": {
     "end_time": "2022-04-30T13:49:01.693902Z",
     "start_time": "2022-04-30T13:49:01.666255Z"
    }
   },
   "outputs": [
    {
     "name": "stdout",
     "output_type": "stream",
     "text": [
      "5 categorias contém 84.22% do total de clientes\n"
     ]
    }
   ],
   "source": [
    "print(f'5 categorias contém {round(df[\"Policy_Sales_Channel\"].value_counts(normalize=True).head(5).sum()*100, 2)}% do total de clientes')"
   ]
  },
  {
   "cell_type": "code",
   "execution_count": 82,
   "id": "e2182d40",
   "metadata": {
    "ExecuteTime": {
     "end_time": "2022-04-30T13:49:08.712551Z",
     "start_time": "2022-04-30T13:49:01.701892Z"
    },
    "scrolled": false
   },
   "outputs": [
    {
     "data": {
      "image/png": "[encoded data removed]",
      "text/plain": [
       "<Figure size 1080x360 with 1 Axes>"
      ]
     },
     "metadata": {
      "needs_background": "light"
     },
     "output_type": "display_data"
    }
   ],
   "source": [
    "sns.catplot(x='Policy_Sales_Channel', y='Response', data=df, kind='bar', aspect=3)\n",
    "plt.xticks(range(0, int(df['Policy_Sales_Channel'].max()), 10))\n",
    "plt.title('Média de Response Segregada por Policy Sales Channel')\n",
    "plt.ylabel('Média de Response');"
   ]
  },
  {
   "cell_type": "markdown",
   "id": "f7a21094",
   "metadata": {},
   "source": [
    "Médias de response por canais de Policy_Sales_Channel bastante distintas"
   ]
  },
  {
   "cell_type": "code",
   "execution_count": 83,
   "id": "3d1ef8ed",
   "metadata": {
    "ExecuteTime": {
     "end_time": "2022-04-30T13:49:08.774318Z",
     "start_time": "2022-04-30T13:49:08.714705Z"
    }
   },
   "outputs": [
    {
     "data": {
      "text/html": [
       "<div>\n",
       "<style scoped>\n",
       "    .dataframe tbody tr th:only-of-type {\n",
       "        vertical-align: middle;\n",
       "    }\n",
       "\n",
       "    .dataframe tbody tr th {\n",
       "        vertical-align: top;\n",
       "    }\n",
       "\n",
       "    .dataframe thead th {\n",
       "        text-align: right;\n",
       "    }\n",
       "</style>\n",
       "<table border=\"1\" class=\"dataframe\">\n",
       "  <thead>\n",
       "    <tr style=\"text-align: right;\">\n",
       "      <th></th>\n",
       "      <th>Policy_Sales_Channel</th>\n",
       "      <th>Response_Count</th>\n",
       "      <th>Response_Mean</th>\n",
       "    </tr>\n",
       "  </thead>\n",
       "  <tbody>\n",
       "    <tr>\n",
       "      <th>142</th>\n",
       "      <td>152.0</td>\n",
       "      <td>121266</td>\n",
       "      <td>0.028532</td>\n",
       "    </tr>\n",
       "    <tr>\n",
       "      <th>24</th>\n",
       "      <td>26.0</td>\n",
       "      <td>71726</td>\n",
       "      <td>0.200402</td>\n",
       "    </tr>\n",
       "    <tr>\n",
       "      <th>117</th>\n",
       "      <td>124.0</td>\n",
       "      <td>66604</td>\n",
       "      <td>0.189613</td>\n",
       "    </tr>\n",
       "    <tr>\n",
       "      <th>150</th>\n",
       "      <td>160.0</td>\n",
       "      <td>19665</td>\n",
       "      <td>0.022070</td>\n",
       "    </tr>\n",
       "    <tr>\n",
       "      <th>146</th>\n",
       "      <td>156.0</td>\n",
       "      <td>9601</td>\n",
       "      <td>0.214561</td>\n",
       "    </tr>\n",
       "  </tbody>\n",
       "</table>\n",
       "</div>"
      ],
      "text/plain": [
       "     Policy_Sales_Channel  Response_Count  Response_Mean\n",
       "142                 152.0          121266       0.028532\n",
       "24                   26.0           71726       0.200402\n",
       "117                 124.0           66604       0.189613\n",
       "150                 160.0           19665       0.022070\n",
       "146                 156.0            9601       0.214561"
      ]
     },
     "execution_count": 83,
     "metadata": {},
     "output_type": "execute_result"
    }
   ],
   "source": [
    "temp = df.groupby('Policy_Sales_Channel', as_index=False).agg({'Response':'count'})\n",
    "temp.rename(columns={'Response':'Response_Count'}, inplace=True)\n",
    "\n",
    "temp2 = df.groupby('Policy_Sales_Channel', as_index=False).agg({'Response':'mean'})\n",
    "temp2.rename(columns={'Response':'Response_Mean'}, inplace=True)\n",
    "\n",
    "temp3 = temp.merge(temp2, how='left', on='Policy_Sales_Channel')\n",
    "temp3.sort_values('Response_Count', ascending=False).head(5)"
   ]
  },
  {
   "cell_type": "markdown",
   "id": "9c507718",
   "metadata": {},
   "source": [
    "Os canais mais utilizados apresentam médias de response bastante diferentes da média global, os canal 152 é o mais utilizado e apresenta 2% de interesse no produto, o canal 155 apresenta 2%, já os canais 26, 124 e 156 apresentam por volta de 20% de interesse no produto"
   ]
  },
  {
   "cell_type": "code",
   "execution_count": 84,
   "id": "9fa06bc9",
   "metadata": {
    "ExecuteTime": {
     "end_time": "2022-04-30T13:49:08.790311Z",
     "start_time": "2022-04-30T13:49:08.777341Z"
    }
   },
   "outputs": [],
   "source": [
    "del(temp, temp2, temp3)"
   ]
  },
  {
   "cell_type": "markdown",
   "id": "6ff1be54",
   "metadata": {},
   "source": [
    "#### Vintage"
   ]
  },
  {
   "cell_type": "markdown",
   "id": "c209cdb5",
   "metadata": {},
   "source": [
    "###### Main insights:\n",
    "1. Feature categórica, há 290 categorias em Vintage"
   ]
  },
  {
   "cell_type": "markdown",
   "id": "014f2167",
   "metadata": {},
   "source": [
    "###### General Analysis"
   ]
  },
  {
   "cell_type": "code",
   "execution_count": 85,
   "id": "9ce20614",
   "metadata": {
    "ExecuteTime": {
     "end_time": "2022-04-30T13:49:09.152691Z",
     "start_time": "2022-04-30T13:49:08.793301Z"
    }
   },
   "outputs": [
    {
     "data": {
      "text/plain": [
       "Vehicle_Age_                          0.003444\n",
       "Previously_Insured                    0.002204\n",
       "High_Annual_Premium                   0.000727\n",
       "Region_Code_Response_Mean             0.000327\n",
       "Policy_Sales_Channel                  0.000040\n",
       "Driving_License                      -0.000611\n",
       "Annual_Premium                       -0.000988\n",
       "Response                             -0.001069\n",
       "id                                   -0.001120\n",
       "Age                                  -0.001344\n",
       "Vehicle_Damage_                      -0.001381\n",
       "Log_Annual_Premium                   -0.002088\n",
       "High_Age                             -0.002194\n",
       "Region_Code                          -0.002292\n",
       "Annual_Premium_Variated              -0.002517\n",
       "Policy_Sales_Channel_Response_Mean   -0.002585\n",
       "Gender_                              -0.003352\n",
       "Name: Vintage, dtype: float64"
      ]
     },
     "execution_count": 85,
     "metadata": {},
     "output_type": "execute_result"
    }
   ],
   "source": [
    "df.corr()['Vintage'].sort_values(ascending=False)[1:]"
   ]
  },
  {
   "cell_type": "markdown",
   "id": "5673fb9a",
   "metadata": {},
   "source": [
    "Correlações muito fracas"
   ]
  },
  {
   "cell_type": "code",
   "execution_count": 86,
   "id": "737bd8b2",
   "metadata": {
    "ExecuteTime": {
     "end_time": "2022-04-30T13:49:18.459149Z",
     "start_time": "2022-04-30T13:49:09.154604Z"
    },
    "scrolled": false
   },
   "outputs": [
    {
     "data": {
      "image/png": "[encoded data removed]",
      "text/plain": [
       "<Figure size 1080x360 with 1 Axes>"
      ]
     },
     "metadata": {
      "needs_background": "light"
     },
     "output_type": "display_data"
    }
   ],
   "source": [
    "sns.catplot(x='Vintage', y='Response', data=df, kind='bar', aspect=3)\n",
    "plt.title('Média de Response Segregado por Vintage')\n",
    "plt.ylabel('Média de Response')\n",
    "plt.xticks(range(0, df['Vintage'].max(), 20));"
   ]
  },
  {
   "cell_type": "markdown",
   "id": "b3e41a21",
   "metadata": {},
   "source": [
    "Muito ruidoso, os desvios padrões colocam tudo no mesmo nível."
   ]
  },
  {
   "cell_type": "markdown",
   "id": "f16291d5",
   "metadata": {},
   "source": [
    "## 5.4 Removing expendable features"
   ]
  },
  {
   "cell_type": "code",
   "execution_count": 87,
   "id": "427feabe",
   "metadata": {
    "ExecuteTime": {
     "end_time": "2022-04-30T13:49:18.506510Z",
     "start_time": "2022-04-30T13:49:18.462139Z"
    }
   },
   "outputs": [],
   "source": [
    "df.drop(['High_Annual_Premium', 'Annual_Premium_Variated'], axis=1, inplace=True)"
   ]
  },
  {
   "cell_type": "markdown",
   "id": "eb8da3ad",
   "metadata": {},
   "source": [
    "Features **High_Annual_Premium e Annual_Premium_Variated** foram testadas pelo ml_modeling, não contribuíram com o mocelo, portanto serão removidas."
   ]
  },
  {
   "cell_type": "markdown",
   "id": "bd52d54a",
   "metadata": {},
   "source": [
    "## 5.5 Principais Features e Importâncias"
   ]
  },
  {
   "cell_type": "markdown",
   "id": "9ec35588",
   "metadata": {},
   "source": [
    "### 5.5.1 Importances"
   ]
  },
  {
   "cell_type": "markdown",
   "id": "27234e0e",
   "metadata": {},
   "source": [
    "O código deste tópico poderá ser rodado apenas após os outros notebooks do projeto serem processados."
   ]
  },
  {
   "cell_type": "code",
   "execution_count": 88,
   "id": "f6e49701",
   "metadata": {
    "ExecuteTime": {
     "end_time": "2022-04-30T13:49:18.522174Z",
     "start_time": "2022-04-30T13:49:18.508468Z"
    }
   },
   "outputs": [],
   "source": [
    "# ranking = pickle.load(open('D:\\\\My Drive\\\\Pessoal\\\\Projetos\\\\insurance_sales_predict\\\\insurance_sales_predict\\\\data\\\\interim\\\\ranking_feature_selection.pkl', 'rb'))\n",
    "\n",
    "# ranking"
   ]
  },
  {
   "cell_type": "markdown",
   "id": "9760ffb5",
   "metadata": {},
   "source": [
    "1. As colunas \"correlations\", \"importance_rf\" e \"importance_xgb\" são quantitativas e estão na mesma escala\n",
    "2. A coluna \"rfe_xgb\" é tipo tipo ranking, quanto menor o número melhor a colocação\n",
    "3. A coluna \"boruta\" é binária, 1 significa uma feature relevante e 2 uma feature a ser dispensada"
   ]
  },
  {
   "cell_type": "code",
   "execution_count": 89,
   "id": "811d2bad",
   "metadata": {
    "ExecuteTime": {
     "end_time": "2022-04-30T13:49:18.537563Z",
     "start_time": "2022-04-30T13:49:18.525124Z"
    }
   },
   "outputs": [],
   "source": [
    "# ranking_1 = ranking[['correlations', 'importance_rf', 'importance_xgb']].copy()\n",
    "# ranking_1['total'] = np.sum(ranking_1, axis=1)\n",
    "\n",
    "# ranking_1.sort_values('total', ascending=False, inplace=True)\n",
    "\n",
    "# ranking_1.drop('total', axis=1).plot(kind='bar', stacked=True)\n",
    "# plt.title('Importancias das features')\n",
    "# plt.ylabel('Soma das Importancias');"
   ]
  },
  {
   "cell_type": "markdown",
   "id": "f8af98fa",
   "metadata": {},
   "source": [
    "# 6.0 Exportings"
   ]
  },
  {
   "cell_type": "markdown",
   "id": "f2c6f219",
   "metadata": {},
   "source": [
    "###### 6.1 Dataframe"
   ]
  },
  {
   "cell_type": "code",
   "execution_count": 90,
   "id": "02359b0a",
   "metadata": {
    "ExecuteTime": {
     "end_time": "2022-04-30T13:49:18.631476Z",
     "start_time": "2022-04-30T13:49:18.539973Z"
    }
   },
   "outputs": [
    {
     "name": "stdout",
     "output_type": "stream",
     "text": [
      "Criado df processado para seguir para preparação de dados e ML\n"
     ]
    }
   ],
   "source": [
    "pickle.dump(df, open('D:\\\\My Drive\\\\Pessoal\\\\Projetos\\\\insurance_sales_predict\\\\insurance_sales_predict\\\\data\\\\interim\\\\df_to_data_preparation.pkl', 'wb'))\n",
    "print('Criado df processado para seguir para preparação de dados e ML')"
   ]
  },
  {
   "cell_type": "markdown",
   "id": "b7678f2e",
   "metadata": {},
   "source": [
    "###### 6.2 Encodings"
   ]
  },
  {
   "cell_type": "code",
   "execution_count": 91,
   "id": "fdf68f57",
   "metadata": {
    "ExecuteTime": {
     "end_time": "2022-04-30T13:49:18.662623Z",
     "start_time": "2022-04-30T13:49:18.633421Z"
    }
   },
   "outputs": [],
   "source": [
    "pickle.dump(le_gender, open('D:\\\\My Drive\\\\Pessoal\\\\Projetos\\\\insurance_sales_predict\\\\webapp\\\\le_gender.pkl', 'wb'))\n",
    "pickle.dump(le_gender, open('D:\\\\My Drive\\\\Pessoal\\\\Projetos\\\\insurance_sales_predict\\\\insurance_sales_predict\\\\src\\\\features\\\\le_gender.pkl', 'wb'))\n",
    "\n",
    "pickle.dump(le_vehicle_damage, open('D:\\\\My Drive\\\\Pessoal\\\\Projetos\\\\insurance_sales_predict\\\\webapp\\\\le_vehicle_damage.pkl', 'wb'))\n",
    "pickle.dump(le_vehicle_damage, open('D:\\\\My Drive\\\\Pessoal\\\\Projetos\\\\insurance_sales_predict\\\\insurance_sales_predict\\\\src\\\\features\\\\le_vehicle_damage.pkl', 'wb'))\n",
    "\n",
    "pickle.dump(le_vehicle_age, open('D:\\\\My Drive\\\\Pessoal\\\\Projetos\\\\insurance_sales_predict\\\\webapp\\\\le_vehicle_age.pkl', 'wb'))\n",
    "pickle.dump(le_vehicle_age, open('D:\\\\My Drive\\\\Pessoal\\\\Projetos\\\\insurance_sales_predict\\\\insurance_sales_predict\\\\src\\\\features\\\\le_vehicle_age.pkl', 'wb'))"
   ]
  },
  {
   "cell_type": "markdown",
   "id": "fc09bdb1",
   "metadata": {},
   "source": [
    "###### 6.3 Features"
   ]
  },
  {
   "cell_type": "code",
   "execution_count": 92,
   "id": "3a4f764f",
   "metadata": {
    "ExecuteTime": {
     "end_time": "2022-04-30T13:49:18.677786Z",
     "start_time": "2022-04-30T13:49:18.666858Z"
    }
   },
   "outputs": [],
   "source": [
    "# pickle policy_sales_channel map\n",
    "pickle.dump(map_policy_sales_channel_response_mean, open('D:\\\\My Drive\\\\Pessoal\\\\Projetos\\\\insurance_sales_predict\\webapp\\\\map_policy_sales_channel_response_mean.pkl', 'wb'))\n",
    "pickle.dump(map_policy_sales_channel_response_mean, open('D:\\\\My Drive\\\\Pessoal\\\\Projetos\\\\insurance_sales_predict\\insurance_sales_predict\\\\src\\\\features\\\\map_policy_sales_channel_response_mean.pkl', 'wb'))\n",
    "# pickle region_code map\n",
    "pickle.dump(map_region_code_response_mean, open('D:\\\\My Drive\\\\Pessoal\\\\Projetos\\\\insurance_sales_predict\\\\webapp\\\\map_region_code_response_mean.pkl', 'wb'))\n",
    "pickle.dump(map_region_code_response_mean, open('D:\\\\My Drive\\\\Pessoal\\\\Projetos\\\\insurance_sales_predict\\\\insurance_sales_predict\\\\src\\\\features\\\\map_region_code_response_mean.pkl', 'wb'))"
   ]
  },
  {
   "cell_type": "markdown",
   "id": "d96210a6",
   "metadata": {},
   "source": [
    "###### 6.4 Test"
   ]
  },
  {
   "cell_type": "code",
   "execution_count": 93,
   "id": "2c450ebf",
   "metadata": {
    "ExecuteTime": {
     "end_time": "2022-04-30T13:49:18.708319Z",
     "start_time": "2022-04-30T13:49:18.680699Z"
    }
   },
   "outputs": [],
   "source": [
    "pickle.dump(test, open('D:\\\\My Drive\\\\Pessoal\\\\Projetos\\\\insurance_sales_predict\\\\insurance_sales_predict\\\\data\\\\raw\\\\test.pkl', 'wb'))"
   ]
  },
  {
   "cell_type": "markdown",
   "id": "fb9a5ad7",
   "metadata": {},
   "source": [
    "# Time"
   ]
  },
  {
   "cell_type": "code",
   "execution_count": 94,
   "id": "300c6a83",
   "metadata": {
    "ExecuteTime": {
     "end_time": "2022-04-30T13:49:18.724080Z",
     "start_time": "2022-04-30T13:49:18.711316Z"
    },
    "scrolled": true
   },
   "outputs": [
    {
     "name": "stdout",
     "output_type": "stream",
     "text": [
      "O tempo de processamento do projeto foi de: 0 minutos\n"
     ]
    }
   ],
   "source": [
    "print(f'O tempo de processamento do projeto foi de: {int(round(time.time()-time_agora, 2)/60)} minutos')"
   ]
  }
 ],
 "metadata": {
  "kernelspec": {
   "display_name": "Python 3 (ipykernel)",
   "language": "python",
   "name": "python3"
  },
  "language_info": {
   "codemirror_mode": {
    "name": "ipython",
    "version": 3
   },
   "file_extension": ".py",
   "mimetype": "text/x-python",
   "name": "python",
   "nbconvert_exporter": "python",
   "pygments_lexer": "ipython3",
   "version": "3.9.7"
  }
 },
 "nbformat": 4,
 "nbformat_minor": 5
}
