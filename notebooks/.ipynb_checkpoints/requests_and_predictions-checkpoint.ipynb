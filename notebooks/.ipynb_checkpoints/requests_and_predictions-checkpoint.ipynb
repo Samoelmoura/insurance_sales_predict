{
 "cells": [
  {
   "cell_type": "markdown",
   "id": "f5f22930",
   "metadata": {
    "heading_collapsed": true
   },
   "source": [
    "# Reports\n",
    "1. Inputs: data raw from kaggle\n",
    "2. Outputs: predictions\n",
    "3. ..."
   ]
  },
  {
   "cell_type": "markdown",
   "id": "0dccb07a",
   "metadata": {
    "heading_collapsed": true
   },
   "source": [
    "# 1.0 Imports"
   ]
  },
  {
   "cell_type": "markdown",
   "id": "23eec6a4",
   "metadata": {
    "heading_collapsed": true,
    "hidden": true
   },
   "source": [
    "###### 1.1 Libraries"
   ]
  },
  {
   "cell_type": "code",
   "execution_count": 1,
   "id": "23095494",
   "metadata": {
    "hidden": true
   },
   "outputs": [],
   "source": [
    "import pandas as pd\n",
    "import numpy as np\n",
    "\n",
    "import requests\n",
    "\n",
    "import time\n",
    "import warnings\n",
    "\n",
    "# Tempo de processamento\n",
    "time_agora = time.time()"
   ]
  },
  {
   "cell_type": "markdown",
   "id": "159dd48c",
   "metadata": {
    "heading_collapsed": true,
    "hidden": true
   },
   "source": [
    "###### 1.2 Colecting data"
   ]
  },
  {
   "cell_type": "code",
   "execution_count": 2,
   "id": "8d8568be",
   "metadata": {
    "hidden": true
   },
   "outputs": [],
   "source": [
    "train = pd.read_csv(r'D:\\\\My Drive\\\\Pessoal\\\\Projetos\\\\insurance_sales_predict\\\\insurance_sales_predict\\\\train.csv')\n",
    "test = pd.read_csv(r'D:\\\\My Drive\\\\Pessoal\\\\Projetos\\\\insurance_sales_predict\\\\insurance_sales_predict\\\\test.csv')\n",
    "df_raw = pd.concat([train, test])"
   ]
  },
  {
   "cell_type": "markdown",
   "id": "b7cfd694",
   "metadata": {},
   "source": [
    "# 2.0 Predictions"
   ]
  },
  {
   "cell_type": "markdown",
   "id": "89a0b271",
   "metadata": {},
   "source": [
    "##### 2.1 Simulating data for requests"
   ]
  },
  {
   "cell_type": "code",
   "execution_count": 4,
   "id": "93b63754",
   "metadata": {},
   "outputs": [],
   "source": [
    "request_1 = df_raw.drop('Response', axis=1).sample(1)\n",
    "request_1_json = request_1.to_json(orient='records')\n",
    "request_vários = df_raw.drop('Response', axis=1).sample(100)\n",
    "request_vários_json = request_vários.to_json(orient='records')"
   ]
  },
  {
   "cell_type": "markdown",
   "id": "7c5b258b",
   "metadata": {},
   "source": [
    "##### 2.2 Request"
   ]
  },
  {
   "cell_type": "code",
   "execution_count": 5,
   "id": "4955070d",
   "metadata": {
    "scrolled": true
   },
   "outputs": [
    {
     "data": {
      "text/plain": [
       "200"
      ]
     },
     "execution_count": 5,
     "metadata": {},
     "output_type": "execute_result"
    }
   ],
   "source": [
    "url = 'http://192.168.15.26:5000/predict'\n",
    "data = request_vários_json\n",
    "headers = {'Content-type':'application/json'}\n",
    "\n",
    "received = requests.post(url=url, data=data, headers=headers)\n",
    "received.status_code"
   ]
  },
  {
   "cell_type": "markdown",
   "id": "02f031ca",
   "metadata": {},
   "source": [
    "##### 8.3 Received"
   ]
  },
  {
   "cell_type": "code",
   "execution_count": 6,
   "id": "e3d04656",
   "metadata": {
    "scrolled": false
   },
   "outputs": [
    {
     "data": {
      "text/html": [
       "<div>\n",
       "<style scoped>\n",
       "    .dataframe tbody tr th:only-of-type {\n",
       "        vertical-align: middle;\n",
       "    }\n",
       "\n",
       "    .dataframe tbody tr th {\n",
       "        vertical-align: top;\n",
       "    }\n",
       "\n",
       "    .dataframe thead th {\n",
       "        text-align: right;\n",
       "    }\n",
       "</style>\n",
       "<table border=\"1\" class=\"dataframe\">\n",
       "  <thead>\n",
       "    <tr style=\"text-align: right;\">\n",
       "      <th></th>\n",
       "      <th>Age</th>\n",
       "      <th>Previously_Insured</th>\n",
       "      <th>Gender_</th>\n",
       "      <th>Vehicle_Damage_</th>\n",
       "      <th>Policy_Sales_Channel_Response_Mean</th>\n",
       "      <th>Region_Code_Response_Mean</th>\n",
       "      <th>Log_Annual_Premium</th>\n",
       "      <th>High_Response_Age</th>\n",
       "      <th>Vehicle_Age_&lt; 1 Year</th>\n",
       "      <th>Vehicle_Age_&gt; 2 Years</th>\n",
       "      <th>predictions</th>\n",
       "    </tr>\n",
       "  </thead>\n",
       "  <tbody>\n",
       "    <tr>\n",
       "      <th>0</th>\n",
       "      <td>0.205112</td>\n",
       "      <td>1.086689</td>\n",
       "      <td>-1.085193</td>\n",
       "      <td>-1.008517</td>\n",
       "      <td>-1.088230</td>\n",
       "      <td>-0.513775</td>\n",
       "      <td>-2.135897</td>\n",
       "      <td>0.827798</td>\n",
       "      <td>-0.871583</td>\n",
       "      <td>-0.210045</td>\n",
       "      <td>0.0</td>\n",
       "    </tr>\n",
       "    <tr>\n",
       "      <th>1</th>\n",
       "      <td>-0.117454</td>\n",
       "      <td>-0.920227</td>\n",
       "      <td>0.921495</td>\n",
       "      <td>0.991555</td>\n",
       "      <td>2.102629</td>\n",
       "      <td>-0.017348</td>\n",
       "      <td>0.479053</td>\n",
       "      <td>0.827798</td>\n",
       "      <td>-0.871583</td>\n",
       "      <td>-0.210045</td>\n",
       "      <td>1.0</td>\n",
       "    </tr>\n",
       "    <tr>\n",
       "      <th>2</th>\n",
       "      <td>0.463166</td>\n",
       "      <td>1.086689</td>\n",
       "      <td>0.921495</td>\n",
       "      <td>-1.008517</td>\n",
       "      <td>0.770576</td>\n",
       "      <td>-0.434353</td>\n",
       "      <td>0.312304</td>\n",
       "      <td>0.827798</td>\n",
       "      <td>-0.871583</td>\n",
       "      <td>-0.210045</td>\n",
       "      <td>0.0</td>\n",
       "    </tr>\n",
       "    <tr>\n",
       "      <th>3</th>\n",
       "      <td>0.205112</td>\n",
       "      <td>-0.920227</td>\n",
       "      <td>0.921495</td>\n",
       "      <td>0.991555</td>\n",
       "      <td>0.287767</td>\n",
       "      <td>-0.283490</td>\n",
       "      <td>-0.043865</td>\n",
       "      <td>0.827798</td>\n",
       "      <td>-0.871583</td>\n",
       "      <td>-0.210045</td>\n",
       "      <td>1.0</td>\n",
       "    </tr>\n",
       "    <tr>\n",
       "      <th>4</th>\n",
       "      <td>1.366354</td>\n",
       "      <td>-0.920227</td>\n",
       "      <td>0.921495</td>\n",
       "      <td>-1.008517</td>\n",
       "      <td>0.311762</td>\n",
       "      <td>1.426486</td>\n",
       "      <td>0.459619</td>\n",
       "      <td>0.827798</td>\n",
       "      <td>-0.871583</td>\n",
       "      <td>-0.210045</td>\n",
       "      <td>0.0</td>\n",
       "    </tr>\n",
       "    <tr>\n",
       "      <th>...</th>\n",
       "      <td>...</td>\n",
       "      <td>...</td>\n",
       "      <td>...</td>\n",
       "      <td>...</td>\n",
       "      <td>...</td>\n",
       "      <td>...</td>\n",
       "      <td>...</td>\n",
       "      <td>...</td>\n",
       "      <td>...</td>\n",
       "      <td>...</td>\n",
       "      <td>...</td>\n",
       "    </tr>\n",
       "    <tr>\n",
       "      <th>95</th>\n",
       "      <td>0.463166</td>\n",
       "      <td>1.086689</td>\n",
       "      <td>0.921495</td>\n",
       "      <td>-1.008517</td>\n",
       "      <td>0.889119</td>\n",
       "      <td>0.017666</td>\n",
       "      <td>0.104414</td>\n",
       "      <td>0.827798</td>\n",
       "      <td>-0.871583</td>\n",
       "      <td>-0.210045</td>\n",
       "      <td>0.0</td>\n",
       "    </tr>\n",
       "    <tr>\n",
       "      <th>96</th>\n",
       "      <td>0.398653</td>\n",
       "      <td>-0.920227</td>\n",
       "      <td>0.921495</td>\n",
       "      <td>0.991555</td>\n",
       "      <td>0.889119</td>\n",
       "      <td>1.426486</td>\n",
       "      <td>0.739828</td>\n",
       "      <td>0.827798</td>\n",
       "      <td>-0.871583</td>\n",
       "      <td>-0.210045</td>\n",
       "      <td>1.0</td>\n",
       "    </tr>\n",
       "    <tr>\n",
       "      <th>97</th>\n",
       "      <td>-1.149669</td>\n",
       "      <td>1.086689</td>\n",
       "      <td>-1.085193</td>\n",
       "      <td>-1.008517</td>\n",
       "      <td>-1.167128</td>\n",
       "      <td>1.426486</td>\n",
       "      <td>0.629550</td>\n",
       "      <td>-1.208024</td>\n",
       "      <td>1.147338</td>\n",
       "      <td>-0.210045</td>\n",
       "      <td>0.0</td>\n",
       "    </tr>\n",
       "    <tr>\n",
       "      <th>98</th>\n",
       "      <td>0.850246</td>\n",
       "      <td>-0.920227</td>\n",
       "      <td>0.921495</td>\n",
       "      <td>0.991555</td>\n",
       "      <td>0.889119</td>\n",
       "      <td>0.017666</td>\n",
       "      <td>-2.135897</td>\n",
       "      <td>0.827798</td>\n",
       "      <td>-0.871583</td>\n",
       "      <td>-0.210045</td>\n",
       "      <td>1.0</td>\n",
       "    </tr>\n",
       "    <tr>\n",
       "      <th>99</th>\n",
       "      <td>0.850246</td>\n",
       "      <td>-0.920227</td>\n",
       "      <td>0.921495</td>\n",
       "      <td>0.991555</td>\n",
       "      <td>0.770576</td>\n",
       "      <td>0.112614</td>\n",
       "      <td>-0.037051</td>\n",
       "      <td>0.827798</td>\n",
       "      <td>-0.871583</td>\n",
       "      <td>-0.210045</td>\n",
       "      <td>1.0</td>\n",
       "    </tr>\n",
       "  </tbody>\n",
       "</table>\n",
       "<p>100 rows × 11 columns</p>\n",
       "</div>"
      ],
      "text/plain": [
       "         Age  Previously_Insured   Gender_  Vehicle_Damage_  \\\n",
       "0   0.205112            1.086689 -1.085193        -1.008517   \n",
       "1  -0.117454           -0.920227  0.921495         0.991555   \n",
       "2   0.463166            1.086689  0.921495        -1.008517   \n",
       "3   0.205112           -0.920227  0.921495         0.991555   \n",
       "4   1.366354           -0.920227  0.921495        -1.008517   \n",
       "..       ...                 ...       ...              ...   \n",
       "95  0.463166            1.086689  0.921495        -1.008517   \n",
       "96  0.398653           -0.920227  0.921495         0.991555   \n",
       "97 -1.149669            1.086689 -1.085193        -1.008517   \n",
       "98  0.850246           -0.920227  0.921495         0.991555   \n",
       "99  0.850246           -0.920227  0.921495         0.991555   \n",
       "\n",
       "    Policy_Sales_Channel_Response_Mean  Region_Code_Response_Mean  \\\n",
       "0                            -1.088230                  -0.513775   \n",
       "1                             2.102629                  -0.017348   \n",
       "2                             0.770576                  -0.434353   \n",
       "3                             0.287767                  -0.283490   \n",
       "4                             0.311762                   1.426486   \n",
       "..                                 ...                        ...   \n",
       "95                            0.889119                   0.017666   \n",
       "96                            0.889119                   1.426486   \n",
       "97                           -1.167128                   1.426486   \n",
       "98                            0.889119                   0.017666   \n",
       "99                            0.770576                   0.112614   \n",
       "\n",
       "    Log_Annual_Premium  High_Response_Age  Vehicle_Age_< 1 Year  \\\n",
       "0            -2.135897           0.827798             -0.871583   \n",
       "1             0.479053           0.827798             -0.871583   \n",
       "2             0.312304           0.827798             -0.871583   \n",
       "3            -0.043865           0.827798             -0.871583   \n",
       "4             0.459619           0.827798             -0.871583   \n",
       "..                 ...                ...                   ...   \n",
       "95            0.104414           0.827798             -0.871583   \n",
       "96            0.739828           0.827798             -0.871583   \n",
       "97            0.629550          -1.208024              1.147338   \n",
       "98           -2.135897           0.827798             -0.871583   \n",
       "99           -0.037051           0.827798             -0.871583   \n",
       "\n",
       "    Vehicle_Age_> 2 Years  predictions  \n",
       "0               -0.210045          0.0  \n",
       "1               -0.210045          1.0  \n",
       "2               -0.210045          0.0  \n",
       "3               -0.210045          1.0  \n",
       "4               -0.210045          0.0  \n",
       "..                    ...          ...  \n",
       "95              -0.210045          0.0  \n",
       "96              -0.210045          1.0  \n",
       "97              -0.210045          0.0  \n",
       "98              -0.210045          1.0  \n",
       "99              -0.210045          1.0  \n",
       "\n",
       "[100 rows x 11 columns]"
      ]
     },
     "execution_count": 6,
     "metadata": {},
     "output_type": "execute_result"
    }
   ],
   "source": [
    "df_predict = pd.DataFrame(received.json(), columns=received.json()[0].keys())\n",
    "df_predict"
   ]
  },
  {
   "cell_type": "markdown",
   "id": "4e378702",
   "metadata": {},
   "source": [
    "# Time"
   ]
  },
  {
   "cell_type": "code",
   "execution_count": 7,
   "id": "903c4b46",
   "metadata": {
    "scrolled": true
   },
   "outputs": [
    {
     "name": "stdout",
     "output_type": "stream",
     "text": [
      "O tempo de processamento do projeto foi de: 0 minutos\n"
     ]
    }
   ],
   "source": [
    "print(f'O tempo de processamento do projeto foi de: {int(round(time.time()-time_agora, 2)/60)} minutos')"
   ]
  }
 ],
 "metadata": {
  "kernelspec": {
   "display_name": "Python 3 (ipykernel)",
   "language": "python",
   "name": "python3"
  },
  "language_info": {
   "codemirror_mode": {
    "name": "ipython",
    "version": 3
   },
   "file_extension": ".py",
   "mimetype": "text/x-python",
   "name": "python",
   "nbconvert_exporter": "python",
   "pygments_lexer": "ipython3",
   "version": "3.8.8"
  }
 },
 "nbformat": 4,
 "nbformat_minor": 5
}
