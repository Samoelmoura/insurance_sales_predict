{
 "cells": [
  {
   "cell_type": "markdown",
   "id": "f5f22930",
   "metadata": {
    "heading_collapsed": true
   },
   "source": [
    "# Reports\n",
    "1. Inputs: analytics and metrics\n",
    "2. Outputs: results and conclusions"
   ]
  },
  {
   "cell_type": "markdown",
   "id": "4b356105",
   "metadata": {},
   "source": [
    "# 1.0 Imports"
   ]
  },
  {
   "cell_type": "code",
   "execution_count": 1,
   "id": "3302c9ce",
   "metadata": {
    "ExecuteTime": {
     "end_time": "2022-04-18T01:24:58.605657Z",
     "start_time": "2022-04-18T01:24:56.972794Z"
    }
   },
   "outputs": [],
   "source": [
    "import numpy as np\n",
    "import pandas as pd\n",
    "import pickle\n",
    "import seaborn as sns\n",
    "import matplotlib.pyplot as plt\n",
    "\n",
    "import time\n",
    "import warnings\n",
    "\n",
    "# Tempo de processamento\n",
    "time_agora = time.time()"
   ]
  },
  {
   "cell_type": "markdown",
   "id": "bedd7abf",
   "metadata": {},
   "source": [
    "###### 1.1 Loading dataset"
   ]
  },
  {
   "cell_type": "code",
   "execution_count": 2,
   "id": "80e0c5bc",
   "metadata": {
    "ExecuteTime": {
     "end_time": "2022-04-18T01:24:58.935920Z",
     "start_time": "2022-04-18T01:24:58.606659Z"
    }
   },
   "outputs": [],
   "source": [
    "# processed data\n",
    "test = pickle.load(open('D:\\\\My Drive\\\\Pessoal\\\\Projetos\\\\insurance_sales_predict\\\\insurance_sales_predict\\\\exportings\\\\df_predict_request.pkl', 'rb'))\n",
    "df = pd.read_csv('D:\\\\My Drive\\\\Pessoal\\\\Projetos\\\\insurance_sales_predict\\\\insurance_sales_predict\\\\train.csv')\n",
    "\n",
    "# columns\n",
    "model_columns = pickle.load(open('D:\\\\My Drive\\\\Pessoal\\\\Projetos\\\\insurance_sales_predict\\\\insurance_sales_predict\\\\exportings\\\\model_columns.pkl', 'rb'))\n",
    "\n",
    "# Feature selection\n",
    "feature_selection = pickle.load(open('D:\\\\My Drive\\\\Pessoal\\\\Projetos\\\\insurance_sales_predict\\\\insurance_sales_predict\\\\exportings\\\\ranking_feature_selection.pkl', 'rb'))"
   ]
  },
  {
   "cell_type": "markdown",
   "id": "f9110152",
   "metadata": {},
   "source": [
    "# 2.0 Creating Database"
   ]
  },
  {
   "cell_type": "code",
   "execution_count": 3,
   "id": "8f7a03eb",
   "metadata": {
    "ExecuteTime": {
     "end_time": "2022-04-18T01:24:58.966585Z",
     "start_time": "2022-04-18T01:24:58.939104Z"
    }
   },
   "outputs": [],
   "source": [
    "cols = 'Response probability'.split()\n",
    "\n",
    "test = test[cols]\n",
    "\n",
    "test = test.rename(columns={'Response': 'response'})\n",
    "\n",
    "test.sort_values('probability', ascending=False, inplace=True)"
   ]
  },
  {
   "cell_type": "markdown",
   "id": "9c7d0977",
   "metadata": {},
   "source": [
    "###### 2.1 Creating X_axis"
   ]
  },
  {
   "cell_type": "code",
   "execution_count": 4,
   "id": "f40457cb",
   "metadata": {
    "ExecuteTime": {
     "end_time": "2022-04-18T01:24:58.981732Z",
     "start_time": "2022-04-18T01:24:58.970240Z"
    }
   },
   "outputs": [],
   "source": [
    "total_base = test.shape[0]\n",
    "\n",
    "test['prop_base'] = 1 / total_base\n",
    "\n",
    "test['cum_prop_base'] = np.cumsum(test['prop_base'])\n",
    "\n",
    "cols_to_del = ['prop_base']"
   ]
  },
  {
   "cell_type": "markdown",
   "id": "5d7b6daa",
   "metadata": {},
   "source": [
    "###### 2.2 Cummulative Interesteds"
   ]
  },
  {
   "cell_type": "code",
   "execution_count": 5,
   "id": "a8629c9e",
   "metadata": {
    "ExecuteTime": {
     "end_time": "2022-04-18T01:24:58.997821Z",
     "start_time": "2022-04-18T01:24:58.984269Z"
    }
   },
   "outputs": [],
   "source": [
    "total_interesteds = test['response'].sum()\n",
    "\n",
    "test['cum_response'] = np.cumsum(test['response'])\n",
    "\n",
    "test['cum_prop_response'] = test['cum_response'] / total_interesteds"
   ]
  },
  {
   "cell_type": "markdown",
   "id": "1664d958",
   "metadata": {},
   "source": [
    "###### 2.3 Baseline"
   ]
  },
  {
   "cell_type": "code",
   "execution_count": 6,
   "id": "88133836",
   "metadata": {
    "ExecuteTime": {
     "end_time": "2022-04-18T01:24:59.013393Z",
     "start_time": "2022-04-18T01:24:58.999462Z"
    }
   },
   "outputs": [],
   "source": [
    "test['baseline_model'] = 1 / total_base\n",
    "\n",
    "test['baseline_model'] = np.cumsum(test['baseline_model'])"
   ]
  },
  {
   "cell_type": "markdown",
   "id": "4d2bae02",
   "metadata": {},
   "source": [
    "###### 2.4 Perfect Model"
   ]
  },
  {
   "cell_type": "code",
   "execution_count": 7,
   "id": "7a8f5f13",
   "metadata": {
    "ExecuteTime": {
     "end_time": "2022-04-18T01:24:59.028930Z",
     "start_time": "2022-04-18T01:24:59.015206Z"
    }
   },
   "outputs": [],
   "source": [
    "test.reset_index(drop=True, inplace=True)\n",
    "\n",
    "test['perfect_model'] = 0\n",
    "\n",
    "test.loc[range(0, total_interesteds, 1), 'perfect_model'] = 1\n",
    "\n",
    "test['perfect_model'] = np.cumsum(test['perfect_model'])\n",
    "\n",
    "test['perfect_model'] = test['perfect_model'] / total_interesteds"
   ]
  },
  {
   "cell_type": "markdown",
   "id": "5f2742ef",
   "metadata": {},
   "source": [
    "###### 2.5 Removing columns"
   ]
  },
  {
   "cell_type": "code",
   "execution_count": 8,
   "id": "df5ebf89",
   "metadata": {
    "ExecuteTime": {
     "end_time": "2022-04-18T01:24:59.045043Z",
     "start_time": "2022-04-18T01:24:59.029940Z"
    }
   },
   "outputs": [],
   "source": [
    "cols_to_del.append('response')\n",
    "\n",
    "test.drop(cols_to_del, axis=1, inplace=True)"
   ]
  },
  {
   "cell_type": "markdown",
   "id": "9ef71a7e",
   "metadata": {},
   "source": [
    "# 3.0 Curva Lift"
   ]
  },
  {
   "cell_type": "code",
   "execution_count": 9,
   "id": "6deeb795",
   "metadata": {
    "ExecuteTime": {
     "end_time": "2022-04-18T01:25:01.240962Z",
     "start_time": "2022-04-18T01:24:59.046051Z"
    },
    "scrolled": false
   },
   "outputs": [
    {
     "data": {
      "image/png": "[encoded data removed]",
      "text/plain": [
       "<Figure size 720x360 with 1 Axes>"
      ]
     },
     "metadata": {
      "needs_background": "light"
     },
     "output_type": "display_data"
    }
   ],
   "source": [
    "plt.figure(figsize=(10, 5))\n",
    "\n",
    "sns.lineplot(data=test, x='cum_prop_base', y='baseline_model', linestyle='--', color='r', label='Curva Baseline')\n",
    "sns.lineplot(data=test, x='cum_prop_base', y='perfect_model', color='g', linestyle='-.', label='Curva Perfeita')\n",
    "sns.lineplot(data=test, x='cum_prop_base', y='cum_prop_response', color='b', label='Curva do Modelo')\n",
    "plt.title('Curva Lift', fontsize=20)\n",
    "plt.xlabel('Proporção da base', fontsize=15)\n",
    "plt.ylabel('Proporção de interessados', fontsize=15)\n",
    "plt.legend(prop={'size': 12}, loc='lower right')\n",
    "sns.despine();"
   ]
  },
  {
   "cell_type": "markdown",
   "id": "3cc5f931",
   "metadata": {},
   "source": [
    "# 4.0 Business Answers"
   ]
  },
  {
   "cell_type": "markdown",
   "id": "cbdac7ae",
   "metadata": {},
   "source": [
    "### 4.1 Principais Insights sobre os atributos mais relevantes de clientes interessados em adquirir um seguro de automóvel."
   ]
  },
  {
   "cell_type": "markdown",
   "id": "dfbbdc44",
   "metadata": {
    "heading_collapsed": true
   },
   "source": [
    "###### Vehicle Damage e Previously Insured são os atributos mais importante da base: \n",
    "Clientes que já possuem seguro de automóvel dificilmente fecharão um contrato. Clientes que já sofreram danos e acionaram o sinistro no passado são mais propensos a fechar um contrato.\n",
    "\n",
    "###### Region Code é importante: \n",
    "A região 28 contém 28% da base e tem uma média de Response de 18% de negócios fechados, bem acima da média geral.\n",
    "\n",
    "###### Sales Channel é importante:\n",
    "Os canais mais utilizados apresentam médias de response bastante diferentes da média global, os canal 152 é o mais utilizado e apresenta 2% de interesse no produto, o canal 155 apresenta 2%, já os canais 26, 124 e 156 apresentam por volta de 20% de interesse no produto\n",
    "\n",
    "###### Age:\n",
    "A média de idade entre os que não se interessam pelo produto é de 38 anos, e dos que se interessam é de 43 anos."
   ]
  },
  {
   "cell_type": "markdown",
   "id": "68dcc1cb",
   "metadata": {},
   "source": [
    "### 4.2 Qual a porcentagem de clientes interessados em adquirir um seguro de automóvel, o time de vendas conseguirá contatar fazendo 20.000 ligações?"
   ]
  },
  {
   "cell_type": "code",
   "execution_count": 10,
   "id": "c65c1266",
   "metadata": {
    "ExecuteTime": {
     "end_time": "2022-04-18T01:25:01.256590Z",
     "start_time": "2022-04-18T01:25:01.244243Z"
    },
    "hide_input": false
   },
   "outputs": [
    {
     "name": "stdout",
     "output_type": "stream",
     "text": [
      "20.000 ligações significam 5.25% de toda a base\n",
      "Com 20.000 ligações o time de negócios irá cobrir por volta de 16.03% dos interessados\n"
     ]
    }
   ],
   "source": [
    "tam_base = df.shape[0]\n",
    "\n",
    "ligações = 20000\n",
    "\n",
    "proporção_ligações_base = ligações / tam_base\n",
    "proporção_ligações_base\n",
    "print(f'20.000 ligações significam {round(proporção_ligações_base*100,2)}% de toda a base')\n",
    "\n",
    "cum_response_fatiado = int(test.loc[test['cum_prop_base'] < proporção_ligações_base, 'cum_response'].tail(1).values)\n",
    "total_response = int(test['cum_response'].tail(1).values)\n",
    "answer = cum_response_fatiado / total_response\n",
    "print(f'Com 20.000 ligações o time de negócios irá cobrir por volta de {round(answer*100, 2)}% dos interessados')"
   ]
  },
  {
   "cell_type": "markdown",
   "id": "72f856be",
   "metadata": {},
   "source": [
    "### 4.3 E se a capacidade do time de vendas aumentar para 40.000 ligações, qual a porcentagem de clientes interessados em adquirir um seguro de automóvel o time de vendas conseguirá contatar?"
   ]
  },
  {
   "cell_type": "code",
   "execution_count": 11,
   "id": "625d2f60",
   "metadata": {
    "ExecuteTime": {
     "end_time": "2022-04-18T01:25:01.272455Z",
     "start_time": "2022-04-18T01:25:01.258084Z"
    }
   },
   "outputs": [
    {
     "name": "stdout",
     "output_type": "stream",
     "text": [
      "40.000 ligações significam 10.5% de toda a base\n",
      "Com 20.000 ligações o time de negócios irá cobrir por volta de 30.86% dos interessados\n"
     ]
    }
   ],
   "source": [
    "tam_base = df.shape[0]\n",
    "\n",
    "ligações = 40000\n",
    "\n",
    "proporção_ligações_base = ligações / tam_base\n",
    "proporção_ligações_base\n",
    "print(f'40.000 ligações significam {round(proporção_ligações_base*100,2)}% de toda a base')\n",
    "\n",
    "cum_response_fatiado = int(test.loc[test['cum_prop_base'] < proporção_ligações_base, 'cum_response'].tail(1).values)\n",
    "total_response = int(test['cum_response'].tail(1).values)\n",
    "answer = cum_response_fatiado / total_response\n",
    "print(f'Com 20.000 ligações o time de negócios irá cobrir por volta de {round(answer*100, 2)}% dos interessados')"
   ]
  },
  {
   "cell_type": "markdown",
   "id": "e943f8c2",
   "metadata": {},
   "source": [
    "### 4.4 Quantas ligações o time de vendas precisa fazer para contatar 80% dos clientes interessados em adquirir um seguro de automóvel?"
   ]
  },
  {
   "cell_type": "code",
   "execution_count": 12,
   "id": "4263fb9f",
   "metadata": {
    "ExecuteTime": {
     "end_time": "2022-04-18T01:25:01.288131Z",
     "start_time": "2022-04-18T01:25:01.274458Z"
    }
   },
   "outputs": [
    {
     "name": "stdout",
     "output_type": "stream",
     "text": [
      "Para cobrir 80% de todos os interessados o time de vendas precisará fazer 117999 contatos,\n",
      "um total de 30.96% de toda base.\n"
     ]
    }
   ],
   "source": [
    "parametro = int(test.loc[test['cum_prop_response']<0.8].tail(1).index.values)\n",
    "tam_base = df.shape[0]\n",
    "tam_test = test.shape[0]\n",
    "proporcional = tam_base / tam_test\n",
    "answer = parametro * proporcional\n",
    "answer_prop = answer / tam_base\n",
    "print(f'Para cobrir 80% de todos os interessados o time de vendas precisará fazer {int(answer)} contatos,\\num total de {round(answer_prop*100, 2)}% de toda base.')"
   ]
  },
  {
   "cell_type": "markdown",
   "id": "f8e018f8",
   "metadata": {},
   "source": [
    "# Time"
   ]
  },
  {
   "cell_type": "code",
   "execution_count": 13,
   "id": "d0c113a0",
   "metadata": {
    "ExecuteTime": {
     "end_time": "2022-04-18T01:25:01.304097Z",
     "start_time": "2022-04-18T01:25:01.290132Z"
    },
    "scrolled": false
   },
   "outputs": [
    {
     "name": "stdout",
     "output_type": "stream",
     "text": [
      "O tempo de processamento do projeto foi de: 0 minutos\n"
     ]
    }
   ],
   "source": [
    "print(f'O tempo de processamento do projeto foi de: {int(round(time.time()-time_agora, 2)/60)} minutos')"
   ]
  }
 ],
 "metadata": {
  "kernelspec": {
   "display_name": "Python 3 (ipykernel)",
   "language": "python",
   "name": "python3"
  },
  "language_info": {
   "codemirror_mode": {
    "name": "ipython",
    "version": 3
   },
   "file_extension": ".py",
   "mimetype": "text/x-python",
   "name": "python",
   "nbconvert_exporter": "python",
   "pygments_lexer": "ipython3",
   "version": "3.9.7"
  }
 },
 "nbformat": 4,
 "nbformat_minor": 5
}
