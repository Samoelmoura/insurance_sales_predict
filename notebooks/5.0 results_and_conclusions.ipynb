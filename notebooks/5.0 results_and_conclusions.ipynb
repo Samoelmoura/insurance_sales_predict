{
 "cells": [
  {
   "cell_type": "markdown",
   "id": "f5f22930",
   "metadata": {
    "heading_collapsed": true
   },
   "source": [
    "# Reports\n",
    "1. Inputs: analytics and metrics\n",
    "2. Outputs: results and conclusions"
   ]
  },
  {
   "cell_type": "markdown",
   "id": "4b356105",
   "metadata": {},
   "source": [
    "# 1.0 Imports"
   ]
  },
  {
   "cell_type": "code",
   "execution_count": 1,
   "id": "3302c9ce",
   "metadata": {
    "ExecuteTime": {
     "end_time": "2022-04-15T21:41:38.940188Z",
     "start_time": "2022-04-15T21:41:36.676272Z"
    }
   },
   "outputs": [],
   "source": [
    "import numpy as np\n",
    "import pandas as pd\n",
    "import pickle\n",
    "import seaborn as sns\n",
    "import matplotlib.pyplot as plt\n",
    "\n",
    "import time\n",
    "import warnings\n",
    "\n",
    "# Tempo de processamento\n",
    "time_agora = time.time()"
   ]
  },
  {
   "cell_type": "markdown",
   "id": "bedd7abf",
   "metadata": {},
   "source": [
    "###### 1.1 Loading dataset"
   ]
  },
  {
   "cell_type": "code",
   "execution_count": 2,
   "id": "80e0c5bc",
   "metadata": {
    "ExecuteTime": {
     "end_time": "2022-04-15T21:41:38.956408Z",
     "start_time": "2022-04-15T21:41:38.943262Z"
    }
   },
   "outputs": [],
   "source": [
    "# processed data\n",
    "df = pickle.load(open('D:\\\\My Drive\\\\Pessoal\\\\Projetos\\\\insurance_sales_predict\\\\insurance_sales_predict\\\\exportings\\\\df_predict_request.pkl', 'rb'))\n",
    "\n",
    "# columns\n",
    "model_columns = pickle.load(open('D:\\\\My Drive\\\\Pessoal\\\\Projetos\\\\insurance_sales_predict\\\\insurance_sales_predict\\\\exportings\\\\model_columns.pkl', 'rb'))\n",
    "\n",
    "# Feature selection\n",
    "feature_selection = pickle.load(open('D:\\\\My Drive\\\\Pessoal\\\\Projetos\\\\insurance_sales_predict\\\\insurance_sales_predict\\\\exportings\\\\ranking_feature_selection.pkl', 'rb'))"
   ]
  },
  {
   "cell_type": "markdown",
   "id": "f9110152",
   "metadata": {},
   "source": [
    "# 2.0 Curva Lift"
   ]
  },
  {
   "cell_type": "markdown",
   "id": "af78e2bc",
   "metadata": {},
   "source": [
    "## 2.1 Creating Database"
   ]
  },
  {
   "cell_type": "code",
   "execution_count": 3,
   "id": "8f7a03eb",
   "metadata": {
    "ExecuteTime": {
     "end_time": "2022-04-15T21:41:38.987564Z",
     "start_time": "2022-04-15T21:41:38.959708Z"
    }
   },
   "outputs": [],
   "source": [
    "cols = 'Response probability'.split()\n",
    "\n",
    "base = df[cols]\n",
    "\n",
    "base = base.rename(columns={'Response': 'response'})\n",
    "\n",
    "base.sort_values('probability', ascending=False, inplace=True)"
   ]
  },
  {
   "cell_type": "markdown",
   "id": "9c7d0977",
   "metadata": {},
   "source": [
    "###### 2.1 Creating X_axis"
   ]
  },
  {
   "cell_type": "code",
   "execution_count": 4,
   "id": "f40457cb",
   "metadata": {
    "ExecuteTime": {
     "end_time": "2022-04-15T21:41:39.002802Z",
     "start_time": "2022-04-15T21:41:38.990871Z"
    }
   },
   "outputs": [],
   "source": [
    "total_base = base.shape[0]\n",
    "\n",
    "base['prop_base'] = 1 / total_base\n",
    "\n",
    "base['cum_prop_base'] = np.cumsum(base['prop_base'])\n",
    "\n",
    "cols_to_del = ['prop_base']"
   ]
  },
  {
   "cell_type": "markdown",
   "id": "5d7b6daa",
   "metadata": {},
   "source": [
    "###### 2.2 Cummulative Interesteds"
   ]
  },
  {
   "cell_type": "code",
   "execution_count": 5,
   "id": "a8629c9e",
   "metadata": {
    "ExecuteTime": {
     "end_time": "2022-04-15T21:41:39.018135Z",
     "start_time": "2022-04-15T21:41:39.005661Z"
    }
   },
   "outputs": [],
   "source": [
    "total_interesteds = base['response'].sum()\n",
    "\n",
    "base['cum_response'] = np.cumsum(base['response'])\n",
    "\n",
    "base['cum_prop_response'] = base['cum_response'] / total_interesteds\n",
    "\n",
    "cols_to_del.append('cum_response')"
   ]
  },
  {
   "cell_type": "markdown",
   "id": "1664d958",
   "metadata": {},
   "source": [
    "###### 2.3 Baseline"
   ]
  },
  {
   "cell_type": "code",
   "execution_count": 6,
   "id": "88133836",
   "metadata": {
    "ExecuteTime": {
     "end_time": "2022-04-15T21:41:39.033951Z",
     "start_time": "2022-04-15T21:41:39.021192Z"
    }
   },
   "outputs": [],
   "source": [
    "base['baseline_model'] = 1 / total_base\n",
    "\n",
    "base['baseline_model'] = np.cumsum(base['baseline_model'])"
   ]
  },
  {
   "cell_type": "markdown",
   "id": "4d2bae02",
   "metadata": {},
   "source": [
    "###### 2.4 Perfect Model"
   ]
  },
  {
   "cell_type": "code",
   "execution_count": 7,
   "id": "7a8f5f13",
   "metadata": {
    "ExecuteTime": {
     "end_time": "2022-04-15T21:41:39.049213Z",
     "start_time": "2022-04-15T21:41:39.036991Z"
    }
   },
   "outputs": [],
   "source": [
    "base.reset_index(drop=True, inplace=True)\n",
    "\n",
    "base['perfect_model'] = 0\n",
    "\n",
    "base.loc[range(0, total_interesteds, 1), 'perfect_model'] = 1\n",
    "\n",
    "base['perfect_model'] = np.cumsum(base['perfect_model'])\n",
    "\n",
    "base['perfect_model'] = base['perfect_model'] / total_interesteds"
   ]
  },
  {
   "cell_type": "markdown",
   "id": "5f2742ef",
   "metadata": {},
   "source": [
    "###### 2.5 Removing columns"
   ]
  },
  {
   "cell_type": "code",
   "execution_count": 8,
   "id": "df5ebf89",
   "metadata": {
    "ExecuteTime": {
     "end_time": "2022-04-15T21:41:39.079621Z",
     "start_time": "2022-04-15T21:41:39.053535Z"
    }
   },
   "outputs": [],
   "source": [
    "cols_to_del.append('response')\n",
    "\n",
    "base.drop(cols_to_del, axis=1, inplace=True)"
   ]
  },
  {
   "cell_type": "markdown",
   "id": "9ef71a7e",
   "metadata": {},
   "source": [
    "## 2.5 Ploting"
   ]
  },
  {
   "cell_type": "code",
   "execution_count": 9,
   "id": "5b9e4d3f",
   "metadata": {
    "ExecuteTime": {
     "end_time": "2022-04-15T21:41:41.998583Z",
     "start_time": "2022-04-15T21:41:39.083081Z"
    },
    "scrolled": true
   },
   "outputs": [
    {
     "data": {
      "image/png": "[encoded data removed]",
      "text/plain": [
       "<Figure size 720x360 with 1 Axes>"
      ]
     },
     "metadata": {
      "needs_background": "light"
     },
     "output_type": "display_data"
    }
   ],
   "source": [
    "plt.figure(figsize=(10, 5))\n",
    "\n",
    "sns.lineplot(data=base, x='cum_prop_base', y='baseline_model', linestyle='--', color='r', label='Curva Baseline')\n",
    "sns.lineplot(data=base, x='cum_prop_base', y='perfect_model', color='g', linestyle='-.', label='Curva Perfeita')\n",
    "sns.lineplot(data=base, x='cum_prop_base', y='cum_prop_response', color='b', label='Curva do Modelo')\n",
    "plt.title('Curva Lift', fontsize=20)\n",
    "plt.xlabel('Proporção da base', fontsize=15)\n",
    "plt.ylabel('Proporção de interessados', fontsize=15)\n",
    "plt.legend(prop={'size': 12}, loc='lower right')\n",
    "sns.despine();"
   ]
  },
  {
   "cell_type": "markdown",
   "id": "cbdac7ae",
   "metadata": {},
   "source": [
    "### 4.1 Principais Insights sobre os atributos mais relevantes de clientes interessados em adquirir um seguro de automóvel."
   ]
  },
  {
   "cell_type": "code",
   "execution_count": 10,
   "id": "4459aa9b",
   "metadata": {
    "ExecuteTime": {
     "end_time": "2022-04-15T21:41:42.264005Z",
     "start_time": "2022-04-15T21:41:42.002794Z"
    },
    "scrolled": false
   },
   "outputs": [
    {
     "data": {
      "image/png": "[encoded data removed]",
      "text/plain": [
       "<Figure size 720x432 with 1 Axes>"
      ]
     },
     "metadata": {
      "needs_background": "light"
     },
     "output_type": "display_data"
    }
   ],
   "source": [
    "feature_selection[['correlations', 'importance_rf', 'importance_xgb']].sort_values('correlations', ascending=False).plot(kind='bar', figsize=(10, 6), stacked=True);"
   ]
  },
  {
   "cell_type": "markdown",
   "id": "68dcc1cb",
   "metadata": {},
   "source": [
    "### 4.2 Qual a porcentagem de clientes interessados em adquirir um seguro de automóvel, o time de vendas conseguirá contatar fazendo 20.000 ligações?"
   ]
  },
  {
   "cell_type": "markdown",
   "id": "72f856be",
   "metadata": {},
   "source": [
    "### 4.3 E se a capacidade do time de vendas aumentar para 40.000 ligações, qual a porcentagem de clientes interessados em adquirir um seguro de automóvel o time de vendas conseguirá contatar?"
   ]
  },
  {
   "cell_type": "markdown",
   "id": "e943f8c2",
   "metadata": {},
   "source": [
    "### 4.4 Quantas ligações o time de vendas precisa fazer para contatar 80% dos clientes interessados em adquirir um seguro de automóvel?"
   ]
  },
  {
   "cell_type": "markdown",
   "id": "f8e018f8",
   "metadata": {},
   "source": [
    "# Time"
   ]
  },
  {
   "cell_type": "code",
   "execution_count": 11,
   "id": "d0c113a0",
   "metadata": {
    "ExecuteTime": {
     "end_time": "2022-04-15T21:41:42.279249Z",
     "start_time": "2022-04-15T21:41:42.267015Z"
    },
    "scrolled": false
   },
   "outputs": [
    {
     "name": "stdout",
     "output_type": "stream",
     "text": [
      "O tempo de processamento do projeto foi de: 0 minutos\n"
     ]
    }
   ],
   "source": [
    "print(f'O tempo de processamento do projeto foi de: {int(round(time.time()-time_agora, 2)/60)} minutos')"
   ]
  }
 ],
 "metadata": {
  "kernelspec": {
   "display_name": "Python 3 (ipykernel)",
   "language": "python",
   "name": "python3"
  },
  "language_info": {
   "codemirror_mode": {
    "name": "ipython",
    "version": 3
   },
   "file_extension": ".py",
   "mimetype": "text/x-python",
   "name": "python",
   "nbconvert_exporter": "python",
   "pygments_lexer": "ipython3",
   "version": "3.9.7"
  }
 },
 "nbformat": 4,
 "nbformat_minor": 5
}
