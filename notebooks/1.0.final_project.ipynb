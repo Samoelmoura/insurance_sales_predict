{
 "cells": [
  {
   "cell_type": "markdown",
   "id": "bab69ead",
   "metadata": {
    "heading_collapsed": true
   },
   "source": [
    "# 0.0 Imports"
   ]
  },
  {
   "cell_type": "code",
   "execution_count": 1,
   "id": "17351970",
   "metadata": {
    "ExecuteTime": {
     "end_time": "2022-05-16T14:35:49.854125Z",
     "start_time": "2022-05-16T14:35:47.921923Z"
    },
    "hidden": true,
    "scrolled": true
   },
   "outputs": [],
   "source": [
    "import pandas as pd\n",
    "import numpy as np\n",
    "import matplotlib.pyplot as plt\n",
    "import seaborn as sns\n",
    "\n",
    "from sklearn.preprocessing import StandardScaler, MinMaxScaler\n",
    "from sklearn.tree import DecisionTreeClassifier\n",
    "from sklearn.model_selection import train_test_split\n",
    "from sklearn.ensemble import RandomForestClassifier\n",
    "from sklearn.metrics import classification_report\n",
    "from sklearn.feature_selection import RFE\n",
    "from sklearn.linear_model import LogisticRegression\n",
    "\n",
    "import scikitplot as skplt\n",
    "from scipy.stats import chi2_contingency\n",
    "\n",
    "from boruta import BorutaPy\n",
    "\n",
    "from tabulate import tabulate\n",
    "\n",
    "from xgboost import XGBClassifier\n",
    "\n",
    "from imblearn.over_sampling import SMOTE\n",
    "\n",
    "from IPython.display import Image\n",
    "\n",
    "import pickle\n",
    "\n",
    "import time\n",
    "\n",
    "# Tempo de processamento\n",
    "time_agora = time.time()"
   ]
  },
  {
   "cell_type": "markdown",
   "id": "e61922aa",
   "metadata": {
    "heading_collapsed": true,
    "hidden": true
   },
   "source": [
    "###### 0.1 Helper Functions"
   ]
  },
  {
   "cell_type": "code",
   "execution_count": 2,
   "id": "bda67886",
   "metadata": {
    "ExecuteTime": {
     "end_time": "2022-05-16T14:35:49.877355Z",
     "start_time": "2022-05-16T14:35:49.854125Z"
    },
    "hidden": true
   },
   "outputs": [],
   "source": [
    "# Função buscar outlier pelo método do 6 Sigma\n",
    "def buscar_outlier(df, series):\n",
    "    média = df[series].mean()\n",
    "    desvio_padrão = df[series].std()\n",
    "    lis = média - (desvio_padrão * 3)\n",
    "    lss = média + (desvio_padrão * 3)\n",
    "    lista_outliers = df[(df[series] < lis) | (df[series] > lss)].index\n",
    "    return lista_outliers, lis, lss\n",
    "\n",
    "def cramer_v(x, y):\n",
    "    cm = pd.crosstab(x, y).values\n",
    "    n = cm.sum()\n",
    "    r, k = cm.shape\n",
    "    chi2 = chi2_contingency(cm)[0]\n",
    "    chi2corr = max(0, chi2-(k-1)*(r-1)/(n-1))\n",
    "    kcorr = k-(k-1)**2/(n-1)\n",
    "    rcorr = r-(r-1)**2/(n-1)\n",
    "    return np.sqrt((chi2corr/n)/( min(kcorr-1, rcorr-1)))"
   ]
  },
  {
   "cell_type": "markdown",
   "id": "ce2d526c",
   "metadata": {
    "heading_collapsed": true,
    "hidden": true
   },
   "source": [
    "###### 0.3 Loading Dataset"
   ]
  },
  {
   "cell_type": "code",
   "execution_count": 3,
   "id": "6109b44a",
   "metadata": {
    "ExecuteTime": {
     "end_time": "2022-05-16T14:35:50.236271Z",
     "start_time": "2022-05-16T14:35:49.877355Z"
    },
    "hidden": true,
    "id": "A_vrsVlknJ2z"
   },
   "outputs": [
    {
     "data": {
      "text/html": [
       "<div>\n",
       "<style scoped>\n",
       "    .dataframe tbody tr th:only-of-type {\n",
       "        vertical-align: middle;\n",
       "    }\n",
       "\n",
       "    .dataframe tbody tr th {\n",
       "        vertical-align: top;\n",
       "    }\n",
       "\n",
       "    .dataframe thead th {\n",
       "        text-align: right;\n",
       "    }\n",
       "</style>\n",
       "<table border=\"1\" class=\"dataframe\">\n",
       "  <thead>\n",
       "    <tr style=\"text-align: right;\">\n",
       "      <th></th>\n",
       "      <th>id</th>\n",
       "      <th>Gender</th>\n",
       "      <th>Age</th>\n",
       "      <th>Driving_License</th>\n",
       "      <th>Region_Code</th>\n",
       "      <th>Previously_Insured</th>\n",
       "      <th>Vehicle_Age</th>\n",
       "      <th>Vehicle_Damage</th>\n",
       "      <th>Annual_Premium</th>\n",
       "      <th>Policy_Sales_Channel</th>\n",
       "      <th>Vintage</th>\n",
       "      <th>Response</th>\n",
       "    </tr>\n",
       "  </thead>\n",
       "  <tbody>\n",
       "    <tr>\n",
       "      <th>0</th>\n",
       "      <td>1</td>\n",
       "      <td>Male</td>\n",
       "      <td>44</td>\n",
       "      <td>1</td>\n",
       "      <td>28.0</td>\n",
       "      <td>0</td>\n",
       "      <td>&gt; 2 Years</td>\n",
       "      <td>Yes</td>\n",
       "      <td>40454.0</td>\n",
       "      <td>26.0</td>\n",
       "      <td>217</td>\n",
       "      <td>1</td>\n",
       "    </tr>\n",
       "    <tr>\n",
       "      <th>1</th>\n",
       "      <td>2</td>\n",
       "      <td>Male</td>\n",
       "      <td>76</td>\n",
       "      <td>1</td>\n",
       "      <td>3.0</td>\n",
       "      <td>0</td>\n",
       "      <td>1-2 Year</td>\n",
       "      <td>No</td>\n",
       "      <td>33536.0</td>\n",
       "      <td>26.0</td>\n",
       "      <td>183</td>\n",
       "      <td>0</td>\n",
       "    </tr>\n",
       "    <tr>\n",
       "      <th>3</th>\n",
       "      <td>4</td>\n",
       "      <td>Male</td>\n",
       "      <td>21</td>\n",
       "      <td>1</td>\n",
       "      <td>11.0</td>\n",
       "      <td>1</td>\n",
       "      <td>&lt; 1 Year</td>\n",
       "      <td>No</td>\n",
       "      <td>28619.0</td>\n",
       "      <td>152.0</td>\n",
       "      <td>203</td>\n",
       "      <td>0</td>\n",
       "    </tr>\n",
       "    <tr>\n",
       "      <th>4</th>\n",
       "      <td>5</td>\n",
       "      <td>Female</td>\n",
       "      <td>29</td>\n",
       "      <td>1</td>\n",
       "      <td>41.0</td>\n",
       "      <td>1</td>\n",
       "      <td>&lt; 1 Year</td>\n",
       "      <td>No</td>\n",
       "      <td>27496.0</td>\n",
       "      <td>152.0</td>\n",
       "      <td>39</td>\n",
       "      <td>0</td>\n",
       "    </tr>\n",
       "    <tr>\n",
       "      <th>5</th>\n",
       "      <td>6</td>\n",
       "      <td>Female</td>\n",
       "      <td>24</td>\n",
       "      <td>1</td>\n",
       "      <td>33.0</td>\n",
       "      <td>0</td>\n",
       "      <td>&lt; 1 Year</td>\n",
       "      <td>Yes</td>\n",
       "      <td>2630.0</td>\n",
       "      <td>160.0</td>\n",
       "      <td>176</td>\n",
       "      <td>0</td>\n",
       "    </tr>\n",
       "  </tbody>\n",
       "</table>\n",
       "</div>"
      ],
      "text/plain": [
       "   id  Gender  Age  Driving_License  Region_Code  Previously_Insured  \\\n",
       "0   1    Male   44                1         28.0                   0   \n",
       "1   2    Male   76                1          3.0                   0   \n",
       "3   4    Male   21                1         11.0                   1   \n",
       "4   5  Female   29                1         41.0                   1   \n",
       "5   6  Female   24                1         33.0                   0   \n",
       "\n",
       "  Vehicle_Age Vehicle_Damage  Annual_Premium  Policy_Sales_Channel  Vintage  \\\n",
       "0   > 2 Years            Yes         40454.0                  26.0      217   \n",
       "1    1-2 Year             No         33536.0                  26.0      183   \n",
       "3    < 1 Year             No         28619.0                 152.0      203   \n",
       "4    < 1 Year             No         27496.0                 152.0       39   \n",
       "5    < 1 Year            Yes          2630.0                 160.0      176   \n",
       "\n",
       "   Response  \n",
       "0         1  \n",
       "1         0  \n",
       "3         0  \n",
       "4         0  \n",
       "5         0  "
      ]
     },
     "execution_count": 3,
     "metadata": {},
     "output_type": "execute_result"
    }
   ],
   "source": [
    "df_raw = pd.read_csv(r'D:\\\\My Drive\\\\Pessoal\\\\Projetos\\\\insurance_sales_predict\\\\insurance_sales_predict\\\\data\\\\raw\\\\train.csv')\n",
    "\n",
    "test = df_raw.sample(frac=0.1)\n",
    "test_indices = test.index\n",
    "df = df_raw.drop(test_indices)\n",
    "df.head()"
   ]
  },
  {
   "cell_type": "markdown",
   "id": "2eecf223",
   "metadata": {
    "heading_collapsed": true,
    "id": "Mok1q9y5cpP-"
   },
   "source": [
    "# 1.0 Data Description"
   ]
  },
  {
   "cell_type": "code",
   "execution_count": 4,
   "id": "59b148b6",
   "metadata": {
    "ExecuteTime": {
     "end_time": "2022-05-16T14:35:50.273774Z",
     "start_time": "2022-05-16T14:35:50.239694Z"
    },
    "hidden": true
   },
   "outputs": [],
   "source": [
    "df1 = df.copy()"
   ]
  },
  {
   "cell_type": "markdown",
   "id": "8513ff12",
   "metadata": {
    "heading_collapsed": true,
    "hidden": true
   },
   "source": [
    "### 1.1 Columns to Lowercase"
   ]
  },
  {
   "cell_type": "code",
   "execution_count": 5,
   "id": "86597ea1",
   "metadata": {
    "ExecuteTime": {
     "end_time": "2022-05-16T14:35:50.295427Z",
     "start_time": "2022-05-16T14:35:50.273774Z"
    },
    "hidden": true
   },
   "outputs": [],
   "source": [
    "cols = ' '.join(df1.columns.to_list()).lower().split()\n",
    "\n",
    "df1.columns = cols"
   ]
  },
  {
   "cell_type": "markdown",
   "id": "a910ea84",
   "metadata": {
    "heading_collapsed": true,
    "hidden": true
   },
   "source": [
    "### 1.2 Data Dimensions"
   ]
  },
  {
   "cell_type": "code",
   "execution_count": 6,
   "id": "393a5d23",
   "metadata": {
    "ExecuteTime": {
     "end_time": "2022-05-16T14:35:50.313297Z",
     "start_time": "2022-05-16T14:35:50.295427Z"
    },
    "colab": {
     "base_uri": "https://localhost:8080/"
    },
    "hidden": true,
    "id": "Zwy0E8ZIpLPl",
    "outputId": "92dac05e-4d44-4748-b5bd-068d3508e129"
   },
   "outputs": [
    {
     "name": "stdout",
     "output_type": "stream",
     "text": [
      "Number of rows: 342998\n",
      "Number of columns: 12\n"
     ]
    }
   ],
   "source": [
    "print(f'Number of rows: {df1.shape[0]}')\n",
    "print(f'Number of columns: {df1.shape[1]}')"
   ]
  },
  {
   "cell_type": "markdown",
   "id": "949283e5",
   "metadata": {
    "heading_collapsed": true,
    "hidden": true
   },
   "source": [
    "### 1.3 Data Types"
   ]
  },
  {
   "cell_type": "code",
   "execution_count": 7,
   "id": "4dcd82f7",
   "metadata": {
    "ExecuteTime": {
     "end_time": "2022-05-16T14:35:50.327044Z",
     "start_time": "2022-05-16T14:35:50.315083Z"
    },
    "colab": {
     "base_uri": "https://localhost:8080/"
    },
    "hidden": true,
    "id": "BR3AJxskpRTN",
    "outputId": "91bbf7cc-7a02-43fc-c5b0-0fffcda46562",
    "scrolled": true
   },
   "outputs": [
    {
     "data": {
      "text/plain": [
       "id                        int64\n",
       "gender                   object\n",
       "age                       int64\n",
       "driving_license           int64\n",
       "region_code             float64\n",
       "previously_insured        int64\n",
       "vehicle_age              object\n",
       "vehicle_damage           object\n",
       "annual_premium          float64\n",
       "policy_sales_channel    float64\n",
       "vintage                   int64\n",
       "response                  int64\n",
       "dtype: object"
      ]
     },
     "execution_count": 7,
     "metadata": {},
     "output_type": "execute_result"
    }
   ],
   "source": [
    "df1.dtypes"
   ]
  },
  {
   "cell_type": "markdown",
   "id": "5edbf76a",
   "metadata": {
    "heading_collapsed": true,
    "hidden": true
   },
   "source": [
    "### 1.4 Check Na"
   ]
  },
  {
   "cell_type": "code",
   "execution_count": 8,
   "id": "4169e7ec",
   "metadata": {
    "ExecuteTime": {
     "end_time": "2022-05-16T14:35:50.425606Z",
     "start_time": "2022-05-16T14:35:50.327044Z"
    },
    "colab": {
     "base_uri": "https://localhost:8080/"
    },
    "hidden": true,
    "id": "MI1tbVODqV7w",
    "outputId": "531330d8-401f-473c-ad80-247536756b93",
    "scrolled": true
   },
   "outputs": [
    {
     "data": {
      "text/plain": [
       "id                      0\n",
       "gender                  0\n",
       "age                     0\n",
       "driving_license         0\n",
       "region_code             0\n",
       "previously_insured      0\n",
       "vehicle_age             0\n",
       "vehicle_damage          0\n",
       "annual_premium          0\n",
       "policy_sales_channel    0\n",
       "vintage                 0\n",
       "response                0\n",
       "dtype: int64"
      ]
     },
     "execution_count": 8,
     "metadata": {},
     "output_type": "execute_result"
    }
   ],
   "source": [
    "df1.isna().sum()"
   ]
  },
  {
   "cell_type": "markdown",
   "id": "4437ccc8",
   "metadata": {
    "heading_collapsed": true,
    "hidden": true
   },
   "source": [
    "### 1.5 Descriptive Statistical"
   ]
  },
  {
   "cell_type": "markdown",
   "id": "bed9672c",
   "metadata": {
    "heading_collapsed": true,
    "hidden": true
   },
   "source": [
    "###### 1.5.1 Classifying Attributes"
   ]
  },
  {
   "cell_type": "code",
   "execution_count": 9,
   "id": "e5a82cf6",
   "metadata": {
    "ExecuteTime": {
     "end_time": "2022-05-16T14:35:50.446412Z",
     "start_time": "2022-05-16T14:35:50.426359Z"
    },
    "hidden": true
   },
   "outputs": [],
   "source": [
    "categorical_attributes = ['gender', 'vehicle_damage', 'vehicle_age', 'driving_license', 'region_code', 'previously_insured', 'policy_sales_channel', 'vintage']\n",
    "numerical_attributes = ['age', 'annual_premium']"
   ]
  },
  {
   "cell_type": "markdown",
   "id": "016a9b27",
   "metadata": {
    "heading_collapsed": true,
    "hidden": true
   },
   "source": [
    "###### 1.5.2 Target"
   ]
  },
  {
   "cell_type": "code",
   "execution_count": 10,
   "id": "33666982",
   "metadata": {
    "ExecuteTime": {
     "end_time": "2022-05-16T14:35:50.475936Z",
     "start_time": "2022-05-16T14:35:50.449203Z"
    },
    "hidden": true
   },
   "outputs": [
    {
     "name": "stdout",
     "output_type": "stream",
     "text": [
      "A porcentagem de interessados no produto é: 12.24 %\n"
     ]
    }
   ],
   "source": [
    "print(f'A porcentagem de interessados no produto é: {round(df1[\"response\"].mean()* 100, 2)} %')"
   ]
  },
  {
   "cell_type": "markdown",
   "id": "1dd6a697",
   "metadata": {
    "hidden": true
   },
   "source": [
    "Desbalanceada"
   ]
  },
  {
   "cell_type": "markdown",
   "id": "87762e11",
   "metadata": {
    "heading_collapsed": true,
    "hidden": true
   },
   "source": [
    "###### 1.5.3 Numerical Features"
   ]
  },
  {
   "cell_type": "code",
   "execution_count": 11,
   "id": "31074aa7",
   "metadata": {
    "ExecuteTime": {
     "end_time": "2022-05-16T14:35:50.624366Z",
     "start_time": "2022-05-16T14:35:50.475936Z"
    },
    "hidden": true,
    "scrolled": true
   },
   "outputs": [
    {
     "data": {
      "text/html": [
       "<div>\n",
       "<style scoped>\n",
       "    .dataframe tbody tr th:only-of-type {\n",
       "        vertical-align: middle;\n",
       "    }\n",
       "\n",
       "    .dataframe tbody tr th {\n",
       "        vertical-align: top;\n",
       "    }\n",
       "\n",
       "    .dataframe thead th {\n",
       "        text-align: right;\n",
       "    }\n",
       "</style>\n",
       "<table border=\"1\" class=\"dataframe\">\n",
       "  <thead>\n",
       "    <tr style=\"text-align: right;\">\n",
       "      <th></th>\n",
       "      <th>min</th>\n",
       "      <th>max</th>\n",
       "      <th>range</th>\n",
       "      <th>mean</th>\n",
       "      <th>median</th>\n",
       "      <th>std</th>\n",
       "      <th>skew</th>\n",
       "      <th>kurtosis</th>\n",
       "    </tr>\n",
       "  </thead>\n",
       "  <tbody>\n",
       "    <tr>\n",
       "      <th>age</th>\n",
       "      <td>20.0</td>\n",
       "      <td>85.0</td>\n",
       "      <td>65.0</td>\n",
       "      <td>38.818156</td>\n",
       "      <td>36.0</td>\n",
       "      <td>15.512625</td>\n",
       "      <td>0.672354</td>\n",
       "      <td>-0.566635</td>\n",
       "    </tr>\n",
       "    <tr>\n",
       "      <th>annual_premium</th>\n",
       "      <td>2630.0</td>\n",
       "      <td>540165.0</td>\n",
       "      <td>537535.0</td>\n",
       "      <td>30573.069858</td>\n",
       "      <td>31672.0</td>\n",
       "      <td>17239.757637</td>\n",
       "      <td>1.831448</td>\n",
       "      <td>35.185698</td>\n",
       "    </tr>\n",
       "  </tbody>\n",
       "</table>\n",
       "</div>"
      ],
      "text/plain": [
       "                   min       max     range          mean   median  \\\n",
       "age               20.0      85.0      65.0     38.818156     36.0   \n",
       "annual_premium  2630.0  540165.0  537535.0  30573.069858  31672.0   \n",
       "\n",
       "                         std      skew   kurtosis  \n",
       "age                15.512625  0.672354  -0.566635  \n",
       "annual_premium  17239.757637  1.831448  35.185698  "
      ]
     },
     "execution_count": 11,
     "metadata": {},
     "output_type": "execute_result"
    }
   ],
   "source": [
    "# Central tendency\n",
    "ct1 = pd.DataFrame(df1[numerical_attributes].apply(np.mean)).T\n",
    "ct2 = pd.DataFrame(df1[numerical_attributes].apply(np.median)).T\n",
    "\n",
    "# Dispersion\n",
    "d1 = pd.DataFrame(df1[numerical_attributes].apply(np.std)).T\n",
    "d2 = pd.DataFrame(df1[numerical_attributes].apply(min)).T\n",
    "d3 = pd.DataFrame(df1[numerical_attributes].apply(max)).T\n",
    "d4 = pd.DataFrame(df1[numerical_attributes].apply(lambda x: x.max() - x.min())).T\n",
    "d5 = pd.DataFrame(df1[numerical_attributes].apply(lambda x: x.skew())).T\n",
    "d6 = pd.DataFrame(df1[numerical_attributes].apply(lambda x: x.kurtosis())).T\n",
    "\n",
    "# Concat\n",
    "temp = pd.concat([d2, d3, d4, ct1, ct2, d1, d5, d6]).T\n",
    "temp.columns = 'min max range mean median std skew kurtosis'.split()\n",
    "temp"
   ]
  },
  {
   "cell_type": "markdown",
   "id": "65daa280",
   "metadata": {
    "hidden": true
   },
   "source": [
    "* Range de idade entre 20 e 85 anos, sem indícios de erros de inputs\n",
    "* Annual_Premium com possíveis outliers"
   ]
  },
  {
   "cell_type": "code",
   "execution_count": 12,
   "id": "c51d0503",
   "metadata": {
    "ExecuteTime": {
     "end_time": "2022-05-16T14:35:50.686099Z",
     "start_time": "2022-05-16T14:35:50.626296Z"
    },
    "colab": {
     "base_uri": "https://localhost:8080/",
     "height": 0
    },
    "hidden": true,
    "id": "R3zqwAqNtq0t",
    "outputId": "74ae0af1-3205-4f40-f697-53ba371ecfd9",
    "scrolled": false
   },
   "outputs": [
    {
     "data": {
      "text/html": [
       "<div>\n",
       "<style scoped>\n",
       "    .dataframe tbody tr th:only-of-type {\n",
       "        vertical-align: middle;\n",
       "    }\n",
       "\n",
       "    .dataframe tbody tr th {\n",
       "        vertical-align: top;\n",
       "    }\n",
       "\n",
       "    .dataframe thead th {\n",
       "        text-align: right;\n",
       "    }\n",
       "</style>\n",
       "<table border=\"1\" class=\"dataframe\">\n",
       "  <thead>\n",
       "    <tr style=\"text-align: right;\">\n",
       "      <th></th>\n",
       "      <th>count</th>\n",
       "      <th>mean</th>\n",
       "      <th>std</th>\n",
       "      <th>min</th>\n",
       "      <th>25%</th>\n",
       "      <th>50%</th>\n",
       "      <th>75%</th>\n",
       "      <th>max</th>\n",
       "    </tr>\n",
       "  </thead>\n",
       "  <tbody>\n",
       "    <tr>\n",
       "      <th>age</th>\n",
       "      <td>342998.0</td>\n",
       "      <td>38.818156</td>\n",
       "      <td>15.512648</td>\n",
       "      <td>20.0</td>\n",
       "      <td>25.0</td>\n",
       "      <td>36.0</td>\n",
       "      <td>49.0</td>\n",
       "      <td>85.0</td>\n",
       "    </tr>\n",
       "    <tr>\n",
       "      <th>annual_premium</th>\n",
       "      <td>342998.0</td>\n",
       "      <td>30573.069858</td>\n",
       "      <td>17239.782768</td>\n",
       "      <td>2630.0</td>\n",
       "      <td>24411.0</td>\n",
       "      <td>31672.0</td>\n",
       "      <td>39396.0</td>\n",
       "      <td>540165.0</td>\n",
       "    </tr>\n",
       "  </tbody>\n",
       "</table>\n",
       "</div>"
      ],
      "text/plain": [
       "                   count          mean           std     min      25%  \\\n",
       "age             342998.0     38.818156     15.512648    20.0     25.0   \n",
       "annual_premium  342998.0  30573.069858  17239.782768  2630.0  24411.0   \n",
       "\n",
       "                    50%      75%       max  \n",
       "age                36.0     49.0      85.0  \n",
       "annual_premium  31672.0  39396.0  540165.0  "
      ]
     },
     "execution_count": 12,
     "metadata": {},
     "output_type": "execute_result"
    }
   ],
   "source": [
    "df1[numerical_attributes].describe().T"
   ]
  },
  {
   "cell_type": "markdown",
   "id": "f2c87200",
   "metadata": {
    "hidden": true
   },
   "source": [
    "* Idade com média e mediana próximas, dados centralizados na média, skew baixa, o que reforça distribuição centralizada na média, skew pouco positiva, o que sugere cauda esquerda mais pesada, kurtosis baixa e negativa, o que sugere uma distribuição um pouco mais plana em relação a uma normal com mesma média e desvio padrão, uma distribuição próxima a uma NORMAL\n",
    "* Prêmio Anual com média e mediana próximos, o que sugere dados centralizados na média, skew baixa e positiva, o que sugere dados centralizados na média com uma cauda esquerda mais pesada, kurtosis bastante alto, o que sugere um pico bastante elevado, uma distribuição próxima a uma POISSON"
   ]
  },
  {
   "cell_type": "markdown",
   "id": "bc1ab4c8",
   "metadata": {
    "heading_collapsed": true,
    "hidden": true
   },
   "source": [
    "###### 1.5.4 Categorical Features"
   ]
  },
  {
   "cell_type": "code",
   "execution_count": 13,
   "id": "fb174429",
   "metadata": {
    "ExecuteTime": {
     "end_time": "2022-05-16T14:35:50.808769Z",
     "start_time": "2022-05-16T14:35:50.686099Z"
    },
    "hidden": true,
    "scrolled": false
   },
   "outputs": [
    {
     "data": {
      "text/html": [
       "<div>\n",
       "<style scoped>\n",
       "    .dataframe tbody tr th:only-of-type {\n",
       "        vertical-align: middle;\n",
       "    }\n",
       "\n",
       "    .dataframe tbody tr th {\n",
       "        vertical-align: top;\n",
       "    }\n",
       "\n",
       "    .dataframe thead th {\n",
       "        text-align: right;\n",
       "    }\n",
       "</style>\n",
       "<table border=\"1\" class=\"dataframe\">\n",
       "  <thead>\n",
       "    <tr style=\"text-align: right;\">\n",
       "      <th></th>\n",
       "      <th>count</th>\n",
       "      <th>unique</th>\n",
       "      <th>top</th>\n",
       "      <th>freq</th>\n",
       "    </tr>\n",
       "  </thead>\n",
       "  <tbody>\n",
       "    <tr>\n",
       "      <th>gender</th>\n",
       "      <td>342998</td>\n",
       "      <td>2</td>\n",
       "      <td>Male</td>\n",
       "      <td>185519</td>\n",
       "    </tr>\n",
       "    <tr>\n",
       "      <th>vehicle_damage</th>\n",
       "      <td>342998</td>\n",
       "      <td>2</td>\n",
       "      <td>Yes</td>\n",
       "      <td>173071</td>\n",
       "    </tr>\n",
       "    <tr>\n",
       "      <th>vehicle_age</th>\n",
       "      <td>342998</td>\n",
       "      <td>3</td>\n",
       "      <td>1-2 Year</td>\n",
       "      <td>180317</td>\n",
       "    </tr>\n",
       "    <tr>\n",
       "      <th>driving_license</th>\n",
       "      <td>342998</td>\n",
       "      <td>2</td>\n",
       "      <td>1</td>\n",
       "      <td>342271</td>\n",
       "    </tr>\n",
       "    <tr>\n",
       "      <th>region_code</th>\n",
       "      <td>342998.0</td>\n",
       "      <td>53.0</td>\n",
       "      <td>28.0</td>\n",
       "      <td>95716.0</td>\n",
       "    </tr>\n",
       "    <tr>\n",
       "      <th>previously_insured</th>\n",
       "      <td>342998</td>\n",
       "      <td>2</td>\n",
       "      <td>0</td>\n",
       "      <td>185731</td>\n",
       "    </tr>\n",
       "    <tr>\n",
       "      <th>policy_sales_channel</th>\n",
       "      <td>342998.0</td>\n",
       "      <td>153.0</td>\n",
       "      <td>152.0</td>\n",
       "      <td>121308.0</td>\n",
       "    </tr>\n",
       "    <tr>\n",
       "      <th>vintage</th>\n",
       "      <td>342998</td>\n",
       "      <td>290</td>\n",
       "      <td>256</td>\n",
       "      <td>1290</td>\n",
       "    </tr>\n",
       "  </tbody>\n",
       "</table>\n",
       "</div>"
      ],
      "text/plain": [
       "                         count unique       top      freq\n",
       "gender                  342998      2      Male    185519\n",
       "vehicle_damage          342998      2       Yes    173071\n",
       "vehicle_age             342998      3  1-2 Year    180317\n",
       "driving_license         342998      2         1    342271\n",
       "region_code           342998.0   53.0      28.0   95716.0\n",
       "previously_insured      342998      2         0    185731\n",
       "policy_sales_channel  342998.0  153.0     152.0  121308.0\n",
       "vintage                 342998    290       256      1290"
      ]
     },
     "execution_count": 13,
     "metadata": {},
     "output_type": "execute_result"
    }
   ],
   "source": [
    "df1[categorical_attributes].astype('category').describe().T"
   ]
  },
  {
   "cell_type": "markdown",
   "id": "13942d5c",
   "metadata": {
    "hidden": true
   },
   "source": [
    "* Sexo relativamente balanceado com a maioria de mulheres\n",
    "* Maior parte dos clientes possuem veículos com menos de 1 ano\n",
    "* Maior parte dos clientes já teve danos em seu veículo\n",
    "* Habilitação para dirigir balanceado\n",
    "* Há 53 regiões diferentes e por volta de 30% dos clientes estão contidos na região 28\n",
    "* Um pouco mais que 50% dos clientes não possuem seguro veicular\n",
    "* Há 157 canais de vendas, e por volta de 35% dos clientes estão contidos no canal 152."
   ]
  },
  {
   "cell_type": "markdown",
   "id": "7bff2fa9",
   "metadata": {
    "heading_collapsed": true,
    "id": "lpsQdPJVSjpi"
   },
   "source": [
    "# 2.0 Feature Engineering"
   ]
  },
  {
   "cell_type": "code",
   "execution_count": 14,
   "id": "ad778901",
   "metadata": {
    "ExecuteTime": {
     "end_time": "2022-05-16T14:35:50.827317Z",
     "start_time": "2022-05-16T14:35:50.810768Z"
    },
    "hidden": true
   },
   "outputs": [],
   "source": [
    "df2 = df1.copy()"
   ]
  },
  {
   "cell_type": "markdown",
   "id": "0e259fa0",
   "metadata": {
    "heading_collapsed": true,
    "hidden": true
   },
   "source": [
    "### 2.1 Business Hypothesis"
   ]
  },
  {
   "cell_type": "code",
   "execution_count": 15,
   "id": "581cd3da",
   "metadata": {
    "ExecuteTime": {
     "end_time": "2022-05-16T14:35:50.849610Z",
     "start_time": "2022-05-16T14:35:50.827317Z"
    },
    "hidden": true,
    "scrolled": false
   },
   "outputs": [
    {
     "data": {
      "image/jpeg": "[encoded data removed]",
      "text/plain": [
       "<IPython.core.display.Image object>"
      ]
     },
     "execution_count": 15,
     "metadata": {},
     "output_type": "execute_result"
    }
   ],
   "source": [
    "Image('D:\\\\My Drive\\\\Pessoal\\\\Projetos\\\\insurance_sales_predict\\\\insurance_sales_predict\\\\img\\\\mindmap.JPG')"
   ]
  },
  {
   "cell_type": "markdown",
   "id": "05f91817",
   "metadata": {
    "heading_collapsed": true,
    "hidden": true
   },
   "source": [
    "### 2.2 Creating Hypothesis"
   ]
  },
  {
   "cell_type": "markdown",
   "id": "0032fce4",
   "metadata": {
    "heading_collapsed": true,
    "hidden": true
   },
   "source": [
    "###### Corretora:\n",
    "* Contatos mais diretos com os clientes deveriam gerar mais vendas\n",
    "* Ações de marketing deveriam gerar mais vendas.\n",
    "* Contato mais próximo com o cliente deveriam gerar mais vendas\n",
    "* Maior confiabilidade da parte da corretora deveria gerar mais vendas.\n",
    "\n",
    "###### Clientes:\n",
    "* Clientes localizados em regiões com maiores rendas percaptas deveriam comprar mais\n",
    "* Clientes do gênero feminino deveriam comprar mais\n",
    "* Clientes mais velhos deveriam comprar mais\n",
    "* Clientes com famílias maiores deveriam comprar mais\n",
    "\n",
    "###### Seguro de Vida:\n",
    "* Contas de Seguro de Vida com valores mais altos deveriam gerar mais vendas\n",
    "* Contas com tempo de aquisição vigente maior deveriam gerar mais vendas\n",
    "\n",
    "###### Relação do Cliente com o Automóvel:\n",
    "* Clientes que já acionaram o seguro no passado deveriam comprar mais\n",
    "* Clientes com veículos mais novos deveriam comprar mais\n",
    "* Clientes que não possuem seguro de automóvel deveriam comprara mais.\n",
    "* Clientes habilitados deveriam comprar mais."
   ]
  },
  {
   "cell_type": "markdown",
   "id": "fc206881",
   "metadata": {
    "heading_collapsed": true,
    "hidden": true
   },
   "source": [
    "###### Hipóteses Selecionadas:"
   ]
  },
  {
   "cell_type": "code",
   "execution_count": null,
   "id": "d9ae9bc2",
   "metadata": {
    "hidden": true
   },
   "outputs": [],
   "source": []
  },
  {
   "cell_type": "markdown",
   "id": "aef72400",
   "metadata": {
    "heading_collapsed": true,
    "hidden": true
   },
   "source": [
    "### 2.3 Creating Features"
   ]
  },
  {
   "cell_type": "code",
   "execution_count": null,
   "id": "4f9ba298",
   "metadata": {
    "hidden": true
   },
   "outputs": [],
   "source": []
  },
  {
   "cell_type": "markdown",
   "id": "70f9dbf4",
   "metadata": {
    "heading_collapsed": true
   },
   "source": [
    "# 3.0 Exploratory Data Analysis"
   ]
  },
  {
   "cell_type": "code",
   "execution_count": 16,
   "id": "81306d20",
   "metadata": {
    "ExecuteTime": {
     "end_time": "2022-05-16T14:35:50.865356Z",
     "start_time": "2022-05-16T14:35:50.849610Z"
    },
    "hidden": true
   },
   "outputs": [],
   "source": [
    "df3 = df2.copy()"
   ]
  },
  {
   "cell_type": "markdown",
   "id": "d265ef0a",
   "metadata": {
    "heading_collapsed": true,
    "hidden": true
   },
   "source": [
    "## 3.1 Principais Insights:"
   ]
  },
  {
   "cell_type": "markdown",
   "id": "f88b72c5",
   "metadata": {
    "heading_collapsed": true,
    "hidden": true
   },
   "source": [
    "###### Response:\n",
    "* Desbalanceada com 12% de eventos positivos\n",
    "\n",
    "###### Gender:\n",
    "* Balanceada\n",
    "* Homens se interessam 30% mais no produto em relação às mulheres\n",
    "\n",
    "###### Vehicle_Age:\n",
    "* Mais da metade dos clientes possuem carros com menos de 1 ano\n",
    "* Médias de response bastante distintas\n",
    "\n",
    "###### Vehicle_Damage:\n",
    "* Balanceada\n",
    "* Clientes que já tiveram danos no seu veículo tem 24% de response, enquanto clientes que não tiveram danos têm por volta de 1%\n",
    "\n",
    "###### Driving_License:\n",
    "* 99% dos clientes são habilitados\n",
    "* Habilitados apresentam 5% de interesse no produto, não habilitados apresentam 12% de interesse no produto.\n",
    "\n",
    "###### Previously_Insured:\n",
    "* 45% dos clientes já possuem seguro veicular\n",
    "* Clientes que já possuem seguro têm interesse quase zero pelo produto\n",
    "\n",
    "###### Region_Code:\n",
    "* 53 regiões\n",
    "* 28% dos clientes está contido na região 28. 50% dos dados estão contidos nas 5 regiões mais numerosas\n",
    "* A região 28 (mais importante) tem por volta de 18% de probabilidade de response, segunda melhor região, atrás apenas da região 38.\n",
    "* As regiões com probabilidade de response mais alto estão com por volta de 19%, as regiões com probabilidades mais baixas estã em por volta de 4%\n",
    "* Médias de response bastante distintas, com desvios padrões baixos\n",
    "\n",
    "###### Policy_Sales_Channel:\n",
    "* Há 157 Policy_Sales_Channel e aproximadamente um terço das amostras está contido no canal 152\n",
    "* 5 categorias contém 84.19% do total de clientes\n",
    "* Médias de response por canais de Policy_Sales_Channel bastante distintas\n",
    "* Os canais mais utilizados apresentam médias de response bastante diferentes da média global, os canal 152 é o mais utilizado e apresenta 2% de interesse no produto, o canal 155 apresenta 2%, já os canais 26, 124 e 156 apresentam por volta de 20% de interesse no produto\n",
    "\n",
    "###### Vintage:\n",
    "* Feature categórica, há 290 categorias em Vintage\n",
    "\n",
    "###### Age:\n",
    "* Range de idade de 25 até 85 anos, aparentemente sem erros de input\n",
    "* Apresenta uma distribuição com uma certa semelhança com uma Poison, mas com uma segunda moda em um ponto próximo aos 45 anos.\n",
    "* Sem outliers\n",
    "* A média de idade entre os que não se interessam pelo produto é de 38 anos, e dos que se interessam é de 43 anos.\n",
    "* Pessoas com mais de 30 anos apresentam um interesse relativamente maior pelo produto.\n",
    "* Clientes com menos de 30 anos de idade apresentam em média 4% de interesse no produto, enquanto os clientes com 30 anos ou mais têm em média 17% interesse no produto.\n",
    "\n",
    "\n",
    "###### Annual_Premium\n",
    "* 2799 em Annual_Premmium, não aparentam ser por conta de erros de input\n",
    "* Há dois grupos de clientes, um com valores fixos em 2630 dollares, e outro com valores contínuos e superiores, não há diferença significativa de média de interesse no produto entre os grupos\n",
    "* Acima do terceiro quartil da distribuição há um interesse relativo 20% maior no produto"
   ]
  },
  {
   "cell_type": "markdown",
   "id": "c3178ceb",
   "metadata": {
    "heading_collapsed": true,
    "hidden": true
   },
   "source": [
    "## 3.2 Univariate Analysis"
   ]
  },
  {
   "cell_type": "markdown",
   "id": "b818db05",
   "metadata": {
    "heading_collapsed": true,
    "hidden": true
   },
   "source": [
    "#### response"
   ]
  },
  {
   "cell_type": "code",
   "execution_count": 17,
   "id": "9bb7c0e2",
   "metadata": {
    "ExecuteTime": {
     "end_time": "2022-05-16T14:35:50.880847Z",
     "start_time": "2022-05-16T14:35:50.865356Z"
    },
    "hidden": true
   },
   "outputs": [
    {
     "data": {
      "text/plain": [
       "0.12238846873742704"
      ]
     },
     "execution_count": 17,
     "metadata": {},
     "output_type": "execute_result"
    }
   ],
   "source": [
    "df3['response'].mean()"
   ]
  },
  {
   "cell_type": "markdown",
   "id": "314aca73",
   "metadata": {
    "heading_collapsed": true,
    "hidden": true
   },
   "source": [
    "#### gender"
   ]
  },
  {
   "cell_type": "code",
   "execution_count": 18,
   "id": "10b327ae",
   "metadata": {
    "ExecuteTime": {
     "end_time": "2022-05-16T14:35:50.948162Z",
     "start_time": "2022-05-16T14:35:50.880847Z"
    },
    "hidden": true
   },
   "outputs": [
    {
     "name": "stdout",
     "output_type": "stream",
     "text": [
      "10.37% das mulheres se interessam pelo produto.\n",
      "13.82% dos homens se interessam pelo produto.\n"
     ]
    }
   ],
   "source": [
    "print(f'{round(df3.loc[df3[\"gender\"]==\"Female\", \"response\"].mean() *100, 2)}% das mulheres se interessam pelo produto.')\n",
    "print(f'{round(df3.loc[df3[\"gender\"]==\"Male\", \"response\"].mean() *100, 2)}% dos homens se interessam pelo produto.')"
   ]
  },
  {
   "cell_type": "markdown",
   "id": "ebb1951a",
   "metadata": {
    "heading_collapsed": true,
    "hidden": true
   },
   "source": [
    "#### age"
   ]
  },
  {
   "cell_type": "code",
   "execution_count": 19,
   "id": "346a2009",
   "metadata": {
    "ExecuteTime": {
     "end_time": "2022-05-16T14:35:51.191251Z",
     "start_time": "2022-05-16T14:35:50.948162Z"
    },
    "hidden": true
   },
   "outputs": [
    {
     "data": {
      "image/png": "[encoded data removed]",
      "text/plain": [
       "<Figure size 432x288 with 1 Axes>"
      ]
     },
     "metadata": {
      "needs_background": "light"
     },
     "output_type": "display_data"
    }
   ],
   "source": [
    "sns.histplot(df3['age'], bins=20);"
   ]
  },
  {
   "cell_type": "markdown",
   "id": "c8ce67eb",
   "metadata": {
    "hidden": true
   },
   "source": [
    "Apresenta uma distribuição com uma certa semelhança com uma Poison, mas com uma segunda moda em um ponto próximo aos 45 anos."
   ]
  },
  {
   "cell_type": "code",
   "execution_count": 20,
   "id": "e1cd179d",
   "metadata": {
    "ExecuteTime": {
     "end_time": "2022-05-16T14:35:51.213931Z",
     "start_time": "2022-05-16T14:35:51.193265Z"
    },
    "hidden": true
   },
   "outputs": [],
   "source": [
    "índices, li, ls = buscar_outlier(df3, 'age')"
   ]
  },
  {
   "cell_type": "code",
   "execution_count": 21,
   "id": "ddd4e203",
   "metadata": {
    "ExecuteTime": {
     "end_time": "2022-05-16T14:35:51.303759Z",
     "start_time": "2022-05-16T14:35:51.213931Z"
    },
    "hidden": true,
    "scrolled": false
   },
   "outputs": [
    {
     "data": {
      "image/png": "[encoded data removed]",
      "text/plain": [
       "<Figure size 432x288 with 1 Axes>"
      ]
     },
     "metadata": {
      "needs_background": "light"
     },
     "output_type": "display_data"
    }
   ],
   "source": [
    "sns.boxplot(data=df3, x='age')\n",
    "plt.title('Quartis de Idade');"
   ]
  },
  {
   "cell_type": "markdown",
   "id": "1460d2fe",
   "metadata": {
    "hidden": true
   },
   "source": [
    "sem outliers"
   ]
  },
  {
   "cell_type": "code",
   "execution_count": 22,
   "id": "ab011dfc",
   "metadata": {
    "ExecuteTime": {
     "end_time": "2022-05-16T14:35:51.328605Z",
     "start_time": "2022-05-16T14:35:51.307340Z"
    },
    "hidden": true,
    "scrolled": true
   },
   "outputs": [
    {
     "name": "stdout",
     "output_type": "stream",
     "text": [
      "A média de idade entre os que NÃO se interessam pelo produto: 38.17%\n",
      "A média de idade entre os que se interessam pelo produto: 43.45%\n"
     ]
    }
   ],
   "source": [
    "print(f'A média de idade entre os que NÃO se interessam pelo produto: {round(df3.loc[df3[\"response\"]==0, \"age\"].mean(), 2)}%')\n",
    "print(f'A média de idade entre os que se interessam pelo produto: {round(df3.loc[df3[\"response\"]==1, \"age\"].mean(), 2)}%')"
   ]
  },
  {
   "cell_type": "code",
   "execution_count": 23,
   "id": "07c1dd3b",
   "metadata": {
    "ExecuteTime": {
     "end_time": "2022-05-16T14:35:52.665261Z",
     "start_time": "2022-05-16T14:35:51.328605Z"
    },
    "hidden": true,
    "scrolled": true
   },
   "outputs": [
    {
     "data": {
      "image/png": "[encoded data removed]",
      "text/plain": [
       "<Figure size 432x288 with 2 Axes>"
      ]
     },
     "metadata": {
      "needs_background": "light"
     },
     "output_type": "display_data"
    }
   ],
   "source": [
    "plt.subplot(2, 1, 1)\n",
    "plt.title('Distribuição e Densidade de Idade Segregado por Response')\n",
    "g = sns.histplot(df3.loc[df3['response']==0, 'age'], color='r', alpha=0.5, bins=20)\n",
    "g = sns.histplot(df3.loc[df3['response']==1, 'age'], color='b', alpha=0.5, bins=20)\n",
    "sns.despine()\n",
    "plt.subplot(2, 1, 2)\n",
    "g = sns.kdeplot(df3.loc[df3['response']==0, 'age'], color='r', alpha=0.5)\n",
    "g = sns.kdeplot(df3.loc[df3['response']==1, 'age'], color='b', alpha=0.5)\n",
    "sns.despine()"
   ]
  },
  {
   "cell_type": "markdown",
   "id": "3406cf05",
   "metadata": {
    "hidden": true
   },
   "source": [
    "Pessoas mais velhas apresentam maior interesse no produto"
   ]
  },
  {
   "cell_type": "code",
   "execution_count": 24,
   "id": "553793a1",
   "metadata": {
    "ExecuteTime": {
     "end_time": "2022-05-16T14:35:52.779630Z",
     "start_time": "2022-05-16T14:35:52.665261Z"
    },
    "hidden": true,
    "scrolled": true
   },
   "outputs": [
    {
     "data": {
      "image/png": "[encoded data removed]",
      "text/plain": [
       "<Figure size 432x288 with 1 Axes>"
      ]
     },
     "metadata": {
      "needs_background": "light"
     },
     "output_type": "display_data"
    }
   ],
   "source": [
    "sns.boxplot(x='response', y='age', data=df3)\n",
    "plt.title('Quartis de Idades Segregado por Response')\n",
    "sns.despine();"
   ]
  },
  {
   "cell_type": "markdown",
   "id": "ab01facf",
   "metadata": {
    "hidden": true
   },
   "source": [
    "Pessoas mais velhas apresentam interesse maior pelo produto"
   ]
  },
  {
   "cell_type": "markdown",
   "id": "a084a281",
   "metadata": {
    "heading_collapsed": true,
    "hidden": true
   },
   "source": [
    "#### driving_license"
   ]
  },
  {
   "cell_type": "code",
   "execution_count": 25,
   "id": "63d611b4",
   "metadata": {
    "ExecuteTime": {
     "end_time": "2022-05-16T14:35:52.793019Z",
     "start_time": "2022-05-16T14:35:52.779630Z"
    },
    "hidden": true
   },
   "outputs": [
    {
     "name": "stdout",
     "output_type": "stream",
     "text": [
      "0.998% dos clientes são habilitados\n"
     ]
    }
   ],
   "source": [
    "print(f'{round(df3[\"driving_license\"].mean(), 3)}% dos clientes são habilitados')"
   ]
  },
  {
   "cell_type": "code",
   "execution_count": 26,
   "id": "f98f15cc",
   "metadata": {
    "ExecuteTime": {
     "end_time": "2022-05-16T14:35:57.041941Z",
     "start_time": "2022-05-16T14:35:52.793019Z"
    },
    "hidden": true
   },
   "outputs": [
    {
     "data": {
      "image/png": "[encoded data removed]",
      "text/plain": [
       "<Figure size 360x360 with 1 Axes>"
      ]
     },
     "metadata": {
      "needs_background": "light"
     },
     "output_type": "display_data"
    }
   ],
   "source": [
    "sns.catplot(x='driving_license', y= 'response', data=df3, kind='bar')\n",
    "plt.ylabel('Média de Response')\n",
    "plt.title('Média de Response Segregado por Driving License');"
   ]
  },
  {
   "cell_type": "code",
   "execution_count": 27,
   "id": "530750fd",
   "metadata": {
    "ExecuteTime": {
     "end_time": "2022-05-16T14:35:57.085674Z",
     "start_time": "2022-05-16T14:35:57.041941Z"
    },
    "hidden": true,
    "scrolled": false
   },
   "outputs": [
    {
     "name": "stdout",
     "output_type": "stream",
     "text": [
      "Habilitados tem: 5.09% de interesse no produto\n",
      "NÃO habilitados tem: 12.25% de interesse no produto\n"
     ]
    }
   ],
   "source": [
    "print(f'Habilitados tem: {round(df3.loc[df3[\"driving_license\"]==0, \"response\"].mean()*100, 2)}% de interesse no produto')\n",
    "print(f'NÃO habilitados tem: {round(df3.loc[df3[\"driving_license\"]==1, \"response\"].mean()*100, 2)}% de interesse no produto')"
   ]
  },
  {
   "cell_type": "markdown",
   "id": "3d49e4a2",
   "metadata": {
    "heading_collapsed": true,
    "hidden": true
   },
   "source": [
    "#### previously_insured"
   ]
  },
  {
   "cell_type": "code",
   "execution_count": 28,
   "id": "ad354245",
   "metadata": {
    "ExecuteTime": {
     "end_time": "2022-05-16T14:35:57.110952Z",
     "start_time": "2022-05-16T14:35:57.085674Z"
    },
    "hidden": true
   },
   "outputs": [
    {
     "data": {
      "text/plain": [
       "0.4585070466883189"
      ]
     },
     "execution_count": 28,
     "metadata": {},
     "output_type": "execute_result"
    }
   ],
   "source": [
    "df3['previously_insured'].mean()"
   ]
  },
  {
   "cell_type": "markdown",
   "id": "72aa04aa",
   "metadata": {
    "hidden": true
   },
   "source": [
    "45% dos clientes já sofreram danos veiculares"
   ]
  },
  {
   "cell_type": "code",
   "execution_count": 29,
   "id": "2ebb10cf",
   "metadata": {
    "ExecuteTime": {
     "end_time": "2022-05-16T14:36:01.258461Z",
     "start_time": "2022-05-16T14:35:57.110952Z"
    },
    "hidden": true
   },
   "outputs": [
    {
     "data": {
      "image/png": "[encoded data removed]",
      "text/plain": [
       "<Figure size 360x360 with 1 Axes>"
      ]
     },
     "metadata": {
      "needs_background": "light"
     },
     "output_type": "display_data"
    }
   ],
   "source": [
    "sns.catplot(x='previously_insured', y='response', data=df3, kind='bar')\n",
    "plt.title('Média de Response Segregado por Previously Insured')\n",
    "plt.ylabel('Média de Response');"
   ]
  },
  {
   "cell_type": "code",
   "execution_count": 30,
   "id": "0d8d5e56",
   "metadata": {
    "ExecuteTime": {
     "end_time": "2022-05-16T14:36:01.274207Z",
     "start_time": "2022-05-16T14:36:01.258461Z"
    },
    "hidden": true,
    "scrolled": true
   },
   "outputs": [
    {
     "data": {
      "text/plain": [
       "0.08902058283047301"
      ]
     },
     "execution_count": 30,
     "metadata": {},
     "output_type": "execute_result"
    }
   ],
   "source": [
    "df3.loc[df3['previously_insured']==1, 'response'].mean()*100"
   ]
  },
  {
   "cell_type": "markdown",
   "id": "bd62424f",
   "metadata": {
    "hidden": true
   },
   "source": [
    "Clientes que possuem seguro veicular tem interesse quase zero no produto"
   ]
  },
  {
   "cell_type": "markdown",
   "id": "54dc024a",
   "metadata": {
    "heading_collapsed": true,
    "hidden": true
   },
   "source": [
    "#### region_code"
   ]
  },
  {
   "cell_type": "code",
   "execution_count": 31,
   "id": "d96c5b41",
   "metadata": {
    "ExecuteTime": {
     "end_time": "2022-05-16T14:36:01.309339Z",
     "start_time": "2022-05-16T14:36:01.277660Z"
    },
    "hidden": true,
    "scrolled": true
   },
   "outputs": [
    {
     "data": {
      "text/plain": [
       "53"
      ]
     },
     "execution_count": 31,
     "metadata": {},
     "output_type": "execute_result"
    }
   ],
   "source": [
    "df3['region_code'].nunique()"
   ]
  },
  {
   "cell_type": "markdown",
   "id": "8cc3e345",
   "metadata": {
    "hidden": true
   },
   "source": [
    "53 categorias"
   ]
  },
  {
   "cell_type": "code",
   "execution_count": 32,
   "id": "c664366d",
   "metadata": {
    "ExecuteTime": {
     "end_time": "2022-05-16T14:36:01.340138Z",
     "start_time": "2022-05-16T14:36:01.314417Z"
    },
    "hidden": true,
    "scrolled": true
   },
   "outputs": [
    {
     "data": {
      "text/plain": [
       "28.0    0.279057\n",
       "8.0     0.088843\n",
       "46.0    0.051764\n",
       "41.0    0.047989\n",
       "15.0    0.034834\n",
       "Name: region_code, dtype: float64"
      ]
     },
     "execution_count": 32,
     "metadata": {},
     "output_type": "execute_result"
    }
   ],
   "source": [
    "df3['region_code'].value_counts(normalize=True).head(5)"
   ]
  },
  {
   "cell_type": "code",
   "execution_count": 33,
   "id": "27b30daa",
   "metadata": {
    "ExecuteTime": {
     "end_time": "2022-05-16T14:36:01.368674Z",
     "start_time": "2022-05-16T14:36:01.340138Z"
    },
    "hidden": true
   },
   "outputs": [
    {
     "data": {
      "text/plain": [
       "0.5024868949673176"
      ]
     },
     "execution_count": 33,
     "metadata": {},
     "output_type": "execute_result"
    }
   ],
   "source": [
    "df3['region_code'].value_counts(normalize=True).head(5).sum()"
   ]
  },
  {
   "cell_type": "markdown",
   "id": "4f8bad18",
   "metadata": {
    "hidden": true
   },
   "source": [
    "28% dos clientes está contido na região 28. 50% dos dados estão contidos nas 5 regiões mais densas."
   ]
  },
  {
   "cell_type": "code",
   "execution_count": 34,
   "id": "c9bac0be",
   "metadata": {
    "ExecuteTime": {
     "end_time": "2022-05-16T14:36:01.409758Z",
     "start_time": "2022-05-16T14:36:01.368674Z"
    },
    "hidden": true
   },
   "outputs": [
    {
     "data": {
      "text/html": [
       "<div>\n",
       "<style scoped>\n",
       "    .dataframe tbody tr th:only-of-type {\n",
       "        vertical-align: middle;\n",
       "    }\n",
       "\n",
       "    .dataframe tbody tr th {\n",
       "        vertical-align: top;\n",
       "    }\n",
       "\n",
       "    .dataframe thead th {\n",
       "        text-align: right;\n",
       "    }\n",
       "</style>\n",
       "<table border=\"1\" class=\"dataframe\">\n",
       "  <thead>\n",
       "    <tr style=\"text-align: right;\">\n",
       "      <th></th>\n",
       "      <th>region_code</th>\n",
       "      <th>response</th>\n",
       "    </tr>\n",
       "  </thead>\n",
       "  <tbody>\n",
       "    <tr>\n",
       "      <th>38</th>\n",
       "      <td>38.0</td>\n",
       "      <td>0.198907</td>\n",
       "    </tr>\n",
       "    <tr>\n",
       "      <th>28</th>\n",
       "      <td>28.0</td>\n",
       "      <td>0.187074</td>\n",
       "    </tr>\n",
       "    <tr>\n",
       "      <th>51</th>\n",
       "      <td>51.0</td>\n",
       "      <td>0.165644</td>\n",
       "    </tr>\n",
       "    <tr>\n",
       "      <th>19</th>\n",
       "      <td>19.0</td>\n",
       "      <td>0.161891</td>\n",
       "    </tr>\n",
       "    <tr>\n",
       "      <th>4</th>\n",
       "      <td>4.0</td>\n",
       "      <td>0.158612</td>\n",
       "    </tr>\n",
       "  </tbody>\n",
       "</table>\n",
       "</div>"
      ],
      "text/plain": [
       "    region_code  response\n",
       "38         38.0  0.198907\n",
       "28         28.0  0.187074\n",
       "51         51.0  0.165644\n",
       "19         19.0  0.161891\n",
       "4           4.0  0.158612"
      ]
     },
     "execution_count": 34,
     "metadata": {},
     "output_type": "execute_result"
    }
   ],
   "source": [
    "df3.groupby('region_code', as_index=False).agg({'response':'mean'}).sort_values('response', ascending=False).head(5)"
   ]
  },
  {
   "cell_type": "code",
   "execution_count": 35,
   "id": "d514b117",
   "metadata": {
    "ExecuteTime": {
     "end_time": "2022-05-16T14:36:01.447036Z",
     "start_time": "2022-05-16T14:36:01.409758Z"
    },
    "hidden": true
   },
   "outputs": [
    {
     "data": {
      "text/html": [
       "<div>\n",
       "<style scoped>\n",
       "    .dataframe tbody tr th:only-of-type {\n",
       "        vertical-align: middle;\n",
       "    }\n",
       "\n",
       "    .dataframe tbody tr th {\n",
       "        vertical-align: top;\n",
       "    }\n",
       "\n",
       "    .dataframe thead th {\n",
       "        text-align: right;\n",
       "    }\n",
       "</style>\n",
       "<table border=\"1\" class=\"dataframe\">\n",
       "  <thead>\n",
       "    <tr style=\"text-align: right;\">\n",
       "      <th></th>\n",
       "      <th>region_code</th>\n",
       "      <th>response</th>\n",
       "    </tr>\n",
       "  </thead>\n",
       "  <tbody>\n",
       "    <tr>\n",
       "      <th>22</th>\n",
       "      <td>22.0</td>\n",
       "      <td>0.062500</td>\n",
       "    </tr>\n",
       "    <tr>\n",
       "      <th>50</th>\n",
       "      <td>50.0</td>\n",
       "      <td>0.062453</td>\n",
       "    </tr>\n",
       "    <tr>\n",
       "      <th>10</th>\n",
       "      <td>10.0</td>\n",
       "      <td>0.060483</td>\n",
       "    </tr>\n",
       "    <tr>\n",
       "      <th>25</th>\n",
       "      <td>25.0</td>\n",
       "      <td>0.040250</td>\n",
       "    </tr>\n",
       "    <tr>\n",
       "      <th>44</th>\n",
       "      <td>44.0</td>\n",
       "      <td>0.038781</td>\n",
       "    </tr>\n",
       "  </tbody>\n",
       "</table>\n",
       "</div>"
      ],
      "text/plain": [
       "    region_code  response\n",
       "22         22.0  0.062500\n",
       "50         50.0  0.062453\n",
       "10         10.0  0.060483\n",
       "25         25.0  0.040250\n",
       "44         44.0  0.038781"
      ]
     },
     "execution_count": 35,
     "metadata": {},
     "output_type": "execute_result"
    }
   ],
   "source": [
    "df3.groupby('region_code', as_index=False).agg({'response':'mean'}).sort_values('response', ascending=False).tail(5)"
   ]
  },
  {
   "cell_type": "markdown",
   "id": "7abe33e3",
   "metadata": {
    "hidden": true
   },
   "source": [
    "As regiões com probabilidade de response mais alto estão com por volta de 19%, as regiões com probabilidades mais baixas estã em por volta de 4%"
   ]
  },
  {
   "cell_type": "code",
   "execution_count": 36,
   "id": "9fdd16df",
   "metadata": {
    "ExecuteTime": {
     "end_time": "2022-05-16T14:36:05.726497Z",
     "start_time": "2022-05-16T14:36:01.448953Z"
    },
    "hidden": true
   },
   "outputs": [
    {
     "data": {
      "image/png": "[encoded data removed]",
      "text/plain": [
       "<Figure size 1080x360 with 1 Axes>"
      ]
     },
     "metadata": {
      "needs_background": "light"
     },
     "output_type": "display_data"
    }
   ],
   "source": [
    "sns.catplot(x='region_code', y='response', data=df3, kind='bar', aspect=3)\n",
    "plt.title('Média de Response Segregado por Region Code')\n",
    "plt.xticks(range(0, int(df3['region_code'].max()), 10))\n",
    "plt.ylabel('Média de Response');"
   ]
  },
  {
   "cell_type": "markdown",
   "id": "f1305296",
   "metadata": {
    "hidden": true
   },
   "source": [
    "Médias de response bastante distintas, com desvios padrões baixos"
   ]
  },
  {
   "cell_type": "markdown",
   "id": "971d0d26",
   "metadata": {
    "heading_collapsed": true,
    "hidden": true
   },
   "source": [
    "#### vehicle_age"
   ]
  },
  {
   "cell_type": "code",
   "execution_count": 37,
   "id": "4c6f419b",
   "metadata": {
    "ExecuteTime": {
     "end_time": "2022-05-16T14:36:05.752715Z",
     "start_time": "2022-05-16T14:36:05.728513Z"
    },
    "hidden": true
   },
   "outputs": [
    {
     "data": {
      "text/plain": [
       "1-2 Year     0.525709\n",
       "< 1 Year     0.432434\n",
       "> 2 Years    0.041857\n",
       "Name: vehicle_age, dtype: float64"
      ]
     },
     "execution_count": 37,
     "metadata": {},
     "output_type": "execute_result"
    }
   ],
   "source": [
    "df3['vehicle_age'].value_counts(normalize=True)"
   ]
  },
  {
   "cell_type": "code",
   "execution_count": 38,
   "id": "bcbf8fd0",
   "metadata": {
    "ExecuteTime": {
     "end_time": "2022-05-16T14:36:09.945624Z",
     "start_time": "2022-05-16T14:36:05.755731Z"
    },
    "hidden": true
   },
   "outputs": [
    {
     "data": {
      "image/png": "[encoded data removed]",
      "text/plain": [
       "<Figure size 360x360 with 1 Axes>"
      ]
     },
     "metadata": {
      "needs_background": "light"
     },
     "output_type": "display_data"
    }
   ],
   "source": [
    "sns.catplot(x='vehicle_age', y='response', data=df3, kind='bar', order=['< 1 Year', '1-2 Year', '> 2 Years'])\n",
    "plt.ylabel('Média de Response')\n",
    "plt.title('Média de Response Segregado por Vehicle Age');"
   ]
  },
  {
   "cell_type": "markdown",
   "id": "354363aa",
   "metadata": {
    "hidden": true
   },
   "source": [
    "Médias de response bastante distintas"
   ]
  },
  {
   "cell_type": "markdown",
   "id": "0dbf027f",
   "metadata": {
    "heading_collapsed": true,
    "hidden": true
   },
   "source": [
    "#### vehicle_damage"
   ]
  },
  {
   "cell_type": "code",
   "execution_count": 39,
   "id": "97d1f562",
   "metadata": {
    "ExecuteTime": {
     "end_time": "2022-05-16T14:36:09.989968Z",
     "start_time": "2022-05-16T14:36:09.947790Z"
    },
    "hidden": true,
    "scrolled": true
   },
   "outputs": [
    {
     "data": {
      "text/plain": [
       "Yes    0.504583\n",
       "No     0.495417\n",
       "Name: vehicle_damage, dtype: float64"
      ]
     },
     "execution_count": 39,
     "metadata": {},
     "output_type": "execute_result"
    }
   ],
   "source": [
    "df3['vehicle_damage'].value_counts(normalize=True)"
   ]
  },
  {
   "cell_type": "code",
   "execution_count": 40,
   "id": "31153637",
   "metadata": {
    "ExecuteTime": {
     "end_time": "2022-05-16T14:36:14.516159Z",
     "start_time": "2022-05-16T14:36:09.989968Z"
    },
    "hidden": true,
    "scrolled": false
   },
   "outputs": [
    {
     "data": {
      "image/png": "[encoded data removed]",
      "text/plain": [
       "<Figure size 360x360 with 1 Axes>"
      ]
     },
     "metadata": {
      "needs_background": "light"
     },
     "output_type": "display_data"
    }
   ],
   "source": [
    "sns.catplot(x='vehicle_damage', y='response', data=df3, kind='bar')\n",
    "plt.title('Média de Response Segregado por Vehicle Damage')\n",
    "plt.ylabel('Média de Response');"
   ]
  },
  {
   "cell_type": "code",
   "execution_count": 41,
   "id": "59716533",
   "metadata": {
    "ExecuteTime": {
     "end_time": "2022-05-16T14:36:14.607989Z",
     "start_time": "2022-05-16T14:36:14.516159Z"
    },
    "hidden": true
   },
   "outputs": [
    {
     "name": "stdout",
     "output_type": "stream",
     "text": [
      "Clientes que já tiveram danos tem: 23.75% de response\n",
      "Clientes que NÃO tiveram danos tem: 0.52% de response\n"
     ]
    }
   ],
   "source": [
    "print(f'Clientes que já tiveram danos tem: {round(df3.loc[df3[\"vehicle_damage\"]==\"Yes\", \"response\"].mean()*100, 2)}% de response')\n",
    "print(f'Clientes que NÃO tiveram danos tem: {round(df3.loc[df3[\"vehicle_damage\"]==\"No\", \"response\"].mean()*100, 2)}% de response')"
   ]
  },
  {
   "cell_type": "markdown",
   "id": "401421eb",
   "metadata": {
    "hidden": true
   },
   "source": [
    "Clientes que já tiveram danos no seu veículo tem 24% de response, enquanto clientes que não tiveram danos têm por volta de 1%"
   ]
  },
  {
   "cell_type": "markdown",
   "id": "383d1861",
   "metadata": {
    "heading_collapsed": true,
    "hidden": true
   },
   "source": [
    "#### annual_premium"
   ]
  },
  {
   "cell_type": "code",
   "execution_count": 42,
   "id": "8acba85d",
   "metadata": {
    "ExecuteTime": {
     "end_time": "2022-05-16T14:36:14.776155Z",
     "start_time": "2022-05-16T14:36:14.607989Z"
    },
    "hidden": true
   },
   "outputs": [
    {
     "data": {
      "image/png": "[encoded data removed]",
      "text/plain": [
       "<Figure size 432x288 with 1 Axes>"
      ]
     },
     "metadata": {
      "needs_background": "light"
     },
     "output_type": "display_data"
    }
   ],
   "source": [
    "sns.boxplot(x='annual_premium', data=df3)\n",
    "plt.title('Quartis de Annual Premium');"
   ]
  },
  {
   "cell_type": "markdown",
   "id": "fc09efe2",
   "metadata": {
    "hidden": true
   },
   "source": [
    "Muitos outliers"
   ]
  },
  {
   "cell_type": "code",
   "execution_count": 43,
   "id": "fd047405",
   "metadata": {
    "ExecuteTime": {
     "end_time": "2022-05-16T14:36:14.802744Z",
     "start_time": "2022-05-16T14:36:14.778142Z"
    },
    "hidden": true
   },
   "outputs": [
    {
     "name": "stdout",
     "output_type": "stream",
     "text": [
      "Há 1868 outliers no total\n"
     ]
    }
   ],
   "source": [
    "índices, li, ls = buscar_outlier(df3, 'annual_premium')\n",
    "\n",
    "print(f'Há {len(índices)} outliers no total')"
   ]
  },
  {
   "cell_type": "code",
   "execution_count": 44,
   "id": "8dc53c76",
   "metadata": {
    "ExecuteTime": {
     "end_time": "2022-05-16T14:36:15.120790Z",
     "start_time": "2022-05-16T14:36:14.803118Z"
    },
    "hidden": true
   },
   "outputs": [
    {
     "data": {
      "image/png": "[encoded data removed]",
      "text/plain": [
       "<Figure size 432x288 with 1 Axes>"
      ]
     },
     "metadata": {
      "needs_background": "light"
     },
     "output_type": "display_data"
    }
   ],
   "source": [
    "sns.histplot(df3.drop(índices)['annual_premium'], bins=20)\n",
    "plt.title('Distribuição de Annual Premium');"
   ]
  },
  {
   "cell_type": "markdown",
   "id": "4b1cb89a",
   "metadata": {
    "hidden": true
   },
   "source": [
    "Com exceção das amostras com valor mais baixo (fixo), a distribuição é bastante parecida com uma normal"
   ]
  },
  {
   "cell_type": "code",
   "execution_count": 45,
   "id": "6061896b",
   "metadata": {
    "ExecuteTime": {
     "end_time": "2022-05-16T14:36:15.168242Z",
     "start_time": "2022-05-16T14:36:15.120790Z"
    },
    "hidden": true,
    "scrolled": true
   },
   "outputs": [
    {
     "data": {
      "text/plain": [
       "2630.0     0.169914\n",
       "69856.0    0.000379\n",
       "39008.0    0.000114\n",
       "36086.0    0.000099\n",
       "38287.0    0.000099\n",
       "Name: annual_premium, dtype: float64"
      ]
     },
     "execution_count": 45,
     "metadata": {},
     "output_type": "execute_result"
    }
   ],
   "source": [
    "df3['annual_premium'].value_counts(normalize=True).head(5)"
   ]
  },
  {
   "cell_type": "markdown",
   "id": "55ce93bc",
   "metadata": {
    "hidden": true
   },
   "source": [
    "17% dos clientes estão contidos em um valor discreto de 2630 dollares. Um estudo separadamente para este grupo pode ser interessante."
   ]
  },
  {
   "cell_type": "code",
   "execution_count": 46,
   "id": "0bfa1a9f",
   "metadata": {
    "ExecuteTime": {
     "end_time": "2022-05-16T14:36:15.201795Z",
     "start_time": "2022-05-16T14:36:15.168242Z"
    },
    "hidden": true
   },
   "outputs": [
    {
     "name": "stdout",
     "output_type": "stream",
     "text": [
      "A média de interesse no produto do grupo de clientes com valor FIXO de seguro: 13.13%\n",
      "A média de interesse no produto do grupo de clientes com valor VARIÁVEL SUPERIOR de seguro: 12.06%\n"
     ]
    }
   ],
   "source": [
    "print(f'A média de interesse no produto do grupo de clientes com valor FIXO de seguro: {round(df3.loc[df3[\"annual_premium\"]==2630, \"response\"].mean()*100, 2)}%')\n",
    "print(f'A média de interesse no produto do grupo de clientes com valor VARIÁVEL SUPERIOR de seguro: {round(df3.loc[df3[\"annual_premium\"]!=2630, \"response\"].mean()*100, 2)}%')"
   ]
  },
  {
   "cell_type": "markdown",
   "id": "c953c0dd",
   "metadata": {
    "hidden": true
   },
   "source": [
    "O interesse no produto não é significativamente diferente entre os dois grupos de clientes"
   ]
  },
  {
   "cell_type": "markdown",
   "id": "65122375",
   "metadata": {
    "hidden": true
   },
   "source": [
    "Para uma melhor visualização, os dados serão filtrados provisioriamente até 100000 dollares"
   ]
  },
  {
   "cell_type": "code",
   "execution_count": 47,
   "id": "6776dc47",
   "metadata": {
    "ExecuteTime": {
     "end_time": "2022-05-16T14:36:17.036385Z",
     "start_time": "2022-05-16T14:36:15.201795Z"
    },
    "hidden": true
   },
   "outputs": [
    {
     "data": {
      "image/png": "[encoded data removed]",
      "text/plain": [
       "<Figure size 432x288 with 2 Axes>"
      ]
     },
     "metadata": {
      "needs_background": "light"
     },
     "output_type": "display_data"
    }
   ],
   "source": [
    "temp = df3.loc[(df3['annual_premium']>2630)&(df3['annual_premium']<100000)]\n",
    "\n",
    "plt.subplot(2, 1, 1)\n",
    "plt.title('Distribuição e Densidade de Annual Premium Segregado por Response')\n",
    "g = sns.histplot(temp.loc[temp['response']==0, 'annual_premium'], color='r', alpha=0.5, bins=20)\n",
    "g = sns.histplot(temp.loc[temp['response']==1, 'annual_premium'], color='b', alpha=0.5, bins=20)\n",
    "plt.subplot(2, 1, 2)\n",
    "g = sns.kdeplot(temp.loc[temp['response']==0, 'annual_premium'], color='r', alpha=0.5)\n",
    "g = sns.kdeplot(temp.loc[temp['response']==1, 'annual_premium'], color='b', alpha=0.5)"
   ]
  },
  {
   "cell_type": "markdown",
   "id": "bca70a9c",
   "metadata": {
    "hidden": true
   },
   "source": [
    "Aparentemente acima do terceiro quartil da distribuição há um interesse maior no produto"
   ]
  },
  {
   "cell_type": "code",
   "execution_count": 48,
   "id": "c2434ca9",
   "metadata": {
    "ExecuteTime": {
     "end_time": "2022-05-16T14:36:17.168436Z",
     "start_time": "2022-05-16T14:36:17.036385Z"
    },
    "hidden": true
   },
   "outputs": [
    {
     "data": {
      "image/png": "[encoded data removed]",
      "text/plain": [
       "<Figure size 432x288 with 1 Axes>"
      ]
     },
     "metadata": {
      "needs_background": "light"
     },
     "output_type": "display_data"
    }
   ],
   "source": [
    "plt.title('Média de Annual Premium Segregados por Response')\n",
    "sns.boxplot(x='response', y='annual_premium', data=temp);"
   ]
  },
  {
   "cell_type": "markdown",
   "id": "1466edcb",
   "metadata": {
    "hidden": true
   },
   "source": [
    "Sem diferença significativa"
   ]
  },
  {
   "cell_type": "markdown",
   "id": "77a08712",
   "metadata": {
    "heading_collapsed": true,
    "hidden": true
   },
   "source": [
    "#### policy_sales_channel"
   ]
  },
  {
   "cell_type": "code",
   "execution_count": 49,
   "id": "79cb9ba9",
   "metadata": {
    "ExecuteTime": {
     "end_time": "2022-05-16T14:36:17.187176Z",
     "start_time": "2022-05-16T14:36:17.171127Z"
    },
    "hidden": true,
    "scrolled": true
   },
   "outputs": [
    {
     "data": {
      "text/plain": [
       "152.0    0.353670\n",
       "26.0     0.208972\n",
       "124.0    0.194164\n",
       "160.0    0.057146\n",
       "156.0    0.028155\n",
       "Name: policy_sales_channel, dtype: float64"
      ]
     },
     "execution_count": 49,
     "metadata": {},
     "output_type": "execute_result"
    }
   ],
   "source": [
    "df3['policy_sales_channel'].value_counts(normalize=True).head(5)"
   ]
  },
  {
   "cell_type": "code",
   "execution_count": 50,
   "id": "a425764d",
   "metadata": {
    "ExecuteTime": {
     "end_time": "2022-05-16T14:36:17.202691Z",
     "start_time": "2022-05-16T14:36:17.187176Z"
    },
    "hidden": true
   },
   "outputs": [],
   "source": [
    "canais_mais_utilizados = df3['policy_sales_channel'].value_counts(normalize=True).head(5).index"
   ]
  },
  {
   "cell_type": "code",
   "execution_count": 51,
   "id": "febe78e3",
   "metadata": {
    "ExecuteTime": {
     "end_time": "2022-05-16T14:36:17.233334Z",
     "start_time": "2022-05-16T14:36:17.202691Z"
    },
    "hidden": true
   },
   "outputs": [
    {
     "name": "stdout",
     "output_type": "stream",
     "text": [
      "5 categorias contém 84.21% do total de clientes\n"
     ]
    }
   ],
   "source": [
    "print(f'5 categorias contém {round(df3[\"policy_sales_channel\"].value_counts(normalize=True).head(5).sum()*100, 2)}% do total de clientes')"
   ]
  },
  {
   "cell_type": "code",
   "execution_count": 52,
   "id": "f787b51e",
   "metadata": {
    "ExecuteTime": {
     "end_time": "2022-05-16T14:36:27.683633Z",
     "start_time": "2022-05-16T14:36:17.237545Z"
    },
    "hidden": true,
    "scrolled": false
   },
   "outputs": [
    {
     "data": {
      "image/png": "[encoded data removed]",
      "text/plain": [
       "<Figure size 1080x360 with 1 Axes>"
      ]
     },
     "metadata": {
      "needs_background": "light"
     },
     "output_type": "display_data"
    }
   ],
   "source": [
    "sns.catplot(x='policy_sales_channel', y='response', data=df3, kind='bar', aspect=3)\n",
    "plt.xticks(range(0, int(df3['policy_sales_channel'].max()), 10))\n",
    "plt.title('Média de Response Segregada por Policy Sales Channel')\n",
    "plt.ylabel('Média de Response');"
   ]
  },
  {
   "cell_type": "markdown",
   "id": "1c634ebd",
   "metadata": {
    "hidden": true
   },
   "source": [
    "Médias de response por canais de Policy_Sales_Channel bastante distintas"
   ]
  },
  {
   "cell_type": "code",
   "execution_count": 53,
   "id": "92a4c4d7",
   "metadata": {
    "ExecuteTime": {
     "end_time": "2022-05-16T14:36:27.735864Z",
     "start_time": "2022-05-16T14:36:27.685707Z"
    },
    "hidden": true
   },
   "outputs": [
    {
     "data": {
      "text/html": [
       "<div>\n",
       "<style scoped>\n",
       "    .dataframe tbody tr th:only-of-type {\n",
       "        vertical-align: middle;\n",
       "    }\n",
       "\n",
       "    .dataframe tbody tr th {\n",
       "        vertical-align: top;\n",
       "    }\n",
       "\n",
       "    .dataframe thead th {\n",
       "        text-align: right;\n",
       "    }\n",
       "</style>\n",
       "<table border=\"1\" class=\"dataframe\">\n",
       "  <thead>\n",
       "    <tr style=\"text-align: right;\">\n",
       "      <th></th>\n",
       "      <th>policy_sales_channel</th>\n",
       "      <th>response_count</th>\n",
       "      <th>response_mean</th>\n",
       "    </tr>\n",
       "  </thead>\n",
       "  <tbody>\n",
       "    <tr>\n",
       "      <th>143</th>\n",
       "      <td>152.0</td>\n",
       "      <td>121308</td>\n",
       "      <td>0.028522</td>\n",
       "    </tr>\n",
       "    <tr>\n",
       "      <th>24</th>\n",
       "      <td>26.0</td>\n",
       "      <td>71677</td>\n",
       "      <td>0.198460</td>\n",
       "    </tr>\n",
       "    <tr>\n",
       "      <th>118</th>\n",
       "      <td>124.0</td>\n",
       "      <td>66598</td>\n",
       "      <td>0.189195</td>\n",
       "    </tr>\n",
       "    <tr>\n",
       "      <th>151</th>\n",
       "      <td>160.0</td>\n",
       "      <td>19601</td>\n",
       "      <td>0.021836</td>\n",
       "    </tr>\n",
       "    <tr>\n",
       "      <th>147</th>\n",
       "      <td>156.0</td>\n",
       "      <td>9657</td>\n",
       "      <td>0.215802</td>\n",
       "    </tr>\n",
       "  </tbody>\n",
       "</table>\n",
       "</div>"
      ],
      "text/plain": [
       "     policy_sales_channel  response_count  response_mean\n",
       "143                 152.0          121308       0.028522\n",
       "24                   26.0           71677       0.198460\n",
       "118                 124.0           66598       0.189195\n",
       "151                 160.0           19601       0.021836\n",
       "147                 156.0            9657       0.215802"
      ]
     },
     "execution_count": 53,
     "metadata": {},
     "output_type": "execute_result"
    }
   ],
   "source": [
    "temp = df3.groupby('policy_sales_channel', as_index=False).agg({'response':'count'})\n",
    "temp.rename(columns={'response':'response_count'}, inplace=True)\n",
    "\n",
    "temp2 = df3.groupby('policy_sales_channel', as_index=False).agg({'response':'mean'})\n",
    "temp2.rename(columns={'response':'response_mean'}, inplace=True)\n",
    "\n",
    "temp3 = temp.merge(temp2, how='left', on='policy_sales_channel')\n",
    "temp3.sort_values('response_count', ascending=False).head(5)"
   ]
  },
  {
   "cell_type": "markdown",
   "id": "98513f29",
   "metadata": {
    "hidden": true
   },
   "source": [
    "Os canais mais utilizados apresentam médias de response bastante diferentes da média global, os canal 152 é o mais utilizado e apresenta 2% de interesse no produto, o canal 155 apresenta 2%, já os canais 26, 124 e 156 apresentam por volta de 20% de interesse no produto"
   ]
  },
  {
   "cell_type": "markdown",
   "id": "4026bd69",
   "metadata": {
    "heading_collapsed": true,
    "hidden": true
   },
   "source": [
    "#### vintage"
   ]
  },
  {
   "cell_type": "code",
   "execution_count": 54,
   "id": "03cf74d1",
   "metadata": {
    "ExecuteTime": {
     "end_time": "2022-05-16T14:36:40.943418Z",
     "start_time": "2022-05-16T14:36:27.738787Z"
    },
    "hidden": true,
    "scrolled": false
   },
   "outputs": [
    {
     "data": {
      "image/png": "[encoded data removed]",
      "text/plain": [
       "<Figure size 1080x360 with 1 Axes>"
      ]
     },
     "metadata": {
      "needs_background": "light"
     },
     "output_type": "display_data"
    }
   ],
   "source": [
    "sns.catplot(x='vintage', y='response', data=df3, kind='bar', aspect=3)\n",
    "plt.title('Média de Response Segregado por Vintage')\n",
    "plt.ylabel('Média de Response')\n",
    "plt.xticks(range(0, df3['vintage'].max(), 20));"
   ]
  },
  {
   "cell_type": "markdown",
   "id": "d54e8098",
   "metadata": {
    "hidden": true
   },
   "source": [
    "Muito ruidoso, os desvios padrões colocam tudo no mesmo nível."
   ]
  },
  {
   "cell_type": "markdown",
   "id": "9cffaee2",
   "metadata": {
    "heading_collapsed": true,
    "hidden": true
   },
   "source": [
    "## 3.3 Bivariate Analysis"
   ]
  },
  {
   "cell_type": "code",
   "execution_count": null,
   "id": "d2e2a1d7",
   "metadata": {
    "hidden": true
   },
   "outputs": [],
   "source": []
  },
  {
   "cell_type": "markdown",
   "id": "c24a6e93",
   "metadata": {
    "heading_collapsed": true,
    "hidden": true
   },
   "source": [
    "## 3.4 Multivariate Analysis"
   ]
  },
  {
   "cell_type": "markdown",
   "id": "950a3a65",
   "metadata": {
    "heading_collapsed": true,
    "hidden": true
   },
   "source": [
    "### 3.4.1 Numerical Attributes"
   ]
  },
  {
   "cell_type": "code",
   "execution_count": 55,
   "id": "228e6321",
   "metadata": {
    "ExecuteTime": {
     "end_time": "2022-05-16T14:36:41.054858Z",
     "start_time": "2022-05-16T14:36:40.945715Z"
    },
    "hidden": true
   },
   "outputs": [
    {
     "data": {
      "image/png": "[encoded data removed]",
      "text/plain": [
       "<Figure size 432x288 with 1 Axes>"
      ]
     },
     "metadata": {
      "needs_background": "light"
     },
     "output_type": "display_data"
    }
   ],
   "source": [
    "sns.heatmap(df3[numerical_attributes].corr(), annot=True, cbar=False);"
   ]
  },
  {
   "cell_type": "markdown",
   "id": "aec305cc",
   "metadata": {
    "heading_collapsed": true,
    "hidden": true
   },
   "source": [
    "### 3.4.1 Categorical Attributes"
   ]
  },
  {
   "cell_type": "code",
   "execution_count": 56,
   "id": "dc753b15",
   "metadata": {
    "ExecuteTime": {
     "end_time": "2022-05-16T14:36:47.202035Z",
     "start_time": "2022-05-16T14:36:41.058164Z"
    },
    "hidden": true,
    "scrolled": false
   },
   "outputs": [
    {
     "data": {
      "image/png": "[encoded data removed]",
      "text/plain": [
       "<Figure size 432x288 with 1 Axes>"
      ]
     },
     "metadata": {
      "needs_background": "light"
     },
     "output_type": "display_data"
    }
   ],
   "source": [
    "cramer_correlation = []\n",
    "\n",
    "for i, col_1 in enumerate(categorical_attributes):\n",
    "    for j, col_2 in enumerate(categorical_attributes):\n",
    "        cramer_correlation.append(cramer_v(df3[col_1], df3[col_2]))\n",
    "        \n",
    "matrix = pd.DataFrame(np.array(cramer_correlation).reshape(8, 8), index=categorical_attributes, columns=categorical_attributes)\n",
    "\n",
    "sns.heatmap(matrix, annot=True, cbar=False);"
   ]
  },
  {
   "cell_type": "markdown",
   "id": "f4c05d43",
   "metadata": {
    "heading_collapsed": true
   },
   "source": [
    "# 4.0 Data Filtering"
   ]
  },
  {
   "cell_type": "code",
   "execution_count": 57,
   "id": "54623966",
   "metadata": {
    "ExecuteTime": {
     "end_time": "2022-05-16T14:36:47.232788Z",
     "start_time": "2022-05-16T14:36:47.204962Z"
    },
    "hidden": true
   },
   "outputs": [],
   "source": [
    "df4 = df3.copy()"
   ]
  },
  {
   "cell_type": "markdown",
   "id": "66cb92e8",
   "metadata": {
    "heading_collapsed": true,
    "hidden": true
   },
   "source": [
    "## 4.1 Columns"
   ]
  },
  {
   "cell_type": "code",
   "execution_count": null,
   "id": "541db307",
   "metadata": {
    "hidden": true
   },
   "outputs": [],
   "source": []
  },
  {
   "cell_type": "markdown",
   "id": "b8330e15",
   "metadata": {
    "heading_collapsed": true,
    "hidden": true
   },
   "source": [
    "## 4.2 Rows"
   ]
  },
  {
   "cell_type": "code",
   "execution_count": null,
   "id": "6a5c4247",
   "metadata": {
    "hidden": true
   },
   "outputs": [],
   "source": []
  },
  {
   "cell_type": "markdown",
   "id": "f4082a19",
   "metadata": {
    "heading_collapsed": true
   },
   "source": [
    "# 5.0 Data Preparation"
   ]
  },
  {
   "cell_type": "code",
   "execution_count": 58,
   "id": "51d8c860",
   "metadata": {
    "ExecuteTime": {
     "end_time": "2022-05-16T14:36:47.263809Z",
     "start_time": "2022-05-16T14:36:47.234965Z"
    },
    "hidden": true
   },
   "outputs": [],
   "source": [
    "# backup\n",
    "df5 = df4.copy()"
   ]
  },
  {
   "cell_type": "markdown",
   "id": "3b9fefe1",
   "metadata": {
    "heading_collapsed": true,
    "hidden": true
   },
   "source": [
    "## 5.1 Normalization"
   ]
  },
  {
   "cell_type": "code",
   "execution_count": 59,
   "id": "ec94ae55",
   "metadata": {
    "ExecuteTime": {
     "end_time": "2022-05-16T14:36:47.310108Z",
     "start_time": "2022-05-16T14:36:47.265801Z"
    },
    "hidden": true
   },
   "outputs": [],
   "source": [
    "# annual_premium\n",
    "ss = StandardScaler()\n",
    "ss_annual_premium = ss.fit(df5[['annual_premium']].values)\n",
    "df5['annual_premium'] = ss_annual_premium.transform(df5[['annual_premium']].values)"
   ]
  },
  {
   "cell_type": "markdown",
   "id": "099a0bac",
   "metadata": {
    "hidden": true
   },
   "source": [
    "annual_premium foi transformada pelo método standardscaler porque tem distribuição parecida com uma normal"
   ]
  },
  {
   "cell_type": "markdown",
   "id": "f353da0f",
   "metadata": {
    "heading_collapsed": true,
    "hidden": true
   },
   "source": [
    "## 5.2 Rescaling"
   ]
  },
  {
   "cell_type": "code",
   "execution_count": 60,
   "id": "0939f812",
   "metadata": {
    "ExecuteTime": {
     "end_time": "2022-05-16T14:36:47.356749Z",
     "start_time": "2022-05-16T14:36:47.312091Z"
    },
    "hidden": true
   },
   "outputs": [],
   "source": [
    "# age by the method minmaxscaler\n",
    "mm = MinMaxScaler()\n",
    "mm_age = mm.fit(df5[['age']].values)\n",
    "df5['age'] = mm_age.transform(df5[['age']].values)"
   ]
  },
  {
   "cell_type": "markdown",
   "id": "554530b9",
   "metadata": {
    "hidden": true
   },
   "source": [
    "age foi transformada pelo método minmaxscaler porque não parece com uma normal, e não houve necessidade de utilizar um método robusto contra outliers"
   ]
  },
  {
   "cell_type": "markdown",
   "id": "40691614",
   "metadata": {
    "heading_collapsed": true,
    "hidden": true
   },
   "source": [
    "## 5.3 Transformation"
   ]
  },
  {
   "cell_type": "markdown",
   "id": "63ee6e5f",
   "metadata": {
    "heading_collapsed": true,
    "hidden": true
   },
   "source": [
    "### 5.3.1 Encoding"
   ]
  },
  {
   "cell_type": "code",
   "execution_count": 61,
   "id": "6fba6d3e",
   "metadata": {
    "ExecuteTime": {
     "end_time": "2022-05-16T14:36:47.578252Z",
     "start_time": "2022-05-16T14:36:47.361480Z"
    },
    "hidden": true
   },
   "outputs": [],
   "source": [
    "# vehicle_age by the method labelencoding\n",
    "map_vehicle_age = {'< 1 Year': 1, '1-2 Year': 2, '> 2 Years': 3}\n",
    "df5['vehicle_age'] = df5['vehicle_age'].map(map_vehicle_age)\n",
    "\n",
    "# gender\n",
    "map_gender = {'Male':0, 'Female':1}\n",
    "df5['gender'] = df5['gender'].map(map_gender)\n",
    "\n",
    "# vehicle_damage\n",
    "map_vehicle_damage = {'Yes':1, 'No':0}\n",
    "df5['vehicle_damage'] = df5['vehicle_damage'].map(map_vehicle_damage)\n",
    "\n",
    "# region_code by the method target_encoding\n",
    "map_region_code = df5.groupby('region_code').agg({'response':'mean'})['response']\n",
    "df5['region_code'] = df5['region_code'].map(map_region_code)\n",
    "\n",
    "# policy_sales_channel\n",
    "map_policy_sales_channel = df5.groupby('policy_sales_channel').agg({'response':'mean'})['response']\n",
    "df5['policy_sales_channel'] = df5['policy_sales_channel'].map(map_policy_sales_channel)"
   ]
  },
  {
   "cell_type": "markdown",
   "id": "25426b9c",
   "metadata": {
    "heading_collapsed": true,
    "hidden": true
   },
   "source": [
    "### 5.3.2 Nature Transformation"
   ]
  },
  {
   "cell_type": "code",
   "execution_count": 62,
   "id": "9cdae50e",
   "metadata": {
    "ExecuteTime": {
     "end_time": "2022-05-16T14:36:51.330479Z",
     "start_time": "2022-05-16T14:36:47.580271Z"
    },
    "hidden": true
   },
   "outputs": [],
   "source": [
    "# vintage\n",
    "cicle = df5['vintage'].max() - df5['vintage'].min()\n",
    "df5['vintage_sin'] = df5['vintage'].apply(lambda x: np.sin(x* (2*np.pi/cicle)))\n",
    "df5['vintage_cos'] = df5['vintage'].apply(lambda x: np.cos(x* (2*np.pi/cicle)))\n",
    "df5.drop('vintage', axis=1, inplace=True)"
   ]
  },
  {
   "cell_type": "markdown",
   "id": "623157e2",
   "metadata": {
    "heading_collapsed": true,
    "hidden": true
   },
   "source": [
    "## 5.4 Splitings"
   ]
  },
  {
   "cell_type": "code",
   "execution_count": 63,
   "id": "37408a8e",
   "metadata": {
    "ExecuteTime": {
     "end_time": "2022-05-16T14:36:51.478740Z",
     "start_time": "2022-05-16T14:36:51.330479Z"
    },
    "hidden": true
   },
   "outputs": [],
   "source": [
    "# spliting X and y\n",
    "X = df5.drop(['response', 'id'], axis=1)\n",
    "X = np.array(X)\n",
    "y = df5['response'].copy()\n",
    "y = np.array(y).reshape(1, len(y))[0]\n",
    "\n",
    "# spliting train and validation\n",
    "X_train, X_val, y_train, y_val = train_test_split(X, y, test_size=0.2, random_state=101)"
   ]
  },
  {
   "cell_type": "markdown",
   "id": "2d11e3ed",
   "metadata": {
    "heading_collapsed": true,
    "hidden": true
   },
   "source": [
    "## 5.5 Balancing"
   ]
  },
  {
   "cell_type": "code",
   "execution_count": 64,
   "id": "431e3994",
   "metadata": {
    "ExecuteTime": {
     "end_time": "2022-05-16T14:36:53.021908Z",
     "start_time": "2022-05-16T14:36:51.478740Z"
    },
    "hidden": true
   },
   "outputs": [],
   "source": [
    "smote = SMOTE()\n",
    "\n",
    "X_train_smote, y_train_smote = smote.fit_resample(X_train, y_train)"
   ]
  },
  {
   "cell_type": "markdown",
   "id": "94fc2d33",
   "metadata": {
    "heading_collapsed": true,
    "hidden": true
   },
   "source": [
    "## 5.6 Test Preparation"
   ]
  },
  {
   "cell_type": "code",
   "execution_count": 65,
   "id": "7d5a9b57",
   "metadata": {
    "ExecuteTime": {
     "end_time": "2022-05-16T14:36:53.483236Z",
     "start_time": "2022-05-16T14:36:53.024168Z"
    },
    "hidden": true
   },
   "outputs": [],
   "source": [
    "# lowercase columns\n",
    "cols_lowercase = ' '.join(test.columns.to_list()).lower().split()\n",
    "test.columns = cols_lowercase\n",
    "\n",
    "# annual_premium\n",
    "test['annual_premium'] = ss_annual_premium.transform(test[['annual_premium']].values)\n",
    "\n",
    "# age by the method minmaxscaler\n",
    "test['age'] = mm_age.transform(test[['age']].values)\n",
    "\n",
    "# vehicle_age by the method labelencoding\n",
    "test['vehicle_age'] = test['vehicle_age'].map(map_vehicle_age)\n",
    "\n",
    "# gender\n",
    "test['gender'] = test['gender'].map(map_gender)\n",
    "\n",
    "# vehicle_damage\n",
    "test['vehicle_damage'] = test['vehicle_damage'].map(map_vehicle_damage)\n",
    "\n",
    "# region_code by the method target_encoding\n",
    "test['region_code'] = test['region_code'].map(map_region_code)\n",
    "\n",
    "# policy_sales_channel\n",
    "test['policy_sales_channel'] = test['policy_sales_channel'].map(map_policy_sales_channel)\n",
    "\n",
    "# vintage\n",
    "cicle = test['vintage'].max() - test['vintage'].min()\n",
    "test['vintage_sin'] = test['vintage'].apply(lambda x: np.sin(x* (2*np.pi/cicle)))\n",
    "test['vintage_cos'] = test['vintage'].apply(lambda x: np.cos(x* (2*np.pi/cicle)))\n",
    "test.drop('vintage', axis=1, inplace=True)\n",
    "\n",
    "# dropna\n",
    "test.dropna(inplace=True)"
   ]
  },
  {
   "cell_type": "markdown",
   "id": "cf542f56",
   "metadata": {
    "heading_collapsed": true,
    "id": "O5JNrPUBwgK_"
   },
   "source": [
    "# 6.0 Feature Selection"
   ]
  },
  {
   "cell_type": "code",
   "execution_count": 66,
   "id": "fcc9e032",
   "metadata": {
    "ExecuteTime": {
     "end_time": "2022-05-16T14:36:53.513796Z",
     "start_time": "2022-05-16T14:36:53.486301Z"
    },
    "hidden": true
   },
   "outputs": [],
   "source": [
    "df6 = df5.copy()"
   ]
  },
  {
   "cell_type": "markdown",
   "id": "a23f4826",
   "metadata": {
    "heading_collapsed": true,
    "hidden": true
   },
   "source": [
    "## 6.1 Importances"
   ]
  },
  {
   "cell_type": "markdown",
   "id": "13b1dcbb",
   "metadata": {
    "heading_collapsed": true,
    "hidden": true,
    "id": "LQkDdBsliGe5"
   },
   "source": [
    "### 6.1.1 Random Forest"
   ]
  },
  {
   "cell_type": "code",
   "execution_count": 67,
   "id": "6051a85e",
   "metadata": {
    "ExecuteTime": {
     "end_time": "2022-05-16T14:38:12.311557Z",
     "start_time": "2022-05-16T14:36:53.515780Z"
    },
    "colab": {
     "base_uri": "https://localhost:8080/"
    },
    "hidden": true,
    "id": "CSMecOxSyu3T",
    "outputId": "6d74362a-3ecd-4018-f86a-ddf34b3a0ff3",
    "scrolled": false
   },
   "outputs": [
    {
     "name": "stdout",
     "output_type": "stream",
     "text": [
      "              precision    recall  f1-score   support\n",
      "\n",
      "           0       0.97      0.71      0.82     60207\n",
      "           1       0.30      0.86      0.44      8393\n",
      "\n",
      "    accuracy                           0.73     68600\n",
      "   macro avg       0.63      0.79      0.63     68600\n",
      "weighted avg       0.89      0.73      0.78     68600\n",
      "\n"
     ]
    }
   ],
   "source": [
    "# model definition\n",
    "rf_model = RandomForestClassifier(n_estimators=100, min_samples_leaf=1000)\n",
    "\n",
    "# fiting model\n",
    "rf_fit = rf_model.fit(X_train_smote, y_train_smote)\n",
    "\n",
    "# predicting\n",
    "rf_predict = rf_fit.predict(X_val)\n",
    "\n",
    "# metricss\n",
    "print(classification_report(y_val, rf_predict))"
   ]
  },
  {
   "cell_type": "markdown",
   "id": "d20e93ce",
   "metadata": {
    "heading_collapsed": true,
    "hidden": true,
    "id": "ijExdiKLiY_J"
   },
   "source": [
    "### 6.1.2 XGBoost"
   ]
  },
  {
   "cell_type": "code",
   "execution_count": 68,
   "id": "27abc7de",
   "metadata": {
    "ExecuteTime": {
     "end_time": "2022-05-16T14:38:31.983948Z",
     "start_time": "2022-05-16T14:38:12.312924Z"
    },
    "colab": {
     "base_uri": "https://localhost:8080/"
    },
    "hidden": true,
    "id": "a1QPpwuwiY_K",
    "outputId": "d2b2758e-6d42-4459-c8a5-8415789a287a",
    "scrolled": true
   },
   "outputs": [
    {
     "name": "stdout",
     "output_type": "stream",
     "text": [
      "              precision    recall  f1-score   support\n",
      "\n",
      "           0       0.89      0.97      0.93     60207\n",
      "           1       0.39      0.16      0.22      8393\n",
      "\n",
      "    accuracy                           0.87     68600\n",
      "   macro avg       0.64      0.56      0.58     68600\n",
      "weighted avg       0.83      0.87      0.84     68600\n",
      "\n"
     ]
    }
   ],
   "source": [
    "# model_definition\n",
    "xgb_model = XGBClassifier(use_label_encoder=False, eval_metric='error')\n",
    "\n",
    "# fiting model\n",
    "xgb_fit = xgb_model.fit(X_train_smote, y_train_smote)\n",
    "\n",
    "# # predicting\n",
    "xgb_predict = xgb_fit.predict(X_val)\n",
    "\n",
    "# metricss\n",
    "print(classification_report(y_val, xgb_predict))"
   ]
  },
  {
   "cell_type": "markdown",
   "id": "320c10ce",
   "metadata": {
    "heading_collapsed": true,
    "hidden": true
   },
   "source": [
    "## 6.2 RFE"
   ]
  },
  {
   "cell_type": "code",
   "execution_count": 69,
   "id": "0b883370",
   "metadata": {
    "ExecuteTime": {
     "end_time": "2022-05-16T14:45:16.452569Z",
     "start_time": "2022-05-16T14:38:31.987282Z"
    },
    "hidden": true
   },
   "outputs": [],
   "source": [
    "# model definition\n",
    "rfe_model = RFE(rf_model, n_features_to_select=1)\n",
    "\n",
    "# fiting model\n",
    "rfe_fit = rfe_model.fit(X_train_smote, y_train_smote)"
   ]
  },
  {
   "cell_type": "markdown",
   "id": "97aee8ab",
   "metadata": {
    "heading_collapsed": true,
    "hidden": true
   },
   "source": [
    "## 6.3 Boruta"
   ]
  },
  {
   "cell_type": "code",
   "execution_count": 70,
   "id": "1e88839c",
   "metadata": {
    "ExecuteTime": {
     "end_time": "2022-05-16T16:41:40.202078Z",
     "start_time": "2022-05-16T14:45:16.452569Z"
    },
    "hidden": true
   },
   "outputs": [],
   "source": [
    "# model definition\n",
    "boruta_model = BorutaPy(rf_model)\n",
    "\n",
    "# fiting model\n",
    "boruta_fit = boruta_model.fit(X_train_smote, y_train_smote)"
   ]
  },
  {
   "cell_type": "markdown",
   "id": "55529fb6",
   "metadata": {
    "heading_collapsed": true,
    "hidden": true,
    "id": "ijExdiKLiY_J"
   },
   "source": [
    "## 6.4 Defining"
   ]
  },
  {
   "cell_type": "code",
   "execution_count": 71,
   "id": "67d64cff",
   "metadata": {
    "ExecuteTime": {
     "end_time": "2022-05-16T16:41:40.360863Z",
     "start_time": "2022-05-16T16:41:40.204084Z"
    },
    "hidden": true,
    "hide_input": true,
    "scrolled": true
   },
   "outputs": [
    {
     "data": {
      "text/html": [
       "<div>\n",
       "<style scoped>\n",
       "    .dataframe tbody tr th:only-of-type {\n",
       "        vertical-align: middle;\n",
       "    }\n",
       "\n",
       "    .dataframe tbody tr th {\n",
       "        vertical-align: top;\n",
       "    }\n",
       "\n",
       "    .dataframe thead th {\n",
       "        text-align: right;\n",
       "    }\n",
       "</style>\n",
       "<table border=\"1\" class=\"dataframe\">\n",
       "  <thead>\n",
       "    <tr style=\"text-align: right;\">\n",
       "      <th></th>\n",
       "      <th>feature</th>\n",
       "      <th>rf_importance</th>\n",
       "      <th>xgb_importance</th>\n",
       "    </tr>\n",
       "  </thead>\n",
       "  <tbody>\n",
       "    <tr>\n",
       "      <th>0</th>\n",
       "      <td>gender</td>\n",
       "      <td>0.002003</td>\n",
       "      <td>0.001472</td>\n",
       "    </tr>\n",
       "    <tr>\n",
       "      <th>1</th>\n",
       "      <td>age</td>\n",
       "      <td>0.088543</td>\n",
       "      <td>0.032332</td>\n",
       "    </tr>\n",
       "    <tr>\n",
       "      <th>2</th>\n",
       "      <td>driving_license</td>\n",
       "      <td>0.0</td>\n",
       "      <td>0.009097</td>\n",
       "    </tr>\n",
       "    <tr>\n",
       "      <th>3</th>\n",
       "      <td>region_code</td>\n",
       "      <td>0.051971</td>\n",
       "      <td>0.029651</td>\n",
       "    </tr>\n",
       "    <tr>\n",
       "      <th>4</th>\n",
       "      <td>previously_insured</td>\n",
       "      <td>0.300975</td>\n",
       "      <td>0.456031</td>\n",
       "    </tr>\n",
       "    <tr>\n",
       "      <th>5</th>\n",
       "      <td>vehicle_age</td>\n",
       "      <td>0.037705</td>\n",
       "      <td>0.005772</td>\n",
       "    </tr>\n",
       "    <tr>\n",
       "      <th>6</th>\n",
       "      <td>vehicle_damage</td>\n",
       "      <td>0.323443</td>\n",
       "      <td>0.418305</td>\n",
       "    </tr>\n",
       "    <tr>\n",
       "      <th>7</th>\n",
       "      <td>annual_premium</td>\n",
       "      <td>0.004047</td>\n",
       "      <td>0.001617</td>\n",
       "    </tr>\n",
       "    <tr>\n",
       "      <th>8</th>\n",
       "      <td>policy_sales_channel</td>\n",
       "      <td>0.188179</td>\n",
       "      <td>0.042419</td>\n",
       "    </tr>\n",
       "    <tr>\n",
       "      <th>9</th>\n",
       "      <td>vintage_sin</td>\n",
       "      <td>0.000905</td>\n",
       "      <td>0.001465</td>\n",
       "    </tr>\n",
       "    <tr>\n",
       "      <th>10</th>\n",
       "      <td>vintage_cos</td>\n",
       "      <td>0.000953</td>\n",
       "      <td>0.00184</td>\n",
       "    </tr>\n",
       "    <tr>\n",
       "      <th>11</th>\n",
       "      <td>NaN</td>\n",
       "      <td>0.000032</td>\n",
       "      <td>NaN</td>\n",
       "    </tr>\n",
       "    <tr>\n",
       "      <th>12</th>\n",
       "      <td>NaN</td>\n",
       "      <td>0.0002</td>\n",
       "      <td>NaN</td>\n",
       "    </tr>\n",
       "    <tr>\n",
       "      <th>13</th>\n",
       "      <td>NaN</td>\n",
       "      <td>0.0</td>\n",
       "      <td>NaN</td>\n",
       "    </tr>\n",
       "    <tr>\n",
       "      <th>14</th>\n",
       "      <td>NaN</td>\n",
       "      <td>0.000185</td>\n",
       "      <td>NaN</td>\n",
       "    </tr>\n",
       "    <tr>\n",
       "      <th>15</th>\n",
       "      <td>NaN</td>\n",
       "      <td>0.000019</td>\n",
       "      <td>NaN</td>\n",
       "    </tr>\n",
       "    <tr>\n",
       "      <th>16</th>\n",
       "      <td>NaN</td>\n",
       "      <td>0.000026</td>\n",
       "      <td>NaN</td>\n",
       "    </tr>\n",
       "    <tr>\n",
       "      <th>17</th>\n",
       "      <td>NaN</td>\n",
       "      <td>0.000019</td>\n",
       "      <td>NaN</td>\n",
       "    </tr>\n",
       "    <tr>\n",
       "      <th>18</th>\n",
       "      <td>NaN</td>\n",
       "      <td>0.000216</td>\n",
       "      <td>NaN</td>\n",
       "    </tr>\n",
       "    <tr>\n",
       "      <th>19</th>\n",
       "      <td>NaN</td>\n",
       "      <td>0.000149</td>\n",
       "      <td>NaN</td>\n",
       "    </tr>\n",
       "    <tr>\n",
       "      <th>20</th>\n",
       "      <td>NaN</td>\n",
       "      <td>0.00021</td>\n",
       "      <td>NaN</td>\n",
       "    </tr>\n",
       "    <tr>\n",
       "      <th>21</th>\n",
       "      <td>NaN</td>\n",
       "      <td>0.00022</td>\n",
       "      <td>NaN</td>\n",
       "    </tr>\n",
       "  </tbody>\n",
       "</table>\n",
       "</div>"
      ],
      "text/plain": [
       "                 feature rf_importance xgb_importance\n",
       "0                 gender      0.002003       0.001472\n",
       "1                    age      0.088543       0.032332\n",
       "2        driving_license           0.0       0.009097\n",
       "3            region_code      0.051971       0.029651\n",
       "4     previously_insured      0.300975       0.456031\n",
       "5            vehicle_age      0.037705       0.005772\n",
       "6         vehicle_damage      0.323443       0.418305\n",
       "7         annual_premium      0.004047       0.001617\n",
       "8   policy_sales_channel      0.188179       0.042419\n",
       "9            vintage_sin      0.000905       0.001465\n",
       "10           vintage_cos      0.000953        0.00184\n",
       "11                   NaN      0.000032            NaN\n",
       "12                   NaN        0.0002            NaN\n",
       "13                   NaN           0.0            NaN\n",
       "14                   NaN      0.000185            NaN\n",
       "15                   NaN      0.000019            NaN\n",
       "16                   NaN      0.000026            NaN\n",
       "17                   NaN      0.000019            NaN\n",
       "18                   NaN      0.000216            NaN\n",
       "19                   NaN      0.000149            NaN\n",
       "20                   NaN       0.00021            NaN\n",
       "21                   NaN       0.00022            NaN"
      ]
     },
     "execution_count": 71,
     "metadata": {},
     "output_type": "execute_result"
    }
   ],
   "source": [
    "rf_importances = rf_fit.feature_importances_\n",
    "xgb_importances = xgb_fit.feature_importances_\n",
    "cols = df6.drop(['response', 'id'], axis=1).columns\n",
    "\n",
    "importances = pd.DataFrame([cols, rf_importances, xgb_importances], index=['feature', 'rf_importance', 'xgb_importance']).T\n",
    "importances"
   ]
  },
  {
   "cell_type": "code",
   "execution_count": 72,
   "id": "7650a0a5",
   "metadata": {
    "ExecuteTime": {
     "end_time": "2022-05-16T16:41:40.629181Z",
     "start_time": "2022-05-16T16:41:40.364866Z"
    },
    "hidden": true,
    "hide_input": true,
    "scrolled": false
   },
   "outputs": [
    {
     "data": {
      "image/png": "[encoded data removed]",
      "text/plain": [
       "<Figure size 432x288 with 1 Axes>"
      ]
     },
     "metadata": {
      "needs_background": "light"
     },
     "output_type": "display_data"
    }
   ],
   "source": [
    "sns.barplot(data=importances.sort_values('rf_importance', ascending=False), x='rf_importance', y='feature', color='r', alpha=0.3)\n",
    "sns.despine(left=True, bottom=True)\n",
    "plt.title('Random Forest')\n",
    "plt.xlabel('')\n",
    "plt.ylabel('')\n",
    "plt.xlim(0, 0.8);"
   ]
  },
  {
   "cell_type": "code",
   "execution_count": 73,
   "id": "16d042b1",
   "metadata": {
    "ExecuteTime": {
     "end_time": "2022-05-16T16:41:40.992014Z",
     "start_time": "2022-05-16T16:41:40.632222Z"
    },
    "hidden": true,
    "hide_input": true,
    "scrolled": false
   },
   "outputs": [
    {
     "data": {
      "image/png": "[encoded data removed]",
      "text/plain": [
       "<Figure size 432x288 with 1 Axes>"
      ]
     },
     "metadata": {
      "needs_background": "light"
     },
     "output_type": "display_data"
    }
   ],
   "source": [
    "sns.barplot(data=importances.sort_values('xgb_importance', ascending=False), x='xgb_importance', y='feature', color='r', alpha=0.3)\n",
    "sns.despine(left=True, bottom=True)\n",
    "plt.title('Xgboost')\n",
    "plt.xlabel('')\n",
    "plt.ylabel('')\n",
    "plt.xlim(0, 0.8);"
   ]
  },
  {
   "cell_type": "code",
   "execution_count": 74,
   "id": "bbb58911",
   "metadata": {
    "ExecuteTime": {
     "end_time": "2022-05-16T16:41:41.007956Z",
     "start_time": "2022-05-16T16:41:40.993964Z"
    },
    "hidden": true,
    "scrolled": true
   },
   "outputs": [
    {
     "data": {
      "text/html": [
       "<div>\n",
       "<style scoped>\n",
       "    .dataframe tbody tr th:only-of-type {\n",
       "        vertical-align: middle;\n",
       "    }\n",
       "\n",
       "    .dataframe tbody tr th {\n",
       "        vertical-align: top;\n",
       "    }\n",
       "\n",
       "    .dataframe thead th {\n",
       "        text-align: right;\n",
       "    }\n",
       "</style>\n",
       "<table border=\"1\" class=\"dataframe\">\n",
       "  <thead>\n",
       "    <tr style=\"text-align: right;\">\n",
       "      <th></th>\n",
       "      <th>feature</th>\n",
       "      <th>boruta_ranking</th>\n",
       "      <th>rfe_ranking</th>\n",
       "    </tr>\n",
       "  </thead>\n",
       "  <tbody>\n",
       "    <tr>\n",
       "      <th>4</th>\n",
       "      <td>previously_insured</td>\n",
       "      <td>1</td>\n",
       "      <td>1</td>\n",
       "    </tr>\n",
       "    <tr>\n",
       "      <th>6</th>\n",
       "      <td>vehicle_damage</td>\n",
       "      <td>1</td>\n",
       "      <td>2</td>\n",
       "    </tr>\n",
       "    <tr>\n",
       "      <th>8</th>\n",
       "      <td>policy_sales_channel</td>\n",
       "      <td>1</td>\n",
       "      <td>3</td>\n",
       "    </tr>\n",
       "    <tr>\n",
       "      <th>1</th>\n",
       "      <td>age</td>\n",
       "      <td>1</td>\n",
       "      <td>4</td>\n",
       "    </tr>\n",
       "    <tr>\n",
       "      <th>3</th>\n",
       "      <td>region_code</td>\n",
       "      <td>1</td>\n",
       "      <td>5</td>\n",
       "    </tr>\n",
       "    <tr>\n",
       "      <th>5</th>\n",
       "      <td>vehicle_age</td>\n",
       "      <td>1</td>\n",
       "      <td>6</td>\n",
       "    </tr>\n",
       "    <tr>\n",
       "      <th>7</th>\n",
       "      <td>annual_premium</td>\n",
       "      <td>1</td>\n",
       "      <td>7</td>\n",
       "    </tr>\n",
       "    <tr>\n",
       "      <th>0</th>\n",
       "      <td>gender</td>\n",
       "      <td>1</td>\n",
       "      <td>8</td>\n",
       "    </tr>\n",
       "    <tr>\n",
       "      <th>10</th>\n",
       "      <td>vintage_cos</td>\n",
       "      <td>1</td>\n",
       "      <td>9</td>\n",
       "    </tr>\n",
       "    <tr>\n",
       "      <th>9</th>\n",
       "      <td>vintage_sin</td>\n",
       "      <td>1</td>\n",
       "      <td>10</td>\n",
       "    </tr>\n",
       "    <tr>\n",
       "      <th>2</th>\n",
       "      <td>driving_license</td>\n",
       "      <td>2</td>\n",
       "      <td>11</td>\n",
       "    </tr>\n",
       "  </tbody>\n",
       "</table>\n",
       "</div>"
      ],
      "text/plain": [
       "                 feature boruta_ranking rfe_ranking\n",
       "4     previously_insured              1           1\n",
       "6         vehicle_damage              1           2\n",
       "8   policy_sales_channel              1           3\n",
       "1                    age              1           4\n",
       "3            region_code              1           5\n",
       "5            vehicle_age              1           6\n",
       "7         annual_premium              1           7\n",
       "0                 gender              1           8\n",
       "10           vintage_cos              1           9\n",
       "9            vintage_sin              1          10\n",
       "2        driving_license              2          11"
      ]
     },
     "execution_count": 74,
     "metadata": {},
     "output_type": "execute_result"
    }
   ],
   "source": [
    "pd.DataFrame([cols, boruta_fit.ranking_, rfe_fit.ranking_], index=['feature', 'boruta_ranking', 'rfe_ranking']).T.sort_values('rfe_ranking')"
   ]
  },
  {
   "cell_type": "markdown",
   "id": "589092e3",
   "metadata": {
    "hidden": true
   },
   "source": [
    "Utilizaremos as features: previously_insured, vehicle_damage, policy_sales_channel, age, region_code, vehicle_age e annual_premium"
   ]
  },
  {
   "cell_type": "markdown",
   "id": "874430b5",
   "metadata": {
    "heading_collapsed": true,
    "hidden": true,
    "id": "ijExdiKLiY_J"
   },
   "source": [
    "## 6.5 Droping Features"
   ]
  },
  {
   "cell_type": "code",
   "execution_count": 75,
   "id": "083319cf",
   "metadata": {
    "ExecuteTime": {
     "end_time": "2022-05-16T16:41:41.039800Z",
     "start_time": "2022-05-16T16:41:41.009996Z"
    },
    "hidden": true
   },
   "outputs": [],
   "source": [
    "features_drop = 'driving_license vintage_sin vintage_cos gender'.split()\n",
    "\n",
    "df6.drop(features_drop, axis=1, inplace=True)\n",
    "\n",
    "test.drop(features_drop, axis=1, inplace=True)"
   ]
  },
  {
   "cell_type": "markdown",
   "id": "3cf3d2b7",
   "metadata": {
    "heading_collapsed": true
   },
   "source": [
    "# 7.0 Ml Modeling"
   ]
  },
  {
   "cell_type": "code",
   "execution_count": 76,
   "id": "9a33e1a2",
   "metadata": {
    "ExecuteTime": {
     "end_time": "2022-05-16T16:41:41.069945Z",
     "start_time": "2022-05-16T16:41:41.044007Z"
    },
    "hidden": true
   },
   "outputs": [],
   "source": [
    "df7 = df6.copy()"
   ]
  },
  {
   "cell_type": "markdown",
   "id": "cd4e256a",
   "metadata": {
    "heading_collapsed": true,
    "hidden": true
   },
   "source": [
    "## 7.1 Preprocessing"
   ]
  },
  {
   "cell_type": "code",
   "execution_count": 77,
   "id": "c3722280",
   "metadata": {
    "ExecuteTime": {
     "end_time": "2022-05-16T16:41:47.172741Z",
     "start_time": "2022-05-16T16:41:41.070936Z"
    },
    "hidden": true
   },
   "outputs": [],
   "source": [
    "# TRAIN\n",
    "# spliting X and y\n",
    "X = df7.drop(['response', 'id'], axis=1)\n",
    "X = np.array(X)\n",
    "y = df7['response'].copy()\n",
    "y = np.array(y).reshape(1, len(y))[0]\n",
    "\n",
    "# spliting train and validation\n",
    "X_train, X_val, y_train, y_val = train_test_split(X, y, test_size=0.2, random_state=101)\n",
    "\n",
    "# balancing\n",
    "X_train_smote, y_train_smote = smote.fit_resample(X_train, y_train)\n",
    "X_smote, y_smote = smote.fit_resample(X, y)\n",
    "\n",
    "# TEST\n",
    "X_test = test.drop(['response', 'id'], axis=1)\n",
    "X_test = np.array(X_test)\n",
    "y_test = test['response'].copy()\n",
    "y_test = np.array(y_test).reshape(1, len(y_test))[0]"
   ]
  },
  {
   "cell_type": "markdown",
   "id": "511ccfa2",
   "metadata": {
    "heading_collapsed": true,
    "hidden": true
   },
   "source": [
    "## 7.2 Modeling"
   ]
  },
  {
   "cell_type": "markdown",
   "id": "1080222c",
   "metadata": {
    "heading_collapsed": true,
    "hidden": true
   },
   "source": [
    "### 7.1 Random Forest"
   ]
  },
  {
   "cell_type": "code",
   "execution_count": 78,
   "id": "5a08c73d",
   "metadata": {
    "ExecuteTime": {
     "end_time": "2022-05-16T17:01:06.794979Z",
     "start_time": "2022-05-16T16:41:47.175330Z"
    },
    "hidden": true,
    "scrolled": false
   },
   "outputs": [
    {
     "name": "stdout",
     "output_type": "stream",
     "text": [
      "TRAIN\n",
      "              precision    recall  f1-score   support\n",
      "\n",
      "           0       0.98      0.68      0.81     60207\n",
      "           1       0.29      0.91      0.44      8393\n",
      "\n",
      "    accuracy                           0.71     68600\n",
      "   macro avg       0.63      0.80      0.62     68600\n",
      "weighted avg       0.90      0.71      0.76     68600\n",
      "\n",
      "\n",
      "TEST\n",
      "              precision    recall  f1-score   support\n",
      "\n",
      "           0       0.98      0.68      0.80     33378\n",
      "           1       0.29      0.91      0.44      4731\n",
      "\n",
      "    accuracy                           0.71     38109\n",
      "   macro avg       0.63      0.79      0.62     38109\n",
      "weighted avg       0.89      0.71      0.76     38109\n",
      "\n"
     ]
    }
   ],
   "source": [
    "# VALIDATION\n",
    "# fiting model\n",
    "rf_fit = rf_model.fit(X_train_smote, y_train_smote)\n",
    "\n",
    "# predicting\n",
    "y_hat_rf = rf_fit.predict(X_val)\n",
    "\n",
    "# metrics\n",
    "print('TRAIN')\n",
    "print(classification_report(y_val, y_hat_rf))\n",
    "print('')\n",
    "\n",
    "# TEST\n",
    "# fiting model\n",
    "rf_fit = rf_model.fit(X_smote, y_smote)\n",
    "\n",
    "# predicting\n",
    "y_hat_rf = rf_fit.predict(X_test)\n",
    "\n",
    "# metrics\n",
    "print('TEST')\n",
    "print(classification_report(y_test, y_hat_rf))\n",
    "\n",
    "# predict proba\n",
    "proba_rf = rf_fit.predict_proba(X_test)"
   ]
  },
  {
   "cell_type": "markdown",
   "id": "7cb9e68a",
   "metadata": {
    "hidden": true
   },
   "source": [
    "Sem overfiting"
   ]
  },
  {
   "cell_type": "markdown",
   "id": "1b585dff",
   "metadata": {
    "heading_collapsed": true,
    "hidden": true
   },
   "source": [
    "### 7.2 XGboost"
   ]
  },
  {
   "cell_type": "code",
   "execution_count": 79,
   "id": "e181efe1",
   "metadata": {
    "ExecuteTime": {
     "end_time": "2022-05-16T17:01:53.305020Z",
     "start_time": "2022-05-16T17:01:06.796796Z"
    },
    "hidden": true,
    "scrolled": false
   },
   "outputs": [
    {
     "name": "stdout",
     "output_type": "stream",
     "text": [
      "TRAIN\n",
      "              precision    recall  f1-score   support\n",
      "\n",
      "           0       0.92      0.88      0.90     60207\n",
      "           1       0.35      0.47      0.40      8393\n",
      "\n",
      "    accuracy                           0.83     68600\n",
      "   macro avg       0.64      0.67      0.65     68600\n",
      "weighted avg       0.85      0.83      0.84     68600\n",
      "\n",
      "\n",
      "TEST\n",
      "              precision    recall  f1-score   support\n",
      "\n",
      "           0       0.92      0.87      0.89     33378\n",
      "           1       0.34      0.49      0.41      4731\n",
      "\n",
      "    accuracy                           0.82     38109\n",
      "   macro avg       0.63      0.68      0.65     38109\n",
      "weighted avg       0.85      0.82      0.83     38109\n",
      "\n"
     ]
    }
   ],
   "source": [
    "# VALIDATION\n",
    "# fiting model\n",
    "xgb_fit = xgb_model.fit(X_train_smote, y_train_smote)\n",
    "\n",
    "# predicting\n",
    "y_hat = xgb_fit.predict(X_val)\n",
    "\n",
    "# metrics\n",
    "print('TRAIN')\n",
    "print(classification_report(y_val, y_hat))\n",
    "print('')\n",
    "\n",
    "# TEST\n",
    "# fiting model\n",
    "xgb_fit = xgb_model.fit(X_smote, y_smote)\n",
    "\n",
    "# predicting\n",
    "y_hat = xgb_fit.predict(X_test)\n",
    "\n",
    "# metrics\n",
    "print('TEST')\n",
    "print(classification_report(y_test, y_hat))\n",
    "\n",
    "# predict proba\n",
    "proba_xgb = xgb_fit.predict_proba(X_test)"
   ]
  },
  {
   "cell_type": "markdown",
   "id": "a656461a",
   "metadata": {
    "hidden": true
   },
   "source": [
    "Sem overfiting"
   ]
  },
  {
   "cell_type": "markdown",
   "id": "0fb7fcbe",
   "metadata": {
    "heading_collapsed": true,
    "hidden": true
   },
   "source": [
    "### 7.3 Logistic Regression"
   ]
  },
  {
   "cell_type": "code",
   "execution_count": 80,
   "id": "faa8ecd6",
   "metadata": {
    "ExecuteTime": {
     "end_time": "2022-05-16T17:01:59.388786Z",
     "start_time": "2022-05-16T17:01:53.308020Z"
    },
    "hidden": true,
    "scrolled": false
   },
   "outputs": [
    {
     "name": "stdout",
     "output_type": "stream",
     "text": [
      "TRAIN\n",
      "              precision    recall  f1-score   support\n",
      "\n",
      "           0       0.98      0.66      0.79     60207\n",
      "           1       0.27      0.92      0.42      8393\n",
      "\n",
      "    accuracy                           0.69     68600\n",
      "   macro avg       0.63      0.79      0.61     68600\n",
      "weighted avg       0.90      0.69      0.75     68600\n",
      "\n",
      "\n",
      "TEST\n",
      "              precision    recall  f1-score   support\n",
      "\n",
      "           0       0.98      0.65      0.78     33378\n",
      "           1       0.27      0.93      0.42      4731\n",
      "\n",
      "    accuracy                           0.69     38109\n",
      "   macro avg       0.63      0.79      0.60     38109\n",
      "weighted avg       0.90      0.69      0.74     38109\n",
      "\n"
     ]
    }
   ],
   "source": [
    "# model definition\n",
    "lr_model = LogisticRegression()\n",
    "\n",
    "# VALIDATION\n",
    "# fiting model\n",
    "lr_fit = lr_model.fit(X_train_smote, y_train_smote)\n",
    "\n",
    "# predicting\n",
    "y_hat = lr_fit.predict(X_val)\n",
    "\n",
    "# metrics\n",
    "print('TRAIN')\n",
    "print(classification_report(y_val, y_hat))\n",
    "print('')\n",
    "\n",
    "# TEST\n",
    "# fiting model\n",
    "lr_fit = lr_model.fit(X_smote, y_smote)\n",
    "\n",
    "# predicting\n",
    "y_hat = lr_fit.predict(X_test)\n",
    "\n",
    "# metrics\n",
    "print('TEST')\n",
    "print(classification_report(y_test, y_hat))\n",
    "\n",
    "# predict proba\n",
    "proba_lr = lr_fit.predict_proba(X_test)"
   ]
  },
  {
   "cell_type": "markdown",
   "id": "7e6a34d6",
   "metadata": {
    "hidden": true
   },
   "source": [
    "Sem overfiting"
   ]
  },
  {
   "cell_type": "markdown",
   "id": "14164739",
   "metadata": {
    "heading_collapsed": true
   },
   "source": [
    "# 8.0 Model Performance"
   ]
  },
  {
   "cell_type": "code",
   "execution_count": 81,
   "id": "0f2fb825",
   "metadata": {
    "ExecuteTime": {
     "end_time": "2022-05-16T17:01:59.420394Z",
     "start_time": "2022-05-16T17:01:59.392815Z"
    },
    "hidden": true
   },
   "outputs": [],
   "source": [
    "def gain_curve_ktop_precision(df, target_variable, ktop=2000, new_clients=127000):\n",
    "    proportional = df.shape[0] / new_clients\n",
    "    ktop_proportional = ktop * proportional\n",
    "    df.sort_values('propencity', ascending=False, inplace=True)\n",
    "    df.reset_index(drop=True, inplace=True)\n",
    "    df['ranking'] = df.index + 1\n",
    "    df[f'cum_{target_variable}'] = np.cumsum(df[target_variable])\n",
    "    df[f'percent_cum_{target_variable}'] = df[f'cum_{target_variable}'] / df['ranking']\n",
    "    print(f\"Precision at {ktop}ktop: {round(float(df.loc[df['ranking']>=ktop_proportional, f'percent_cum_{target_variable}'].head(1).values)*100, 2)}%\")\n",
    "\n",
    "def gain_curve_ktop_recall(df, target_variable, ktop=2000, new_clients=127000):\n",
    "    proportional = df.shape[0] / new_clients\n",
    "    ktop_proportional = ktop * proportional\n",
    "    df.sort_values('propencity', ascending=False, inplace=True)\n",
    "    df.reset_index(drop=True, inplace=True)\n",
    "    df['ranking'] = df.index + 1\n",
    "    df[f'cum_{target_variable}'] = np.cumsum(df[target_variable])\n",
    "    df[f'percent_cum_{target_variable}'] = df[f'cum_{target_variable}'] / df[target_variable].sum()\n",
    "    print(f\"Recall at {ktop}ktop: {round(float(df.loc[df['ranking']>=ktop_proportional, f'percent_cum_{target_variable}'].head(1).values)*100, 2)}%\")\n",
    "    \n",
    "def gain_curve_recall_recall(df, target_variable, recall=0.8, new_clients=127000):\n",
    "    proportional = df.shape[0] / new_clients\n",
    "    df.sort_values('propencity', ascending=False, inplace=True)\n",
    "    df.reset_index(drop=True, inplace=True)\n",
    "    df['ranking'] = df.index + 1\n",
    "    df[f'cum_{target_variable}'] = np.cumsum(df[target_variable])\n",
    "    df[f'percent_cum_{target_variable}'] = df[f'cum_{target_variable}'] / df[target_variable].sum()\n",
    "    print(f\"To achieve {round(recall*100, 2)}% of recall: {int(df.loc[df[f'percent_cum_{target_variable}']>=recall, 'ranking'].head(1).values/proportional)} will be needed\")"
   ]
  },
  {
   "cell_type": "code",
   "execution_count": 82,
   "id": "395fe114",
   "metadata": {
    "ExecuteTime": {
     "end_time": "2022-05-16T17:01:59.451251Z",
     "start_time": "2022-05-16T17:01:59.433152Z"
    },
    "hidden": true
   },
   "outputs": [],
   "source": [
    "df8 = test.copy()\n",
    "\n",
    "df8 = df8[['id', 'response']]"
   ]
  },
  {
   "cell_type": "markdown",
   "id": "c4a2a87f",
   "metadata": {
    "heading_collapsed": true,
    "hidden": true
   },
   "source": [
    "### 8.1 Random Forest"
   ]
  },
  {
   "cell_type": "code",
   "execution_count": 83,
   "id": "ee3b1c4f",
   "metadata": {
    "ExecuteTime": {
     "end_time": "2022-05-16T17:01:59.686146Z",
     "start_time": "2022-05-16T17:01:59.454192Z"
    },
    "hidden": true,
    "scrolled": true
   },
   "outputs": [
    {
     "data": {
      "image/png": "[encoded data removed]",
      "text/plain": [
       "<Figure size 432x288 with 1 Axes>"
      ]
     },
     "metadata": {
      "needs_background": "light"
     },
     "output_type": "display_data"
    }
   ],
   "source": [
    "# ploting cumulative gain curve\n",
    "skplt.metrics.plot_cumulative_gain(y_test, proba_rf);"
   ]
  },
  {
   "cell_type": "code",
   "execution_count": 84,
   "id": "01169048",
   "metadata": {
    "ExecuteTime": {
     "end_time": "2022-05-16T17:01:59.717224Z",
     "start_time": "2022-05-16T17:01:59.689043Z"
    },
    "hidden": true
   },
   "outputs": [
    {
     "name": "stdout",
     "output_type": "stream",
     "text": [
      "Precision at 20000ktop: 36.47%\n",
      "Recall at 20000ktop: 46.27%\n",
      "To achieve 80.0% of recall: 39630 will be needed\n"
     ]
    }
   ],
   "source": [
    "df = df8.copy()\n",
    "df['propencity'] = proba_rf[:,1]\n",
    "\n",
    "gain_curve_ktop_precision(df, target_variable='response', ktop=20000, new_clients=127000)\n",
    "gain_curve_ktop_recall(df, target_variable='response', ktop=20000, new_clients=127000)\n",
    "gain_curve_recall_recall(df, target_variable='response', recall=0.8, new_clients=127000)"
   ]
  },
  {
   "cell_type": "markdown",
   "id": "38bf99a5",
   "metadata": {
    "heading_collapsed": true,
    "hidden": true
   },
   "source": [
    "### 8.2 XGboost"
   ]
  },
  {
   "cell_type": "code",
   "execution_count": 85,
   "id": "0c17537b",
   "metadata": {
    "ExecuteTime": {
     "end_time": "2022-05-16T17:01:59.965297Z",
     "start_time": "2022-05-16T17:01:59.718206Z"
    },
    "hidden": true,
    "scrolled": true
   },
   "outputs": [
    {
     "data": {
      "image/png": "[encoded data removed]",
      "text/plain": [
       "<Figure size 432x288 with 1 Axes>"
      ]
     },
     "metadata": {
      "needs_background": "light"
     },
     "output_type": "display_data"
    }
   ],
   "source": [
    "# ploting cumulative gain curve\n",
    "skplt.metrics.plot_cumulative_gain(y_test, proba_xgb);"
   ]
  },
  {
   "cell_type": "code",
   "execution_count": 86,
   "id": "c68e0165",
   "metadata": {
    "ExecuteTime": {
     "end_time": "2022-05-16T17:02:00.012553Z",
     "start_time": "2022-05-16T17:01:59.968314Z"
    },
    "hidden": true
   },
   "outputs": [
    {
     "name": "stdout",
     "output_type": "stream",
     "text": [
      "Precision at 20000ktop: 34.82%\n",
      "Recall at 20000ktop: 44.18%\n",
      "To achieve 80.0% of recall: 40210 will be needed\n"
     ]
    }
   ],
   "source": [
    "df = df8.copy()\n",
    "df['propencity'] = proba_xgb[:,1]\n",
    "\n",
    "gain_curve_ktop_precision(df, target_variable='response', ktop=20000, new_clients=127000)\n",
    "gain_curve_ktop_recall(df, target_variable='response', ktop=20000, new_clients=127000)\n",
    "gain_curve_recall_recall(df, target_variable='response', recall=0.8, new_clients=127000)"
   ]
  },
  {
   "cell_type": "markdown",
   "id": "e6cc3a3d",
   "metadata": {
    "heading_collapsed": true,
    "hidden": true
   },
   "source": [
    "### 8.3 Logistic Regression"
   ]
  },
  {
   "cell_type": "code",
   "execution_count": 87,
   "id": "5a2ff41b",
   "metadata": {
    "ExecuteTime": {
     "end_time": "2022-05-16T17:02:00.263829Z",
     "start_time": "2022-05-16T17:02:00.016558Z"
    },
    "hidden": true,
    "scrolled": true
   },
   "outputs": [
    {
     "data": {
      "image/png": "[encoded data removed]",
      "text/plain": [
       "<Figure size 432x288 with 1 Axes>"
      ]
     },
     "metadata": {
      "needs_background": "light"
     },
     "output_type": "display_data"
    }
   ],
   "source": [
    "# ploting cumulative gain curve\n",
    "skplt.metrics.plot_cumulative_gain(y_test, proba_lr);"
   ]
  },
  {
   "cell_type": "code",
   "execution_count": 88,
   "id": "164c8b4d",
   "metadata": {
    "ExecuteTime": {
     "end_time": "2022-05-16T17:02:00.311098Z",
     "start_time": "2022-05-16T17:02:00.267767Z"
    },
    "hidden": true
   },
   "outputs": [
    {
     "name": "stdout",
     "output_type": "stream",
     "text": [
      "Precision at 20000ktop: 34.26%\n",
      "Recall at 20000ktop: 43.46%\n",
      "To achieve 80.0% of recall: 39953 will be needed\n"
     ]
    }
   ],
   "source": [
    "df = df8.copy()\n",
    "df['propencity'] = proba_lr[:,1]\n",
    "\n",
    "gain_curve_ktop_precision(df, target_variable='response', ktop=20000, new_clients=127000)\n",
    "gain_curve_ktop_recall(df, target_variable='response', ktop=20000, new_clients=127000)\n",
    "gain_curve_recall_recall(df, target_variable='response', recall=0.8, new_clients=127000)"
   ]
  },
  {
   "cell_type": "markdown",
   "id": "3cc5f931",
   "metadata": {
    "heading_collapsed": true
   },
   "source": [
    "# 9.0 Results and Conclusions"
   ]
  },
  {
   "cell_type": "code",
   "execution_count": 89,
   "id": "26f82143",
   "metadata": {
    "ExecuteTime": {
     "end_time": "2022-05-16T17:02:00.326147Z",
     "start_time": "2022-05-16T17:02:00.312097Z"
    },
    "hidden": true
   },
   "outputs": [],
   "source": [
    "df = df8.copy()\n",
    "df['propencity'] = proba_rf[:,1]"
   ]
  },
  {
   "cell_type": "markdown",
   "id": "cbdac7ae",
   "metadata": {
    "heading_collapsed": true,
    "hidden": true
   },
   "source": [
    "### 9.1 Principais Insights sobre os atributos mais relevantes de clientes interessados em adquirir um seguro de automóvel."
   ]
  },
  {
   "cell_type": "markdown",
   "id": "dfbbdc44",
   "metadata": {
    "heading_collapsed": true,
    "hidden": true
   },
   "source": [
    "###### Vehicle Damage e Previously Insured são os atributos mais importante da base: \n",
    "Clientes que já possuem seguro de automóvel dificilmente fecharão um contrato. Clientes que já sofreram danos e acionaram o sinistro no passado são mais propensos a fechar um contrato.\n",
    "\n",
    "###### Region Code é importante: \n",
    "A região 28 contém 28% da base e tem uma média de Response de 18% de negócios fechados, bem acima da média geral.\n",
    "\n",
    "###### Sales Channel é importante:\n",
    "Os canais mais utilizados apresentam médias de response bastante diferentes da média global, os canal 152 é o mais utilizado e apresenta 2% de interesse no produto, o canal 155 apresenta 2%, já os canais 26, 124 e 156 apresentam por volta de 20% de interesse no produto\n",
    "\n",
    "###### Age:\n",
    "A média de idade entre os que não se interessam pelo produto é de 38 anos, e dos que se interessam é de 43 anos."
   ]
  },
  {
   "cell_type": "markdown",
   "id": "68dcc1cb",
   "metadata": {
    "heading_collapsed": true,
    "hidden": true
   },
   "source": [
    "### 9.2 Qual a porcentagem de clientes interessados em adquirir um seguro de automóvel, o time de vendas conseguirá contatar fazendo 20.000 ligações?"
   ]
  },
  {
   "cell_type": "code",
   "execution_count": 90,
   "id": "c65c1266",
   "metadata": {
    "ExecuteTime": {
     "end_time": "2022-05-16T17:02:00.357667Z",
     "start_time": "2022-05-16T17:02:00.329100Z"
    },
    "hidden": true,
    "hide_input": false
   },
   "outputs": [
    {
     "name": "stdout",
     "output_type": "stream",
     "text": [
      "Recall at 20000ktop: 46.27%\n"
     ]
    }
   ],
   "source": [
    "gain_curve_ktop_recall(df, target_variable='response', ktop=20000, new_clients=127000)"
   ]
  },
  {
   "cell_type": "markdown",
   "id": "72f856be",
   "metadata": {
    "heading_collapsed": true,
    "hidden": true
   },
   "source": [
    "### 9.3 E se a capacidade do time de vendas aumentar para 40.000 ligações, qual a porcentagem de clientes interessados em adquirir um seguro de automóvel o time de vendas conseguirá contatar?"
   ]
  },
  {
   "cell_type": "code",
   "execution_count": 91,
   "id": "625d2f60",
   "metadata": {
    "ExecuteTime": {
     "end_time": "2022-05-16T17:02:00.389333Z",
     "start_time": "2022-05-16T17:02:00.359564Z"
    },
    "hidden": true
   },
   "outputs": [
    {
     "name": "stdout",
     "output_type": "stream",
     "text": [
      "Recall at 40000ktop: 80.51%\n"
     ]
    }
   ],
   "source": [
    "gain_curve_ktop_recall(df, target_variable='response', ktop=40000, new_clients=127000)"
   ]
  },
  {
   "cell_type": "markdown",
   "id": "e943f8c2",
   "metadata": {
    "heading_collapsed": true,
    "hidden": true
   },
   "source": [
    "### 9.4 Quantas ligações o time de vendas precisa fazer para contatar 80% dos clientes interessados em adquirir um seguro de automóvel?"
   ]
  },
  {
   "cell_type": "code",
   "execution_count": 92,
   "id": "4263fb9f",
   "metadata": {
    "ExecuteTime": {
     "end_time": "2022-05-16T17:02:00.420520Z",
     "start_time": "2022-05-16T17:02:00.391387Z"
    },
    "hidden": true,
    "scrolled": true
   },
   "outputs": [
    {
     "name": "stdout",
     "output_type": "stream",
     "text": [
      "To achieve 80.0% of recall: 39630 will be needed\n"
     ]
    }
   ],
   "source": [
    "gain_curve_recall_recall(df, target_variable='response', recall=0.8, new_clients=127000)"
   ]
  },
  {
   "cell_type": "markdown",
   "id": "5f47735b",
   "metadata": {
    "heading_collapsed": true
   },
   "source": [
    "# 11.0 Business Results"
   ]
  },
  {
   "cell_type": "markdown",
   "id": "87f32cab",
   "metadata": {
    "heading_collapsed": true,
    "hidden": true
   },
   "source": [
    "###### 11.1 Baseline Model"
   ]
  },
  {
   "cell_type": "code",
   "execution_count": 93,
   "id": "b9196672",
   "metadata": {
    "ExecuteTime": {
     "end_time": "2022-05-16T17:02:00.435546Z",
     "start_time": "2022-05-16T17:02:00.422523Z"
    },
    "hidden": true,
    "hide_input": false
   },
   "outputs": [
    {
     "name": "stdout",
     "output_type": "stream",
     "text": [
      "Com um modelo de ligações aleatórias o time de negócios venderia 2447 contratos com 20.000 ligações.\n"
     ]
    }
   ],
   "source": [
    "baseline_model_20000_calls = int(20000 * df1[\"response\"].mean())\n",
    "print(f'Com um modelo de ligações aleatórias o time de negócios venderia {baseline_model_20000_calls} contratos com 20.000 ligações.')"
   ]
  },
  {
   "cell_type": "code",
   "execution_count": 94,
   "id": "9ace5e43",
   "metadata": {
    "ExecuteTime": {
     "end_time": "2022-05-16T17:02:00.451252Z",
     "start_time": "2022-05-16T17:02:00.439250Z"
    },
    "hidden": true,
    "hide_input": true
   },
   "outputs": [
    {
     "name": "stdout",
     "output_type": "stream",
     "text": [
      "Utilizando o modelo do projeto, o time de negócios venderá 4693 contratos com 20.000 ligações.\n"
     ]
    }
   ],
   "source": [
    "project_model_20000_calls = int(df.loc[df['ranking']==20000, 'cum_response'].values)\n",
    "print(f\"Utilizando o modelo do projeto, o time de negócios venderá {project_model_20000_calls} contratos com 20.000 ligações.\")"
   ]
  },
  {
   "cell_type": "code",
   "execution_count": 95,
   "id": "c8997c7a",
   "metadata": {
    "ExecuteTime": {
     "end_time": "2022-05-16T17:02:00.467215Z",
     "start_time": "2022-05-16T17:02:00.453474Z"
    },
    "hidden": true,
    "hide_input": false
   },
   "outputs": [
    {
     "name": "stdout",
     "output_type": "stream",
     "text": [
      "O projeto contribuiu com um lift de: 2246 contratos vendidos.\n"
     ]
    }
   ],
   "source": [
    "lift = project_model_20000_calls - baseline_model_20000_calls\n",
    "print(f'O projeto contribuiu com um lift de: {lift} contratos vendidos.')"
   ]
  },
  {
   "cell_type": "code",
   "execution_count": 96,
   "id": "3775de86",
   "metadata": {
    "ExecuteTime": {
     "end_time": "2022-05-16T17:02:00.482184Z",
     "start_time": "2022-05-16T17:02:00.469265Z"
    },
    "hidden": true
   },
   "outputs": [
    {
     "name": "stdout",
     "output_type": "stream",
     "text": [
      "Caso a empresa utilizasse um modelo aleatório de listagem de clientes, efetuando 20.000 ligações, a empresa teria vendido um total de 2447 contratos. Utilizando o modelo do projeto, com um ranqueamento de clientes por propensão de compra, do mais propenso para o menos propenso, com a mesma quantidade de ligações, a empresa fará uma venda total de 4693 contratos, tendo um lift total de 2246 vendas. Com uma margem operacional de $200.00 anual por contrato fechado, o projeto contribuiu com um total de: $449200.00 dolares para a empresa.\n"
     ]
    }
   ],
   "source": [
    "operatin_margin = 200\n",
    "business_lift = lift * operatin_margin\n",
    "print(f'Caso a empresa utilizasse um modelo aleatório de listagem de clientes, efetuando 20.000 ligações, a empresa teria vendido um total de {baseline_model_20000_calls} contratos. Utilizando o modelo do projeto, com um ranqueamento de clientes por propensão de compra, do mais propenso para o menos propenso, com a mesma quantidade de ligações, a empresa fará uma venda total de {project_model_20000_calls} contratos, tendo um lift total de {lift} vendas. Com uma margem operacional de ${operatin_margin:.2f} anual por contrato fechado, o projeto contribuiu com um total de: ${business_lift:.2f} dolares para a empresa.')"
   ]
  },
  {
   "cell_type": "markdown",
   "id": "ab735412",
   "metadata": {
    "heading_collapsed": true
   },
   "source": [
    "# 10.0 Exporting data"
   ]
  },
  {
   "cell_type": "code",
   "execution_count": 97,
   "id": "b397aecb",
   "metadata": {
    "ExecuteTime": {
     "end_time": "2022-05-16T17:02:00.497537Z",
     "start_time": "2022-05-16T17:02:00.484194Z"
    },
    "hidden": true
   },
   "outputs": [],
   "source": [
    "# annual_premium\n",
    "pickle.dump(ss_annual_premium, open('D:\\\\My Drive\\\\Pessoal\\\\Projetos\\\\insurance_sales_predict\\\\insurance_sales_predict\\\\src\\\\features\\\\ss_annual_premium.pkl', 'wb'))\n",
    "\n",
    "# age\n",
    "pickle.dump(mm_age, open('D:\\\\My Drive\\\\Pessoal\\\\Projetos\\\\insurance_sales_predict\\\\insurance_sales_predict\\\\src\\\\features\\\\mm_age.pkl', 'wb'))\n",
    "\n",
    "# vehicle_age\n",
    "pickle.dump(map_vehicle_age, open('D:\\\\My Drive\\\\Pessoal\\\\Projetos\\\\insurance_sales_predict\\\\insurance_sales_predict\\\\src\\\\features\\\\map_vehicle_age', 'wb'))\n",
    "\n",
    "# gender\n",
    "pickle.dump(map_gender, open('D:\\\\My Drive\\\\Pessoal\\\\Projetos\\\\insurance_sales_predict\\\\insurance_sales_predict\\\\src\\\\features\\\\map_gender', 'wb'))\n",
    "\n",
    "# vehicle_damage\n",
    "pickle.dump(map_vehicle_damage, open('D:\\\\My Drive\\\\Pessoal\\\\Projetos\\\\insurance_sales_predict\\\\insurance_sales_predict\\\\src\\\\features\\\\map_vehicle_damage', 'wb'))\n",
    "\n",
    "# region_code\n",
    "pickle.dump(map_region_code, open('D:\\\\My Drive\\\\Pessoal\\\\Projetos\\\\insurance_sales_predict\\\\insurance_sales_predict\\\\src\\\\features\\\\map_region_code', 'wb'))\n",
    "\n",
    "# policy_sales_channel\n",
    "pickle.dump(map_policy_sales_channel, open('D:\\\\My Drive\\\\Pessoal\\\\Projetos\\\\insurance_sales_predict\\\\insurance_sales_predict\\\\src\\\\features\\\\map_policy_sales_channel', 'wb'))\n",
    "\n",
    "# features_remover\n",
    "pickle.dump(features_drop, open('D:\\\\My Drive\\\\Pessoal\\\\Projetos\\\\insurance_sales_predict\\\\insurance_sales_predict\\\\src\\\\features\\\\features_drop', 'wb'))"
   ]
  },
  {
   "cell_type": "markdown",
   "id": "fb9a5ad7",
   "metadata": {},
   "source": [
    "# Time"
   ]
  },
  {
   "cell_type": "code",
   "execution_count": 98,
   "id": "300c6a83",
   "metadata": {
    "ExecuteTime": {
     "end_time": "2022-05-16T17:02:00.512978Z",
     "start_time": "2022-05-16T17:02:00.500539Z"
    },
    "scrolled": true
   },
   "outputs": [
    {
     "name": "stdout",
     "output_type": "stream",
     "text": [
      "O tempo de processamento do projeto foi de: 146 minutos\n"
     ]
    }
   ],
   "source": [
    "print(f'O tempo de processamento do projeto foi de: {int(round(time.time()-time_agora, 2)/60)} minutos')"
   ]
  }
 ],
 "metadata": {
  "kernelspec": {
   "display_name": "Python 3 (ipykernel)",
   "language": "python",
   "name": "python3"
  },
  "language_info": {
   "codemirror_mode": {
    "name": "ipython",
    "version": 3
   },
   "file_extension": ".py",
   "mimetype": "text/x-python",
   "name": "python",
   "nbconvert_exporter": "python",
   "pygments_lexer": "ipython3",
   "version": "3.9.7"
  }
 },
 "nbformat": 4,
 "nbformat_minor": 5
}
