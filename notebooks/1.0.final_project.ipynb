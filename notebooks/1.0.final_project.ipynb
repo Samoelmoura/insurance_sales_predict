{
 "cells": [
  {
   "cell_type": "markdown",
   "id": "bab69ead",
   "metadata": {
    "heading_collapsed": true
   },
   "source": [
    "# 0.0 Imports"
   ]
  },
  {
   "cell_type": "code",
   "execution_count": 1,
   "id": "17351970",
   "metadata": {
    "ExecuteTime": {
     "end_time": "2022-05-10T13:22:31.765374Z",
     "start_time": "2022-05-10T13:22:29.560958Z"
    },
    "hidden": true,
    "scrolled": true
   },
   "outputs": [],
   "source": [
    "import pandas as pd\n",
    "import numpy as np\n",
    "import matplotlib.pyplot as plt\n",
    "import seaborn as sns\n",
    "\n",
    "from sklearn.preprocessing import StandardScaler, MinMaxScaler\n",
    "from sklearn.tree import DecisionTreeClassifier\n",
    "from sklearn.model_selection import train_test_split\n",
    "from sklearn.ensemble import RandomForestClassifier\n",
    "from sklearn.metrics import classification_report\n",
    "from sklearn.feature_selection import RFE\n",
    "from sklearn.linear_model import LogisticRegression\n",
    "\n",
    "import scikitplot as skplt\n",
    "from scipy.stats import chi2_contingency\n",
    "\n",
    "from boruta import BorutaPy\n",
    "\n",
    "from tabulate import tabulate\n",
    "\n",
    "from xgboost import XGBClassifier\n",
    "\n",
    "from imblearn.over_sampling import SMOTE\n",
    "\n",
    "from IPython.display import Image\n",
    "\n",
    "import pickle\n",
    "\n",
    "import time\n",
    "\n",
    "# Tempo de processamento\n",
    "time_agora = time.time()"
   ]
  },
  {
   "cell_type": "markdown",
   "id": "e61922aa",
   "metadata": {
    "heading_collapsed": true,
    "hidden": true
   },
   "source": [
    "###### 0.1 Helper Functions"
   ]
  },
  {
   "cell_type": "code",
   "execution_count": 2,
   "id": "bda67886",
   "metadata": {
    "ExecuteTime": {
     "end_time": "2022-05-10T13:22:31.780765Z",
     "start_time": "2022-05-10T13:22:31.767778Z"
    },
    "hidden": true
   },
   "outputs": [],
   "source": [
    "# Função buscar outlier pelo método do 6 Sigma\n",
    "def buscar_outlier(df, series):\n",
    "    média = df[series].mean()\n",
    "    desvio_padrão = df[series].std()\n",
    "    lis = média - (desvio_padrão * 3)\n",
    "    lss = média + (desvio_padrão * 3)\n",
    "    lista_outliers = df[(df[series] < lis) | (df[series] > lss)].index\n",
    "    return lista_outliers, lis, lss\n",
    "\n",
    "def cramer_v(x, y):\n",
    "    cm = pd.crosstab(x, y).values\n",
    "    n = cm.sum()\n",
    "    r, k = cm.shape\n",
    "    chi2 = chi2_contingency(cm)[0]\n",
    "    chi2corr = max(0, chi2-(k-1)*(r-1)/(n-1))\n",
    "    kcorr = k-(k-1)**2/(n-1)\n",
    "    rcorr = r-(r-1)**2/(n-1)\n",
    "    return np.sqrt((chi2corr/n)/( min(kcorr-1, rcorr-1)))"
   ]
  },
  {
   "cell_type": "markdown",
   "id": "ce2d526c",
   "metadata": {
    "heading_collapsed": true,
    "hidden": true
   },
   "source": [
    "###### 0.3 Loading Dataset"
   ]
  },
  {
   "cell_type": "code",
   "execution_count": 3,
   "id": "6109b44a",
   "metadata": {
    "ExecuteTime": {
     "end_time": "2022-05-10T13:22:32.179079Z",
     "start_time": "2022-05-10T13:22:31.783198Z"
    },
    "hidden": true,
    "id": "A_vrsVlknJ2z"
   },
   "outputs": [
    {
     "data": {
      "text/html": [
       "<div>\n",
       "<style scoped>\n",
       "    .dataframe tbody tr th:only-of-type {\n",
       "        vertical-align: middle;\n",
       "    }\n",
       "\n",
       "    .dataframe tbody tr th {\n",
       "        vertical-align: top;\n",
       "    }\n",
       "\n",
       "    .dataframe thead th {\n",
       "        text-align: right;\n",
       "    }\n",
       "</style>\n",
       "<table border=\"1\" class=\"dataframe\">\n",
       "  <thead>\n",
       "    <tr style=\"text-align: right;\">\n",
       "      <th></th>\n",
       "      <th>id</th>\n",
       "      <th>Gender</th>\n",
       "      <th>Age</th>\n",
       "      <th>Driving_License</th>\n",
       "      <th>Region_Code</th>\n",
       "      <th>Previously_Insured</th>\n",
       "      <th>Vehicle_Age</th>\n",
       "      <th>Vehicle_Damage</th>\n",
       "      <th>Annual_Premium</th>\n",
       "      <th>Policy_Sales_Channel</th>\n",
       "      <th>Vintage</th>\n",
       "      <th>Response</th>\n",
       "    </tr>\n",
       "  </thead>\n",
       "  <tbody>\n",
       "    <tr>\n",
       "      <th>0</th>\n",
       "      <td>1</td>\n",
       "      <td>Male</td>\n",
       "      <td>44</td>\n",
       "      <td>1</td>\n",
       "      <td>28.0</td>\n",
       "      <td>0</td>\n",
       "      <td>&gt; 2 Years</td>\n",
       "      <td>Yes</td>\n",
       "      <td>40454.0</td>\n",
       "      <td>26.0</td>\n",
       "      <td>217</td>\n",
       "      <td>1</td>\n",
       "    </tr>\n",
       "    <tr>\n",
       "      <th>2</th>\n",
       "      <td>3</td>\n",
       "      <td>Male</td>\n",
       "      <td>47</td>\n",
       "      <td>1</td>\n",
       "      <td>28.0</td>\n",
       "      <td>0</td>\n",
       "      <td>&gt; 2 Years</td>\n",
       "      <td>Yes</td>\n",
       "      <td>38294.0</td>\n",
       "      <td>26.0</td>\n",
       "      <td>27</td>\n",
       "      <td>1</td>\n",
       "    </tr>\n",
       "    <tr>\n",
       "      <th>3</th>\n",
       "      <td>4</td>\n",
       "      <td>Male</td>\n",
       "      <td>21</td>\n",
       "      <td>1</td>\n",
       "      <td>11.0</td>\n",
       "      <td>1</td>\n",
       "      <td>&lt; 1 Year</td>\n",
       "      <td>No</td>\n",
       "      <td>28619.0</td>\n",
       "      <td>152.0</td>\n",
       "      <td>203</td>\n",
       "      <td>0</td>\n",
       "    </tr>\n",
       "    <tr>\n",
       "      <th>4</th>\n",
       "      <td>5</td>\n",
       "      <td>Female</td>\n",
       "      <td>29</td>\n",
       "      <td>1</td>\n",
       "      <td>41.0</td>\n",
       "      <td>1</td>\n",
       "      <td>&lt; 1 Year</td>\n",
       "      <td>No</td>\n",
       "      <td>27496.0</td>\n",
       "      <td>152.0</td>\n",
       "      <td>39</td>\n",
       "      <td>0</td>\n",
       "    </tr>\n",
       "    <tr>\n",
       "      <th>5</th>\n",
       "      <td>6</td>\n",
       "      <td>Female</td>\n",
       "      <td>24</td>\n",
       "      <td>1</td>\n",
       "      <td>33.0</td>\n",
       "      <td>0</td>\n",
       "      <td>&lt; 1 Year</td>\n",
       "      <td>Yes</td>\n",
       "      <td>2630.0</td>\n",
       "      <td>160.0</td>\n",
       "      <td>176</td>\n",
       "      <td>0</td>\n",
       "    </tr>\n",
       "  </tbody>\n",
       "</table>\n",
       "</div>"
      ],
      "text/plain": [
       "   id  Gender  Age  Driving_License  Region_Code  Previously_Insured  \\\n",
       "0   1    Male   44                1         28.0                   0   \n",
       "2   3    Male   47                1         28.0                   0   \n",
       "3   4    Male   21                1         11.0                   1   \n",
       "4   5  Female   29                1         41.0                   1   \n",
       "5   6  Female   24                1         33.0                   0   \n",
       "\n",
       "  Vehicle_Age Vehicle_Damage  Annual_Premium  Policy_Sales_Channel  Vintage  \\\n",
       "0   > 2 Years            Yes         40454.0                  26.0      217   \n",
       "2   > 2 Years            Yes         38294.0                  26.0       27   \n",
       "3    < 1 Year             No         28619.0                 152.0      203   \n",
       "4    < 1 Year             No         27496.0                 152.0       39   \n",
       "5    < 1 Year            Yes          2630.0                 160.0      176   \n",
       "\n",
       "   Response  \n",
       "0         1  \n",
       "2         1  \n",
       "3         0  \n",
       "4         0  \n",
       "5         0  "
      ]
     },
     "execution_count": 3,
     "metadata": {},
     "output_type": "execute_result"
    }
   ],
   "source": [
    "df_raw = pd.read_csv(r'D:\\\\My Drive\\\\Pessoal\\\\Projetos\\\\insurance_sales_predict\\\\insurance_sales_predict\\\\data\\\\raw\\\\train.csv')\n",
    "\n",
    "test = df_raw.sample(frac=0.1)\n",
    "test_indices = test.index\n",
    "df = df_raw.drop(test_indices)\n",
    "df.head()"
   ]
  },
  {
   "cell_type": "markdown",
   "id": "2eecf223",
   "metadata": {
    "heading_collapsed": true,
    "id": "Mok1q9y5cpP-"
   },
   "source": [
    "# 1.0 Data Description"
   ]
  },
  {
   "cell_type": "code",
   "execution_count": 4,
   "id": "59b148b6",
   "metadata": {
    "ExecuteTime": {
     "end_time": "2022-05-10T13:22:32.210822Z",
     "start_time": "2022-05-10T13:22:32.182016Z"
    },
    "hidden": true
   },
   "outputs": [],
   "source": [
    "df1 = df.copy()"
   ]
  },
  {
   "cell_type": "markdown",
   "id": "8513ff12",
   "metadata": {
    "heading_collapsed": true,
    "hidden": true
   },
   "source": [
    "### 1.1 Columns to Lowercase"
   ]
  },
  {
   "cell_type": "code",
   "execution_count": 5,
   "id": "86597ea1",
   "metadata": {
    "ExecuteTime": {
     "end_time": "2022-05-10T13:22:32.225954Z",
     "start_time": "2022-05-10T13:22:32.212728Z"
    },
    "hidden": true
   },
   "outputs": [],
   "source": [
    "cols = ' '.join(df1.columns.to_list()).lower().split()\n",
    "\n",
    "df1.columns = cols"
   ]
  },
  {
   "cell_type": "markdown",
   "id": "a910ea84",
   "metadata": {
    "heading_collapsed": true,
    "hidden": true
   },
   "source": [
    "### 1.2 Data Dimensions"
   ]
  },
  {
   "cell_type": "code",
   "execution_count": 6,
   "id": "393a5d23",
   "metadata": {
    "ExecuteTime": {
     "end_time": "2022-05-10T13:22:32.242132Z",
     "start_time": "2022-05-10T13:22:32.228119Z"
    },
    "colab": {
     "base_uri": "https://localhost:8080/"
    },
    "hidden": true,
    "id": "Zwy0E8ZIpLPl",
    "outputId": "92dac05e-4d44-4748-b5bd-068d3508e129"
   },
   "outputs": [
    {
     "name": "stdout",
     "output_type": "stream",
     "text": [
      "Number of rows: 342998\n",
      "Number of columns: 12\n"
     ]
    }
   ],
   "source": [
    "print(f'Number of rows: {df1.shape[0]}')\n",
    "print(f'Number of columns: {df1.shape[1]}')"
   ]
  },
  {
   "cell_type": "markdown",
   "id": "949283e5",
   "metadata": {
    "heading_collapsed": true,
    "hidden": true
   },
   "source": [
    "### 1.3 Data Types"
   ]
  },
  {
   "cell_type": "code",
   "execution_count": 7,
   "id": "4dcd82f7",
   "metadata": {
    "ExecuteTime": {
     "end_time": "2022-05-10T13:22:32.257824Z",
     "start_time": "2022-05-10T13:22:32.245135Z"
    },
    "colab": {
     "base_uri": "https://localhost:8080/"
    },
    "hidden": true,
    "id": "BR3AJxskpRTN",
    "outputId": "91bbf7cc-7a02-43fc-c5b0-0fffcda46562",
    "scrolled": true
   },
   "outputs": [
    {
     "data": {
      "text/plain": [
       "id                        int64\n",
       "gender                   object\n",
       "age                       int64\n",
       "driving_license           int64\n",
       "region_code             float64\n",
       "previously_insured        int64\n",
       "vehicle_age              object\n",
       "vehicle_damage           object\n",
       "annual_premium          float64\n",
       "policy_sales_channel    float64\n",
       "vintage                   int64\n",
       "response                  int64\n",
       "dtype: object"
      ]
     },
     "execution_count": 7,
     "metadata": {},
     "output_type": "execute_result"
    }
   ],
   "source": [
    "df1.dtypes"
   ]
  },
  {
   "cell_type": "markdown",
   "id": "5edbf76a",
   "metadata": {
    "heading_collapsed": true,
    "hidden": true
   },
   "source": [
    "### 1.4 Check Na"
   ]
  },
  {
   "cell_type": "code",
   "execution_count": 8,
   "id": "4169e7ec",
   "metadata": {
    "ExecuteTime": {
     "end_time": "2022-05-10T13:22:32.367691Z",
     "start_time": "2022-05-10T13:22:32.260783Z"
    },
    "colab": {
     "base_uri": "https://localhost:8080/"
    },
    "hidden": true,
    "id": "MI1tbVODqV7w",
    "outputId": "531330d8-401f-473c-ad80-247536756b93",
    "scrolled": true
   },
   "outputs": [
    {
     "data": {
      "text/plain": [
       "id                      0\n",
       "gender                  0\n",
       "age                     0\n",
       "driving_license         0\n",
       "region_code             0\n",
       "previously_insured      0\n",
       "vehicle_age             0\n",
       "vehicle_damage          0\n",
       "annual_premium          0\n",
       "policy_sales_channel    0\n",
       "vintage                 0\n",
       "response                0\n",
       "dtype: int64"
      ]
     },
     "execution_count": 8,
     "metadata": {},
     "output_type": "execute_result"
    }
   ],
   "source": [
    "df1.isna().sum()"
   ]
  },
  {
   "cell_type": "markdown",
   "id": "4437ccc8",
   "metadata": {
    "heading_collapsed": true,
    "hidden": true
   },
   "source": [
    "### 1.5 Descriptive Statistical"
   ]
  },
  {
   "cell_type": "markdown",
   "id": "bed9672c",
   "metadata": {
    "heading_collapsed": true,
    "hidden": true
   },
   "source": [
    "###### 1.5.1 Classifying Attributes"
   ]
  },
  {
   "cell_type": "code",
   "execution_count": 9,
   "id": "e5a82cf6",
   "metadata": {
    "ExecuteTime": {
     "end_time": "2022-05-10T13:22:32.383275Z",
     "start_time": "2022-05-10T13:22:32.369692Z"
    },
    "hidden": true
   },
   "outputs": [],
   "source": [
    "categorical_attributes = ['gender', 'vehicle_damage', 'vehicle_age', 'driving_license', 'region_code', 'previously_insured', 'policy_sales_channel', 'vintage']\n",
    "numerical_attributes = ['age', 'annual_premium']"
   ]
  },
  {
   "cell_type": "markdown",
   "id": "016a9b27",
   "metadata": {
    "heading_collapsed": true,
    "hidden": true
   },
   "source": [
    "###### 1.5.2 Target"
   ]
  },
  {
   "cell_type": "code",
   "execution_count": 10,
   "id": "33666982",
   "metadata": {
    "ExecuteTime": {
     "end_time": "2022-05-10T13:22:32.398454Z",
     "start_time": "2022-05-10T13:22:32.386371Z"
    },
    "hidden": true
   },
   "outputs": [
    {
     "name": "stdout",
     "output_type": "stream",
     "text": [
      "A porcentagem de interessados no produto é: 12.0 %\n"
     ]
    }
   ],
   "source": [
    "print(f'A porcentagem de interessados no produto é: {round(df1[\"response\"].mean(), 2) * 100} %')"
   ]
  },
  {
   "cell_type": "markdown",
   "id": "1dd6a697",
   "metadata": {
    "hidden": true
   },
   "source": [
    "Desbalanceada"
   ]
  },
  {
   "cell_type": "markdown",
   "id": "87762e11",
   "metadata": {
    "heading_collapsed": true,
    "hidden": true
   },
   "source": [
    "###### 1.5.3 Numerical Features"
   ]
  },
  {
   "cell_type": "code",
   "execution_count": 11,
   "id": "31074aa7",
   "metadata": {
    "ExecuteTime": {
     "end_time": "2022-05-10T13:22:32.557967Z",
     "start_time": "2022-05-10T13:22:32.400370Z"
    },
    "hidden": true,
    "scrolled": true
   },
   "outputs": [
    {
     "data": {
      "text/html": [
       "<div>\n",
       "<style scoped>\n",
       "    .dataframe tbody tr th:only-of-type {\n",
       "        vertical-align: middle;\n",
       "    }\n",
       "\n",
       "    .dataframe tbody tr th {\n",
       "        vertical-align: top;\n",
       "    }\n",
       "\n",
       "    .dataframe thead th {\n",
       "        text-align: right;\n",
       "    }\n",
       "</style>\n",
       "<table border=\"1\" class=\"dataframe\">\n",
       "  <thead>\n",
       "    <tr style=\"text-align: right;\">\n",
       "      <th></th>\n",
       "      <th>min</th>\n",
       "      <th>max</th>\n",
       "      <th>range</th>\n",
       "      <th>mean</th>\n",
       "      <th>median</th>\n",
       "      <th>std</th>\n",
       "      <th>skew</th>\n",
       "      <th>kurtosis</th>\n",
       "    </tr>\n",
       "  </thead>\n",
       "  <tbody>\n",
       "    <tr>\n",
       "      <th>age</th>\n",
       "      <td>20.0</td>\n",
       "      <td>85.0</td>\n",
       "      <td>65.0</td>\n",
       "      <td>38.823783</td>\n",
       "      <td>36.0</td>\n",
       "      <td>15.510382</td>\n",
       "      <td>0.672302</td>\n",
       "      <td>-0.565874</td>\n",
       "    </tr>\n",
       "    <tr>\n",
       "      <th>annual_premium</th>\n",
       "      <td>2630.0</td>\n",
       "      <td>540165.0</td>\n",
       "      <td>537535.0</td>\n",
       "      <td>30575.671639</td>\n",
       "      <td>31674.0</td>\n",
       "      <td>17256.795594</td>\n",
       "      <td>1.844800</td>\n",
       "      <td>35.898343</td>\n",
       "    </tr>\n",
       "  </tbody>\n",
       "</table>\n",
       "</div>"
      ],
      "text/plain": [
       "                   min       max     range          mean   median  \\\n",
       "age               20.0      85.0      65.0     38.823783     36.0   \n",
       "annual_premium  2630.0  540165.0  537535.0  30575.671639  31674.0   \n",
       "\n",
       "                         std      skew   kurtosis  \n",
       "age                15.510382  0.672302  -0.565874  \n",
       "annual_premium  17256.795594  1.844800  35.898343  "
      ]
     },
     "execution_count": 11,
     "metadata": {},
     "output_type": "execute_result"
    }
   ],
   "source": [
    "# Central tendency\n",
    "ct1 = pd.DataFrame(df1[numerical_attributes].apply(np.mean)).T\n",
    "ct2 = pd.DataFrame(df1[numerical_attributes].apply(np.median)).T\n",
    "\n",
    "# Dispersion\n",
    "d1 = pd.DataFrame(df1[numerical_attributes].apply(np.std)).T\n",
    "d2 = pd.DataFrame(df1[numerical_attributes].apply(min)).T\n",
    "d3 = pd.DataFrame(df1[numerical_attributes].apply(max)).T\n",
    "d4 = pd.DataFrame(df1[numerical_attributes].apply(lambda x: x.max() - x.min())).T\n",
    "d5 = pd.DataFrame(df1[numerical_attributes].apply(lambda x: x.skew())).T\n",
    "d6 = pd.DataFrame(df1[numerical_attributes].apply(lambda x: x.kurtosis())).T\n",
    "\n",
    "# Concat\n",
    "temp = pd.concat([d2, d3, d4, ct1, ct2, d1, d5, d6]).T\n",
    "temp.columns = 'min max range mean median std skew kurtosis'.split()\n",
    "temp"
   ]
  },
  {
   "cell_type": "markdown",
   "id": "65daa280",
   "metadata": {
    "hidden": true
   },
   "source": [
    "* Range de idade entre 20 e 85 anos, sem indícios de erros de inputs\n",
    "* Annual_Premium com possíveis outliers"
   ]
  },
  {
   "cell_type": "code",
   "execution_count": 12,
   "id": "c51d0503",
   "metadata": {
    "ExecuteTime": {
     "end_time": "2022-05-10T13:22:32.621958Z",
     "start_time": "2022-05-10T13:22:32.559900Z"
    },
    "colab": {
     "base_uri": "https://localhost:8080/",
     "height": 0
    },
    "hidden": true,
    "id": "R3zqwAqNtq0t",
    "outputId": "74ae0af1-3205-4f40-f697-53ba371ecfd9",
    "scrolled": false
   },
   "outputs": [
    {
     "data": {
      "text/html": [
       "<div>\n",
       "<style scoped>\n",
       "    .dataframe tbody tr th:only-of-type {\n",
       "        vertical-align: middle;\n",
       "    }\n",
       "\n",
       "    .dataframe tbody tr th {\n",
       "        vertical-align: top;\n",
       "    }\n",
       "\n",
       "    .dataframe thead th {\n",
       "        text-align: right;\n",
       "    }\n",
       "</style>\n",
       "<table border=\"1\" class=\"dataframe\">\n",
       "  <thead>\n",
       "    <tr style=\"text-align: right;\">\n",
       "      <th></th>\n",
       "      <th>count</th>\n",
       "      <th>mean</th>\n",
       "      <th>std</th>\n",
       "      <th>min</th>\n",
       "      <th>25%</th>\n",
       "      <th>50%</th>\n",
       "      <th>75%</th>\n",
       "      <th>max</th>\n",
       "    </tr>\n",
       "  </thead>\n",
       "  <tbody>\n",
       "    <tr>\n",
       "      <th>age</th>\n",
       "      <td>342998.0</td>\n",
       "      <td>38.823783</td>\n",
       "      <td>15.510404</td>\n",
       "      <td>20.0</td>\n",
       "      <td>25.0</td>\n",
       "      <td>36.0</td>\n",
       "      <td>49.0</td>\n",
       "      <td>85.0</td>\n",
       "    </tr>\n",
       "    <tr>\n",
       "      <th>annual_premium</th>\n",
       "      <td>342998.0</td>\n",
       "      <td>30575.671639</td>\n",
       "      <td>17256.820750</td>\n",
       "      <td>2630.0</td>\n",
       "      <td>24412.0</td>\n",
       "      <td>31674.0</td>\n",
       "      <td>39399.0</td>\n",
       "      <td>540165.0</td>\n",
       "    </tr>\n",
       "  </tbody>\n",
       "</table>\n",
       "</div>"
      ],
      "text/plain": [
       "                   count          mean           std     min      25%  \\\n",
       "age             342998.0     38.823783     15.510404    20.0     25.0   \n",
       "annual_premium  342998.0  30575.671639  17256.820750  2630.0  24412.0   \n",
       "\n",
       "                    50%      75%       max  \n",
       "age                36.0     49.0      85.0  \n",
       "annual_premium  31674.0  39399.0  540165.0  "
      ]
     },
     "execution_count": 12,
     "metadata": {},
     "output_type": "execute_result"
    }
   ],
   "source": [
    "df1[numerical_attributes].describe().T"
   ]
  },
  {
   "cell_type": "markdown",
   "id": "f2c87200",
   "metadata": {
    "hidden": true
   },
   "source": [
    "* Idade com média e mediana próximas, dados centralizados na média, skew baixa, o que reforça distribuição centralizada na média, skew pouco positiva, o que sugere cauda esquerda mais pesada, kurtosis baixa e negativa, o que sugere uma distribuição um pouco mais plana em relação a uma normal com mesma média e desvio padrão, uma distribuição próxima a uma NORMAL\n",
    "* Prêmio Anual com média e mediana próximos, o que sugere dados centralizados na média, skew baixa e positiva, o que sugere dados centralizados na média com uma cauda esquerda mais pesada, kurtosis bastante alto, o que sugere um pico bastante elevado, uma distribuição próxima a uma POISSON"
   ]
  },
  {
   "cell_type": "markdown",
   "id": "bc1ab4c8",
   "metadata": {
    "heading_collapsed": true,
    "hidden": true
   },
   "source": [
    "###### 1.5.4 Categorical Features"
   ]
  },
  {
   "cell_type": "code",
   "execution_count": 13,
   "id": "fb174429",
   "metadata": {
    "ExecuteTime": {
     "end_time": "2022-05-10T13:22:32.762722Z",
     "start_time": "2022-05-10T13:22:32.623955Z"
    },
    "hidden": true,
    "scrolled": false
   },
   "outputs": [
    {
     "data": {
      "text/html": [
       "<div>\n",
       "<style scoped>\n",
       "    .dataframe tbody tr th:only-of-type {\n",
       "        vertical-align: middle;\n",
       "    }\n",
       "\n",
       "    .dataframe tbody tr th {\n",
       "        vertical-align: top;\n",
       "    }\n",
       "\n",
       "    .dataframe thead th {\n",
       "        text-align: right;\n",
       "    }\n",
       "</style>\n",
       "<table border=\"1\" class=\"dataframe\">\n",
       "  <thead>\n",
       "    <tr style=\"text-align: right;\">\n",
       "      <th></th>\n",
       "      <th>count</th>\n",
       "      <th>unique</th>\n",
       "      <th>top</th>\n",
       "      <th>freq</th>\n",
       "    </tr>\n",
       "  </thead>\n",
       "  <tbody>\n",
       "    <tr>\n",
       "      <th>gender</th>\n",
       "      <td>342998</td>\n",
       "      <td>2</td>\n",
       "      <td>Male</td>\n",
       "      <td>185478</td>\n",
       "    </tr>\n",
       "    <tr>\n",
       "      <th>vehicle_damage</th>\n",
       "      <td>342998</td>\n",
       "      <td>2</td>\n",
       "      <td>Yes</td>\n",
       "      <td>173158</td>\n",
       "    </tr>\n",
       "    <tr>\n",
       "      <th>vehicle_age</th>\n",
       "      <td>342998</td>\n",
       "      <td>3</td>\n",
       "      <td>1-2 Year</td>\n",
       "      <td>180306</td>\n",
       "    </tr>\n",
       "    <tr>\n",
       "      <th>driving_license</th>\n",
       "      <td>342998</td>\n",
       "      <td>2</td>\n",
       "      <td>1</td>\n",
       "      <td>342275</td>\n",
       "    </tr>\n",
       "    <tr>\n",
       "      <th>region_code</th>\n",
       "      <td>342998.0</td>\n",
       "      <td>53.0</td>\n",
       "      <td>28.0</td>\n",
       "      <td>95791.0</td>\n",
       "    </tr>\n",
       "    <tr>\n",
       "      <th>previously_insured</th>\n",
       "      <td>342998</td>\n",
       "      <td>2</td>\n",
       "      <td>0</td>\n",
       "      <td>185779</td>\n",
       "    </tr>\n",
       "    <tr>\n",
       "      <th>policy_sales_channel</th>\n",
       "      <td>342998.0</td>\n",
       "      <td>155.0</td>\n",
       "      <td>152.0</td>\n",
       "      <td>121300.0</td>\n",
       "    </tr>\n",
       "    <tr>\n",
       "      <th>vintage</th>\n",
       "      <td>342998</td>\n",
       "      <td>290</td>\n",
       "      <td>256</td>\n",
       "      <td>1284</td>\n",
       "    </tr>\n",
       "  </tbody>\n",
       "</table>\n",
       "</div>"
      ],
      "text/plain": [
       "                         count unique       top      freq\n",
       "gender                  342998      2      Male    185478\n",
       "vehicle_damage          342998      2       Yes    173158\n",
       "vehicle_age             342998      3  1-2 Year    180306\n",
       "driving_license         342998      2         1    342275\n",
       "region_code           342998.0   53.0      28.0   95791.0\n",
       "previously_insured      342998      2         0    185779\n",
       "policy_sales_channel  342998.0  155.0     152.0  121300.0\n",
       "vintage                 342998    290       256      1284"
      ]
     },
     "execution_count": 13,
     "metadata": {},
     "output_type": "execute_result"
    }
   ],
   "source": [
    "df1[categorical_attributes].astype('category').describe().T"
   ]
  },
  {
   "cell_type": "markdown",
   "id": "13942d5c",
   "metadata": {
    "hidden": true
   },
   "source": [
    "* Sexo relativamente balanceado com a maioria de mulheres\n",
    "* Maior parte dos clientes possuem veículos com menos de 1 ano\n",
    "* Maior parte dos clientes já teve danos em seu veículo\n",
    "* Habilitação para dirigir balanceado\n",
    "* Há 53 regiões diferentes e por volta de 30% dos clientes estão contidos na região 28\n",
    "* Um pouco mais que 50% dos clientes não possuem seguro veicular\n",
    "* Há 157 canais de vendas, e por volta de 35% dos clientes estão contidos no canal 152."
   ]
  },
  {
   "cell_type": "markdown",
   "id": "7bff2fa9",
   "metadata": {
    "heading_collapsed": true,
    "id": "lpsQdPJVSjpi"
   },
   "source": [
    "# 2.0 Feature Engineering"
   ]
  },
  {
   "cell_type": "code",
   "execution_count": 14,
   "id": "ad778901",
   "metadata": {
    "ExecuteTime": {
     "end_time": "2022-05-10T13:22:32.793883Z",
     "start_time": "2022-05-10T13:22:32.764759Z"
    },
    "hidden": true
   },
   "outputs": [],
   "source": [
    "df2 = df1.copy()"
   ]
  },
  {
   "cell_type": "markdown",
   "id": "0e259fa0",
   "metadata": {
    "heading_collapsed": true,
    "hidden": true
   },
   "source": [
    "### 2.1 Business Hypothesis"
   ]
  },
  {
   "cell_type": "code",
   "execution_count": 15,
   "id": "581cd3da",
   "metadata": {
    "ExecuteTime": {
     "end_time": "2022-05-10T13:22:32.825737Z",
     "start_time": "2022-05-10T13:22:32.795867Z"
    },
    "hidden": true,
    "scrolled": false
   },
   "outputs": [
    {
     "data": {
      "image/jpeg": "[encoded data removed]",
      "text/plain": [
       "<IPython.core.display.Image object>"
      ]
     },
     "execution_count": 15,
     "metadata": {},
     "output_type": "execute_result"
    }
   ],
   "source": [
    "Image('D:\\\\My Drive\\\\Pessoal\\\\Projetos\\\\insurance_sales_predict\\\\insurance_sales_predict\\\\img\\\\mindmap.JPG')"
   ]
  },
  {
   "cell_type": "markdown",
   "id": "05f91817",
   "metadata": {
    "heading_collapsed": true,
    "hidden": true
   },
   "source": [
    "### 2.2 Creating Hypothesis"
   ]
  },
  {
   "cell_type": "markdown",
   "id": "0032fce4",
   "metadata": {
    "heading_collapsed": true,
    "hidden": true
   },
   "source": [
    "###### Corretora:\n",
    "* Contatos mais diretos com os clientes deveriam gerar mais vendas\n",
    "* Ações de marketing deveriam gerar mais vendas.\n",
    "* Contato mais próximo com o cliente deveriam gerar mais vendas\n",
    "* Maior confiabilidade da parte da corretora deveria gerar mais vendas.\n",
    "\n",
    "###### Clientes:\n",
    "* Clientes localizados em regiões com maiores rendas percaptas deveriam comprar mais\n",
    "* Clientes do gênero feminino deveriam comprar mais\n",
    "* Clientes mais velhos deveriam comprar mais\n",
    "* Clientes com famílias maiores deveriam comprar mais\n",
    "\n",
    "###### Seguro de Vida:\n",
    "* Contas de Seguro de Vida com valores mais altos deveriam gerar mais vendas\n",
    "* Contas com tempo de aquisição vigente maior deveriam gerar mais vendas\n",
    "\n",
    "###### Relação do Cliente com o Automóvel:\n",
    "* Clientes que já acionaram o seguro no passado deveriam comprar mais\n",
    "* Clientes com veículos mais novos deveriam comprar mais\n",
    "* Clientes que não possuem seguro de automóvel deveriam comprara mais.\n",
    "* Clientes habilitados deveriam comprar mais."
   ]
  },
  {
   "cell_type": "markdown",
   "id": "fc206881",
   "metadata": {
    "heading_collapsed": true,
    "hidden": true
   },
   "source": [
    "###### Hipóteses Selecionadas:"
   ]
  },
  {
   "cell_type": "code",
   "execution_count": null,
   "id": "d9ae9bc2",
   "metadata": {
    "hidden": true
   },
   "outputs": [],
   "source": []
  },
  {
   "cell_type": "markdown",
   "id": "aef72400",
   "metadata": {
    "heading_collapsed": true,
    "hidden": true
   },
   "source": [
    "### 2.3 Creating Features"
   ]
  },
  {
   "cell_type": "code",
   "execution_count": null,
   "id": "4f9ba298",
   "metadata": {
    "hidden": true
   },
   "outputs": [],
   "source": []
  },
  {
   "cell_type": "markdown",
   "id": "70f9dbf4",
   "metadata": {
    "heading_collapsed": true
   },
   "source": [
    "# 3.0 Exploratory Data Analysis"
   ]
  },
  {
   "cell_type": "code",
   "execution_count": 16,
   "id": "81306d20",
   "metadata": {
    "ExecuteTime": {
     "end_time": "2022-05-10T13:22:32.856752Z",
     "start_time": "2022-05-10T13:22:32.827553Z"
    },
    "hidden": true
   },
   "outputs": [],
   "source": [
    "df3 = df2.copy()"
   ]
  },
  {
   "cell_type": "markdown",
   "id": "d265ef0a",
   "metadata": {
    "heading_collapsed": true,
    "hidden": true
   },
   "source": [
    "## 3.1 Principais Insights:"
   ]
  },
  {
   "cell_type": "markdown",
   "id": "f88b72c5",
   "metadata": {
    "heading_collapsed": true,
    "hidden": true
   },
   "source": [
    "###### Response:\n",
    "* Desbalanceada com 12% de eventos positivos\n",
    "\n",
    "###### Gender:\n",
    "* Balanceada\n",
    "* Homens se interessam 30% mais no produto em relação às mulheres\n",
    "\n",
    "###### Vehicle_Age:\n",
    "* Mais da metade dos clientes possuem carros com menos de 1 ano\n",
    "* Médias de response bastante distintas\n",
    "\n",
    "###### Vehicle_Damage:\n",
    "* Balanceada\n",
    "* Clientes que já tiveram danos no seu veículo tem 24% de response, enquanto clientes que não tiveram danos têm por volta de 1%\n",
    "\n",
    "###### Driving_License:\n",
    "* 99% dos clientes são habilitados\n",
    "* Habilitados apresentam 5% de interesse no produto, não habilitados apresentam 12% de interesse no produto.\n",
    "\n",
    "###### Previously_Insured:\n",
    "* 45% dos clientes já possuem seguro veicular\n",
    "* Clientes que já possuem seguro têm interesse quase zero pelo produto\n",
    "\n",
    "###### Region_Code:\n",
    "* 53 regiões\n",
    "* 28% dos clientes está contido na região 28. 50% dos dados estão contidos nas 5 regiões mais numerosas\n",
    "* A região 28 (mais importante) tem por volta de 18% de probabilidade de response, segunda melhor região, atrás apenas da região 38.\n",
    "* As regiões com probabilidade de response mais alto estão com por volta de 19%, as regiões com probabilidades mais baixas estã em por volta de 4%\n",
    "* Médias de response bastante distintas, com desvios padrões baixos\n",
    "\n",
    "###### Policy_Sales_Channel:\n",
    "* Há 157 Policy_Sales_Channel e aproximadamente um terço das amostras está contido no canal 152\n",
    "* 5 categorias contém 84.19% do total de clientes\n",
    "* Médias de response por canais de Policy_Sales_Channel bastante distintas\n",
    "* Os canais mais utilizados apresentam médias de response bastante diferentes da média global, os canal 152 é o mais utilizado e apresenta 2% de interesse no produto, o canal 155 apresenta 2%, já os canais 26, 124 e 156 apresentam por volta de 20% de interesse no produto\n",
    "\n",
    "###### Vintage:\n",
    "* Feature categórica, há 290 categorias em Vintage\n",
    "\n",
    "###### Age:\n",
    "* Range de idade de 25 até 85 anos, aparentemente sem erros de input\n",
    "* Apresenta uma distribuição com uma certa semelhança com uma Poison, mas com uma segunda moda em um ponto próximo aos 45 anos.\n",
    "* Sem outliers\n",
    "* A média de idade entre os que não se interessam pelo produto é de 38 anos, e dos que se interessam é de 43 anos.\n",
    "* Pessoas com mais de 30 anos apresentam um interesse relativamente maior pelo produto.\n",
    "* Clientes com menos de 30 anos de idade apresentam em média 4% de interesse no produto, enquanto os clientes com 30 anos ou mais têm em média 17% interesse no produto.\n",
    "\n",
    "\n",
    "###### Annual_Premium\n",
    "* 2799 em Annual_Premmium, não aparentam ser por conta de erros de input\n",
    "* Há dois grupos de clientes, um com valores fixos em 2630 dollares, e outro com valores contínuos e superiores, não há diferença significativa de média de interesse no produto entre os grupos\n",
    "* Acima do terceiro quartil da distribuição há um interesse relativo 20% maior no produto"
   ]
  },
  {
   "cell_type": "markdown",
   "id": "c3178ceb",
   "metadata": {
    "heading_collapsed": true,
    "hidden": true
   },
   "source": [
    "## 3.2 Univariate Analysis"
   ]
  },
  {
   "cell_type": "markdown",
   "id": "b818db05",
   "metadata": {
    "heading_collapsed": true,
    "hidden": true
   },
   "source": [
    "#### response"
   ]
  },
  {
   "cell_type": "code",
   "execution_count": 17,
   "id": "9bb7c0e2",
   "metadata": {
    "ExecuteTime": {
     "end_time": "2022-05-10T13:22:32.871730Z",
     "start_time": "2022-05-10T13:22:32.858697Z"
    },
    "hidden": true
   },
   "outputs": [
    {
     "data": {
      "text/plain": [
       "0.12285202829171016"
      ]
     },
     "execution_count": 17,
     "metadata": {},
     "output_type": "execute_result"
    }
   ],
   "source": [
    "df3['response'].mean()"
   ]
  },
  {
   "cell_type": "markdown",
   "id": "314aca73",
   "metadata": {
    "heading_collapsed": true,
    "hidden": true
   },
   "source": [
    "#### gender"
   ]
  },
  {
   "cell_type": "code",
   "execution_count": 18,
   "id": "10b327ae",
   "metadata": {
    "ExecuteTime": {
     "end_time": "2022-05-10T13:22:32.935440Z",
     "start_time": "2022-05-10T13:22:32.873699Z"
    },
    "hidden": true
   },
   "outputs": [
    {
     "name": "stdout",
     "output_type": "stream",
     "text": [
      "10.42% das mulheres se interessam pelo produto.\n",
      "13.87% dos homens se interessam pelo produto.\n"
     ]
    }
   ],
   "source": [
    "print(f'{round(df3.loc[df3[\"gender\"]==\"Female\", \"response\"].mean() *100, 2)}% das mulheres se interessam pelo produto.')\n",
    "print(f'{round(df3.loc[df3[\"gender\"]==\"Male\", \"response\"].mean() *100, 2)}% dos homens se interessam pelo produto.')"
   ]
  },
  {
   "cell_type": "markdown",
   "id": "ebb1951a",
   "metadata": {
    "heading_collapsed": true,
    "hidden": true
   },
   "source": [
    "#### age"
   ]
  },
  {
   "cell_type": "code",
   "execution_count": 19,
   "id": "346a2009",
   "metadata": {
    "ExecuteTime": {
     "end_time": "2022-05-10T13:22:33.222886Z",
     "start_time": "2022-05-10T13:22:32.938591Z"
    },
    "hidden": true
   },
   "outputs": [
    {
     "data": {
      "image/png": "[encoded data removed]",
      "text/plain": [
       "<Figure size 432x288 with 1 Axes>"
      ]
     },
     "metadata": {
      "needs_background": "light"
     },
     "output_type": "display_data"
    }
   ],
   "source": [
    "sns.histplot(df3['age'], bins=20);"
   ]
  },
  {
   "cell_type": "markdown",
   "id": "c8ce67eb",
   "metadata": {
    "hidden": true
   },
   "source": [
    "Apresenta uma distribuição com uma certa semelhança com uma Poison, mas com uma segunda moda em um ponto próximo aos 45 anos."
   ]
  },
  {
   "cell_type": "code",
   "execution_count": 20,
   "id": "e1cd179d",
   "metadata": {
    "ExecuteTime": {
     "end_time": "2022-05-10T13:22:33.238881Z",
     "start_time": "2022-05-10T13:22:33.224887Z"
    },
    "hidden": true
   },
   "outputs": [],
   "source": [
    "índices, li, ls = buscar_outlier(df3, 'age')"
   ]
  },
  {
   "cell_type": "code",
   "execution_count": 21,
   "id": "ddd4e203",
   "metadata": {
    "ExecuteTime": {
     "end_time": "2022-05-10T13:22:33.348907Z",
     "start_time": "2022-05-10T13:22:33.240881Z"
    },
    "hidden": true,
    "scrolled": false
   },
   "outputs": [
    {
     "data": {
      "image/png": "[encoded data removed]",
      "text/plain": [
       "<Figure size 432x288 with 1 Axes>"
      ]
     },
     "metadata": {
      "needs_background": "light"
     },
     "output_type": "display_data"
    }
   ],
   "source": [
    "sns.boxplot(data=df3, x='age')\n",
    "plt.title('Quartis de Idade');"
   ]
  },
  {
   "cell_type": "markdown",
   "id": "1460d2fe",
   "metadata": {
    "hidden": true
   },
   "source": [
    "sem outliers"
   ]
  },
  {
   "cell_type": "code",
   "execution_count": 22,
   "id": "ab011dfc",
   "metadata": {
    "ExecuteTime": {
     "end_time": "2022-05-10T13:22:33.379731Z",
     "start_time": "2022-05-10T13:22:33.350963Z"
    },
    "hidden": true,
    "scrolled": true
   },
   "outputs": [
    {
     "name": "stdout",
     "output_type": "stream",
     "text": [
      "A média de idade entre os que NÃO se interessam pelo produto: 38.18%\n",
      "A média de idade entre os que se interessam pelo produto: 43.43%\n"
     ]
    }
   ],
   "source": [
    "print(f'A média de idade entre os que NÃO se interessam pelo produto: {round(df3.loc[df3[\"response\"]==0, \"age\"].mean(), 2)}%')\n",
    "print(f'A média de idade entre os que se interessam pelo produto: {round(df3.loc[df3[\"response\"]==1, \"age\"].mean(), 2)}%')"
   ]
  },
  {
   "cell_type": "code",
   "execution_count": 23,
   "id": "07c1dd3b",
   "metadata": {
    "ExecuteTime": {
     "end_time": "2022-05-10T13:22:34.836538Z",
     "start_time": "2022-05-10T13:22:33.381751Z"
    },
    "hidden": true,
    "scrolled": true
   },
   "outputs": [
    {
     "data": {
      "image/png": "[encoded data removed]",
      "text/plain": [
       "<Figure size 432x288 with 2 Axes>"
      ]
     },
     "metadata": {
      "needs_background": "light"
     },
     "output_type": "display_data"
    }
   ],
   "source": [
    "plt.subplot(2, 1, 1)\n",
    "plt.title('Distribuição e Densidade de Idade Segregado por Response')\n",
    "g = sns.histplot(df3.loc[df3['response']==0, 'age'], color='r', alpha=0.5, bins=20)\n",
    "g = sns.histplot(df3.loc[df3['response']==1, 'age'], color='b', alpha=0.5, bins=20)\n",
    "sns.despine()\n",
    "plt.subplot(2, 1, 2)\n",
    "g = sns.kdeplot(df3.loc[df3['response']==0, 'age'], color='r', alpha=0.5)\n",
    "g = sns.kdeplot(df3.loc[df3['response']==1, 'age'], color='b', alpha=0.5)\n",
    "sns.despine()"
   ]
  },
  {
   "cell_type": "markdown",
   "id": "3406cf05",
   "metadata": {
    "hidden": true
   },
   "source": [
    "Pessoas mais velhas apresentam maior interesse no produto"
   ]
  },
  {
   "cell_type": "code",
   "execution_count": 24,
   "id": "553793a1",
   "metadata": {
    "ExecuteTime": {
     "end_time": "2022-05-10T13:22:34.978913Z",
     "start_time": "2022-05-10T13:22:34.838912Z"
    },
    "hidden": true,
    "scrolled": true
   },
   "outputs": [
    {
     "data": {
      "image/png": "[encoded data removed]",
      "text/plain": [
       "<Figure size 432x288 with 1 Axes>"
      ]
     },
     "metadata": {
      "needs_background": "light"
     },
     "output_type": "display_data"
    }
   ],
   "source": [
    "sns.boxplot(x='response', y='age', data=df3)\n",
    "plt.title('Quartis de Idades Segregado por Response')\n",
    "sns.despine();"
   ]
  },
  {
   "cell_type": "markdown",
   "id": "ab01facf",
   "metadata": {
    "hidden": true
   },
   "source": [
    "Pessoas mais velhas apresentam interesse maior pelo produto"
   ]
  },
  {
   "cell_type": "markdown",
   "id": "a084a281",
   "metadata": {
    "heading_collapsed": true,
    "hidden": true
   },
   "source": [
    "#### driving_license"
   ]
  },
  {
   "cell_type": "code",
   "execution_count": 25,
   "id": "63d611b4",
   "metadata": {
    "ExecuteTime": {
     "end_time": "2022-05-10T13:22:34.994912Z",
     "start_time": "2022-05-10T13:22:34.980911Z"
    },
    "hidden": true
   },
   "outputs": [
    {
     "name": "stdout",
     "output_type": "stream",
     "text": [
      "0.998% dos clientes são habilitados\n"
     ]
    }
   ],
   "source": [
    "print(f'{round(df3[\"driving_license\"].mean(), 3)}% dos clientes são habilitados')"
   ]
  },
  {
   "cell_type": "code",
   "execution_count": 26,
   "id": "f98f15cc",
   "metadata": {
    "ExecuteTime": {
     "end_time": "2022-05-10T13:22:39.526646Z",
     "start_time": "2022-05-10T13:22:34.997059Z"
    },
    "hidden": true
   },
   "outputs": [
    {
     "data": {
      "image/png": "[encoded data removed]",
      "text/plain": [
       "<Figure size 360x360 with 1 Axes>"
      ]
     },
     "metadata": {
      "needs_background": "light"
     },
     "output_type": "display_data"
    }
   ],
   "source": [
    "sns.catplot(x='driving_license', y= 'response', data=df3, kind='bar')\n",
    "plt.ylabel('Média de Response')\n",
    "plt.title('Média de Response Segregado por Driving License');"
   ]
  },
  {
   "cell_type": "code",
   "execution_count": 27,
   "id": "530750fd",
   "metadata": {
    "ExecuteTime": {
     "end_time": "2022-05-10T13:22:39.574547Z",
     "start_time": "2022-05-10T13:22:39.532460Z"
    },
    "hidden": true,
    "scrolled": false
   },
   "outputs": [
    {
     "name": "stdout",
     "output_type": "stream",
     "text": [
      "Habilitados tem: 4.98% de interesse no produto\n",
      "NÃO habilitados tem: 12.3% de interesse no produto\n"
     ]
    }
   ],
   "source": [
    "print(f'Habilitados tem: {round(df3.loc[df3[\"driving_license\"]==0, \"response\"].mean()*100, 2)}% de interesse no produto')\n",
    "print(f'NÃO habilitados tem: {round(df3.loc[df3[\"driving_license\"]==1, \"response\"].mean()*100, 2)}% de interesse no produto')"
   ]
  },
  {
   "cell_type": "markdown",
   "id": "3d49e4a2",
   "metadata": {
    "heading_collapsed": true,
    "hidden": true
   },
   "source": [
    "#### previously_insured"
   ]
  },
  {
   "cell_type": "code",
   "execution_count": 28,
   "id": "ad354245",
   "metadata": {
    "ExecuteTime": {
     "end_time": "2022-05-10T13:22:39.606547Z",
     "start_time": "2022-05-10T13:22:39.589477Z"
    },
    "hidden": true
   },
   "outputs": [
    {
     "data": {
      "text/plain": [
       "0.4583671041813655"
      ]
     },
     "execution_count": 28,
     "metadata": {},
     "output_type": "execute_result"
    }
   ],
   "source": [
    "df3['previously_insured'].mean()"
   ]
  },
  {
   "cell_type": "markdown",
   "id": "72aa04aa",
   "metadata": {
    "hidden": true
   },
   "source": [
    "45% dos clientes já sofreram danos veiculares"
   ]
  },
  {
   "cell_type": "code",
   "execution_count": 29,
   "id": "2ebb10cf",
   "metadata": {
    "ExecuteTime": {
     "end_time": "2022-05-10T13:22:43.725072Z",
     "start_time": "2022-05-10T13:22:39.611478Z"
    },
    "hidden": true
   },
   "outputs": [
    {
     "data": {
      "image/png": "[encoded data removed]",
      "text/plain": [
       "<Figure size 360x360 with 1 Axes>"
      ]
     },
     "metadata": {
      "needs_background": "light"
     },
     "output_type": "display_data"
    }
   ],
   "source": [
    "sns.catplot(x='previously_insured', y='response', data=df3, kind='bar')\n",
    "plt.title('Média de Response Segregado por Previously Insured')\n",
    "plt.ylabel('Média de Response');"
   ]
  },
  {
   "cell_type": "code",
   "execution_count": 30,
   "id": "0d8d5e56",
   "metadata": {
    "ExecuteTime": {
     "end_time": "2022-05-10T13:22:43.756363Z",
     "start_time": "2022-05-10T13:22:43.728074Z"
    },
    "hidden": true,
    "scrolled": true
   },
   "outputs": [
    {
     "data": {
      "text/plain": [
       "0.08841170596429185"
      ]
     },
     "execution_count": 30,
     "metadata": {},
     "output_type": "execute_result"
    }
   ],
   "source": [
    "df3.loc[df3['previously_insured']==1, 'response'].mean()*100"
   ]
  },
  {
   "cell_type": "markdown",
   "id": "bd62424f",
   "metadata": {
    "hidden": true
   },
   "source": [
    "Clientes que possuem seguro veicular tem interesse quase zero no produto"
   ]
  },
  {
   "cell_type": "markdown",
   "id": "54dc024a",
   "metadata": {
    "heading_collapsed": true,
    "hidden": true
   },
   "source": [
    "#### region_code"
   ]
  },
  {
   "cell_type": "code",
   "execution_count": 31,
   "id": "d96c5b41",
   "metadata": {
    "ExecuteTime": {
     "end_time": "2022-05-10T13:22:43.787750Z",
     "start_time": "2022-05-10T13:22:43.758576Z"
    },
    "hidden": true,
    "scrolled": true
   },
   "outputs": [
    {
     "data": {
      "text/plain": [
       "53"
      ]
     },
     "execution_count": 31,
     "metadata": {},
     "output_type": "execute_result"
    }
   ],
   "source": [
    "df3['region_code'].nunique()"
   ]
  },
  {
   "cell_type": "markdown",
   "id": "8cc3e345",
   "metadata": {
    "hidden": true
   },
   "source": [
    "53 categorias"
   ]
  },
  {
   "cell_type": "code",
   "execution_count": 32,
   "id": "c664366d",
   "metadata": {
    "ExecuteTime": {
     "end_time": "2022-05-10T13:22:43.819456Z",
     "start_time": "2022-05-10T13:22:43.789804Z"
    },
    "hidden": true,
    "scrolled": true
   },
   "outputs": [
    {
     "data": {
      "text/plain": [
       "28.0    0.279276\n",
       "8.0     0.088916\n",
       "46.0    0.051750\n",
       "41.0    0.047860\n",
       "15.0    0.034898\n",
       "Name: region_code, dtype: float64"
      ]
     },
     "execution_count": 32,
     "metadata": {},
     "output_type": "execute_result"
    }
   ],
   "source": [
    "df3['region_code'].value_counts(normalize=True).head(5)"
   ]
  },
  {
   "cell_type": "code",
   "execution_count": 33,
   "id": "27b30daa",
   "metadata": {
    "ExecuteTime": {
     "end_time": "2022-05-10T13:22:43.849495Z",
     "start_time": "2022-05-10T13:22:43.822520Z"
    },
    "hidden": true
   },
   "outputs": [
    {
     "data": {
      "text/plain": [
       "0.5026997241966426"
      ]
     },
     "execution_count": 33,
     "metadata": {},
     "output_type": "execute_result"
    }
   ],
   "source": [
    "df3['region_code'].value_counts(normalize=True).head(5).sum()"
   ]
  },
  {
   "cell_type": "markdown",
   "id": "4f8bad18",
   "metadata": {
    "hidden": true
   },
   "source": [
    "28% dos clientes está contido na região 28. 50% dos dados estão contidos nas 5 regiões mais densas."
   ]
  },
  {
   "cell_type": "code",
   "execution_count": 34,
   "id": "c9bac0be",
   "metadata": {
    "ExecuteTime": {
     "end_time": "2022-05-10T13:22:43.881438Z",
     "start_time": "2022-05-10T13:22:43.851398Z"
    },
    "hidden": true
   },
   "outputs": [
    {
     "data": {
      "text/html": [
       "<div>\n",
       "<style scoped>\n",
       "    .dataframe tbody tr th:only-of-type {\n",
       "        vertical-align: middle;\n",
       "    }\n",
       "\n",
       "    .dataframe tbody tr th {\n",
       "        vertical-align: top;\n",
       "    }\n",
       "\n",
       "    .dataframe thead th {\n",
       "        text-align: right;\n",
       "    }\n",
       "</style>\n",
       "<table border=\"1\" class=\"dataframe\">\n",
       "  <thead>\n",
       "    <tr style=\"text-align: right;\">\n",
       "      <th></th>\n",
       "      <th>region_code</th>\n",
       "      <th>response</th>\n",
       "    </tr>\n",
       "  </thead>\n",
       "  <tbody>\n",
       "    <tr>\n",
       "      <th>38</th>\n",
       "      <td>38.0</td>\n",
       "      <td>0.193949</td>\n",
       "    </tr>\n",
       "    <tr>\n",
       "      <th>28</th>\n",
       "      <td>28.0</td>\n",
       "      <td>0.187679</td>\n",
       "    </tr>\n",
       "    <tr>\n",
       "      <th>19</th>\n",
       "      <td>19.0</td>\n",
       "      <td>0.166545</td>\n",
       "    </tr>\n",
       "    <tr>\n",
       "      <th>51</th>\n",
       "      <td>51.0</td>\n",
       "      <td>0.164634</td>\n",
       "    </tr>\n",
       "    <tr>\n",
       "      <th>4</th>\n",
       "      <td>4.0</td>\n",
       "      <td>0.155226</td>\n",
       "    </tr>\n",
       "  </tbody>\n",
       "</table>\n",
       "</div>"
      ],
      "text/plain": [
       "    region_code  response\n",
       "38         38.0  0.193949\n",
       "28         28.0  0.187679\n",
       "19         19.0  0.166545\n",
       "51         51.0  0.164634\n",
       "4           4.0  0.155226"
      ]
     },
     "execution_count": 34,
     "metadata": {},
     "output_type": "execute_result"
    }
   ],
   "source": [
    "df3.groupby('region_code', as_index=False).agg({'response':'mean'}).sort_values('response', ascending=False).head(5)"
   ]
  },
  {
   "cell_type": "code",
   "execution_count": 35,
   "id": "d514b117",
   "metadata": {
    "ExecuteTime": {
     "end_time": "2022-05-10T13:22:43.912773Z",
     "start_time": "2022-05-10T13:22:43.883397Z"
    },
    "hidden": true
   },
   "outputs": [
    {
     "data": {
      "text/html": [
       "<div>\n",
       "<style scoped>\n",
       "    .dataframe tbody tr th:only-of-type {\n",
       "        vertical-align: middle;\n",
       "    }\n",
       "\n",
       "    .dataframe tbody tr th {\n",
       "        vertical-align: top;\n",
       "    }\n",
       "\n",
       "    .dataframe thead th {\n",
       "        text-align: right;\n",
       "    }\n",
       "</style>\n",
       "<table border=\"1\" class=\"dataframe\">\n",
       "  <thead>\n",
       "    <tr style=\"text-align: right;\">\n",
       "      <th></th>\n",
       "      <th>region_code</th>\n",
       "      <th>response</th>\n",
       "    </tr>\n",
       "  </thead>\n",
       "  <tbody>\n",
       "    <tr>\n",
       "      <th>50</th>\n",
       "      <td>50.0</td>\n",
       "      <td>0.063804</td>\n",
       "    </tr>\n",
       "    <tr>\n",
       "      <th>22</th>\n",
       "      <td>22.0</td>\n",
       "      <td>0.062128</td>\n",
       "    </tr>\n",
       "    <tr>\n",
       "      <th>10</th>\n",
       "      <td>10.0</td>\n",
       "      <td>0.060652</td>\n",
       "    </tr>\n",
       "    <tr>\n",
       "      <th>25</th>\n",
       "      <td>25.0</td>\n",
       "      <td>0.043282</td>\n",
       "    </tr>\n",
       "    <tr>\n",
       "      <th>44</th>\n",
       "      <td>44.0</td>\n",
       "      <td>0.037838</td>\n",
       "    </tr>\n",
       "  </tbody>\n",
       "</table>\n",
       "</div>"
      ],
      "text/plain": [
       "    region_code  response\n",
       "50         50.0  0.063804\n",
       "22         22.0  0.062128\n",
       "10         10.0  0.060652\n",
       "25         25.0  0.043282\n",
       "44         44.0  0.037838"
      ]
     },
     "execution_count": 35,
     "metadata": {},
     "output_type": "execute_result"
    }
   ],
   "source": [
    "df3.groupby('region_code', as_index=False).agg({'response':'mean'}).sort_values('response', ascending=False).tail(5)"
   ]
  },
  {
   "cell_type": "markdown",
   "id": "7abe33e3",
   "metadata": {
    "hidden": true
   },
   "source": [
    "As regiões com probabilidade de response mais alto estão com por volta de 19%, as regiões com probabilidades mais baixas estã em por volta de 4%"
   ]
  },
  {
   "cell_type": "code",
   "execution_count": 36,
   "id": "9fdd16df",
   "metadata": {
    "ExecuteTime": {
     "end_time": "2022-05-10T13:22:48.195345Z",
     "start_time": "2022-05-10T13:22:43.914737Z"
    },
    "hidden": true
   },
   "outputs": [
    {
     "data": {
      "image/png": "[encoded data removed]",
      "text/plain": [
       "<Figure size 1080x360 with 1 Axes>"
      ]
     },
     "metadata": {
      "needs_background": "light"
     },
     "output_type": "display_data"
    }
   ],
   "source": [
    "sns.catplot(x='region_code', y='response', data=df3, kind='bar', aspect=3)\n",
    "plt.title('Média de Response Segregado por Region Code')\n",
    "plt.xticks(range(0, int(df3['region_code'].max()), 10))\n",
    "plt.ylabel('Média de Response');"
   ]
  },
  {
   "cell_type": "markdown",
   "id": "f1305296",
   "metadata": {
    "hidden": true
   },
   "source": [
    "Médias de response bastante distintas, com desvios padrões baixos"
   ]
  },
  {
   "cell_type": "markdown",
   "id": "971d0d26",
   "metadata": {
    "heading_collapsed": true,
    "hidden": true
   },
   "source": [
    "#### vehicle_age"
   ]
  },
  {
   "cell_type": "code",
   "execution_count": 37,
   "id": "4c6f419b",
   "metadata": {
    "ExecuteTime": {
     "end_time": "2022-05-10T13:22:48.227375Z",
     "start_time": "2022-05-10T13:22:48.198286Z"
    },
    "hidden": true
   },
   "outputs": [
    {
     "data": {
      "text/plain": [
       "1-2 Year     0.525677\n",
       "< 1 Year     0.432317\n",
       "> 2 Years    0.042006\n",
       "Name: vehicle_age, dtype: float64"
      ]
     },
     "execution_count": 37,
     "metadata": {},
     "output_type": "execute_result"
    }
   ],
   "source": [
    "df3['vehicle_age'].value_counts(normalize=True)"
   ]
  },
  {
   "cell_type": "code",
   "execution_count": 38,
   "id": "bcbf8fd0",
   "metadata": {
    "ExecuteTime": {
     "end_time": "2022-05-10T13:22:52.319124Z",
     "start_time": "2022-05-10T13:22:48.230348Z"
    },
    "hidden": true
   },
   "outputs": [
    {
     "data": {
      "image/png": "[encoded data removed]",
      "text/plain": [
       "<Figure size 360x360 with 1 Axes>"
      ]
     },
     "metadata": {
      "needs_background": "light"
     },
     "output_type": "display_data"
    }
   ],
   "source": [
    "sns.catplot(x='vehicle_age', y='response', data=df3, kind='bar', order=['< 1 Year', '1-2 Year', '> 2 Years'])\n",
    "plt.ylabel('Média de Response')\n",
    "plt.title('Média de Response Segregado por Vehicle Age');"
   ]
  },
  {
   "cell_type": "markdown",
   "id": "354363aa",
   "metadata": {
    "hidden": true
   },
   "source": [
    "Médias de response bastante distintas"
   ]
  },
  {
   "cell_type": "markdown",
   "id": "0dbf027f",
   "metadata": {
    "heading_collapsed": true,
    "hidden": true
   },
   "source": [
    "#### vehicle_damage"
   ]
  },
  {
   "cell_type": "code",
   "execution_count": 39,
   "id": "97d1f562",
   "metadata": {
    "ExecuteTime": {
     "end_time": "2022-05-10T13:22:52.351129Z",
     "start_time": "2022-05-10T13:22:52.322127Z"
    },
    "hidden": true,
    "scrolled": true
   },
   "outputs": [
    {
     "data": {
      "text/plain": [
       "Yes    0.504837\n",
       "No     0.495163\n",
       "Name: vehicle_damage, dtype: float64"
      ]
     },
     "execution_count": 39,
     "metadata": {},
     "output_type": "execute_result"
    }
   ],
   "source": [
    "df3['vehicle_damage'].value_counts(normalize=True)"
   ]
  },
  {
   "cell_type": "code",
   "execution_count": 40,
   "id": "31153637",
   "metadata": {
    "ExecuteTime": {
     "end_time": "2022-05-10T13:22:59.024081Z",
     "start_time": "2022-05-10T13:22:52.353128Z"
    },
    "hidden": true,
    "scrolled": false
   },
   "outputs": [
    {
     "data": {
      "image/png": "[encoded data removed]",
      "text/plain": [
       "<Figure size 360x360 with 1 Axes>"
      ]
     },
     "metadata": {
      "needs_background": "light"
     },
     "output_type": "display_data"
    }
   ],
   "source": [
    "sns.catplot(x='vehicle_damage', y='response', data=df3, kind='bar')\n",
    "plt.title('Média de Response Segregado por Vehicle Damage')\n",
    "plt.ylabel('Média de Response');"
   ]
  },
  {
   "cell_type": "code",
   "execution_count": 41,
   "id": "59716533",
   "metadata": {
    "ExecuteTime": {
     "end_time": "2022-05-10T13:22:59.147545Z",
     "start_time": "2022-05-10T13:22:59.027983Z"
    },
    "hidden": true
   },
   "outputs": [
    {
     "name": "stdout",
     "output_type": "stream",
     "text": [
      "Clientes que já tiveram danos tem: 23.83% de response\n",
      "Clientes que NÃO tiveram danos tem: 0.51% de response\n"
     ]
    }
   ],
   "source": [
    "print(f'Clientes que já tiveram danos tem: {round(df3.loc[df3[\"vehicle_damage\"]==\"Yes\", \"response\"].mean()*100, 2)}% de response')\n",
    "print(f'Clientes que NÃO tiveram danos tem: {round(df3.loc[df3[\"vehicle_damage\"]==\"No\", \"response\"].mean()*100, 2)}% de response')"
   ]
  },
  {
   "cell_type": "markdown",
   "id": "401421eb",
   "metadata": {
    "hidden": true
   },
   "source": [
    "Clientes que já tiveram danos no seu veículo tem 24% de response, enquanto clientes que não tiveram danos têm por volta de 1%"
   ]
  },
  {
   "cell_type": "markdown",
   "id": "383d1861",
   "metadata": {
    "heading_collapsed": true,
    "hidden": true
   },
   "source": [
    "#### annual_premium"
   ]
  },
  {
   "cell_type": "code",
   "execution_count": 42,
   "id": "8acba85d",
   "metadata": {
    "ExecuteTime": {
     "end_time": "2022-05-10T13:22:59.384883Z",
     "start_time": "2022-05-10T13:22:59.151931Z"
    },
    "hidden": true
   },
   "outputs": [
    {
     "data": {
      "image/png": "[encoded data removed]",
      "text/plain": [
       "<Figure size 432x288 with 1 Axes>"
      ]
     },
     "metadata": {
      "needs_background": "light"
     },
     "output_type": "display_data"
    }
   ],
   "source": [
    "sns.boxplot(x='annual_premium', data=df3)\n",
    "plt.title('Quartis de Annual Premium');"
   ]
  },
  {
   "cell_type": "markdown",
   "id": "fc09efe2",
   "metadata": {
    "hidden": true
   },
   "source": [
    "Muitos outliers"
   ]
  },
  {
   "cell_type": "code",
   "execution_count": 43,
   "id": "fd047405",
   "metadata": {
    "ExecuteTime": {
     "end_time": "2022-05-10T13:22:59.415036Z",
     "start_time": "2022-05-10T13:22:59.388884Z"
    },
    "hidden": true
   },
   "outputs": [
    {
     "name": "stdout",
     "output_type": "stream",
     "text": [
      "Há 1897 outliers no total\n"
     ]
    }
   ],
   "source": [
    "índices, li, ls = buscar_outlier(df3, 'annual_premium')\n",
    "\n",
    "print(f'Há {len(índices)} outliers no total')"
   ]
  },
  {
   "cell_type": "code",
   "execution_count": 44,
   "id": "8dc53c76",
   "metadata": {
    "ExecuteTime": {
     "end_time": "2022-05-10T13:23:00.108731Z",
     "start_time": "2022-05-10T13:22:59.417914Z"
    },
    "hidden": true
   },
   "outputs": [
    {
     "data": {
      "image/png": "[encoded data removed]",
      "text/plain": [
       "<Figure size 432x288 with 1 Axes>"
      ]
     },
     "metadata": {
      "needs_background": "light"
     },
     "output_type": "display_data"
    }
   ],
   "source": [
    "sns.histplot(df3.drop(índices)['annual_premium'], bins=20)\n",
    "plt.title('Distribuição de Annual Premium');"
   ]
  },
  {
   "cell_type": "markdown",
   "id": "4b1cb89a",
   "metadata": {
    "hidden": true
   },
   "source": [
    "Com exceção das amostras com valor mais baixo (fixo), a distribuição é bastante parecida com uma normal"
   ]
  },
  {
   "cell_type": "code",
   "execution_count": 45,
   "id": "6061896b",
   "metadata": {
    "ExecuteTime": {
     "end_time": "2022-05-10T13:23:00.169951Z",
     "start_time": "2022-05-10T13:23:00.111942Z"
    },
    "hidden": true,
    "scrolled": true
   },
   "outputs": [
    {
     "data": {
      "text/plain": [
       "2630.0     0.170246\n",
       "69856.0    0.000382\n",
       "39008.0    0.000105\n",
       "36086.0    0.000099\n",
       "38287.0    0.000096\n",
       "Name: annual_premium, dtype: float64"
      ]
     },
     "execution_count": 45,
     "metadata": {},
     "output_type": "execute_result"
    }
   ],
   "source": [
    "df3['annual_premium'].value_counts(normalize=True).head(5)"
   ]
  },
  {
   "cell_type": "markdown",
   "id": "55ce93bc",
   "metadata": {
    "hidden": true
   },
   "source": [
    "17% dos clientes estão contidos em um valor discreto de 2630 dollares. Um estudo separadamente para este grupo pode ser interessante."
   ]
  },
  {
   "cell_type": "code",
   "execution_count": 46,
   "id": "0bfa1a9f",
   "metadata": {
    "ExecuteTime": {
     "end_time": "2022-05-10T13:23:00.201222Z",
     "start_time": "2022-05-10T13:23:00.174507Z"
    },
    "hidden": true
   },
   "outputs": [
    {
     "name": "stdout",
     "output_type": "stream",
     "text": [
      "A média de interesse no produto do grupo de clientes com valor FIXO de seguro: 13.15%\n",
      "A média de interesse no produto do grupo de clientes com valor VARIÁVEL SUPERIOR de seguro: 12.11%\n"
     ]
    }
   ],
   "source": [
    "print(f'A média de interesse no produto do grupo de clientes com valor FIXO de seguro: {round(df3.loc[df3[\"annual_premium\"]==2630, \"response\"].mean()*100, 2)}%')\n",
    "print(f'A média de interesse no produto do grupo de clientes com valor VARIÁVEL SUPERIOR de seguro: {round(df3.loc[df3[\"annual_premium\"]!=2630, \"response\"].mean()*100, 2)}%')"
   ]
  },
  {
   "cell_type": "markdown",
   "id": "c953c0dd",
   "metadata": {
    "hidden": true
   },
   "source": [
    "O interesse no produto não é significativamente diferente entre os dois grupos de clientes"
   ]
  },
  {
   "cell_type": "markdown",
   "id": "65122375",
   "metadata": {
    "hidden": true
   },
   "source": [
    "Para uma melhor visualização, os dados serão filtrados provisioriamente até 100000 dollares"
   ]
  },
  {
   "cell_type": "code",
   "execution_count": 47,
   "id": "6776dc47",
   "metadata": {
    "ExecuteTime": {
     "end_time": "2022-05-10T13:23:03.931186Z",
     "start_time": "2022-05-10T13:23:00.204261Z"
    },
    "hidden": true
   },
   "outputs": [
    {
     "data": {
      "image/png": "[encoded data removed]",
      "text/plain": [
       "<Figure size 432x288 with 2 Axes>"
      ]
     },
     "metadata": {
      "needs_background": "light"
     },
     "output_type": "display_data"
    }
   ],
   "source": [
    "temp = df3.loc[(df3['annual_premium']>2630)&(df3['annual_premium']<100000)]\n",
    "\n",
    "plt.subplot(2, 1, 1)\n",
    "plt.title('Distribuição e Densidade de Annual Premium Segregado por Response')\n",
    "g = sns.histplot(temp.loc[temp['response']==0, 'annual_premium'], color='r', alpha=0.5, bins=20)\n",
    "g = sns.histplot(temp.loc[temp['response']==1, 'annual_premium'], color='b', alpha=0.5, bins=20)\n",
    "plt.subplot(2, 1, 2)\n",
    "g = sns.kdeplot(temp.loc[temp['response']==0, 'annual_premium'], color='r', alpha=0.5)\n",
    "g = sns.kdeplot(temp.loc[temp['response']==1, 'annual_premium'], color='b', alpha=0.5)"
   ]
  },
  {
   "cell_type": "markdown",
   "id": "bca70a9c",
   "metadata": {
    "hidden": true
   },
   "source": [
    "Aparentemente acima do terceiro quartil da distribuição há um interesse maior no produto"
   ]
  },
  {
   "cell_type": "code",
   "execution_count": 48,
   "id": "c2434ca9",
   "metadata": {
    "ExecuteTime": {
     "end_time": "2022-05-10T13:23:04.247577Z",
     "start_time": "2022-05-10T13:23:03.936093Z"
    },
    "hidden": true
   },
   "outputs": [
    {
     "data": {
      "image/png": "[encoded data removed]",
      "text/plain": [
       "<Figure size 432x288 with 1 Axes>"
      ]
     },
     "metadata": {
      "needs_background": "light"
     },
     "output_type": "display_data"
    }
   ],
   "source": [
    "plt.title('Média de Annual Premium Segregados por Response')\n",
    "sns.boxplot(x='response', y='annual_premium', data=temp);"
   ]
  },
  {
   "cell_type": "markdown",
   "id": "1466edcb",
   "metadata": {
    "hidden": true
   },
   "source": [
    "Sem diferença significativa"
   ]
  },
  {
   "cell_type": "markdown",
   "id": "77a08712",
   "metadata": {
    "heading_collapsed": true,
    "hidden": true
   },
   "source": [
    "#### policy_sales_channel"
   ]
  },
  {
   "cell_type": "code",
   "execution_count": 49,
   "id": "79cb9ba9",
   "metadata": {
    "ExecuteTime": {
     "end_time": "2022-05-10T13:23:04.293058Z",
     "start_time": "2022-05-10T13:23:04.251581Z"
    },
    "hidden": true,
    "scrolled": true
   },
   "outputs": [
    {
     "data": {
      "text/plain": [
       "152.0    0.353646\n",
       "26.0     0.209535\n",
       "124.0    0.194290\n",
       "160.0    0.056822\n",
       "156.0    0.027919\n",
       "Name: policy_sales_channel, dtype: float64"
      ]
     },
     "execution_count": 49,
     "metadata": {},
     "output_type": "execute_result"
    }
   ],
   "source": [
    "df3['policy_sales_channel'].value_counts(normalize=True).head(5)"
   ]
  },
  {
   "cell_type": "code",
   "execution_count": 50,
   "id": "a425764d",
   "metadata": {
    "ExecuteTime": {
     "end_time": "2022-05-10T13:23:04.323835Z",
     "start_time": "2022-05-10T13:23:04.296365Z"
    },
    "hidden": true
   },
   "outputs": [],
   "source": [
    "canais_mais_utilizados = df3['policy_sales_channel'].value_counts(normalize=True).head(5).index"
   ]
  },
  {
   "cell_type": "code",
   "execution_count": 51,
   "id": "febe78e3",
   "metadata": {
    "ExecuteTime": {
     "end_time": "2022-05-10T13:23:04.355568Z",
     "start_time": "2022-05-10T13:23:04.327139Z"
    },
    "hidden": true
   },
   "outputs": [
    {
     "name": "stdout",
     "output_type": "stream",
     "text": [
      "5 categorias contém 84.22% do total de clientes\n"
     ]
    }
   ],
   "source": [
    "print(f'5 categorias contém {round(df3[\"policy_sales_channel\"].value_counts(normalize=True).head(5).sum()*100, 2)}% do total de clientes')"
   ]
  },
  {
   "cell_type": "code",
   "execution_count": 52,
   "id": "f787b51e",
   "metadata": {
    "ExecuteTime": {
     "end_time": "2022-05-10T13:23:19.007185Z",
     "start_time": "2022-05-10T13:23:04.359995Z"
    },
    "hidden": true,
    "scrolled": false
   },
   "outputs": [
    {
     "data": {
      "image/png": "[encoded data removed]",
      "text/plain": [
       "<Figure size 1080x360 with 1 Axes>"
      ]
     },
     "metadata": {
      "needs_background": "light"
     },
     "output_type": "display_data"
    }
   ],
   "source": [
    "sns.catplot(x='policy_sales_channel', y='response', data=df3, kind='bar', aspect=3)\n",
    "plt.xticks(range(0, int(df3['policy_sales_channel'].max()), 10))\n",
    "plt.title('Média de Response Segregada por Policy Sales Channel')\n",
    "plt.ylabel('Média de Response');"
   ]
  },
  {
   "cell_type": "markdown",
   "id": "1c634ebd",
   "metadata": {
    "hidden": true
   },
   "source": [
    "Médias de response por canais de Policy_Sales_Channel bastante distintas"
   ]
  },
  {
   "cell_type": "code",
   "execution_count": 53,
   "id": "92a4c4d7",
   "metadata": {
    "ExecuteTime": {
     "end_time": "2022-05-10T13:23:19.100782Z",
     "start_time": "2022-05-10T13:23:19.012339Z"
    },
    "hidden": true
   },
   "outputs": [
    {
     "data": {
      "text/html": [
       "<div>\n",
       "<style scoped>\n",
       "    .dataframe tbody tr th:only-of-type {\n",
       "        vertical-align: middle;\n",
       "    }\n",
       "\n",
       "    .dataframe tbody tr th {\n",
       "        vertical-align: top;\n",
       "    }\n",
       "\n",
       "    .dataframe thead th {\n",
       "        text-align: right;\n",
       "    }\n",
       "</style>\n",
       "<table border=\"1\" class=\"dataframe\">\n",
       "  <thead>\n",
       "    <tr style=\"text-align: right;\">\n",
       "      <th></th>\n",
       "      <th>policy_sales_channel</th>\n",
       "      <th>response_count</th>\n",
       "      <th>response_mean</th>\n",
       "    </tr>\n",
       "  </thead>\n",
       "  <tbody>\n",
       "    <tr>\n",
       "      <th>145</th>\n",
       "      <td>152.0</td>\n",
       "      <td>121300</td>\n",
       "      <td>0.028904</td>\n",
       "    </tr>\n",
       "    <tr>\n",
       "      <th>24</th>\n",
       "      <td>26.0</td>\n",
       "      <td>71870</td>\n",
       "      <td>0.200028</td>\n",
       "    </tr>\n",
       "    <tr>\n",
       "      <th>119</th>\n",
       "      <td>124.0</td>\n",
       "      <td>66641</td>\n",
       "      <td>0.189238</td>\n",
       "    </tr>\n",
       "    <tr>\n",
       "      <th>153</th>\n",
       "      <td>160.0</td>\n",
       "      <td>19490</td>\n",
       "      <td>0.021755</td>\n",
       "    </tr>\n",
       "    <tr>\n",
       "      <th>149</th>\n",
       "      <td>156.0</td>\n",
       "      <td>9576</td>\n",
       "      <td>0.215434</td>\n",
       "    </tr>\n",
       "  </tbody>\n",
       "</table>\n",
       "</div>"
      ],
      "text/plain": [
       "     policy_sales_channel  response_count  response_mean\n",
       "145                 152.0          121300       0.028904\n",
       "24                   26.0           71870       0.200028\n",
       "119                 124.0           66641       0.189238\n",
       "153                 160.0           19490       0.021755\n",
       "149                 156.0            9576       0.215434"
      ]
     },
     "execution_count": 53,
     "metadata": {},
     "output_type": "execute_result"
    }
   ],
   "source": [
    "temp = df3.groupby('policy_sales_channel', as_index=False).agg({'response':'count'})\n",
    "temp.rename(columns={'response':'response_count'}, inplace=True)\n",
    "\n",
    "temp2 = df3.groupby('policy_sales_channel', as_index=False).agg({'response':'mean'})\n",
    "temp2.rename(columns={'response':'response_mean'}, inplace=True)\n",
    "\n",
    "temp3 = temp.merge(temp2, how='left', on='policy_sales_channel')\n",
    "temp3.sort_values('response_count', ascending=False).head(5)"
   ]
  },
  {
   "cell_type": "markdown",
   "id": "98513f29",
   "metadata": {
    "hidden": true
   },
   "source": [
    "Os canais mais utilizados apresentam médias de response bastante diferentes da média global, os canal 152 é o mais utilizado e apresenta 2% de interesse no produto, o canal 155 apresenta 2%, já os canais 26, 124 e 156 apresentam por volta de 20% de interesse no produto"
   ]
  },
  {
   "cell_type": "markdown",
   "id": "4026bd69",
   "metadata": {
    "heading_collapsed": true,
    "hidden": true
   },
   "source": [
    "#### vintage"
   ]
  },
  {
   "cell_type": "code",
   "execution_count": 54,
   "id": "03cf74d1",
   "metadata": {
    "ExecuteTime": {
     "end_time": "2022-05-10T13:23:41.874386Z",
     "start_time": "2022-05-10T13:23:19.105922Z"
    },
    "hidden": true,
    "scrolled": false
   },
   "outputs": [
    {
     "data": {
      "image/png": "[encoded data removed]",
      "text/plain": [
       "<Figure size 1080x360 with 1 Axes>"
      ]
     },
     "metadata": {
      "needs_background": "light"
     },
     "output_type": "display_data"
    }
   ],
   "source": [
    "sns.catplot(x='vintage', y='response', data=df3, kind='bar', aspect=3)\n",
    "plt.title('Média de Response Segregado por Vintage')\n",
    "plt.ylabel('Média de Response')\n",
    "plt.xticks(range(0, df3['vintage'].max(), 20));"
   ]
  },
  {
   "cell_type": "markdown",
   "id": "d54e8098",
   "metadata": {
    "hidden": true
   },
   "source": [
    "Muito ruidoso, os desvios padrões colocam tudo no mesmo nível."
   ]
  },
  {
   "cell_type": "markdown",
   "id": "9cffaee2",
   "metadata": {
    "heading_collapsed": true,
    "hidden": true
   },
   "source": [
    "## 3.3 Bivariate Analysis"
   ]
  },
  {
   "cell_type": "code",
   "execution_count": null,
   "id": "d2e2a1d7",
   "metadata": {
    "hidden": true
   },
   "outputs": [],
   "source": []
  },
  {
   "cell_type": "markdown",
   "id": "c24a6e93",
   "metadata": {
    "heading_collapsed": true,
    "hidden": true
   },
   "source": [
    "## 3.4 Multivariate Analysis"
   ]
  },
  {
   "cell_type": "markdown",
   "id": "950a3a65",
   "metadata": {
    "heading_collapsed": true,
    "hidden": true
   },
   "source": [
    "### 3.4.1 Numerical Attributes"
   ]
  },
  {
   "cell_type": "code",
   "execution_count": 55,
   "id": "228e6321",
   "metadata": {
    "ExecuteTime": {
     "end_time": "2022-05-10T13:23:42.045093Z",
     "start_time": "2022-05-10T13:23:41.877700Z"
    },
    "hidden": true
   },
   "outputs": [
    {
     "data": {
      "image/png": "[encoded data removed]",
      "text/plain": [
       "<Figure size 432x288 with 1 Axes>"
      ]
     },
     "metadata": {
      "needs_background": "light"
     },
     "output_type": "display_data"
    }
   ],
   "source": [
    "sns.heatmap(df3[numerical_attributes].corr(), annot=True, cbar=False);"
   ]
  },
  {
   "cell_type": "markdown",
   "id": "aec305cc",
   "metadata": {
    "heading_collapsed": true,
    "hidden": true
   },
   "source": [
    "### 3.4.1 Categorical Attributes"
   ]
  },
  {
   "cell_type": "code",
   "execution_count": 56,
   "id": "dc753b15",
   "metadata": {
    "ExecuteTime": {
     "end_time": "2022-05-10T13:23:51.777177Z",
     "start_time": "2022-05-10T13:23:42.048624Z"
    },
    "hidden": true,
    "scrolled": false
   },
   "outputs": [
    {
     "data": {
      "image/png": "[encoded data removed]",
      "text/plain": [
       "<Figure size 432x288 with 1 Axes>"
      ]
     },
     "metadata": {
      "needs_background": "light"
     },
     "output_type": "display_data"
    }
   ],
   "source": [
    "cramer_correlation = []\n",
    "\n",
    "for i, col_1 in enumerate(categorical_attributes):\n",
    "    for j, col_2 in enumerate(categorical_attributes):\n",
    "        cramer_correlation.append(cramer_v(df3[col_1], df3[col_2]))\n",
    "        \n",
    "matrix = pd.DataFrame(np.array(cramer_correlation).reshape(8, 8), index=categorical_attributes, columns=categorical_attributes)\n",
    "\n",
    "sns.heatmap(matrix, annot=True, cbar=False);"
   ]
  },
  {
   "cell_type": "markdown",
   "id": "f4c05d43",
   "metadata": {
    "heading_collapsed": true
   },
   "source": [
    "# 4.0 Data Filtering"
   ]
  },
  {
   "cell_type": "code",
   "execution_count": 57,
   "id": "54623966",
   "metadata": {
    "ExecuteTime": {
     "end_time": "2022-05-10T13:23:51.808410Z",
     "start_time": "2022-05-10T13:23:51.781183Z"
    },
    "hidden": true
   },
   "outputs": [],
   "source": [
    "df4 = df3.copy()"
   ]
  },
  {
   "cell_type": "markdown",
   "id": "66cb92e8",
   "metadata": {
    "heading_collapsed": true,
    "hidden": true
   },
   "source": [
    "## 4.1 Columns"
   ]
  },
  {
   "cell_type": "code",
   "execution_count": null,
   "id": "541db307",
   "metadata": {
    "hidden": true
   },
   "outputs": [],
   "source": []
  },
  {
   "cell_type": "markdown",
   "id": "b8330e15",
   "metadata": {
    "heading_collapsed": true,
    "hidden": true
   },
   "source": [
    "## 4.2 Rows"
   ]
  },
  {
   "cell_type": "code",
   "execution_count": null,
   "id": "6a5c4247",
   "metadata": {
    "hidden": true
   },
   "outputs": [],
   "source": []
  },
  {
   "cell_type": "markdown",
   "id": "f4082a19",
   "metadata": {
    "heading_collapsed": true
   },
   "source": [
    "# 5.0 Data Preparation"
   ]
  },
  {
   "cell_type": "code",
   "execution_count": 58,
   "id": "51d8c860",
   "metadata": {
    "ExecuteTime": {
     "end_time": "2022-05-10T13:23:51.839776Z",
     "start_time": "2022-05-10T13:23:51.813484Z"
    },
    "hidden": true
   },
   "outputs": [],
   "source": [
    "# backup\n",
    "df5 = df4.copy()"
   ]
  },
  {
   "cell_type": "markdown",
   "id": "3b9fefe1",
   "metadata": {
    "heading_collapsed": true,
    "hidden": true
   },
   "source": [
    "## 5.1 Normalization"
   ]
  },
  {
   "cell_type": "code",
   "execution_count": 59,
   "id": "ec94ae55",
   "metadata": {
    "ExecuteTime": {
     "end_time": "2022-05-10T13:23:51.886650Z",
     "start_time": "2022-05-10T13:23:51.844781Z"
    },
    "hidden": true
   },
   "outputs": [],
   "source": [
    "# annual_premium\n",
    "ss = StandardScaler()\n",
    "ss_annual_premium = ss.fit(df5[['annual_premium']].values)\n",
    "df5['annual_premium'] = ss_annual_premium.transform(df5[['annual_premium']].values)"
   ]
  },
  {
   "cell_type": "markdown",
   "id": "099a0bac",
   "metadata": {
    "hidden": true
   },
   "source": [
    "annual_premium foi transformada pelo método standardscaler porque tem distribuição parecida com uma normal"
   ]
  },
  {
   "cell_type": "markdown",
   "id": "f353da0f",
   "metadata": {
    "heading_collapsed": true,
    "hidden": true
   },
   "source": [
    "## 5.2 Rescaling"
   ]
  },
  {
   "cell_type": "code",
   "execution_count": 60,
   "id": "0939f812",
   "metadata": {
    "ExecuteTime": {
     "end_time": "2022-05-10T13:23:51.934182Z",
     "start_time": "2022-05-10T13:23:51.890925Z"
    },
    "hidden": true
   },
   "outputs": [],
   "source": [
    "# age by the method minmaxscaler\n",
    "mm = MinMaxScaler()\n",
    "mm_age = mm.fit(df5[['age']].values)\n",
    "df5['age'] = mm_age.transform(df5[['age']].values)"
   ]
  },
  {
   "cell_type": "markdown",
   "id": "554530b9",
   "metadata": {
    "hidden": true
   },
   "source": [
    "age foi transformada pelo método minmaxscaler porque não parece com uma normal, e não houve necessidade de utilizar um método robusto contra outliers"
   ]
  },
  {
   "cell_type": "markdown",
   "id": "40691614",
   "metadata": {
    "heading_collapsed": true,
    "hidden": true
   },
   "source": [
    "## 5.3 Transformation"
   ]
  },
  {
   "cell_type": "markdown",
   "id": "63ee6e5f",
   "metadata": {
    "heading_collapsed": true,
    "hidden": true
   },
   "source": [
    "### 5.3.1 Encoding"
   ]
  },
  {
   "cell_type": "code",
   "execution_count": 61,
   "id": "6fba6d3e",
   "metadata": {
    "ExecuteTime": {
     "end_time": "2022-05-10T13:23:52.170085Z",
     "start_time": "2022-05-10T13:23:51.938101Z"
    },
    "hidden": true
   },
   "outputs": [],
   "source": [
    "# vehicle_age by the method labelencoding\n",
    "map_vehicle_age = {'< 1 Year': 1, '1-2 Year': 2, '> 2 Years': 3}\n",
    "df5['vehicle_age'] = df5['vehicle_age'].map(map_vehicle_age)\n",
    "\n",
    "# gender\n",
    "map_gender = {'Male':0, 'Female':1}\n",
    "df5['gender'] = df5['gender'].map(map_gender)\n",
    "\n",
    "# vehicle_damage\n",
    "map_vehicle_damage = {'Yes':1, 'No':0}\n",
    "df5['vehicle_damage'] = df5['vehicle_damage'].map(map_vehicle_damage)\n",
    "\n",
    "# region_code by the method target_encoding\n",
    "map_region_code = df5.groupby('region_code').agg({'response':'mean'})['response']\n",
    "df5['region_code'] = df5['region_code'].map(map_region_code)\n",
    "\n",
    "# policy_sales_channel\n",
    "map_policy_sales_channel = df5.groupby('policy_sales_channel').agg({'response':'mean'})['response']\n",
    "df5['policy_sales_channel'] = df5['policy_sales_channel'].map(map_policy_sales_channel)"
   ]
  },
  {
   "cell_type": "markdown",
   "id": "25426b9c",
   "metadata": {
    "heading_collapsed": true,
    "hidden": true
   },
   "source": [
    "### 5.3.2 Nature Transformation"
   ]
  },
  {
   "cell_type": "code",
   "execution_count": 62,
   "id": "9cdae50e",
   "metadata": {
    "ExecuteTime": {
     "end_time": "2022-05-10T13:23:58.269265Z",
     "start_time": "2022-05-10T13:23:52.174352Z"
    },
    "hidden": true
   },
   "outputs": [],
   "source": [
    "# vintage\n",
    "cicle = df5['vintage'].max() - df5['vintage'].min()\n",
    "df5['vintage_sin'] = df5['vintage'].apply(lambda x: np.sin(x* (2*np.pi/cicle)))\n",
    "df5['vintage_cos'] = df5['vintage'].apply(lambda x: np.cos(x* (2*np.pi/cicle)))\n",
    "df5.drop('vintage', axis=1, inplace=True)"
   ]
  },
  {
   "cell_type": "markdown",
   "id": "623157e2",
   "metadata": {
    "heading_collapsed": true,
    "hidden": true
   },
   "source": [
    "## 5.4 Splitings"
   ]
  },
  {
   "cell_type": "code",
   "execution_count": 63,
   "id": "37408a8e",
   "metadata": {
    "ExecuteTime": {
     "end_time": "2022-05-10T13:23:58.458496Z",
     "start_time": "2022-05-10T13:23:58.274209Z"
    },
    "hidden": true
   },
   "outputs": [],
   "source": [
    "# spliting X and y\n",
    "X = df5.drop(['response', 'id'], axis=1)\n",
    "X = np.array(X)\n",
    "y = df5['response'].copy()\n",
    "y = np.array(y).reshape(1, len(y))[0]\n",
    "\n",
    "# spliting train and validation\n",
    "X_train, X_val, y_train, y_val = train_test_split(X, y, test_size=0.2, random_state=101)"
   ]
  },
  {
   "cell_type": "markdown",
   "id": "2d11e3ed",
   "metadata": {
    "heading_collapsed": true,
    "hidden": true
   },
   "source": [
    "## 5.5 Balancing"
   ]
  },
  {
   "cell_type": "code",
   "execution_count": 64,
   "id": "431e3994",
   "metadata": {
    "ExecuteTime": {
     "end_time": "2022-05-10T13:24:00.878162Z",
     "start_time": "2022-05-10T13:23:58.462338Z"
    },
    "hidden": true
   },
   "outputs": [],
   "source": [
    "smote = SMOTE()\n",
    "\n",
    "X_train_smote, y_train_smote = smote.fit_resample(X_train, y_train)"
   ]
  },
  {
   "cell_type": "markdown",
   "id": "94fc2d33",
   "metadata": {
    "heading_collapsed": true,
    "hidden": true
   },
   "source": [
    "## 5.6 Test Preparation"
   ]
  },
  {
   "cell_type": "code",
   "execution_count": 65,
   "id": "7d5a9b57",
   "metadata": {
    "ExecuteTime": {
     "end_time": "2022-05-10T13:24:01.633543Z",
     "start_time": "2022-05-10T13:24:00.882610Z"
    },
    "hidden": true
   },
   "outputs": [],
   "source": [
    "# lowercase columns\n",
    "cols_lowercase = ' '.join(test.columns.to_list()).lower().split()\n",
    "test.columns = cols_lowercase\n",
    "\n",
    "# annual_premium\n",
    "test['annual_premium'] = ss_annual_premium.transform(test[['annual_premium']].values)\n",
    "\n",
    "# age by the method minmaxscaler\n",
    "test['age'] = mm_age.transform(test[['age']].values)\n",
    "\n",
    "# vehicle_age by the method labelencoding\n",
    "test['vehicle_age'] = test['vehicle_age'].map(map_vehicle_age)\n",
    "\n",
    "# gender\n",
    "test['gender'] = test['gender'].map(map_gender)\n",
    "\n",
    "# vehicle_damage\n",
    "test['vehicle_damage'] = test['vehicle_damage'].map(map_vehicle_damage)\n",
    "\n",
    "# region_code by the method target_encoding\n",
    "test['region_code'] = test['region_code'].map(map_region_code)\n",
    "\n",
    "# policy_sales_channel\n",
    "test['policy_sales_channel'] = test['policy_sales_channel'].map(map_policy_sales_channel)\n",
    "\n",
    "# vintage\n",
    "cicle = test['vintage'].max() - test['vintage'].min()\n",
    "test['vintage_sin'] = test['vintage'].apply(lambda x: np.sin(x* (2*np.pi/cicle)))\n",
    "test['vintage_cos'] = test['vintage'].apply(lambda x: np.cos(x* (2*np.pi/cicle)))\n",
    "test.drop('vintage', axis=1, inplace=True)"
   ]
  },
  {
   "cell_type": "markdown",
   "id": "cf542f56",
   "metadata": {
    "heading_collapsed": true,
    "id": "O5JNrPUBwgK_"
   },
   "source": [
    "# 6.0 Feature Selection"
   ]
  },
  {
   "cell_type": "code",
   "execution_count": 66,
   "id": "fcc9e032",
   "metadata": {
    "ExecuteTime": {
     "end_time": "2022-05-10T13:24:01.664541Z",
     "start_time": "2022-05-10T13:24:01.637462Z"
    },
    "hidden": true
   },
   "outputs": [],
   "source": [
    "df6 = df5.copy()"
   ]
  },
  {
   "cell_type": "markdown",
   "id": "a23f4826",
   "metadata": {
    "heading_collapsed": true,
    "hidden": true
   },
   "source": [
    "## 6.1 Importances"
   ]
  },
  {
   "cell_type": "markdown",
   "id": "13b1dcbb",
   "metadata": {
    "heading_collapsed": true,
    "hidden": true,
    "id": "LQkDdBsliGe5"
   },
   "source": [
    "### 6.1.1 Random Forest"
   ]
  },
  {
   "cell_type": "code",
   "execution_count": 67,
   "id": "6051a85e",
   "metadata": {
    "ExecuteTime": {
     "end_time": "2022-05-10T13:26:01.838849Z",
     "start_time": "2022-05-10T13:24:01.668546Z"
    },
    "colab": {
     "base_uri": "https://localhost:8080/"
    },
    "hidden": true,
    "id": "CSMecOxSyu3T",
    "outputId": "6d74362a-3ecd-4018-f86a-ddf34b3a0ff3",
    "scrolled": false
   },
   "outputs": [
    {
     "name": "stdout",
     "output_type": "stream",
     "text": [
      "              precision    recall  f1-score   support\n",
      "\n",
      "           0       0.97      0.72      0.82     60143\n",
      "           1       0.30      0.86      0.44      8457\n",
      "\n",
      "    accuracy                           0.73     68600\n",
      "   macro avg       0.64      0.79      0.63     68600\n",
      "weighted avg       0.89      0.73      0.78     68600\n",
      "\n"
     ]
    }
   ],
   "source": [
    "# model definition\n",
    "rf_model = RandomForestClassifier(n_estimators=100, min_samples_leaf=1000, random_state=101)\n",
    "\n",
    "# fiting model\n",
    "rf_fit = rf_model.fit(X_train_smote, y_train_smote)\n",
    "\n",
    "# predicting\n",
    "rf_predict = rf_fit.predict(X_val)\n",
    "\n",
    "# metricss\n",
    "print(classification_report(y_val, rf_predict))"
   ]
  },
  {
   "cell_type": "markdown",
   "id": "d20e93ce",
   "metadata": {
    "heading_collapsed": true,
    "hidden": true,
    "id": "ijExdiKLiY_J"
   },
   "source": [
    "### 6.1.2 XGBoost"
   ]
  },
  {
   "cell_type": "code",
   "execution_count": 68,
   "id": "27abc7de",
   "metadata": {
    "ExecuteTime": {
     "end_time": "2022-05-10T13:26:35.390597Z",
     "start_time": "2022-05-10T13:26:01.842062Z"
    },
    "colab": {
     "base_uri": "https://localhost:8080/"
    },
    "hidden": true,
    "id": "a1QPpwuwiY_K",
    "outputId": "d2b2758e-6d42-4459-c8a5-8415789a287a",
    "scrolled": true
   },
   "outputs": [
    {
     "name": "stdout",
     "output_type": "stream",
     "text": [
      "              precision    recall  f1-score   support\n",
      "\n",
      "           0       0.89      0.97      0.93     60143\n",
      "           1       0.41      0.16      0.23      8457\n",
      "\n",
      "    accuracy                           0.87     68600\n",
      "   macro avg       0.65      0.56      0.58     68600\n",
      "weighted avg       0.83      0.87      0.84     68600\n",
      "\n"
     ]
    }
   ],
   "source": [
    "# model_definition\n",
    "xgb_model = XGBClassifier(use_label_encoder=False, eval_metric='error', random_state=101)\n",
    "\n",
    "# fiting model\n",
    "xgb_fit = xgb_model.fit(X_train_smote, y_train_smote)\n",
    "\n",
    "# # predicting\n",
    "xgb_predict = xgb_fit.predict(X_val)\n",
    "\n",
    "# metricss\n",
    "print(classification_report(y_val, xgb_predict))"
   ]
  },
  {
   "cell_type": "markdown",
   "id": "320c10ce",
   "metadata": {
    "heading_collapsed": true,
    "hidden": true
   },
   "source": [
    "## 6.2 RFE"
   ]
  },
  {
   "cell_type": "code",
   "execution_count": 69,
   "id": "0b883370",
   "metadata": {
    "ExecuteTime": {
     "end_time": "2022-05-10T13:26:35.406505Z",
     "start_time": "2022-05-10T13:26:35.396895Z"
    },
    "hidden": true
   },
   "outputs": [],
   "source": [
    "# # model definition\n",
    "# rfe_model = RFE(rf_model, n_features_to_select=1)\n",
    "\n",
    "# # fiting model\n",
    "# rfe_fit = rfe_model.fit(X_train_smote, y_train_smote)"
   ]
  },
  {
   "cell_type": "markdown",
   "id": "97aee8ab",
   "metadata": {
    "heading_collapsed": true,
    "hidden": true
   },
   "source": [
    "## 6.3 Boruta"
   ]
  },
  {
   "cell_type": "code",
   "execution_count": 70,
   "id": "1e88839c",
   "metadata": {
    "ExecuteTime": {
     "end_time": "2022-05-10T13:26:35.422081Z",
     "start_time": "2022-05-10T13:26:35.411456Z"
    },
    "hidden": true
   },
   "outputs": [],
   "source": [
    "# # model definition\n",
    "# boruta_model = BorutaPy(rf_model)\n",
    "\n",
    "# # fiting model\n",
    "# boruta_fit = boruta_model.fit(X_train_smote, y_train_smote)"
   ]
  },
  {
   "cell_type": "markdown",
   "id": "55529fb6",
   "metadata": {
    "heading_collapsed": true,
    "hidden": true,
    "id": "ijExdiKLiY_J"
   },
   "source": [
    "## 6.4 Defining"
   ]
  },
  {
   "cell_type": "code",
   "execution_count": 71,
   "id": "67d64cff",
   "metadata": {
    "ExecuteTime": {
     "end_time": "2022-05-10T13:26:35.484107Z",
     "start_time": "2022-05-10T13:26:35.428332Z"
    },
    "hidden": true,
    "hide_input": true,
    "scrolled": true
   },
   "outputs": [
    {
     "data": {
      "text/html": [
       "<div>\n",
       "<style scoped>\n",
       "    .dataframe tbody tr th:only-of-type {\n",
       "        vertical-align: middle;\n",
       "    }\n",
       "\n",
       "    .dataframe tbody tr th {\n",
       "        vertical-align: top;\n",
       "    }\n",
       "\n",
       "    .dataframe thead th {\n",
       "        text-align: right;\n",
       "    }\n",
       "</style>\n",
       "<table border=\"1\" class=\"dataframe\">\n",
       "  <thead>\n",
       "    <tr style=\"text-align: right;\">\n",
       "      <th></th>\n",
       "      <th>feature</th>\n",
       "      <th>rf_importance</th>\n",
       "      <th>xgb_importance</th>\n",
       "    </tr>\n",
       "  </thead>\n",
       "  <tbody>\n",
       "    <tr>\n",
       "      <th>0</th>\n",
       "      <td>gender</td>\n",
       "      <td>0.00155</td>\n",
       "      <td>0.001317</td>\n",
       "    </tr>\n",
       "    <tr>\n",
       "      <th>1</th>\n",
       "      <td>age</td>\n",
       "      <td>0.109684</td>\n",
       "      <td>0.034084</td>\n",
       "    </tr>\n",
       "    <tr>\n",
       "      <th>2</th>\n",
       "      <td>driving_license</td>\n",
       "      <td>0.0</td>\n",
       "      <td>0.007201</td>\n",
       "    </tr>\n",
       "    <tr>\n",
       "      <th>3</th>\n",
       "      <td>region_code</td>\n",
       "      <td>0.054715</td>\n",
       "      <td>0.035165</td>\n",
       "    </tr>\n",
       "    <tr>\n",
       "      <th>4</th>\n",
       "      <td>previously_insured</td>\n",
       "      <td>0.276911</td>\n",
       "      <td>0.421417</td>\n",
       "    </tr>\n",
       "    <tr>\n",
       "      <th>5</th>\n",
       "      <td>vehicle_age</td>\n",
       "      <td>0.032101</td>\n",
       "      <td>0.0061</td>\n",
       "    </tr>\n",
       "    <tr>\n",
       "      <th>6</th>\n",
       "      <td>vehicle_damage</td>\n",
       "      <td>0.323251</td>\n",
       "      <td>0.444207</td>\n",
       "    </tr>\n",
       "    <tr>\n",
       "      <th>7</th>\n",
       "      <td>annual_premium</td>\n",
       "      <td>0.003995</td>\n",
       "      <td>0.00182</td>\n",
       "    </tr>\n",
       "    <tr>\n",
       "      <th>8</th>\n",
       "      <td>policy_sales_channel</td>\n",
       "      <td>0.196176</td>\n",
       "      <td>0.045557</td>\n",
       "    </tr>\n",
       "    <tr>\n",
       "      <th>9</th>\n",
       "      <td>vintage_sin</td>\n",
       "      <td>0.000743</td>\n",
       "      <td>0.001439</td>\n",
       "    </tr>\n",
       "    <tr>\n",
       "      <th>10</th>\n",
       "      <td>vintage_cos</td>\n",
       "      <td>0.000874</td>\n",
       "      <td>0.001692</td>\n",
       "    </tr>\n",
       "  </tbody>\n",
       "</table>\n",
       "</div>"
      ],
      "text/plain": [
       "                 feature rf_importance xgb_importance\n",
       "0                 gender       0.00155       0.001317\n",
       "1                    age      0.109684       0.034084\n",
       "2        driving_license           0.0       0.007201\n",
       "3            region_code      0.054715       0.035165\n",
       "4     previously_insured      0.276911       0.421417\n",
       "5            vehicle_age      0.032101         0.0061\n",
       "6         vehicle_damage      0.323251       0.444207\n",
       "7         annual_premium      0.003995        0.00182\n",
       "8   policy_sales_channel      0.196176       0.045557\n",
       "9            vintage_sin      0.000743       0.001439\n",
       "10           vintage_cos      0.000874       0.001692"
      ]
     },
     "execution_count": 71,
     "metadata": {},
     "output_type": "execute_result"
    }
   ],
   "source": [
    "rf_importances = rf_fit.feature_importances_\n",
    "xgb_importances = xgb_fit.feature_importances_\n",
    "cols = df6.drop(['response', 'id'], axis=1).columns\n",
    "\n",
    "importances = pd.DataFrame([cols, rf_importances, xgb_importances], index=['feature', 'rf_importance', 'xgb_importance']).T\n",
    "importances"
   ]
  },
  {
   "cell_type": "code",
   "execution_count": 72,
   "id": "7650a0a5",
   "metadata": {
    "ExecuteTime": {
     "end_time": "2022-05-10T13:26:35.799488Z",
     "start_time": "2022-05-10T13:26:35.487225Z"
    },
    "hidden": true,
    "hide_input": true,
    "scrolled": false
   },
   "outputs": [
    {
     "data": {
      "image/png": "[encoded data removed]",
      "text/plain": [
       "<Figure size 432x288 with 1 Axes>"
      ]
     },
     "metadata": {
      "needs_background": "light"
     },
     "output_type": "display_data"
    }
   ],
   "source": [
    "sns.barplot(data=importances.sort_values('rf_importance', ascending=False), x='rf_importance', y='feature', color='r', alpha=0.3)\n",
    "sns.despine(left=True, bottom=True)\n",
    "plt.title('Random Forest')\n",
    "plt.xlabel('')\n",
    "plt.ylabel('')\n",
    "plt.xlim(0, 0.8);"
   ]
  },
  {
   "cell_type": "code",
   "execution_count": 73,
   "id": "16d042b1",
   "metadata": {
    "ExecuteTime": {
     "end_time": "2022-05-10T13:26:36.130273Z",
     "start_time": "2022-05-10T13:26:35.804002Z"
    },
    "hidden": true,
    "hide_input": true,
    "scrolled": false
   },
   "outputs": [
    {
     "data": {
      "image/png": "[encoded data removed]",
      "text/plain": [
       "<Figure size 432x288 with 1 Axes>"
      ]
     },
     "metadata": {
      "needs_background": "light"
     },
     "output_type": "display_data"
    }
   ],
   "source": [
    "sns.barplot(data=importances.sort_values('xgb_importance', ascending=False), x='xgb_importance', y='feature', color='r', alpha=0.3)\n",
    "sns.despine(left=True, bottom=True)\n",
    "plt.title('Xgboost')\n",
    "plt.xlabel('')\n",
    "plt.ylabel('')\n",
    "plt.xlim(0, 0.8);"
   ]
  },
  {
   "cell_type": "code",
   "execution_count": 74,
   "id": "bbb58911",
   "metadata": {
    "ExecuteTime": {
     "end_time": "2022-05-10T13:26:36.145822Z",
     "start_time": "2022-05-10T13:26:36.133885Z"
    },
    "hidden": true,
    "scrolled": true
   },
   "outputs": [],
   "source": [
    "# pd.DataFrame([cols, boruta_fit.ranking_, rfe_fit.ranking_], index=['feature', 'boruta_ranking', 'rfe_ranking']).T.sort_values('rfe_ranking')"
   ]
  },
  {
   "cell_type": "markdown",
   "id": "589092e3",
   "metadata": {
    "hidden": true
   },
   "source": [
    "Utilizaremos as features: previously_insured, vehicle_damage, policy_sales_channel, age, region_code, vehicle_age e annual_premium"
   ]
  },
  {
   "cell_type": "markdown",
   "id": "874430b5",
   "metadata": {
    "heading_collapsed": true,
    "hidden": true,
    "id": "ijExdiKLiY_J"
   },
   "source": [
    "## 6.5 Droping Features"
   ]
  },
  {
   "cell_type": "code",
   "execution_count": 75,
   "id": "083319cf",
   "metadata": {
    "ExecuteTime": {
     "end_time": "2022-05-10T13:26:36.176167Z",
     "start_time": "2022-05-10T13:26:36.148875Z"
    },
    "hidden": true
   },
   "outputs": [],
   "source": [
    "features_drop = 'driving_license vintage_sin vintage_cos gender'.split()\n",
    "\n",
    "df6.drop(features_drop, axis=1, inplace=True)\n",
    "\n",
    "test.drop(features_drop, axis=1, inplace=True)"
   ]
  },
  {
   "cell_type": "markdown",
   "id": "3cf3d2b7",
   "metadata": {
    "heading_collapsed": true
   },
   "source": [
    "# 7.0 Ml Modeling"
   ]
  },
  {
   "cell_type": "code",
   "execution_count": 76,
   "id": "9a33e1a2",
   "metadata": {
    "ExecuteTime": {
     "end_time": "2022-05-10T13:26:36.207153Z",
     "start_time": "2022-05-10T13:26:36.179691Z"
    },
    "hidden": true
   },
   "outputs": [],
   "source": [
    "df7 = df6.copy()"
   ]
  },
  {
   "cell_type": "markdown",
   "id": "cd4e256a",
   "metadata": {
    "heading_collapsed": true,
    "hidden": true
   },
   "source": [
    "## 7.1 Preprocessing"
   ]
  },
  {
   "cell_type": "code",
   "execution_count": 77,
   "id": "c3722280",
   "metadata": {
    "ExecuteTime": {
     "end_time": "2022-05-10T13:26:40.300261Z",
     "start_time": "2022-05-10T13:26:36.210175Z"
    },
    "hidden": true
   },
   "outputs": [],
   "source": [
    "# TRAIN\n",
    "# spliting X and y\n",
    "X = df7.drop(['response', 'id'], axis=1)\n",
    "X = np.array(X)\n",
    "y = df7['response'].copy()\n",
    "y = np.array(y).reshape(1, len(y))[0]\n",
    "\n",
    "# spliting train and validation\n",
    "X_train, X_val, y_train, y_val = train_test_split(X, y, test_size=0.2, random_state=101)\n",
    "\n",
    "# balancing\n",
    "X_train_smote, y_train_smote = smote.fit_resample(X_train, y_train)\n",
    "\n",
    "# TEST\n",
    "X_test = test.drop(['response', 'id'], axis=1)\n",
    "X_test = np.array(X_test)\n",
    "y_test = test['response'].copy()\n",
    "y_test = np.array(y_test).reshape(1, len(y_test))[0]"
   ]
  },
  {
   "cell_type": "markdown",
   "id": "511ccfa2",
   "metadata": {
    "heading_collapsed": true,
    "hidden": true
   },
   "source": [
    "## 7.2 Modeling"
   ]
  },
  {
   "cell_type": "markdown",
   "id": "1080222c",
   "metadata": {
    "heading_collapsed": true,
    "hidden": true
   },
   "source": [
    "### 7.1 Random Forest"
   ]
  },
  {
   "cell_type": "code",
   "execution_count": 79,
   "id": "a473c2c9",
   "metadata": {
    "ExecuteTime": {
     "end_time": "2022-05-10T13:27:52.058312Z",
     "start_time": "2022-05-10T13:26:40.338355Z"
    },
    "hidden": true,
    "scrolled": false
   },
   "outputs": [],
   "source": [
    "# fiting model\n",
    "rf_fit = rf_model.fit(X_train_smote, y_train_smote)\n",
    "\n",
    "# predict proba\n",
    "y_hat_rf = rf_fit.predict_proba(X_test)"
   ]
  },
  {
   "cell_type": "markdown",
   "id": "1b585dff",
   "metadata": {
    "heading_collapsed": true,
    "hidden": true
   },
   "source": [
    "### 7.2 XGboost"
   ]
  },
  {
   "cell_type": "code",
   "execution_count": 80,
   "id": "e181efe1",
   "metadata": {
    "ExecuteTime": {
     "end_time": "2022-05-10T13:28:22.447509Z",
     "start_time": "2022-05-10T13:27:52.062800Z"
    },
    "hidden": true,
    "scrolled": false
   },
   "outputs": [],
   "source": [
    "# fiting model\n",
    "xgb_fit = xgb_model.fit(X_train_smote, y_train_smote)\n",
    "\n",
    "# predict proba\n",
    "y_hat_xgb = xgb_fit.predict_proba(X_test)"
   ]
  },
  {
   "cell_type": "markdown",
   "id": "0fb7fcbe",
   "metadata": {
    "heading_collapsed": true,
    "hidden": true
   },
   "source": [
    "### 7.3 Logistic Regression"
   ]
  },
  {
   "cell_type": "code",
   "execution_count": 81,
   "id": "faa8ecd6",
   "metadata": {
    "ExecuteTime": {
     "end_time": "2022-05-10T13:28:24.993283Z",
     "start_time": "2022-05-10T13:28:22.451014Z"
    },
    "hidden": true
   },
   "outputs": [],
   "source": [
    "# model definition\n",
    "lr_model = LogisticRegression()\n",
    "\n",
    "# fiting model\n",
    "lr_fit = lr_model.fit(X_train_smote, y_train_smote)\n",
    "\n",
    "# predict proba\n",
    "y_hat_lr = lr_fit.predict_proba(X_test)"
   ]
  },
  {
   "cell_type": "markdown",
   "id": "14164739",
   "metadata": {
    "heading_collapsed": true
   },
   "source": [
    "# 8.0 Model Performance"
   ]
  },
  {
   "cell_type": "code",
   "execution_count": 82,
   "id": "0f2fb825",
   "metadata": {
    "ExecuteTime": {
     "end_time": "2022-05-10T13:28:25.025074Z",
     "start_time": "2022-05-10T13:28:25.011032Z"
    },
    "hidden": true
   },
   "outputs": [],
   "source": [
    "def gain_curve_precision(df, target_variable, percent_ktop=0.2):\n",
    "    df.sort_values('propencity', ascending=False, inplace=True)\n",
    "    df.reset_index(drop=True, inplace=True)\n",
    "    df['ranking'] = df.index + 1\n",
    "    df[f'cum_{target_variable}'] = np.cumsum(df[target_variable])\n",
    "    df[f'percent_cum_{target_variable}'] = df[f'cum_{target_variable}'] / df['ranking']\n",
    "    df[f'percent_base'] = df['ranking'] / len(df['ranking'])\n",
    "    return print(f\"Precision at {percent_ktop*100}% top: {round(float(df.loc[df[f'percent_base'] <= percent_ktop, f'percent_cum_{target_variable}'].tail(1).values)*100, 2)}%\")"
   ]
  },
  {
   "cell_type": "code",
   "execution_count": 83,
   "id": "541cc271",
   "metadata": {
    "ExecuteTime": {
     "end_time": "2022-05-10T13:28:25.056452Z",
     "start_time": "2022-05-10T13:28:25.029244Z"
    },
    "hidden": true
   },
   "outputs": [],
   "source": [
    "df8 = test.copy()\n",
    "\n",
    "df8 = df8[['id', 'response']]"
   ]
  },
  {
   "cell_type": "markdown",
   "id": "c4a2a87f",
   "metadata": {
    "heading_collapsed": true,
    "hidden": true
   },
   "source": [
    "### 8.1 Random Forest"
   ]
  },
  {
   "cell_type": "code",
   "execution_count": 84,
   "id": "ee3b1c4f",
   "metadata": {
    "ExecuteTime": {
     "end_time": "2022-05-10T13:28:25.352675Z",
     "start_time": "2022-05-10T13:28:25.060381Z"
    },
    "hidden": true,
    "scrolled": true
   },
   "outputs": [
    {
     "data": {
      "image/png": "[encoded data removed]",
      "text/plain": [
       "<Figure size 432x288 with 1 Axes>"
      ]
     },
     "metadata": {
      "needs_background": "light"
     },
     "output_type": "display_data"
    }
   ],
   "source": [
    "# ploting cumulative gain curve\n",
    "skplt.metrics.plot_cumulative_gain(y_test, y_hat_rf);"
   ]
  },
  {
   "cell_type": "code",
   "execution_count": 85,
   "id": "01169048",
   "metadata": {
    "ExecuteTime": {
     "end_time": "2022-05-10T13:28:25.384293Z",
     "start_time": "2022-05-10T13:28:25.355539Z"
    },
    "hidden": true
   },
   "outputs": [
    {
     "name": "stdout",
     "output_type": "stream",
     "text": [
      "Precision at 20.0% top: 34.01%\n"
     ]
    }
   ],
   "source": [
    "df = df8.copy()\n",
    "df['propencity'] = y_hat_rf[:,1]\n",
    "\n",
    "gain_curve_precision(df, 'response', percent_ktop=0.2)"
   ]
  },
  {
   "cell_type": "markdown",
   "id": "38bf99a5",
   "metadata": {
    "heading_collapsed": true,
    "hidden": true
   },
   "source": [
    "### 8.2 XGboost"
   ]
  },
  {
   "cell_type": "code",
   "execution_count": 86,
   "id": "0c17537b",
   "metadata": {
    "ExecuteTime": {
     "end_time": "2022-05-10T13:28:25.696112Z",
     "start_time": "2022-05-10T13:28:25.388059Z"
    },
    "hidden": true,
    "scrolled": true
   },
   "outputs": [
    {
     "data": {
      "image/png": "[encoded data removed]",
      "text/plain": [
       "<Figure size 432x288 with 1 Axes>"
      ]
     },
     "metadata": {
      "needs_background": "light"
     },
     "output_type": "display_data"
    }
   ],
   "source": [
    "# ploting cumulative gain curve\n",
    "skplt.metrics.plot_cumulative_gain(y_test, y_hat_xgb);"
   ]
  },
  {
   "cell_type": "code",
   "execution_count": 87,
   "id": "c68e0165",
   "metadata": {
    "ExecuteTime": {
     "end_time": "2022-05-10T13:28:25.743218Z",
     "start_time": "2022-05-10T13:28:25.701976Z"
    },
    "hidden": true
   },
   "outputs": [
    {
     "name": "stdout",
     "output_type": "stream",
     "text": [
      "Precision at 20.0% top: 33.81%\n"
     ]
    }
   ],
   "source": [
    "df = df8.copy()\n",
    "df['propencity'] = y_hat_xgb[:,1]\n",
    "\n",
    "gain_curve_precision(df, 'response', percent_ktop=0.2)"
   ]
  },
  {
   "cell_type": "markdown",
   "id": "e6cc3a3d",
   "metadata": {
    "heading_collapsed": true,
    "hidden": true
   },
   "source": [
    "### 8.3 Logistic Regression"
   ]
  },
  {
   "cell_type": "code",
   "execution_count": 88,
   "id": "5a2ff41b",
   "metadata": {
    "ExecuteTime": {
     "end_time": "2022-05-10T13:28:26.040312Z",
     "start_time": "2022-05-10T13:28:25.748969Z"
    },
    "hidden": true,
    "scrolled": true
   },
   "outputs": [
    {
     "data": {
      "image/png": "[encoded data removed]",
      "text/plain": [
       "<Figure size 432x288 with 1 Axes>"
      ]
     },
     "metadata": {
      "needs_background": "light"
     },
     "output_type": "display_data"
    }
   ],
   "source": [
    "# ploting cumulative gain curve\n",
    "skplt.metrics.plot_cumulative_gain(y_test, y_hat_lr);"
   ]
  },
  {
   "cell_type": "code",
   "execution_count": 89,
   "id": "164c8b4d",
   "metadata": {
    "ExecuteTime": {
     "end_time": "2022-05-10T13:28:26.071551Z",
     "start_time": "2022-05-10T13:28:26.044626Z"
    },
    "hidden": true
   },
   "outputs": [
    {
     "name": "stdout",
     "output_type": "stream",
     "text": [
      "Precision at 20.0% top: 32.56%\n"
     ]
    }
   ],
   "source": [
    "df = df8.copy()\n",
    "df['propencity'] = y_hat_lr[:,1]\n",
    "\n",
    "gain_curve_precision(df, 'response', percent_ktop=0.2)"
   ]
  },
  {
   "cell_type": "markdown",
   "id": "5f47735b",
   "metadata": {
    "heading_collapsed": true
   },
   "source": [
    "# 9.0 Exporting data"
   ]
  },
  {
   "cell_type": "code",
   "execution_count": 90,
   "id": "b397aecb",
   "metadata": {
    "ExecuteTime": {
     "end_time": "2022-05-10T13:28:26.102578Z",
     "start_time": "2022-05-10T13:28:26.074902Z"
    },
    "hidden": true
   },
   "outputs": [],
   "source": [
    "# annual_premium\n",
    "pickle.dump(ss_annual_premium, open('D:\\\\My Drive\\\\Pessoal\\\\Projetos\\\\insurance_sales_predict\\\\insurance_sales_predict\\\\src\\\\features\\\\ss_annual_premium.pkl', 'wb'))\n",
    "\n",
    "# age\n",
    "pickle.dump(mm_age, open('D:\\\\My Drive\\\\Pessoal\\\\Projetos\\\\insurance_sales_predict\\\\insurance_sales_predict\\\\src\\\\features\\\\mm_age.pkl', 'wb'))\n",
    "\n",
    "# vehicle_age\n",
    "pickle.dump(map_vehicle_age, open('D:\\\\My Drive\\\\Pessoal\\\\Projetos\\\\insurance_sales_predict\\\\insurance_sales_predict\\\\src\\\\features\\\\map_vehicle_age', 'wb'))\n",
    "\n",
    "# gender\n",
    "pickle.dump(map_gender, open('D:\\\\My Drive\\\\Pessoal\\\\Projetos\\\\insurance_sales_predict\\\\insurance_sales_predict\\\\src\\\\features\\\\map_gender', 'wb'))\n",
    "\n",
    "# vehicle_damage\n",
    "pickle.dump(map_vehicle_damage, open('D:\\\\My Drive\\\\Pessoal\\\\Projetos\\\\insurance_sales_predict\\\\insurance_sales_predict\\\\src\\\\features\\\\map_vehicle_damage', 'wb'))\n",
    "\n",
    "# region_code\n",
    "pickle.dump(map_region_code, open('D:\\\\My Drive\\\\Pessoal\\\\Projetos\\\\insurance_sales_predict\\\\insurance_sales_predict\\\\src\\\\features\\\\map_region_code', 'wb'))\n",
    "\n",
    "# policy_sales_channel\n",
    "pickle.dump(map_policy_sales_channel, open('D:\\\\My Drive\\\\Pessoal\\\\Projetos\\\\insurance_sales_predict\\\\insurance_sales_predict\\\\src\\\\features\\\\map_policy_sales_channel', 'wb'))\n",
    "\n",
    "# features_remover\n",
    "pickle.dump(features_drop, open('D:\\\\My Drive\\\\Pessoal\\\\Projetos\\\\insurance_sales_predict\\\\insurance_sales_predict\\\\src\\\\features\\\\features_drop', 'wb'))"
   ]
  },
  {
   "cell_type": "markdown",
   "id": "fb9a5ad7",
   "metadata": {},
   "source": [
    "# Time"
   ]
  },
  {
   "cell_type": "code",
   "execution_count": 91,
   "id": "300c6a83",
   "metadata": {
    "ExecuteTime": {
     "end_time": "2022-05-10T13:28:26.118583Z",
     "start_time": "2022-05-10T13:28:26.106516Z"
    },
    "scrolled": true
   },
   "outputs": [
    {
     "name": "stdout",
     "output_type": "stream",
     "text": [
      "O tempo de processamento do projeto foi de: 5 minutos\n"
     ]
    }
   ],
   "source": [
    "print(f'O tempo de processamento do projeto foi de: {int(round(time.time()-time_agora, 2)/60)} minutos')"
   ]
  }
 ],
 "metadata": {
  "kernelspec": {
   "display_name": "Python 3 (ipykernel)",
   "language": "python",
   "name": "python3"
  },
  "language_info": {
   "codemirror_mode": {
    "name": "ipython",
    "version": 3
   },
   "file_extension": ".py",
   "mimetype": "text/x-python",
   "name": "python",
   "nbconvert_exporter": "python",
   "pygments_lexer": "ipython3",
   "version": "3.9.7"
  }
 },
 "nbformat": 4,
 "nbformat_minor": 5
}
