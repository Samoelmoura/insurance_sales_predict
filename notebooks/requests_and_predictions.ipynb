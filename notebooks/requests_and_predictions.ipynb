{
 "cells": [
  {
   "cell_type": "markdown",
   "id": "054b023c",
   "metadata": {
    "heading_collapsed": true
   },
   "source": [
    "# 0.0 Report\n",
    "1. ...\n",
    "\n",
    "**Inputs:** data raw from kaggle\n",
    "\n",
    "**Outputs:** data with predicts"
   ]
  },
  {
   "cell_type": "markdown",
   "id": "0dccb07a",
   "metadata": {
    "heading_collapsed": true
   },
   "source": [
    "# 1.0 Imports"
   ]
  },
  {
   "cell_type": "markdown",
   "id": "23eec6a4",
   "metadata": {
    "heading_collapsed": true,
    "hidden": true
   },
   "source": [
    "###### 1.1 Libraries"
   ]
  },
  {
   "cell_type": "code",
   "execution_count": 1,
   "id": "23095494",
   "metadata": {
    "hidden": true
   },
   "outputs": [],
   "source": [
    "import pandas as pd\n",
    "import numpy as np\n",
    "\n",
    "import requests\n",
    "\n",
    "import time\n",
    "import warnings\n",
    "\n",
    "# Tempo de processamento\n",
    "time_agora = time.time()"
   ]
  },
  {
   "cell_type": "markdown",
   "id": "159dd48c",
   "metadata": {
    "heading_collapsed": true,
    "hidden": true
   },
   "source": [
    "###### 1.2 Colecting data"
   ]
  },
  {
   "cell_type": "code",
   "execution_count": 2,
   "id": "8d8568be",
   "metadata": {
    "hidden": true
   },
   "outputs": [],
   "source": [
    "train = pd.read_csv(r'C:\\\\Users\\Samoel\\\\My Drive\\\\Pessoal\\\\Projetos\\\\insurance_sales_predict\\\\projeto\\\\train.csv')\n",
    "test = pd.read_csv(r'C:\\\\Users\\Samoel\\\\My Drive\\\\Pessoal\\\\Projetos\\\\insurance_sales_predict\\\\projeto\\\\test.csv')###### 1.5 Creating Submission Table"
   ]
  },
  {
   "cell_type": "markdown",
   "id": "8e6562b2",
   "metadata": {
    "heading_collapsed": true,
    "hidden": true
   },
   "source": [
    "###### 1.5 Creating Submission Table"
   ]
  },
  {
   "cell_type": "code",
   "execution_count": 3,
   "id": "8d4923a9",
   "metadata": {
    "hidden": true
   },
   "outputs": [],
   "source": [
    "df_raw = pd.concat([train, test])\n",
    "df = df_raw.copy()"
   ]
  },
  {
   "cell_type": "markdown",
   "id": "b7cfd694",
   "metadata": {
    "heading_collapsed": true
   },
   "source": [
    "# 8.0 Predictions"
   ]
  },
  {
   "cell_type": "markdown",
   "id": "89a0b271",
   "metadata": {
    "heading_collapsed": true,
    "hidden": true
   },
   "source": [
    "##### 8.1 Simulating data for requests"
   ]
  },
  {
   "cell_type": "code",
   "execution_count": 4,
   "id": "93b63754",
   "metadata": {
    "hidden": true
   },
   "outputs": [],
   "source": [
    "request_1 = df_raw.drop('Response', axis=1).sample(1)\n",
    "request_1_json = request_1.to_json(orient='records')\n",
    "request_vários = df_raw.drop('Response', axis=1).sample(100)\n",
    "request_vários_json = request_vários.to_json(orient='records')"
   ]
  },
  {
   "cell_type": "markdown",
   "id": "7c5b258b",
   "metadata": {
    "heading_collapsed": true,
    "hidden": true
   },
   "source": [
    "##### 8.2 Request"
   ]
  },
  {
   "cell_type": "code",
   "execution_count": 5,
   "id": "4955070d",
   "metadata": {
    "hidden": true,
    "scrolled": true
   },
   "outputs": [
    {
     "data": {
      "text/plain": [
       "200"
      ]
     },
     "execution_count": 5,
     "metadata": {},
     "output_type": "execute_result"
    }
   ],
   "source": [
    "url = 'http://192.168.15.26:5000/predict'\n",
    "data = request_vários_json\n",
    "headers = {'Content-type':'application/json'}\n",
    "\n",
    "received = requests.post(url=url, data=data, headers=headers)\n",
    "received.status_code"
   ]
  },
  {
   "cell_type": "markdown",
   "id": "02f031ca",
   "metadata": {
    "heading_collapsed": true,
    "hidden": true
   },
   "source": [
    "##### 8.3 Received"
   ]
  },
  {
   "cell_type": "code",
   "execution_count": 6,
   "id": "e3d04656",
   "metadata": {
    "hidden": true,
    "scrolled": true
   },
   "outputs": [
    {
     "data": {
      "text/html": [
       "<div>\n",
       "<style scoped>\n",
       "    .dataframe tbody tr th:only-of-type {\n",
       "        vertical-align: middle;\n",
       "    }\n",
       "\n",
       "    .dataframe tbody tr th {\n",
       "        vertical-align: top;\n",
       "    }\n",
       "\n",
       "    .dataframe thead th {\n",
       "        text-align: right;\n",
       "    }\n",
       "</style>\n",
       "<table border=\"1\" class=\"dataframe\">\n",
       "  <thead>\n",
       "    <tr style=\"text-align: right;\">\n",
       "      <th></th>\n",
       "      <th>Age</th>\n",
       "      <th>Previously_Insured</th>\n",
       "      <th>Gender_</th>\n",
       "      <th>Vehicle_Damage_</th>\n",
       "      <th>Policy_Sales_Channel_Response_Mean</th>\n",
       "      <th>Region_Code_Response_Mean</th>\n",
       "      <th>Log_Annual_Premium</th>\n",
       "      <th>Vehicle_Age_&lt; 1 Year</th>\n",
       "      <th>Vehicle_Age_&gt; 2 Years</th>\n",
       "      <th>predictions</th>\n",
       "    </tr>\n",
       "  </thead>\n",
       "  <tbody>\n",
       "    <tr>\n",
       "      <th>0</th>\n",
       "      <td>0.334139</td>\n",
       "      <td>-0.920227</td>\n",
       "      <td>0.921495</td>\n",
       "      <td>0.991555</td>\n",
       "      <td>0.770576</td>\n",
       "      <td>-0.017348</td>\n",
       "      <td>0.545898</td>\n",
       "      <td>-0.871583</td>\n",
       "      <td>-0.210045</td>\n",
       "      <td>1</td>\n",
       "    </tr>\n",
       "    <tr>\n",
       "      <th>1</th>\n",
       "      <td>1.430867</td>\n",
       "      <td>-0.920227</td>\n",
       "      <td>-1.085193</td>\n",
       "      <td>0.991555</td>\n",
       "      <td>0.770576</td>\n",
       "      <td>1.426486</td>\n",
       "      <td>0.841435</td>\n",
       "      <td>-0.871583</td>\n",
       "      <td>-0.210045</td>\n",
       "      <td>1</td>\n",
       "    </tr>\n",
       "    <tr>\n",
       "      <th>2</th>\n",
       "      <td>0.205112</td>\n",
       "      <td>-0.920227</td>\n",
       "      <td>-1.085193</td>\n",
       "      <td>0.991555</td>\n",
       "      <td>0.770576</td>\n",
       "      <td>1.426486</td>\n",
       "      <td>1.005091</td>\n",
       "      <td>-0.871583</td>\n",
       "      <td>-0.210045</td>\n",
       "      <td>1</td>\n",
       "    </tr>\n",
       "    <tr>\n",
       "      <th>3</th>\n",
       "      <td>-1.149669</td>\n",
       "      <td>-0.920227</td>\n",
       "      <td>-1.085193</td>\n",
       "      <td>0.991555</td>\n",
       "      <td>-1.088230</td>\n",
       "      <td>-1.162745</td>\n",
       "      <td>0.412332</td>\n",
       "      <td>1.147338</td>\n",
       "      <td>-0.210045</td>\n",
       "      <td>0</td>\n",
       "    </tr>\n",
       "    <tr>\n",
       "      <th>4</th>\n",
       "      <td>-0.956129</td>\n",
       "      <td>-0.920227</td>\n",
       "      <td>-1.085193</td>\n",
       "      <td>0.991555</td>\n",
       "      <td>-1.088230</td>\n",
       "      <td>-0.904788</td>\n",
       "      <td>0.227113</td>\n",
       "      <td>1.147338</td>\n",
       "      <td>-0.210045</td>\n",
       "      <td>0</td>\n",
       "    </tr>\n",
       "    <tr>\n",
       "      <th>...</th>\n",
       "      <td>...</td>\n",
       "      <td>...</td>\n",
       "      <td>...</td>\n",
       "      <td>...</td>\n",
       "      <td>...</td>\n",
       "      <td>...</td>\n",
       "      <td>...</td>\n",
       "      <td>...</td>\n",
       "      <td>...</td>\n",
       "      <td>...</td>\n",
       "    </tr>\n",
       "    <tr>\n",
       "      <th>95</th>\n",
       "      <td>-0.956129</td>\n",
       "      <td>-0.920227</td>\n",
       "      <td>0.921495</td>\n",
       "      <td>0.991555</td>\n",
       "      <td>-1.088230</td>\n",
       "      <td>0.112614</td>\n",
       "      <td>0.404292</td>\n",
       "      <td>1.147338</td>\n",
       "      <td>-0.210045</td>\n",
       "      <td>1</td>\n",
       "    </tr>\n",
       "    <tr>\n",
       "      <th>96</th>\n",
       "      <td>-0.891615</td>\n",
       "      <td>1.086689</td>\n",
       "      <td>0.921495</td>\n",
       "      <td>-1.008517</td>\n",
       "      <td>-1.056047</td>\n",
       "      <td>-1.162745</td>\n",
       "      <td>0.168834</td>\n",
       "      <td>1.147338</td>\n",
       "      <td>-0.210045</td>\n",
       "      <td>0</td>\n",
       "    </tr>\n",
       "    <tr>\n",
       "      <th>97</th>\n",
       "      <td>1.430867</td>\n",
       "      <td>1.086689</td>\n",
       "      <td>0.921495</td>\n",
       "      <td>-1.008517</td>\n",
       "      <td>-0.380115</td>\n",
       "      <td>-0.434353</td>\n",
       "      <td>0.766825</td>\n",
       "      <td>-0.871583</td>\n",
       "      <td>-0.210045</td>\n",
       "      <td>0</td>\n",
       "    </tr>\n",
       "    <tr>\n",
       "      <th>98</th>\n",
       "      <td>-1.020642</td>\n",
       "      <td>-0.920227</td>\n",
       "      <td>-1.085193</td>\n",
       "      <td>-1.008517</td>\n",
       "      <td>-1.088230</td>\n",
       "      <td>-1.378621</td>\n",
       "      <td>0.242449</td>\n",
       "      <td>1.147338</td>\n",
       "      <td>-0.210045</td>\n",
       "      <td>0</td>\n",
       "    </tr>\n",
       "    <tr>\n",
       "      <th>99</th>\n",
       "      <td>0.656706</td>\n",
       "      <td>-0.920227</td>\n",
       "      <td>0.921495</td>\n",
       "      <td>0.991555</td>\n",
       "      <td>0.770576</td>\n",
       "      <td>1.426486</td>\n",
       "      <td>0.672825</td>\n",
       "      <td>-0.871583</td>\n",
       "      <td>-0.210045</td>\n",
       "      <td>1</td>\n",
       "    </tr>\n",
       "  </tbody>\n",
       "</table>\n",
       "<p>100 rows × 10 columns</p>\n",
       "</div>"
      ],
      "text/plain": [
       "         Age  Previously_Insured   Gender_  Vehicle_Damage_  \\\n",
       "0   0.334139           -0.920227  0.921495         0.991555   \n",
       "1   1.430867           -0.920227 -1.085193         0.991555   \n",
       "2   0.205112           -0.920227 -1.085193         0.991555   \n",
       "3  -1.149669           -0.920227 -1.085193         0.991555   \n",
       "4  -0.956129           -0.920227 -1.085193         0.991555   \n",
       "..       ...                 ...       ...              ...   \n",
       "95 -0.956129           -0.920227  0.921495         0.991555   \n",
       "96 -0.891615            1.086689  0.921495        -1.008517   \n",
       "97  1.430867            1.086689  0.921495        -1.008517   \n",
       "98 -1.020642           -0.920227 -1.085193        -1.008517   \n",
       "99  0.656706           -0.920227  0.921495         0.991555   \n",
       "\n",
       "    Policy_Sales_Channel_Response_Mean  Region_Code_Response_Mean  \\\n",
       "0                             0.770576                  -0.017348   \n",
       "1                             0.770576                   1.426486   \n",
       "2                             0.770576                   1.426486   \n",
       "3                            -1.088230                  -1.162745   \n",
       "4                            -1.088230                  -0.904788   \n",
       "..                                 ...                        ...   \n",
       "95                           -1.088230                   0.112614   \n",
       "96                           -1.056047                  -1.162745   \n",
       "97                           -0.380115                  -0.434353   \n",
       "98                           -1.088230                  -1.378621   \n",
       "99                            0.770576                   1.426486   \n",
       "\n",
       "    Log_Annual_Premium  Vehicle_Age_< 1 Year  Vehicle_Age_> 2 Years  \\\n",
       "0             0.545898             -0.871583              -0.210045   \n",
       "1             0.841435             -0.871583              -0.210045   \n",
       "2             1.005091             -0.871583              -0.210045   \n",
       "3             0.412332              1.147338              -0.210045   \n",
       "4             0.227113              1.147338              -0.210045   \n",
       "..                 ...                   ...                    ...   \n",
       "95            0.404292              1.147338              -0.210045   \n",
       "96            0.168834              1.147338              -0.210045   \n",
       "97            0.766825             -0.871583              -0.210045   \n",
       "98            0.242449              1.147338              -0.210045   \n",
       "99            0.672825             -0.871583              -0.210045   \n",
       "\n",
       "    predictions  \n",
       "0             1  \n",
       "1             1  \n",
       "2             1  \n",
       "3             0  \n",
       "4             0  \n",
       "..          ...  \n",
       "95            1  \n",
       "96            0  \n",
       "97            0  \n",
       "98            0  \n",
       "99            1  \n",
       "\n",
       "[100 rows x 10 columns]"
      ]
     },
     "execution_count": 6,
     "metadata": {},
     "output_type": "execute_result"
    }
   ],
   "source": [
    "df_predict = pd.DataFrame(received.json(), columns=received.json()[0].keys())\n",
    "df_predict"
   ]
  },
  {
   "cell_type": "markdown",
   "id": "4e378702",
   "metadata": {},
   "source": [
    "# Time"
   ]
  },
  {
   "cell_type": "code",
   "execution_count": 7,
   "id": "903c4b46",
   "metadata": {},
   "outputs": [
    {
     "name": "stdout",
     "output_type": "stream",
     "text": [
      "O tempo de processamento do projeto foi de: 0 minutos\n"
     ]
    }
   ],
   "source": [
    "print(f'O tempo de processamento do projeto foi de: {int(round(time.time()-time_agora, 2)/60)} minutos')"
   ]
  }
 ],
 "metadata": {
  "kernelspec": {
   "display_name": "Python 3 (ipykernel)",
   "language": "python",
   "name": "python3"
  },
  "language_info": {
   "codemirror_mode": {
    "name": "ipython",
    "version": 3
   },
   "file_extension": ".py",
   "mimetype": "text/x-python",
   "name": "python",
   "nbconvert_exporter": "python",
   "pygments_lexer": "ipython3",
   "version": "3.8.8"
  }
 },
 "nbformat": 4,
 "nbformat_minor": 5
}
