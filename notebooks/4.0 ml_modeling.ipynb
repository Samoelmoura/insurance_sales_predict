{
 "cells": [
  {
   "cell_type": "markdown",
   "id": "ee30b102",
   "metadata": {
    "heading_collapsed": true
   },
   "source": [
    "# Reports\n",
    "1. Inputs: prepared data to modeling\n",
    "2. Outputs: treined model and metrics\n",
    "3. ..."
   ]
  },
  {
   "cell_type": "markdown",
   "id": "8d17ac8d",
   "metadata": {
    "heading_collapsed": true
   },
   "source": [
    "# 1.0 Imports"
   ]
  },
  {
   "cell_type": "markdown",
   "id": "5e787140",
   "metadata": {
    "heading_collapsed": true,
    "hidden": true
   },
   "source": [
    "###### 1.1 Libraries"
   ]
  },
  {
   "cell_type": "code",
   "execution_count": 1,
   "id": "dd4c73b9",
   "metadata": {
    "hidden": true
   },
   "outputs": [],
   "source": [
    "import pandas as pd\n",
    "import numpy as np\n",
    "\n",
    "from sklearn.linear_model import LogisticRegression\n",
    "from sklearn.metrics import classification_report, roc_auc_score, accuracy_score\n",
    "from sklearn.ensemble import RandomForestClassifier\n",
    "from sklearn.svm import SVC\n",
    "from sklearn.neighbors import KNeighborsClassifier\n",
    "from sklearn.tree import DecisionTreeClassifier\n",
    "\n",
    "import pickle\n",
    "\n",
    "from xgboost import XGBClassifier\n",
    "\n",
    "import time\n",
    "import warnings\n",
    "\n",
    "# Tempo de processamento\n",
    "time_agora = time.time()"
   ]
  },
  {
   "cell_type": "markdown",
   "id": "4090aef8",
   "metadata": {
    "heading_collapsed": true,
    "hidden": true
   },
   "source": [
    "###### 1.2 Colecting data"
   ]
  },
  {
   "cell_type": "code",
   "execution_count": 2,
   "id": "ff3dd897",
   "metadata": {
    "hidden": true
   },
   "outputs": [],
   "source": [
    "# arrays\n",
    "X = pickle.load(open('D:\\\\My Drive\\\\Pessoal\\\\Projetos\\\\insurance_sales_predict\\\\insurance_sales_predict\\\\exportings\\\\X_to_modeling.pkl', 'rb'))\n",
    "X_imb = pickle.load(open('D:\\\\My Drive\\\\Pessoal\\\\Projetos\\\\insurance_sales_predict\\\\insurance_sales_predict\\\\exportings\\\\X_imb_to_modeling.pkl', 'rb'))\n",
    "y = pickle.load(open('D:\\\\My Drive\\\\Pessoal\\\\Projetos\\\\insurance_sales_predict\\\\insurance_sales_predict\\\\exportings\\\\y_to_modeling.pkl', 'rb'))\n",
    "\n",
    "X_smote = X_imb[0]\n",
    "X_near = X_imb[1]\n",
    "X_train_smote = X_imb[2]\n",
    "X_train_near = X_imb[3]\n",
    "X_valid = X[0]\n",
    "X_test = X[1]\n",
    "X_train = X[2]\n",
    "y_smote = y[0]\n",
    "y_near = y[1]\n",
    "y_train_smote = y[2]\n",
    "y_train_near = y[3]\n",
    "y_valid = y[4]\n",
    "y_test = y[5]\n",
    "y_train = y[6]\n",
    "\n",
    "# columns\n",
    "model_columns = pickle.load(open('D:\\\\My Drive\\\\Pessoal\\\\Projetos\\\\insurance_sales_predict\\\\insurance_sales_predict\\\\exportings\\\\model_columns.pkl', 'rb'))"
   ]
  },
  {
   "cell_type": "markdown",
   "id": "40650f13",
   "metadata": {
    "heading_collapsed": true,
    "id": "wrfYR3Ps5tXH"
   },
   "source": [
    "# 2.0 ML Modeling"
   ]
  },
  {
   "cell_type": "markdown",
   "id": "b86e32cc",
   "metadata": {
    "heading_collapsed": true,
    "hidden": true,
    "id": "riZ97EQlFUkX"
   },
   "source": [
    "##### 2.1 Principais Insights:\n",
    "1. A métrica para escolha do modelo final e predições será ROC_AUC, para responder às perguntas de negócio serão utilizadas as métricas PRECISION e RECALL do evento ocorrer, portanto as três serão abordadas\n",
    "\n",
    "###### 2.2 Chosen model:\n",
    "\n",
    "###### 2.3 Log\n",
    "1. Modelo Logistic Regression: PRECISION de 0.27, RECALL de 0.93 e ROC_AUC 0.79, treinando com Smote\n",
    "2. Modelo Decision Tree: PRECISION de 0.29, RECALL de 0.86 e ROC_AUC 0.79, treinando com Smote\n",
    "3. Modelo Random Forest: PRECISION de 0.28, RECALL de 0.93 e ROC_AUC 0.80, treinando com Smote\n",
    "5. Modelo XGRFBoost: PRECISION de 0.27, RECALL de 0.94 e ROC_AUC 0.80, treinando com Smote\n",
    "6. Modelo SVM: PRECISION de 0.09, RECALL de 0.59 e ROC_AUC 0.40, treinando com Near\n",
    "7. Modelo KNN: PRECISION de 0.29, RECALL de 0.63 e ROC_AUC 0.71, treinando com Smote"
   ]
  },
  {
   "cell_type": "markdown",
   "id": "fc740cce",
   "metadata": {
    "heading_collapsed": true,
    "hidden": true
   },
   "source": [
    "##### 2.4 Logistic Regression"
   ]
  },
  {
   "cell_type": "code",
   "execution_count": 3,
   "id": "af294c94",
   "metadata": {
    "ExecuteTime": {
     "end_time": "2021-07-22T14:44:55.972723Z",
     "start_time": "2021-07-22T14:44:55.949725Z"
    },
    "hidden": true
   },
   "outputs": [
    {
     "name": "stdout",
     "output_type": "stream",
     "text": [
      "Treino\n",
      "\n",
      "              precision    recall  f1-score   support\n",
      "\n",
      "         0.0       0.98      0.68      0.80     80152\n",
      "         1.0       0.28      0.91      0.43     11315\n",
      "\n",
      "    accuracy                           0.71     91467\n",
      "   macro avg       0.63      0.79      0.62     91467\n",
      "weighted avg       0.90      0.71      0.76     91467\n",
      "\n",
      "roc_auc_score: 0.79\n",
      "\n",
      "\n",
      "Teste\n",
      "\n",
      "              precision    recall  f1-score   support\n",
      "\n",
      "         0.0       0.98      0.68      0.80     66971\n",
      "         1.0       0.28      0.91      0.43      9251\n",
      "\n",
      "    accuracy                           0.71     76222\n",
      "   macro avg       0.63      0.80      0.62     76222\n",
      "weighted avg       0.90      0.71      0.76     76222\n",
      "\n",
      "roc_auc_score: 0.8\n",
      "O modelo está overfitando em -0.0%\n"
     ]
    }
   ],
   "source": [
    "# model description\n",
    "lr_model = LogisticRegression(random_state=101)\n",
    "\n",
    "# fiting model\n",
    "lr_fit = lr_model.fit(X_smote, y_smote)\n",
    "lr_predict = lr_fit.predict(X_valid)\n",
    "\n",
    "print('Treino\\n')\n",
    "print(classification_report(y_valid, lr_predict))\n",
    "lr_roc_auc_train = roc_auc_score(y_valid, lr_predict)\n",
    "print(f'roc_auc_score: {round(lr_roc_auc_train, 2)}')\n",
    "lr_predict = lr_fit.predict(X_test)\n",
    "print()\n",
    "print()\n",
    "print('Teste\\n')\n",
    "print(classification_report(y_test, lr_predict))\n",
    "lr_roc_auc_test = roc_auc_score(y_test, lr_predict)\n",
    "print(f'roc_auc_score: {round(lr_roc_auc_test, 2)}')\n",
    "lr_overfiting = lr_roc_auc_train/lr_roc_auc_test - 1\n",
    "print(f'O modelo está overfitando em {round(lr_overfiting, 2)}%')\n",
    "\n",
    "# pickle this model\n",
    "pickle.dump(lr_fit, open('D:\\\\My Drive\\\\Pessoal\\\\Projetos\\\\insurance_sales_predict\\\\deploy\\\\model\\\\lr_model.pkl', 'wb'))"
   ]
  },
  {
   "cell_type": "markdown",
   "id": "6ad005c2",
   "metadata": {
    "heading_collapsed": true,
    "hidden": true
   },
   "source": [
    "##### 2.5 Decision Tree"
   ]
  },
  {
   "cell_type": "code",
   "execution_count": 4,
   "id": "cce422ab",
   "metadata": {
    "hidden": true
   },
   "outputs": [],
   "source": [
    "# # model definition\n",
    "# tree_model = DecisionTreeClassifier(min_samples_leaf=1000, \n",
    "#                                     random_state=101)\n",
    "\n",
    "# # fiting model\n",
    "# tree_fit = tree_model.fit(X_smote, y_smote)\n",
    "# tree_predict = tree_fit.predict(X_valid)\n",
    "\n",
    "# print('Treino\\n')\n",
    "# print(classification_report(y_valid, tree_predict))\n",
    "# tree_roc_auc_train = roc_auc_score(y_valid, tree_predict)\n",
    "# print(f'roc_auc_score: {round(tree_roc_auc_train, 2)}')\n",
    "# tree_predict = tree_fit.predict(X_test)\n",
    "# print()\n",
    "# print()\n",
    "# print('Teste\\n')\n",
    "# print(classification_report(y_test, tree_predict))\n",
    "# tree_roc_auc_test = roc_auc_score(y_test, tree_predict)\n",
    "# print(f'roc_auc_score: {round(tree_roc_auc_test, 2)}')\n",
    "# tree_overfiting = tree_roc_auc_train/tree_roc_auc_test - 1\n",
    "# print(f'O modelo está overfitando em {round(tree_overfiting, 2)}%')\n",
    "\n",
    "# # pickle this model\n",
    "# pickle.dump(tree_fit, open('D:\\\\My Drive\\\\Pessoal\\\\Projetos\\\\insurance_sales_predict\\\\deploy\\\\model\\\\tree_model.pkl', 'wb'))"
   ]
  },
  {
   "cell_type": "markdown",
   "id": "97146414",
   "metadata": {
    "heading_collapsed": true,
    "hidden": true
   },
   "source": [
    "##### 2.6 Random Forest"
   ]
  },
  {
   "cell_type": "code",
   "execution_count": 5,
   "id": "426632e2",
   "metadata": {
    "ExecuteTime": {
     "end_time": "2021-07-22T14:44:55.940726Z",
     "start_time": "2021-07-22T14:44:55.923726Z"
    },
    "colab": {
     "base_uri": "https://localhost:8080/"
    },
    "hidden": true,
    "id": "SwR93uT_yDDW",
    "outputId": "62c40a77-b2e0-41b7-864f-1248831a1f3c",
    "scrolled": false
   },
   "outputs": [],
   "source": [
    "# # model definition\n",
    "# rf_model = RandomForestClassifier(n_estimators=100, \n",
    "#                                   max_depth=7, \n",
    "#                                   max_features=0.3, \n",
    "#                                   random_state=101)\n",
    "\n",
    "# # fiting model\n",
    "# rf_fit = rf_model.fit(X_smote, y_smote)\n",
    "# rf_predict = rf_fit.predict(X_valid)\n",
    "\n",
    "# print('Treino\\n')\n",
    "# print(classification_report(y_valid, rf_predict))\n",
    "# rf_roc_auc_train = roc_auc_score(y_valid, rf_predict)\n",
    "# print(f'roc_auc_score: {round(rf_roc_auc_train, 2)}')\n",
    "# rf_predict = rf_fit.predict(X_test)\n",
    "# print()\n",
    "# print()\n",
    "# print('Teste\\n')\n",
    "# print(classification_report(y_test, rf_predict))\n",
    "# rf_roc_auc_test = roc_auc_score(y_test, rf_predict)\n",
    "# print(f'roc_auc_score: {round(rf_roc_auc_test, 2)}')\n",
    "# rf_overfiting = rf_roc_auc_train/rf_roc_auc_test - 1\n",
    "# print(f'O modelo está overfitando em {round(rf_overfiting, 2)}%')\n",
    "\n",
    "# # pickle this model\n",
    "# pickle.dump(rf_fit, open('D:\\\\My Drive\\\\Pessoal\\\\Projetos\\\\insurance_sales_predict\\\\deploy\\\\model\\\\rf_model.pkl', 'wb'))"
   ]
  },
  {
   "cell_type": "markdown",
   "id": "72a0cfcb",
   "metadata": {
    "heading_collapsed": true,
    "hidden": true
   },
   "source": [
    "##### 2.7 XGBoost"
   ]
  },
  {
   "cell_type": "code",
   "execution_count": 6,
   "id": "0d58ae5a",
   "metadata": {
    "ExecuteTime": {
     "end_time": "2021-07-22T14:44:55.913731Z",
     "start_time": "2021-07-22T14:44:55.902732Z"
    },
    "colab": {
     "base_uri": "https://localhost:8080/"
    },
    "hidden": true,
    "id": "SwR93uT_yDDW",
    "outputId": "62c40a77-b2e0-41b7-864f-1248831a1f3c",
    "scrolled": false
   },
   "outputs": [],
   "source": [
    "# # model description\n",
    "# xgb_model = XGBClassifier(booster='gblinear', \n",
    "#                           n_estimators=1000, \n",
    "#                           learning_rate=0.01, \n",
    "#                           use_label_encoder=False, \n",
    "#                           eval_metric='error', \n",
    "#                           random_state=101)\n",
    "\n",
    "# # fiting model\n",
    "# xgb_fit = xgb_model.fit(X_smote, y_smote)\n",
    "# xgb_predict = xgb_fit.predict(X_valid)\n",
    "\n",
    "# print('Treino\\n')\n",
    "# print(classification_report(y_valid, xgb_predict))\n",
    "# xgb_roc_auc_train = roc_auc_score(y_valid, xgb_predict)\n",
    "# print(f'roc_auc_score: {round(xgb_roc_auc_train, 2)}')\n",
    "# xgb_predict = xgb_fit.predict(X_test)\n",
    "# print()\n",
    "# print()\n",
    "# print('Teste\\n')\n",
    "# print(classification_report(y_test, xgb_predict))\n",
    "# xgb_roc_auc_test = roc_auc_score(y_test, xgb_predict)\n",
    "# print(f'roc_auc_score: {round(xgb_roc_auc_test, 2)}')\n",
    "# xgb_overfiting = xgb_roc_auc_train/xgb_roc_auc_test - 1\n",
    "# print(f'O modelo está overfitando em {round(xgb_overfiting, 2)}%')\n",
    "\n",
    "# # pickle this model\n",
    "# # Save trained model\n",
    "# pickle.dump(xgb_fit, open('D:\\\\My Drive\\\\Pessoal\\\\Projetos\\\\insurance_sales_predict\\\\deploy\\\\model\\\\xgb_model.pkl', 'wb'))"
   ]
  },
  {
   "cell_type": "markdown",
   "id": "0e0c763c",
   "metadata": {
    "heading_collapsed": true,
    "hidden": true
   },
   "source": [
    "##### 2.8 Suport Vector Machine"
   ]
  },
  {
   "cell_type": "code",
   "execution_count": 7,
   "id": "4e00488f",
   "metadata": {
    "ExecuteTime": {
     "start_time": "2021-07-22T14:30:13.752Z"
    },
    "hidden": true
   },
   "outputs": [],
   "source": [
    "# # model description\n",
    "# svm_model = SVC(random_state=101)\n",
    "\n",
    "# # fiting model\n",
    "# svm_fit = svm_model.fit(X_near, y_near)\n",
    "# svm_predict = svm_fit.predict(X_valid)\n",
    "\n",
    "# print('Treino\\n')\n",
    "# print(classification_report(y_valid, svm_predict))\n",
    "# svm_roc_auc_train = roc_auc_score(y_valid, svm_predict)\n",
    "# print(f'roc_auc_score: {round(svm_roc_auc_train, 2)}')\n",
    "# svm_predict = svm_fit.predict(X_test)\n",
    "# print()\n",
    "# print()\n",
    "# print('Teste\\n')\n",
    "# print(classification_report(y_test, svm_predict))\n",
    "# svm_roc_auc_test = roc_auc_score(y_test, svm_predict)\n",
    "# print(f'roc_auc_score: {round(svm_roc_auc_test, 2)}')\n",
    "# svm_overfiting = svm_roc_auc_train/svm_roc_auc_test - 1\n",
    "# print(f'O modelo está overfitando em {round(svm_overfiting, 2)}%')\n",
    "\n",
    "# # pickle this model\n",
    "# pickle.dump(svm_fit, open('D:\\\\My Drive\\\\Pessoal\\\\Projetos\\\\insurance_sales_predict\\\\deploy\\\\model\\\\svm_model.pkl', 'wb'))"
   ]
  },
  {
   "cell_type": "markdown",
   "id": "3de85206",
   "metadata": {
    "heading_collapsed": true,
    "hidden": true
   },
   "source": [
    "##### 2.9 KNN"
   ]
  },
  {
   "cell_type": "code",
   "execution_count": 8,
   "id": "4fd588e0",
   "metadata": {
    "ExecuteTime": {
     "start_time": "2021-07-22T14:30:13.773Z"
    },
    "hidden": true
   },
   "outputs": [],
   "source": [
    "# # model description\n",
    "# neigh_model = KNeighborsClassifier()\n",
    "\n",
    "# # fiting model\n",
    "# neigh_fit = neigh_model.fit(X_smote, y_smote)\n",
    "# neigh_predict = neigh_fit.predict(X_valid)\n",
    "\n",
    "# print('Treino\\n')\n",
    "# print(classification_report(y_valid, neigh_predict))\n",
    "# neigh_roc_auc_train = roc_auc_score(y_valid, neigh_predict)\n",
    "# print(f'roc_auc_score: {round(neigh_roc_auc_train, 2)}')\n",
    "# neigh_predict = neigh_fit.predict(X_test)\n",
    "# print()\n",
    "# print()\n",
    "# print('Teste\\n')\n",
    "# print(classification_report(y_test, neigh_predict))\n",
    "# neigh_roc_auc_test = roc_auc_score(y_test, neigh_predict)\n",
    "# print(f'roc_auc_score: {round(neigh_roc_auc_test, 2)}')\n",
    "# neigh_overfiting = neigh_roc_auc_train/neigh_roc_auc_test - 1\n",
    "# print(f'O modelo está overfitando em {round(neigh_overfiting, 2)}%')\n",
    "\n",
    "# # pickle this model\n",
    "# pickle.dump(neigh_fit, open('D:\\\\My Drive\\\\Pessoal\\\\Projetos\\\\insurance_sales_predict\\\\deploy\\\\model\\\\neigh_model.pkl', 'wb'))"
   ]
  },
  {
   "cell_type": "markdown",
   "id": "f8e018f8",
   "metadata": {},
   "source": [
    "# Time"
   ]
  },
  {
   "cell_type": "code",
   "execution_count": 9,
   "id": "d0c113a0",
   "metadata": {
    "scrolled": false
   },
   "outputs": [
    {
     "name": "stdout",
     "output_type": "stream",
     "text": [
      "O tempo de processamento do projeto foi de: 0 minutos\n"
     ]
    }
   ],
   "source": [
    "print(f'O tempo de processamento do projeto foi de: {int(round(time.time()-time_agora, 2)/60)} minutos')"
   ]
  }
 ],
 "metadata": {
  "kernelspec": {
   "display_name": "Python 3 (ipykernel)",
   "language": "python",
   "name": "python3"
  },
  "language_info": {
   "codemirror_mode": {
    "name": "ipython",
    "version": 3
   },
   "file_extension": ".py",
   "mimetype": "text/x-python",
   "name": "python",
   "nbconvert_exporter": "python",
   "pygments_lexer": "ipython3",
   "version": "3.9.7"
  }
 },
 "nbformat": 4,
 "nbformat_minor": 5
}
